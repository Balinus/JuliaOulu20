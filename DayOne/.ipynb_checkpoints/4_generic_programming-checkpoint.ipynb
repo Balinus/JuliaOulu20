{
 "cells": [
  {
   "cell_type": "markdown",
   "metadata": {},
   "source": [
    "# Generic programming"
   ]
  },
  {
   "cell_type": "markdown",
   "metadata": {},
   "source": [
    "From [Wikipedia](https://en.wikipedia.org/wiki/Generic_programming):\n",
    "> **Generic programming** is a style of computer programming in which algorithms are written in terms of types *to-be-specified-later* that are then *instantiated* when needed for specific types provided as parameters."
   ]
  },
  {
   "cell_type": "markdown",
   "metadata": {},
   "source": [
    "# Example: Vandermonde matrix (revisited)"
   ]
  },
  {
   "cell_type": "markdown",
   "metadata": {},
   "source": [
    "[Vandermonde matrix:](https://en.wikipedia.org/wiki/Vandermonde_matrix)\n",
    "\\begin{align}V=\\begin{bmatrix}1&\\alpha _{1}&\\alpha _{1}^{2}&\\dots &\\alpha _{1}^{n-1}\\\\1&\\alpha _{2}&\\alpha _{2}^{2}&\\dots &\\alpha _{2}^{n-1}\\\\1&\\alpha _{3}&\\alpha _{3}^{2}&\\dots &\\alpha _{3}^{n-1}\\\\\\vdots &\\vdots &\\vdots &\\ddots &\\vdots \\\\1&\\alpha _{m}&\\alpha _{m}^{2}&\\dots &\\alpha _{m}^{n-1}\\end{bmatrix}\\end{align}"
   ]
  },
  {
   "cell_type": "markdown",
   "metadata": {},
   "source": [
    "### Keep function argument types generic if possible"
   ]
  },
  {
   "cell_type": "code",
   "execution_count": 1,
   "metadata": {},
   "outputs": [
    {
     "data": {
      "text/plain": [
       "vander_naive (generic function with 1 method)"
      ]
     },
     "execution_count": 1,
     "metadata": {},
     "output_type": "execute_result"
    }
   ],
   "source": [
    "function vander_naive(x::Vector)\n",
    "    m = length(x)\n",
    "    V = Matrix{Float64}(undef, m, m)\n",
    "    for j = 1:m\n",
    "        V[j,1] = 1.0\n",
    "    end\n",
    "    for i= 2:m\n",
    "        for j = 1:m\n",
    "            V[j,i] = x[j] * V[j,i-1]\n",
    "            end\n",
    "        end\n",
    "    return V\n",
    "end"
   ]
  },
  {
   "cell_type": "code",
   "execution_count": 2,
   "metadata": {},
   "outputs": [
    {
     "data": {
      "text/plain": [
       "3×3 Array{Float64,2}:\n",
       " 1.0  0.0332354  0.00110459\n",
       " 1.0  0.577631   0.333658  \n",
       " 1.0  0.711147   0.505731  "
      ]
     },
     "execution_count": 2,
     "metadata": {},
     "output_type": "execute_result"
    }
   ],
   "source": [
    "x = rand(3)\n",
    "vander_naive(x)"
   ]
  },
  {
   "cell_type": "code",
   "execution_count": 3,
   "metadata": {},
   "outputs": [
    {
     "ename": "MethodError",
     "evalue": "MethodError: no method matching vander_naive(::UnitRange{Int64})\nClosest candidates are:\n  vander_naive(!Matched::Array{T,1} where T) at In[1]:2",
     "output_type": "error",
     "traceback": [
      "MethodError: no method matching vander_naive(::UnitRange{Int64})\nClosest candidates are:\n  vander_naive(!Matched::Array{T,1} where T) at In[1]:2",
      "",
      "Stacktrace:",
      " [1] top-level scope at In[3]:1"
     ]
    }
   ],
   "source": [
    "vander_naive(1:3)"
   ]
  },
  {
   "cell_type": "markdown",
   "metadata": {},
   "source": [
    "The annotation `::Vector` in the the function signature is unnecessarily specific."
   ]
  },
  {
   "cell_type": "code",
   "execution_count": 6,
   "metadata": {},
   "outputs": [
    {
     "data": {
      "text/plain": [
       "vander_naive (generic function with 2 methods)"
      ]
     },
     "execution_count": 6,
     "metadata": {},
     "output_type": "execute_result"
    }
   ],
   "source": [
    "function vander_naive(x::AbstractVector)\n",
    "    m = length(x)\n",
    "    V = Matrix{Float64}(undef, m, m)\n",
    "    for j = 1:m\n",
    "        V[j,1] = 1.0\n",
    "    end\n",
    "    for i= 2:m\n",
    "        for j = 1:m\n",
    "            V[j,i] = x[j] * V[j,i-1]\n",
    "            end\n",
    "        end\n",
    "    return V\n",
    "end"
   ]
  },
  {
   "cell_type": "code",
   "execution_count": 7,
   "metadata": {},
   "outputs": [
    {
     "data": {
      "text/plain": [
       "3×3 Array{Float64,2}:\n",
       " 1.0  1.0  1.0\n",
       " 1.0  2.0  4.0\n",
       " 1.0  3.0  9.0"
      ]
     },
     "execution_count": 7,
     "metadata": {},
     "output_type": "execute_result"
    }
   ],
   "source": [
    "vander_naive(1:3)"
   ]
  },
  {
   "cell_type": "markdown",
   "metadata": {},
   "source": [
    "### Avoid explicit typing if possible"
   ]
  },
  {
   "cell_type": "code",
   "execution_count": 8,
   "metadata": {},
   "outputs": [
    {
     "data": {
      "text/plain": [
       "3×3 Array{Float64,2}:\n",
       " 1.0  1.0  1.0\n",
       " 1.0  2.0  4.0\n",
       " 1.0  3.0  9.0"
      ]
     },
     "execution_count": 8,
     "metadata": {},
     "output_type": "execute_result"
    }
   ],
   "source": [
    "vander_naive([1,2,3])"
   ]
  },
  {
   "cell_type": "markdown",
   "metadata": {},
   "source": [
    "Why is the result a matrix of floating point numbers....?\n",
    "\n",
    "Even worse:"
   ]
  },
  {
   "cell_type": "code",
   "execution_count": 9,
   "metadata": {},
   "outputs": [
    {
     "ename": "InexactError",
     "evalue": "InexactError: Float64(0.19095083956748393 + 0.040306722740998335im)",
     "output_type": "error",
     "traceback": [
      "InexactError: Float64(0.19095083956748393 + 0.040306722740998335im)",
      "",
      "Stacktrace:",
      " [1] Real at .\\complex.jl:37 [inlined]",
      " [2] convert at .\\number.jl:7 [inlined]",
      " [3] setindex! at .\\array.jl:784 [inlined]",
      " [4] vander_naive(::Array{Complex{Float64},1}) at .\\In[1]:9",
      " [5] top-level scope at In[9]:1"
     ]
    }
   ],
   "source": [
    "vander_naive(rand(ComplexF64, 3))"
   ]
  },
  {
   "cell_type": "markdown",
   "metadata": {},
   "source": [
    "We can easily cover those cases as well by only slightly modifying our code."
   ]
  },
  {
   "cell_type": "code",
   "execution_count": 10,
   "metadata": {},
   "outputs": [
    {
     "data": {
      "text/plain": [
       "vander_almost_generic (generic function with 1 method)"
      ]
     },
     "execution_count": 10,
     "metadata": {},
     "output_type": "execute_result"
    }
   ],
   "source": [
    "function vander_almost_generic(x::AbstractVector)\n",
    "    T = eltype(x)\n",
    "    m = length(x)\n",
    "    V = Matrix{T}(undef, m, m)\n",
    "    for j = 1:m\n",
    "        V[j,1] = 1.0\n",
    "    end\n",
    "    for i= 2:m\n",
    "        for j = 1:m\n",
    "            V[j,i] = x[j] * V[j,i-1]\n",
    "            end\n",
    "        end\n",
    "    return V\n",
    "end"
   ]
  },
  {
   "cell_type": "code",
   "execution_count": 11,
   "metadata": {},
   "outputs": [
    {
     "data": {
      "text/plain": [
       "3×3 Array{Int64,2}:\n",
       " 1  1  1\n",
       " 1  2  4\n",
       " 1  3  9"
      ]
     },
     "execution_count": 11,
     "metadata": {},
     "output_type": "execute_result"
    }
   ],
   "source": [
    "vander_almost_generic([1,2,3])"
   ]
  },
  {
   "cell_type": "code",
   "execution_count": 12,
   "metadata": {},
   "outputs": [
    {
     "data": {
      "text/plain": [
       "3×3 Array{Complex{Float64},2}:\n",
       " 1.0+0.0im  0.368741+0.848919im   -0.584694+0.626063im\n",
       " 1.0+0.0im  0.175989+0.852729im   -0.696174+0.300142im\n",
       " 1.0+0.0im  0.873702+0.910287im  -0.0652667+1.59064im "
      ]
     },
     "execution_count": 12,
     "metadata": {},
     "output_type": "execute_result"
    }
   ],
   "source": [
    "vander_almost_generic(rand(ComplexF64, 3))"
   ]
  },
  {
   "cell_type": "code",
   "execution_count": 13,
   "metadata": {},
   "outputs": [
    {
     "ename": "MethodError",
     "evalue": "MethodError: Cannot `convert` an object of type Float64 to an object of type String\nClosest candidates are:\n  convert(::Type{T}, !Matched::T) where T<:AbstractString at strings/basic.jl:208\n  convert(::Type{T}, !Matched::AbstractString) where T<:AbstractString at strings/basic.jl:209\n  convert(::Type{T}, !Matched::T) where T at essentials.jl:168",
     "output_type": "error",
     "traceback": [
      "MethodError: Cannot `convert` an object of type Float64 to an object of type String\nClosest candidates are:\n  convert(::Type{T}, !Matched::T) where T<:AbstractString at strings/basic.jl:208\n  convert(::Type{T}, !Matched::AbstractString) where T<:AbstractString at strings/basic.jl:209\n  convert(::Type{T}, !Matched::T) where T at essentials.jl:168",
      "",
      "Stacktrace:",
      " [1] setindex! at .\\array.jl:784 [inlined]",
      " [2] vander_almost_generic(::Array{String,1}) at .\\In[10]:6",
      " [3] top-level scope at In[13]:1"
     ]
    }
   ],
   "source": [
    "vander_almost_generic([\"Stadt\", \"Land\", \"Fluss\"])"
   ]
  },
  {
   "cell_type": "code",
   "execution_count": 14,
   "metadata": {},
   "outputs": [
    {
     "data": {
      "text/plain": [
       "vander_generic (generic function with 1 method)"
      ]
     },
     "execution_count": 14,
     "metadata": {},
     "output_type": "execute_result"
    }
   ],
   "source": [
    "function vander_generic(x::AbstractVector{T}) where T # this is the same as just x::AbstractVector\n",
    "    m = length(x)\n",
    "    V = Matrix{T}(undef, m, m)\n",
    "    for j = 1:m\n",
    "        V[j,1] = one(T)\n",
    "    end\n",
    "    for i= 2:m\n",
    "        for j = 1:m\n",
    "            V[j,i] = x[j] * V[j,i-1]\n",
    "            end\n",
    "        end\n",
    "    return V\n",
    "end"
   ]
  },
  {
   "cell_type": "code",
   "execution_count": 15,
   "metadata": {},
   "outputs": [
    {
     "data": {
      "text/plain": [
       "3×3 Array{String,2}:\n",
       " \"\"  \"Stadt\"  \"StadtStadt\"\n",
       " \"\"  \"Land\"   \"LandLand\"  \n",
       " \"\"  \"Fluss\"  \"FlussFluss\""
      ]
     },
     "execution_count": 15,
     "metadata": {},
     "output_type": "execute_result"
    }
   ],
   "source": [
    "vander_generic([\"Stadt\", \"Land\", \"Fluss\"])"
   ]
  },
  {
   "cell_type": "markdown",
   "metadata": {},
   "source": [
    "One more level of generality, just because we can. :)"
   ]
  },
  {
   "cell_type": "code",
   "execution_count": 16,
   "metadata": {},
   "outputs": [
    {
     "ename": "MethodError",
     "evalue": "MethodError: no method matching one(::Type{Any})\nClosest candidates are:\n  one(::Type{Union{Missing, T}}) where T at missing.jl:105\n  one(!Matched::Type{Missing}) at missing.jl:103\n  one(!Matched::BitArray{2}) at bitarray.jl:400\n  ...",
     "output_type": "error",
     "traceback": [
      "MethodError: no method matching one(::Type{Any})\nClosest candidates are:\n  one(::Type{Union{Missing, T}}) where T at missing.jl:105\n  one(!Matched::Type{Missing}) at missing.jl:103\n  one(!Matched::BitArray{2}) at bitarray.jl:400\n  ...",
      "",
      "Stacktrace:",
      " [1] one(::Type{Any}) at .\\missing.jl:105",
      " [2] vander_generic(::Array{Any,1}) at .\\In[14]:5",
      " [3] top-level scope at In[16]:1"
     ]
    }
   ],
   "source": [
    "vander_generic([3, \"Stadt\", 4 + 5im])"
   ]
  },
  {
   "cell_type": "code",
   "execution_count": 17,
   "metadata": {},
   "outputs": [
    {
     "data": {
      "text/plain": [
       "vander_supergeneric (generic function with 1 method)"
      ]
     },
     "execution_count": 17,
     "metadata": {},
     "output_type": "execute_result"
    }
   ],
   "source": [
    "function vander_supergeneric(x::AbstractVector{T}) where T\n",
    "    m = length(x)\n",
    "    V = Matrix{T}(undef, m, m)\n",
    "    for j = 1:m\n",
    "        V[j,1] = one(x[j])\n",
    "    end\n",
    "    for i= 2:m\n",
    "        for j = 1:m\n",
    "            V[j,i] = x[j] * V[j,i-1]\n",
    "            end\n",
    "        end\n",
    "    return V\n",
    "end"
   ]
  },
  {
   "cell_type": "code",
   "execution_count": 18,
   "metadata": {},
   "outputs": [
    {
     "data": {
      "text/plain": [
       "3×3 Array{Any,2}:\n",
       "  1      3           9            \n",
       "   \"\"     \"Stadt\"     \"StadtStadt\"\n",
       " 1+0im  4+5im      -9+40im        "
      ]
     },
     "execution_count": 18,
     "metadata": {},
     "output_type": "execute_result"
    }
   ],
   "source": [
    "vander_supergeneric([3, \"Stadt\", 4 + 5im])"
   ]
  },
  {
   "cell_type": "markdown",
   "metadata": {},
   "source": [
    "### And all of this comes at no performance penality"
   ]
  },
  {
   "cell_type": "code",
   "execution_count": 19,
   "metadata": {},
   "outputs": [],
   "source": [
    "using BenchmarkTools"
   ]
  },
  {
   "cell_type": "code",
   "execution_count": 20,
   "metadata": {},
   "outputs": [
    {
     "name": "stdout",
     "output_type": "stream",
     "text": [
      "  16.400 μs (2 allocations: 78.20 KiB)\n",
      "  14.300 μs (2 allocations: 78.20 KiB)\n"
     ]
    }
   ],
   "source": [
    "x = rand(Float64, 100);\n",
    "@btime vander_naive($x);\n",
    "@btime vander_supergeneric($x);"
   ]
  },
  {
   "cell_type": "markdown",
   "metadata": {},
   "source": [
    "Actually, for this specific example **our generic code is faster** in a few cases inasmuch as type conversions are unnecessary."
   ]
  },
  {
   "cell_type": "code",
   "execution_count": 21,
   "metadata": {},
   "outputs": [
    {
     "name": "stdout",
     "output_type": "stream",
     "text": [
      "  16.500 μs (2 allocations: 78.20 KiB)\n",
      "  14.201 μs (2 allocations: 78.20 KiB)\n"
     ]
    }
   ],
   "source": [
    "x = rand(Int, 100);\n",
    "@btime vander_naive($x);\n",
    "@btime vander_supergeneric($x);"
   ]
  },
  {
   "cell_type": "code",
   "execution_count": 23,
   "metadata": {},
   "outputs": [
    {
     "name": "stdout",
     "output_type": "stream",
     "text": [
      "  16.700 μs (2 allocations: 78.20 KiB)\n",
      "  10.600 μs (1 allocation: 9.94 KiB)\n"
     ]
    }
   ],
   "source": [
    "x = rand(Bool, 100);\n",
    "@btime vander_naive($x);\n",
    "@btime vander_supergeneric($x);"
   ]
  },
  {
   "cell_type": "markdown",
   "metadata": {},
   "source": [
    "On the other hand, sometimes it is worth converting to a different type to dispatch to a faster method or to utilize magic like compiler optimizations."
   ]
  },
  {
   "cell_type": "code",
   "execution_count": 24,
   "metadata": {},
   "outputs": [
    {
     "name": "stdout",
     "output_type": "stream",
     "text": [
      "  15.999 μs (2 allocations: 78.20 KiB)\n",
      "  33.199 μs (2 allocations: 39.14 KiB)\n"
     ]
    }
   ],
   "source": [
    "x = rand(Float32, 100);\n",
    "@btime vander_naive($x);\n",
    "@btime vander_supergeneric($x);"
   ]
  },
  {
   "cell_type": "markdown",
   "metadata": {},
   "source": [
    "# Arbitrary precision computations"
   ]
  },
  {
   "cell_type": "markdown",
   "metadata": {},
   "source": [
    "Let's say you have implemented the following crazily complex physics code as part of your thesis project which takes in a number and spits out the answer to life, the universe, and everything."
   ]
  },
  {
   "cell_type": "code",
   "execution_count": 25,
   "metadata": {},
   "outputs": [
    {
     "data": {
      "text/plain": [
       "answer_to_life_universe_and_everything (generic function with 1 method)"
      ]
     },
     "execution_count": 25,
     "metadata": {},
     "output_type": "execute_result"
    }
   ],
   "source": [
    "function answer_to_life_universe_and_everything(x::Integer)\n",
    "    m = sin((2*x)^100)\n",
    "    c = 42\n",
    "    E = m*c^2\n",
    "    a = sqrt(abs(E))\n",
    "    b = atan(m)\n",
    "    c = a^2 + b^2\n",
    "    answer = sqrt(1764)/(1+exp(-c))\n",
    "end"
   ]
  },
  {
   "cell_type": "code",
   "execution_count": 26,
   "metadata": {},
   "outputs": [
    {
     "data": {
      "text/plain": [
       "21.0"
      ]
     },
     "execution_count": 26,
     "metadata": {},
     "output_type": "execute_result"
    }
   ],
   "source": [
    "answer_to_life_universe_and_everything(2)"
   ]
  },
  {
   "cell_type": "markdown",
   "metadata": {},
   "source": [
    "Alright, apparently the answer is 21!\n",
    "\n",
    "The author: \"I checked the code multiple times, it is correct. So let's publish.\""
   ]
  },
  {
   "cell_type": "markdown",
   "metadata": {},
   "source": [
    "Without changing a line of code we can check the *correctness* (in the numerical sense) of our result using [arbitrary precision arithmetics](https://docs.julialang.org/en/latest/manual/integers-and-floating-point-numbers/#Arbitrary-Precision-Arithmetic-1)."
   ]
  },
  {
   "cell_type": "code",
   "execution_count": 27,
   "metadata": {},
   "outputs": [
    {
     "data": {
      "text/plain": [
       "2"
      ]
     },
     "execution_count": 27,
     "metadata": {},
     "output_type": "execute_result"
    }
   ],
   "source": [
    "big(2)"
   ]
  },
  {
   "cell_type": "code",
   "execution_count": 28,
   "metadata": {},
   "outputs": [
    {
     "data": {
      "text/plain": [
       "BigInt"
      ]
     },
     "execution_count": 28,
     "metadata": {},
     "output_type": "execute_result"
    }
   ],
   "source": [
    "typeof(big(2))"
   ]
  },
  {
   "cell_type": "code",
   "execution_count": 29,
   "metadata": {},
   "outputs": [
    {
     "data": {
      "text/plain": [
       "42.0"
      ]
     },
     "execution_count": 29,
     "metadata": {},
     "output_type": "execute_result"
    }
   ],
   "source": [
    "answer_to_life_universe_and_everything(big(2))"
   ]
  },
  {
   "cell_type": "markdown",
   "metadata": {},
   "source": [
    "# Let's get a bit more fancy!"
   ]
  },
  {
   "cell_type": "code",
   "execution_count": 2,
   "metadata": {},
   "outputs": [
    {
     "data": {
      "text/html": [
       "<script>\n",
       "// Immediately-invoked-function-expression to avoid global variables.\n",
       "(function() {\n",
       "    var warning_div = document.getElementById(\"webio-warning-6337506496904379747\");\n",
       "    var hide = function () {\n",
       "        var script = document.getElementById(\"webio-setup-1505508883241405672\");\n",
       "        var parent = script && script.parentElement;\n",
       "        var grandparent = parent && parent.parentElement;\n",
       "        if (grandparent) {\n",
       "            grandparent.style.display = \"none\";\n",
       "        }\n",
       "        warning_div.style.display = \"none\";\n",
       "    };\n",
       "    if (typeof Jupyter !== \"undefined\") {\n",
       "        console.log(\"WebIO detected Jupyter notebook environment.\");\n",
       "        // Jupyter notebook.\n",
       "        var extensions = (\n",
       "            Jupyter\n",
       "            && Jupyter.notebook.config.data\n",
       "            && Jupyter.notebook.config.data.load_extensions\n",
       "        );\n",
       "        if (extensions && extensions[\"webio-jupyter-notebook\"]) {\n",
       "            // Extension already loaded.\n",
       "            console.log(\"Jupyter WebIO nbextension detected; not loading ad-hoc.\");\n",
       "            hide();\n",
       "            return;\n",
       "        }\n",
       "    } else if (window.location.pathname.includes(\"/lab\")) {\n",
       "        // Guessing JupyterLa\n",
       "        console.log(\"Jupyter Lab detected; make sure the @webio/jupyter-lab-provider labextension is installed.\");\n",
       "        hide();\n",
       "        return;\n",
       "    }\n",
       "})();\n",
       "\n",
       "</script>\n",
       "<p\n",
       "    id=\"webio-warning-6337506496904379747\"\n",
       "    class=\"output_text output_stderr\"\n",
       "    style=\"padding: 1em; font-weight: bold;\"\n",
       ">\n",
       "    Unable to load WebIO. Please make sure WebIO works for your Jupyter client.\n",
       "    For troubleshooting, please see <a href=\"https://juliagizmos.github.io/WebIO.jl/latest/providers/ijulia/\">\n",
       "    the WebIO/IJulia documentation</a>.\n",
       "    <!-- TODO: link to installation docs. -->\n",
       "</p>\n"
      ],
      "text/plain": [
       "HTML{String}(\"<script>\\n// Immediately-invoked-function-expression to avoid global variables.\\n(function() {\\n    var warning_div = document.getElementById(\\\"webio-warning-6337506496904379747\\\");\\n    var hide = function () {\\n        var script = document.getElementById(\\\"webio-setup-1505508883241405672\\\");\\n        var parent = script && script.parentElement;\\n        var grandparent = parent && parent.parentElement;\\n        if (grandparent) {\\n            grandparent.style.display = \\\"none\\\";\\n        }\\n        warning_div.style.display = \\\"none\\\";\\n    };\\n    if (typeof Jupyter !== \\\"undefined\\\") {\\n        console.log(\\\"WebIO detected Jupyter notebook environment.\\\");\\n        // Jupyter notebook.\\n        var extensions = (\\n            Jupyter\\n            && Jupyter.notebook.config.data\\n            && Jupyter.notebook.config.data.load_extensions\\n        );\\n        if (extensions && extensions[\\\"webio-jupyter-notebook\\\"]) {\\n            // Extension already loaded.\\n            console.log(\\\"Jupyter WebIO nbextension detected; not loading ad-hoc.\\\");\\n            hide();\\n            return;\\n        }\\n    } else if (window.location.pathname.includes(\\\"/lab\\\")) {\\n        // Guessing JupyterLa\\n        console.log(\\\"Jupyter Lab detected; make sure the @webio/jupyter-lab-provider labextension is installed.\\\");\\n        hide();\\n        return;\\n    }\\n})();\\n\\n</script>\\n<p\\n    id=\\\"webio-warning-6337506496904379747\\\"\\n    class=\\\"output_text output_stderr\\\"\\n    style=\\\"padding: 1em; font-weight: bold;\\\"\\n>\\n    Unable to load WebIO. Please make sure WebIO works for your Jupyter client.\\n    For troubleshooting, please see <a href=\\\"https://juliagizmos.github.io/WebIO.jl/latest/providers/ijulia/\\\">\\n    the WebIO/IJulia documentation</a>.\\n    <!-- TODO: link to installation docs. -->\\n</p>\\n\")"
      ]
     },
     "metadata": {},
     "output_type": "display_data"
    }
   ],
   "source": [
    "using Interact"
   ]
  },
  {
   "cell_type": "code",
   "execution_count": 3,
   "metadata": {},
   "outputs": [
    {
     "data": {
      "application/vnd.webio.node+json": {
       "children": [
        {
         "children": [
          {
           "children": [
            {
             "children": [
              {
               "children": [
                {
                 "children": [
                  "n"
                 ],
                 "instanceArgs": {
                  "namespace": "html",
                  "tag": "label"
                 },
                 "nodeType": "DOM",
                 "props": {
                  "className": "interact ",
                  "style": {
                   "padding": "5px 10px 0px 10px"
                  }
                 },
                 "type": "node"
                }
               ],
               "instanceArgs": {
                "namespace": "html",
                "tag": "div"
               },
               "nodeType": "DOM",
               "props": {
                "className": "interact-flex-row-left"
               },
               "type": "node"
              },
              {
               "children": [
                {
                 "children": [],
                 "instanceArgs": {
                  "namespace": "html",
                  "tag": "input"
                 },
                 "nodeType": "DOM",
                 "props": {
                  "attributes": {
                   "data-bind": "numericValue: index, valueUpdate: 'input', event: {change: function (){this.changes(this.changes()+1)}}",
                   "orient": "horizontal",
                   "type": "range"
                  },
                  "className": "slider slider is-fullwidth",
                  "max": 20,
                  "min": 1,
                  "step": 1,
                  "style": {}
                 },
                 "type": "node"
                }
               ],
               "instanceArgs": {
                "namespace": "html",
                "tag": "div"
               },
               "nodeType": "DOM",
               "props": {
                "className": "interact-flex-row-center"
               },
               "type": "node"
              },
              {
               "children": [
                {
                 "children": [],
                 "instanceArgs": {
                  "namespace": "html",
                  "tag": "p"
                 },
                 "nodeType": "DOM",
                 "props": {
                  "attributes": {
                   "data-bind": "text: formatted_val"
                  }
                 },
                 "type": "node"
                }
               ],
               "instanceArgs": {
                "namespace": "html",
                "tag": "div"
               },
               "nodeType": "DOM",
               "props": {
                "className": "interact-flex-row-right"
               },
               "type": "node"
              }
             ],
             "instanceArgs": {
              "namespace": "html",
              "tag": "div"
             },
             "nodeType": "DOM",
             "props": {
              "className": "interact-flex-row interact-widget"
             },
             "type": "node"
            }
           ],
           "instanceArgs": {
            "handlers": {
             "changes": [
              "(function (val){return (val!=this.model[\"changes\"]()) ? (this.valueFromJulia[\"changes\"]=true, this.model[\"changes\"](val)) : undefined})"
             ],
             "index": [
              "(function (val){return (val!=this.model[\"index\"]()) ? (this.valueFromJulia[\"index\"]=true, this.model[\"index\"](val)) : undefined})"
             ]
            },
            "id": "17910233112321712320",
            "imports": {
             "data": [
              {
               "name": "knockout",
               "type": "js",
               "url": "/assetserver/06b5713f7394e9c781d3d3143d6fd532e7f814ce-knockout.js"
              },
              {
               "name": "knockout_punches",
               "type": "js",
               "url": "/assetserver/695de4db56dde9805b672fe778fb2fc752e9b632-knockout_punches.js"
              },
              {
               "name": null,
               "type": "js",
               "url": "/assetserver/34429b1bda68384beb0ffa7f95387ae5c749ead8-all.js"
              },
              {
               "name": null,
               "type": "css",
               "url": "/assetserver/c419a6b294b1a5dd89a2e1c98ad5b129fc32f27a-style.css"
              },
              {
               "name": null,
               "type": "css",
               "url": "/assetserver/d5ba1dfd4729f8c7abf4feafae3421b6e556899d-bulma_confined.min.css"
              }
             ],
             "type": "async_block"
            },
            "mount_callbacks": [
             "function () {\n    var handler = (function (ko, koPunches) {\n    ko.punches.enableAll();\n    ko.bindingHandlers.numericValue = {\n        init: function(element, valueAccessor, allBindings, data, context) {\n            var stringified = ko.observable(ko.unwrap(valueAccessor()));\n            stringified.subscribe(function(value) {\n                var val = parseFloat(value);\n                if (!isNaN(val)) {\n                    valueAccessor()(val);\n                }\n            });\n            valueAccessor().subscribe(function(value) {\n                var str = JSON.stringify(value);\n                if ((str == \"0\") && ([\"-0\", \"-0.\"].indexOf(stringified()) >= 0))\n                     return;\n                 if ([\"null\", \"\"].indexOf(str) >= 0)\n                     return;\n                stringified(str);\n            });\n            ko.applyBindingsToNode(\n                element,\n                {\n                    value: stringified,\n                    valueUpdate: allBindings.get('valueUpdate'),\n                },\n                context,\n            );\n        }\n    };\n    var json_data = {\"formatted_vals\":[\"1\",\"2\",\"3\",\"4\",\"5\",\"6\",\"7\",\"8\",\"9\",\"10\",\"11\",\"12\",\"13\",\"14\",\"15\",\"16\",\"17\",\"18\",\"19\",\"20\"],\"changes\":WebIO.getval({\"name\":\"changes\",\"scope\":\"17910233112321712320\",\"id\":\"ob_02\",\"type\":\"observable\"}),\"index\":WebIO.getval({\"name\":\"index\",\"scope\":\"17910233112321712320\",\"id\":\"ob_01\",\"type\":\"observable\"})};\n    var self = this;\n    function AppViewModel() {\n        for (var key in json_data) {\n            var el = json_data[key];\n            this[key] = Array.isArray(el) ? ko.observableArray(el) : ko.observable(el);\n        }\n        \n        [this[\"formatted_val\"]=ko.computed(    function(){\n        return this.formatted_vals()[parseInt(this.index())-(1)];\n    }\n,this)]\n        [this[\"changes\"].subscribe((function (val){!(this.valueFromJulia[\"changes\"]) ? (WebIO.setval({\"name\":\"changes\",\"scope\":\"17910233112321712320\",\"id\":\"ob_02\",\"type\":\"observable\"},val)) : undefined; return this.valueFromJulia[\"changes\"]=false}),self),this[\"index\"].subscribe((function (val){!(this.valueFromJulia[\"index\"]) ? (WebIO.setval({\"name\":\"index\",\"scope\":\"17910233112321712320\",\"id\":\"ob_01\",\"type\":\"observable\"},val)) : undefined; return this.valueFromJulia[\"index\"]=false}),self)]\n        \n    }\n    self.model = new AppViewModel();\n    self.valueFromJulia = {};\n    for (var key in json_data) {\n        self.valueFromJulia[key] = false;\n    }\n    ko.applyBindings(self.model, self.dom);\n}\n);\n    (WebIO.importBlock({\"data\":[{\"name\":\"knockout\",\"type\":\"js\",\"url\":\"/assetserver/06b5713f7394e9c781d3d3143d6fd532e7f814ce-knockout.js\"},{\"name\":\"knockout_punches\",\"type\":\"js\",\"url\":\"/assetserver/695de4db56dde9805b672fe778fb2fc752e9b632-knockout_punches.js\"}],\"type\":\"async_block\"})).then((imports) => handler.apply(this, imports));\n}\n"
            ],
            "observables": {
             "changes": {
              "id": "ob_02",
              "sync": false,
              "value": 0
             },
             "index": {
              "id": "ob_01",
              "sync": true,
              "value": 10
             }
            },
            "systemjs_options": null
           },
           "nodeType": "Scope",
           "props": {},
           "type": "node"
          }
         ],
         "instanceArgs": {
          "namespace": "html",
          "tag": "div"
         },
         "nodeType": "DOM",
         "props": {
          "className": "field interact-widget"
         },
         "type": "node"
        },
        {
         "children": [
          {
           "children": [],
           "instanceArgs": {
            "id": "ob_08",
            "name": "obs-node"
           },
           "nodeType": "ObservableNode",
           "props": {},
           "type": "node"
          }
         ],
         "instanceArgs": {
          "handlers": {},
          "id": "801370543178755248",
          "imports": {
           "data": [],
           "type": "async_block"
          },
          "mount_callbacks": [],
          "observables": {
           "obs-node": {
            "id": "ob_08",
            "sync": false,
            "value": {
             "children": [
              {
               "children": [],
               "instanceArgs": {
                "namespace": "html",
                "tag": "div"
               },
               "nodeType": "DOM",
               "props": {
                "setInnerHtml": "<pre>10×10 Array{Int64,2}:\n  1   2   3   4   5   6   7   8   9   10\n  2   4   6   8  10  12  14  16  18   20\n  3   6   9  12  15  18  21  24  27   30\n  4   8  12  16  20  24  28  32  36   40\n  5  10  15  20  25  30  35  40  45   50\n  6  12  18  24  30  36  42  48  54   60\n  7  14  21  28  35  42  49  56  63   70\n  8  16  24  32  40  48  56  64  72   80\n  9  18  27  36  45  54  63  72  81   90\n 10  20  30  40  50  60  70  80  90  100</pre>"
               },
               "type": "node"
              }
             ],
             "instanceArgs": {
              "namespace": "html",
              "tag": "div"
             },
             "nodeType": "DOM",
             "props": {
              "className": "interact-flex-row interact-widget"
             },
             "type": "node"
            }
           }
          },
          "systemjs_options": null
         },
         "nodeType": "Scope",
         "props": {},
         "type": "node"
        }
       ],
       "instanceArgs": {
        "namespace": "html",
        "tag": "div"
       },
       "nodeType": "DOM",
       "props": {},
       "type": "node"
      },
      "text/html": [
       "<div\n",
       "    class=\"webio-mountpoint\"\n",
       "    data-webio-mountpoint=\"9501242843439650069\"\n",
       ">\n",
       "    <script>\n",
       "    if (window.require && require.defined && require.defined(\"nbextensions/webio-jupyter-notebook\")) {\n",
       "        console.log(\"Jupyter WebIO extension detected, not mounting.\");\n",
       "    } else if (window.WebIO) {\n",
       "        WebIO.mount(\n",
       "            document.querySelector('[data-webio-mountpoint=\"9501242843439650069\"]'),\n",
       "            {\"props\":{},\"nodeType\":\"DOM\",\"type\":\"node\",\"instanceArgs\":{\"namespace\":\"html\",\"tag\":\"div\"},\"children\":[{\"props\":{\"className\":\"field interact-widget\"},\"nodeType\":\"DOM\",\"type\":\"node\",\"instanceArgs\":{\"namespace\":\"html\",\"tag\":\"div\"},\"children\":[{\"props\":{},\"nodeType\":\"Scope\",\"type\":\"node\",\"instanceArgs\":{\"imports\":{\"data\":[{\"name\":\"knockout\",\"type\":\"js\",\"url\":\"\\/assetserver\\/06b5713f7394e9c781d3d3143d6fd532e7f814ce-knockout.js\"},{\"name\":\"knockout_punches\",\"type\":\"js\",\"url\":\"\\/assetserver\\/695de4db56dde9805b672fe778fb2fc752e9b632-knockout_punches.js\"},{\"name\":null,\"type\":\"js\",\"url\":\"\\/assetserver\\/34429b1bda68384beb0ffa7f95387ae5c749ead8-all.js\"},{\"name\":null,\"type\":\"css\",\"url\":\"\\/assetserver\\/c419a6b294b1a5dd89a2e1c98ad5b129fc32f27a-style.css\"},{\"name\":null,\"type\":\"css\",\"url\":\"\\/assetserver\\/d5ba1dfd4729f8c7abf4feafae3421b6e556899d-bulma_confined.min.css\"}],\"type\":\"async_block\"},\"id\":\"17910233112321712320\",\"handlers\":{\"changes\":[\"(function (val){return (val!=this.model[\\\"changes\\\"]()) ? (this.valueFromJulia[\\\"changes\\\"]=true, this.model[\\\"changes\\\"](val)) : undefined})\"],\"index\":[\"(function (val){return (val!=this.model[\\\"index\\\"]()) ? (this.valueFromJulia[\\\"index\\\"]=true, this.model[\\\"index\\\"](val)) : undefined})\"]},\"systemjs_options\":null,\"mount_callbacks\":[\"function () {\\n    var handler = (function (ko, koPunches) {\\n    ko.punches.enableAll();\\n    ko.bindingHandlers.numericValue = {\\n        init: function(element, valueAccessor, allBindings, data, context) {\\n            var stringified = ko.observable(ko.unwrap(valueAccessor()));\\n            stringified.subscribe(function(value) {\\n                var val = parseFloat(value);\\n                if (!isNaN(val)) {\\n                    valueAccessor()(val);\\n                }\\n            });\\n            valueAccessor().subscribe(function(value) {\\n                var str = JSON.stringify(value);\\n                if ((str == \\\"0\\\") && ([\\\"-0\\\", \\\"-0.\\\"].indexOf(stringified()) >= 0))\\n                     return;\\n                 if ([\\\"null\\\", \\\"\\\"].indexOf(str) >= 0)\\n                     return;\\n                stringified(str);\\n            });\\n            ko.applyBindingsToNode(\\n                element,\\n                {\\n                    value: stringified,\\n                    valueUpdate: allBindings.get('valueUpdate'),\\n                },\\n                context,\\n            );\\n        }\\n    };\\n    var json_data = {\\\"formatted_vals\\\":[\\\"1\\\",\\\"2\\\",\\\"3\\\",\\\"4\\\",\\\"5\\\",\\\"6\\\",\\\"7\\\",\\\"8\\\",\\\"9\\\",\\\"10\\\",\\\"11\\\",\\\"12\\\",\\\"13\\\",\\\"14\\\",\\\"15\\\",\\\"16\\\",\\\"17\\\",\\\"18\\\",\\\"19\\\",\\\"20\\\"],\\\"changes\\\":WebIO.getval({\\\"name\\\":\\\"changes\\\",\\\"scope\\\":\\\"17910233112321712320\\\",\\\"id\\\":\\\"ob_02\\\",\\\"type\\\":\\\"observable\\\"}),\\\"index\\\":WebIO.getval({\\\"name\\\":\\\"index\\\",\\\"scope\\\":\\\"17910233112321712320\\\",\\\"id\\\":\\\"ob_01\\\",\\\"type\\\":\\\"observable\\\"})};\\n    var self = this;\\n    function AppViewModel() {\\n        for (var key in json_data) {\\n            var el = json_data[key];\\n            this[key] = Array.isArray(el) ? ko.observableArray(el) : ko.observable(el);\\n        }\\n        \\n        [this[\\\"formatted_val\\\"]=ko.computed(    function(){\\n        return this.formatted_vals()[parseInt(this.index())-(1)];\\n    }\\n,this)]\\n        [this[\\\"changes\\\"].subscribe((function (val){!(this.valueFromJulia[\\\"changes\\\"]) ? (WebIO.setval({\\\"name\\\":\\\"changes\\\",\\\"scope\\\":\\\"17910233112321712320\\\",\\\"id\\\":\\\"ob_02\\\",\\\"type\\\":\\\"observable\\\"},val)) : undefined; return this.valueFromJulia[\\\"changes\\\"]=false}),self),this[\\\"index\\\"].subscribe((function (val){!(this.valueFromJulia[\\\"index\\\"]) ? (WebIO.setval({\\\"name\\\":\\\"index\\\",\\\"scope\\\":\\\"17910233112321712320\\\",\\\"id\\\":\\\"ob_01\\\",\\\"type\\\":\\\"observable\\\"},val)) : undefined; return this.valueFromJulia[\\\"index\\\"]=false}),self)]\\n        \\n    }\\n    self.model = new AppViewModel();\\n    self.valueFromJulia = {};\\n    for (var key in json_data) {\\n        self.valueFromJulia[key] = false;\\n    }\\n    ko.applyBindings(self.model, self.dom);\\n}\\n);\\n    (WebIO.importBlock({\\\"data\\\":[{\\\"name\\\":\\\"knockout\\\",\\\"type\\\":\\\"js\\\",\\\"url\\\":\\\"\\/assetserver\\/06b5713f7394e9c781d3d3143d6fd532e7f814ce-knockout.js\\\"},{\\\"name\\\":\\\"knockout_punches\\\",\\\"type\\\":\\\"js\\\",\\\"url\\\":\\\"\\/assetserver\\/695de4db56dde9805b672fe778fb2fc752e9b632-knockout_punches.js\\\"}],\\\"type\\\":\\\"async_block\\\"})).then((imports) => handler.apply(this, imports));\\n}\\n\"],\"observables\":{\"changes\":{\"sync\":false,\"id\":\"ob_02\",\"value\":0},\"index\":{\"sync\":true,\"id\":\"ob_01\",\"value\":10}}},\"children\":[{\"props\":{\"className\":\"interact-flex-row interact-widget\"},\"nodeType\":\"DOM\",\"type\":\"node\",\"instanceArgs\":{\"namespace\":\"html\",\"tag\":\"div\"},\"children\":[{\"props\":{\"className\":\"interact-flex-row-left\"},\"nodeType\":\"DOM\",\"type\":\"node\",\"instanceArgs\":{\"namespace\":\"html\",\"tag\":\"div\"},\"children\":[{\"props\":{\"className\":\"interact \",\"style\":{\"padding\":\"5px 10px 0px 10px\"}},\"nodeType\":\"DOM\",\"type\":\"node\",\"instanceArgs\":{\"namespace\":\"html\",\"tag\":\"label\"},\"children\":[\"n\"]}]},{\"props\":{\"className\":\"interact-flex-row-center\"},\"nodeType\":\"DOM\",\"type\":\"node\",\"instanceArgs\":{\"namespace\":\"html\",\"tag\":\"div\"},\"children\":[{\"props\":{\"max\":20,\"min\":1,\"attributes\":{\"type\":\"range\",\"data-bind\":\"numericValue: index, valueUpdate: 'input', event: {change: function (){this.changes(this.changes()+1)}}\",\"orient\":\"horizontal\"},\"step\":1,\"className\":\"slider slider is-fullwidth\",\"style\":{}},\"nodeType\":\"DOM\",\"type\":\"node\",\"instanceArgs\":{\"namespace\":\"html\",\"tag\":\"input\"},\"children\":[]}]},{\"props\":{\"className\":\"interact-flex-row-right\"},\"nodeType\":\"DOM\",\"type\":\"node\",\"instanceArgs\":{\"namespace\":\"html\",\"tag\":\"div\"},\"children\":[{\"props\":{\"attributes\":{\"data-bind\":\"text: formatted_val\"}},\"nodeType\":\"DOM\",\"type\":\"node\",\"instanceArgs\":{\"namespace\":\"html\",\"tag\":\"p\"},\"children\":[]}]}]}]}]},{\"props\":{},\"nodeType\":\"Scope\",\"type\":\"node\",\"instanceArgs\":{\"imports\":{\"data\":[],\"type\":\"async_block\"},\"id\":\"9601513316911374718\",\"handlers\":{},\"systemjs_options\":null,\"mount_callbacks\":[],\"observables\":{\"obs-node\":{\"sync\":false,\"id\":\"ob_06\",\"value\":{\"props\":{\"className\":\"interact-flex-row interact-widget\"},\"nodeType\":\"DOM\",\"type\":\"node\",\"instanceArgs\":{\"namespace\":\"html\",\"tag\":\"div\"},\"children\":[{\"props\":{\"setInnerHtml\":\"<pre>10×10 Array{Int64,2}:\\n  1   2   3   4   5   6   7   8   9   10\\n  2   4   6   8  10  12  14  16  18   20\\n  3   6   9  12  15  18  21  24  27   30\\n  4   8  12  16  20  24  28  32  36   40\\n  5  10  15  20  25  30  35  40  45   50\\n  6  12  18  24  30  36  42  48  54   60\\n  7  14  21  28  35  42  49  56  63   70\\n  8  16  24  32  40  48  56  64  72   80\\n  9  18  27  36  45  54  63  72  81   90\\n 10  20  30  40  50  60  70  80  90  100<\\/pre>\"},\"nodeType\":\"DOM\",\"type\":\"node\",\"instanceArgs\":{\"namespace\":\"html\",\"tag\":\"div\"},\"children\":[]}]}}}},\"children\":[{\"props\":{},\"nodeType\":\"ObservableNode\",\"type\":\"node\",\"instanceArgs\":{\"id\":\"ob_06\",\"name\":\"obs-node\"},\"children\":[]}]}]},\n",
       "            window,\n",
       "        );\n",
       "    } else {\n",
       "        document\n",
       "            .querySelector('[data-webio-mountpoint=\"9501242843439650069\"]')\n",
       "            .innerHTML = (\n",
       "                '<strong>WebIO not detected. Please read ' +\n",
       "                '<a href=\"https://juliagizmos.github.io/WebIO.jl/latest/troubleshooting/not-detected/\">the troubleshooting guide</a> ' +\n",
       "                'for more information on how to resolve this issue.' +\n",
       "                '</strong>'\n",
       "            );\n",
       "    }\n",
       "    </script>\n",
       "</div>\n"
      ],
      "text/plain": [
       "Node{WebIO.DOM}(WebIO.DOM(:html, :div), Any[Node{WebIO.DOM}(WebIO.DOM(:html, :div), Any[Scope(Node{WebIO.DOM}(WebIO.DOM(:html, :div), Any[Node{WebIO.DOM}(WebIO.DOM(:html, :div), Any[Node{WebIO.DOM}(WebIO.DOM(:html, :label), Any[\"n\"], Dict{Symbol,Any}(:className => \"interact \",:style => Dict{Any,Any}(:padding => \"5px 10px 0px 10px\")))], Dict{Symbol,Any}(:className => \"interact-flex-row-left\")), Node{WebIO.DOM}(WebIO.DOM(:html, :div), Any[Node{WebIO.DOM}(WebIO.DOM(:html, :input), Any[], Dict{Symbol,Any}(:max => 20,:min => 1,:attributes => Dict{Any,Any}(:type => \"range\",Symbol(\"data-bind\") => \"numericValue: index, valueUpdate: 'input', event: {change: function (){this.changes(this.changes()+1)}}\",\"orient\" => \"horizontal\"),:step => 1,:className => \"slider slider is-fullwidth\",:style => Dict{Any,Any}()))], Dict{Symbol,Any}(:className => \"interact-flex-row-center\")), Node{WebIO.DOM}(WebIO.DOM(:html, :div), Any[Node{WebIO.DOM}(WebIO.DOM(:html, :p), Any[], Dict{Symbol,Any}(:attributes => Dict(\"data-bind\" => \"text: formatted_val\")))], Dict{Symbol,Any}(:className => \"interact-flex-row-right\"))], Dict{Symbol,Any}(:className => \"interact-flex-row interact-widget\")), Dict{String,Tuple{Observables.AbstractObservable,Union{Nothing, Bool}}}(\"changes\" => (Observable{Int64} with 1 listeners. Value:\n",
       "0, nothing),\"index\" => (Observable{Int64} with 2 listeners. Value:\n",
       "10, nothing)), Set(String[]), nothing, Asset[Asset(\"js\", \"knockout\", \"C:\\\\Users\\\\carsten\\\\.julia\\\\packages\\\\Knockout\\\\1sDlc\\\\src\\\\..\\\\assets\\\\knockout.js\"), Asset(\"js\", \"knockout_punches\", \"C:\\\\Users\\\\carsten\\\\.julia\\\\packages\\\\Knockout\\\\1sDlc\\\\src\\\\..\\\\assets\\\\knockout_punches.js\"), Asset(\"js\", nothing, \"C:\\\\Users\\\\carsten\\\\.julia\\\\packages\\\\InteractBase\\\\9mFwe\\\\src\\\\..\\\\assets\\\\all.js\"), Asset(\"css\", nothing, \"C:\\\\Users\\\\carsten\\\\.julia\\\\packages\\\\InteractBase\\\\9mFwe\\\\src\\\\..\\\\assets\\\\style.css\"), Asset(\"css\", nothing, \"C:\\\\Users\\\\carsten\\\\.julia\\\\packages\\\\Interact\\\\SbgIk\\\\src\\\\..\\\\assets\\\\bulma_confined.min.css\")], Dict{Any,Any}(\"changes\" => Any[WebIO.JSString(\"(function (val){return (val!=this.model[\\\"changes\\\"]()) ? (this.valueFromJulia[\\\"changes\\\"]=true, this.model[\\\"changes\\\"](val)) : undefined})\")],\"index\" => Any[WebIO.JSString(\"(function (val){return (val!=this.model[\\\"index\\\"]()) ? (this.valueFromJulia[\\\"index\\\"]=true, this.model[\\\"index\\\"](val)) : undefined})\")]), WebIO.ConnectionPool(Channel{Any}(sz_max:32,sz_curr:0), Set(AbstractConnection[]), Base.GenericCondition{Base.AlwaysLockedST}(Base.InvasiveLinkedList{Task}(Task (runnable) @0x0000000022519150, Task (runnable) @0x0000000022519150), Base.AlwaysLockedST(1))), WebIO.JSString[WebIO.JSString(\"function () {\\n    var handler = (function (ko, koPunches) {\\n    ko.punches.enableAll();\\n    ko.bindingHandlers.numericValue = {\\n        init: function(element, valueAccessor, allBindings, data, context) {\\n            var stringified = ko.observable(ko.unwrap(valueAccessor()));\\n            stringified.subscribe(function(value) {\\n                var val = parseFloat(value);\\n                if (!isNaN(val)) {\\n                    valueAccessor()(val);\\n                }\\n            });\\n            valueAccessor().subscribe(function(value) {\\n                var str = JSON.stringify(value);\\n                if ((str == \\\"0\\\") && ([\\\"-0\\\", \\\"-0.\\\"].indexOf(stringified()) >= 0))\\n                     return;\\n                 if ([\\\"null\\\", \\\"\\\"].indexOf(str) >= 0)\\n                     return;\\n                stringified(str);\\n            });\\n            ko.applyBindingsToNode(\\n                element,\\n                {\\n                    value: stringified,\\n                    valueUpdate: allBindings.get('valueUpdate'),\\n                },\\n                context,\\n            );\\n        }\\n    };\\n    var json_data = {\\\"formatted_vals\\\":[\\\"1\\\",\\\"2\\\",\\\"3\\\",\\\"4\\\",\\\"5\\\",\\\"6\\\",\\\"7\\\",\\\"8\\\",\\\"9\\\",\\\"10\\\",\\\"11\\\",\\\"12\\\",\\\"13\\\",\\\"14\\\",\\\"15\\\",\\\"16\\\",\\\"17\\\",\\\"18\\\",\\\"19\\\",\\\"20\\\"],\\\"changes\\\":WebIO.getval({\\\"name\\\":\\\"changes\\\",\\\"scope\\\":\\\"17910233112321712320\\\",\\\"id\\\":\\\"ob_02\\\",\\\"type\\\":\\\"observable\\\"}),\\\"index\\\":WebIO.getval({\\\"name\\\":\\\"index\\\",\\\"scope\\\":\\\"17910233112321712320\\\",\\\"id\\\":\\\"ob_01\\\",\\\"type\\\":\\\"observable\\\"})};\\n    var self = this;\\n    function AppViewModel() {\\n        for (var key in json_data) {\\n            var el = json_data[key];\\n            this[key] = Array.isArray(el) ? ko.observableArray(el) : ko.observable(el);\\n        }\\n        \\n        [this[\\\"formatted_val\\\"]=ko.computed(    function(){\\n        return this.formatted_vals()[parseInt(this.index())-(1)];\\n    }\\n,this)]\\n        [this[\\\"changes\\\"].subscribe((function (val){!(this.valueFromJulia[\\\"changes\\\"]) ? (WebIO.setval({\\\"name\\\":\\\"changes\\\",\\\"scope\\\":\\\"17910233112321712320\\\",\\\"id\\\":\\\"ob_02\\\",\\\"type\\\":\\\"observable\\\"},val)) : undefined; return this.valueFromJulia[\\\"changes\\\"]=false}),self),this[\\\"index\\\"].subscribe((function (val){!(this.valueFromJulia[\\\"index\\\"]) ? (WebIO.setval({\\\"name\\\":\\\"index\\\",\\\"scope\\\":\\\"17910233112321712320\\\",\\\"id\\\":\\\"ob_01\\\",\\\"type\\\":\\\"observable\\\"},val)) : undefined; return this.valueFromJulia[\\\"index\\\"]=false}),self)]\\n        \\n    }\\n    self.model = new AppViewModel();\\n    self.valueFromJulia = {};\\n    for (var key in json_data) {\\n        self.valueFromJulia[key] = false;\\n    }\\n    ko.applyBindings(self.model, self.dom);\\n}\\n);\\n    (WebIO.importBlock({\\\"data\\\":[{\\\"name\\\":\\\"knockout\\\",\\\"type\\\":\\\"js\\\",\\\"url\\\":\\\"/assetserver/06b5713f7394e9c781d3d3143d6fd532e7f814ce-knockout.js\\\"},{\\\"name\\\":\\\"knockout_punches\\\",\\\"type\\\":\\\"js\\\",\\\"url\\\":\\\"/assetserver/695de4db56dde9805b672fe778fb2fc752e9b632-knockout_punches.js\\\"}],\\\"type\\\":\\\"async_block\\\"})).then((imports) => handler.apply(this, imports));\\n}\\n\")])], Dict{Symbol,Any}(:className => \"field interact-widget\")), Observable{Any} with 0 listeners. Value:\n",
       "Node{WebIO.DOM}(WebIO.DOM(:html, :div), Any[[1 2 … 9 10; 2 4 … 18 20; … ; 9 18 … 81 90; 10 20 … 90 100]], Dict{Symbol,Any}(:className => \"interact-flex-row interact-widget\"))], Dict{Symbol,Any}())"
      ]
     },
     "execution_count": 3,
     "metadata": {
      "application/vnd.webio.node+json": {
       "kernelId": null
      }
     },
     "output_type": "execute_result"
    }
   ],
   "source": [
    "@manipulate for n in 1:20\n",
    "    [i*j for i in 1:n, j in 1:n]\n",
    "end"
   ]
  },
  {
   "cell_type": "code",
   "execution_count": 4,
   "metadata": {},
   "outputs": [
    {
     "data": {
      "text/plain": [
       "insert_block (generic function with 2 methods)"
      ]
     },
     "execution_count": 4,
     "metadata": {},
     "output_type": "execute_result"
    }
   ],
   "source": [
    "function insert_block(A::AbstractMatrix, i, j, what=7)\n",
    "    B = copy(A)\n",
    "    B[i:i+2, j:j+2] .= what\n",
    "    B\n",
    "end"
   ]
  },
  {
   "cell_type": "code",
   "execution_count": 5,
   "metadata": {},
   "outputs": [
    {
     "data": {
      "text/plain": [
       "9×9 Array{Int64,2}:\n",
       " 0  0  0  0  0  0  0  0  0\n",
       " 0  0  0  0  0  0  0  0  0\n",
       " 0  0  0  0  7  7  7  0  0\n",
       " 0  0  0  0  7  7  7  0  0\n",
       " 0  0  0  0  7  7  7  0  0\n",
       " 0  0  0  0  0  0  0  0  0\n",
       " 0  0  0  0  0  0  0  0  0\n",
       " 0  0  0  0  0  0  0  0  0\n",
       " 0  0  0  0  0  0  0  0  0"
      ]
     },
     "execution_count": 5,
     "metadata": {},
     "output_type": "execute_result"
    }
   ],
   "source": [
    "A = fill(0, 9, 9)\n",
    "insert_block(A, 3, 5)  # this returns the new matrix"
   ]
  },
  {
   "cell_type": "code",
   "execution_count": 6,
   "metadata": {},
   "outputs": [
    {
     "data": {
      "application/vnd.webio.node+json": {
       "children": [
        {
         "children": [
          {
           "children": [
            {
             "children": [
              {
               "children": [
                {
                 "children": [
                  "i"
                 ],
                 "instanceArgs": {
                  "namespace": "html",
                  "tag": "label"
                 },
                 "nodeType": "DOM",
                 "props": {
                  "className": "interact ",
                  "style": {
                   "padding": "5px 10px 0px 10px"
                  }
                 },
                 "type": "node"
                }
               ],
               "instanceArgs": {
                "namespace": "html",
                "tag": "div"
               },
               "nodeType": "DOM",
               "props": {
                "className": "interact-flex-row-left"
               },
               "type": "node"
              },
              {
               "children": [
                {
                 "children": [],
                 "instanceArgs": {
                  "namespace": "html",
                  "tag": "input"
                 },
                 "nodeType": "DOM",
                 "props": {
                  "attributes": {
                   "data-bind": "numericValue: index, valueUpdate: 'input', event: {change: function (){this.changes(this.changes()+1)}}",
                   "orient": "horizontal",
                   "type": "range"
                  },
                  "className": "slider slider is-fullwidth",
                  "max": 8,
                  "min": 1,
                  "step": 1,
                  "style": {}
                 },
                 "type": "node"
                }
               ],
               "instanceArgs": {
                "namespace": "html",
                "tag": "div"
               },
               "nodeType": "DOM",
               "props": {
                "className": "interact-flex-row-center"
               },
               "type": "node"
              },
              {
               "children": [
                {
                 "children": [],
                 "instanceArgs": {
                  "namespace": "html",
                  "tag": "p"
                 },
                 "nodeType": "DOM",
                 "props": {
                  "attributes": {
                   "data-bind": "text: formatted_val"
                  }
                 },
                 "type": "node"
                }
               ],
               "instanceArgs": {
                "namespace": "html",
                "tag": "div"
               },
               "nodeType": "DOM",
               "props": {
                "className": "interact-flex-row-right"
               },
               "type": "node"
              }
             ],
             "instanceArgs": {
              "namespace": "html",
              "tag": "div"
             },
             "nodeType": "DOM",
             "props": {
              "className": "interact-flex-row interact-widget"
             },
             "type": "node"
            }
           ],
           "instanceArgs": {
            "handlers": {
             "changes": [
              "(function (val){return (val!=this.model[\"changes\"]()) ? (this.valueFromJulia[\"changes\"]=true, this.model[\"changes\"](val)) : undefined})"
             ],
             "index": [
              "(function (val){return (val!=this.model[\"index\"]()) ? (this.valueFromJulia[\"index\"]=true, this.model[\"index\"](val)) : undefined})"
             ]
            },
            "id": "15655709949774158723",
            "imports": {
             "data": [
              {
               "name": "knockout",
               "type": "js",
               "url": "/assetserver/06b5713f7394e9c781d3d3143d6fd532e7f814ce-knockout.js"
              },
              {
               "name": "knockout_punches",
               "type": "js",
               "url": "/assetserver/695de4db56dde9805b672fe778fb2fc752e9b632-knockout_punches.js"
              },
              {
               "name": null,
               "type": "js",
               "url": "/assetserver/34429b1bda68384beb0ffa7f95387ae5c749ead8-all.js"
              },
              {
               "name": null,
               "type": "css",
               "url": "/assetserver/c419a6b294b1a5dd89a2e1c98ad5b129fc32f27a-style.css"
              },
              {
               "name": null,
               "type": "css",
               "url": "/assetserver/d5ba1dfd4729f8c7abf4feafae3421b6e556899d-bulma_confined.min.css"
              }
             ],
             "type": "async_block"
            },
            "mount_callbacks": [
             "function () {\n    var handler = (function (ko, koPunches) {\n    ko.punches.enableAll();\n    ko.bindingHandlers.numericValue = {\n        init: function(element, valueAccessor, allBindings, data, context) {\n            var stringified = ko.observable(ko.unwrap(valueAccessor()));\n            stringified.subscribe(function(value) {\n                var val = parseFloat(value);\n                if (!isNaN(val)) {\n                    valueAccessor()(val);\n                }\n            });\n            valueAccessor().subscribe(function(value) {\n                var str = JSON.stringify(value);\n                if ((str == \"0\") && ([\"-0\", \"-0.\"].indexOf(stringified()) >= 0))\n                     return;\n                 if ([\"null\", \"\"].indexOf(str) >= 0)\n                     return;\n                stringified(str);\n            });\n            ko.applyBindingsToNode(\n                element,\n                {\n                    value: stringified,\n                    valueUpdate: allBindings.get('valueUpdate'),\n                },\n                context,\n            );\n        }\n    };\n    var json_data = {\"formatted_vals\":[\"1\",\"2\",\"3\",\"4\",\"5\",\"6\",\"7\",\"8\"],\"changes\":WebIO.getval({\"name\":\"changes\",\"scope\":\"15655709949774158723\",\"id\":\"ob_10\",\"type\":\"observable\"}),\"index\":WebIO.getval({\"name\":\"index\",\"scope\":\"15655709949774158723\",\"id\":\"ob_09\",\"type\":\"observable\"})};\n    var self = this;\n    function AppViewModel() {\n        for (var key in json_data) {\n            var el = json_data[key];\n            this[key] = Array.isArray(el) ? ko.observableArray(el) : ko.observable(el);\n        }\n        \n        [this[\"formatted_val\"]=ko.computed(    function(){\n        return this.formatted_vals()[parseInt(this.index())-(1)];\n    }\n,this)]\n        [this[\"changes\"].subscribe((function (val){!(this.valueFromJulia[\"changes\"]) ? (WebIO.setval({\"name\":\"changes\",\"scope\":\"15655709949774158723\",\"id\":\"ob_10\",\"type\":\"observable\"},val)) : undefined; return this.valueFromJulia[\"changes\"]=false}),self),this[\"index\"].subscribe((function (val){!(this.valueFromJulia[\"index\"]) ? (WebIO.setval({\"name\":\"index\",\"scope\":\"15655709949774158723\",\"id\":\"ob_09\",\"type\":\"observable\"},val)) : undefined; return this.valueFromJulia[\"index\"]=false}),self)]\n        \n    }\n    self.model = new AppViewModel();\n    self.valueFromJulia = {};\n    for (var key in json_data) {\n        self.valueFromJulia[key] = false;\n    }\n    ko.applyBindings(self.model, self.dom);\n}\n);\n    (WebIO.importBlock({\"data\":[{\"name\":\"knockout\",\"type\":\"js\",\"url\":\"/assetserver/06b5713f7394e9c781d3d3143d6fd532e7f814ce-knockout.js\"},{\"name\":\"knockout_punches\",\"type\":\"js\",\"url\":\"/assetserver/695de4db56dde9805b672fe778fb2fc752e9b632-knockout_punches.js\"}],\"type\":\"async_block\"})).then((imports) => handler.apply(this, imports));\n}\n"
            ],
            "observables": {
             "changes": {
              "id": "ob_10",
              "sync": false,
              "value": 0
             },
             "index": {
              "id": "ob_09",
              "sync": true,
              "value": 4
             }
            },
            "systemjs_options": null
           },
           "nodeType": "Scope",
           "props": {},
           "type": "node"
          }
         ],
         "instanceArgs": {
          "namespace": "html",
          "tag": "div"
         },
         "nodeType": "DOM",
         "props": {
          "className": "field interact-widget"
         },
         "type": "node"
        },
        {
         "children": [
          {
           "children": [
            {
             "children": [
              {
               "children": [
                {
                 "children": [
                  "j"
                 ],
                 "instanceArgs": {
                  "namespace": "html",
                  "tag": "label"
                 },
                 "nodeType": "DOM",
                 "props": {
                  "className": "interact ",
                  "style": {
                   "padding": "5px 10px 0px 10px"
                  }
                 },
                 "type": "node"
                }
               ],
               "instanceArgs": {
                "namespace": "html",
                "tag": "div"
               },
               "nodeType": "DOM",
               "props": {
                "className": "interact-flex-row-left"
               },
               "type": "node"
              },
              {
               "children": [
                {
                 "children": [],
                 "instanceArgs": {
                  "namespace": "html",
                  "tag": "input"
                 },
                 "nodeType": "DOM",
                 "props": {
                  "attributes": {
                   "data-bind": "numericValue: index, valueUpdate: 'input', event: {change: function (){this.changes(this.changes()+1)}}",
                   "orient": "horizontal",
                   "type": "range"
                  },
                  "className": "slider slider is-fullwidth",
                  "max": 8,
                  "min": 1,
                  "step": 1,
                  "style": {}
                 },
                 "type": "node"
                }
               ],
               "instanceArgs": {
                "namespace": "html",
                "tag": "div"
               },
               "nodeType": "DOM",
               "props": {
                "className": "interact-flex-row-center"
               },
               "type": "node"
              },
              {
               "children": [
                {
                 "children": [],
                 "instanceArgs": {
                  "namespace": "html",
                  "tag": "p"
                 },
                 "nodeType": "DOM",
                 "props": {
                  "attributes": {
                   "data-bind": "text: formatted_val"
                  }
                 },
                 "type": "node"
                }
               ],
               "instanceArgs": {
                "namespace": "html",
                "tag": "div"
               },
               "nodeType": "DOM",
               "props": {
                "className": "interact-flex-row-right"
               },
               "type": "node"
              }
             ],
             "instanceArgs": {
              "namespace": "html",
              "tag": "div"
             },
             "nodeType": "DOM",
             "props": {
              "className": "interact-flex-row interact-widget"
             },
             "type": "node"
            }
           ],
           "instanceArgs": {
            "handlers": {
             "changes": [
              "(function (val){return (val!=this.model[\"changes\"]()) ? (this.valueFromJulia[\"changes\"]=true, this.model[\"changes\"](val)) : undefined})"
             ],
             "index": [
              "(function (val){return (val!=this.model[\"index\"]()) ? (this.valueFromJulia[\"index\"]=true, this.model[\"index\"](val)) : undefined})"
             ]
            },
            "id": "8570670303012263838",
            "imports": {
             "data": [
              {
               "name": "knockout",
               "type": "js",
               "url": "/assetserver/06b5713f7394e9c781d3d3143d6fd532e7f814ce-knockout.js"
              },
              {
               "name": "knockout_punches",
               "type": "js",
               "url": "/assetserver/695de4db56dde9805b672fe778fb2fc752e9b632-knockout_punches.js"
              },
              {
               "name": null,
               "type": "js",
               "url": "/assetserver/34429b1bda68384beb0ffa7f95387ae5c749ead8-all.js"
              },
              {
               "name": null,
               "type": "css",
               "url": "/assetserver/c419a6b294b1a5dd89a2e1c98ad5b129fc32f27a-style.css"
              },
              {
               "name": null,
               "type": "css",
               "url": "/assetserver/d5ba1dfd4729f8c7abf4feafae3421b6e556899d-bulma_confined.min.css"
              }
             ],
             "type": "async_block"
            },
            "mount_callbacks": [
             "function () {\n    var handler = (function (ko, koPunches) {\n    ko.punches.enableAll();\n    ko.bindingHandlers.numericValue = {\n        init: function(element, valueAccessor, allBindings, data, context) {\n            var stringified = ko.observable(ko.unwrap(valueAccessor()));\n            stringified.subscribe(function(value) {\n                var val = parseFloat(value);\n                if (!isNaN(val)) {\n                    valueAccessor()(val);\n                }\n            });\n            valueAccessor().subscribe(function(value) {\n                var str = JSON.stringify(value);\n                if ((str == \"0\") && ([\"-0\", \"-0.\"].indexOf(stringified()) >= 0))\n                     return;\n                 if ([\"null\", \"\"].indexOf(str) >= 0)\n                     return;\n                stringified(str);\n            });\n            ko.applyBindingsToNode(\n                element,\n                {\n                    value: stringified,\n                    valueUpdate: allBindings.get('valueUpdate'),\n                },\n                context,\n            );\n        }\n    };\n    var json_data = {\"formatted_vals\":[\"1\",\"2\",\"3\",\"4\",\"5\",\"6\",\"7\",\"8\"],\"changes\":WebIO.getval({\"name\":\"changes\",\"scope\":\"8570670303012263838\",\"id\":\"ob_12\",\"type\":\"observable\"}),\"index\":WebIO.getval({\"name\":\"index\",\"scope\":\"8570670303012263838\",\"id\":\"ob_11\",\"type\":\"observable\"})};\n    var self = this;\n    function AppViewModel() {\n        for (var key in json_data) {\n            var el = json_data[key];\n            this[key] = Array.isArray(el) ? ko.observableArray(el) : ko.observable(el);\n        }\n        \n        [this[\"formatted_val\"]=ko.computed(    function(){\n        return this.formatted_vals()[parseInt(this.index())-(1)];\n    }\n,this)]\n        [this[\"changes\"].subscribe((function (val){!(this.valueFromJulia[\"changes\"]) ? (WebIO.setval({\"name\":\"changes\",\"scope\":\"8570670303012263838\",\"id\":\"ob_12\",\"type\":\"observable\"},val)) : undefined; return this.valueFromJulia[\"changes\"]=false}),self),this[\"index\"].subscribe((function (val){!(this.valueFromJulia[\"index\"]) ? (WebIO.setval({\"name\":\"index\",\"scope\":\"8570670303012263838\",\"id\":\"ob_11\",\"type\":\"observable\"},val)) : undefined; return this.valueFromJulia[\"index\"]=false}),self)]\n        \n    }\n    self.model = new AppViewModel();\n    self.valueFromJulia = {};\n    for (var key in json_data) {\n        self.valueFromJulia[key] = false;\n    }\n    ko.applyBindings(self.model, self.dom);\n}\n);\n    (WebIO.importBlock({\"data\":[{\"name\":\"knockout\",\"type\":\"js\",\"url\":\"/assetserver/06b5713f7394e9c781d3d3143d6fd532e7f814ce-knockout.js\"},{\"name\":\"knockout_punches\",\"type\":\"js\",\"url\":\"/assetserver/695de4db56dde9805b672fe778fb2fc752e9b632-knockout_punches.js\"}],\"type\":\"async_block\"})).then((imports) => handler.apply(this, imports));\n}\n"
            ],
            "observables": {
             "changes": {
              "id": "ob_12",
              "sync": false,
              "value": 0
             },
             "index": {
              "id": "ob_11",
              "sync": true,
              "value": 4
             }
            },
            "systemjs_options": null
           },
           "nodeType": "Scope",
           "props": {},
           "type": "node"
          }
         ],
         "instanceArgs": {
          "namespace": "html",
          "tag": "div"
         },
         "nodeType": "DOM",
         "props": {
          "className": "field interact-widget"
         },
         "type": "node"
        },
        {
         "children": [
          {
           "children": [],
           "instanceArgs": {
            "id": "ob_18",
            "name": "obs-node"
           },
           "nodeType": "ObservableNode",
           "props": {},
           "type": "node"
          }
         ],
         "instanceArgs": {
          "handlers": {},
          "id": "14820914013760448641",
          "imports": {
           "data": [],
           "type": "async_block"
          },
          "mount_callbacks": [],
          "observables": {
           "obs-node": {
            "id": "ob_18",
            "sync": false,
            "value": {
             "children": [
              {
               "children": [],
               "instanceArgs": {
                "namespace": "html",
                "tag": "div"
               },
               "nodeType": "DOM",
               "props": {
                "setInnerHtml": "<pre>10×10 Array{Int64,2}:\n 0  0  0  0  0  0  0  0  0  0\n 0  0  0  0  0  0  0  0  0  0\n 0  0  0  0  0  0  0  0  0  0\n 0  0  0  7  7  7  0  0  0  0\n 0  0  0  7  7  7  0  0  0  0\n 0  0  0  7  7  7  0  0  0  0\n 0  0  0  0  0  0  0  0  0  0\n 0  0  0  0  0  0  0  0  0  0\n 0  0  0  0  0  0  0  0  0  0\n 0  0  0  0  0  0  0  0  0  0</pre>"
               },
               "type": "node"
              }
             ],
             "instanceArgs": {
              "namespace": "html",
              "tag": "div"
             },
             "nodeType": "DOM",
             "props": {
              "className": "interact-flex-row interact-widget"
             },
             "type": "node"
            }
           }
          },
          "systemjs_options": null
         },
         "nodeType": "Scope",
         "props": {},
         "type": "node"
        }
       ],
       "instanceArgs": {
        "namespace": "html",
        "tag": "div"
       },
       "nodeType": "DOM",
       "props": {},
       "type": "node"
      },
      "text/html": [
       "<div\n",
       "    class=\"webio-mountpoint\"\n",
       "    data-webio-mountpoint=\"4631771951469240673\"\n",
       ">\n",
       "    <script>\n",
       "    if (window.require && require.defined && require.defined(\"nbextensions/webio-jupyter-notebook\")) {\n",
       "        console.log(\"Jupyter WebIO extension detected, not mounting.\");\n",
       "    } else if (window.WebIO) {\n",
       "        WebIO.mount(\n",
       "            document.querySelector('[data-webio-mountpoint=\"4631771951469240673\"]'),\n",
       "            {\"props\":{},\"nodeType\":\"DOM\",\"type\":\"node\",\"instanceArgs\":{\"namespace\":\"html\",\"tag\":\"div\"},\"children\":[{\"props\":{\"className\":\"field interact-widget\"},\"nodeType\":\"DOM\",\"type\":\"node\",\"instanceArgs\":{\"namespace\":\"html\",\"tag\":\"div\"},\"children\":[{\"props\":{},\"nodeType\":\"Scope\",\"type\":\"node\",\"instanceArgs\":{\"imports\":{\"data\":[{\"name\":\"knockout\",\"type\":\"js\",\"url\":\"\\/assetserver\\/06b5713f7394e9c781d3d3143d6fd532e7f814ce-knockout.js\"},{\"name\":\"knockout_punches\",\"type\":\"js\",\"url\":\"\\/assetserver\\/695de4db56dde9805b672fe778fb2fc752e9b632-knockout_punches.js\"},{\"name\":null,\"type\":\"js\",\"url\":\"\\/assetserver\\/34429b1bda68384beb0ffa7f95387ae5c749ead8-all.js\"},{\"name\":null,\"type\":\"css\",\"url\":\"\\/assetserver\\/c419a6b294b1a5dd89a2e1c98ad5b129fc32f27a-style.css\"},{\"name\":null,\"type\":\"css\",\"url\":\"\\/assetserver\\/d5ba1dfd4729f8c7abf4feafae3421b6e556899d-bulma_confined.min.css\"}],\"type\":\"async_block\"},\"id\":\"15655709949774158723\",\"handlers\":{\"changes\":[\"(function (val){return (val!=this.model[\\\"changes\\\"]()) ? (this.valueFromJulia[\\\"changes\\\"]=true, this.model[\\\"changes\\\"](val)) : undefined})\"],\"index\":[\"(function (val){return (val!=this.model[\\\"index\\\"]()) ? (this.valueFromJulia[\\\"index\\\"]=true, this.model[\\\"index\\\"](val)) : undefined})\"]},\"systemjs_options\":null,\"mount_callbacks\":[\"function () {\\n    var handler = (function (ko, koPunches) {\\n    ko.punches.enableAll();\\n    ko.bindingHandlers.numericValue = {\\n        init: function(element, valueAccessor, allBindings, data, context) {\\n            var stringified = ko.observable(ko.unwrap(valueAccessor()));\\n            stringified.subscribe(function(value) {\\n                var val = parseFloat(value);\\n                if (!isNaN(val)) {\\n                    valueAccessor()(val);\\n                }\\n            });\\n            valueAccessor().subscribe(function(value) {\\n                var str = JSON.stringify(value);\\n                if ((str == \\\"0\\\") && ([\\\"-0\\\", \\\"-0.\\\"].indexOf(stringified()) >= 0))\\n                     return;\\n                 if ([\\\"null\\\", \\\"\\\"].indexOf(str) >= 0)\\n                     return;\\n                stringified(str);\\n            });\\n            ko.applyBindingsToNode(\\n                element,\\n                {\\n                    value: stringified,\\n                    valueUpdate: allBindings.get('valueUpdate'),\\n                },\\n                context,\\n            );\\n        }\\n    };\\n    var json_data = {\\\"formatted_vals\\\":[\\\"1\\\",\\\"2\\\",\\\"3\\\",\\\"4\\\",\\\"5\\\",\\\"6\\\",\\\"7\\\",\\\"8\\\"],\\\"changes\\\":WebIO.getval({\\\"name\\\":\\\"changes\\\",\\\"scope\\\":\\\"15655709949774158723\\\",\\\"id\\\":\\\"ob_10\\\",\\\"type\\\":\\\"observable\\\"}),\\\"index\\\":WebIO.getval({\\\"name\\\":\\\"index\\\",\\\"scope\\\":\\\"15655709949774158723\\\",\\\"id\\\":\\\"ob_09\\\",\\\"type\\\":\\\"observable\\\"})};\\n    var self = this;\\n    function AppViewModel() {\\n        for (var key in json_data) {\\n            var el = json_data[key];\\n            this[key] = Array.isArray(el) ? ko.observableArray(el) : ko.observable(el);\\n        }\\n        \\n        [this[\\\"formatted_val\\\"]=ko.computed(    function(){\\n        return this.formatted_vals()[parseInt(this.index())-(1)];\\n    }\\n,this)]\\n        [this[\\\"changes\\\"].subscribe((function (val){!(this.valueFromJulia[\\\"changes\\\"]) ? (WebIO.setval({\\\"name\\\":\\\"changes\\\",\\\"scope\\\":\\\"15655709949774158723\\\",\\\"id\\\":\\\"ob_10\\\",\\\"type\\\":\\\"observable\\\"},val)) : undefined; return this.valueFromJulia[\\\"changes\\\"]=false}),self),this[\\\"index\\\"].subscribe((function (val){!(this.valueFromJulia[\\\"index\\\"]) ? (WebIO.setval({\\\"name\\\":\\\"index\\\",\\\"scope\\\":\\\"15655709949774158723\\\",\\\"id\\\":\\\"ob_09\\\",\\\"type\\\":\\\"observable\\\"},val)) : undefined; return this.valueFromJulia[\\\"index\\\"]=false}),self)]\\n        \\n    }\\n    self.model = new AppViewModel();\\n    self.valueFromJulia = {};\\n    for (var key in json_data) {\\n        self.valueFromJulia[key] = false;\\n    }\\n    ko.applyBindings(self.model, self.dom);\\n}\\n);\\n    (WebIO.importBlock({\\\"data\\\":[{\\\"name\\\":\\\"knockout\\\",\\\"type\\\":\\\"js\\\",\\\"url\\\":\\\"\\/assetserver\\/06b5713f7394e9c781d3d3143d6fd532e7f814ce-knockout.js\\\"},{\\\"name\\\":\\\"knockout_punches\\\",\\\"type\\\":\\\"js\\\",\\\"url\\\":\\\"\\/assetserver\\/695de4db56dde9805b672fe778fb2fc752e9b632-knockout_punches.js\\\"}],\\\"type\\\":\\\"async_block\\\"})).then((imports) => handler.apply(this, imports));\\n}\\n\"],\"observables\":{\"changes\":{\"sync\":false,\"id\":\"ob_10\",\"value\":0},\"index\":{\"sync\":true,\"id\":\"ob_09\",\"value\":4}}},\"children\":[{\"props\":{\"className\":\"interact-flex-row interact-widget\"},\"nodeType\":\"DOM\",\"type\":\"node\",\"instanceArgs\":{\"namespace\":\"html\",\"tag\":\"div\"},\"children\":[{\"props\":{\"className\":\"interact-flex-row-left\"},\"nodeType\":\"DOM\",\"type\":\"node\",\"instanceArgs\":{\"namespace\":\"html\",\"tag\":\"div\"},\"children\":[{\"props\":{\"className\":\"interact \",\"style\":{\"padding\":\"5px 10px 0px 10px\"}},\"nodeType\":\"DOM\",\"type\":\"node\",\"instanceArgs\":{\"namespace\":\"html\",\"tag\":\"label\"},\"children\":[\"i\"]}]},{\"props\":{\"className\":\"interact-flex-row-center\"},\"nodeType\":\"DOM\",\"type\":\"node\",\"instanceArgs\":{\"namespace\":\"html\",\"tag\":\"div\"},\"children\":[{\"props\":{\"max\":8,\"min\":1,\"attributes\":{\"type\":\"range\",\"data-bind\":\"numericValue: index, valueUpdate: 'input', event: {change: function (){this.changes(this.changes()+1)}}\",\"orient\":\"horizontal\"},\"step\":1,\"className\":\"slider slider is-fullwidth\",\"style\":{}},\"nodeType\":\"DOM\",\"type\":\"node\",\"instanceArgs\":{\"namespace\":\"html\",\"tag\":\"input\"},\"children\":[]}]},{\"props\":{\"className\":\"interact-flex-row-right\"},\"nodeType\":\"DOM\",\"type\":\"node\",\"instanceArgs\":{\"namespace\":\"html\",\"tag\":\"div\"},\"children\":[{\"props\":{\"attributes\":{\"data-bind\":\"text: formatted_val\"}},\"nodeType\":\"DOM\",\"type\":\"node\",\"instanceArgs\":{\"namespace\":\"html\",\"tag\":\"p\"},\"children\":[]}]}]}]}]},{\"props\":{\"className\":\"field interact-widget\"},\"nodeType\":\"DOM\",\"type\":\"node\",\"instanceArgs\":{\"namespace\":\"html\",\"tag\":\"div\"},\"children\":[{\"props\":{},\"nodeType\":\"Scope\",\"type\":\"node\",\"instanceArgs\":{\"imports\":{\"data\":[{\"name\":\"knockout\",\"type\":\"js\",\"url\":\"\\/assetserver\\/06b5713f7394e9c781d3d3143d6fd532e7f814ce-knockout.js\"},{\"name\":\"knockout_punches\",\"type\":\"js\",\"url\":\"\\/assetserver\\/695de4db56dde9805b672fe778fb2fc752e9b632-knockout_punches.js\"},{\"name\":null,\"type\":\"js\",\"url\":\"\\/assetserver\\/34429b1bda68384beb0ffa7f95387ae5c749ead8-all.js\"},{\"name\":null,\"type\":\"css\",\"url\":\"\\/assetserver\\/c419a6b294b1a5dd89a2e1c98ad5b129fc32f27a-style.css\"},{\"name\":null,\"type\":\"css\",\"url\":\"\\/assetserver\\/d5ba1dfd4729f8c7abf4feafae3421b6e556899d-bulma_confined.min.css\"}],\"type\":\"async_block\"},\"id\":\"8570670303012263838\",\"handlers\":{\"changes\":[\"(function (val){return (val!=this.model[\\\"changes\\\"]()) ? (this.valueFromJulia[\\\"changes\\\"]=true, this.model[\\\"changes\\\"](val)) : undefined})\"],\"index\":[\"(function (val){return (val!=this.model[\\\"index\\\"]()) ? (this.valueFromJulia[\\\"index\\\"]=true, this.model[\\\"index\\\"](val)) : undefined})\"]},\"systemjs_options\":null,\"mount_callbacks\":[\"function () {\\n    var handler = (function (ko, koPunches) {\\n    ko.punches.enableAll();\\n    ko.bindingHandlers.numericValue = {\\n        init: function(element, valueAccessor, allBindings, data, context) {\\n            var stringified = ko.observable(ko.unwrap(valueAccessor()));\\n            stringified.subscribe(function(value) {\\n                var val = parseFloat(value);\\n                if (!isNaN(val)) {\\n                    valueAccessor()(val);\\n                }\\n            });\\n            valueAccessor().subscribe(function(value) {\\n                var str = JSON.stringify(value);\\n                if ((str == \\\"0\\\") && ([\\\"-0\\\", \\\"-0.\\\"].indexOf(stringified()) >= 0))\\n                     return;\\n                 if ([\\\"null\\\", \\\"\\\"].indexOf(str) >= 0)\\n                     return;\\n                stringified(str);\\n            });\\n            ko.applyBindingsToNode(\\n                element,\\n                {\\n                    value: stringified,\\n                    valueUpdate: allBindings.get('valueUpdate'),\\n                },\\n                context,\\n            );\\n        }\\n    };\\n    var json_data = {\\\"formatted_vals\\\":[\\\"1\\\",\\\"2\\\",\\\"3\\\",\\\"4\\\",\\\"5\\\",\\\"6\\\",\\\"7\\\",\\\"8\\\"],\\\"changes\\\":WebIO.getval({\\\"name\\\":\\\"changes\\\",\\\"scope\\\":\\\"8570670303012263838\\\",\\\"id\\\":\\\"ob_12\\\",\\\"type\\\":\\\"observable\\\"}),\\\"index\\\":WebIO.getval({\\\"name\\\":\\\"index\\\",\\\"scope\\\":\\\"8570670303012263838\\\",\\\"id\\\":\\\"ob_11\\\",\\\"type\\\":\\\"observable\\\"})};\\n    var self = this;\\n    function AppViewModel() {\\n        for (var key in json_data) {\\n            var el = json_data[key];\\n            this[key] = Array.isArray(el) ? ko.observableArray(el) : ko.observable(el);\\n        }\\n        \\n        [this[\\\"formatted_val\\\"]=ko.computed(    function(){\\n        return this.formatted_vals()[parseInt(this.index())-(1)];\\n    }\\n,this)]\\n        [this[\\\"changes\\\"].subscribe((function (val){!(this.valueFromJulia[\\\"changes\\\"]) ? (WebIO.setval({\\\"name\\\":\\\"changes\\\",\\\"scope\\\":\\\"8570670303012263838\\\",\\\"id\\\":\\\"ob_12\\\",\\\"type\\\":\\\"observable\\\"},val)) : undefined; return this.valueFromJulia[\\\"changes\\\"]=false}),self),this[\\\"index\\\"].subscribe((function (val){!(this.valueFromJulia[\\\"index\\\"]) ? (WebIO.setval({\\\"name\\\":\\\"index\\\",\\\"scope\\\":\\\"8570670303012263838\\\",\\\"id\\\":\\\"ob_11\\\",\\\"type\\\":\\\"observable\\\"},val)) : undefined; return this.valueFromJulia[\\\"index\\\"]=false}),self)]\\n        \\n    }\\n    self.model = new AppViewModel();\\n    self.valueFromJulia = {};\\n    for (var key in json_data) {\\n        self.valueFromJulia[key] = false;\\n    }\\n    ko.applyBindings(self.model, self.dom);\\n}\\n);\\n    (WebIO.importBlock({\\\"data\\\":[{\\\"name\\\":\\\"knockout\\\",\\\"type\\\":\\\"js\\\",\\\"url\\\":\\\"\\/assetserver\\/06b5713f7394e9c781d3d3143d6fd532e7f814ce-knockout.js\\\"},{\\\"name\\\":\\\"knockout_punches\\\",\\\"type\\\":\\\"js\\\",\\\"url\\\":\\\"\\/assetserver\\/695de4db56dde9805b672fe778fb2fc752e9b632-knockout_punches.js\\\"}],\\\"type\\\":\\\"async_block\\\"})).then((imports) => handler.apply(this, imports));\\n}\\n\"],\"observables\":{\"changes\":{\"sync\":false,\"id\":\"ob_12\",\"value\":0},\"index\":{\"sync\":true,\"id\":\"ob_11\",\"value\":4}}},\"children\":[{\"props\":{\"className\":\"interact-flex-row interact-widget\"},\"nodeType\":\"DOM\",\"type\":\"node\",\"instanceArgs\":{\"namespace\":\"html\",\"tag\":\"div\"},\"children\":[{\"props\":{\"className\":\"interact-flex-row-left\"},\"nodeType\":\"DOM\",\"type\":\"node\",\"instanceArgs\":{\"namespace\":\"html\",\"tag\":\"div\"},\"children\":[{\"props\":{\"className\":\"interact \",\"style\":{\"padding\":\"5px 10px 0px 10px\"}},\"nodeType\":\"DOM\",\"type\":\"node\",\"instanceArgs\":{\"namespace\":\"html\",\"tag\":\"label\"},\"children\":[\"j\"]}]},{\"props\":{\"className\":\"interact-flex-row-center\"},\"nodeType\":\"DOM\",\"type\":\"node\",\"instanceArgs\":{\"namespace\":\"html\",\"tag\":\"div\"},\"children\":[{\"props\":{\"max\":8,\"min\":1,\"attributes\":{\"type\":\"range\",\"data-bind\":\"numericValue: index, valueUpdate: 'input', event: {change: function (){this.changes(this.changes()+1)}}\",\"orient\":\"horizontal\"},\"step\":1,\"className\":\"slider slider is-fullwidth\",\"style\":{}},\"nodeType\":\"DOM\",\"type\":\"node\",\"instanceArgs\":{\"namespace\":\"html\",\"tag\":\"input\"},\"children\":[]}]},{\"props\":{\"className\":\"interact-flex-row-right\"},\"nodeType\":\"DOM\",\"type\":\"node\",\"instanceArgs\":{\"namespace\":\"html\",\"tag\":\"div\"},\"children\":[{\"props\":{\"attributes\":{\"data-bind\":\"text: formatted_val\"}},\"nodeType\":\"DOM\",\"type\":\"node\",\"instanceArgs\":{\"namespace\":\"html\",\"tag\":\"p\"},\"children\":[]}]}]}]}]},{\"props\":{},\"nodeType\":\"Scope\",\"type\":\"node\",\"instanceArgs\":{\"imports\":{\"data\":[],\"type\":\"async_block\"},\"id\":\"14437828011236573424\",\"handlers\":{},\"systemjs_options\":null,\"mount_callbacks\":[],\"observables\":{\"obs-node\":{\"sync\":false,\"id\":\"ob_16\",\"value\":{\"props\":{\"className\":\"interact-flex-row interact-widget\"},\"nodeType\":\"DOM\",\"type\":\"node\",\"instanceArgs\":{\"namespace\":\"html\",\"tag\":\"div\"},\"children\":[{\"props\":{\"setInnerHtml\":\"<pre>10×10 Array{Int64,2}:\\n 0  0  0  0  0  0  0  0  0  0\\n 0  0  0  0  0  0  0  0  0  0\\n 0  0  0  0  0  0  0  0  0  0\\n 0  0  0  7  7  7  0  0  0  0\\n 0  0  0  7  7  7  0  0  0  0\\n 0  0  0  7  7  7  0  0  0  0\\n 0  0  0  0  0  0  0  0  0  0\\n 0  0  0  0  0  0  0  0  0  0\\n 0  0  0  0  0  0  0  0  0  0\\n 0  0  0  0  0  0  0  0  0  0<\\/pre>\"},\"nodeType\":\"DOM\",\"type\":\"node\",\"instanceArgs\":{\"namespace\":\"html\",\"tag\":\"div\"},\"children\":[]}]}}}},\"children\":[{\"props\":{},\"nodeType\":\"ObservableNode\",\"type\":\"node\",\"instanceArgs\":{\"id\":\"ob_16\",\"name\":\"obs-node\"},\"children\":[]}]}]},\n",
       "            window,\n",
       "        );\n",
       "    } else {\n",
       "        document\n",
       "            .querySelector('[data-webio-mountpoint=\"4631771951469240673\"]')\n",
       "            .innerHTML = (\n",
       "                '<strong>WebIO not detected. Please read ' +\n",
       "                '<a href=\"https://juliagizmos.github.io/WebIO.jl/latest/troubleshooting/not-detected/\">the troubleshooting guide</a> ' +\n",
       "                'for more information on how to resolve this issue.' +\n",
       "                '</strong>'\n",
       "            );\n",
       "    }\n",
       "    </script>\n",
       "</div>\n"
      ],
      "text/plain": [
       "Node{WebIO.DOM}(WebIO.DOM(:html, :div), Any[Node{WebIO.DOM}(WebIO.DOM(:html, :div), Any[Scope(Node{WebIO.DOM}(WebIO.DOM(:html, :div), Any[Node{WebIO.DOM}(WebIO.DOM(:html, :div), Any[Node{WebIO.DOM}(WebIO.DOM(:html, :label), Any[\"i\"], Dict{Symbol,Any}(:className => \"interact \",:style => Dict{Any,Any}(:padding => \"5px 10px 0px 10px\")))], Dict{Symbol,Any}(:className => \"interact-flex-row-left\")), Node{WebIO.DOM}(WebIO.DOM(:html, :div), Any[Node{WebIO.DOM}(WebIO.DOM(:html, :input), Any[], Dict{Symbol,Any}(:max => 8,:min => 1,:attributes => Dict{Any,Any}(:type => \"range\",Symbol(\"data-bind\") => \"numericValue: index, valueUpdate: 'input', event: {change: function (){this.changes(this.changes()+1)}}\",\"orient\" => \"horizontal\"),:step => 1,:className => \"slider slider is-fullwidth\",:style => Dict{Any,Any}()))], Dict{Symbol,Any}(:className => \"interact-flex-row-center\")), Node{WebIO.DOM}(WebIO.DOM(:html, :div), Any[Node{WebIO.DOM}(WebIO.DOM(:html, :p), Any[], Dict{Symbol,Any}(:attributes => Dict(\"data-bind\" => \"text: formatted_val\")))], Dict{Symbol,Any}(:className => \"interact-flex-row-right\"))], Dict{Symbol,Any}(:className => \"interact-flex-row interact-widget\")), Dict{String,Tuple{Observables.AbstractObservable,Union{Nothing, Bool}}}(\"changes\" => (Observable{Int64} with 1 listeners. Value:\n",
       "0, nothing),\"index\" => (Observable{Int64} with 2 listeners. Value:\n",
       "4, nothing)), Set(String[]), nothing, Asset[Asset(\"js\", \"knockout\", \"C:\\\\Users\\\\carsten\\\\.julia\\\\packages\\\\Knockout\\\\1sDlc\\\\src\\\\..\\\\assets\\\\knockout.js\"), Asset(\"js\", \"knockout_punches\", \"C:\\\\Users\\\\carsten\\\\.julia\\\\packages\\\\Knockout\\\\1sDlc\\\\src\\\\..\\\\assets\\\\knockout_punches.js\"), Asset(\"js\", nothing, \"C:\\\\Users\\\\carsten\\\\.julia\\\\packages\\\\InteractBase\\\\9mFwe\\\\src\\\\..\\\\assets\\\\all.js\"), Asset(\"css\", nothing, \"C:\\\\Users\\\\carsten\\\\.julia\\\\packages\\\\InteractBase\\\\9mFwe\\\\src\\\\..\\\\assets\\\\style.css\"), Asset(\"css\", nothing, \"C:\\\\Users\\\\carsten\\\\.julia\\\\packages\\\\Interact\\\\SbgIk\\\\src\\\\..\\\\assets\\\\bulma_confined.min.css\")], Dict{Any,Any}(\"changes\" => Any[WebIO.JSString(\"(function (val){return (val!=this.model[\\\"changes\\\"]()) ? (this.valueFromJulia[\\\"changes\\\"]=true, this.model[\\\"changes\\\"](val)) : undefined})\")],\"index\" => Any[WebIO.JSString(\"(function (val){return (val!=this.model[\\\"index\\\"]()) ? (this.valueFromJulia[\\\"index\\\"]=true, this.model[\\\"index\\\"](val)) : undefined})\")]), WebIO.ConnectionPool(Channel{Any}(sz_max:32,sz_curr:0), Set(AbstractConnection[]), Base.GenericCondition{Base.AlwaysLockedST}(Base.InvasiveLinkedList{Task}(Task (runnable) @0x0000000013ccc010, Task (runnable) @0x0000000013ccc010), Base.AlwaysLockedST(1))), WebIO.JSString[WebIO.JSString(\"function () {\\n    var handler = (function (ko, koPunches) {\\n    ko.punches.enableAll();\\n    ko.bindingHandlers.numericValue = {\\n        init: function(element, valueAccessor, allBindings, data, context) {\\n            var stringified = ko.observable(ko.unwrap(valueAccessor()));\\n            stringified.subscribe(function(value) {\\n                var val = parseFloat(value);\\n                if (!isNaN(val)) {\\n                    valueAccessor()(val);\\n                }\\n            });\\n            valueAccessor().subscribe(function(value) {\\n                var str = JSON.stringify(value);\\n                if ((str == \\\"0\\\") && ([\\\"-0\\\", \\\"-0.\\\"].indexOf(stringified()) >= 0))\\n                     return;\\n                 if ([\\\"null\\\", \\\"\\\"].indexOf(str) >= 0)\\n                     return;\\n                stringified(str);\\n            });\\n            ko.applyBindingsToNode(\\n                element,\\n                {\\n                    value: stringified,\\n                    valueUpdate: allBindings.get('valueUpdate'),\\n                },\\n                context,\\n            );\\n        }\\n    };\\n    var json_data = {\\\"formatted_vals\\\":[\\\"1\\\",\\\"2\\\",\\\"3\\\",\\\"4\\\",\\\"5\\\",\\\"6\\\",\\\"7\\\",\\\"8\\\"],\\\"changes\\\":WebIO.getval({\\\"name\\\":\\\"changes\\\",\\\"scope\\\":\\\"15655709949774158723\\\",\\\"id\\\":\\\"ob_10\\\",\\\"type\\\":\\\"observable\\\"}),\\\"index\\\":WebIO.getval({\\\"name\\\":\\\"index\\\",\\\"scope\\\":\\\"15655709949774158723\\\",\\\"id\\\":\\\"ob_09\\\",\\\"type\\\":\\\"observable\\\"})};\\n    var self = this;\\n    function AppViewModel() {\\n        for (var key in json_data) {\\n            var el = json_data[key];\\n            this[key] = Array.isArray(el) ? ko.observableArray(el) : ko.observable(el);\\n        }\\n        \\n        [this[\\\"formatted_val\\\"]=ko.computed(    function(){\\n        return this.formatted_vals()[parseInt(this.index())-(1)];\\n    }\\n,this)]\\n        [this[\\\"changes\\\"].subscribe((function (val){!(this.valueFromJulia[\\\"changes\\\"]) ? (WebIO.setval({\\\"name\\\":\\\"changes\\\",\\\"scope\\\":\\\"15655709949774158723\\\",\\\"id\\\":\\\"ob_10\\\",\\\"type\\\":\\\"observable\\\"},val)) : undefined; return this.valueFromJulia[\\\"changes\\\"]=false}),self),this[\\\"index\\\"].subscribe((function (val){!(this.valueFromJulia[\\\"index\\\"]) ? (WebIO.setval({\\\"name\\\":\\\"index\\\",\\\"scope\\\":\\\"15655709949774158723\\\",\\\"id\\\":\\\"ob_09\\\",\\\"type\\\":\\\"observable\\\"},val)) : undefined; return this.valueFromJulia[\\\"index\\\"]=false}),self)]\\n        \\n    }\\n    self.model = new AppViewModel();\\n    self.valueFromJulia = {};\\n    for (var key in json_data) {\\n        self.valueFromJulia[key] = false;\\n    }\\n    ko.applyBindings(self.model, self.dom);\\n}\\n);\\n    (WebIO.importBlock({\\\"data\\\":[{\\\"name\\\":\\\"knockout\\\",\\\"type\\\":\\\"js\\\",\\\"url\\\":\\\"/assetserver/06b5713f7394e9c781d3d3143d6fd532e7f814ce-knockout.js\\\"},{\\\"name\\\":\\\"knockout_punches\\\",\\\"type\\\":\\\"js\\\",\\\"url\\\":\\\"/assetserver/695de4db56dde9805b672fe778fb2fc752e9b632-knockout_punches.js\\\"}],\\\"type\\\":\\\"async_block\\\"})).then((imports) => handler.apply(this, imports));\\n}\\n\")])], Dict{Symbol,Any}(:className => \"field interact-widget\")), Node{WebIO.DOM}(WebIO.DOM(:html, :div), Any[Scope(Node{WebIO.DOM}(WebIO.DOM(:html, :div), Any[Node{WebIO.DOM}(WebIO.DOM(:html, :div), Any[Node{WebIO.DOM}(WebIO.DOM(:html, :label), Any[\"j\"], Dict{Symbol,Any}(:className => \"interact \",:style => Dict{Any,Any}(:padding => \"5px 10px 0px 10px\")))], Dict{Symbol,Any}(:className => \"interact-flex-row-left\")), Node{WebIO.DOM}(WebIO.DOM(:html, :div), Any[Node{WebIO.DOM}(WebIO.DOM(:html, :input), Any[], Dict{Symbol,Any}(:max => 8,:min => 1,:attributes => Dict{Any,Any}(:type => \"range\",Symbol(\"data-bind\") => \"numericValue: index, valueUpdate: 'input', event: {change: function (){this.changes(this.changes()+1)}}\",\"orient\" => \"horizontal\"),:step => 1,:className => \"slider slider is-fullwidth\",:style => Dict{Any,Any}()))], Dict{Symbol,Any}(:className => \"interact-flex-row-center\")), Node{WebIO.DOM}(WebIO.DOM(:html, :div), Any[Node{WebIO.DOM}(WebIO.DOM(:html, :p), Any[], Dict{Symbol,Any}(:attributes => Dict(\"data-bind\" => \"text: formatted_val\")))], Dict{Symbol,Any}(:className => \"interact-flex-row-right\"))], Dict{Symbol,Any}(:className => \"interact-flex-row interact-widget\")), Dict{String,Tuple{Observables.AbstractObservable,Union{Nothing, Bool}}}(\"changes\" => (Observable{Int64} with 1 listeners. Value:\n",
       "0, nothing),\"index\" => (Observable{Int64} with 2 listeners. Value:\n",
       "4, nothing)), Set(String[]), nothing, Asset[Asset(\"js\", \"knockout\", \"C:\\\\Users\\\\carsten\\\\.julia\\\\packages\\\\Knockout\\\\1sDlc\\\\src\\\\..\\\\assets\\\\knockout.js\"), Asset(\"js\", \"knockout_punches\", \"C:\\\\Users\\\\carsten\\\\.julia\\\\packages\\\\Knockout\\\\1sDlc\\\\src\\\\..\\\\assets\\\\knockout_punches.js\"), Asset(\"js\", nothing, \"C:\\\\Users\\\\carsten\\\\.julia\\\\packages\\\\InteractBase\\\\9mFwe\\\\src\\\\..\\\\assets\\\\all.js\"), Asset(\"css\", nothing, \"C:\\\\Users\\\\carsten\\\\.julia\\\\packages\\\\InteractBase\\\\9mFwe\\\\src\\\\..\\\\assets\\\\style.css\"), Asset(\"css\", nothing, \"C:\\\\Users\\\\carsten\\\\.julia\\\\packages\\\\Interact\\\\SbgIk\\\\src\\\\..\\\\assets\\\\bulma_confined.min.css\")], Dict{Any,Any}(\"changes\" => Any[WebIO.JSString(\"(function (val){return (val!=this.model[\\\"changes\\\"]()) ? (this.valueFromJulia[\\\"changes\\\"]=true, this.model[\\\"changes\\\"](val)) : undefined})\")],\"index\" => Any[WebIO.JSString(\"(function (val){return (val!=this.model[\\\"index\\\"]()) ? (this.valueFromJulia[\\\"index\\\"]=true, this.model[\\\"index\\\"](val)) : undefined})\")]), WebIO.ConnectionPool(Channel{Any}(sz_max:32,sz_curr:0), Set(AbstractConnection[]), Base.GenericCondition{Base.AlwaysLockedST}(Base.InvasiveLinkedList{Task}(Task (runnable) @0x0000000013ccc2f0, Task (runnable) @0x0000000013ccc2f0), Base.AlwaysLockedST(1))), WebIO.JSString[WebIO.JSString(\"function () {\\n    var handler = (function (ko, koPunches) {\\n    ko.punches.enableAll();\\n    ko.bindingHandlers.numericValue = {\\n        init: function(element, valueAccessor, allBindings, data, context) {\\n            var stringified = ko.observable(ko.unwrap(valueAccessor()));\\n            stringified.subscribe(function(value) {\\n                var val = parseFloat(value);\\n                if (!isNaN(val)) {\\n                    valueAccessor()(val);\\n                }\\n            });\\n            valueAccessor().subscribe(function(value) {\\n                var str = JSON.stringify(value);\\n                if ((str == \\\"0\\\") && ([\\\"-0\\\", \\\"-0.\\\"].indexOf(stringified()) >= 0))\\n                     return;\\n                 if ([\\\"null\\\", \\\"\\\"].indexOf(str) >= 0)\\n                     return;\\n                stringified(str);\\n            });\\n            ko.applyBindingsToNode(\\n                element,\\n                {\\n                    value: stringified,\\n                    valueUpdate: allBindings.get('valueUpdate'),\\n                },\\n                context,\\n            );\\n        }\\n    };\\n    var json_data = {\\\"formatted_vals\\\":[\\\"1\\\",\\\"2\\\",\\\"3\\\",\\\"4\\\",\\\"5\\\",\\\"6\\\",\\\"7\\\",\\\"8\\\"],\\\"changes\\\":WebIO.getval({\\\"name\\\":\\\"changes\\\",\\\"scope\\\":\\\"8570670303012263838\\\",\\\"id\\\":\\\"ob_12\\\",\\\"type\\\":\\\"observable\\\"}),\\\"index\\\":WebIO.getval({\\\"name\\\":\\\"index\\\",\\\"scope\\\":\\\"8570670303012263838\\\",\\\"id\\\":\\\"ob_11\\\",\\\"type\\\":\\\"observable\\\"})};\\n    var self = this;\\n    function AppViewModel() {\\n        for (var key in json_data) {\\n            var el = json_data[key];\\n            this[key] = Array.isArray(el) ? ko.observableArray(el) : ko.observable(el);\\n        }\\n        \\n        [this[\\\"formatted_val\\\"]=ko.computed(    function(){\\n        return this.formatted_vals()[parseInt(this.index())-(1)];\\n    }\\n,this)]\\n        [this[\\\"changes\\\"].subscribe((function (val){!(this.valueFromJulia[\\\"changes\\\"]) ? (WebIO.setval({\\\"name\\\":\\\"changes\\\",\\\"scope\\\":\\\"8570670303012263838\\\",\\\"id\\\":\\\"ob_12\\\",\\\"type\\\":\\\"observable\\\"},val)) : undefined; return this.valueFromJulia[\\\"changes\\\"]=false}),self),this[\\\"index\\\"].subscribe((function (val){!(this.valueFromJulia[\\\"index\\\"]) ? (WebIO.setval({\\\"name\\\":\\\"index\\\",\\\"scope\\\":\\\"8570670303012263838\\\",\\\"id\\\":\\\"ob_11\\\",\\\"type\\\":\\\"observable\\\"},val)) : undefined; return this.valueFromJulia[\\\"index\\\"]=false}),self)]\\n        \\n    }\\n    self.model = new AppViewModel();\\n    self.valueFromJulia = {};\\n    for (var key in json_data) {\\n        self.valueFromJulia[key] = false;\\n    }\\n    ko.applyBindings(self.model, self.dom);\\n}\\n);\\n    (WebIO.importBlock({\\\"data\\\":[{\\\"name\\\":\\\"knockout\\\",\\\"type\\\":\\\"js\\\",\\\"url\\\":\\\"/assetserver/06b5713f7394e9c781d3d3143d6fd532e7f814ce-knockout.js\\\"},{\\\"name\\\":\\\"knockout_punches\\\",\\\"type\\\":\\\"js\\\",\\\"url\\\":\\\"/assetserver/695de4db56dde9805b672fe778fb2fc752e9b632-knockout_punches.js\\\"}],\\\"type\\\":\\\"async_block\\\"})).then((imports) => handler.apply(this, imports));\\n}\\n\")])], Dict{Symbol,Any}(:className => \"field interact-widget\")), Observable{Any} with 0 listeners. Value:\n",
       "Node{WebIO.DOM}(WebIO.DOM(:html, :div), Any[[0 0 … 0 0; 0 0 … 0 0; … ; 0 0 … 0 0; 0 0 … 0 0]], Dict{Symbol,Any}(:className => \"interact-flex-row interact-widget\"))], Dict{Symbol,Any}())"
      ]
     },
     "execution_count": 6,
     "metadata": {
      "application/vnd.webio.node+json": {
       "kernelId": null
      }
     },
     "output_type": "execute_result"
    }
   ],
   "source": [
    "A = fill(0, 10, 10)\n",
    "n = size(A, 1)\n",
    "\n",
    "@manipulate for i in 1:n-2, j in 1:n-2\n",
    "    insert_block(A, i, j)\n",
    "end"
   ]
  },
  {
   "cell_type": "markdown",
   "metadata": {},
   "source": [
    "### Let's add some color!"
   ]
  },
  {
   "cell_type": "markdown",
   "metadata": {},
   "source": [
    "Our function `insert_block` is generic. Since the first argument `A isa AbstractArray`, we can index into it and set new values. Pretty much every value type is fine!"
   ]
  },
  {
   "cell_type": "code",
   "execution_count": 7,
   "metadata": {},
   "outputs": [],
   "source": [
    "using Colors"
   ]
  },
  {
   "cell_type": "code",
   "execution_count": 8,
   "metadata": {},
   "outputs": [
    {
     "data": {
      "application/vnd.webio.node+json": {
       "children": [
        {
         "children": [
          {
           "children": [
            {
             "children": [
              {
               "children": [
                {
                 "children": [
                  "n"
                 ],
                 "instanceArgs": {
                  "namespace": "html",
                  "tag": "label"
                 },
                 "nodeType": "DOM",
                 "props": {
                  "className": "interact ",
                  "style": {
                   "padding": "5px 10px 0px 10px"
                  }
                 },
                 "type": "node"
                }
               ],
               "instanceArgs": {
                "namespace": "html",
                "tag": "div"
               },
               "nodeType": "DOM",
               "props": {
                "className": "interact-flex-row-left"
               },
               "type": "node"
              },
              {
               "children": [
                {
                 "children": [],
                 "instanceArgs": {
                  "namespace": "html",
                  "tag": "input"
                 },
                 "nodeType": "DOM",
                 "props": {
                  "attributes": {
                   "data-bind": "numericValue: index, valueUpdate: 'input', event: {change: function (){this.changes(this.changes()+1)}}",
                   "orient": "horizontal",
                   "type": "range"
                  },
                  "className": "slider slider is-fullwidth",
                  "max": 80,
                  "min": 1,
                  "step": 1,
                  "style": {}
                 },
                 "type": "node"
                }
               ],
               "instanceArgs": {
                "namespace": "html",
                "tag": "div"
               },
               "nodeType": "DOM",
               "props": {
                "className": "interact-flex-row-center"
               },
               "type": "node"
              },
              {
               "children": [
                {
                 "children": [],
                 "instanceArgs": {
                  "namespace": "html",
                  "tag": "p"
                 },
                 "nodeType": "DOM",
                 "props": {
                  "attributes": {
                   "data-bind": "text: formatted_val"
                  }
                 },
                 "type": "node"
                }
               ],
               "instanceArgs": {
                "namespace": "html",
                "tag": "div"
               },
               "nodeType": "DOM",
               "props": {
                "className": "interact-flex-row-right"
               },
               "type": "node"
              }
             ],
             "instanceArgs": {
              "namespace": "html",
              "tag": "div"
             },
             "nodeType": "DOM",
             "props": {
              "className": "interact-flex-row interact-widget"
             },
             "type": "node"
            }
           ],
           "instanceArgs": {
            "handlers": {
             "changes": [
              "(function (val){return (val!=this.model[\"changes\"]()) ? (this.valueFromJulia[\"changes\"]=true, this.model[\"changes\"](val)) : undefined})"
             ],
             "index": [
              "(function (val){return (val!=this.model[\"index\"]()) ? (this.valueFromJulia[\"index\"]=true, this.model[\"index\"](val)) : undefined})"
             ]
            },
            "id": "5300012622764071089",
            "imports": {
             "data": [
              {
               "name": "knockout",
               "type": "js",
               "url": "/assetserver/06b5713f7394e9c781d3d3143d6fd532e7f814ce-knockout.js"
              },
              {
               "name": "knockout_punches",
               "type": "js",
               "url": "/assetserver/695de4db56dde9805b672fe778fb2fc752e9b632-knockout_punches.js"
              },
              {
               "name": null,
               "type": "js",
               "url": "/assetserver/34429b1bda68384beb0ffa7f95387ae5c749ead8-all.js"
              },
              {
               "name": null,
               "type": "css",
               "url": "/assetserver/c419a6b294b1a5dd89a2e1c98ad5b129fc32f27a-style.css"
              },
              {
               "name": null,
               "type": "css",
               "url": "/assetserver/d5ba1dfd4729f8c7abf4feafae3421b6e556899d-bulma_confined.min.css"
              }
             ],
             "type": "async_block"
            },
            "mount_callbacks": [
             "function () {\n    var handler = (function (ko, koPunches) {\n    ko.punches.enableAll();\n    ko.bindingHandlers.numericValue = {\n        init: function(element, valueAccessor, allBindings, data, context) {\n            var stringified = ko.observable(ko.unwrap(valueAccessor()));\n            stringified.subscribe(function(value) {\n                var val = parseFloat(value);\n                if (!isNaN(val)) {\n                    valueAccessor()(val);\n                }\n            });\n            valueAccessor().subscribe(function(value) {\n                var str = JSON.stringify(value);\n                if ((str == \"0\") && ([\"-0\", \"-0.\"].indexOf(stringified()) >= 0))\n                     return;\n                 if ([\"null\", \"\"].indexOf(str) >= 0)\n                     return;\n                stringified(str);\n            });\n            ko.applyBindingsToNode(\n                element,\n                {\n                    value: stringified,\n                    valueUpdate: allBindings.get('valueUpdate'),\n                },\n                context,\n            );\n        }\n    };\n    var json_data = {\"formatted_vals\":[\"1\",\"2\",\"3\",\"4\",\"5\",\"6\",\"7\",\"8\",\"9\",\"10\",\"11\",\"12\",\"13\",\"14\",\"15\",\"16\",\"17\",\"18\",\"19\",\"20\",\"21\",\"22\",\"23\",\"24\",\"25\",\"26\",\"27\",\"28\",\"29\",\"30\",\"31\",\"32\",\"33\",\"34\",\"35\",\"36\",\"37\",\"38\",\"39\",\"40\",\"41\",\"42\",\"43\",\"44\",\"45\",\"46\",\"47\",\"48\",\"49\",\"50\",\"51\",\"52\",\"53\",\"54\",\"55\",\"56\",\"57\",\"58\",\"59\",\"60\",\"61\",\"62\",\"63\",\"64\",\"65\",\"66\",\"67\",\"68\",\"69\",\"70\",\"71\",\"72\",\"73\",\"74\",\"75\",\"76\",\"77\",\"78\",\"79\",\"80\"],\"changes\":WebIO.getval({\"name\":\"changes\",\"scope\":\"5300012622764071089\",\"id\":\"ob_20\",\"type\":\"observable\"}),\"index\":WebIO.getval({\"name\":\"index\",\"scope\":\"5300012622764071089\",\"id\":\"ob_19\",\"type\":\"observable\"})};\n    var self = this;\n    function AppViewModel() {\n        for (var key in json_data) {\n            var el = json_data[key];\n            this[key] = Array.isArray(el) ? ko.observableArray(el) : ko.observable(el);\n        }\n        \n        [this[\"formatted_val\"]=ko.computed(    function(){\n        return this.formatted_vals()[parseInt(this.index())-(1)];\n    }\n,this)]\n        [this[\"changes\"].subscribe((function (val){!(this.valueFromJulia[\"changes\"]) ? (WebIO.setval({\"name\":\"changes\",\"scope\":\"5300012622764071089\",\"id\":\"ob_20\",\"type\":\"observable\"},val)) : undefined; return this.valueFromJulia[\"changes\"]=false}),self),this[\"index\"].subscribe((function (val){!(this.valueFromJulia[\"index\"]) ? (WebIO.setval({\"name\":\"index\",\"scope\":\"5300012622764071089\",\"id\":\"ob_19\",\"type\":\"observable\"},val)) : undefined; return this.valueFromJulia[\"index\"]=false}),self)]\n        \n    }\n    self.model = new AppViewModel();\n    self.valueFromJulia = {};\n    for (var key in json_data) {\n        self.valueFromJulia[key] = false;\n    }\n    ko.applyBindings(self.model, self.dom);\n}\n);\n    (WebIO.importBlock({\"data\":[{\"name\":\"knockout\",\"type\":\"js\",\"url\":\"/assetserver/06b5713f7394e9c781d3d3143d6fd532e7f814ce-knockout.js\"},{\"name\":\"knockout_punches\",\"type\":\"js\",\"url\":\"/assetserver/695de4db56dde9805b672fe778fb2fc752e9b632-knockout_punches.js\"}],\"type\":\"async_block\"})).then((imports) => handler.apply(this, imports));\n}\n"
            ],
            "observables": {
             "changes": {
              "id": "ob_20",
              "sync": false,
              "value": 0
             },
             "index": {
              "id": "ob_19",
              "sync": true,
              "value": 40
             }
            },
            "systemjs_options": null
           },
           "nodeType": "Scope",
           "props": {},
           "type": "node"
          }
         ],
         "instanceArgs": {
          "namespace": "html",
          "tag": "div"
         },
         "nodeType": "DOM",
         "props": {
          "className": "field interact-widget"
         },
         "type": "node"
        },
        {
         "children": [
          {
           "children": [],
           "instanceArgs": {
            "id": "ob_26",
            "name": "obs-node"
           },
           "nodeType": "ObservableNode",
           "props": {},
           "type": "node"
          }
         ],
         "instanceArgs": {
          "handlers": {},
          "id": "8624691015794917540",
          "imports": {
           "data": [],
           "type": "async_block"
          },
          "mount_callbacks": [],
          "observables": {
           "obs-node": {
            "id": "ob_26",
            "sync": false,
            "value": {
             "children": [
              {
               "children": [],
               "instanceArgs": {
                "namespace": "html",
                "tag": "div"
               },
               "nodeType": "DOM",
               "props": {
                "setInnerHtml": "<?xml version=\"1.0\" encoding=\"UTF-8\"?>\n<!DOCTYPE svg PUBLIC \"-//W3C//DTD SVG 1.1//EN\"\n \"http://www.w3.org/Graphics/SVG/1.1/DTD/svg11.dtd\">\n<svg xmlns=\"http://www.w3.org/2000/svg\" version=\"1.1\"\n     width=\"180.0mm\" height=\"25.0mm\"\n     shape-rendering=\"crispEdges\">\n<rect x=\"0.0mm\" y=\"0.0mm\"\n      width=\"3.5mm\" height=\"24.0mm\"\n      fill=\"#000000\" stroke=\"none\" />\n<rect x=\"4.5mm\" y=\"0.0mm\"\n      width=\"3.5mm\" height=\"24.0mm\"\n      fill=\"#FFFF62\" stroke=\"none\" />\n<rect x=\"9.0mm\" y=\"0.0mm\"\n      width=\"3.5mm\" height=\"24.0mm\"\n      fill=\"#FF9FFF\" stroke=\"none\" />\n<rect x=\"13.5mm\" y=\"0.0mm\"\n      width=\"3.5mm\" height=\"24.0mm\"\n      fill=\"#00D6FF\" stroke=\"none\" />\n<rect x=\"18.0mm\" y=\"0.0mm\"\n      width=\"3.5mm\" height=\"24.0mm\"\n      fill=\"#D74400\" stroke=\"none\" />\n<rect x=\"22.5mm\" y=\"0.0mm\"\n      width=\"3.5mm\" height=\"24.0mm\"\n      fill=\"#008029\" stroke=\"none\" />\n<rect x=\"27.0mm\" y=\"0.0mm\"\n      width=\"3.5mm\" height=\"24.0mm\"\n      fill=\"#005FD5\" stroke=\"none\" />\n<rect x=\"31.5mm\" y=\"0.0mm\"\n      width=\"3.5mm\" height=\"24.0mm\"\n      fill=\"#930068\" stroke=\"none\" />\n<rect x=\"36.0mm\" y=\"0.0mm\"\n      width=\"3.5mm\" height=\"24.0mm\"\n      fill=\"#FFCBB5\" stroke=\"none\" />\n<rect x=\"40.5mm\" y=\"0.0mm\"\n      width=\"3.5mm\" height=\"24.0mm\"\n      fill=\"#A78600\" stroke=\"none\" />\n<rect x=\"45.0mm\" y=\"0.0mm\"\n      width=\"3.5mm\" height=\"24.0mm\"\n      fill=\"#00FFC5\" stroke=\"none\" />\n<rect x=\"49.5mm\" y=\"0.0mm\"\n      width=\"3.5mm\" height=\"24.0mm\"\n      fill=\"#007E86\" stroke=\"none\" />\n<rect x=\"54.0mm\" y=\"0.0mm\"\n      width=\"3.5mm\" height=\"24.0mm\"\n      fill=\"#534200\" stroke=\"none\" />\n<rect x=\"58.5mm\" y=\"0.0mm\"\n      width=\"3.5mm\" height=\"24.0mm\"\n      fill=\"#8C8793\" stroke=\"none\" />\n<rect x=\"63.0mm\" y=\"0.0mm\"\n      width=\"3.5mm\" height=\"24.0mm\"\n      fill=\"#680000\" stroke=\"none\" />\n<rect x=\"67.5mm\" y=\"0.0mm\"\n      width=\"3.5mm\" height=\"24.0mm\"\n      fill=\"#00005A\" stroke=\"none\" />\n<rect x=\"72.0mm\" y=\"0.0mm\"\n      width=\"3.5mm\" height=\"24.0mm\"\n      fill=\"#FF2C6F\" stroke=\"none\" />\n<rect x=\"76.5mm\" y=\"0.0mm\"\n      width=\"3.5mm\" height=\"24.0mm\"\n      fill=\"#F7FFF6\" stroke=\"none\" />\n<rect x=\"81.0mm\" y=\"0.0mm\"\n      width=\"3.5mm\" height=\"24.0mm\"\n      fill=\"#003D25\" stroke=\"none\" />\n<rect x=\"85.5mm\" y=\"0.0mm\"\n      width=\"3.5mm\" height=\"24.0mm\"\n      fill=\"#91ABFF\" stroke=\"none\" />\n<rect x=\"90.0mm\" y=\"0.0mm\"\n      width=\"3.5mm\" height=\"24.0mm\"\n      fill=\"#A1B684\" stroke=\"none\" />\n<rect x=\"94.5mm\" y=\"0.0mm\"\n      width=\"3.5mm\" height=\"24.0mm\"\n      fill=\"#605051\" stroke=\"none\" />\n<rect x=\"99.0mm\" y=\"0.0mm\"\n      width=\"3.5mm\" height=\"24.0mm\"\n      fill=\"#C129E2\" stroke=\"none\" />\n<rect x=\"103.5mm\" y=\"0.0mm\"\n      width=\"3.5mm\" height=\"24.0mm\"\n      fill=\"#FF8E1E\" stroke=\"none\" />\n<rect x=\"108.0mm\" y=\"0.0mm\"\n      width=\"3.5mm\" height=\"24.0mm\"\n      fill=\"#003F51\" stroke=\"none\" />\n<rect x=\"112.5mm\" y=\"0.0mm\"\n      width=\"3.5mm\" height=\"24.0mm\"\n      fill=\"#797860\" stroke=\"none\" />\n<rect x=\"117.0mm\" y=\"0.0mm\"\n      width=\"3.5mm\" height=\"24.0mm\"\n      fill=\"#2E001C\" stroke=\"none\" />\n<rect x=\"121.5mm\" y=\"0.0mm\"\n      width=\"3.5mm\" height=\"24.0mm\"\n      fill=\"#01AF99\" stroke=\"none\" />\n<rect x=\"126.0mm\" y=\"0.0mm\"\n      width=\"3.5mm\" height=\"24.0mm\"\n      fill=\"#FFE6FF\" stroke=\"none\" />\n<rect x=\"130.5mm\" y=\"0.0mm\"\n      width=\"3.5mm\" height=\"24.0mm\"\n      fill=\"#77DA00\" stroke=\"none\" />\n<rect x=\"135.0mm\" y=\"0.0mm\"\n      width=\"3.5mm\" height=\"24.0mm\"\n      fill=\"#5B4B83\" stroke=\"none\" />\n<rect x=\"139.5mm\" y=\"0.0mm\"\n      width=\"3.5mm\" height=\"24.0mm\"\n      fill=\"#0094CF\" stroke=\"none\" />\n<rect x=\"144.0mm\" y=\"0.0mm\"\n      width=\"3.5mm\" height=\"24.0mm\"\n      fill=\"#B8739F\" stroke=\"none\" />\n<rect x=\"148.5mm\" y=\"0.0mm\"\n      width=\"3.5mm\" height=\"24.0mm\"\n      fill=\"#FF8269\" stroke=\"none\" />\n<rect x=\"153.0mm\" y=\"0.0mm\"\n      width=\"3.5mm\" height=\"24.0mm\"\n      fill=\"#FFBE05\" stroke=\"none\" />\n<rect x=\"157.5mm\" y=\"0.0mm\"\n      width=\"3.5mm\" height=\"24.0mm\"\n      fill=\"#C20030\" stroke=\"none\" />\n<rect x=\"162.0mm\" y=\"0.0mm\"\n      width=\"3.5mm\" height=\"24.0mm\"\n      fill=\"#A9806C\" stroke=\"none\" />\n<rect x=\"166.5mm\" y=\"0.0mm\"\n      width=\"3.5mm\" height=\"24.0mm\"\n      fill=\"#955600\" stroke=\"none\" />\n<rect x=\"171.0mm\" y=\"0.0mm\"\n      width=\"3.5mm\" height=\"24.0mm\"\n      fill=\"#9FB3B2\" stroke=\"none\" />\n<rect x=\"175.5mm\" y=\"0.0mm\"\n      width=\"3.5mm\" height=\"24.0mm\"\n      fill=\"#789500\" stroke=\"none\" />\n</svg>"
               },
               "type": "node"
              }
             ],
             "instanceArgs": {
              "namespace": "html",
              "tag": "div"
             },
             "nodeType": "DOM",
             "props": {
              "className": "interact-flex-row interact-widget"
             },
             "type": "node"
            }
           }
          },
          "systemjs_options": null
         },
         "nodeType": "Scope",
         "props": {},
         "type": "node"
        }
       ],
       "instanceArgs": {
        "namespace": "html",
        "tag": "div"
       },
       "nodeType": "DOM",
       "props": {},
       "type": "node"
      },
      "text/html": [
       "<div\n",
       "    class=\"webio-mountpoint\"\n",
       "    data-webio-mountpoint=\"15797261932222887142\"\n",
       ">\n",
       "    <script>\n",
       "    if (window.require && require.defined && require.defined(\"nbextensions/webio-jupyter-notebook\")) {\n",
       "        console.log(\"Jupyter WebIO extension detected, not mounting.\");\n",
       "    } else if (window.WebIO) {\n",
       "        WebIO.mount(\n",
       "            document.querySelector('[data-webio-mountpoint=\"15797261932222887142\"]'),\n",
       "            {\"props\":{},\"nodeType\":\"DOM\",\"type\":\"node\",\"instanceArgs\":{\"namespace\":\"html\",\"tag\":\"div\"},\"children\":[{\"props\":{\"className\":\"field interact-widget\"},\"nodeType\":\"DOM\",\"type\":\"node\",\"instanceArgs\":{\"namespace\":\"html\",\"tag\":\"div\"},\"children\":[{\"props\":{},\"nodeType\":\"Scope\",\"type\":\"node\",\"instanceArgs\":{\"imports\":{\"data\":[{\"name\":\"knockout\",\"type\":\"js\",\"url\":\"\\/assetserver\\/06b5713f7394e9c781d3d3143d6fd532e7f814ce-knockout.js\"},{\"name\":\"knockout_punches\",\"type\":\"js\",\"url\":\"\\/assetserver\\/695de4db56dde9805b672fe778fb2fc752e9b632-knockout_punches.js\"},{\"name\":null,\"type\":\"js\",\"url\":\"\\/assetserver\\/34429b1bda68384beb0ffa7f95387ae5c749ead8-all.js\"},{\"name\":null,\"type\":\"css\",\"url\":\"\\/assetserver\\/c419a6b294b1a5dd89a2e1c98ad5b129fc32f27a-style.css\"},{\"name\":null,\"type\":\"css\",\"url\":\"\\/assetserver\\/d5ba1dfd4729f8c7abf4feafae3421b6e556899d-bulma_confined.min.css\"}],\"type\":\"async_block\"},\"id\":\"5300012622764071089\",\"handlers\":{\"changes\":[\"(function (val){return (val!=this.model[\\\"changes\\\"]()) ? (this.valueFromJulia[\\\"changes\\\"]=true, this.model[\\\"changes\\\"](val)) : undefined})\"],\"index\":[\"(function (val){return (val!=this.model[\\\"index\\\"]()) ? (this.valueFromJulia[\\\"index\\\"]=true, this.model[\\\"index\\\"](val)) : undefined})\"]},\"systemjs_options\":null,\"mount_callbacks\":[\"function () {\\n    var handler = (function (ko, koPunches) {\\n    ko.punches.enableAll();\\n    ko.bindingHandlers.numericValue = {\\n        init: function(element, valueAccessor, allBindings, data, context) {\\n            var stringified = ko.observable(ko.unwrap(valueAccessor()));\\n            stringified.subscribe(function(value) {\\n                var val = parseFloat(value);\\n                if (!isNaN(val)) {\\n                    valueAccessor()(val);\\n                }\\n            });\\n            valueAccessor().subscribe(function(value) {\\n                var str = JSON.stringify(value);\\n                if ((str == \\\"0\\\") && ([\\\"-0\\\", \\\"-0.\\\"].indexOf(stringified()) >= 0))\\n                     return;\\n                 if ([\\\"null\\\", \\\"\\\"].indexOf(str) >= 0)\\n                     return;\\n                stringified(str);\\n            });\\n            ko.applyBindingsToNode(\\n                element,\\n                {\\n                    value: stringified,\\n                    valueUpdate: allBindings.get('valueUpdate'),\\n                },\\n                context,\\n            );\\n        }\\n    };\\n    var json_data = {\\\"formatted_vals\\\":[\\\"1\\\",\\\"2\\\",\\\"3\\\",\\\"4\\\",\\\"5\\\",\\\"6\\\",\\\"7\\\",\\\"8\\\",\\\"9\\\",\\\"10\\\",\\\"11\\\",\\\"12\\\",\\\"13\\\",\\\"14\\\",\\\"15\\\",\\\"16\\\",\\\"17\\\",\\\"18\\\",\\\"19\\\",\\\"20\\\",\\\"21\\\",\\\"22\\\",\\\"23\\\",\\\"24\\\",\\\"25\\\",\\\"26\\\",\\\"27\\\",\\\"28\\\",\\\"29\\\",\\\"30\\\",\\\"31\\\",\\\"32\\\",\\\"33\\\",\\\"34\\\",\\\"35\\\",\\\"36\\\",\\\"37\\\",\\\"38\\\",\\\"39\\\",\\\"40\\\",\\\"41\\\",\\\"42\\\",\\\"43\\\",\\\"44\\\",\\\"45\\\",\\\"46\\\",\\\"47\\\",\\\"48\\\",\\\"49\\\",\\\"50\\\",\\\"51\\\",\\\"52\\\",\\\"53\\\",\\\"54\\\",\\\"55\\\",\\\"56\\\",\\\"57\\\",\\\"58\\\",\\\"59\\\",\\\"60\\\",\\\"61\\\",\\\"62\\\",\\\"63\\\",\\\"64\\\",\\\"65\\\",\\\"66\\\",\\\"67\\\",\\\"68\\\",\\\"69\\\",\\\"70\\\",\\\"71\\\",\\\"72\\\",\\\"73\\\",\\\"74\\\",\\\"75\\\",\\\"76\\\",\\\"77\\\",\\\"78\\\",\\\"79\\\",\\\"80\\\"],\\\"changes\\\":WebIO.getval({\\\"name\\\":\\\"changes\\\",\\\"scope\\\":\\\"5300012622764071089\\\",\\\"id\\\":\\\"ob_20\\\",\\\"type\\\":\\\"observable\\\"}),\\\"index\\\":WebIO.getval({\\\"name\\\":\\\"index\\\",\\\"scope\\\":\\\"5300012622764071089\\\",\\\"id\\\":\\\"ob_19\\\",\\\"type\\\":\\\"observable\\\"})};\\n    var self = this;\\n    function AppViewModel() {\\n        for (var key in json_data) {\\n            var el = json_data[key];\\n            this[key] = Array.isArray(el) ? ko.observableArray(el) : ko.observable(el);\\n        }\\n        \\n        [this[\\\"formatted_val\\\"]=ko.computed(    function(){\\n        return this.formatted_vals()[parseInt(this.index())-(1)];\\n    }\\n,this)]\\n        [this[\\\"changes\\\"].subscribe((function (val){!(this.valueFromJulia[\\\"changes\\\"]) ? (WebIO.setval({\\\"name\\\":\\\"changes\\\",\\\"scope\\\":\\\"5300012622764071089\\\",\\\"id\\\":\\\"ob_20\\\",\\\"type\\\":\\\"observable\\\"},val)) : undefined; return this.valueFromJulia[\\\"changes\\\"]=false}),self),this[\\\"index\\\"].subscribe((function (val){!(this.valueFromJulia[\\\"index\\\"]) ? (WebIO.setval({\\\"name\\\":\\\"index\\\",\\\"scope\\\":\\\"5300012622764071089\\\",\\\"id\\\":\\\"ob_19\\\",\\\"type\\\":\\\"observable\\\"},val)) : undefined; return this.valueFromJulia[\\\"index\\\"]=false}),self)]\\n        \\n    }\\n    self.model = new AppViewModel();\\n    self.valueFromJulia = {};\\n    for (var key in json_data) {\\n        self.valueFromJulia[key] = false;\\n    }\\n    ko.applyBindings(self.model, self.dom);\\n}\\n);\\n    (WebIO.importBlock({\\\"data\\\":[{\\\"name\\\":\\\"knockout\\\",\\\"type\\\":\\\"js\\\",\\\"url\\\":\\\"\\/assetserver\\/06b5713f7394e9c781d3d3143d6fd532e7f814ce-knockout.js\\\"},{\\\"name\\\":\\\"knockout_punches\\\",\\\"type\\\":\\\"js\\\",\\\"url\\\":\\\"\\/assetserver\\/695de4db56dde9805b672fe778fb2fc752e9b632-knockout_punches.js\\\"}],\\\"type\\\":\\\"async_block\\\"})).then((imports) => handler.apply(this, imports));\\n}\\n\"],\"observables\":{\"changes\":{\"sync\":false,\"id\":\"ob_20\",\"value\":0},\"index\":{\"sync\":true,\"id\":\"ob_19\",\"value\":40}}},\"children\":[{\"props\":{\"className\":\"interact-flex-row interact-widget\"},\"nodeType\":\"DOM\",\"type\":\"node\",\"instanceArgs\":{\"namespace\":\"html\",\"tag\":\"div\"},\"children\":[{\"props\":{\"className\":\"interact-flex-row-left\"},\"nodeType\":\"DOM\",\"type\":\"node\",\"instanceArgs\":{\"namespace\":\"html\",\"tag\":\"div\"},\"children\":[{\"props\":{\"className\":\"interact \",\"style\":{\"padding\":\"5px 10px 0px 10px\"}},\"nodeType\":\"DOM\",\"type\":\"node\",\"instanceArgs\":{\"namespace\":\"html\",\"tag\":\"label\"},\"children\":[\"n\"]}]},{\"props\":{\"className\":\"interact-flex-row-center\"},\"nodeType\":\"DOM\",\"type\":\"node\",\"instanceArgs\":{\"namespace\":\"html\",\"tag\":\"div\"},\"children\":[{\"props\":{\"max\":80,\"min\":1,\"attributes\":{\"type\":\"range\",\"data-bind\":\"numericValue: index, valueUpdate: 'input', event: {change: function (){this.changes(this.changes()+1)}}\",\"orient\":\"horizontal\"},\"step\":1,\"className\":\"slider slider is-fullwidth\",\"style\":{}},\"nodeType\":\"DOM\",\"type\":\"node\",\"instanceArgs\":{\"namespace\":\"html\",\"tag\":\"input\"},\"children\":[]}]},{\"props\":{\"className\":\"interact-flex-row-right\"},\"nodeType\":\"DOM\",\"type\":\"node\",\"instanceArgs\":{\"namespace\":\"html\",\"tag\":\"div\"},\"children\":[{\"props\":{\"attributes\":{\"data-bind\":\"text: formatted_val\"}},\"nodeType\":\"DOM\",\"type\":\"node\",\"instanceArgs\":{\"namespace\":\"html\",\"tag\":\"p\"},\"children\":[]}]}]}]}]},{\"props\":{},\"nodeType\":\"Scope\",\"type\":\"node\",\"instanceArgs\":{\"imports\":{\"data\":[],\"type\":\"async_block\"},\"id\":\"6294367980517771400\",\"handlers\":{},\"systemjs_options\":null,\"mount_callbacks\":[],\"observables\":{\"obs-node\":{\"sync\":false,\"id\":\"ob_24\",\"value\":{\"props\":{\"className\":\"interact-flex-row interact-widget\"},\"nodeType\":\"DOM\",\"type\":\"node\",\"instanceArgs\":{\"namespace\":\"html\",\"tag\":\"div\"},\"children\":[{\"props\":{\"setInnerHtml\":\"<?xml version=\\\"1.0\\\" encoding=\\\"UTF-8\\\"?>\\n<!DOCTYPE svg PUBLIC \\\"-\\/\\/W3C\\/\\/DTD SVG 1.1\\/\\/EN\\\"\\n \\\"http:\\/\\/www.w3.org\\/Graphics\\/SVG\\/1.1\\/DTD\\/svg11.dtd\\\">\\n<svg xmlns=\\\"http:\\/\\/www.w3.org\\/2000\\/svg\\\" version=\\\"1.1\\\"\\n     width=\\\"180.0mm\\\" height=\\\"25.0mm\\\"\\n     shape-rendering=\\\"crispEdges\\\">\\n<rect x=\\\"0.0mm\\\" y=\\\"0.0mm\\\"\\n      width=\\\"3.5mm\\\" height=\\\"24.0mm\\\"\\n      fill=\\\"#000000\\\" stroke=\\\"none\\\" \\/>\\n<rect x=\\\"4.5mm\\\" y=\\\"0.0mm\\\"\\n      width=\\\"3.5mm\\\" height=\\\"24.0mm\\\"\\n      fill=\\\"#FFFF62\\\" stroke=\\\"none\\\" \\/>\\n<rect x=\\\"9.0mm\\\" y=\\\"0.0mm\\\"\\n      width=\\\"3.5mm\\\" height=\\\"24.0mm\\\"\\n      fill=\\\"#FF9FFF\\\" stroke=\\\"none\\\" \\/>\\n<rect x=\\\"13.5mm\\\" y=\\\"0.0mm\\\"\\n      width=\\\"3.5mm\\\" height=\\\"24.0mm\\\"\\n      fill=\\\"#00D6FF\\\" stroke=\\\"none\\\" \\/>\\n<rect x=\\\"18.0mm\\\" y=\\\"0.0mm\\\"\\n      width=\\\"3.5mm\\\" height=\\\"24.0mm\\\"\\n      fill=\\\"#D74400\\\" stroke=\\\"none\\\" \\/>\\n<rect x=\\\"22.5mm\\\" y=\\\"0.0mm\\\"\\n      width=\\\"3.5mm\\\" height=\\\"24.0mm\\\"\\n      fill=\\\"#008029\\\" stroke=\\\"none\\\" \\/>\\n<rect x=\\\"27.0mm\\\" y=\\\"0.0mm\\\"\\n      width=\\\"3.5mm\\\" height=\\\"24.0mm\\\"\\n      fill=\\\"#005FD5\\\" stroke=\\\"none\\\" \\/>\\n<rect x=\\\"31.5mm\\\" y=\\\"0.0mm\\\"\\n      width=\\\"3.5mm\\\" height=\\\"24.0mm\\\"\\n      fill=\\\"#930068\\\" stroke=\\\"none\\\" \\/>\\n<rect x=\\\"36.0mm\\\" y=\\\"0.0mm\\\"\\n      width=\\\"3.5mm\\\" height=\\\"24.0mm\\\"\\n      fill=\\\"#FFCBB5\\\" stroke=\\\"none\\\" \\/>\\n<rect x=\\\"40.5mm\\\" y=\\\"0.0mm\\\"\\n      width=\\\"3.5mm\\\" height=\\\"24.0mm\\\"\\n      fill=\\\"#A78600\\\" stroke=\\\"none\\\" \\/>\\n<rect x=\\\"45.0mm\\\" y=\\\"0.0mm\\\"\\n      width=\\\"3.5mm\\\" height=\\\"24.0mm\\\"\\n      fill=\\\"#00FFC5\\\" stroke=\\\"none\\\" \\/>\\n<rect x=\\\"49.5mm\\\" y=\\\"0.0mm\\\"\\n      width=\\\"3.5mm\\\" height=\\\"24.0mm\\\"\\n      fill=\\\"#007E86\\\" stroke=\\\"none\\\" \\/>\\n<rect x=\\\"54.0mm\\\" y=\\\"0.0mm\\\"\\n      width=\\\"3.5mm\\\" height=\\\"24.0mm\\\"\\n      fill=\\\"#534200\\\" stroke=\\\"none\\\" \\/>\\n<rect x=\\\"58.5mm\\\" y=\\\"0.0mm\\\"\\n      width=\\\"3.5mm\\\" height=\\\"24.0mm\\\"\\n      fill=\\\"#8C8793\\\" stroke=\\\"none\\\" \\/>\\n<rect x=\\\"63.0mm\\\" y=\\\"0.0mm\\\"\\n      width=\\\"3.5mm\\\" height=\\\"24.0mm\\\"\\n      fill=\\\"#680000\\\" stroke=\\\"none\\\" \\/>\\n<rect x=\\\"67.5mm\\\" y=\\\"0.0mm\\\"\\n      width=\\\"3.5mm\\\" height=\\\"24.0mm\\\"\\n      fill=\\\"#00005A\\\" stroke=\\\"none\\\" \\/>\\n<rect x=\\\"72.0mm\\\" y=\\\"0.0mm\\\"\\n      width=\\\"3.5mm\\\" height=\\\"24.0mm\\\"\\n      fill=\\\"#FF2C6F\\\" stroke=\\\"none\\\" \\/>\\n<rect x=\\\"76.5mm\\\" y=\\\"0.0mm\\\"\\n      width=\\\"3.5mm\\\" height=\\\"24.0mm\\\"\\n      fill=\\\"#F7FFF6\\\" stroke=\\\"none\\\" \\/>\\n<rect x=\\\"81.0mm\\\" y=\\\"0.0mm\\\"\\n      width=\\\"3.5mm\\\" height=\\\"24.0mm\\\"\\n      fill=\\\"#003D25\\\" stroke=\\\"none\\\" \\/>\\n<rect x=\\\"85.5mm\\\" y=\\\"0.0mm\\\"\\n      width=\\\"3.5mm\\\" height=\\\"24.0mm\\\"\\n      fill=\\\"#91ABFF\\\" stroke=\\\"none\\\" \\/>\\n<rect x=\\\"90.0mm\\\" y=\\\"0.0mm\\\"\\n      width=\\\"3.5mm\\\" height=\\\"24.0mm\\\"\\n      fill=\\\"#A1B684\\\" stroke=\\\"none\\\" \\/>\\n<rect x=\\\"94.5mm\\\" y=\\\"0.0mm\\\"\\n      width=\\\"3.5mm\\\" height=\\\"24.0mm\\\"\\n      fill=\\\"#605051\\\" stroke=\\\"none\\\" \\/>\\n<rect x=\\\"99.0mm\\\" y=\\\"0.0mm\\\"\\n      width=\\\"3.5mm\\\" height=\\\"24.0mm\\\"\\n      fill=\\\"#C129E2\\\" stroke=\\\"none\\\" \\/>\\n<rect x=\\\"103.5mm\\\" y=\\\"0.0mm\\\"\\n      width=\\\"3.5mm\\\" height=\\\"24.0mm\\\"\\n      fill=\\\"#FF8E1E\\\" stroke=\\\"none\\\" \\/>\\n<rect x=\\\"108.0mm\\\" y=\\\"0.0mm\\\"\\n      width=\\\"3.5mm\\\" height=\\\"24.0mm\\\"\\n      fill=\\\"#003F51\\\" stroke=\\\"none\\\" \\/>\\n<rect x=\\\"112.5mm\\\" y=\\\"0.0mm\\\"\\n      width=\\\"3.5mm\\\" height=\\\"24.0mm\\\"\\n      fill=\\\"#797860\\\" stroke=\\\"none\\\" \\/>\\n<rect x=\\\"117.0mm\\\" y=\\\"0.0mm\\\"\\n      width=\\\"3.5mm\\\" height=\\\"24.0mm\\\"\\n      fill=\\\"#2E001C\\\" stroke=\\\"none\\\" \\/>\\n<rect x=\\\"121.5mm\\\" y=\\\"0.0mm\\\"\\n      width=\\\"3.5mm\\\" height=\\\"24.0mm\\\"\\n      fill=\\\"#01AF99\\\" stroke=\\\"none\\\" \\/>\\n<rect x=\\\"126.0mm\\\" y=\\\"0.0mm\\\"\\n      width=\\\"3.5mm\\\" height=\\\"24.0mm\\\"\\n      fill=\\\"#FFE6FF\\\" stroke=\\\"none\\\" \\/>\\n<rect x=\\\"130.5mm\\\" y=\\\"0.0mm\\\"\\n      width=\\\"3.5mm\\\" height=\\\"24.0mm\\\"\\n      fill=\\\"#77DA00\\\" stroke=\\\"none\\\" \\/>\\n<rect x=\\\"135.0mm\\\" y=\\\"0.0mm\\\"\\n      width=\\\"3.5mm\\\" height=\\\"24.0mm\\\"\\n      fill=\\\"#5B4B83\\\" stroke=\\\"none\\\" \\/>\\n<rect x=\\\"139.5mm\\\" y=\\\"0.0mm\\\"\\n      width=\\\"3.5mm\\\" height=\\\"24.0mm\\\"\\n      fill=\\\"#0094CF\\\" stroke=\\\"none\\\" \\/>\\n<rect x=\\\"144.0mm\\\" y=\\\"0.0mm\\\"\\n      width=\\\"3.5mm\\\" height=\\\"24.0mm\\\"\\n      fill=\\\"#B8739F\\\" stroke=\\\"none\\\" \\/>\\n<rect x=\\\"148.5mm\\\" y=\\\"0.0mm\\\"\\n      width=\\\"3.5mm\\\" height=\\\"24.0mm\\\"\\n      fill=\\\"#FF8269\\\" stroke=\\\"none\\\" \\/>\\n<rect x=\\\"153.0mm\\\" y=\\\"0.0mm\\\"\\n      width=\\\"3.5mm\\\" height=\\\"24.0mm\\\"\\n      fill=\\\"#FFBE05\\\" stroke=\\\"none\\\" \\/>\\n<rect x=\\\"157.5mm\\\" y=\\\"0.0mm\\\"\\n      width=\\\"3.5mm\\\" height=\\\"24.0mm\\\"\\n      fill=\\\"#C20030\\\" stroke=\\\"none\\\" \\/>\\n<rect x=\\\"162.0mm\\\" y=\\\"0.0mm\\\"\\n      width=\\\"3.5mm\\\" height=\\\"24.0mm\\\"\\n      fill=\\\"#A9806C\\\" stroke=\\\"none\\\" \\/>\\n<rect x=\\\"166.5mm\\\" y=\\\"0.0mm\\\"\\n      width=\\\"3.5mm\\\" height=\\\"24.0mm\\\"\\n      fill=\\\"#955600\\\" stroke=\\\"none\\\" \\/>\\n<rect x=\\\"171.0mm\\\" y=\\\"0.0mm\\\"\\n      width=\\\"3.5mm\\\" height=\\\"24.0mm\\\"\\n      fill=\\\"#9FB3B2\\\" stroke=\\\"none\\\" \\/>\\n<rect x=\\\"175.5mm\\\" y=\\\"0.0mm\\\"\\n      width=\\\"3.5mm\\\" height=\\\"24.0mm\\\"\\n      fill=\\\"#789500\\\" stroke=\\\"none\\\" \\/>\\n<\\/svg>\"},\"nodeType\":\"DOM\",\"type\":\"node\",\"instanceArgs\":{\"namespace\":\"html\",\"tag\":\"div\"},\"children\":[]}]}}}},\"children\":[{\"props\":{},\"nodeType\":\"ObservableNode\",\"type\":\"node\",\"instanceArgs\":{\"id\":\"ob_24\",\"name\":\"obs-node\"},\"children\":[]}]}]},\n",
       "            window,\n",
       "        );\n",
       "    } else {\n",
       "        document\n",
       "            .querySelector('[data-webio-mountpoint=\"15797261932222887142\"]')\n",
       "            .innerHTML = (\n",
       "                '<strong>WebIO not detected. Please read ' +\n",
       "                '<a href=\"https://juliagizmos.github.io/WebIO.jl/latest/troubleshooting/not-detected/\">the troubleshooting guide</a> ' +\n",
       "                'for more information on how to resolve this issue.' +\n",
       "                '</strong>'\n",
       "            );\n",
       "    }\n",
       "    </script>\n",
       "</div>\n"
      ],
      "text/plain": [
       "Node{WebIO.DOM}(WebIO.DOM(:html, :div), Any[Node{WebIO.DOM}(WebIO.DOM(:html, :div), Any[Scope(Node{WebIO.DOM}(WebIO.DOM(:html, :div), Any[Node{WebIO.DOM}(WebIO.DOM(:html, :div), Any[Node{WebIO.DOM}(WebIO.DOM(:html, :label), Any[\"n\"], Dict{Symbol,Any}(:className => \"interact \",:style => Dict{Any,Any}(:padding => \"5px 10px 0px 10px\")))], Dict{Symbol,Any}(:className => \"interact-flex-row-left\")), Node{WebIO.DOM}(WebIO.DOM(:html, :div), Any[Node{WebIO.DOM}(WebIO.DOM(:html, :input), Any[], Dict{Symbol,Any}(:max => 80,:min => 1,:attributes => Dict{Any,Any}(:type => \"range\",Symbol(\"data-bind\") => \"numericValue: index, valueUpdate: 'input', event: {change: function (){this.changes(this.changes()+1)}}\",\"orient\" => \"horizontal\"),:step => 1,:className => \"slider slider is-fullwidth\",:style => Dict{Any,Any}()))], Dict{Symbol,Any}(:className => \"interact-flex-row-center\")), Node{WebIO.DOM}(WebIO.DOM(:html, :div), Any[Node{WebIO.DOM}(WebIO.DOM(:html, :p), Any[], Dict{Symbol,Any}(:attributes => Dict(\"data-bind\" => \"text: formatted_val\")))], Dict{Symbol,Any}(:className => \"interact-flex-row-right\"))], Dict{Symbol,Any}(:className => \"interact-flex-row interact-widget\")), Dict{String,Tuple{Observables.AbstractObservable,Union{Nothing, Bool}}}(\"changes\" => (Observable{Int64} with 1 listeners. Value:\n",
       "0, nothing),\"index\" => (Observable{Int64} with 2 listeners. Value:\n",
       "40, nothing)), Set(String[]), nothing, Asset[Asset(\"js\", \"knockout\", \"C:\\\\Users\\\\carsten\\\\.julia\\\\packages\\\\Knockout\\\\1sDlc\\\\src\\\\..\\\\assets\\\\knockout.js\"), Asset(\"js\", \"knockout_punches\", \"C:\\\\Users\\\\carsten\\\\.julia\\\\packages\\\\Knockout\\\\1sDlc\\\\src\\\\..\\\\assets\\\\knockout_punches.js\"), Asset(\"js\", nothing, \"C:\\\\Users\\\\carsten\\\\.julia\\\\packages\\\\InteractBase\\\\9mFwe\\\\src\\\\..\\\\assets\\\\all.js\"), Asset(\"css\", nothing, \"C:\\\\Users\\\\carsten\\\\.julia\\\\packages\\\\InteractBase\\\\9mFwe\\\\src\\\\..\\\\assets\\\\style.css\"), Asset(\"css\", nothing, \"C:\\\\Users\\\\carsten\\\\.julia\\\\packages\\\\Interact\\\\SbgIk\\\\src\\\\..\\\\assets\\\\bulma_confined.min.css\")], Dict{Any,Any}(\"changes\" => Any[WebIO.JSString(\"(function (val){return (val!=this.model[\\\"changes\\\"]()) ? (this.valueFromJulia[\\\"changes\\\"]=true, this.model[\\\"changes\\\"](val)) : undefined})\")],\"index\" => Any[WebIO.JSString(\"(function (val){return (val!=this.model[\\\"index\\\"]()) ? (this.valueFromJulia[\\\"index\\\"]=true, this.model[\\\"index\\\"](val)) : undefined})\")]), WebIO.ConnectionPool(Channel{Any}(sz_max:32,sz_curr:0), Set(AbstractConnection[]), Base.GenericCondition{Base.AlwaysLockedST}(Base.InvasiveLinkedList{Task}(Task (runnable) @0x00000000210933d0, Task (runnable) @0x00000000210933d0), Base.AlwaysLockedST(1))), WebIO.JSString[WebIO.JSString(\"function () {\\n    var handler = (function (ko, koPunches) {\\n    ko.punches.enableAll();\\n    ko.bindingHandlers.numericValue = {\\n        init: function(element, valueAccessor, allBindings, data, context) {\\n            var stringified = ko.observable(ko.unwrap(valueAccessor()));\\n            stringified.subscribe(function(value) {\\n                var val = parseFloat(value);\\n                if (!isNaN(val)) {\\n                    valueAccessor()(val);\\n                }\\n            });\\n            valueAccessor().subscribe(function(value) {\\n                var str = JSON.stringify(value);\\n                if ((str == \\\"0\\\") && ([\\\"-0\\\", \\\"-0.\\\"].indexOf(stringified()) >= 0))\\n                     return;\\n                 if ([\\\"null\\\", \\\"\\\"].indexOf(str) >= 0)\\n                     return;\\n                stringified(str);\\n            });\\n            ko.applyBindingsToNode(\\n                element,\\n                {\\n                    value: stringified,\\n                    valueUpdate: allBindings.get('valueUpdate'),\\n                },\\n                context,\\n            );\\n        }\\n    };\\n    var json_data = {\\\"formatted_vals\\\":[\\\"1\\\",\\\"2\\\",\\\"3\\\",\\\"4\\\",\\\"5\\\",\\\"6\\\",\\\"7\\\",\\\"8\\\",\\\"9\\\",\\\"10\\\",\\\"11\\\",\\\"12\\\",\\\"13\\\",\\\"14\\\",\\\"15\\\",\\\"16\\\",\\\"17\\\",\\\"18\\\",\\\"19\\\",\\\"20\\\",\\\"21\\\",\\\"22\\\",\\\"23\\\",\\\"24\\\",\\\"25\\\",\\\"26\\\",\\\"27\\\",\\\"28\\\",\\\"29\\\",\\\"30\\\",\\\"31\\\",\\\"32\\\",\\\"33\\\",\\\"34\\\",\\\"35\\\",\\\"36\\\",\\\"37\\\",\\\"38\\\",\\\"39\\\",\\\"40\\\",\\\"41\\\",\\\"42\\\",\\\"43\\\",\\\"44\\\",\\\"45\\\",\\\"46\\\",\\\"47\\\",\\\"48\\\",\\\"49\\\",\\\"50\\\",\\\"51\\\",\\\"52\\\",\\\"53\\\",\\\"54\\\",\\\"55\\\",\\\"56\\\",\\\"57\\\",\\\"58\\\",\\\"59\\\",\\\"60\\\",\\\"61\\\",\\\"62\\\",\\\"63\\\",\\\"64\\\",\\\"65\\\",\\\"66\\\",\\\"67\\\",\\\"68\\\",\\\"69\\\",\\\"70\\\",\\\"71\\\",\\\"72\\\",\\\"73\\\",\\\"74\\\",\\\"75\\\",\\\"76\\\",\\\"77\\\",\\\"78\\\",\\\"79\\\",\\\"80\\\"],\\\"changes\\\":WebIO.getval({\\\"name\\\":\\\"changes\\\",\\\"scope\\\":\\\"5300012622764071089\\\",\\\"id\\\":\\\"ob_20\\\",\\\"type\\\":\\\"observable\\\"}),\\\"index\\\":WebIO.getval({\\\"name\\\":\\\"index\\\",\\\"scope\\\":\\\"5300012622764071089\\\",\\\"id\\\":\\\"ob_19\\\",\\\"type\\\":\\\"observable\\\"})};\\n    var self = this;\\n    function AppViewModel() {\\n        for (var key in json_data) {\\n            var el = json_data[key];\\n            this[key] = Array.isArray(el) ? ko.observableArray(el) : ko.observable(el);\\n        }\\n        \\n        [this[\\\"formatted_val\\\"]=ko.computed(    function(){\\n        return this.formatted_vals()[parseInt(this.index())-(1)];\\n    }\\n,this)]\\n        [this[\\\"changes\\\"].subscribe((function (val){!(this.valueFromJulia[\\\"changes\\\"]) ? (WebIO.setval({\\\"name\\\":\\\"changes\\\",\\\"scope\\\":\\\"5300012622764071089\\\",\\\"id\\\":\\\"ob_20\\\",\\\"type\\\":\\\"observable\\\"},val)) : undefined; return this.valueFromJulia[\\\"changes\\\"]=false}),self),this[\\\"index\\\"].subscribe((function (val){!(this.valueFromJulia[\\\"index\\\"]) ? (WebIO.setval({\\\"name\\\":\\\"index\\\",\\\"scope\\\":\\\"5300012622764071089\\\",\\\"id\\\":\\\"ob_19\\\",\\\"type\\\":\\\"observable\\\"},val)) : undefined; return this.valueFromJulia[\\\"index\\\"]=false}),self)]\\n        \\n    }\\n    self.model = new AppViewModel();\\n    self.valueFromJulia = {};\\n    for (var key in json_data) {\\n        self.valueFromJulia[key] = false;\\n    }\\n    ko.applyBindings(self.model, self.dom);\\n}\\n);\\n    (WebIO.importBlock({\\\"data\\\":[{\\\"name\\\":\\\"knockout\\\",\\\"type\\\":\\\"js\\\",\\\"url\\\":\\\"/assetserver/06b5713f7394e9c781d3d3143d6fd532e7f814ce-knockout.js\\\"},{\\\"name\\\":\\\"knockout_punches\\\",\\\"type\\\":\\\"js\\\",\\\"url\\\":\\\"/assetserver/695de4db56dde9805b672fe778fb2fc752e9b632-knockout_punches.js\\\"}],\\\"type\\\":\\\"async_block\\\"})).then((imports) => handler.apply(this, imports));\\n}\\n\")])], Dict{Symbol,Any}(:className => \"field interact-widget\")), Observable{Any} with 0 listeners. Value:\n",
       "Node{WebIO.DOM}(WebIO.DOM(:html, :div), Any[RGB{FixedPointNumbers.Normed{UInt8,8}}[RGB{N0f8}(0.0,0.0,0.0), RGB{N0f8}(1.0,1.0,0.384), RGB{N0f8}(1.0,0.624,1.0), RGB{N0f8}(0.0,0.839,1.0), RGB{N0f8}(0.843,0.267,0.0), RGB{N0f8}(0.0,0.502,0.161), RGB{N0f8}(0.0,0.373,0.835), RGB{N0f8}(0.576,0.0,0.408), RGB{N0f8}(1.0,0.796,0.71), RGB{N0f8}(0.655,0.525,0.0)  …  RGB{N0f8}(0.357,0.294,0.514), RGB{N0f8}(0.0,0.58,0.812), RGB{N0f8}(0.722,0.451,0.624), RGB{N0f8}(1.0,0.51,0.412), RGB{N0f8}(1.0,0.745,0.02), RGB{N0f8}(0.761,0.0,0.188), RGB{N0f8}(0.663,0.502,0.424), RGB{N0f8}(0.584,0.337,0.0), RGB{N0f8}(0.624,0.702,0.698), RGB{N0f8}(0.471,0.584,0.0)]], Dict{Symbol,Any}(:className => \"interact-flex-row interact-widget\"))], Dict{Symbol,Any}())"
      ]
     },
     "execution_count": 8,
     "metadata": {
      "application/vnd.webio.node+json": {
       "kernelId": null
      }
     },
     "output_type": "execute_result"
    }
   ],
   "source": [
    "@manipulate for n in 1:80\n",
    "    distinguishable_colors(n)\n",
    "end"
   ]
  },
  {
   "cell_type": "code",
   "execution_count": 9,
   "metadata": {},
   "outputs": [
    {
     "data": {
      "image/svg+xml": [
       "<?xml version=\"1.0\" encoding=\"UTF-8\"?>\n",
       "<!DOCTYPE svg PUBLIC \"-//W3C//DTD SVG 1.1//EN\"\n",
       " \"http://www.w3.org/Graphics/SVG/1.1/DTD/svg11.dtd\">\n",
       "<svg xmlns=\"http://www.w3.org/2000/svg\" version=\"1.1\"\n",
       "     width=\"180.0mm\" height=\"25.0mm\"\n",
       "     shape-rendering=\"crispEdges\">\n",
       "<rect x=\"0.0mm\" y=\"0.0mm\"\n",
       "      width=\"17.0mm\" height=\"24.0mm\"\n",
       "      fill=\"#000000\" stroke=\"none\" />\n",
       "<rect x=\"18.0mm\" y=\"0.0mm\"\n",
       "      width=\"17.0mm\" height=\"24.0mm\"\n",
       "      fill=\"#FFFF62\" stroke=\"none\" />\n",
       "<rect x=\"36.0mm\" y=\"0.0mm\"\n",
       "      width=\"17.0mm\" height=\"24.0mm\"\n",
       "      fill=\"#FF9FFF\" stroke=\"none\" />\n",
       "<rect x=\"54.0mm\" y=\"0.0mm\"\n",
       "      width=\"17.0mm\" height=\"24.0mm\"\n",
       "      fill=\"#00D6FF\" stroke=\"none\" />\n",
       "<rect x=\"72.0mm\" y=\"0.0mm\"\n",
       "      width=\"17.0mm\" height=\"24.0mm\"\n",
       "      fill=\"#D74400\" stroke=\"none\" />\n",
       "<rect x=\"90.0mm\" y=\"0.0mm\"\n",
       "      width=\"17.0mm\" height=\"24.0mm\"\n",
       "      fill=\"#008029\" stroke=\"none\" />\n",
       "<rect x=\"108.0mm\" y=\"0.0mm\"\n",
       "      width=\"17.0mm\" height=\"24.0mm\"\n",
       "      fill=\"#005FD5\" stroke=\"none\" />\n",
       "<rect x=\"126.0mm\" y=\"0.0mm\"\n",
       "      width=\"17.0mm\" height=\"24.0mm\"\n",
       "      fill=\"#930068\" stroke=\"none\" />\n",
       "<rect x=\"144.0mm\" y=\"0.0mm\"\n",
       "      width=\"17.0mm\" height=\"24.0mm\"\n",
       "      fill=\"#FFCBB5\" stroke=\"none\" />\n",
       "<rect x=\"162.0mm\" y=\"0.0mm\"\n",
       "      width=\"17.0mm\" height=\"24.0mm\"\n",
       "      fill=\"#A78600\" stroke=\"none\" />\n",
       "</svg>"
      ],
      "text/plain": [
       "10-element Array{RGB{N0f8},1} with eltype RGB{FixedPointNumbers.Normed{UInt8,8}}:\n",
       " RGB{N0f8}(0.0,0.0,0.0)    \n",
       " RGB{N0f8}(1.0,1.0,0.384)  \n",
       " RGB{N0f8}(1.0,0.624,1.0)  \n",
       " RGB{N0f8}(0.0,0.839,1.0)  \n",
       " RGB{N0f8}(0.843,0.267,0.0)\n",
       " RGB{N0f8}(0.0,0.502,0.161)\n",
       " RGB{N0f8}(0.0,0.373,0.835)\n",
       " RGB{N0f8}(0.576,0.0,0.408)\n",
       " RGB{N0f8}(1.0,0.796,0.71) \n",
       " RGB{N0f8}(0.655,0.525,0.0)"
      ]
     },
     "execution_count": 9,
     "metadata": {},
     "output_type": "execute_result"
    }
   ],
   "source": [
    "colors = distinguishable_colors(10)"
   ]
  },
  {
   "cell_type": "code",
   "execution_count": 10,
   "metadata": {},
   "outputs": [
    {
     "data": {
      "image/svg+xml": [
       "<?xml version=\"1.0\" encoding=\"UTF-8\"?>\n",
       "<!DOCTYPE svg PUBLIC \"-//W3C//DTD SVG 1.1//EN\"\n",
       " \"http://www.w3.org/Graphics/SVG/1.1/DTD/svg11.dtd\">\n",
       "<svg xmlns=\"http://www.w3.org/2000/svg\" version=\"1.1\"\n",
       "     width=\"25mm\" height=\"25mm\" viewBox=\"0 0 1 1\">\n",
       "     <rect width=\"1\" height=\"1\"\n",
       "           fill=\"#000000\" stroke=\"none\"/>\n",
       "</svg>\n"
      ],
      "text/plain": [
       "RGB{N0f8}(0.0,0.0,0.0)"
      ]
     },
     "execution_count": 10,
     "metadata": {},
     "output_type": "execute_result"
    }
   ],
   "source": [
    "colors[1]"
   ]
  },
  {
   "cell_type": "code",
   "execution_count": 11,
   "metadata": {},
   "outputs": [
    {
     "data": {
      "application/vnd.webio.node+json": {
       "children": [
        {
         "children": [
          {
           "children": [
            {
             "children": [
              {
               "children": [
                {
                 "children": [
                  "i"
                 ],
                 "instanceArgs": {
                  "namespace": "html",
                  "tag": "label"
                 },
                 "nodeType": "DOM",
                 "props": {
                  "className": "interact ",
                  "style": {
                   "padding": "5px 10px 0px 10px"
                  }
                 },
                 "type": "node"
                }
               ],
               "instanceArgs": {
                "namespace": "html",
                "tag": "div"
               },
               "nodeType": "DOM",
               "props": {
                "className": "interact-flex-row-left"
               },
               "type": "node"
              },
              {
               "children": [
                {
                 "children": [],
                 "instanceArgs": {
                  "namespace": "html",
                  "tag": "input"
                 },
                 "nodeType": "DOM",
                 "props": {
                  "attributes": {
                   "data-bind": "numericValue: index, valueUpdate: 'input', event: {change: function (){this.changes(this.changes()+1)}}",
                   "orient": "horizontal",
                   "type": "range"
                  },
                  "className": "slider slider is-fullwidth",
                  "max": 8,
                  "min": 1,
                  "step": 1,
                  "style": {}
                 },
                 "type": "node"
                }
               ],
               "instanceArgs": {
                "namespace": "html",
                "tag": "div"
               },
               "nodeType": "DOM",
               "props": {
                "className": "interact-flex-row-center"
               },
               "type": "node"
              },
              {
               "children": [
                {
                 "children": [],
                 "instanceArgs": {
                  "namespace": "html",
                  "tag": "p"
                 },
                 "nodeType": "DOM",
                 "props": {
                  "attributes": {
                   "data-bind": "text: formatted_val"
                  }
                 },
                 "type": "node"
                }
               ],
               "instanceArgs": {
                "namespace": "html",
                "tag": "div"
               },
               "nodeType": "DOM",
               "props": {
                "className": "interact-flex-row-right"
               },
               "type": "node"
              }
             ],
             "instanceArgs": {
              "namespace": "html",
              "tag": "div"
             },
             "nodeType": "DOM",
             "props": {
              "className": "interact-flex-row interact-widget"
             },
             "type": "node"
            }
           ],
           "instanceArgs": {
            "handlers": {
             "changes": [
              "(function (val){return (val!=this.model[\"changes\"]()) ? (this.valueFromJulia[\"changes\"]=true, this.model[\"changes\"](val)) : undefined})"
             ],
             "index": [
              "(function (val){return (val!=this.model[\"index\"]()) ? (this.valueFromJulia[\"index\"]=true, this.model[\"index\"](val)) : undefined})"
             ]
            },
            "id": "16362240099863701390",
            "imports": {
             "data": [
              {
               "name": "knockout",
               "type": "js",
               "url": "/assetserver/06b5713f7394e9c781d3d3143d6fd532e7f814ce-knockout.js"
              },
              {
               "name": "knockout_punches",
               "type": "js",
               "url": "/assetserver/695de4db56dde9805b672fe778fb2fc752e9b632-knockout_punches.js"
              },
              {
               "name": null,
               "type": "js",
               "url": "/assetserver/34429b1bda68384beb0ffa7f95387ae5c749ead8-all.js"
              },
              {
               "name": null,
               "type": "css",
               "url": "/assetserver/c419a6b294b1a5dd89a2e1c98ad5b129fc32f27a-style.css"
              },
              {
               "name": null,
               "type": "css",
               "url": "/assetserver/d5ba1dfd4729f8c7abf4feafae3421b6e556899d-bulma_confined.min.css"
              }
             ],
             "type": "async_block"
            },
            "mount_callbacks": [
             "function () {\n    var handler = (function (ko, koPunches) {\n    ko.punches.enableAll();\n    ko.bindingHandlers.numericValue = {\n        init: function(element, valueAccessor, allBindings, data, context) {\n            var stringified = ko.observable(ko.unwrap(valueAccessor()));\n            stringified.subscribe(function(value) {\n                var val = parseFloat(value);\n                if (!isNaN(val)) {\n                    valueAccessor()(val);\n                }\n            });\n            valueAccessor().subscribe(function(value) {\n                var str = JSON.stringify(value);\n                if ((str == \"0\") && ([\"-0\", \"-0.\"].indexOf(stringified()) >= 0))\n                     return;\n                 if ([\"null\", \"\"].indexOf(str) >= 0)\n                     return;\n                stringified(str);\n            });\n            ko.applyBindingsToNode(\n                element,\n                {\n                    value: stringified,\n                    valueUpdate: allBindings.get('valueUpdate'),\n                },\n                context,\n            );\n        }\n    };\n    var json_data = {\"formatted_vals\":[\"1\",\"2\",\"3\",\"4\",\"5\",\"6\",\"7\",\"8\"],\"changes\":WebIO.getval({\"name\":\"changes\",\"scope\":\"16362240099863701390\",\"id\":\"ob_28\",\"type\":\"observable\"}),\"index\":WebIO.getval({\"name\":\"index\",\"scope\":\"16362240099863701390\",\"id\":\"ob_27\",\"type\":\"observable\"})};\n    var self = this;\n    function AppViewModel() {\n        for (var key in json_data) {\n            var el = json_data[key];\n            this[key] = Array.isArray(el) ? ko.observableArray(el) : ko.observable(el);\n        }\n        \n        [this[\"formatted_val\"]=ko.computed(    function(){\n        return this.formatted_vals()[parseInt(this.index())-(1)];\n    }\n,this)]\n        [this[\"changes\"].subscribe((function (val){!(this.valueFromJulia[\"changes\"]) ? (WebIO.setval({\"name\":\"changes\",\"scope\":\"16362240099863701390\",\"id\":\"ob_28\",\"type\":\"observable\"},val)) : undefined; return this.valueFromJulia[\"changes\"]=false}),self),this[\"index\"].subscribe((function (val){!(this.valueFromJulia[\"index\"]) ? (WebIO.setval({\"name\":\"index\",\"scope\":\"16362240099863701390\",\"id\":\"ob_27\",\"type\":\"observable\"},val)) : undefined; return this.valueFromJulia[\"index\"]=false}),self)]\n        \n    }\n    self.model = new AppViewModel();\n    self.valueFromJulia = {};\n    for (var key in json_data) {\n        self.valueFromJulia[key] = false;\n    }\n    ko.applyBindings(self.model, self.dom);\n}\n);\n    (WebIO.importBlock({\"data\":[{\"name\":\"knockout\",\"type\":\"js\",\"url\":\"/assetserver/06b5713f7394e9c781d3d3143d6fd532e7f814ce-knockout.js\"},{\"name\":\"knockout_punches\",\"type\":\"js\",\"url\":\"/assetserver/695de4db56dde9805b672fe778fb2fc752e9b632-knockout_punches.js\"}],\"type\":\"async_block\"})).then((imports) => handler.apply(this, imports));\n}\n"
            ],
            "observables": {
             "changes": {
              "id": "ob_28",
              "sync": false,
              "value": 0
             },
             "index": {
              "id": "ob_27",
              "sync": true,
              "value": 4
             }
            },
            "systemjs_options": null
           },
           "nodeType": "Scope",
           "props": {},
           "type": "node"
          }
         ],
         "instanceArgs": {
          "namespace": "html",
          "tag": "div"
         },
         "nodeType": "DOM",
         "props": {
          "className": "field interact-widget"
         },
         "type": "node"
        },
        {
         "children": [
          {
           "children": [
            {
             "children": [
              {
               "children": [
                {
                 "children": [
                  "j"
                 ],
                 "instanceArgs": {
                  "namespace": "html",
                  "tag": "label"
                 },
                 "nodeType": "DOM",
                 "props": {
                  "className": "interact ",
                  "style": {
                   "padding": "5px 10px 0px 10px"
                  }
                 },
                 "type": "node"
                }
               ],
               "instanceArgs": {
                "namespace": "html",
                "tag": "div"
               },
               "nodeType": "DOM",
               "props": {
                "className": "interact-flex-row-left"
               },
               "type": "node"
              },
              {
               "children": [
                {
                 "children": [],
                 "instanceArgs": {
                  "namespace": "html",
                  "tag": "input"
                 },
                 "nodeType": "DOM",
                 "props": {
                  "attributes": {
                   "data-bind": "numericValue: index, valueUpdate: 'input', event: {change: function (){this.changes(this.changes()+1)}}",
                   "orient": "horizontal",
                   "type": "range"
                  },
                  "className": "slider slider is-fullwidth",
                  "max": 8,
                  "min": 1,
                  "step": 1,
                  "style": {}
                 },
                 "type": "node"
                }
               ],
               "instanceArgs": {
                "namespace": "html",
                "tag": "div"
               },
               "nodeType": "DOM",
               "props": {
                "className": "interact-flex-row-center"
               },
               "type": "node"
              },
              {
               "children": [
                {
                 "children": [],
                 "instanceArgs": {
                  "namespace": "html",
                  "tag": "p"
                 },
                 "nodeType": "DOM",
                 "props": {
                  "attributes": {
                   "data-bind": "text: formatted_val"
                  }
                 },
                 "type": "node"
                }
               ],
               "instanceArgs": {
                "namespace": "html",
                "tag": "div"
               },
               "nodeType": "DOM",
               "props": {
                "className": "interact-flex-row-right"
               },
               "type": "node"
              }
             ],
             "instanceArgs": {
              "namespace": "html",
              "tag": "div"
             },
             "nodeType": "DOM",
             "props": {
              "className": "interact-flex-row interact-widget"
             },
             "type": "node"
            }
           ],
           "instanceArgs": {
            "handlers": {
             "changes": [
              "(function (val){return (val!=this.model[\"changes\"]()) ? (this.valueFromJulia[\"changes\"]=true, this.model[\"changes\"](val)) : undefined})"
             ],
             "index": [
              "(function (val){return (val!=this.model[\"index\"]()) ? (this.valueFromJulia[\"index\"]=true, this.model[\"index\"](val)) : undefined})"
             ]
            },
            "id": "5529053754235079009",
            "imports": {
             "data": [
              {
               "name": "knockout",
               "type": "js",
               "url": "/assetserver/06b5713f7394e9c781d3d3143d6fd532e7f814ce-knockout.js"
              },
              {
               "name": "knockout_punches",
               "type": "js",
               "url": "/assetserver/695de4db56dde9805b672fe778fb2fc752e9b632-knockout_punches.js"
              },
              {
               "name": null,
               "type": "js",
               "url": "/assetserver/34429b1bda68384beb0ffa7f95387ae5c749ead8-all.js"
              },
              {
               "name": null,
               "type": "css",
               "url": "/assetserver/c419a6b294b1a5dd89a2e1c98ad5b129fc32f27a-style.css"
              },
              {
               "name": null,
               "type": "css",
               "url": "/assetserver/d5ba1dfd4729f8c7abf4feafae3421b6e556899d-bulma_confined.min.css"
              }
             ],
             "type": "async_block"
            },
            "mount_callbacks": [
             "function () {\n    var handler = (function (ko, koPunches) {\n    ko.punches.enableAll();\n    ko.bindingHandlers.numericValue = {\n        init: function(element, valueAccessor, allBindings, data, context) {\n            var stringified = ko.observable(ko.unwrap(valueAccessor()));\n            stringified.subscribe(function(value) {\n                var val = parseFloat(value);\n                if (!isNaN(val)) {\n                    valueAccessor()(val);\n                }\n            });\n            valueAccessor().subscribe(function(value) {\n                var str = JSON.stringify(value);\n                if ((str == \"0\") && ([\"-0\", \"-0.\"].indexOf(stringified()) >= 0))\n                     return;\n                 if ([\"null\", \"\"].indexOf(str) >= 0)\n                     return;\n                stringified(str);\n            });\n            ko.applyBindingsToNode(\n                element,\n                {\n                    value: stringified,\n                    valueUpdate: allBindings.get('valueUpdate'),\n                },\n                context,\n            );\n        }\n    };\n    var json_data = {\"formatted_vals\":[\"1\",\"2\",\"3\",\"4\",\"5\",\"6\",\"7\",\"8\"],\"changes\":WebIO.getval({\"name\":\"changes\",\"scope\":\"5529053754235079009\",\"id\":\"ob_30\",\"type\":\"observable\"}),\"index\":WebIO.getval({\"name\":\"index\",\"scope\":\"5529053754235079009\",\"id\":\"ob_29\",\"type\":\"observable\"})};\n    var self = this;\n    function AppViewModel() {\n        for (var key in json_data) {\n            var el = json_data[key];\n            this[key] = Array.isArray(el) ? ko.observableArray(el) : ko.observable(el);\n        }\n        \n        [this[\"formatted_val\"]=ko.computed(    function(){\n        return this.formatted_vals()[parseInt(this.index())-(1)];\n    }\n,this)]\n        [this[\"changes\"].subscribe((function (val){!(this.valueFromJulia[\"changes\"]) ? (WebIO.setval({\"name\":\"changes\",\"scope\":\"5529053754235079009\",\"id\":\"ob_30\",\"type\":\"observable\"},val)) : undefined; return this.valueFromJulia[\"changes\"]=false}),self),this[\"index\"].subscribe((function (val){!(this.valueFromJulia[\"index\"]) ? (WebIO.setval({\"name\":\"index\",\"scope\":\"5529053754235079009\",\"id\":\"ob_29\",\"type\":\"observable\"},val)) : undefined; return this.valueFromJulia[\"index\"]=false}),self)]\n        \n    }\n    self.model = new AppViewModel();\n    self.valueFromJulia = {};\n    for (var key in json_data) {\n        self.valueFromJulia[key] = false;\n    }\n    ko.applyBindings(self.model, self.dom);\n}\n);\n    (WebIO.importBlock({\"data\":[{\"name\":\"knockout\",\"type\":\"js\",\"url\":\"/assetserver/06b5713f7394e9c781d3d3143d6fd532e7f814ce-knockout.js\"},{\"name\":\"knockout_punches\",\"type\":\"js\",\"url\":\"/assetserver/695de4db56dde9805b672fe778fb2fc752e9b632-knockout_punches.js\"}],\"type\":\"async_block\"})).then((imports) => handler.apply(this, imports));\n}\n"
            ],
            "observables": {
             "changes": {
              "id": "ob_30",
              "sync": false,
              "value": 0
             },
             "index": {
              "id": "ob_29",
              "sync": true,
              "value": 4
             }
            },
            "systemjs_options": null
           },
           "nodeType": "Scope",
           "props": {},
           "type": "node"
          }
         ],
         "instanceArgs": {
          "namespace": "html",
          "tag": "div"
         },
         "nodeType": "DOM",
         "props": {
          "className": "field interact-widget"
         },
         "type": "node"
        },
        {
         "children": [
          {
           "children": [],
           "instanceArgs": {
            "id": "ob_36",
            "name": "obs-node"
           },
           "nodeType": "ObservableNode",
           "props": {},
           "type": "node"
          }
         ],
         "instanceArgs": {
          "handlers": {},
          "id": "4539246658087331342",
          "imports": {
           "data": [],
           "type": "async_block"
          },
          "mount_callbacks": [],
          "observables": {
           "obs-node": {
            "id": "ob_36",
            "sync": false,
            "value": {
             "children": [
              {
               "children": [],
               "instanceArgs": {
                "namespace": "html",
                "tag": "div"
               },
               "nodeType": "DOM",
               "props": {
                "setInnerHtml": "<?xml version=\"1.0\" encoding=\"UTF-8\"?>\n<!DOCTYPE svg PUBLIC \"-//W3C//DTD SVG 1.1//EN\"\n \"http://www.w3.org/Graphics/SVG/1.1/DTD/svg11.dtd\">\n<svg xmlns=\"http://www.w3.org/2000/svg\" version=\"1.1\"\n     width=\"150.0mm\" height=\"150.0mm\"\n     shape-rendering=\"crispEdges\">\n<rect x=\"0.0mm\" y=\"0.0mm\"\n      width=\"14.0mm\" height=\"14.0mm\"\n      fill=\"#000000\" stroke=\"none\" />\n<rect x=\"15.0mm\" y=\"0.0mm\"\n      width=\"14.0mm\" height=\"14.0mm\"\n      fill=\"#000000\" stroke=\"none\" />\n<rect x=\"30.0mm\" y=\"0.0mm\"\n      width=\"14.0mm\" height=\"14.0mm\"\n      fill=\"#000000\" stroke=\"none\" />\n<rect x=\"45.0mm\" y=\"0.0mm\"\n      width=\"14.0mm\" height=\"14.0mm\"\n      fill=\"#000000\" stroke=\"none\" />\n<rect x=\"60.0mm\" y=\"0.0mm\"\n      width=\"14.0mm\" height=\"14.0mm\"\n      fill=\"#000000\" stroke=\"none\" />\n<rect x=\"75.0mm\" y=\"0.0mm\"\n      width=\"14.0mm\" height=\"14.0mm\"\n      fill=\"#000000\" stroke=\"none\" />\n<rect x=\"90.0mm\" y=\"0.0mm\"\n      width=\"14.0mm\" height=\"14.0mm\"\n      fill=\"#000000\" stroke=\"none\" />\n<rect x=\"105.0mm\" y=\"0.0mm\"\n      width=\"14.0mm\" height=\"14.0mm\"\n      fill=\"#000000\" stroke=\"none\" />\n<rect x=\"120.0mm\" y=\"0.0mm\"\n      width=\"14.0mm\" height=\"14.0mm\"\n      fill=\"#000000\" stroke=\"none\" />\n<rect x=\"135.0mm\" y=\"0.0mm\"\n      width=\"14.0mm\" height=\"14.0mm\"\n      fill=\"#000000\" stroke=\"none\" />\n<rect x=\"0.0mm\" y=\"15.0mm\"\n      width=\"14.0mm\" height=\"14.0mm\"\n      fill=\"#000000\" stroke=\"none\" />\n<rect x=\"15.0mm\" y=\"15.0mm\"\n      width=\"14.0mm\" height=\"14.0mm\"\n      fill=\"#000000\" stroke=\"none\" />\n<rect x=\"30.0mm\" y=\"15.0mm\"\n      width=\"14.0mm\" height=\"14.0mm\"\n      fill=\"#000000\" stroke=\"none\" />\n<rect x=\"45.0mm\" y=\"15.0mm\"\n      width=\"14.0mm\" height=\"14.0mm\"\n      fill=\"#000000\" stroke=\"none\" />\n<rect x=\"60.0mm\" y=\"15.0mm\"\n      width=\"14.0mm\" height=\"14.0mm\"\n      fill=\"#000000\" stroke=\"none\" />\n<rect x=\"75.0mm\" y=\"15.0mm\"\n      width=\"14.0mm\" height=\"14.0mm\"\n      fill=\"#000000\" stroke=\"none\" />\n<rect x=\"90.0mm\" y=\"15.0mm\"\n      width=\"14.0mm\" height=\"14.0mm\"\n      fill=\"#000000\" stroke=\"none\" />\n<rect x=\"105.0mm\" y=\"15.0mm\"\n      width=\"14.0mm\" height=\"14.0mm\"\n      fill=\"#000000\" stroke=\"none\" />\n<rect x=\"120.0mm\" y=\"15.0mm\"\n      width=\"14.0mm\" height=\"14.0mm\"\n      fill=\"#000000\" stroke=\"none\" />\n<rect x=\"135.0mm\" y=\"15.0mm\"\n      width=\"14.0mm\" height=\"14.0mm\"\n      fill=\"#000000\" stroke=\"none\" />\n<rect x=\"0.0mm\" y=\"30.0mm\"\n      width=\"14.0mm\" height=\"14.0mm\"\n      fill=\"#000000\" stroke=\"none\" />\n<rect x=\"15.0mm\" y=\"30.0mm\"\n      width=\"14.0mm\" height=\"14.0mm\"\n      fill=\"#000000\" stroke=\"none\" />\n<rect x=\"30.0mm\" y=\"30.0mm\"\n      width=\"14.0mm\" height=\"14.0mm\"\n      fill=\"#000000\" stroke=\"none\" />\n<rect x=\"45.0mm\" y=\"30.0mm\"\n      width=\"14.0mm\" height=\"14.0mm\"\n      fill=\"#000000\" stroke=\"none\" />\n<rect x=\"60.0mm\" y=\"30.0mm\"\n      width=\"14.0mm\" height=\"14.0mm\"\n      fill=\"#000000\" stroke=\"none\" />\n<rect x=\"75.0mm\" y=\"30.0mm\"\n      width=\"14.0mm\" height=\"14.0mm\"\n      fill=\"#000000\" stroke=\"none\" />\n<rect x=\"90.0mm\" y=\"30.0mm\"\n      width=\"14.0mm\" height=\"14.0mm\"\n      fill=\"#000000\" stroke=\"none\" />\n<rect x=\"105.0mm\" y=\"30.0mm\"\n      width=\"14.0mm\" height=\"14.0mm\"\n      fill=\"#000000\" stroke=\"none\" />\n<rect x=\"120.0mm\" y=\"30.0mm\"\n      width=\"14.0mm\" height=\"14.0mm\"\n      fill=\"#000000\" stroke=\"none\" />\n<rect x=\"135.0mm\" y=\"30.0mm\"\n      width=\"14.0mm\" height=\"14.0mm\"\n      fill=\"#000000\" stroke=\"none\" />\n<rect x=\"0.0mm\" y=\"45.0mm\"\n      width=\"14.0mm\" height=\"14.0mm\"\n      fill=\"#000000\" stroke=\"none\" />\n<rect x=\"15.0mm\" y=\"45.0mm\"\n      width=\"14.0mm\" height=\"14.0mm\"\n      fill=\"#000000\" stroke=\"none\" />\n<rect x=\"30.0mm\" y=\"45.0mm\"\n      width=\"14.0mm\" height=\"14.0mm\"\n      fill=\"#000000\" stroke=\"none\" />\n<rect x=\"45.0mm\" y=\"45.0mm\"\n      width=\"14.0mm\" height=\"14.0mm\"\n      fill=\"#00D6FF\" stroke=\"none\" />\n<rect x=\"60.0mm\" y=\"45.0mm\"\n      width=\"14.0mm\" height=\"14.0mm\"\n      fill=\"#00D6FF\" stroke=\"none\" />\n<rect x=\"75.0mm\" y=\"45.0mm\"\n      width=\"14.0mm\" height=\"14.0mm\"\n      fill=\"#00D6FF\" stroke=\"none\" />\n<rect x=\"90.0mm\" y=\"45.0mm\"\n      width=\"14.0mm\" height=\"14.0mm\"\n      fill=\"#000000\" stroke=\"none\" />\n<rect x=\"105.0mm\" y=\"45.0mm\"\n      width=\"14.0mm\" height=\"14.0mm\"\n      fill=\"#000000\" stroke=\"none\" />\n<rect x=\"120.0mm\" y=\"45.0mm\"\n      width=\"14.0mm\" height=\"14.0mm\"\n      fill=\"#000000\" stroke=\"none\" />\n<rect x=\"135.0mm\" y=\"45.0mm\"\n      width=\"14.0mm\" height=\"14.0mm\"\n      fill=\"#000000\" stroke=\"none\" />\n<rect x=\"0.0mm\" y=\"60.0mm\"\n      width=\"14.0mm\" height=\"14.0mm\"\n      fill=\"#000000\" stroke=\"none\" />\n<rect x=\"15.0mm\" y=\"60.0mm\"\n      width=\"14.0mm\" height=\"14.0mm\"\n      fill=\"#000000\" stroke=\"none\" />\n<rect x=\"30.0mm\" y=\"60.0mm\"\n      width=\"14.0mm\" height=\"14.0mm\"\n      fill=\"#000000\" stroke=\"none\" />\n<rect x=\"45.0mm\" y=\"60.0mm\"\n      width=\"14.0mm\" height=\"14.0mm\"\n      fill=\"#00D6FF\" stroke=\"none\" />\n<rect x=\"60.0mm\" y=\"60.0mm\"\n      width=\"14.0mm\" height=\"14.0mm\"\n      fill=\"#00D6FF\" stroke=\"none\" />\n<rect x=\"75.0mm\" y=\"60.0mm\"\n      width=\"14.0mm\" height=\"14.0mm\"\n      fill=\"#00D6FF\" stroke=\"none\" />\n<rect x=\"90.0mm\" y=\"60.0mm\"\n      width=\"14.0mm\" height=\"14.0mm\"\n      fill=\"#000000\" stroke=\"none\" />\n<rect x=\"105.0mm\" y=\"60.0mm\"\n      width=\"14.0mm\" height=\"14.0mm\"\n      fill=\"#000000\" stroke=\"none\" />\n<rect x=\"120.0mm\" y=\"60.0mm\"\n      width=\"14.0mm\" height=\"14.0mm\"\n      fill=\"#000000\" stroke=\"none\" />\n<rect x=\"135.0mm\" y=\"60.0mm\"\n      width=\"14.0mm\" height=\"14.0mm\"\n      fill=\"#000000\" stroke=\"none\" />\n<rect x=\"0.0mm\" y=\"75.0mm\"\n      width=\"14.0mm\" height=\"14.0mm\"\n      fill=\"#000000\" stroke=\"none\" />\n<rect x=\"15.0mm\" y=\"75.0mm\"\n      width=\"14.0mm\" height=\"14.0mm\"\n      fill=\"#000000\" stroke=\"none\" />\n<rect x=\"30.0mm\" y=\"75.0mm\"\n      width=\"14.0mm\" height=\"14.0mm\"\n      fill=\"#000000\" stroke=\"none\" />\n<rect x=\"45.0mm\" y=\"75.0mm\"\n      width=\"14.0mm\" height=\"14.0mm\"\n      fill=\"#00D6FF\" stroke=\"none\" />\n<rect x=\"60.0mm\" y=\"75.0mm\"\n      width=\"14.0mm\" height=\"14.0mm\"\n      fill=\"#00D6FF\" stroke=\"none\" />\n<rect x=\"75.0mm\" y=\"75.0mm\"\n      width=\"14.0mm\" height=\"14.0mm\"\n      fill=\"#00D6FF\" stroke=\"none\" />\n<rect x=\"90.0mm\" y=\"75.0mm\"\n      width=\"14.0mm\" height=\"14.0mm\"\n      fill=\"#000000\" stroke=\"none\" />\n<rect x=\"105.0mm\" y=\"75.0mm\"\n      width=\"14.0mm\" height=\"14.0mm\"\n      fill=\"#000000\" stroke=\"none\" />\n<rect x=\"120.0mm\" y=\"75.0mm\"\n      width=\"14.0mm\" height=\"14.0mm\"\n      fill=\"#000000\" stroke=\"none\" />\n<rect x=\"135.0mm\" y=\"75.0mm\"\n      width=\"14.0mm\" height=\"14.0mm\"\n      fill=\"#000000\" stroke=\"none\" />\n<rect x=\"0.0mm\" y=\"90.0mm\"\n      width=\"14.0mm\" height=\"14.0mm\"\n      fill=\"#000000\" stroke=\"none\" />\n<rect x=\"15.0mm\" y=\"90.0mm\"\n      width=\"14.0mm\" height=\"14.0mm\"\n      fill=\"#000000\" stroke=\"none\" />\n<rect x=\"30.0mm\" y=\"90.0mm\"\n      width=\"14.0mm\" height=\"14.0mm\"\n      fill=\"#000000\" stroke=\"none\" />\n<rect x=\"45.0mm\" y=\"90.0mm\"\n      width=\"14.0mm\" height=\"14.0mm\"\n      fill=\"#000000\" stroke=\"none\" />\n<rect x=\"60.0mm\" y=\"90.0mm\"\n      width=\"14.0mm\" height=\"14.0mm\"\n      fill=\"#000000\" stroke=\"none\" />\n<rect x=\"75.0mm\" y=\"90.0mm\"\n      width=\"14.0mm\" height=\"14.0mm\"\n      fill=\"#000000\" stroke=\"none\" />\n<rect x=\"90.0mm\" y=\"90.0mm\"\n      width=\"14.0mm\" height=\"14.0mm\"\n      fill=\"#000000\" stroke=\"none\" />\n<rect x=\"105.0mm\" y=\"90.0mm\"\n      width=\"14.0mm\" height=\"14.0mm\"\n      fill=\"#000000\" stroke=\"none\" />\n<rect x=\"120.0mm\" y=\"90.0mm\"\n      width=\"14.0mm\" height=\"14.0mm\"\n      fill=\"#000000\" stroke=\"none\" />\n<rect x=\"135.0mm\" y=\"90.0mm\"\n      width=\"14.0mm\" height=\"14.0mm\"\n      fill=\"#000000\" stroke=\"none\" />\n<rect x=\"0.0mm\" y=\"105.0mm\"\n      width=\"14.0mm\" height=\"14.0mm\"\n      fill=\"#000000\" stroke=\"none\" />\n<rect x=\"15.0mm\" y=\"105.0mm\"\n      width=\"14.0mm\" height=\"14.0mm\"\n      fill=\"#000000\" stroke=\"none\" />\n<rect x=\"30.0mm\" y=\"105.0mm\"\n      width=\"14.0mm\" height=\"14.0mm\"\n      fill=\"#000000\" stroke=\"none\" />\n<rect x=\"45.0mm\" y=\"105.0mm\"\n      width=\"14.0mm\" height=\"14.0mm\"\n      fill=\"#000000\" stroke=\"none\" />\n<rect x=\"60.0mm\" y=\"105.0mm\"\n      width=\"14.0mm\" height=\"14.0mm\"\n      fill=\"#000000\" stroke=\"none\" />\n<rect x=\"75.0mm\" y=\"105.0mm\"\n      width=\"14.0mm\" height=\"14.0mm\"\n      fill=\"#000000\" stroke=\"none\" />\n<rect x=\"90.0mm\" y=\"105.0mm\"\n      width=\"14.0mm\" height=\"14.0mm\"\n      fill=\"#000000\" stroke=\"none\" />\n<rect x=\"105.0mm\" y=\"105.0mm\"\n      width=\"14.0mm\" height=\"14.0mm\"\n      fill=\"#000000\" stroke=\"none\" />\n<rect x=\"120.0mm\" y=\"105.0mm\"\n      width=\"14.0mm\" height=\"14.0mm\"\n      fill=\"#000000\" stroke=\"none\" />\n<rect x=\"135.0mm\" y=\"105.0mm\"\n      width=\"14.0mm\" height=\"14.0mm\"\n      fill=\"#000000\" stroke=\"none\" />\n<rect x=\"0.0mm\" y=\"120.0mm\"\n      width=\"14.0mm\" height=\"14.0mm\"\n      fill=\"#000000\" stroke=\"none\" />\n<rect x=\"15.0mm\" y=\"120.0mm\"\n      width=\"14.0mm\" height=\"14.0mm\"\n      fill=\"#000000\" stroke=\"none\" />\n<rect x=\"30.0mm\" y=\"120.0mm\"\n      width=\"14.0mm\" height=\"14.0mm\"\n      fill=\"#000000\" stroke=\"none\" />\n<rect x=\"45.0mm\" y=\"120.0mm\"\n      width=\"14.0mm\" height=\"14.0mm\"\n      fill=\"#000000\" stroke=\"none\" />\n<rect x=\"60.0mm\" y=\"120.0mm\"\n      width=\"14.0mm\" height=\"14.0mm\"\n      fill=\"#000000\" stroke=\"none\" />\n<rect x=\"75.0mm\" y=\"120.0mm\"\n      width=\"14.0mm\" height=\"14.0mm\"\n      fill=\"#000000\" stroke=\"none\" />\n<rect x=\"90.0mm\" y=\"120.0mm\"\n      width=\"14.0mm\" height=\"14.0mm\"\n      fill=\"#000000\" stroke=\"none\" />\n<rect x=\"105.0mm\" y=\"120.0mm\"\n      width=\"14.0mm\" height=\"14.0mm\"\n      fill=\"#000000\" stroke=\"none\" />\n<rect x=\"120.0mm\" y=\"120.0mm\"\n      width=\"14.0mm\" height=\"14.0mm\"\n      fill=\"#000000\" stroke=\"none\" />\n<rect x=\"135.0mm\" y=\"120.0mm\"\n      width=\"14.0mm\" height=\"14.0mm\"\n      fill=\"#000000\" stroke=\"none\" />\n<rect x=\"0.0mm\" y=\"135.0mm\"\n      width=\"14.0mm\" height=\"14.0mm\"\n      fill=\"#000000\" stroke=\"none\" />\n<rect x=\"15.0mm\" y=\"135.0mm\"\n      width=\"14.0mm\" height=\"14.0mm\"\n      fill=\"#000000\" stroke=\"none\" />\n<rect x=\"30.0mm\" y=\"135.0mm\"\n      width=\"14.0mm\" height=\"14.0mm\"\n      fill=\"#000000\" stroke=\"none\" />\n<rect x=\"45.0mm\" y=\"135.0mm\"\n      width=\"14.0mm\" height=\"14.0mm\"\n      fill=\"#000000\" stroke=\"none\" />\n<rect x=\"60.0mm\" y=\"135.0mm\"\n      width=\"14.0mm\" height=\"14.0mm\"\n      fill=\"#000000\" stroke=\"none\" />\n<rect x=\"75.0mm\" y=\"135.0mm\"\n      width=\"14.0mm\" height=\"14.0mm\"\n      fill=\"#000000\" stroke=\"none\" />\n<rect x=\"90.0mm\" y=\"135.0mm\"\n      width=\"14.0mm\" height=\"14.0mm\"\n      fill=\"#000000\" stroke=\"none\" />\n<rect x=\"105.0mm\" y=\"135.0mm\"\n      width=\"14.0mm\" height=\"14.0mm\"\n      fill=\"#000000\" stroke=\"none\" />\n<rect x=\"120.0mm\" y=\"135.0mm\"\n      width=\"14.0mm\" height=\"14.0mm\"\n      fill=\"#000000\" stroke=\"none\" />\n<rect x=\"135.0mm\" y=\"135.0mm\"\n      width=\"14.0mm\" height=\"14.0mm\"\n      fill=\"#000000\" stroke=\"none\" />\n</svg>"
               },
               "type": "node"
              }
             ],
             "instanceArgs": {
              "namespace": "html",
              "tag": "div"
             },
             "nodeType": "DOM",
             "props": {
              "className": "interact-flex-row interact-widget"
             },
             "type": "node"
            }
           }
          },
          "systemjs_options": null
         },
         "nodeType": "Scope",
         "props": {},
         "type": "node"
        }
       ],
       "instanceArgs": {
        "namespace": "html",
        "tag": "div"
       },
       "nodeType": "DOM",
       "props": {},
       "type": "node"
      },
      "text/html": [
       "<div\n",
       "    class=\"webio-mountpoint\"\n",
       "    data-webio-mountpoint=\"10390969944680525047\"\n",
       ">\n",
       "    <script>\n",
       "    if (window.require && require.defined && require.defined(\"nbextensions/webio-jupyter-notebook\")) {\n",
       "        console.log(\"Jupyter WebIO extension detected, not mounting.\");\n",
       "    } else if (window.WebIO) {\n",
       "        WebIO.mount(\n",
       "            document.querySelector('[data-webio-mountpoint=\"10390969944680525047\"]'),\n",
       "            {\"props\":{},\"nodeType\":\"DOM\",\"type\":\"node\",\"instanceArgs\":{\"namespace\":\"html\",\"tag\":\"div\"},\"children\":[{\"props\":{\"className\":\"field interact-widget\"},\"nodeType\":\"DOM\",\"type\":\"node\",\"instanceArgs\":{\"namespace\":\"html\",\"tag\":\"div\"},\"children\":[{\"props\":{},\"nodeType\":\"Scope\",\"type\":\"node\",\"instanceArgs\":{\"imports\":{\"data\":[{\"name\":\"knockout\",\"type\":\"js\",\"url\":\"\\/assetserver\\/06b5713f7394e9c781d3d3143d6fd532e7f814ce-knockout.js\"},{\"name\":\"knockout_punches\",\"type\":\"js\",\"url\":\"\\/assetserver\\/695de4db56dde9805b672fe778fb2fc752e9b632-knockout_punches.js\"},{\"name\":null,\"type\":\"js\",\"url\":\"\\/assetserver\\/34429b1bda68384beb0ffa7f95387ae5c749ead8-all.js\"},{\"name\":null,\"type\":\"css\",\"url\":\"\\/assetserver\\/c419a6b294b1a5dd89a2e1c98ad5b129fc32f27a-style.css\"},{\"name\":null,\"type\":\"css\",\"url\":\"\\/assetserver\\/d5ba1dfd4729f8c7abf4feafae3421b6e556899d-bulma_confined.min.css\"}],\"type\":\"async_block\"},\"id\":\"16362240099863701390\",\"handlers\":{\"changes\":[\"(function (val){return (val!=this.model[\\\"changes\\\"]()) ? (this.valueFromJulia[\\\"changes\\\"]=true, this.model[\\\"changes\\\"](val)) : undefined})\"],\"index\":[\"(function (val){return (val!=this.model[\\\"index\\\"]()) ? (this.valueFromJulia[\\\"index\\\"]=true, this.model[\\\"index\\\"](val)) : undefined})\"]},\"systemjs_options\":null,\"mount_callbacks\":[\"function () {\\n    var handler = (function (ko, koPunches) {\\n    ko.punches.enableAll();\\n    ko.bindingHandlers.numericValue = {\\n        init: function(element, valueAccessor, allBindings, data, context) {\\n            var stringified = ko.observable(ko.unwrap(valueAccessor()));\\n            stringified.subscribe(function(value) {\\n                var val = parseFloat(value);\\n                if (!isNaN(val)) {\\n                    valueAccessor()(val);\\n                }\\n            });\\n            valueAccessor().subscribe(function(value) {\\n                var str = JSON.stringify(value);\\n                if ((str == \\\"0\\\") && ([\\\"-0\\\", \\\"-0.\\\"].indexOf(stringified()) >= 0))\\n                     return;\\n                 if ([\\\"null\\\", \\\"\\\"].indexOf(str) >= 0)\\n                     return;\\n                stringified(str);\\n            });\\n            ko.applyBindingsToNode(\\n                element,\\n                {\\n                    value: stringified,\\n                    valueUpdate: allBindings.get('valueUpdate'),\\n                },\\n                context,\\n            );\\n        }\\n    };\\n    var json_data = {\\\"formatted_vals\\\":[\\\"1\\\",\\\"2\\\",\\\"3\\\",\\\"4\\\",\\\"5\\\",\\\"6\\\",\\\"7\\\",\\\"8\\\"],\\\"changes\\\":WebIO.getval({\\\"name\\\":\\\"changes\\\",\\\"scope\\\":\\\"16362240099863701390\\\",\\\"id\\\":\\\"ob_28\\\",\\\"type\\\":\\\"observable\\\"}),\\\"index\\\":WebIO.getval({\\\"name\\\":\\\"index\\\",\\\"scope\\\":\\\"16362240099863701390\\\",\\\"id\\\":\\\"ob_27\\\",\\\"type\\\":\\\"observable\\\"})};\\n    var self = this;\\n    function AppViewModel() {\\n        for (var key in json_data) {\\n            var el = json_data[key];\\n            this[key] = Array.isArray(el) ? ko.observableArray(el) : ko.observable(el);\\n        }\\n        \\n        [this[\\\"formatted_val\\\"]=ko.computed(    function(){\\n        return this.formatted_vals()[parseInt(this.index())-(1)];\\n    }\\n,this)]\\n        [this[\\\"changes\\\"].subscribe((function (val){!(this.valueFromJulia[\\\"changes\\\"]) ? (WebIO.setval({\\\"name\\\":\\\"changes\\\",\\\"scope\\\":\\\"16362240099863701390\\\",\\\"id\\\":\\\"ob_28\\\",\\\"type\\\":\\\"observable\\\"},val)) : undefined; return this.valueFromJulia[\\\"changes\\\"]=false}),self),this[\\\"index\\\"].subscribe((function (val){!(this.valueFromJulia[\\\"index\\\"]) ? (WebIO.setval({\\\"name\\\":\\\"index\\\",\\\"scope\\\":\\\"16362240099863701390\\\",\\\"id\\\":\\\"ob_27\\\",\\\"type\\\":\\\"observable\\\"},val)) : undefined; return this.valueFromJulia[\\\"index\\\"]=false}),self)]\\n        \\n    }\\n    self.model = new AppViewModel();\\n    self.valueFromJulia = {};\\n    for (var key in json_data) {\\n        self.valueFromJulia[key] = false;\\n    }\\n    ko.applyBindings(self.model, self.dom);\\n}\\n);\\n    (WebIO.importBlock({\\\"data\\\":[{\\\"name\\\":\\\"knockout\\\",\\\"type\\\":\\\"js\\\",\\\"url\\\":\\\"\\/assetserver\\/06b5713f7394e9c781d3d3143d6fd532e7f814ce-knockout.js\\\"},{\\\"name\\\":\\\"knockout_punches\\\",\\\"type\\\":\\\"js\\\",\\\"url\\\":\\\"\\/assetserver\\/695de4db56dde9805b672fe778fb2fc752e9b632-knockout_punches.js\\\"}],\\\"type\\\":\\\"async_block\\\"})).then((imports) => handler.apply(this, imports));\\n}\\n\"],\"observables\":{\"changes\":{\"sync\":false,\"id\":\"ob_28\",\"value\":0},\"index\":{\"sync\":true,\"id\":\"ob_27\",\"value\":4}}},\"children\":[{\"props\":{\"className\":\"interact-flex-row interact-widget\"},\"nodeType\":\"DOM\",\"type\":\"node\",\"instanceArgs\":{\"namespace\":\"html\",\"tag\":\"div\"},\"children\":[{\"props\":{\"className\":\"interact-flex-row-left\"},\"nodeType\":\"DOM\",\"type\":\"node\",\"instanceArgs\":{\"namespace\":\"html\",\"tag\":\"div\"},\"children\":[{\"props\":{\"className\":\"interact \",\"style\":{\"padding\":\"5px 10px 0px 10px\"}},\"nodeType\":\"DOM\",\"type\":\"node\",\"instanceArgs\":{\"namespace\":\"html\",\"tag\":\"label\"},\"children\":[\"i\"]}]},{\"props\":{\"className\":\"interact-flex-row-center\"},\"nodeType\":\"DOM\",\"type\":\"node\",\"instanceArgs\":{\"namespace\":\"html\",\"tag\":\"div\"},\"children\":[{\"props\":{\"max\":8,\"min\":1,\"attributes\":{\"type\":\"range\",\"data-bind\":\"numericValue: index, valueUpdate: 'input', event: {change: function (){this.changes(this.changes()+1)}}\",\"orient\":\"horizontal\"},\"step\":1,\"className\":\"slider slider is-fullwidth\",\"style\":{}},\"nodeType\":\"DOM\",\"type\":\"node\",\"instanceArgs\":{\"namespace\":\"html\",\"tag\":\"input\"},\"children\":[]}]},{\"props\":{\"className\":\"interact-flex-row-right\"},\"nodeType\":\"DOM\",\"type\":\"node\",\"instanceArgs\":{\"namespace\":\"html\",\"tag\":\"div\"},\"children\":[{\"props\":{\"attributes\":{\"data-bind\":\"text: formatted_val\"}},\"nodeType\":\"DOM\",\"type\":\"node\",\"instanceArgs\":{\"namespace\":\"html\",\"tag\":\"p\"},\"children\":[]}]}]}]}]},{\"props\":{\"className\":\"field interact-widget\"},\"nodeType\":\"DOM\",\"type\":\"node\",\"instanceArgs\":{\"namespace\":\"html\",\"tag\":\"div\"},\"children\":[{\"props\":{},\"nodeType\":\"Scope\",\"type\":\"node\",\"instanceArgs\":{\"imports\":{\"data\":[{\"name\":\"knockout\",\"type\":\"js\",\"url\":\"\\/assetserver\\/06b5713f7394e9c781d3d3143d6fd532e7f814ce-knockout.js\"},{\"name\":\"knockout_punches\",\"type\":\"js\",\"url\":\"\\/assetserver\\/695de4db56dde9805b672fe778fb2fc752e9b632-knockout_punches.js\"},{\"name\":null,\"type\":\"js\",\"url\":\"\\/assetserver\\/34429b1bda68384beb0ffa7f95387ae5c749ead8-all.js\"},{\"name\":null,\"type\":\"css\",\"url\":\"\\/assetserver\\/c419a6b294b1a5dd89a2e1c98ad5b129fc32f27a-style.css\"},{\"name\":null,\"type\":\"css\",\"url\":\"\\/assetserver\\/d5ba1dfd4729f8c7abf4feafae3421b6e556899d-bulma_confined.min.css\"}],\"type\":\"async_block\"},\"id\":\"5529053754235079009\",\"handlers\":{\"changes\":[\"(function (val){return (val!=this.model[\\\"changes\\\"]()) ? (this.valueFromJulia[\\\"changes\\\"]=true, this.model[\\\"changes\\\"](val)) : undefined})\"],\"index\":[\"(function (val){return (val!=this.model[\\\"index\\\"]()) ? (this.valueFromJulia[\\\"index\\\"]=true, this.model[\\\"index\\\"](val)) : undefined})\"]},\"systemjs_options\":null,\"mount_callbacks\":[\"function () {\\n    var handler = (function (ko, koPunches) {\\n    ko.punches.enableAll();\\n    ko.bindingHandlers.numericValue = {\\n        init: function(element, valueAccessor, allBindings, data, context) {\\n            var stringified = ko.observable(ko.unwrap(valueAccessor()));\\n            stringified.subscribe(function(value) {\\n                var val = parseFloat(value);\\n                if (!isNaN(val)) {\\n                    valueAccessor()(val);\\n                }\\n            });\\n            valueAccessor().subscribe(function(value) {\\n                var str = JSON.stringify(value);\\n                if ((str == \\\"0\\\") && ([\\\"-0\\\", \\\"-0.\\\"].indexOf(stringified()) >= 0))\\n                     return;\\n                 if ([\\\"null\\\", \\\"\\\"].indexOf(str) >= 0)\\n                     return;\\n                stringified(str);\\n            });\\n            ko.applyBindingsToNode(\\n                element,\\n                {\\n                    value: stringified,\\n                    valueUpdate: allBindings.get('valueUpdate'),\\n                },\\n                context,\\n            );\\n        }\\n    };\\n    var json_data = {\\\"formatted_vals\\\":[\\\"1\\\",\\\"2\\\",\\\"3\\\",\\\"4\\\",\\\"5\\\",\\\"6\\\",\\\"7\\\",\\\"8\\\"],\\\"changes\\\":WebIO.getval({\\\"name\\\":\\\"changes\\\",\\\"scope\\\":\\\"5529053754235079009\\\",\\\"id\\\":\\\"ob_30\\\",\\\"type\\\":\\\"observable\\\"}),\\\"index\\\":WebIO.getval({\\\"name\\\":\\\"index\\\",\\\"scope\\\":\\\"5529053754235079009\\\",\\\"id\\\":\\\"ob_29\\\",\\\"type\\\":\\\"observable\\\"})};\\n    var self = this;\\n    function AppViewModel() {\\n        for (var key in json_data) {\\n            var el = json_data[key];\\n            this[key] = Array.isArray(el) ? ko.observableArray(el) : ko.observable(el);\\n        }\\n        \\n        [this[\\\"formatted_val\\\"]=ko.computed(    function(){\\n        return this.formatted_vals()[parseInt(this.index())-(1)];\\n    }\\n,this)]\\n        [this[\\\"changes\\\"].subscribe((function (val){!(this.valueFromJulia[\\\"changes\\\"]) ? (WebIO.setval({\\\"name\\\":\\\"changes\\\",\\\"scope\\\":\\\"5529053754235079009\\\",\\\"id\\\":\\\"ob_30\\\",\\\"type\\\":\\\"observable\\\"},val)) : undefined; return this.valueFromJulia[\\\"changes\\\"]=false}),self),this[\\\"index\\\"].subscribe((function (val){!(this.valueFromJulia[\\\"index\\\"]) ? (WebIO.setval({\\\"name\\\":\\\"index\\\",\\\"scope\\\":\\\"5529053754235079009\\\",\\\"id\\\":\\\"ob_29\\\",\\\"type\\\":\\\"observable\\\"},val)) : undefined; return this.valueFromJulia[\\\"index\\\"]=false}),self)]\\n        \\n    }\\n    self.model = new AppViewModel();\\n    self.valueFromJulia = {};\\n    for (var key in json_data) {\\n        self.valueFromJulia[key] = false;\\n    }\\n    ko.applyBindings(self.model, self.dom);\\n}\\n);\\n    (WebIO.importBlock({\\\"data\\\":[{\\\"name\\\":\\\"knockout\\\",\\\"type\\\":\\\"js\\\",\\\"url\\\":\\\"\\/assetserver\\/06b5713f7394e9c781d3d3143d6fd532e7f814ce-knockout.js\\\"},{\\\"name\\\":\\\"knockout_punches\\\",\\\"type\\\":\\\"js\\\",\\\"url\\\":\\\"\\/assetserver\\/695de4db56dde9805b672fe778fb2fc752e9b632-knockout_punches.js\\\"}],\\\"type\\\":\\\"async_block\\\"})).then((imports) => handler.apply(this, imports));\\n}\\n\"],\"observables\":{\"changes\":{\"sync\":false,\"id\":\"ob_30\",\"value\":0},\"index\":{\"sync\":true,\"id\":\"ob_29\",\"value\":4}}},\"children\":[{\"props\":{\"className\":\"interact-flex-row interact-widget\"},\"nodeType\":\"DOM\",\"type\":\"node\",\"instanceArgs\":{\"namespace\":\"html\",\"tag\":\"div\"},\"children\":[{\"props\":{\"className\":\"interact-flex-row-left\"},\"nodeType\":\"DOM\",\"type\":\"node\",\"instanceArgs\":{\"namespace\":\"html\",\"tag\":\"div\"},\"children\":[{\"props\":{\"className\":\"interact \",\"style\":{\"padding\":\"5px 10px 0px 10px\"}},\"nodeType\":\"DOM\",\"type\":\"node\",\"instanceArgs\":{\"namespace\":\"html\",\"tag\":\"label\"},\"children\":[\"j\"]}]},{\"props\":{\"className\":\"interact-flex-row-center\"},\"nodeType\":\"DOM\",\"type\":\"node\",\"instanceArgs\":{\"namespace\":\"html\",\"tag\":\"div\"},\"children\":[{\"props\":{\"max\":8,\"min\":1,\"attributes\":{\"type\":\"range\",\"data-bind\":\"numericValue: index, valueUpdate: 'input', event: {change: function (){this.changes(this.changes()+1)}}\",\"orient\":\"horizontal\"},\"step\":1,\"className\":\"slider slider is-fullwidth\",\"style\":{}},\"nodeType\":\"DOM\",\"type\":\"node\",\"instanceArgs\":{\"namespace\":\"html\",\"tag\":\"input\"},\"children\":[]}]},{\"props\":{\"className\":\"interact-flex-row-right\"},\"nodeType\":\"DOM\",\"type\":\"node\",\"instanceArgs\":{\"namespace\":\"html\",\"tag\":\"div\"},\"children\":[{\"props\":{\"attributes\":{\"data-bind\":\"text: formatted_val\"}},\"nodeType\":\"DOM\",\"type\":\"node\",\"instanceArgs\":{\"namespace\":\"html\",\"tag\":\"p\"},\"children\":[]}]}]}]}]},{\"props\":{},\"nodeType\":\"Scope\",\"type\":\"node\",\"instanceArgs\":{\"imports\":{\"data\":[],\"type\":\"async_block\"},\"id\":\"860579185638775416\",\"handlers\":{},\"systemjs_options\":null,\"mount_callbacks\":[],\"observables\":{\"obs-node\":{\"sync\":false,\"id\":\"ob_34\",\"value\":{\"props\":{\"className\":\"interact-flex-row interact-widget\"},\"nodeType\":\"DOM\",\"type\":\"node\",\"instanceArgs\":{\"namespace\":\"html\",\"tag\":\"div\"},\"children\":[{\"props\":{\"setInnerHtml\":\"<?xml version=\\\"1.0\\\" encoding=\\\"UTF-8\\\"?>\\n<!DOCTYPE svg PUBLIC \\\"-\\/\\/W3C\\/\\/DTD SVG 1.1\\/\\/EN\\\"\\n \\\"http:\\/\\/www.w3.org\\/Graphics\\/SVG\\/1.1\\/DTD\\/svg11.dtd\\\">\\n<svg xmlns=\\\"http:\\/\\/www.w3.org\\/2000\\/svg\\\" version=\\\"1.1\\\"\\n     width=\\\"150.0mm\\\" height=\\\"150.0mm\\\"\\n     shape-rendering=\\\"crispEdges\\\">\\n<rect x=\\\"0.0mm\\\" y=\\\"0.0mm\\\"\\n      width=\\\"14.0mm\\\" height=\\\"14.0mm\\\"\\n      fill=\\\"#000000\\\" stroke=\\\"none\\\" \\/>\\n<rect x=\\\"15.0mm\\\" y=\\\"0.0mm\\\"\\n      width=\\\"14.0mm\\\" height=\\\"14.0mm\\\"\\n      fill=\\\"#000000\\\" stroke=\\\"none\\\" \\/>\\n<rect x=\\\"30.0mm\\\" y=\\\"0.0mm\\\"\\n      width=\\\"14.0mm\\\" height=\\\"14.0mm\\\"\\n      fill=\\\"#000000\\\" stroke=\\\"none\\\" \\/>\\n<rect x=\\\"45.0mm\\\" y=\\\"0.0mm\\\"\\n      width=\\\"14.0mm\\\" height=\\\"14.0mm\\\"\\n      fill=\\\"#000000\\\" stroke=\\\"none\\\" \\/>\\n<rect x=\\\"60.0mm\\\" y=\\\"0.0mm\\\"\\n      width=\\\"14.0mm\\\" height=\\\"14.0mm\\\"\\n      fill=\\\"#000000\\\" stroke=\\\"none\\\" \\/>\\n<rect x=\\\"75.0mm\\\" y=\\\"0.0mm\\\"\\n      width=\\\"14.0mm\\\" height=\\\"14.0mm\\\"\\n      fill=\\\"#000000\\\" stroke=\\\"none\\\" \\/>\\n<rect x=\\\"90.0mm\\\" y=\\\"0.0mm\\\"\\n      width=\\\"14.0mm\\\" height=\\\"14.0mm\\\"\\n      fill=\\\"#000000\\\" stroke=\\\"none\\\" \\/>\\n<rect x=\\\"105.0mm\\\" y=\\\"0.0mm\\\"\\n      width=\\\"14.0mm\\\" height=\\\"14.0mm\\\"\\n      fill=\\\"#000000\\\" stroke=\\\"none\\\" \\/>\\n<rect x=\\\"120.0mm\\\" y=\\\"0.0mm\\\"\\n      width=\\\"14.0mm\\\" height=\\\"14.0mm\\\"\\n      fill=\\\"#000000\\\" stroke=\\\"none\\\" \\/>\\n<rect x=\\\"135.0mm\\\" y=\\\"0.0mm\\\"\\n      width=\\\"14.0mm\\\" height=\\\"14.0mm\\\"\\n      fill=\\\"#000000\\\" stroke=\\\"none\\\" \\/>\\n<rect x=\\\"0.0mm\\\" y=\\\"15.0mm\\\"\\n      width=\\\"14.0mm\\\" height=\\\"14.0mm\\\"\\n      fill=\\\"#000000\\\" stroke=\\\"none\\\" \\/>\\n<rect x=\\\"15.0mm\\\" y=\\\"15.0mm\\\"\\n      width=\\\"14.0mm\\\" height=\\\"14.0mm\\\"\\n      fill=\\\"#000000\\\" stroke=\\\"none\\\" \\/>\\n<rect x=\\\"30.0mm\\\" y=\\\"15.0mm\\\"\\n      width=\\\"14.0mm\\\" height=\\\"14.0mm\\\"\\n      fill=\\\"#000000\\\" stroke=\\\"none\\\" \\/>\\n<rect x=\\\"45.0mm\\\" y=\\\"15.0mm\\\"\\n      width=\\\"14.0mm\\\" height=\\\"14.0mm\\\"\\n      fill=\\\"#000000\\\" stroke=\\\"none\\\" \\/>\\n<rect x=\\\"60.0mm\\\" y=\\\"15.0mm\\\"\\n      width=\\\"14.0mm\\\" height=\\\"14.0mm\\\"\\n      fill=\\\"#000000\\\" stroke=\\\"none\\\" \\/>\\n<rect x=\\\"75.0mm\\\" y=\\\"15.0mm\\\"\\n      width=\\\"14.0mm\\\" height=\\\"14.0mm\\\"\\n      fill=\\\"#000000\\\" stroke=\\\"none\\\" \\/>\\n<rect x=\\\"90.0mm\\\" y=\\\"15.0mm\\\"\\n      width=\\\"14.0mm\\\" height=\\\"14.0mm\\\"\\n      fill=\\\"#000000\\\" stroke=\\\"none\\\" \\/>\\n<rect x=\\\"105.0mm\\\" y=\\\"15.0mm\\\"\\n      width=\\\"14.0mm\\\" height=\\\"14.0mm\\\"\\n      fill=\\\"#000000\\\" stroke=\\\"none\\\" \\/>\\n<rect x=\\\"120.0mm\\\" y=\\\"15.0mm\\\"\\n      width=\\\"14.0mm\\\" height=\\\"14.0mm\\\"\\n      fill=\\\"#000000\\\" stroke=\\\"none\\\" \\/>\\n<rect x=\\\"135.0mm\\\" y=\\\"15.0mm\\\"\\n      width=\\\"14.0mm\\\" height=\\\"14.0mm\\\"\\n      fill=\\\"#000000\\\" stroke=\\\"none\\\" \\/>\\n<rect x=\\\"0.0mm\\\" y=\\\"30.0mm\\\"\\n      width=\\\"14.0mm\\\" height=\\\"14.0mm\\\"\\n      fill=\\\"#000000\\\" stroke=\\\"none\\\" \\/>\\n<rect x=\\\"15.0mm\\\" y=\\\"30.0mm\\\"\\n      width=\\\"14.0mm\\\" height=\\\"14.0mm\\\"\\n      fill=\\\"#000000\\\" stroke=\\\"none\\\" \\/>\\n<rect x=\\\"30.0mm\\\" y=\\\"30.0mm\\\"\\n      width=\\\"14.0mm\\\" height=\\\"14.0mm\\\"\\n      fill=\\\"#000000\\\" stroke=\\\"none\\\" \\/>\\n<rect x=\\\"45.0mm\\\" y=\\\"30.0mm\\\"\\n      width=\\\"14.0mm\\\" height=\\\"14.0mm\\\"\\n      fill=\\\"#000000\\\" stroke=\\\"none\\\" \\/>\\n<rect x=\\\"60.0mm\\\" y=\\\"30.0mm\\\"\\n      width=\\\"14.0mm\\\" height=\\\"14.0mm\\\"\\n      fill=\\\"#000000\\\" stroke=\\\"none\\\" \\/>\\n<rect x=\\\"75.0mm\\\" y=\\\"30.0mm\\\"\\n      width=\\\"14.0mm\\\" height=\\\"14.0mm\\\"\\n      fill=\\\"#000000\\\" stroke=\\\"none\\\" \\/>\\n<rect x=\\\"90.0mm\\\" y=\\\"30.0mm\\\"\\n      width=\\\"14.0mm\\\" height=\\\"14.0mm\\\"\\n      fill=\\\"#000000\\\" stroke=\\\"none\\\" \\/>\\n<rect x=\\\"105.0mm\\\" y=\\\"30.0mm\\\"\\n      width=\\\"14.0mm\\\" height=\\\"14.0mm\\\"\\n      fill=\\\"#000000\\\" stroke=\\\"none\\\" \\/>\\n<rect x=\\\"120.0mm\\\" y=\\\"30.0mm\\\"\\n      width=\\\"14.0mm\\\" height=\\\"14.0mm\\\"\\n      fill=\\\"#000000\\\" stroke=\\\"none\\\" \\/>\\n<rect x=\\\"135.0mm\\\" y=\\\"30.0mm\\\"\\n      width=\\\"14.0mm\\\" height=\\\"14.0mm\\\"\\n      fill=\\\"#000000\\\" stroke=\\\"none\\\" \\/>\\n<rect x=\\\"0.0mm\\\" y=\\\"45.0mm\\\"\\n      width=\\\"14.0mm\\\" height=\\\"14.0mm\\\"\\n      fill=\\\"#000000\\\" stroke=\\\"none\\\" \\/>\\n<rect x=\\\"15.0mm\\\" y=\\\"45.0mm\\\"\\n      width=\\\"14.0mm\\\" height=\\\"14.0mm\\\"\\n      fill=\\\"#000000\\\" stroke=\\\"none\\\" \\/>\\n<rect x=\\\"30.0mm\\\" y=\\\"45.0mm\\\"\\n      width=\\\"14.0mm\\\" height=\\\"14.0mm\\\"\\n      fill=\\\"#000000\\\" stroke=\\\"none\\\" \\/>\\n<rect x=\\\"45.0mm\\\" y=\\\"45.0mm\\\"\\n      width=\\\"14.0mm\\\" height=\\\"14.0mm\\\"\\n      fill=\\\"#00D6FF\\\" stroke=\\\"none\\\" \\/>\\n<rect x=\\\"60.0mm\\\" y=\\\"45.0mm\\\"\\n      width=\\\"14.0mm\\\" height=\\\"14.0mm\\\"\\n      fill=\\\"#00D6FF\\\" stroke=\\\"none\\\" \\/>\\n<rect x=\\\"75.0mm\\\" y=\\\"45.0mm\\\"\\n      width=\\\"14.0mm\\\" height=\\\"14.0mm\\\"\\n      fill=\\\"#00D6FF\\\" stroke=\\\"none\\\" \\/>\\n<rect x=\\\"90.0mm\\\" y=\\\"45.0mm\\\"\\n      width=\\\"14.0mm\\\" height=\\\"14.0mm\\\"\\n      fill=\\\"#000000\\\" stroke=\\\"none\\\" \\/>\\n<rect x=\\\"105.0mm\\\" y=\\\"45.0mm\\\"\\n      width=\\\"14.0mm\\\" height=\\\"14.0mm\\\"\\n      fill=\\\"#000000\\\" stroke=\\\"none\\\" \\/>\\n<rect x=\\\"120.0mm\\\" y=\\\"45.0mm\\\"\\n      width=\\\"14.0mm\\\" height=\\\"14.0mm\\\"\\n      fill=\\\"#000000\\\" stroke=\\\"none\\\" \\/>\\n<rect x=\\\"135.0mm\\\" y=\\\"45.0mm\\\"\\n      width=\\\"14.0mm\\\" height=\\\"14.0mm\\\"\\n      fill=\\\"#000000\\\" stroke=\\\"none\\\" \\/>\\n<rect x=\\\"0.0mm\\\" y=\\\"60.0mm\\\"\\n      width=\\\"14.0mm\\\" height=\\\"14.0mm\\\"\\n      fill=\\\"#000000\\\" stroke=\\\"none\\\" \\/>\\n<rect x=\\\"15.0mm\\\" y=\\\"60.0mm\\\"\\n      width=\\\"14.0mm\\\" height=\\\"14.0mm\\\"\\n      fill=\\\"#000000\\\" stroke=\\\"none\\\" \\/>\\n<rect x=\\\"30.0mm\\\" y=\\\"60.0mm\\\"\\n      width=\\\"14.0mm\\\" height=\\\"14.0mm\\\"\\n      fill=\\\"#000000\\\" stroke=\\\"none\\\" \\/>\\n<rect x=\\\"45.0mm\\\" y=\\\"60.0mm\\\"\\n      width=\\\"14.0mm\\\" height=\\\"14.0mm\\\"\\n      fill=\\\"#00D6FF\\\" stroke=\\\"none\\\" \\/>\\n<rect x=\\\"60.0mm\\\" y=\\\"60.0mm\\\"\\n      width=\\\"14.0mm\\\" height=\\\"14.0mm\\\"\\n      fill=\\\"#00D6FF\\\" stroke=\\\"none\\\" \\/>\\n<rect x=\\\"75.0mm\\\" y=\\\"60.0mm\\\"\\n      width=\\\"14.0mm\\\" height=\\\"14.0mm\\\"\\n      fill=\\\"#00D6FF\\\" stroke=\\\"none\\\" \\/>\\n<rect x=\\\"90.0mm\\\" y=\\\"60.0mm\\\"\\n      width=\\\"14.0mm\\\" height=\\\"14.0mm\\\"\\n      fill=\\\"#000000\\\" stroke=\\\"none\\\" \\/>\\n<rect x=\\\"105.0mm\\\" y=\\\"60.0mm\\\"\\n      width=\\\"14.0mm\\\" height=\\\"14.0mm\\\"\\n      fill=\\\"#000000\\\" stroke=\\\"none\\\" \\/>\\n<rect x=\\\"120.0mm\\\" y=\\\"60.0mm\\\"\\n      width=\\\"14.0mm\\\" height=\\\"14.0mm\\\"\\n      fill=\\\"#000000\\\" stroke=\\\"none\\\" \\/>\\n<rect x=\\\"135.0mm\\\" y=\\\"60.0mm\\\"\\n      width=\\\"14.0mm\\\" height=\\\"14.0mm\\\"\\n      fill=\\\"#000000\\\" stroke=\\\"none\\\" \\/>\\n<rect x=\\\"0.0mm\\\" y=\\\"75.0mm\\\"\\n      width=\\\"14.0mm\\\" height=\\\"14.0mm\\\"\\n      fill=\\\"#000000\\\" stroke=\\\"none\\\" \\/>\\n<rect x=\\\"15.0mm\\\" y=\\\"75.0mm\\\"\\n      width=\\\"14.0mm\\\" height=\\\"14.0mm\\\"\\n      fill=\\\"#000000\\\" stroke=\\\"none\\\" \\/>\\n<rect x=\\\"30.0mm\\\" y=\\\"75.0mm\\\"\\n      width=\\\"14.0mm\\\" height=\\\"14.0mm\\\"\\n      fill=\\\"#000000\\\" stroke=\\\"none\\\" \\/>\\n<rect x=\\\"45.0mm\\\" y=\\\"75.0mm\\\"\\n      width=\\\"14.0mm\\\" height=\\\"14.0mm\\\"\\n      fill=\\\"#00D6FF\\\" stroke=\\\"none\\\" \\/>\\n<rect x=\\\"60.0mm\\\" y=\\\"75.0mm\\\"\\n      width=\\\"14.0mm\\\" height=\\\"14.0mm\\\"\\n      fill=\\\"#00D6FF\\\" stroke=\\\"none\\\" \\/>\\n<rect x=\\\"75.0mm\\\" y=\\\"75.0mm\\\"\\n      width=\\\"14.0mm\\\" height=\\\"14.0mm\\\"\\n      fill=\\\"#00D6FF\\\" stroke=\\\"none\\\" \\/>\\n<rect x=\\\"90.0mm\\\" y=\\\"75.0mm\\\"\\n      width=\\\"14.0mm\\\" height=\\\"14.0mm\\\"\\n      fill=\\\"#000000\\\" stroke=\\\"none\\\" \\/>\\n<rect x=\\\"105.0mm\\\" y=\\\"75.0mm\\\"\\n      width=\\\"14.0mm\\\" height=\\\"14.0mm\\\"\\n      fill=\\\"#000000\\\" stroke=\\\"none\\\" \\/>\\n<rect x=\\\"120.0mm\\\" y=\\\"75.0mm\\\"\\n      width=\\\"14.0mm\\\" height=\\\"14.0mm\\\"\\n      fill=\\\"#000000\\\" stroke=\\\"none\\\" \\/>\\n<rect x=\\\"135.0mm\\\" y=\\\"75.0mm\\\"\\n      width=\\\"14.0mm\\\" height=\\\"14.0mm\\\"\\n      fill=\\\"#000000\\\" stroke=\\\"none\\\" \\/>\\n<rect x=\\\"0.0mm\\\" y=\\\"90.0mm\\\"\\n      width=\\\"14.0mm\\\" height=\\\"14.0mm\\\"\\n      fill=\\\"#000000\\\" stroke=\\\"none\\\" \\/>\\n<rect x=\\\"15.0mm\\\" y=\\\"90.0mm\\\"\\n      width=\\\"14.0mm\\\" height=\\\"14.0mm\\\"\\n      fill=\\\"#000000\\\" stroke=\\\"none\\\" \\/>\\n<rect x=\\\"30.0mm\\\" y=\\\"90.0mm\\\"\\n      width=\\\"14.0mm\\\" height=\\\"14.0mm\\\"\\n      fill=\\\"#000000\\\" stroke=\\\"none\\\" \\/>\\n<rect x=\\\"45.0mm\\\" y=\\\"90.0mm\\\"\\n      width=\\\"14.0mm\\\" height=\\\"14.0mm\\\"\\n      fill=\\\"#000000\\\" stroke=\\\"none\\\" \\/>\\n<rect x=\\\"60.0mm\\\" y=\\\"90.0mm\\\"\\n      width=\\\"14.0mm\\\" height=\\\"14.0mm\\\"\\n      fill=\\\"#000000\\\" stroke=\\\"none\\\" \\/>\\n<rect x=\\\"75.0mm\\\" y=\\\"90.0mm\\\"\\n      width=\\\"14.0mm\\\" height=\\\"14.0mm\\\"\\n      fill=\\\"#000000\\\" stroke=\\\"none\\\" \\/>\\n<rect x=\\\"90.0mm\\\" y=\\\"90.0mm\\\"\\n      width=\\\"14.0mm\\\" height=\\\"14.0mm\\\"\\n      fill=\\\"#000000\\\" stroke=\\\"none\\\" \\/>\\n<rect x=\\\"105.0mm\\\" y=\\\"90.0mm\\\"\\n      width=\\\"14.0mm\\\" height=\\\"14.0mm\\\"\\n      fill=\\\"#000000\\\" stroke=\\\"none\\\" \\/>\\n<rect x=\\\"120.0mm\\\" y=\\\"90.0mm\\\"\\n      width=\\\"14.0mm\\\" height=\\\"14.0mm\\\"\\n      fill=\\\"#000000\\\" stroke=\\\"none\\\" \\/>\\n<rect x=\\\"135.0mm\\\" y=\\\"90.0mm\\\"\\n      width=\\\"14.0mm\\\" height=\\\"14.0mm\\\"\\n      fill=\\\"#000000\\\" stroke=\\\"none\\\" \\/>\\n<rect x=\\\"0.0mm\\\" y=\\\"105.0mm\\\"\\n      width=\\\"14.0mm\\\" height=\\\"14.0mm\\\"\\n      fill=\\\"#000000\\\" stroke=\\\"none\\\" \\/>\\n<rect x=\\\"15.0mm\\\" y=\\\"105.0mm\\\"\\n      width=\\\"14.0mm\\\" height=\\\"14.0mm\\\"\\n      fill=\\\"#000000\\\" stroke=\\\"none\\\" \\/>\\n<rect x=\\\"30.0mm\\\" y=\\\"105.0mm\\\"\\n      width=\\\"14.0mm\\\" height=\\\"14.0mm\\\"\\n      fill=\\\"#000000\\\" stroke=\\\"none\\\" \\/>\\n<rect x=\\\"45.0mm\\\" y=\\\"105.0mm\\\"\\n      width=\\\"14.0mm\\\" height=\\\"14.0mm\\\"\\n      fill=\\\"#000000\\\" stroke=\\\"none\\\" \\/>\\n<rect x=\\\"60.0mm\\\" y=\\\"105.0mm\\\"\\n      width=\\\"14.0mm\\\" height=\\\"14.0mm\\\"\\n      fill=\\\"#000000\\\" stroke=\\\"none\\\" \\/>\\n<rect x=\\\"75.0mm\\\" y=\\\"105.0mm\\\"\\n      width=\\\"14.0mm\\\" height=\\\"14.0mm\\\"\\n      fill=\\\"#000000\\\" stroke=\\\"none\\\" \\/>\\n<rect x=\\\"90.0mm\\\" y=\\\"105.0mm\\\"\\n      width=\\\"14.0mm\\\" height=\\\"14.0mm\\\"\\n      fill=\\\"#000000\\\" stroke=\\\"none\\\" \\/>\\n<rect x=\\\"105.0mm\\\" y=\\\"105.0mm\\\"\\n      width=\\\"14.0mm\\\" height=\\\"14.0mm\\\"\\n      fill=\\\"#000000\\\" stroke=\\\"none\\\" \\/>\\n<rect x=\\\"120.0mm\\\" y=\\\"105.0mm\\\"\\n      width=\\\"14.0mm\\\" height=\\\"14.0mm\\\"\\n      fill=\\\"#000000\\\" stroke=\\\"none\\\" \\/>\\n<rect x=\\\"135.0mm\\\" y=\\\"105.0mm\\\"\\n      width=\\\"14.0mm\\\" height=\\\"14.0mm\\\"\\n      fill=\\\"#000000\\\" stroke=\\\"none\\\" \\/>\\n<rect x=\\\"0.0mm\\\" y=\\\"120.0mm\\\"\\n      width=\\\"14.0mm\\\" height=\\\"14.0mm\\\"\\n      fill=\\\"#000000\\\" stroke=\\\"none\\\" \\/>\\n<rect x=\\\"15.0mm\\\" y=\\\"120.0mm\\\"\\n      width=\\\"14.0mm\\\" height=\\\"14.0mm\\\"\\n      fill=\\\"#000000\\\" stroke=\\\"none\\\" \\/>\\n<rect x=\\\"30.0mm\\\" y=\\\"120.0mm\\\"\\n      width=\\\"14.0mm\\\" height=\\\"14.0mm\\\"\\n      fill=\\\"#000000\\\" stroke=\\\"none\\\" \\/>\\n<rect x=\\\"45.0mm\\\" y=\\\"120.0mm\\\"\\n      width=\\\"14.0mm\\\" height=\\\"14.0mm\\\"\\n      fill=\\\"#000000\\\" stroke=\\\"none\\\" \\/>\\n<rect x=\\\"60.0mm\\\" y=\\\"120.0mm\\\"\\n      width=\\\"14.0mm\\\" height=\\\"14.0mm\\\"\\n      fill=\\\"#000000\\\" stroke=\\\"none\\\" \\/>\\n<rect x=\\\"75.0mm\\\" y=\\\"120.0mm\\\"\\n      width=\\\"14.0mm\\\" height=\\\"14.0mm\\\"\\n      fill=\\\"#000000\\\" stroke=\\\"none\\\" \\/>\\n<rect x=\\\"90.0mm\\\" y=\\\"120.0mm\\\"\\n      width=\\\"14.0mm\\\" height=\\\"14.0mm\\\"\\n      fill=\\\"#000000\\\" stroke=\\\"none\\\" \\/>\\n<rect x=\\\"105.0mm\\\" y=\\\"120.0mm\\\"\\n      width=\\\"14.0mm\\\" height=\\\"14.0mm\\\"\\n      fill=\\\"#000000\\\" stroke=\\\"none\\\" \\/>\\n<rect x=\\\"120.0mm\\\" y=\\\"120.0mm\\\"\\n      width=\\\"14.0mm\\\" height=\\\"14.0mm\\\"\\n      fill=\\\"#000000\\\" stroke=\\\"none\\\" \\/>\\n<rect x=\\\"135.0mm\\\" y=\\\"120.0mm\\\"\\n      width=\\\"14.0mm\\\" height=\\\"14.0mm\\\"\\n      fill=\\\"#000000\\\" stroke=\\\"none\\\" \\/>\\n<rect x=\\\"0.0mm\\\" y=\\\"135.0mm\\\"\\n      width=\\\"14.0mm\\\" height=\\\"14.0mm\\\"\\n      fill=\\\"#000000\\\" stroke=\\\"none\\\" \\/>\\n<rect x=\\\"15.0mm\\\" y=\\\"135.0mm\\\"\\n      width=\\\"14.0mm\\\" height=\\\"14.0mm\\\"\\n      fill=\\\"#000000\\\" stroke=\\\"none\\\" \\/>\\n<rect x=\\\"30.0mm\\\" y=\\\"135.0mm\\\"\\n      width=\\\"14.0mm\\\" height=\\\"14.0mm\\\"\\n      fill=\\\"#000000\\\" stroke=\\\"none\\\" \\/>\\n<rect x=\\\"45.0mm\\\" y=\\\"135.0mm\\\"\\n      width=\\\"14.0mm\\\" height=\\\"14.0mm\\\"\\n      fill=\\\"#000000\\\" stroke=\\\"none\\\" \\/>\\n<rect x=\\\"60.0mm\\\" y=\\\"135.0mm\\\"\\n      width=\\\"14.0mm\\\" height=\\\"14.0mm\\\"\\n      fill=\\\"#000000\\\" stroke=\\\"none\\\" \\/>\\n<rect x=\\\"75.0mm\\\" y=\\\"135.0mm\\\"\\n      width=\\\"14.0mm\\\" height=\\\"14.0mm\\\"\\n      fill=\\\"#000000\\\" stroke=\\\"none\\\" \\/>\\n<rect x=\\\"90.0mm\\\" y=\\\"135.0mm\\\"\\n      width=\\\"14.0mm\\\" height=\\\"14.0mm\\\"\\n      fill=\\\"#000000\\\" stroke=\\\"none\\\" \\/>\\n<rect x=\\\"105.0mm\\\" y=\\\"135.0mm\\\"\\n      width=\\\"14.0mm\\\" height=\\\"14.0mm\\\"\\n      fill=\\\"#000000\\\" stroke=\\\"none\\\" \\/>\\n<rect x=\\\"120.0mm\\\" y=\\\"135.0mm\\\"\\n      width=\\\"14.0mm\\\" height=\\\"14.0mm\\\"\\n      fill=\\\"#000000\\\" stroke=\\\"none\\\" \\/>\\n<rect x=\\\"135.0mm\\\" y=\\\"135.0mm\\\"\\n      width=\\\"14.0mm\\\" height=\\\"14.0mm\\\"\\n      fill=\\\"#000000\\\" stroke=\\\"none\\\" \\/>\\n<\\/svg>\"},\"nodeType\":\"DOM\",\"type\":\"node\",\"instanceArgs\":{\"namespace\":\"html\",\"tag\":\"div\"},\"children\":[]}]}}}},\"children\":[{\"props\":{},\"nodeType\":\"ObservableNode\",\"type\":\"node\",\"instanceArgs\":{\"id\":\"ob_34\",\"name\":\"obs-node\"},\"children\":[]}]}]},\n",
       "            window,\n",
       "        );\n",
       "    } else {\n",
       "        document\n",
       "            .querySelector('[data-webio-mountpoint=\"10390969944680525047\"]')\n",
       "            .innerHTML = (\n",
       "                '<strong>WebIO not detected. Please read ' +\n",
       "                '<a href=\"https://juliagizmos.github.io/WebIO.jl/latest/troubleshooting/not-detected/\">the troubleshooting guide</a> ' +\n",
       "                'for more information on how to resolve this issue.' +\n",
       "                '</strong>'\n",
       "            );\n",
       "    }\n",
       "    </script>\n",
       "</div>\n"
      ],
      "text/plain": [
       "Node{WebIO.DOM}(WebIO.DOM(:html, :div), Any[Node{WebIO.DOM}(WebIO.DOM(:html, :div), Any[Scope(Node{WebIO.DOM}(WebIO.DOM(:html, :div), Any[Node{WebIO.DOM}(WebIO.DOM(:html, :div), Any[Node{WebIO.DOM}(WebIO.DOM(:html, :label), Any[\"i\"], Dict{Symbol,Any}(:className => \"interact \",:style => Dict{Any,Any}(:padding => \"5px 10px 0px 10px\")))], Dict{Symbol,Any}(:className => \"interact-flex-row-left\")), Node{WebIO.DOM}(WebIO.DOM(:html, :div), Any[Node{WebIO.DOM}(WebIO.DOM(:html, :input), Any[], Dict{Symbol,Any}(:max => 8,:min => 1,:attributes => Dict{Any,Any}(:type => \"range\",Symbol(\"data-bind\") => \"numericValue: index, valueUpdate: 'input', event: {change: function (){this.changes(this.changes()+1)}}\",\"orient\" => \"horizontal\"),:step => 1,:className => \"slider slider is-fullwidth\",:style => Dict{Any,Any}()))], Dict{Symbol,Any}(:className => \"interact-flex-row-center\")), Node{WebIO.DOM}(WebIO.DOM(:html, :div), Any[Node{WebIO.DOM}(WebIO.DOM(:html, :p), Any[], Dict{Symbol,Any}(:attributes => Dict(\"data-bind\" => \"text: formatted_val\")))], Dict{Symbol,Any}(:className => \"interact-flex-row-right\"))], Dict{Symbol,Any}(:className => \"interact-flex-row interact-widget\")), Dict{String,Tuple{Observables.AbstractObservable,Union{Nothing, Bool}}}(\"changes\" => (Observable{Int64} with 1 listeners. Value:\n",
       "0, nothing),\"index\" => (Observable{Int64} with 2 listeners. Value:\n",
       "4, nothing)), Set(String[]), nothing, Asset[Asset(\"js\", \"knockout\", \"C:\\\\Users\\\\carsten\\\\.julia\\\\packages\\\\Knockout\\\\1sDlc\\\\src\\\\..\\\\assets\\\\knockout.js\"), Asset(\"js\", \"knockout_punches\", \"C:\\\\Users\\\\carsten\\\\.julia\\\\packages\\\\Knockout\\\\1sDlc\\\\src\\\\..\\\\assets\\\\knockout_punches.js\"), Asset(\"js\", nothing, \"C:\\\\Users\\\\carsten\\\\.julia\\\\packages\\\\InteractBase\\\\9mFwe\\\\src\\\\..\\\\assets\\\\all.js\"), Asset(\"css\", nothing, \"C:\\\\Users\\\\carsten\\\\.julia\\\\packages\\\\InteractBase\\\\9mFwe\\\\src\\\\..\\\\assets\\\\style.css\"), Asset(\"css\", nothing, \"C:\\\\Users\\\\carsten\\\\.julia\\\\packages\\\\Interact\\\\SbgIk\\\\src\\\\..\\\\assets\\\\bulma_confined.min.css\")], Dict{Any,Any}(\"changes\" => Any[WebIO.JSString(\"(function (val){return (val!=this.model[\\\"changes\\\"]()) ? (this.valueFromJulia[\\\"changes\\\"]=true, this.model[\\\"changes\\\"](val)) : undefined})\")],\"index\" => Any[WebIO.JSString(\"(function (val){return (val!=this.model[\\\"index\\\"]()) ? (this.valueFromJulia[\\\"index\\\"]=true, this.model[\\\"index\\\"](val)) : undefined})\")]), WebIO.ConnectionPool(Channel{Any}(sz_max:32,sz_curr:0), Set(AbstractConnection[]), Base.GenericCondition{Base.AlwaysLockedST}(Base.InvasiveLinkedList{Task}(Task (runnable) @0x0000000012e46290, Task (runnable) @0x0000000012e46290), Base.AlwaysLockedST(1))), WebIO.JSString[WebIO.JSString(\"function () {\\n    var handler = (function (ko, koPunches) {\\n    ko.punches.enableAll();\\n    ko.bindingHandlers.numericValue = {\\n        init: function(element, valueAccessor, allBindings, data, context) {\\n            var stringified = ko.observable(ko.unwrap(valueAccessor()));\\n            stringified.subscribe(function(value) {\\n                var val = parseFloat(value);\\n                if (!isNaN(val)) {\\n                    valueAccessor()(val);\\n                }\\n            });\\n            valueAccessor().subscribe(function(value) {\\n                var str = JSON.stringify(value);\\n                if ((str == \\\"0\\\") && ([\\\"-0\\\", \\\"-0.\\\"].indexOf(stringified()) >= 0))\\n                     return;\\n                 if ([\\\"null\\\", \\\"\\\"].indexOf(str) >= 0)\\n                     return;\\n                stringified(str);\\n            });\\n            ko.applyBindingsToNode(\\n                element,\\n                {\\n                    value: stringified,\\n                    valueUpdate: allBindings.get('valueUpdate'),\\n                },\\n                context,\\n            );\\n        }\\n    };\\n    var json_data = {\\\"formatted_vals\\\":[\\\"1\\\",\\\"2\\\",\\\"3\\\",\\\"4\\\",\\\"5\\\",\\\"6\\\",\\\"7\\\",\\\"8\\\"],\\\"changes\\\":WebIO.getval({\\\"name\\\":\\\"changes\\\",\\\"scope\\\":\\\"16362240099863701390\\\",\\\"id\\\":\\\"ob_28\\\",\\\"type\\\":\\\"observable\\\"}),\\\"index\\\":WebIO.getval({\\\"name\\\":\\\"index\\\",\\\"scope\\\":\\\"16362240099863701390\\\",\\\"id\\\":\\\"ob_27\\\",\\\"type\\\":\\\"observable\\\"})};\\n    var self = this;\\n    function AppViewModel() {\\n        for (var key in json_data) {\\n            var el = json_data[key];\\n            this[key] = Array.isArray(el) ? ko.observableArray(el) : ko.observable(el);\\n        }\\n        \\n        [this[\\\"formatted_val\\\"]=ko.computed(    function(){\\n        return this.formatted_vals()[parseInt(this.index())-(1)];\\n    }\\n,this)]\\n        [this[\\\"changes\\\"].subscribe((function (val){!(this.valueFromJulia[\\\"changes\\\"]) ? (WebIO.setval({\\\"name\\\":\\\"changes\\\",\\\"scope\\\":\\\"16362240099863701390\\\",\\\"id\\\":\\\"ob_28\\\",\\\"type\\\":\\\"observable\\\"},val)) : undefined; return this.valueFromJulia[\\\"changes\\\"]=false}),self),this[\\\"index\\\"].subscribe((function (val){!(this.valueFromJulia[\\\"index\\\"]) ? (WebIO.setval({\\\"name\\\":\\\"index\\\",\\\"scope\\\":\\\"16362240099863701390\\\",\\\"id\\\":\\\"ob_27\\\",\\\"type\\\":\\\"observable\\\"},val)) : undefined; return this.valueFromJulia[\\\"index\\\"]=false}),self)]\\n        \\n    }\\n    self.model = new AppViewModel();\\n    self.valueFromJulia = {};\\n    for (var key in json_data) {\\n        self.valueFromJulia[key] = false;\\n    }\\n    ko.applyBindings(self.model, self.dom);\\n}\\n);\\n    (WebIO.importBlock({\\\"data\\\":[{\\\"name\\\":\\\"knockout\\\",\\\"type\\\":\\\"js\\\",\\\"url\\\":\\\"/assetserver/06b5713f7394e9c781d3d3143d6fd532e7f814ce-knockout.js\\\"},{\\\"name\\\":\\\"knockout_punches\\\",\\\"type\\\":\\\"js\\\",\\\"url\\\":\\\"/assetserver/695de4db56dde9805b672fe778fb2fc752e9b632-knockout_punches.js\\\"}],\\\"type\\\":\\\"async_block\\\"})).then((imports) => handler.apply(this, imports));\\n}\\n\")])], Dict{Symbol,Any}(:className => \"field interact-widget\")), Node{WebIO.DOM}(WebIO.DOM(:html, :div), Any[Scope(Node{WebIO.DOM}(WebIO.DOM(:html, :div), Any[Node{WebIO.DOM}(WebIO.DOM(:html, :div), Any[Node{WebIO.DOM}(WebIO.DOM(:html, :label), Any[\"j\"], Dict{Symbol,Any}(:className => \"interact \",:style => Dict{Any,Any}(:padding => \"5px 10px 0px 10px\")))], Dict{Symbol,Any}(:className => \"interact-flex-row-left\")), Node{WebIO.DOM}(WebIO.DOM(:html, :div), Any[Node{WebIO.DOM}(WebIO.DOM(:html, :input), Any[], Dict{Symbol,Any}(:max => 8,:min => 1,:attributes => Dict{Any,Any}(:type => \"range\",Symbol(\"data-bind\") => \"numericValue: index, valueUpdate: 'input', event: {change: function (){this.changes(this.changes()+1)}}\",\"orient\" => \"horizontal\"),:step => 1,:className => \"slider slider is-fullwidth\",:style => Dict{Any,Any}()))], Dict{Symbol,Any}(:className => \"interact-flex-row-center\")), Node{WebIO.DOM}(WebIO.DOM(:html, :div), Any[Node{WebIO.DOM}(WebIO.DOM(:html, :p), Any[], Dict{Symbol,Any}(:attributes => Dict(\"data-bind\" => \"text: formatted_val\")))], Dict{Symbol,Any}(:className => \"interact-flex-row-right\"))], Dict{Symbol,Any}(:className => \"interact-flex-row interact-widget\")), Dict{String,Tuple{Observables.AbstractObservable,Union{Nothing, Bool}}}(\"changes\" => (Observable{Int64} with 1 listeners. Value:\n",
       "0, nothing),\"index\" => (Observable{Int64} with 2 listeners. Value:\n",
       "4, nothing)), Set(String[]), nothing, Asset[Asset(\"js\", \"knockout\", \"C:\\\\Users\\\\carsten\\\\.julia\\\\packages\\\\Knockout\\\\1sDlc\\\\src\\\\..\\\\assets\\\\knockout.js\"), Asset(\"js\", \"knockout_punches\", \"C:\\\\Users\\\\carsten\\\\.julia\\\\packages\\\\Knockout\\\\1sDlc\\\\src\\\\..\\\\assets\\\\knockout_punches.js\"), Asset(\"js\", nothing, \"C:\\\\Users\\\\carsten\\\\.julia\\\\packages\\\\InteractBase\\\\9mFwe\\\\src\\\\..\\\\assets\\\\all.js\"), Asset(\"css\", nothing, \"C:\\\\Users\\\\carsten\\\\.julia\\\\packages\\\\InteractBase\\\\9mFwe\\\\src\\\\..\\\\assets\\\\style.css\"), Asset(\"css\", nothing, \"C:\\\\Users\\\\carsten\\\\.julia\\\\packages\\\\Interact\\\\SbgIk\\\\src\\\\..\\\\assets\\\\bulma_confined.min.css\")], Dict{Any,Any}(\"changes\" => Any[WebIO.JSString(\"(function (val){return (val!=this.model[\\\"changes\\\"]()) ? (this.valueFromJulia[\\\"changes\\\"]=true, this.model[\\\"changes\\\"](val)) : undefined})\")],\"index\" => Any[WebIO.JSString(\"(function (val){return (val!=this.model[\\\"index\\\"]()) ? (this.valueFromJulia[\\\"index\\\"]=true, this.model[\\\"index\\\"](val)) : undefined})\")]), WebIO.ConnectionPool(Channel{Any}(sz_max:32,sz_curr:0), Set(AbstractConnection[]), Base.GenericCondition{Base.AlwaysLockedST}(Base.InvasiveLinkedList{Task}(Task (runnable) @0x0000000012e46570, Task (runnable) @0x0000000012e46570), Base.AlwaysLockedST(1))), WebIO.JSString[WebIO.JSString(\"function () {\\n    var handler = (function (ko, koPunches) {\\n    ko.punches.enableAll();\\n    ko.bindingHandlers.numericValue = {\\n        init: function(element, valueAccessor, allBindings, data, context) {\\n            var stringified = ko.observable(ko.unwrap(valueAccessor()));\\n            stringified.subscribe(function(value) {\\n                var val = parseFloat(value);\\n                if (!isNaN(val)) {\\n                    valueAccessor()(val);\\n                }\\n            });\\n            valueAccessor().subscribe(function(value) {\\n                var str = JSON.stringify(value);\\n                if ((str == \\\"0\\\") && ([\\\"-0\\\", \\\"-0.\\\"].indexOf(stringified()) >= 0))\\n                     return;\\n                 if ([\\\"null\\\", \\\"\\\"].indexOf(str) >= 0)\\n                     return;\\n                stringified(str);\\n            });\\n            ko.applyBindingsToNode(\\n                element,\\n                {\\n                    value: stringified,\\n                    valueUpdate: allBindings.get('valueUpdate'),\\n                },\\n                context,\\n            );\\n        }\\n    };\\n    var json_data = {\\\"formatted_vals\\\":[\\\"1\\\",\\\"2\\\",\\\"3\\\",\\\"4\\\",\\\"5\\\",\\\"6\\\",\\\"7\\\",\\\"8\\\"],\\\"changes\\\":WebIO.getval({\\\"name\\\":\\\"changes\\\",\\\"scope\\\":\\\"5529053754235079009\\\",\\\"id\\\":\\\"ob_30\\\",\\\"type\\\":\\\"observable\\\"}),\\\"index\\\":WebIO.getval({\\\"name\\\":\\\"index\\\",\\\"scope\\\":\\\"5529053754235079009\\\",\\\"id\\\":\\\"ob_29\\\",\\\"type\\\":\\\"observable\\\"})};\\n    var self = this;\\n    function AppViewModel() {\\n        for (var key in json_data) {\\n            var el = json_data[key];\\n            this[key] = Array.isArray(el) ? ko.observableArray(el) : ko.observable(el);\\n        }\\n        \\n        [this[\\\"formatted_val\\\"]=ko.computed(    function(){\\n        return this.formatted_vals()[parseInt(this.index())-(1)];\\n    }\\n,this)]\\n        [this[\\\"changes\\\"].subscribe((function (val){!(this.valueFromJulia[\\\"changes\\\"]) ? (WebIO.setval({\\\"name\\\":\\\"changes\\\",\\\"scope\\\":\\\"5529053754235079009\\\",\\\"id\\\":\\\"ob_30\\\",\\\"type\\\":\\\"observable\\\"},val)) : undefined; return this.valueFromJulia[\\\"changes\\\"]=false}),self),this[\\\"index\\\"].subscribe((function (val){!(this.valueFromJulia[\\\"index\\\"]) ? (WebIO.setval({\\\"name\\\":\\\"index\\\",\\\"scope\\\":\\\"5529053754235079009\\\",\\\"id\\\":\\\"ob_29\\\",\\\"type\\\":\\\"observable\\\"},val)) : undefined; return this.valueFromJulia[\\\"index\\\"]=false}),self)]\\n        \\n    }\\n    self.model = new AppViewModel();\\n    self.valueFromJulia = {};\\n    for (var key in json_data) {\\n        self.valueFromJulia[key] = false;\\n    }\\n    ko.applyBindings(self.model, self.dom);\\n}\\n);\\n    (WebIO.importBlock({\\\"data\\\":[{\\\"name\\\":\\\"knockout\\\",\\\"type\\\":\\\"js\\\",\\\"url\\\":\\\"/assetserver/06b5713f7394e9c781d3d3143d6fd532e7f814ce-knockout.js\\\"},{\\\"name\\\":\\\"knockout_punches\\\",\\\"type\\\":\\\"js\\\",\\\"url\\\":\\\"/assetserver/695de4db56dde9805b672fe778fb2fc752e9b632-knockout_punches.js\\\"}],\\\"type\\\":\\\"async_block\\\"})).then((imports) => handler.apply(this, imports));\\n}\\n\")])], Dict{Symbol,Any}(:className => \"field interact-widget\")), Observable{Any} with 0 listeners. Value:\n",
       "Node{WebIO.DOM}(WebIO.DOM(:html, :div), Any[RGB{FixedPointNumbers.Normed{UInt8,8}}[RGB{N0f8}(0.0,0.0,0.0) RGB{N0f8}(0.0,0.0,0.0) … RGB{N0f8}(0.0,0.0,0.0) RGB{N0f8}(0.0,0.0,0.0); RGB{N0f8}(0.0,0.0,0.0) RGB{N0f8}(0.0,0.0,0.0) … RGB{N0f8}(0.0,0.0,0.0) RGB{N0f8}(0.0,0.0,0.0); … ; RGB{N0f8}(0.0,0.0,0.0) RGB{N0f8}(0.0,0.0,0.0) … RGB{N0f8}(0.0,0.0,0.0) RGB{N0f8}(0.0,0.0,0.0); RGB{N0f8}(0.0,0.0,0.0) RGB{N0f8}(0.0,0.0,0.0) … RGB{N0f8}(0.0,0.0,0.0) RGB{N0f8}(0.0,0.0,0.0)]], Dict{Symbol,Any}(:className => \"interact-flex-row interact-widget\"))], Dict{Symbol,Any}())"
      ]
     },
     "execution_count": 11,
     "metadata": {
      "application/vnd.webio.node+json": {
       "kernelId": null
      }
     },
     "output_type": "execute_result"
    }
   ],
   "source": [
    "A = fill(colors[1], 10, 10)\n",
    "n = size(A, 1)\n",
    "\n",
    "@manipulate for i in 1:n-2, j in 1:n-2\n",
    "    insert_block(A, i, j, colors[4])\n",
    "end"
   ]
  },
  {
   "cell_type": "markdown",
   "metadata": {},
   "source": [
    "# Generic Programming + Multiple Dispatch + JIT"
   ]
  },
  {
   "cell_type": "markdown",
   "metadata": {},
   "source": [
    "The possibility to write generic algorithms that compile to fast machine code in combination with multiple dispatch leads to an ([unreasonable](https://pretalx.com/juliacon2019/talk/BCYWZJ/)) amount of code reuse. This sharing of code comes in two forms:\n",
    "1. **Sharing types** among a wide variety of packages implementing different algorithms;\n",
    "2. **Sharing generic algorithms** that work for different package-defined types implementing common abstractions."
   ]
  },
  {
   "cell_type": "markdown",
   "metadata": {},
   "source": [
    " <img src=\"revdeps.png\" alt=\"drawing\" width=\"800\"/>"
   ]
  },
  {
   "cell_type": "markdown",
   "metadata": {},
   "source": [
    "1. **Sharing types:** DataStructures.jl, OrderedCollections.jl, StaticArrays.jl, Colors.jl, Measurements.jl ..."
   ]
  },
  {
   "cell_type": "markdown",
   "metadata": {},
   "source": [
    "As of the time of this writing, **804 packages** depend on the data types provided in [DataStructures.jl](https://juliacollections.github.io/DataStructures.jl/latest/).\n",
    "\n",
    "**851 packages** reuse type implementations in [OrderedCollections.jl](https://github.com/JuliaCollections/OrderedCollections.jl).\n",
    "\n",
    "**That's about every third package!**"
   ]
  },
  {
   "cell_type": "markdown",
   "metadata": {},
   "source": [
    "2. **Sharing generic algorithms:** StatsBase.jl, SortingAlgorithms.jl, GenericLinearAlgebra.jl, ..."
   ]
  },
  {
   "cell_type": "markdown",
   "metadata": {},
   "source": [
    "# Emergent features"
   ]
  },
  {
   "cell_type": "markdown",
   "metadata": {},
   "source": [
    "`Measurement` type from [Measurements.jl]() and differential equation solver from [OrdinaryDiffEq.jl](https://github.com/JuliaDiffEq/OrdinaryDiffEq.jl) (i.e. [DifferentialEquations.jl](https://github.com/JuliaDiffEq/DifferentialEquations.jl))"
   ]
  },
  {
   "cell_type": "code",
   "execution_count": 3,
   "metadata": {},
   "outputs": [],
   "source": [
    "using OrdinaryDiffEq, Measurements, Plots\n",
    "\n",
    "#Half-life of Carbon-14 is 5730 years.\n",
    "c = 5.730 ± 2\n",
    "\n",
    "#Setup\n",
    "u0 = 1.0 ± 0.1\n",
    "tspan = (0.0, 1.0)\n",
    "\n",
    "#Define the problem\n",
    "radioactivedecay(u,p,t) = -c*u\n",
    "\n",
    "#Pass to solver\n",
    "prob = ODEProblem(radioactivedecay,u0,tspan)\n",
    "sol = solve(prob, Tsit5(), reltol=1e-8, abstol=1e-8);"
   ]
  },
  {
   "cell_type": "code",
   "execution_count": 5,
   "metadata": {},
   "outputs": [
    {
     "data": {
      "image/svg+xml": [
       "<?xml version=\"1.0\" encoding=\"utf-8\"?>\n",
       "<svg xmlns=\"http://www.w3.org/2000/svg\" xmlns:xlink=\"http://www.w3.org/1999/xlink\" width=\"600\" height=\"400\" viewBox=\"0 0 2400 1600\">\n",
       "<defs>\n",
       "  <clipPath id=\"clip3400\">\n",
       "    <rect x=\"0\" y=\"0\" width=\"2400\" height=\"1600\"/>\n",
       "  </clipPath>\n",
       "</defs>\n",
       "<path clip-path=\"url(#clip3400)\" d=\"\n",
       "M0 1600 L2400 1600 L2400 0 L0 0  Z\n",
       "  \" fill=\"#ffffff\" fill-rule=\"evenodd\" fill-opacity=\"1\"/>\n",
       "<defs>\n",
       "  <clipPath id=\"clip3401\">\n",
       "    <rect x=\"480\" y=\"0\" width=\"1681\" height=\"1600\"/>\n",
       "  </clipPath>\n",
       "</defs>\n",
       "<path clip-path=\"url(#clip3400)\" d=\"\n",
       "M242.516 1425.62 L2352.76 1425.62 L2352.76 47.2441 L242.516 47.2441  Z\n",
       "  \" fill=\"#ffffff\" fill-rule=\"evenodd\" fill-opacity=\"1\"/>\n",
       "<defs>\n",
       "  <clipPath id=\"clip3402\">\n",
       "    <rect x=\"242\" y=\"47\" width=\"2111\" height=\"1379\"/>\n",
       "  </clipPath>\n",
       "</defs>\n",
       "<polyline clip-path=\"url(#clip3402)\" style=\"stroke:#000000; stroke-width:2; stroke-opacity:0.1; fill:none\" points=\"\n",
       "  302.24,1425.62 302.24,47.2441 \n",
       "  \"/>\n",
       "<polyline clip-path=\"url(#clip3402)\" style=\"stroke:#000000; stroke-width:2; stroke-opacity:0.1; fill:none\" points=\"\n",
       "  799.938,1425.62 799.938,47.2441 \n",
       "  \"/>\n",
       "<polyline clip-path=\"url(#clip3402)\" style=\"stroke:#000000; stroke-width:2; stroke-opacity:0.1; fill:none\" points=\"\n",
       "  1297.64,1425.62 1297.64,47.2441 \n",
       "  \"/>\n",
       "<polyline clip-path=\"url(#clip3402)\" style=\"stroke:#000000; stroke-width:2; stroke-opacity:0.1; fill:none\" points=\"\n",
       "  1795.33,1425.62 1795.33,47.2441 \n",
       "  \"/>\n",
       "<polyline clip-path=\"url(#clip3402)\" style=\"stroke:#000000; stroke-width:2; stroke-opacity:0.1; fill:none\" points=\"\n",
       "  2293.03,1425.62 2293.03,47.2441 \n",
       "  \"/>\n",
       "<polyline clip-path=\"url(#clip3402)\" style=\"stroke:#000000; stroke-width:2; stroke-opacity:0.1; fill:none\" points=\"\n",
       "  242.516,1377.92 2352.76,1377.92 \n",
       "  \"/>\n",
       "<polyline clip-path=\"url(#clip3402)\" style=\"stroke:#000000; stroke-width:2; stroke-opacity:0.1; fill:none\" points=\"\n",
       "  242.516,1084.36 2352.76,1084.36 \n",
       "  \"/>\n",
       "<polyline clip-path=\"url(#clip3402)\" style=\"stroke:#000000; stroke-width:2; stroke-opacity:0.1; fill:none\" points=\"\n",
       "  242.516,790.802 2352.76,790.802 \n",
       "  \"/>\n",
       "<polyline clip-path=\"url(#clip3402)\" style=\"stroke:#000000; stroke-width:2; stroke-opacity:0.1; fill:none\" points=\"\n",
       "  242.516,497.241 2352.76,497.241 \n",
       "  \"/>\n",
       "<polyline clip-path=\"url(#clip3402)\" style=\"stroke:#000000; stroke-width:2; stroke-opacity:0.1; fill:none\" points=\"\n",
       "  242.516,203.679 2352.76,203.679 \n",
       "  \"/>\n",
       "<polyline clip-path=\"url(#clip3400)\" style=\"stroke:#000000; stroke-width:4; stroke-opacity:1; fill:none\" points=\"\n",
       "  242.516,1425.62 2352.76,1425.62 \n",
       "  \"/>\n",
       "<polyline clip-path=\"url(#clip3400)\" style=\"stroke:#000000; stroke-width:4; stroke-opacity:1; fill:none\" points=\"\n",
       "  242.516,1425.62 242.516,47.2441 \n",
       "  \"/>\n",
       "<polyline clip-path=\"url(#clip3400)\" style=\"stroke:#000000; stroke-width:4; stroke-opacity:1; fill:none\" points=\"\n",
       "  302.24,1425.62 302.24,1404.94 \n",
       "  \"/>\n",
       "<polyline clip-path=\"url(#clip3400)\" style=\"stroke:#000000; stroke-width:4; stroke-opacity:1; fill:none\" points=\"\n",
       "  799.938,1425.62 799.938,1404.94 \n",
       "  \"/>\n",
       "<polyline clip-path=\"url(#clip3400)\" style=\"stroke:#000000; stroke-width:4; stroke-opacity:1; fill:none\" points=\"\n",
       "  1297.64,1425.62 1297.64,1404.94 \n",
       "  \"/>\n",
       "<polyline clip-path=\"url(#clip3400)\" style=\"stroke:#000000; stroke-width:4; stroke-opacity:1; fill:none\" points=\"\n",
       "  1795.33,1425.62 1795.33,1404.94 \n",
       "  \"/>\n",
       "<polyline clip-path=\"url(#clip3400)\" style=\"stroke:#000000; stroke-width:4; stroke-opacity:1; fill:none\" points=\"\n",
       "  2293.03,1425.62 2293.03,1404.94 \n",
       "  \"/>\n",
       "<polyline clip-path=\"url(#clip3400)\" style=\"stroke:#000000; stroke-width:4; stroke-opacity:1; fill:none\" points=\"\n",
       "  242.516,1377.92 274.17,1377.92 \n",
       "  \"/>\n",
       "<polyline clip-path=\"url(#clip3400)\" style=\"stroke:#000000; stroke-width:4; stroke-opacity:1; fill:none\" points=\"\n",
       "  242.516,1084.36 274.17,1084.36 \n",
       "  \"/>\n",
       "<polyline clip-path=\"url(#clip3400)\" style=\"stroke:#000000; stroke-width:4; stroke-opacity:1; fill:none\" points=\"\n",
       "  242.516,790.802 274.17,790.802 \n",
       "  \"/>\n",
       "<polyline clip-path=\"url(#clip3400)\" style=\"stroke:#000000; stroke-width:4; stroke-opacity:1; fill:none\" points=\"\n",
       "  242.516,497.241 274.17,497.241 \n",
       "  \"/>\n",
       "<polyline clip-path=\"url(#clip3400)\" style=\"stroke:#000000; stroke-width:4; stroke-opacity:1; fill:none\" points=\"\n",
       "  242.516,203.679 274.17,203.679 \n",
       "  \"/>\n",
       "<g clip-path=\"url(#clip3400)\">\n",
       "<text style=\"fill:#000000; fill-opacity:1; font-family:Arial,Helvetica Neue,Helvetica,sans-serif; font-size:48px; text-anchor:middle;\" transform=\"rotate(0, 302.24, 1479.62)\" x=\"302.24\" y=\"1479.62\">0.00</text>\n",
       "</g>\n",
       "<g clip-path=\"url(#clip3400)\">\n",
       "<text style=\"fill:#000000; fill-opacity:1; font-family:Arial,Helvetica Neue,Helvetica,sans-serif; font-size:48px; text-anchor:middle;\" transform=\"rotate(0, 799.938, 1479.62)\" x=\"799.938\" y=\"1479.62\">0.25</text>\n",
       "</g>\n",
       "<g clip-path=\"url(#clip3400)\">\n",
       "<text style=\"fill:#000000; fill-opacity:1; font-family:Arial,Helvetica Neue,Helvetica,sans-serif; font-size:48px; text-anchor:middle;\" transform=\"rotate(0, 1297.64, 1479.62)\" x=\"1297.64\" y=\"1479.62\">0.50</text>\n",
       "</g>\n",
       "<g clip-path=\"url(#clip3400)\">\n",
       "<text style=\"fill:#000000; fill-opacity:1; font-family:Arial,Helvetica Neue,Helvetica,sans-serif; font-size:48px; text-anchor:middle;\" transform=\"rotate(0, 1795.33, 1479.62)\" x=\"1795.33\" y=\"1479.62\">0.75</text>\n",
       "</g>\n",
       "<g clip-path=\"url(#clip3400)\">\n",
       "<text style=\"fill:#000000; fill-opacity:1; font-family:Arial,Helvetica Neue,Helvetica,sans-serif; font-size:48px; text-anchor:middle;\" transform=\"rotate(0, 2293.03, 1479.62)\" x=\"2293.03\" y=\"1479.62\">1.00</text>\n",
       "</g>\n",
       "<g clip-path=\"url(#clip3400)\">\n",
       "<text style=\"fill:#000000; fill-opacity:1; font-family:Arial,Helvetica Neue,Helvetica,sans-serif; font-size:48px; text-anchor:end;\" transform=\"rotate(0, 218.516, 1395.42)\" x=\"218.516\" y=\"1395.42\">0.00</text>\n",
       "</g>\n",
       "<g clip-path=\"url(#clip3400)\">\n",
       "<text style=\"fill:#000000; fill-opacity:1; font-family:Arial,Helvetica Neue,Helvetica,sans-serif; font-size:48px; text-anchor:end;\" transform=\"rotate(0, 218.516, 1101.86)\" x=\"218.516\" y=\"1101.86\">0.25</text>\n",
       "</g>\n",
       "<g clip-path=\"url(#clip3400)\">\n",
       "<text style=\"fill:#000000; fill-opacity:1; font-family:Arial,Helvetica Neue,Helvetica,sans-serif; font-size:48px; text-anchor:end;\" transform=\"rotate(0, 218.516, 808.302)\" x=\"218.516\" y=\"808.302\">0.50</text>\n",
       "</g>\n",
       "<g clip-path=\"url(#clip3400)\">\n",
       "<text style=\"fill:#000000; fill-opacity:1; font-family:Arial,Helvetica Neue,Helvetica,sans-serif; font-size:48px; text-anchor:end;\" transform=\"rotate(0, 218.516, 514.741)\" x=\"218.516\" y=\"514.741\">0.75</text>\n",
       "</g>\n",
       "<g clip-path=\"url(#clip3400)\">\n",
       "<text style=\"fill:#000000; fill-opacity:1; font-family:Arial,Helvetica Neue,Helvetica,sans-serif; font-size:48px; text-anchor:end;\" transform=\"rotate(0, 218.516, 221.179)\" x=\"218.516\" y=\"221.179\">1.00</text>\n",
       "</g>\n",
       "<g clip-path=\"url(#clip3400)\">\n",
       "<text style=\"fill:#000000; fill-opacity:1; font-family:Arial,Helvetica Neue,Helvetica,sans-serif; font-size:66px; text-anchor:middle;\" transform=\"rotate(0, 1297.64, 1559.48)\" x=\"1297.64\" y=\"1559.48\">t</text>\n",
       "</g>\n",
       "<g clip-path=\"url(#clip3400)\">\n",
       "<text style=\"fill:#000000; fill-opacity:1; font-family:Arial,Helvetica Neue,Helvetica,sans-serif; font-size:66px; text-anchor:middle;\" transform=\"rotate(-90, 89.2861, 736.431)\" x=\"89.2861\" y=\"736.431\">u(t)</text>\n",
       "</g>\n",
       "<polyline clip-path=\"url(#clip3402)\" style=\"stroke:#009af9; stroke-width:8; stroke-opacity:1; fill:none\" points=\"\n",
       "  302.24,203.679 313.616,241.503 326.886,284.09 343.352,334.722 362.057,389.401 383.282,447.984 406.525,508.159 431.706,568.967 458.52,629.053 486.814,687.622 \n",
       "  516.389,743.952 547.112,797.605 578.855,848.275 611.524,895.808 645.042,940.147 679.355,981.316 714.419,1019.39 750.21,1054.49 786.71,1086.74 823.915,1116.31 \n",
       "  861.826,1143.35 900.453,1168.04 939.813,1190.52 979.926,1210.95 1020.82,1229.49 1062.52,1246.28 1105.06,1261.45 1148.49,1275.14 1192.84,1287.45 1238.16,1298.52 \n",
       "  1284.49,1308.43 1331.89,1317.29 1380.42,1325.2 1430.14,1332.23 1481.11,1338.46 1533.4,1343.98 1587.09,1348.84 1642.26,1353.11 1698.99,1356.85 1757.39,1360.11 \n",
       "  1817.54,1362.94 1879.58,1365.39 1943.61,1367.5 2009.76,1369.31 2078.19,1370.85 2149.05,1372.15 2222.51,1373.25 2293.03,1374.11 \n",
       "  \"/>\n",
       "<polyline clip-path=\"url(#clip3402)\" style=\"stroke:#009af9; stroke-width:4; stroke-opacity:1; fill:none\" points=\"\n",
       "  302.24,321.104 302.24,86.2547 \n",
       "  \"/>\n",
       "<polyline clip-path=\"url(#clip3402)\" style=\"stroke:#009af9; stroke-width:4; stroke-opacity:1; fill:none\" points=\"\n",
       "  313.616,355.885 313.616,127.121 \n",
       "  \"/>\n",
       "<polyline clip-path=\"url(#clip3402)\" style=\"stroke:#009af9; stroke-width:4; stroke-opacity:1; fill:none\" points=\"\n",
       "  326.886,396.777 326.886,171.404 \n",
       "  \"/>\n",
       "<polyline clip-path=\"url(#clip3402)\" style=\"stroke:#009af9; stroke-width:4; stroke-opacity:1; fill:none\" points=\"\n",
       "  343.352,447.59 343.352,221.854 \n",
       "  \"/>\n",
       "<polyline clip-path=\"url(#clip3402)\" style=\"stroke:#009af9; stroke-width:4; stroke-opacity:1; fill:none\" points=\"\n",
       "  362.057,504.729 362.057,274.072 \n",
       "  \"/>\n",
       "<polyline clip-path=\"url(#clip3402)\" style=\"stroke:#009af9; stroke-width:4; stroke-opacity:1; fill:none\" points=\"\n",
       "  383.282,567.902 383.282,328.066 \n",
       "  \"/>\n",
       "<polyline clip-path=\"url(#clip3402)\" style=\"stroke:#009af9; stroke-width:4; stroke-opacity:1; fill:none\" points=\"\n",
       "  406.525,634.128 406.525,382.19 \n",
       "  \"/>\n",
       "<polyline clip-path=\"url(#clip3402)\" style=\"stroke:#009af9; stroke-width:4; stroke-opacity:1; fill:none\" points=\"\n",
       "  431.706,701.688 431.706,436.247 \n",
       "  \"/>\n",
       "<polyline clip-path=\"url(#clip3402)\" style=\"stroke:#009af9; stroke-width:4; stroke-opacity:1; fill:none\" points=\"\n",
       "  458.52,768.452 458.52,489.654 \n",
       "  \"/>\n",
       "<polyline clip-path=\"url(#clip3402)\" style=\"stroke:#009af9; stroke-width:4; stroke-opacity:1; fill:none\" points=\"\n",
       "  486.814,833.05 486.814,542.193 \n",
       "  \"/>\n",
       "<polyline clip-path=\"url(#clip3402)\" style=\"stroke:#009af9; stroke-width:4; stroke-opacity:1; fill:none\" points=\"\n",
       "  516.389,894.359 516.389,593.545 \n",
       "  \"/>\n",
       "<polyline clip-path=\"url(#clip3402)\" style=\"stroke:#009af9; stroke-width:4; stroke-opacity:1; fill:none\" points=\"\n",
       "  547.112,951.711 547.112,643.5 \n",
       "  \"/>\n",
       "<polyline clip-path=\"url(#clip3402)\" style=\"stroke:#009af9; stroke-width:4; stroke-opacity:1; fill:none\" points=\"\n",
       "  578.855,1004.7 578.855,691.85 \n",
       "  \"/>\n",
       "<polyline clip-path=\"url(#clip3402)\" style=\"stroke:#009af9; stroke-width:4; stroke-opacity:1; fill:none\" points=\"\n",
       "  611.524,1053.18 611.524,738.441 \n",
       "  \"/>\n",
       "<polyline clip-path=\"url(#clip3402)\" style=\"stroke:#009af9; stroke-width:4; stroke-opacity:1; fill:none\" points=\"\n",
       "  645.042,1097.14 645.042,783.155 \n",
       "  \"/>\n",
       "<polyline clip-path=\"url(#clip3402)\" style=\"stroke:#009af9; stroke-width:4; stroke-opacity:1; fill:none\" points=\"\n",
       "  679.355,1136.72 679.355,825.911 \n",
       "  \"/>\n",
       "<polyline clip-path=\"url(#clip3402)\" style=\"stroke:#009af9; stroke-width:4; stroke-opacity:1; fill:none\" points=\"\n",
       "  714.419,1172.12 714.419,866.658 \n",
       "  \"/>\n",
       "<polyline clip-path=\"url(#clip3402)\" style=\"stroke:#009af9; stroke-width:4; stroke-opacity:1; fill:none\" points=\"\n",
       "  750.21,1203.6 750.21,905.374 \n",
       "  \"/>\n",
       "<polyline clip-path=\"url(#clip3402)\" style=\"stroke:#009af9; stroke-width:4; stroke-opacity:1; fill:none\" points=\"\n",
       "  786.71,1231.42 786.71,942.058 \n",
       "  \"/>\n",
       "<polyline clip-path=\"url(#clip3402)\" style=\"stroke:#009af9; stroke-width:4; stroke-opacity:1; fill:none\" points=\"\n",
       "  823.915,1255.89 823.915,976.728 \n",
       "  \"/>\n",
       "<polyline clip-path=\"url(#clip3402)\" style=\"stroke:#009af9; stroke-width:4; stroke-opacity:1; fill:none\" points=\"\n",
       "  861.826,1277.29 861.826,1009.42 \n",
       "  \"/>\n",
       "<polyline clip-path=\"url(#clip3402)\" style=\"stroke:#009af9; stroke-width:4; stroke-opacity:1; fill:none\" points=\"\n",
       "  900.453,1295.91 900.453,1040.16 \n",
       "  \"/>\n",
       "<polyline clip-path=\"url(#clip3402)\" style=\"stroke:#009af9; stroke-width:4; stroke-opacity:1; fill:none\" points=\"\n",
       "  939.813,1312.01 939.813,1069.02 \n",
       "  \"/>\n",
       "<polyline clip-path=\"url(#clip3402)\" style=\"stroke:#009af9; stroke-width:4; stroke-opacity:1; fill:none\" points=\"\n",
       "  979.926,1325.85 979.926,1096.05 \n",
       "  \"/>\n",
       "<polyline clip-path=\"url(#clip3402)\" style=\"stroke:#009af9; stroke-width:4; stroke-opacity:1; fill:none\" points=\"\n",
       "  1020.82,1337.67 1020.82,1121.31 \n",
       "  \"/>\n",
       "<polyline clip-path=\"url(#clip3402)\" style=\"stroke:#009af9; stroke-width:4; stroke-opacity:1; fill:none\" points=\"\n",
       "  1062.52,1347.69 1062.52,1144.87 \n",
       "  \"/>\n",
       "<polyline clip-path=\"url(#clip3402)\" style=\"stroke:#009af9; stroke-width:4; stroke-opacity:1; fill:none\" points=\"\n",
       "  1105.06,1356.11 1105.06,1166.79 \n",
       "  \"/>\n",
       "<polyline clip-path=\"url(#clip3402)\" style=\"stroke:#009af9; stroke-width:4; stroke-opacity:1; fill:none\" points=\"\n",
       "  1148.49,1363.13 1148.49,1187.15 \n",
       "  \"/>\n",
       "<polyline clip-path=\"url(#clip3402)\" style=\"stroke:#009af9; stroke-width:4; stroke-opacity:1; fill:none\" points=\"\n",
       "  1192.84,1368.9 1192.84,1206.01 \n",
       "  \"/>\n",
       "<polyline clip-path=\"url(#clip3402)\" style=\"stroke:#009af9; stroke-width:4; stroke-opacity:1; fill:none\" points=\"\n",
       "  1238.16,1373.6 1238.16,1223.44 \n",
       "  \"/>\n",
       "<polyline clip-path=\"url(#clip3402)\" style=\"stroke:#009af9; stroke-width:4; stroke-opacity:1; fill:none\" points=\"\n",
       "  1284.49,1377.36 1284.49,1239.51 \n",
       "  \"/>\n",
       "<polyline clip-path=\"url(#clip3402)\" style=\"stroke:#009af9; stroke-width:4; stroke-opacity:1; fill:none\" points=\"\n",
       "  1331.89,1380.3 1331.89,1254.29 \n",
       "  \"/>\n",
       "<polyline clip-path=\"url(#clip3402)\" style=\"stroke:#009af9; stroke-width:4; stroke-opacity:1; fill:none\" points=\"\n",
       "  1380.42,1382.55 1380.42,1267.85 \n",
       "  \"/>\n",
       "<polyline clip-path=\"url(#clip3402)\" style=\"stroke:#009af9; stroke-width:4; stroke-opacity:1; fill:none\" points=\"\n",
       "  1430.14,1384.21 1430.14,1280.25 \n",
       "  \"/>\n",
       "<polyline clip-path=\"url(#clip3402)\" style=\"stroke:#009af9; stroke-width:4; stroke-opacity:1; fill:none\" points=\"\n",
       "  1481.11,1385.36 1481.11,1291.56 \n",
       "  \"/>\n",
       "<polyline clip-path=\"url(#clip3402)\" style=\"stroke:#009af9; stroke-width:4; stroke-opacity:1; fill:none\" points=\"\n",
       "  1533.4,1386.1 1533.4,1301.85 \n",
       "  \"/>\n",
       "<polyline clip-path=\"url(#clip3402)\" style=\"stroke:#009af9; stroke-width:4; stroke-opacity:1; fill:none\" points=\"\n",
       "  1587.09,1386.49 1587.09,1311.18 \n",
       "  \"/>\n",
       "<polyline clip-path=\"url(#clip3402)\" style=\"stroke:#009af9; stroke-width:4; stroke-opacity:1; fill:none\" points=\"\n",
       "  1642.26,1386.61 1642.26,1319.61 \n",
       "  \"/>\n",
       "<polyline clip-path=\"url(#clip3402)\" style=\"stroke:#009af9; stroke-width:4; stroke-opacity:1; fill:none\" points=\"\n",
       "  1698.99,1386.5 1698.99,1327.2 \n",
       "  \"/>\n",
       "<polyline clip-path=\"url(#clip3402)\" style=\"stroke:#009af9; stroke-width:4; stroke-opacity:1; fill:none\" points=\"\n",
       "  1757.39,1386.21 1757.39,1334 \n",
       "  \"/>\n",
       "<polyline clip-path=\"url(#clip3402)\" style=\"stroke:#009af9; stroke-width:4; stroke-opacity:1; fill:none\" points=\"\n",
       "  1817.54,1385.8 1817.54,1340.08 \n",
       "  \"/>\n",
       "<polyline clip-path=\"url(#clip3402)\" style=\"stroke:#009af9; stroke-width:4; stroke-opacity:1; fill:none\" points=\"\n",
       "  1879.58,1385.29 1879.58,1345.49 \n",
       "  \"/>\n",
       "<polyline clip-path=\"url(#clip3402)\" style=\"stroke:#009af9; stroke-width:4; stroke-opacity:1; fill:none\" points=\"\n",
       "  1943.61,1384.72 1943.61,1350.28 \n",
       "  \"/>\n",
       "<polyline clip-path=\"url(#clip3402)\" style=\"stroke:#009af9; stroke-width:4; stroke-opacity:1; fill:none\" points=\"\n",
       "  2009.76,1384.11 2009.76,1354.5 \n",
       "  \"/>\n",
       "<polyline clip-path=\"url(#clip3402)\" style=\"stroke:#009af9; stroke-width:4; stroke-opacity:1; fill:none\" points=\"\n",
       "  2078.19,1383.49 2078.19,1358.2 \n",
       "  \"/>\n",
       "<polyline clip-path=\"url(#clip3402)\" style=\"stroke:#009af9; stroke-width:4; stroke-opacity:1; fill:none\" points=\"\n",
       "  2149.05,1382.88 2149.05,1361.43 \n",
       "  \"/>\n",
       "<polyline clip-path=\"url(#clip3402)\" style=\"stroke:#009af9; stroke-width:4; stroke-opacity:1; fill:none\" points=\"\n",
       "  2222.51,1382.28 2222.51,1364.23 \n",
       "  \"/>\n",
       "<polyline clip-path=\"url(#clip3402)\" style=\"stroke:#009af9; stroke-width:4; stroke-opacity:1; fill:none\" points=\"\n",
       "  2293.03,1381.75 2293.03,1366.48 \n",
       "  \"/>\n",
       "<line clip-path=\"url(#clip3402)\" x1=\"322.24\" y1=\"321.104\" x2=\"282.24\" y2=\"321.104\" style=\"stroke:#000000; stroke-width:4; stroke-opacity:1\"/>\n",
       "<line clip-path=\"url(#clip3402)\" x1=\"322.24\" y1=\"86.2547\" x2=\"282.24\" y2=\"86.2547\" style=\"stroke:#000000; stroke-width:4; stroke-opacity:1\"/>\n",
       "<line clip-path=\"url(#clip3402)\" x1=\"333.616\" y1=\"355.885\" x2=\"293.616\" y2=\"355.885\" style=\"stroke:#000000; stroke-width:4; stroke-opacity:1\"/>\n",
       "<line clip-path=\"url(#clip3402)\" x1=\"333.616\" y1=\"127.121\" x2=\"293.616\" y2=\"127.121\" style=\"stroke:#000000; stroke-width:4; stroke-opacity:1\"/>\n",
       "<line clip-path=\"url(#clip3402)\" x1=\"346.886\" y1=\"396.777\" x2=\"306.886\" y2=\"396.777\" style=\"stroke:#000000; stroke-width:4; stroke-opacity:1\"/>\n",
       "<line clip-path=\"url(#clip3402)\" x1=\"346.886\" y1=\"171.404\" x2=\"306.886\" y2=\"171.404\" style=\"stroke:#000000; stroke-width:4; stroke-opacity:1\"/>\n",
       "<line clip-path=\"url(#clip3402)\" x1=\"363.352\" y1=\"447.59\" x2=\"323.352\" y2=\"447.59\" style=\"stroke:#000000; stroke-width:4; stroke-opacity:1\"/>\n",
       "<line clip-path=\"url(#clip3402)\" x1=\"363.352\" y1=\"221.854\" x2=\"323.352\" y2=\"221.854\" style=\"stroke:#000000; stroke-width:4; stroke-opacity:1\"/>\n",
       "<line clip-path=\"url(#clip3402)\" x1=\"382.057\" y1=\"504.729\" x2=\"342.057\" y2=\"504.729\" style=\"stroke:#000000; stroke-width:4; stroke-opacity:1\"/>\n",
       "<line clip-path=\"url(#clip3402)\" x1=\"382.057\" y1=\"274.072\" x2=\"342.057\" y2=\"274.072\" style=\"stroke:#000000; stroke-width:4; stroke-opacity:1\"/>\n",
       "<line clip-path=\"url(#clip3402)\" x1=\"403.282\" y1=\"567.902\" x2=\"363.282\" y2=\"567.902\" style=\"stroke:#000000; stroke-width:4; stroke-opacity:1\"/>\n",
       "<line clip-path=\"url(#clip3402)\" x1=\"403.282\" y1=\"328.066\" x2=\"363.282\" y2=\"328.066\" style=\"stroke:#000000; stroke-width:4; stroke-opacity:1\"/>\n",
       "<line clip-path=\"url(#clip3402)\" x1=\"426.525\" y1=\"634.128\" x2=\"386.525\" y2=\"634.128\" style=\"stroke:#000000; stroke-width:4; stroke-opacity:1\"/>\n",
       "<line clip-path=\"url(#clip3402)\" x1=\"426.525\" y1=\"382.19\" x2=\"386.525\" y2=\"382.19\" style=\"stroke:#000000; stroke-width:4; stroke-opacity:1\"/>\n",
       "<line clip-path=\"url(#clip3402)\" x1=\"451.706\" y1=\"701.688\" x2=\"411.706\" y2=\"701.688\" style=\"stroke:#000000; stroke-width:4; stroke-opacity:1\"/>\n",
       "<line clip-path=\"url(#clip3402)\" x1=\"451.706\" y1=\"436.247\" x2=\"411.706\" y2=\"436.247\" style=\"stroke:#000000; stroke-width:4; stroke-opacity:1\"/>\n",
       "<line clip-path=\"url(#clip3402)\" x1=\"478.52\" y1=\"768.452\" x2=\"438.52\" y2=\"768.452\" style=\"stroke:#000000; stroke-width:4; stroke-opacity:1\"/>\n",
       "<line clip-path=\"url(#clip3402)\" x1=\"478.52\" y1=\"489.654\" x2=\"438.52\" y2=\"489.654\" style=\"stroke:#000000; stroke-width:4; stroke-opacity:1\"/>\n",
       "<line clip-path=\"url(#clip3402)\" x1=\"506.814\" y1=\"833.05\" x2=\"466.814\" y2=\"833.05\" style=\"stroke:#000000; stroke-width:4; stroke-opacity:1\"/>\n",
       "<line clip-path=\"url(#clip3402)\" x1=\"506.814\" y1=\"542.193\" x2=\"466.814\" y2=\"542.193\" style=\"stroke:#000000; stroke-width:4; stroke-opacity:1\"/>\n",
       "<line clip-path=\"url(#clip3402)\" x1=\"536.389\" y1=\"894.359\" x2=\"496.389\" y2=\"894.359\" style=\"stroke:#000000; stroke-width:4; stroke-opacity:1\"/>\n",
       "<line clip-path=\"url(#clip3402)\" x1=\"536.389\" y1=\"593.545\" x2=\"496.389\" y2=\"593.545\" style=\"stroke:#000000; stroke-width:4; stroke-opacity:1\"/>\n",
       "<line clip-path=\"url(#clip3402)\" x1=\"567.112\" y1=\"951.711\" x2=\"527.112\" y2=\"951.711\" style=\"stroke:#000000; stroke-width:4; stroke-opacity:1\"/>\n",
       "<line clip-path=\"url(#clip3402)\" x1=\"567.112\" y1=\"643.5\" x2=\"527.112\" y2=\"643.5\" style=\"stroke:#000000; stroke-width:4; stroke-opacity:1\"/>\n",
       "<line clip-path=\"url(#clip3402)\" x1=\"598.855\" y1=\"1004.7\" x2=\"558.855\" y2=\"1004.7\" style=\"stroke:#000000; stroke-width:4; stroke-opacity:1\"/>\n",
       "<line clip-path=\"url(#clip3402)\" x1=\"598.855\" y1=\"691.85\" x2=\"558.855\" y2=\"691.85\" style=\"stroke:#000000; stroke-width:4; stroke-opacity:1\"/>\n",
       "<line clip-path=\"url(#clip3402)\" x1=\"631.524\" y1=\"1053.18\" x2=\"591.524\" y2=\"1053.18\" style=\"stroke:#000000; stroke-width:4; stroke-opacity:1\"/>\n",
       "<line clip-path=\"url(#clip3402)\" x1=\"631.524\" y1=\"738.441\" x2=\"591.524\" y2=\"738.441\" style=\"stroke:#000000; stroke-width:4; stroke-opacity:1\"/>\n",
       "<line clip-path=\"url(#clip3402)\" x1=\"665.042\" y1=\"1097.14\" x2=\"625.042\" y2=\"1097.14\" style=\"stroke:#000000; stroke-width:4; stroke-opacity:1\"/>\n",
       "<line clip-path=\"url(#clip3402)\" x1=\"665.042\" y1=\"783.155\" x2=\"625.042\" y2=\"783.155\" style=\"stroke:#000000; stroke-width:4; stroke-opacity:1\"/>\n",
       "<line clip-path=\"url(#clip3402)\" x1=\"699.355\" y1=\"1136.72\" x2=\"659.355\" y2=\"1136.72\" style=\"stroke:#000000; stroke-width:4; stroke-opacity:1\"/>\n",
       "<line clip-path=\"url(#clip3402)\" x1=\"699.355\" y1=\"825.911\" x2=\"659.355\" y2=\"825.911\" style=\"stroke:#000000; stroke-width:4; stroke-opacity:1\"/>\n",
       "<line clip-path=\"url(#clip3402)\" x1=\"734.419\" y1=\"1172.12\" x2=\"694.419\" y2=\"1172.12\" style=\"stroke:#000000; stroke-width:4; stroke-opacity:1\"/>\n",
       "<line clip-path=\"url(#clip3402)\" x1=\"734.419\" y1=\"866.658\" x2=\"694.419\" y2=\"866.658\" style=\"stroke:#000000; stroke-width:4; stroke-opacity:1\"/>\n",
       "<line clip-path=\"url(#clip3402)\" x1=\"770.21\" y1=\"1203.6\" x2=\"730.21\" y2=\"1203.6\" style=\"stroke:#000000; stroke-width:4; stroke-opacity:1\"/>\n",
       "<line clip-path=\"url(#clip3402)\" x1=\"770.21\" y1=\"905.374\" x2=\"730.21\" y2=\"905.374\" style=\"stroke:#000000; stroke-width:4; stroke-opacity:1\"/>\n",
       "<line clip-path=\"url(#clip3402)\" x1=\"806.71\" y1=\"1231.42\" x2=\"766.71\" y2=\"1231.42\" style=\"stroke:#000000; stroke-width:4; stroke-opacity:1\"/>\n",
       "<line clip-path=\"url(#clip3402)\" x1=\"806.71\" y1=\"942.058\" x2=\"766.71\" y2=\"942.058\" style=\"stroke:#000000; stroke-width:4; stroke-opacity:1\"/>\n",
       "<line clip-path=\"url(#clip3402)\" x1=\"843.915\" y1=\"1255.89\" x2=\"803.915\" y2=\"1255.89\" style=\"stroke:#000000; stroke-width:4; stroke-opacity:1\"/>\n",
       "<line clip-path=\"url(#clip3402)\" x1=\"843.915\" y1=\"976.728\" x2=\"803.915\" y2=\"976.728\" style=\"stroke:#000000; stroke-width:4; stroke-opacity:1\"/>\n",
       "<line clip-path=\"url(#clip3402)\" x1=\"881.826\" y1=\"1277.29\" x2=\"841.826\" y2=\"1277.29\" style=\"stroke:#000000; stroke-width:4; stroke-opacity:1\"/>\n",
       "<line clip-path=\"url(#clip3402)\" x1=\"881.826\" y1=\"1009.42\" x2=\"841.826\" y2=\"1009.42\" style=\"stroke:#000000; stroke-width:4; stroke-opacity:1\"/>\n",
       "<line clip-path=\"url(#clip3402)\" x1=\"920.453\" y1=\"1295.91\" x2=\"880.453\" y2=\"1295.91\" style=\"stroke:#000000; stroke-width:4; stroke-opacity:1\"/>\n",
       "<line clip-path=\"url(#clip3402)\" x1=\"920.453\" y1=\"1040.16\" x2=\"880.453\" y2=\"1040.16\" style=\"stroke:#000000; stroke-width:4; stroke-opacity:1\"/>\n",
       "<line clip-path=\"url(#clip3402)\" x1=\"959.813\" y1=\"1312.01\" x2=\"919.813\" y2=\"1312.01\" style=\"stroke:#000000; stroke-width:4; stroke-opacity:1\"/>\n",
       "<line clip-path=\"url(#clip3402)\" x1=\"959.813\" y1=\"1069.02\" x2=\"919.813\" y2=\"1069.02\" style=\"stroke:#000000; stroke-width:4; stroke-opacity:1\"/>\n",
       "<line clip-path=\"url(#clip3402)\" x1=\"999.926\" y1=\"1325.85\" x2=\"959.926\" y2=\"1325.85\" style=\"stroke:#000000; stroke-width:4; stroke-opacity:1\"/>\n",
       "<line clip-path=\"url(#clip3402)\" x1=\"999.926\" y1=\"1096.05\" x2=\"959.926\" y2=\"1096.05\" style=\"stroke:#000000; stroke-width:4; stroke-opacity:1\"/>\n",
       "<line clip-path=\"url(#clip3402)\" x1=\"1040.82\" y1=\"1337.67\" x2=\"1000.82\" y2=\"1337.67\" style=\"stroke:#000000; stroke-width:4; stroke-opacity:1\"/>\n",
       "<line clip-path=\"url(#clip3402)\" x1=\"1040.82\" y1=\"1121.31\" x2=\"1000.82\" y2=\"1121.31\" style=\"stroke:#000000; stroke-width:4; stroke-opacity:1\"/>\n",
       "<line clip-path=\"url(#clip3402)\" x1=\"1082.52\" y1=\"1347.69\" x2=\"1042.52\" y2=\"1347.69\" style=\"stroke:#000000; stroke-width:4; stroke-opacity:1\"/>\n",
       "<line clip-path=\"url(#clip3402)\" x1=\"1082.52\" y1=\"1144.87\" x2=\"1042.52\" y2=\"1144.87\" style=\"stroke:#000000; stroke-width:4; stroke-opacity:1\"/>\n",
       "<line clip-path=\"url(#clip3402)\" x1=\"1125.06\" y1=\"1356.11\" x2=\"1085.06\" y2=\"1356.11\" style=\"stroke:#000000; stroke-width:4; stroke-opacity:1\"/>\n",
       "<line clip-path=\"url(#clip3402)\" x1=\"1125.06\" y1=\"1166.79\" x2=\"1085.06\" y2=\"1166.79\" style=\"stroke:#000000; stroke-width:4; stroke-opacity:1\"/>\n",
       "<line clip-path=\"url(#clip3402)\" x1=\"1168.49\" y1=\"1363.13\" x2=\"1128.49\" y2=\"1363.13\" style=\"stroke:#000000; stroke-width:4; stroke-opacity:1\"/>\n",
       "<line clip-path=\"url(#clip3402)\" x1=\"1168.49\" y1=\"1187.15\" x2=\"1128.49\" y2=\"1187.15\" style=\"stroke:#000000; stroke-width:4; stroke-opacity:1\"/>\n",
       "<line clip-path=\"url(#clip3402)\" x1=\"1212.84\" y1=\"1368.9\" x2=\"1172.84\" y2=\"1368.9\" style=\"stroke:#000000; stroke-width:4; stroke-opacity:1\"/>\n",
       "<line clip-path=\"url(#clip3402)\" x1=\"1212.84\" y1=\"1206.01\" x2=\"1172.84\" y2=\"1206.01\" style=\"stroke:#000000; stroke-width:4; stroke-opacity:1\"/>\n",
       "<line clip-path=\"url(#clip3402)\" x1=\"1258.16\" y1=\"1373.6\" x2=\"1218.16\" y2=\"1373.6\" style=\"stroke:#000000; stroke-width:4; stroke-opacity:1\"/>\n",
       "<line clip-path=\"url(#clip3402)\" x1=\"1258.16\" y1=\"1223.44\" x2=\"1218.16\" y2=\"1223.44\" style=\"stroke:#000000; stroke-width:4; stroke-opacity:1\"/>\n",
       "<line clip-path=\"url(#clip3402)\" x1=\"1304.49\" y1=\"1377.36\" x2=\"1264.49\" y2=\"1377.36\" style=\"stroke:#000000; stroke-width:4; stroke-opacity:1\"/>\n",
       "<line clip-path=\"url(#clip3402)\" x1=\"1304.49\" y1=\"1239.51\" x2=\"1264.49\" y2=\"1239.51\" style=\"stroke:#000000; stroke-width:4; stroke-opacity:1\"/>\n",
       "<line clip-path=\"url(#clip3402)\" x1=\"1351.89\" y1=\"1380.3\" x2=\"1311.89\" y2=\"1380.3\" style=\"stroke:#000000; stroke-width:4; stroke-opacity:1\"/>\n",
       "<line clip-path=\"url(#clip3402)\" x1=\"1351.89\" y1=\"1254.29\" x2=\"1311.89\" y2=\"1254.29\" style=\"stroke:#000000; stroke-width:4; stroke-opacity:1\"/>\n",
       "<line clip-path=\"url(#clip3402)\" x1=\"1400.42\" y1=\"1382.55\" x2=\"1360.42\" y2=\"1382.55\" style=\"stroke:#000000; stroke-width:4; stroke-opacity:1\"/>\n",
       "<line clip-path=\"url(#clip3402)\" x1=\"1400.42\" y1=\"1267.85\" x2=\"1360.42\" y2=\"1267.85\" style=\"stroke:#000000; stroke-width:4; stroke-opacity:1\"/>\n",
       "<line clip-path=\"url(#clip3402)\" x1=\"1450.14\" y1=\"1384.21\" x2=\"1410.14\" y2=\"1384.21\" style=\"stroke:#000000; stroke-width:4; stroke-opacity:1\"/>\n",
       "<line clip-path=\"url(#clip3402)\" x1=\"1450.14\" y1=\"1280.25\" x2=\"1410.14\" y2=\"1280.25\" style=\"stroke:#000000; stroke-width:4; stroke-opacity:1\"/>\n",
       "<line clip-path=\"url(#clip3402)\" x1=\"1501.11\" y1=\"1385.36\" x2=\"1461.11\" y2=\"1385.36\" style=\"stroke:#000000; stroke-width:4; stroke-opacity:1\"/>\n",
       "<line clip-path=\"url(#clip3402)\" x1=\"1501.11\" y1=\"1291.56\" x2=\"1461.11\" y2=\"1291.56\" style=\"stroke:#000000; stroke-width:4; stroke-opacity:1\"/>\n",
       "<line clip-path=\"url(#clip3402)\" x1=\"1553.4\" y1=\"1386.1\" x2=\"1513.4\" y2=\"1386.1\" style=\"stroke:#000000; stroke-width:4; stroke-opacity:1\"/>\n",
       "<line clip-path=\"url(#clip3402)\" x1=\"1553.4\" y1=\"1301.85\" x2=\"1513.4\" y2=\"1301.85\" style=\"stroke:#000000; stroke-width:4; stroke-opacity:1\"/>\n",
       "<line clip-path=\"url(#clip3402)\" x1=\"1607.09\" y1=\"1386.49\" x2=\"1567.09\" y2=\"1386.49\" style=\"stroke:#000000; stroke-width:4; stroke-opacity:1\"/>\n",
       "<line clip-path=\"url(#clip3402)\" x1=\"1607.09\" y1=\"1311.18\" x2=\"1567.09\" y2=\"1311.18\" style=\"stroke:#000000; stroke-width:4; stroke-opacity:1\"/>\n",
       "<line clip-path=\"url(#clip3402)\" x1=\"1662.26\" y1=\"1386.61\" x2=\"1622.26\" y2=\"1386.61\" style=\"stroke:#000000; stroke-width:4; stroke-opacity:1\"/>\n",
       "<line clip-path=\"url(#clip3402)\" x1=\"1662.26\" y1=\"1319.61\" x2=\"1622.26\" y2=\"1319.61\" style=\"stroke:#000000; stroke-width:4; stroke-opacity:1\"/>\n",
       "<line clip-path=\"url(#clip3402)\" x1=\"1718.99\" y1=\"1386.5\" x2=\"1678.99\" y2=\"1386.5\" style=\"stroke:#000000; stroke-width:4; stroke-opacity:1\"/>\n",
       "<line clip-path=\"url(#clip3402)\" x1=\"1718.99\" y1=\"1327.2\" x2=\"1678.99\" y2=\"1327.2\" style=\"stroke:#000000; stroke-width:4; stroke-opacity:1\"/>\n",
       "<line clip-path=\"url(#clip3402)\" x1=\"1777.39\" y1=\"1386.21\" x2=\"1737.39\" y2=\"1386.21\" style=\"stroke:#000000; stroke-width:4; stroke-opacity:1\"/>\n",
       "<line clip-path=\"url(#clip3402)\" x1=\"1777.39\" y1=\"1334\" x2=\"1737.39\" y2=\"1334\" style=\"stroke:#000000; stroke-width:4; stroke-opacity:1\"/>\n",
       "<line clip-path=\"url(#clip3402)\" x1=\"1837.54\" y1=\"1385.8\" x2=\"1797.54\" y2=\"1385.8\" style=\"stroke:#000000; stroke-width:4; stroke-opacity:1\"/>\n",
       "<line clip-path=\"url(#clip3402)\" x1=\"1837.54\" y1=\"1340.08\" x2=\"1797.54\" y2=\"1340.08\" style=\"stroke:#000000; stroke-width:4; stroke-opacity:1\"/>\n",
       "<line clip-path=\"url(#clip3402)\" x1=\"1899.58\" y1=\"1385.29\" x2=\"1859.58\" y2=\"1385.29\" style=\"stroke:#000000; stroke-width:4; stroke-opacity:1\"/>\n",
       "<line clip-path=\"url(#clip3402)\" x1=\"1899.58\" y1=\"1345.49\" x2=\"1859.58\" y2=\"1345.49\" style=\"stroke:#000000; stroke-width:4; stroke-opacity:1\"/>\n",
       "<line clip-path=\"url(#clip3402)\" x1=\"1963.61\" y1=\"1384.72\" x2=\"1923.61\" y2=\"1384.72\" style=\"stroke:#000000; stroke-width:4; stroke-opacity:1\"/>\n",
       "<line clip-path=\"url(#clip3402)\" x1=\"1963.61\" y1=\"1350.28\" x2=\"1923.61\" y2=\"1350.28\" style=\"stroke:#000000; stroke-width:4; stroke-opacity:1\"/>\n",
       "<line clip-path=\"url(#clip3402)\" x1=\"2029.76\" y1=\"1384.11\" x2=\"1989.76\" y2=\"1384.11\" style=\"stroke:#000000; stroke-width:4; stroke-opacity:1\"/>\n",
       "<line clip-path=\"url(#clip3402)\" x1=\"2029.76\" y1=\"1354.5\" x2=\"1989.76\" y2=\"1354.5\" style=\"stroke:#000000; stroke-width:4; stroke-opacity:1\"/>\n",
       "<line clip-path=\"url(#clip3402)\" x1=\"2098.19\" y1=\"1383.49\" x2=\"2058.19\" y2=\"1383.49\" style=\"stroke:#000000; stroke-width:4; stroke-opacity:1\"/>\n",
       "<line clip-path=\"url(#clip3402)\" x1=\"2098.19\" y1=\"1358.2\" x2=\"2058.19\" y2=\"1358.2\" style=\"stroke:#000000; stroke-width:4; stroke-opacity:1\"/>\n",
       "<line clip-path=\"url(#clip3402)\" x1=\"2169.05\" y1=\"1382.88\" x2=\"2129.05\" y2=\"1382.88\" style=\"stroke:#000000; stroke-width:4; stroke-opacity:1\"/>\n",
       "<line clip-path=\"url(#clip3402)\" x1=\"2169.05\" y1=\"1361.43\" x2=\"2129.05\" y2=\"1361.43\" style=\"stroke:#000000; stroke-width:4; stroke-opacity:1\"/>\n",
       "<line clip-path=\"url(#clip3402)\" x1=\"2242.51\" y1=\"1382.28\" x2=\"2202.51\" y2=\"1382.28\" style=\"stroke:#000000; stroke-width:4; stroke-opacity:1\"/>\n",
       "<line clip-path=\"url(#clip3402)\" x1=\"2242.51\" y1=\"1364.23\" x2=\"2202.51\" y2=\"1364.23\" style=\"stroke:#000000; stroke-width:4; stroke-opacity:1\"/>\n",
       "<line clip-path=\"url(#clip3402)\" x1=\"2313.03\" y1=\"1381.75\" x2=\"2273.03\" y2=\"1381.75\" style=\"stroke:#000000; stroke-width:4; stroke-opacity:1\"/>\n",
       "<line clip-path=\"url(#clip3402)\" x1=\"2313.03\" y1=\"1366.48\" x2=\"2273.03\" y2=\"1366.48\" style=\"stroke:#000000; stroke-width:4; stroke-opacity:1\"/>\n",
       "<polyline clip-path=\"url(#clip3402)\" style=\"stroke:#ff0000; stroke-width:4; stroke-opacity:1; fill:none\" points=\"\n",
       "  302.24,203.679 313.616,241.503 326.886,284.09 343.352,334.722 362.057,389.401 383.282,447.984 406.525,508.159 431.706,568.967 458.52,629.053 486.814,687.622 \n",
       "  516.389,743.952 547.112,797.605 578.855,848.275 611.524,895.808 645.042,940.147 679.355,981.316 714.419,1019.39 750.21,1054.49 786.71,1086.74 823.915,1116.31 \n",
       "  861.826,1143.35 900.453,1168.04 939.813,1190.52 979.926,1210.95 1020.82,1229.49 1062.52,1246.28 1105.06,1261.45 1148.49,1275.14 1192.84,1287.45 1238.16,1298.52 \n",
       "  1284.49,1308.43 1331.89,1317.29 1380.42,1325.2 1430.14,1332.23 1481.11,1338.46 1533.4,1343.98 1587.09,1348.84 1642.26,1353.11 1698.99,1356.85 1757.39,1360.11 \n",
       "  1817.54,1362.94 1879.58,1365.39 1943.61,1367.5 2009.76,1369.31 2078.19,1370.85 2149.05,1372.15 2222.51,1373.25 2293.03,1374.11 \n",
       "  \"/>\n",
       "<path clip-path=\"url(#clip3400)\" d=\"\n",
       "M1832.14 312.204 L2280.76 312.204 L2280.76 130.764 L1832.14 130.764  Z\n",
       "  \" fill=\"#ffffff\" fill-rule=\"evenodd\" fill-opacity=\"1\"/>\n",
       "<polyline clip-path=\"url(#clip3400)\" style=\"stroke:#000000; stroke-width:4; stroke-opacity:1; fill:none\" points=\"\n",
       "  1832.14,312.204 2280.76,312.204 2280.76,130.764 1832.14,130.764 1832.14,312.204 \n",
       "  \"/>\n",
       "<polyline clip-path=\"url(#clip3400)\" style=\"stroke:#009af9; stroke-width:8; stroke-opacity:1; fill:none\" points=\"\n",
       "  1856.14,191.244 2000.14,191.244 \n",
       "  \"/>\n",
       "<g clip-path=\"url(#clip3400)\">\n",
       "<text style=\"fill:#000000; fill-opacity:1; font-family:Arial,Helvetica Neue,Helvetica,sans-serif; font-size:48px; text-anchor:start;\" transform=\"rotate(0, 2024.14, 208.744)\" x=\"2024.14\" y=\"208.744\">numerical</text>\n",
       "</g>\n",
       "<polyline clip-path=\"url(#clip3400)\" style=\"stroke:#ff0000; stroke-width:4; stroke-opacity:1; fill:none\" points=\"\n",
       "  1856.14,251.724 2000.14,251.724 \n",
       "  \"/>\n",
       "<g clip-path=\"url(#clip3400)\">\n",
       "<text style=\"fill:#000000; fill-opacity:1; font-family:Arial,Helvetica Neue,Helvetica,sans-serif; font-size:48px; text-anchor:start;\" transform=\"rotate(0, 2024.14, 269.224)\" x=\"2024.14\" y=\"269.224\">exact</text>\n",
       "</g>\n",
       "</svg>\n"
      ]
     },
     "execution_count": 5,
     "metadata": {},
     "output_type": "execute_result"
    }
   ],
   "source": [
    "plot(sol.t, sol.u, ylabel=\"u(t)\", xlabel=\"t\", lw=2, label=\"numerical\")\n",
    "\n",
    "# analytic solution\n",
    "u_exact(t) = u0 * exp(-c*t)\n",
    "plot!(Measurements.value.(sol.t), Measurements.value.(u_exact.(sol.t)), color=:red, label=\"exact\")"
   ]
  },
  {
   "cell_type": "markdown",
   "metadata": {},
   "source": [
    "Note that, in some sense, **Julia implemented that feature by itself**.\n",
    "\n",
    "The authors of Measurements.jl and DifferentialEquations.jl never had any collabration on this.\n",
    "\n",
    "It **just works**."
   ]
  },
  {
   "cell_type": "markdown",
   "metadata": {},
   "source": [
    "# Core messages of this Notebook\n",
    "\n",
    "* It is simple to write **type-generic code** in Julia and you should do it.\n",
    "* Generally, **generic code is just as fast as specific code**.\n",
    "* Generic Programming + Multiple Dispatch + JIT = **lots of code sharing and emergent features**"
   ]
  }
 ],
 "metadata": {
  "@webio": {
   "lastCommId": null,
   "lastKernelId": null
  },
  "kernelspec": {
   "display_name": "Julia 1.3.0",
   "language": "julia",
   "name": "julia-1.3"
  },
  "language_info": {
   "file_extension": ".jl",
   "mimetype": "application/julia",
   "name": "julia",
   "version": "1.3.0"
  }
 },
 "nbformat": 4,
 "nbformat_minor": 4
}
