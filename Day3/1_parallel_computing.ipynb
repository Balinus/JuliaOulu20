{
 "cells": [
  {
   "cell_type": "markdown",
   "metadata": {},
   "source": [
    "# Parallel Computing"
   ]
  },
  {
   "cell_type": "markdown",
   "metadata": {},
   "source": [
    "Parallel computing is a programming method that **harnesses the power of multiple processors (or cores) at once**. Once of concern only to programmers of large supercomputers, modern computers now almost always have multi-core processors."
   ]
  },
  {
   "cell_type": "markdown",
   "metadata": {},
   "source": [
    "### How many CPU cores do I have?"
   ]
  },
  {
   "cell_type": "code",
   "execution_count": 2,
   "metadata": {},
   "outputs": [
    {
     "data": {
      "text/plain": [
       "4"
      ]
     },
     "execution_count": 2,
     "metadata": {},
     "output_type": "execute_result"
    }
   ],
   "source": [
    "using Hwloc\n",
    "Hwloc.num_physical_cores()"
   ]
  },
  {
   "cell_type": "code",
   "execution_count": 3,
   "metadata": {},
   "outputs": [
    {
     "data": {
      "text/plain": [
       "4"
      ]
     },
     "execution_count": 3,
     "metadata": {},
     "output_type": "execute_result"
    }
   ],
   "source": [
    "Sys.CPU_THREADS"
   ]
  },
  {
   "cell_type": "code",
   "execution_count": 4,
   "metadata": {},
   "outputs": [
    {
     "name": "stdout",
     "output_type": "stream",
     "text": [
      "Julia Version 1.3.1\n",
      "Commit 2d5741174c (2019-12-30 21:36 UTC)\n",
      "Platform Info:\n",
      "  OS: Windows (x86_64-w64-mingw32)\n",
      "  CPU: Intel(R) Core(TM) i5-6600 CPU @ 3.30GHz\n",
      "  WORD_SIZE: 64\n",
      "  LIBM: libopenlibm\n",
      "  LLVM: libLLVM-6.0.1 (ORCJIT, skylake)\n",
      "Environment:\n",
      "  JULIA_DQMC = C:\\Users\\carsten\\Desktop\\sciebo\\codes\\julia-sdw-dqmc\n",
      "  JULIA_EDITOR = \"C:\\Program Files\\Sublime Text 3\\sublime_text.exe\"\n"
     ]
    }
   ],
   "source": [
    "versioninfo()"
   ]
  },
  {
   "cell_type": "markdown",
   "metadata": {},
   "source": [
    "(Note that `Sys.CPU_THREADS` may or may not be equal to the number above. It indicates the number of CPUs + Hyperthreads.)"
   ]
  },
  {
   "cell_type": "markdown",
   "metadata": {},
   "source": [
    "### Why go parallel?\n",
    "\n",
    "<img src=\"42-years-processor-trend.svg\" width=700px>"
   ]
  },
  {
   "cell_type": "markdown",
   "metadata": {},
   "source": [
    "### **Amdahl's Law**"
   ]
  },
  {
   "cell_type": "markdown",
   "metadata": {},
   "source": [
    "Naive expectation: I have 4 cores, give me my 4x speedup!"
   ]
  },
  {
   "cell_type": "markdown",
   "metadata": {},
   "source": [
    ">If $p$ is the fraction of a code that can be parallelized than the maximal theoretical speedup by parallelizing on $n$ cores is given by $F(n) = 1/(1-p + p/n)$."
   ]
  },
  {
   "cell_type": "code",
   "execution_count": 5,
   "metadata": {},
   "outputs": [
    {
     "data": {
      "image/svg+xml": [
       "<?xml version=\"1.0\" encoding=\"utf-8\"?>\n",
       "<svg xmlns=\"http://www.w3.org/2000/svg\" xmlns:xlink=\"http://www.w3.org/1999/xlink\" width=\"600\" height=\"400\" viewBox=\"0 0 2400 1600\">\n",
       "<defs>\n",
       "  <clipPath id=\"clip6200\">\n",
       "    <rect x=\"0\" y=\"0\" width=\"2400\" height=\"1600\"/>\n",
       "  </clipPath>\n",
       "</defs>\n",
       "<path clip-path=\"url(#clip6200)\" d=\"\n",
       "M0 1600 L2400 1600 L2400 0 L0 0  Z\n",
       "  \" fill=\"#ffffff\" fill-rule=\"evenodd\" fill-opacity=\"1\"/>\n",
       "<defs>\n",
       "  <clipPath id=\"clip6201\">\n",
       "    <rect x=\"480\" y=\"0\" width=\"1681\" height=\"1600\"/>\n",
       "  </clipPath>\n",
       "</defs>\n",
       "<path clip-path=\"url(#clip6200)\" d=\"\n",
       "M202.373 1425.62 L2352.76 1425.62 L2352.76 47.2441 L202.373 47.2441  Z\n",
       "  \" fill=\"#ffffff\" fill-rule=\"evenodd\" fill-opacity=\"1\"/>\n",
       "<defs>\n",
       "  <clipPath id=\"clip6202\">\n",
       "    <rect x=\"202\" y=\"47\" width=\"2151\" height=\"1379\"/>\n",
       "  </clipPath>\n",
       "</defs>\n",
       "<polyline clip-path=\"url(#clip6202)\" style=\"stroke:#000000; stroke-width:2; stroke-opacity:0.1; fill:none\" points=\"\n",
       "  533.721,1425.62 533.721,47.2441 \n",
       "  \"/>\n",
       "<polyline clip-path=\"url(#clip6202)\" style=\"stroke:#000000; stroke-width:2; stroke-opacity:0.1; fill:none\" points=\"\n",
       "  939.454,1425.62 939.454,47.2441 \n",
       "  \"/>\n",
       "<polyline clip-path=\"url(#clip6202)\" style=\"stroke:#000000; stroke-width:2; stroke-opacity:0.1; fill:none\" points=\"\n",
       "  1345.19,1425.62 1345.19,47.2441 \n",
       "  \"/>\n",
       "<polyline clip-path=\"url(#clip6202)\" style=\"stroke:#000000; stroke-width:2; stroke-opacity:0.1; fill:none\" points=\"\n",
       "  1750.92,1425.62 1750.92,47.2441 \n",
       "  \"/>\n",
       "<polyline clip-path=\"url(#clip6202)\" style=\"stroke:#000000; stroke-width:2; stroke-opacity:0.1; fill:none\" points=\"\n",
       "  2156.65,1425.62 2156.65,47.2441 \n",
       "  \"/>\n",
       "<polyline clip-path=\"url(#clip6202)\" style=\"stroke:#000000; stroke-width:2; stroke-opacity:0.1; fill:none\" points=\"\n",
       "  202.373,1213.23 2352.76,1213.23 \n",
       "  \"/>\n",
       "<polyline clip-path=\"url(#clip6202)\" style=\"stroke:#000000; stroke-width:2; stroke-opacity:0.1; fill:none\" points=\"\n",
       "  202.373,953.157 2352.76,953.157 \n",
       "  \"/>\n",
       "<polyline clip-path=\"url(#clip6202)\" style=\"stroke:#000000; stroke-width:2; stroke-opacity:0.1; fill:none\" points=\"\n",
       "  202.373,693.086 2352.76,693.086 \n",
       "  \"/>\n",
       "<polyline clip-path=\"url(#clip6202)\" style=\"stroke:#000000; stroke-width:2; stroke-opacity:0.1; fill:none\" points=\"\n",
       "  202.373,433.016 2352.76,433.016 \n",
       "  \"/>\n",
       "<polyline clip-path=\"url(#clip6202)\" style=\"stroke:#000000; stroke-width:2; stroke-opacity:0.1; fill:none\" points=\"\n",
       "  202.373,172.945 2352.76,172.945 \n",
       "  \"/>\n",
       "<polyline clip-path=\"url(#clip6200)\" style=\"stroke:#000000; stroke-width:4; stroke-opacity:1; fill:none\" points=\"\n",
       "  202.373,1425.62 2352.76,1425.62 \n",
       "  \"/>\n",
       "<polyline clip-path=\"url(#clip6200)\" style=\"stroke:#000000; stroke-width:4; stroke-opacity:1; fill:none\" points=\"\n",
       "  202.373,1425.62 202.373,47.2441 \n",
       "  \"/>\n",
       "<polyline clip-path=\"url(#clip6200)\" style=\"stroke:#000000; stroke-width:4; stroke-opacity:1; fill:none\" points=\"\n",
       "  533.721,1425.62 533.721,1409.08 \n",
       "  \"/>\n",
       "<polyline clip-path=\"url(#clip6200)\" style=\"stroke:#000000; stroke-width:4; stroke-opacity:1; fill:none\" points=\"\n",
       "  939.454,1425.62 939.454,1409.08 \n",
       "  \"/>\n",
       "<polyline clip-path=\"url(#clip6200)\" style=\"stroke:#000000; stroke-width:4; stroke-opacity:1; fill:none\" points=\"\n",
       "  1345.19,1425.62 1345.19,1409.08 \n",
       "  \"/>\n",
       "<polyline clip-path=\"url(#clip6200)\" style=\"stroke:#000000; stroke-width:4; stroke-opacity:1; fill:none\" points=\"\n",
       "  1750.92,1425.62 1750.92,1409.08 \n",
       "  \"/>\n",
       "<polyline clip-path=\"url(#clip6200)\" style=\"stroke:#000000; stroke-width:4; stroke-opacity:1; fill:none\" points=\"\n",
       "  2156.65,1425.62 2156.65,1409.08 \n",
       "  \"/>\n",
       "<polyline clip-path=\"url(#clip6200)\" style=\"stroke:#000000; stroke-width:4; stroke-opacity:1; fill:none\" points=\"\n",
       "  202.373,1213.23 228.178,1213.23 \n",
       "  \"/>\n",
       "<polyline clip-path=\"url(#clip6200)\" style=\"stroke:#000000; stroke-width:4; stroke-opacity:1; fill:none\" points=\"\n",
       "  202.373,953.157 228.178,953.157 \n",
       "  \"/>\n",
       "<polyline clip-path=\"url(#clip6200)\" style=\"stroke:#000000; stroke-width:4; stroke-opacity:1; fill:none\" points=\"\n",
       "  202.373,693.086 228.178,693.086 \n",
       "  \"/>\n",
       "<polyline clip-path=\"url(#clip6200)\" style=\"stroke:#000000; stroke-width:4; stroke-opacity:1; fill:none\" points=\"\n",
       "  202.373,433.016 228.178,433.016 \n",
       "  \"/>\n",
       "<polyline clip-path=\"url(#clip6200)\" style=\"stroke:#000000; stroke-width:4; stroke-opacity:1; fill:none\" points=\"\n",
       "  202.373,172.945 228.178,172.945 \n",
       "  \"/>\n",
       "<g clip-path=\"url(#clip6200)\">\n",
       "<text style=\"fill:#000000; fill-opacity:1; font-family:Arial,Helvetica Neue,Helvetica,sans-serif; font-size:48px; text-anchor:middle;\" transform=\"rotate(0, 533.721, 1479.62)\" x=\"533.721\" y=\"1479.62\">3</text>\n",
       "</g>\n",
       "<g clip-path=\"url(#clip6200)\">\n",
       "<text style=\"fill:#000000; fill-opacity:1; font-family:Arial,Helvetica Neue,Helvetica,sans-serif; font-size:48px; text-anchor:middle;\" transform=\"rotate(0, 939.454, 1479.62)\" x=\"939.454\" y=\"1479.62\">6</text>\n",
       "</g>\n",
       "<g clip-path=\"url(#clip6200)\">\n",
       "<text style=\"fill:#000000; fill-opacity:1; font-family:Arial,Helvetica Neue,Helvetica,sans-serif; font-size:48px; text-anchor:middle;\" transform=\"rotate(0, 1345.19, 1479.62)\" x=\"1345.19\" y=\"1479.62\">9</text>\n",
       "</g>\n",
       "<g clip-path=\"url(#clip6200)\">\n",
       "<text style=\"fill:#000000; fill-opacity:1; font-family:Arial,Helvetica Neue,Helvetica,sans-serif; font-size:48px; text-anchor:middle;\" transform=\"rotate(0, 1750.92, 1479.62)\" x=\"1750.92\" y=\"1479.62\">12</text>\n",
       "</g>\n",
       "<g clip-path=\"url(#clip6200)\">\n",
       "<text style=\"fill:#000000; fill-opacity:1; font-family:Arial,Helvetica Neue,Helvetica,sans-serif; font-size:48px; text-anchor:middle;\" transform=\"rotate(0, 2156.65, 1479.62)\" x=\"2156.65\" y=\"1479.62\">15</text>\n",
       "</g>\n",
       "<g clip-path=\"url(#clip6200)\">\n",
       "<text style=\"fill:#000000; fill-opacity:1; font-family:Arial,Helvetica Neue,Helvetica,sans-serif; font-size:48px; text-anchor:end;\" transform=\"rotate(0, 178.373, 1230.73)\" x=\"178.373\" y=\"1230.73\">3</text>\n",
       "</g>\n",
       "<g clip-path=\"url(#clip6200)\">\n",
       "<text style=\"fill:#000000; fill-opacity:1; font-family:Arial,Helvetica Neue,Helvetica,sans-serif; font-size:48px; text-anchor:end;\" transform=\"rotate(0, 178.373, 970.657)\" x=\"178.373\" y=\"970.657\">6</text>\n",
       "</g>\n",
       "<g clip-path=\"url(#clip6200)\">\n",
       "<text style=\"fill:#000000; fill-opacity:1; font-family:Arial,Helvetica Neue,Helvetica,sans-serif; font-size:48px; text-anchor:end;\" transform=\"rotate(0, 178.373, 710.586)\" x=\"178.373\" y=\"710.586\">9</text>\n",
       "</g>\n",
       "<g clip-path=\"url(#clip6200)\">\n",
       "<text style=\"fill:#000000; fill-opacity:1; font-family:Arial,Helvetica Neue,Helvetica,sans-serif; font-size:48px; text-anchor:end;\" transform=\"rotate(0, 178.373, 450.516)\" x=\"178.373\" y=\"450.516\">12</text>\n",
       "</g>\n",
       "<g clip-path=\"url(#clip6200)\">\n",
       "<text style=\"fill:#000000; fill-opacity:1; font-family:Arial,Helvetica Neue,Helvetica,sans-serif; font-size:48px; text-anchor:end;\" transform=\"rotate(0, 178.373, 190.445)\" x=\"178.373\" y=\"190.445\">15</text>\n",
       "</g>\n",
       "<polyline clip-path=\"url(#clip6202)\" style=\"stroke:#000000; stroke-width:4; stroke-opacity:1; fill:none\" points=\"\n",
       "  202.373,47.2441 2352.76,47.2441 \n",
       "  \"/>\n",
       "<polyline clip-path=\"url(#clip6202)\" style=\"stroke:#000000; stroke-width:4; stroke-opacity:1; fill:none\" points=\"\n",
       "  2352.76,1425.62 2352.76,47.2441 \n",
       "  \"/>\n",
       "<g clip-path=\"url(#clip6200)\">\n",
       "<text style=\"fill:#000000; fill-opacity:1; font-family:Arial,Helvetica Neue,Helvetica,sans-serif; font-size:66px; text-anchor:middle;\" transform=\"rotate(0, 1277.56, 1559.48)\" x=\"1277.56\" y=\"1559.48\">number of cores</text>\n",
       "</g>\n",
       "<g clip-path=\"url(#clip6200)\">\n",
       "<text style=\"fill:#000000; fill-opacity:1; font-family:Arial,Helvetica Neue,Helvetica,sans-serif; font-size:66px; text-anchor:middle;\" transform=\"rotate(-90, 89.2861, 736.431)\" x=\"89.2861\" y=\"736.431\">parallel speedup</text>\n",
       "</g>\n",
       "<polyline clip-path=\"url(#clip6202)\" style=\"stroke:#009af9; stroke-width:8; stroke-opacity:1; fill:none\" points=\"\n",
       "  263.233,1386.61 398.477,1299.92 533.721,1213.23 668.965,1126.54 804.21,1039.85 939.454,953.157 1074.7,866.467 1209.94,779.776 1345.19,693.086 1480.43,606.396 \n",
       "  1615.67,519.706 1750.92,433.016 1886.16,346.325 2021.41,259.635 2156.65,172.945 2291.9,86.2547 \n",
       "  \"/>\n",
       "<polyline clip-path=\"url(#clip6202)\" style=\"stroke:#e26f46; stroke-width:8; stroke-opacity:1; fill:none\" points=\"\n",
       "  263.233,1386.61 398.477,1308.17 533.721,1236.87 668.965,1171.77 804.21,1112.09 939.454,1057.19 1074.7,1006.5 1209.94,959.578 1345.19,916.004 1480.43,875.435 \n",
       "  1615.67,837.57 1750.92,802.148 1886.16,768.94 2021.41,737.745 2156.65,708.385 2291.9,680.702 \n",
       "  \"/>\n",
       "<polyline clip-path=\"url(#clip6202)\" style=\"stroke:#3da44d; stroke-width:8; stroke-opacity:1; fill:none\" points=\"\n",
       "  263.233,1386.61 398.477,1315.68 533.721,1256.57 668.965,1206.56 804.21,1163.69 939.454,1126.54 1074.7,1094.03 1209.94,1065.34 1345.19,1039.85 1480.43,1017.03 \n",
       "  1615.67,996.502 1750.92,977.926 1886.16,961.038 2021.41,945.619 2156.65,931.484 2291.9,918.481 \n",
       "  \"/>\n",
       "<polyline clip-path=\"url(#clip6202)\" style=\"stroke:#c271d2; stroke-width:8; stroke-opacity:1; fill:none\" points=\"\n",
       "  263.233,1386.61 398.477,1328.81 533.721,1287.53 668.965,1256.57 804.21,1232.49 939.454,1213.23 1074.7,1197.47 1209.94,1184.33 1345.19,1173.22 1480.43,1163.69 \n",
       "  1615.67,1155.43 1750.92,1148.21 1886.16,1141.84 2021.41,1136.17 2156.65,1131.1 2291.9,1126.54 \n",
       "  \"/>\n",
       "<polyline clip-path=\"url(#clip6202)\" style=\"stroke:#ac8d18; stroke-width:8; stroke-opacity:1; fill:none\" points=\"\n",
       "  263.233,1386.61 398.477,1349.46 533.721,1328.81 668.965,1315.68 804.21,1306.59 939.454,1299.92 1074.7,1294.82 1209.94,1290.79 1345.19,1287.53 1480.43,1284.84 \n",
       "  1615.67,1282.58 1750.92,1280.65 1886.16,1278.99 2021.41,1277.55 2156.65,1276.28 2291.9,1275.15 \n",
       "  \"/>\n",
       "<polyline clip-path=\"url(#clip6202)\" style=\"stroke:#00a9ad; stroke-width:8; stroke-opacity:1; fill:none\" points=\"\n",
       "  263.233,1386.61 398.477,1364.94 533.721,1355.08 668.965,1349.46 804.21,1345.81 939.454,1343.26 1074.7,1341.38 1209.94,1339.93 1345.19,1338.78 1480.43,1337.84 \n",
       "  1615.67,1337.07 1750.92,1336.42 1886.16,1335.86 2021.41,1335.38 2156.65,1334.96 2291.9,1334.59 \n",
       "  \"/>\n",
       "<polyline clip-path=\"url(#clip6202)\" style=\"stroke:#ed5d92; stroke-width:8; stroke-opacity:1; fill:none\" points=\"\n",
       "  263.233,1386.61 398.477,1376.98 533.721,1373.27 668.965,1371.31 804.21,1370.1 939.454,1369.27 1074.7,1368.67 1209.94,1368.22 1345.19,1367.86 1480.43,1367.58 \n",
       "  1615.67,1367.34 1750.92,1367.15 1886.16,1366.98 2021.41,1366.84 2156.65,1366.71 2291.9,1366.6 \n",
       "  \"/>\n",
       "<path clip-path=\"url(#clip6200)\" d=\"\n",
       "M274.373 614.604 L637.451 614.604 L637.451 130.764 L274.373 130.764  Z\n",
       "  \" fill=\"#ffffff\" fill-rule=\"evenodd\" fill-opacity=\"1\"/>\n",
       "<polyline clip-path=\"url(#clip6200)\" style=\"stroke:#000000; stroke-width:4; stroke-opacity:1; fill:none\" points=\"\n",
       "  274.373,614.604 637.451,614.604 637.451,130.764 274.373,130.764 274.373,614.604 \n",
       "  \"/>\n",
       "<polyline clip-path=\"url(#clip6200)\" style=\"stroke:#009af9; stroke-width:8; stroke-opacity:1; fill:none\" points=\"\n",
       "  298.373,191.244 442.373,191.244 \n",
       "  \"/>\n",
       "<g clip-path=\"url(#clip6200)\">\n",
       "<text style=\"fill:#000000; fill-opacity:1; font-family:Arial,Helvetica Neue,Helvetica,sans-serif; font-size:48px; text-anchor:start;\" transform=\"rotate(0, 466.373, 208.744)\" x=\"466.373\" y=\"208.744\">100%</text>\n",
       "</g>\n",
       "<polyline clip-path=\"url(#clip6200)\" style=\"stroke:#e26f46; stroke-width:8; stroke-opacity:1; fill:none\" points=\"\n",
       "  298.373,251.724 442.373,251.724 \n",
       "  \"/>\n",
       "<g clip-path=\"url(#clip6200)\">\n",
       "<text style=\"fill:#000000; fill-opacity:1; font-family:Arial,Helvetica Neue,Helvetica,sans-serif; font-size:48px; text-anchor:start;\" transform=\"rotate(0, 466.373, 269.224)\" x=\"466.373\" y=\"269.224\">95%</text>\n",
       "</g>\n",
       "<polyline clip-path=\"url(#clip6200)\" style=\"stroke:#3da44d; stroke-width:8; stroke-opacity:1; fill:none\" points=\"\n",
       "  298.373,312.204 442.373,312.204 \n",
       "  \"/>\n",
       "<g clip-path=\"url(#clip6200)\">\n",
       "<text style=\"fill:#000000; fill-opacity:1; font-family:Arial,Helvetica Neue,Helvetica,sans-serif; font-size:48px; text-anchor:start;\" transform=\"rotate(0, 466.373, 329.704)\" x=\"466.373\" y=\"329.704\">90%</text>\n",
       "</g>\n",
       "<polyline clip-path=\"url(#clip6200)\" style=\"stroke:#c271d2; stroke-width:8; stroke-opacity:1; fill:none\" points=\"\n",
       "  298.373,372.684 442.373,372.684 \n",
       "  \"/>\n",
       "<g clip-path=\"url(#clip6200)\">\n",
       "<text style=\"fill:#000000; fill-opacity:1; font-family:Arial,Helvetica Neue,Helvetica,sans-serif; font-size:48px; text-anchor:start;\" transform=\"rotate(0, 466.373, 390.184)\" x=\"466.373\" y=\"390.184\">80%</text>\n",
       "</g>\n",
       "<polyline clip-path=\"url(#clip6200)\" style=\"stroke:#ac8d18; stroke-width:8; stroke-opacity:1; fill:none\" points=\"\n",
       "  298.373,433.164 442.373,433.164 \n",
       "  \"/>\n",
       "<g clip-path=\"url(#clip6200)\">\n",
       "<text style=\"fill:#000000; fill-opacity:1; font-family:Arial,Helvetica Neue,Helvetica,sans-serif; font-size:48px; text-anchor:start;\" transform=\"rotate(0, 466.373, 450.664)\" x=\"466.373\" y=\"450.664\">60%</text>\n",
       "</g>\n",
       "<polyline clip-path=\"url(#clip6200)\" style=\"stroke:#00a9ad; stroke-width:8; stroke-opacity:1; fill:none\" points=\"\n",
       "  298.373,493.644 442.373,493.644 \n",
       "  \"/>\n",
       "<g clip-path=\"url(#clip6200)\">\n",
       "<text style=\"fill:#000000; fill-opacity:1; font-family:Arial,Helvetica Neue,Helvetica,sans-serif; font-size:48px; text-anchor:start;\" transform=\"rotate(0, 466.373, 511.144)\" x=\"466.373\" y=\"511.144\">40%</text>\n",
       "</g>\n",
       "<polyline clip-path=\"url(#clip6200)\" style=\"stroke:#ed5d92; stroke-width:8; stroke-opacity:1; fill:none\" points=\"\n",
       "  298.373,554.124 442.373,554.124 \n",
       "  \"/>\n",
       "<g clip-path=\"url(#clip6200)\">\n",
       "<text style=\"fill:#000000; fill-opacity:1; font-family:Arial,Helvetica Neue,Helvetica,sans-serif; font-size:48px; text-anchor:start;\" transform=\"rotate(0, 466.373, 571.624)\" x=\"466.373\" y=\"571.624\">20%</text>\n",
       "</g>\n",
       "</svg>\n"
      ]
     },
     "execution_count": 5,
     "metadata": {},
     "output_type": "execute_result"
    }
   ],
   "source": [
    "using Plots\n",
    "F(p,n) = 1/(1-p + p/n)\n",
    "\n",
    "pl = plot()\n",
    "for p in reverse(sort(vcat(0.2:0.2:1, [0.9, 0.95])))\n",
    "    plot!(pl, n -> F(p,n), 1:16, lab=\"$(Int(p*100))%\", lw=2,\n",
    "        legend=:topleft, xlab=\"number of cores\", ylab=\"parallel speedup\", frame=:box)\n",
    "end\n",
    "pl"
   ]
  },
  {
   "cell_type": "markdown",
   "metadata": {},
   "source": [
    "# Parallel Computing in Julia"
   ]
  },
  {
   "cell_type": "markdown",
   "metadata": {},
   "source": [
    "Julia documentation link: [Parallel computing](https://docs.julialang.org/en/v1/manual/parallel-computing/index.html)\n",
    "\n",
    "There are many types of parallelism, some of which are (from micro to macro)\n",
    "\n",
    "* **Instruction level parallelism**\n",
    "* **Multi-threading** (process shared memory)\n",
    "* **Tasks aka Coroutines** aka Green threads (more like cooperative multitasking, process shared memory)\n",
    "* **Multi-Core processing** (maybe system shared memory)\n",
    "* **Distributed processing** (same as above but involving multiple machines)\n",
    "\n",
    "Julia provides (more or less) native support for all of these forms of parallel processing (same order as above)\n",
    "\n",
    "* `@simd` and [SIMD.jl](https://github.com/eschnett/SIMD.jl)\n",
    "* `Base.Threads.@threads` (experimental since 2015 but seems to be fine)\n",
    "* `@async`, `@sync`, `Channel`\n",
    "* `@spawnat`, `@fetch`, `RemoteChannel`, `SharedArray`, etc.\n",
    "* `@spawnat`, `@fetch`, `RemoteChannel`, `DArray`, `MPI.jl` etc.\n",
    "\n",
    "With scientific computing in mind, we will mainly focus on how to distribute a process through multiple cores or machines (our thp cluster for example), that is **Multi-Core processing** and **Distributed processing**. But before we can do so, we have to learn how to control Julia's control flow through tasks."
   ]
  },
  {
   "cell_type": "markdown",
   "metadata": {},
   "source": [
    "# Tasks (Control flow)"
   ]
  },
  {
   "cell_type": "markdown",
   "metadata": {},
   "source": [
    "By default, Julia waits for every command to finish and run everything sequentially.\n",
    "\n",
    "Tasks are a control flow feature that allows computations to be **suspended** and resumed in a flexible manner. This feature is sometimes called by other names, such as coroutines, green or lightweight threads and cooperative multitasking.\n",
    "\n",
    "To me, the name **cooperative multitasking** is the most descriptive. Tasks are managed/scheduled by Julia and can sometimes be run in a quasi-parallel fashion.\n",
    "\n",
    "An important use case is **asynchronous I/O**, which is typically slow. Examples are\n",
    " * **multiple user input** (Why not already process some of the input?)\n",
    " * **data dumping to disk** (Maybe it's possible to continue a calculation?)\n",
    " * **receiving calculations from worker processes** (We'll need that below!)\n",
    "\n",
    "How do we execute commands asynchronously?"
   ]
  },
  {
   "cell_type": "markdown",
   "metadata": {},
   "source": [
    "## `@async` and `@sync`"
   ]
  },
  {
   "cell_type": "markdown",
   "metadata": {},
   "source": [
    "(Based on [this](https://stackoverflow.com/questions/37287020/how-and-when-to-use-async-and-sync-in-julia/37287021#37287021) stackoverflow answer.)"
   ]
  },
  {
   "cell_type": "code",
   "execution_count": 6,
   "metadata": {},
   "outputs": [
    {
     "data": {
      "text/latex": [
       "\\begin{verbatim}\n",
       "@async\n",
       "\\end{verbatim}\n",
       "Wrap an expression in a \\href{@ref}{\\texttt{Task}} and add it to the local machine's scheduler queue.\n",
       "\n"
      ],
      "text/markdown": [
       "```\n",
       "@async\n",
       "```\n",
       "\n",
       "Wrap an expression in a [`Task`](@ref) and add it to the local machine's scheduler queue.\n"
      ],
      "text/plain": [
       "\u001b[36m  @async\u001b[39m\n",
       "\n",
       "  Wrap an expression in a \u001b[36mTask\u001b[39m and add it to the local machine's scheduler\n",
       "  queue."
      ]
     },
     "execution_count": 6,
     "metadata": {},
     "output_type": "execute_result"
    }
   ],
   "source": [
    "?@async"
   ]
  },
  {
   "cell_type": "markdown",
   "metadata": {},
   "source": [
    "What this means is that for whatever falls within its scope, Julia will start a task to then proceed to whatever comes next in the script **without waiting for the task to complete**."
   ]
  },
  {
   "cell_type": "code",
   "execution_count": 7,
   "metadata": {},
   "outputs": [
    {
     "name": "stdout",
     "output_type": "stream",
     "text": [
      "  2.020197 seconds (25.79 k allocations: 1.295 MiB)\n"
     ]
    }
   ],
   "source": [
    "@time sleep(2);"
   ]
  },
  {
   "cell_type": "code",
   "execution_count": 8,
   "metadata": {},
   "outputs": [
    {
     "name": "stdout",
     "output_type": "stream",
     "text": [
      "  0.007414 seconds (6.80 k allocations: 388.916 KiB)\n"
     ]
    },
    {
     "data": {
      "text/plain": [
       "Task (runnable) @0x00000000112db990"
      ]
     },
     "execution_count": 8,
     "metadata": {},
     "output_type": "execute_result"
    }
   ],
   "source": [
    "@time @async sleep(2)"
   ]
  },
  {
   "cell_type": "markdown",
   "metadata": {},
   "source": [
    "Julia allows the script to proceed (and the `@time` macro to fully execute) without waiting for the task (in this case, sleeping for two seconds) to complete."
   ]
  },
  {
   "cell_type": "markdown",
   "metadata": {},
   "source": [
    "We can use the `@sync` macro to synchronize, that is wait for, all encapsulated tasks. (see `?@sync`). "
   ]
  },
  {
   "cell_type": "code",
   "execution_count": 9,
   "metadata": {},
   "outputs": [
    {
     "name": "stdout",
     "output_type": "stream",
     "text": [
      "  2.009661 seconds (1.68 k allocations: 80.797 KiB)\n"
     ]
    },
    {
     "data": {
      "text/plain": [
       "Task (done) @0x00000000112c5710"
      ]
     },
     "execution_count": 9,
     "metadata": {},
     "output_type": "execute_result"
    }
   ],
   "source": [
    "@time @sync @async sleep(2)"
   ]
  },
  {
   "cell_type": "markdown",
   "metadata": {},
   "source": [
    "Of course, here it doesn't make much sense to write `@sync @async` - we could simply drop it altogether.\n",
    "\n",
    "A better example is the following."
   ]
  },
  {
   "cell_type": "code",
   "execution_count": 10,
   "metadata": {},
   "outputs": [
    {
     "name": "stdout",
     "output_type": "stream",
     "text": [
      "  2.022920 seconds (8.73 k allocations: 421.745 KiB)\n"
     ]
    },
    {
     "data": {
      "text/plain": [
       "Task (done) @0x00000000112c5cd0"
      ]
     },
     "execution_count": 10,
     "metadata": {},
     "output_type": "execute_result"
    }
   ],
   "source": [
    "@time @sync begin\n",
    "    @async sleep(2.0)\n",
    "    @async sleep(2.0)\n",
    "end"
   ]
  },
  {
   "cell_type": "code",
   "execution_count": 12,
   "metadata": {},
   "outputs": [
    {
     "name": "stdout",
     "output_type": "stream",
     "text": [
      "Hello class!\n",
      "Today is reverse day!\n"
     ]
    }
   ],
   "source": [
    "@sync begin\n",
    "    @async (sleep(2); println(\"Today is reverse day!\"))\n",
    "    @async (sleep(1); println(\" class!\"))\n",
    "    @async print(\"Hello\")\n",
    "end;"
   ]
  },
  {
   "cell_type": "markdown",
   "metadata": {},
   "source": [
    "# Distributed processing: Multi-core"
   ]
  },
  {
   "cell_type": "markdown",
   "metadata": {},
   "source": [
    "Distributed computing in Julia means having **multiple separate Julia instances running on different cores** on the same or different machines.\n",
    "\n",
    "Data movement and communication between processes is explicit.\n",
    "\n",
    "Let's focus on the *multi-core* case (your laptop/desktop) and save some cluster fun for later."
   ]
  },
  {
   "cell_type": "markdown",
   "metadata": {},
   "source": [
    "## Master-worker model\n",
    "\n",
    "Julia uses a *master-worker* paradigm for its native distributed parallelism.\n",
    "\n",
    "One master process coordinates all the worker processes, which perform the actual computations.\n",
    "\n",
    "By default, Julia starts with one process on one core. If this single process is all we have, than it is both the master and the worker."
   ]
  },
  {
   "cell_type": "code",
   "execution_count": 13,
   "metadata": {},
   "outputs": [],
   "source": [
    "using Distributed # Loading all tools that we need for distributed computing"
   ]
  },
  {
   "cell_type": "code",
   "execution_count": 14,
   "metadata": {},
   "outputs": [
    {
     "data": {
      "text/plain": [
       "1"
      ]
     },
     "execution_count": 14,
     "metadata": {},
     "output_type": "execute_result"
    }
   ],
   "source": [
    "nprocs()"
   ]
  },
  {
   "cell_type": "code",
   "execution_count": 15,
   "metadata": {},
   "outputs": [
    {
     "data": {
      "text/plain": [
       "1"
      ]
     },
     "execution_count": 15,
     "metadata": {},
     "output_type": "execute_result"
    }
   ],
   "source": [
    "nworkers() # the master is considered a worker as long as there are no real workers"
   ]
  },
  {
   "cell_type": "markdown",
   "metadata": {},
   "source": [
    "To increase the number of workers, i.e. Julia processes, from within a Julia session we can use `addprocs`.\n",
    "\n",
    "Alternatively, when starting Julia from the command line, one can use the `-p` option. Example,\n",
    "\n",
    "```\n",
    "julia -p 4\n",
    "```\n",
    "\n",
    "will start Julia with 5 processes, 1 master and 4 workers."
   ]
  },
  {
   "cell_type": "code",
   "execution_count": 16,
   "metadata": {},
   "outputs": [
    {
     "data": {
      "text/plain": [
       "4-element Array{Int64,1}:\n",
       " 2\n",
       " 3\n",
       " 4\n",
       " 5"
      ]
     },
     "execution_count": 16,
     "metadata": {},
     "output_type": "execute_result"
    }
   ],
   "source": [
    "addprocs(4) # I have 4 cores, so let's add 4 worker processes."
   ]
  },
  {
   "cell_type": "markdown",
   "metadata": {},
   "source": [
    "Every process has a Julia internal `pid` (process id). The master is always 1. You can get the workers pids from `workers()`."
   ]
  },
  {
   "cell_type": "code",
   "execution_count": 17,
   "metadata": {},
   "outputs": [
    {
     "data": {
      "text/plain": [
       "4-element Array{Int64,1}:\n",
       " 2\n",
       " 3\n",
       " 4\n",
       " 5"
      ]
     },
     "execution_count": 17,
     "metadata": {},
     "output_type": "execute_result"
    }
   ],
   "source": [
    "workers()"
   ]
  },
  {
   "cell_type": "markdown",
   "metadata": {},
   "source": [
    "Note that the 4 worker's pids aren't necessarily 2, 3, 4 and 5. Let's remove the processes and add them once more."
   ]
  },
  {
   "cell_type": "code",
   "execution_count": 18,
   "metadata": {},
   "outputs": [
    {
     "data": {
      "text/plain": [
       "Task (done) @0x0000000012af2290"
      ]
     },
     "execution_count": 18,
     "metadata": {},
     "output_type": "execute_result"
    }
   ],
   "source": [
    "rmprocs(workers()) # rmprocs(array of pids of worker processes to remove)"
   ]
  },
  {
   "cell_type": "code",
   "execution_count": 19,
   "metadata": {},
   "outputs": [
    {
     "data": {
      "text/plain": [
       "1"
      ]
     },
     "execution_count": 19,
     "metadata": {},
     "output_type": "execute_result"
    }
   ],
   "source": [
    "nworkers() # only the master is left"
   ]
  },
  {
   "cell_type": "code",
   "execution_count": 20,
   "metadata": {},
   "outputs": [
    {
     "data": {
      "text/plain": [
       "4-element Array{Int64,1}:\n",
       " 6\n",
       " 7\n",
       " 8\n",
       " 9"
      ]
     },
     "execution_count": 20,
     "metadata": {},
     "output_type": "execute_result"
    }
   ],
   "source": [
    "addprocs(4)"
   ]
  },
  {
   "cell_type": "code",
   "execution_count": 21,
   "metadata": {},
   "outputs": [
    {
     "data": {
      "text/plain": [
       "4-element Array{Int64,1}:\n",
       " 6\n",
       " 7\n",
       " 8\n",
       " 9"
      ]
     },
     "execution_count": 21,
     "metadata": {},
     "output_type": "execute_result"
    }
   ],
   "source": [
    "workers()"
   ]
  },
  {
   "cell_type": "markdown",
   "metadata": {},
   "source": [
    "## One master to rule them all - `@spawn`, `@spawnat`, `@fetch`, `@fetchfrom`, `@everywhere`..."
   ]
  },
  {
   "cell_type": "markdown",
   "metadata": {},
   "source": [
    "To execute commands and start computations on workers we can use the following macros\n",
    "\n",
    "* `@spawn`: run a command or a code block on any worker and return a `Future` to it's result. It's basically a version of `@async` for remote processes.\n",
    "* `@spawnat`: same as `@spawn` but one can choose a specific worker by providing its pid."
   ]
  },
  {
   "cell_type": "markdown",
   "metadata": {},
   "source": [
    "**Example:** Let's say we would like to generate a random matrix on one of the workers."
   ]
  },
  {
   "cell_type": "code",
   "execution_count": 22,
   "metadata": {},
   "outputs": [
    {
     "data": {
      "text/plain": [
       "Future(6, 1, 10, nothing)"
      ]
     },
     "execution_count": 22,
     "metadata": {},
     "output_type": "execute_result"
    }
   ],
   "source": [
    "@spawn rand(2,2) # basically @async for remote process, i.e. returns immediately"
   ]
  },
  {
   "cell_type": "code",
   "execution_count": 23,
   "metadata": {},
   "outputs": [
    {
     "data": {
      "text/plain": [
       "Future(7, 1, 11, nothing)"
      ]
     },
     "execution_count": 23,
     "metadata": {},
     "output_type": "execute_result"
    }
   ],
   "source": [
    "result = @spawn rand(2,2)"
   ]
  },
  {
   "cell_type": "code",
   "execution_count": 24,
   "metadata": {},
   "outputs": [
    {
     "data": {
      "text/plain": [
       "2×2 Array{Float64,2}:\n",
       " 0.134838  0.382425\n",
       " 0.102722  0.480015"
      ]
     },
     "execution_count": 24,
     "metadata": {},
     "output_type": "execute_result"
    }
   ],
   "source": [
    "fetch(result) # blocks, like @sync"
   ]
  },
  {
   "cell_type": "markdown",
   "metadata": {},
   "source": [
    "Because the combination of spawning at fetching is so common, there is `@fetch` which combines them."
   ]
  },
  {
   "cell_type": "code",
   "execution_count": 25,
   "metadata": {},
   "outputs": [
    {
     "data": {
      "text/plain": [
       "2×2 Array{Float64,2}:\n",
       " 0.781662  0.935106\n",
       " 0.763531  0.170577"
      ]
     },
     "execution_count": 25,
     "metadata": {},
     "output_type": "execute_result"
    }
   ],
   "source": [
    "@fetch rand(2,2)"
   ]
  },
  {
   "cell_type": "markdown",
   "metadata": {},
   "source": [
    "Which worker did the work?"
   ]
  },
  {
   "cell_type": "code",
   "execution_count": 34,
   "metadata": {},
   "outputs": [
    {
     "name": "stdout",
     "output_type": "stream",
     "text": [
      "      From worker 9:\t9"
     ]
    },
    {
     "data": {
      "text/plain": [
       "2×2 Array{Float64,2}:\n",
       " 0.880711   0.223165\n",
       " 0.0665834  0.981305"
      ]
     },
     "execution_count": 34,
     "metadata": {},
     "output_type": "execute_result"
    },
    {
     "name": "stdout",
     "output_type": "stream",
     "text": [
      "\n"
     ]
    }
   ],
   "source": [
    "@fetch begin\n",
    "    println(myid());\n",
    "    rand(2,2)\n",
    "end"
   ]
  },
  {
   "cell_type": "markdown",
   "metadata": {},
   "source": [
    "Using `@spawnat` and `@fetchfrom` we can delegate the work to a specific worker."
   ]
  },
  {
   "cell_type": "code",
   "execution_count": 44,
   "metadata": {},
   "outputs": [
    {
     "name": "stdout",
     "output_type": "stream",
     "text": [
      "      From worker 7:\t7"
     ]
    },
    {
     "data": {
      "text/plain": [
       "2×2 Array{Float64,2}:\n",
       " 0.815795  0.904089\n",
       " 0.647394  0.167284"
      ]
     },
     "execution_count": 44,
     "metadata": {},
     "output_type": "execute_result"
    },
    {
     "name": "stdout",
     "output_type": "stream",
     "text": [
      "\n"
     ]
    }
   ],
   "source": [
    "@fetchfrom 7 begin\n",
    "    println(myid());\n",
    "    rand(2,2)\n",
    "end"
   ]
  },
  {
   "cell_type": "markdown",
   "metadata": {},
   "source": [
    "We can use `@sync` as a blocker to wait for all workers to complete their tasks."
   ]
  },
  {
   "cell_type": "code",
   "execution_count": 47,
   "metadata": {},
   "outputs": [
    {
     "name": "stdout",
     "output_type": "stream",
     "text": [
      "      From worker 7:\t class!\n",
      "      From worker 6:\tToday is reverse day!\n",
      "      From worker 8:\tHello\n",
      "Done!\n"
     ]
    }
   ],
   "source": [
    "@sync begin\n",
    "    pids = workers()\n",
    "    @sync begin @spawnat pids[1] (sleep(2); println(\"Today is reverse day!\"))\n",
    "                @spawnat pids[2] (sleep(1); println(\" class!\"))\n",
    "    end\n",
    "    @spawnat pids[3] println(\"Hello\")\n",
    "end;\n",
    "println(\"Done!\")"
   ]
  },
  {
   "cell_type": "markdown",
   "metadata": {},
   "source": [
    "Ok, now that we understood all that, let's delegate a *complicated* calculation"
   ]
  },
  {
   "cell_type": "code",
   "execution_count": null,
   "metadata": {},
   "outputs": [],
   "source": [
    "rand()"
   ]
  },
  {
   "cell_type": "code",
   "execution_count": 48,
   "metadata": {},
   "outputs": [
    {
     "ename": "RemoteException",
     "evalue": "On worker 6:\nUndefVarError: #complicated_calculation not defined\ndeserialize_datatype at D:\\buildbot\\worker\\package_win64\\build\\usr\\share\\julia\\stdlib\\v1.3\\Serialization\\src\\Serialization.jl:1193\nhandle_deserialize at D:\\buildbot\\worker\\package_win64\\build\\usr\\share\\julia\\stdlib\\v1.3\\Serialization\\src\\Serialization.jl:775\ndeserialize at D:\\buildbot\\worker\\package_win64\\build\\usr\\share\\julia\\stdlib\\v1.3\\Serialization\\src\\Serialization.jl:722\nhandle_deserialize at D:\\buildbot\\worker\\package_win64\\build\\usr\\share\\julia\\stdlib\\v1.3\\Serialization\\src\\Serialization.jl:782\ndeserialize at D:\\buildbot\\worker\\package_win64\\build\\usr\\share\\julia\\stdlib\\v1.3\\Serialization\\src\\Serialization.jl:722 [inlined]\ndeserialize_global_from_main at D:\\buildbot\\worker\\package_win64\\build\\usr\\share\\julia\\stdlib\\v1.3\\Distributed\\src\\clusterserialize.jl:160\n#3 at D:\\buildbot\\worker\\package_win64\\build\\usr\\share\\julia\\stdlib\\v1.3\\Distributed\\src\\clusterserialize.jl:72 [inlined]\nforeach at .\\abstractarray.jl:1920\ndeserialize at D:\\buildbot\\worker\\package_win64\\build\\usr\\share\\julia\\stdlib\\v1.3\\Distributed\\src\\clusterserialize.jl:72\nhandle_deserialize at D:\\buildbot\\worker\\package_win64\\build\\usr\\share\\julia\\stdlib\\v1.3\\Serialization\\src\\Serialization.jl:860\ndeserialize at D:\\buildbot\\worker\\package_win64\\build\\usr\\share\\julia\\stdlib\\v1.3\\Serialization\\src\\Serialization.jl:722\nhandle_deserialize at D:\\buildbot\\worker\\package_win64\\build\\usr\\share\\julia\\stdlib\\v1.3\\Serialization\\src\\Serialization.jl:779\ndeserialize at D:\\buildbot\\worker\\package_win64\\build\\usr\\share\\julia\\stdlib\\v1.3\\Serialization\\src\\Serialization.jl:722\nhandle_deserialize at D:\\buildbot\\worker\\package_win64\\build\\usr\\share\\julia\\stdlib\\v1.3\\Serialization\\src\\Serialization.jl:782\ndeserialize at D:\\buildbot\\worker\\package_win64\\build\\usr\\share\\julia\\stdlib\\v1.3\\Serialization\\src\\Serialization.jl:722 [inlined]\ndeserialize_msg at D:\\buildbot\\worker\\package_win64\\build\\usr\\share\\julia\\stdlib\\v1.3\\Distributed\\src\\messages.jl:99\n#invokelatest#1 at .\\essentials.jl:709 [inlined]\ninvokelatest at .\\essentials.jl:708 [inlined]\nmessage_handler_loop at D:\\buildbot\\worker\\package_win64\\build\\usr\\share\\julia\\stdlib\\v1.3\\Distributed\\src\\process_messages.jl:185\nprocess_tcp_streams at D:\\buildbot\\worker\\package_win64\\build\\usr\\share\\julia\\stdlib\\v1.3\\Distributed\\src\\process_messages.jl:142\n#101 at .\\task.jl:333",
     "output_type": "error",
     "traceback": [
      "On worker 6:\nUndefVarError: #complicated_calculation not defined\ndeserialize_datatype at D:\\buildbot\\worker\\package_win64\\build\\usr\\share\\julia\\stdlib\\v1.3\\Serialization\\src\\Serialization.jl:1193\nhandle_deserialize at D:\\buildbot\\worker\\package_win64\\build\\usr\\share\\julia\\stdlib\\v1.3\\Serialization\\src\\Serialization.jl:775\ndeserialize at D:\\buildbot\\worker\\package_win64\\build\\usr\\share\\julia\\stdlib\\v1.3\\Serialization\\src\\Serialization.jl:722\nhandle_deserialize at D:\\buildbot\\worker\\package_win64\\build\\usr\\share\\julia\\stdlib\\v1.3\\Serialization\\src\\Serialization.jl:782\ndeserialize at D:\\buildbot\\worker\\package_win64\\build\\usr\\share\\julia\\stdlib\\v1.3\\Serialization\\src\\Serialization.jl:722 [inlined]\ndeserialize_global_from_main at D:\\buildbot\\worker\\package_win64\\build\\usr\\share\\julia\\stdlib\\v1.3\\Distributed\\src\\clusterserialize.jl:160\n#3 at D:\\buildbot\\worker\\package_win64\\build\\usr\\share\\julia\\stdlib\\v1.3\\Distributed\\src\\clusterserialize.jl:72 [inlined]\nforeach at .\\abstractarray.jl:1920\ndeserialize at D:\\buildbot\\worker\\package_win64\\build\\usr\\share\\julia\\stdlib\\v1.3\\Distributed\\src\\clusterserialize.jl:72\nhandle_deserialize at D:\\buildbot\\worker\\package_win64\\build\\usr\\share\\julia\\stdlib\\v1.3\\Serialization\\src\\Serialization.jl:860\ndeserialize at D:\\buildbot\\worker\\package_win64\\build\\usr\\share\\julia\\stdlib\\v1.3\\Serialization\\src\\Serialization.jl:722\nhandle_deserialize at D:\\buildbot\\worker\\package_win64\\build\\usr\\share\\julia\\stdlib\\v1.3\\Serialization\\src\\Serialization.jl:779\ndeserialize at D:\\buildbot\\worker\\package_win64\\build\\usr\\share\\julia\\stdlib\\v1.3\\Serialization\\src\\Serialization.jl:722\nhandle_deserialize at D:\\buildbot\\worker\\package_win64\\build\\usr\\share\\julia\\stdlib\\v1.3\\Serialization\\src\\Serialization.jl:782\ndeserialize at D:\\buildbot\\worker\\package_win64\\build\\usr\\share\\julia\\stdlib\\v1.3\\Serialization\\src\\Serialization.jl:722 [inlined]\ndeserialize_msg at D:\\buildbot\\worker\\package_win64\\build\\usr\\share\\julia\\stdlib\\v1.3\\Distributed\\src\\messages.jl:99\n#invokelatest#1 at .\\essentials.jl:709 [inlined]\ninvokelatest at .\\essentials.jl:708 [inlined]\nmessage_handler_loop at D:\\buildbot\\worker\\package_win64\\build\\usr\\share\\julia\\stdlib\\v1.3\\Distributed\\src\\process_messages.jl:185\nprocess_tcp_streams at D:\\buildbot\\worker\\package_win64\\build\\usr\\share\\julia\\stdlib\\v1.3\\Distributed\\src\\process_messages.jl:142\n#101 at .\\task.jl:333",
      "",
      "Stacktrace:",
      " [1] #remotecall_fetch#145 at D:\\buildbot\\worker\\package_win64\\build\\usr\\share\\julia\\stdlib\\v1.3\\Distributed\\src\\remotecall.jl:390 [inlined]",
      " [2] remotecall_fetch(::Function, ::Distributed.Worker) at D:\\buildbot\\worker\\package_win64\\build\\usr\\share\\julia\\stdlib\\v1.3\\Distributed\\src\\remotecall.jl:382",
      " [3] #remotecall_fetch#148(::Base.Iterators.Pairs{Union{},Union{},Tuple{},NamedTuple{(),Tuple{}}}, ::typeof(remotecall_fetch), ::Function, ::Int64) at D:\\buildbot\\worker\\package_win64\\build\\usr\\share\\julia\\stdlib\\v1.3\\Distributed\\src\\remotecall.jl:417",
      " [4] remotecall_fetch(::Function, ::Int64) at D:\\buildbot\\worker\\package_win64\\build\\usr\\share\\julia\\stdlib\\v1.3\\Distributed\\src\\remotecall.jl:417",
      " [5] top-level scope at In[48]:7"
     ]
    }
   ],
   "source": [
    "using Random\n",
    "\n",
    "function complicated_calculation()\n",
    "    sleep(1) # so complex that it takes a long time :)\n",
    "    randexp(5)\n",
    "end\n",
    "\n",
    "@fetch complicated_calculation()"
   ]
  },
  {
   "cell_type": "markdown",
   "metadata": {},
   "source": [
    "What happened?"
   ]
  },
  {
   "cell_type": "markdown",
   "metadata": {},
   "source": [
    "**Think of every worker as a separate Julia instance.**\n",
    "\n",
    "We only defined `complicated_calculation()` on the master process. The function doesn't exist on any of the workers yet.\n",
    "\n",
    "The macro `@everywhere` comes for the rescue."
   ]
  },
  {
   "cell_type": "code",
   "execution_count": 49,
   "metadata": {},
   "outputs": [],
   "source": [
    "@everywhere begin # execute this block on all workers\n",
    "    using Random\n",
    "    \n",
    "    function complicated_calculation()\n",
    "        sleep(1)\n",
    "        randexp(5) # lives in Random\n",
    "    end\n",
    "end"
   ]
  },
  {
   "cell_type": "code",
   "execution_count": 50,
   "metadata": {},
   "outputs": [
    {
     "data": {
      "text/plain": [
       "5-element Array{Float64,1}:\n",
       " 0.8096130411715347 \n",
       " 0.15955508377070185\n",
       " 1.5401693887352985 \n",
       " 0.13260574294760094\n",
       " 1.0733199492017849 "
      ]
     },
     "execution_count": 50,
     "metadata": {},
     "output_type": "execute_result"
    }
   ],
   "source": [
    "@fetch complicated_calculation()"
   ]
  },
  {
   "cell_type": "markdown",
   "metadata": {},
   "source": [
    "## Data movement"
   ]
  },
  {
   "cell_type": "markdown",
   "metadata": {},
   "source": [
    "There is a crucial difference between the following two pieces of code. Can you guess what it is?"
   ]
  },
  {
   "cell_type": "code",
   "execution_count": 52,
   "metadata": {},
   "outputs": [
    {
     "data": {
      "text/plain": [
       "method1 (generic function with 1 method)"
      ]
     },
     "execution_count": 52,
     "metadata": {},
     "output_type": "execute_result"
    }
   ],
   "source": [
    "function method1()\n",
    "    A = rand(100,100)\n",
    "    B = rand(100,100)\n",
    "    C = @fetch A^2 * B^2\n",
    "    return C\n",
    "end"
   ]
  },
  {
   "cell_type": "code",
   "execution_count": 53,
   "metadata": {},
   "outputs": [
    {
     "data": {
      "text/plain": [
       "method2 (generic function with 1 method)"
      ]
     },
     "execution_count": 53,
     "metadata": {},
     "output_type": "execute_result"
    }
   ],
   "source": [
    "function method2()\n",
    "    C = @fetch rand(100,100)^2 * rand(100,100)^2\n",
    "    return C\n",
    "end"
   ]
  },
  {
   "cell_type": "markdown",
   "metadata": {},
   "source": [
    "Let's benchmark them."
   ]
  },
  {
   "cell_type": "code",
   "execution_count": 54,
   "metadata": {},
   "outputs": [
    {
     "name": "stdout",
     "output_type": "stream",
     "text": [
      "  423.000 μs (124 allocations: 238.77 KiB)\n",
      "  349.800 μs (98 allocations: 81.84 KiB)\n"
     ]
    }
   ],
   "source": [
    "using BenchmarkTools\n",
    "@btime method1();\n",
    "@btime method2();"
   ]
  },
  {
   "cell_type": "markdown",
   "metadata": {},
   "source": [
    "Method 1 is slower, because `A` and `B` are created on the master process, transferred to a worker, and squared and multiplied on the worker process before the result is finally transferred back to the master.\n",
    "\n",
    "Method 2, on the other hand, creates, squares, and multiplies the random matrix all on the work process and only submits the result to the master.\n",
    "\n",
    "Hence, `method1` is **transferring 3x as much data** between the master and the worker!"
   ]
  },
  {
   "cell_type": "markdown",
   "metadata": {},
   "source": [
    "**Data movement is crucial!**"
   ]
  },
  {
   "cell_type": "markdown",
   "metadata": {},
   "source": [
    "In this toy example, it's rather easy to identify the faster method.\n",
    "\n",
    "In a real program, however, understanding data movement does require more thought and likely some measurement.\n",
    "\n",
    "For example, if the first process needs matrix `A` in a follow-up computation then the first method might be better in this case. Or, if computing `A` is expensive and only the current process has it, then moving it to another process might be unavoidable."
   ]
  },
  {
   "cell_type": "markdown",
   "metadata": {},
   "source": [
    "#### Computer latency at a human scale\n",
    "\n",
    "To understand why thinking about data is important it's instructive to look at the time scales involved in data access.\n",
    "\n",
    "<img src=\"latency_human_scales.png\" width=900px>\n",
    "\n",
    "(taken from https://www.prowesscorp.com/computer-latency-at-a-human-scale/)"
   ]
  },
  {
   "cell_type": "markdown",
   "metadata": {},
   "source": [
    "### Avoid globals (once more)"
   ]
  },
  {
   "cell_type": "code",
   "execution_count": 56,
   "metadata": {},
   "outputs": [
    {
     "data": {
      "text/plain": [
       "4"
      ]
     },
     "execution_count": 56,
     "metadata": {},
     "output_type": "execute_result"
    }
   ],
   "source": [
    "myglobal = 4"
   ]
  },
  {
   "cell_type": "code",
   "execution_count": 55,
   "metadata": {},
   "outputs": [
    {
     "data": {
      "text/plain": [
       "whohas (generic function with 1 method)"
      ]
     },
     "execution_count": 55,
     "metadata": {},
     "output_type": "execute_result"
    }
   ],
   "source": [
    "function whohas(s::String)\n",
    "    @everywhere begin\n",
    "        var = Symbol($s)\n",
    "        if isdefined(Main, var)\n",
    "            println(\"$var exists.\")\n",
    "        else\n",
    "            println(\"Doesn't exist.\")\n",
    "        end\n",
    "    end\n",
    "    nothing\n",
    "end"
   ]
  },
  {
   "cell_type": "code",
   "execution_count": 57,
   "metadata": {},
   "outputs": [
    {
     "name": "stdout",
     "output_type": "stream",
     "text": [
      "myglobal exists.\n",
      "      From worker 6:\tDoesn't exist.\n",
      "      From worker 7:\tDoesn't exist.\n",
      "      From worker 8:\tDoesn't exist.\n",
      "      From worker 9:\tDoesn't exist.\n"
     ]
    }
   ],
   "source": [
    "whohas(\"myglobal\")"
   ]
  },
  {
   "cell_type": "code",
   "execution_count": 58,
   "metadata": {},
   "outputs": [
    {
     "data": {
      "text/plain": [
       "6"
      ]
     },
     "execution_count": 58,
     "metadata": {},
     "output_type": "execute_result"
    }
   ],
   "source": [
    "@fetchfrom 6 myglobal+2"
   ]
  },
  {
   "cell_type": "code",
   "execution_count": 59,
   "metadata": {},
   "outputs": [
    {
     "name": "stdout",
     "output_type": "stream",
     "text": [
      "myglobal exists.\n",
      "      From worker 7:\tDoesn't exist.\n",
      "      From worker 8:\tDoesn't exist.\n",
      "      From worker 9:\tDoesn't exist.\n",
      "      From worker 6:\tmyglobal exists.\n"
     ]
    }
   ],
   "source": [
    "whohas(\"myglobal\")"
   ]
  },
  {
   "cell_type": "markdown",
   "metadata": {},
   "source": [
    "Globals get copied to workers and continue to exist as globals even after the call.\n",
    "\n",
    "This could lead to memory accumulation if many globals are used (just as it would in a single Julia session).\n",
    "\n",
    "It's better to avoid them."
   ]
  },
  {
   "cell_type": "markdown",
   "metadata": {},
   "source": [
    "## Explicit data movement: `Channel` and `RemoteChannel`"
   ]
  },
  {
   "cell_type": "markdown",
   "metadata": {},
   "source": [
    "Channels in Julia are constructs to explicitly exchange data between workers.\n",
    "\n",
    "They implement `put!`, `take!`, `fetch`, `isready` and `wait` methods."
   ]
  },
  {
   "cell_type": "code",
   "execution_count": null,
   "metadata": {},
   "outputs": [],
   "source": [
    "# ?Channel"
   ]
  },
  {
   "cell_type": "code",
   "execution_count": 60,
   "metadata": {},
   "outputs": [
    {
     "data": {
      "text/plain": [
       "Channel{Int64}(sz_max:5,sz_curr:0)"
      ]
     },
     "execution_count": 60,
     "metadata": {},
     "output_type": "execute_result"
    }
   ],
   "source": [
    "ch = Channel{Int}(5) # a channel that can hold up to 5 integers"
   ]
  },
  {
   "cell_type": "code",
   "execution_count": 61,
   "metadata": {},
   "outputs": [
    {
     "data": {
      "text/plain": [
       "false"
      ]
     },
     "execution_count": 61,
     "metadata": {},
     "output_type": "execute_result"
    }
   ],
   "source": [
    "isready(ch) # something in the channel?"
   ]
  },
  {
   "cell_type": "code",
   "execution_count": 62,
   "metadata": {},
   "outputs": [
    {
     "data": {
      "text/plain": [
       "3"
      ]
     },
     "execution_count": 62,
     "metadata": {},
     "output_type": "execute_result"
    }
   ],
   "source": [
    "put!(ch, 3)"
   ]
  },
  {
   "cell_type": "code",
   "execution_count": 63,
   "metadata": {},
   "outputs": [
    {
     "data": {
      "text/plain": [
       "true"
      ]
     },
     "execution_count": 63,
     "metadata": {},
     "output_type": "execute_result"
    }
   ],
   "source": [
    "isready(ch)"
   ]
  },
  {
   "cell_type": "code",
   "execution_count": 64,
   "metadata": {},
   "outputs": [
    {
     "data": {
      "text/plain": [
       "3"
      ]
     },
     "execution_count": 64,
     "metadata": {},
     "output_type": "execute_result"
    }
   ],
   "source": [
    "take!(ch)"
   ]
  },
  {
   "cell_type": "code",
   "execution_count": 65,
   "metadata": {},
   "outputs": [
    {
     "data": {
      "text/plain": [
       "false"
      ]
     },
     "execution_count": 65,
     "metadata": {},
     "output_type": "execute_result"
    }
   ],
   "source": [
    "isready(ch)"
   ]
  },
  {
   "cell_type": "code",
   "execution_count": 71,
   "metadata": {},
   "outputs": [
    {
     "data": {
      "text/plain": [
       "4"
      ]
     },
     "execution_count": 71,
     "metadata": {},
     "output_type": "execute_result"
    }
   ],
   "source": [
    "put!(ch, 4)"
   ]
  },
  {
   "cell_type": "code",
   "execution_count": 72,
   "metadata": {},
   "outputs": [
    {
     "data": {
      "text/plain": [
       "1"
      ]
     },
     "execution_count": 72,
     "metadata": {},
     "output_type": "execute_result"
    }
   ],
   "source": [
    "put!(ch, 1)"
   ]
  },
  {
   "cell_type": "code",
   "execution_count": 67,
   "metadata": {},
   "outputs": [
    {
     "data": {
      "text/plain": [
       "4"
      ]
     },
     "execution_count": 67,
     "metadata": {},
     "output_type": "execute_result"
    }
   ],
   "source": [
    "fetch(ch) # basically take without a bang"
   ]
  },
  {
   "cell_type": "code",
   "execution_count": 68,
   "metadata": {},
   "outputs": [
    {
     "data": {
      "text/plain": [
       "4"
      ]
     },
     "execution_count": 68,
     "metadata": {},
     "output_type": "execute_result"
    }
   ],
   "source": [
    "take!(ch)"
   ]
  },
  {
   "cell_type": "markdown",
   "metadata": {},
   "source": [
    "Be careful, `take!` and `put!` are blocking if the channel is empty or full!"
   ]
  },
  {
   "cell_type": "code",
   "execution_count": 70,
   "metadata": {},
   "outputs": [
    {
     "data": {
      "text/plain": [
       "false"
      ]
     },
     "execution_count": 70,
     "metadata": {},
     "output_type": "execute_result"
    }
   ],
   "source": [
    "isready(ch)"
   ]
  },
  {
   "cell_type": "code",
   "execution_count": null,
   "metadata": {},
   "outputs": [],
   "source": [
    "# take!(ch) if we execute this, while isready(ch) == false, the current Julia session will hang."
   ]
  },
  {
   "cell_type": "markdown",
   "metadata": {},
   "source": [
    "## Channels for inter-process data movement: `RemoteChannel`"
   ]
  },
  {
   "cell_type": "markdown",
   "metadata": {},
   "source": [
    "* A `Channel` is local to a process. Worker 2 cannot directly refer to a `Channel` on worker 3 and vice-versa.\n",
    "\n",
    "\n",
    "* A `RemoteChannel`, however, can put and take values across workers. A `RemoteChannel` can be thought of as a handle to a `Channel`.\n",
    "\n",
    "\n",
    "* Any process with a reference to a `RemoteChannel` can put and take items from the channel. Data is automatically sent to (or retrieved from) the process a `RemoteChannel` is associated with.\n",
    "\n",
    "\n",
    "* The process id, pid, associated with a `RemoteChannel` identifies the process where the backing store, i.e., the backing Channel exists."
   ]
  },
  {
   "cell_type": "code",
   "execution_count": 74,
   "metadata": {},
   "outputs": [
    {
     "data": {
      "text/plain": [
       "4"
      ]
     },
     "execution_count": 74,
     "metadata": {},
     "output_type": "execute_result"
    }
   ],
   "source": [
    "nworkers()"
   ]
  },
  {
   "cell_type": "code",
   "execution_count": 75,
   "metadata": {},
   "outputs": [
    {
     "data": {
      "text/plain": [
       "4-element Array{Int64,1}:\n",
       " 10\n",
       " 11\n",
       " 12\n",
       " 13"
      ]
     },
     "execution_count": 75,
     "metadata": {},
     "output_type": "execute_result"
    }
   ],
   "source": [
    "addprocs(4)"
   ]
  },
  {
   "cell_type": "code",
   "execution_count": 76,
   "metadata": {},
   "outputs": [
    {
     "name": "stdout",
     "output_type": "stream",
     "text": [
      "search: \u001b[0m\u001b[1mR\u001b[22m\u001b[0m\u001b[1me\u001b[22m\u001b[0m\u001b[1mm\u001b[22m\u001b[0m\u001b[1mo\u001b[22m\u001b[0m\u001b[1mt\u001b[22m\u001b[0m\u001b[1me\u001b[22m\u001b[0m\u001b[1mC\u001b[22m\u001b[0m\u001b[1mh\u001b[22m\u001b[0m\u001b[1ma\u001b[22m\u001b[0m\u001b[1mn\u001b[22m\u001b[0m\u001b[1mn\u001b[22m\u001b[0m\u001b[1me\u001b[22m\u001b[0m\u001b[1ml\u001b[22m\n",
      "\n"
     ]
    },
    {
     "data": {
      "text/latex": [
       "\\begin{verbatim}\n",
       "RemoteChannel(pid::Integer=myid())\n",
       "\\end{verbatim}\n",
       "Make a reference to a \\texttt{Channel\\{Any\\}(1)} on process \\texttt{pid}. The default \\texttt{pid} is the current process.\n",
       "\n",
       "\\begin{verbatim}\n",
       "RemoteChannel(f::Function, pid::Integer=myid())\n",
       "\\end{verbatim}\n",
       "Create references to remote channels of a specific size and type. \\texttt{f} is a function that when executed on \\texttt{pid} must return an implementation of an \\texttt{AbstractChannel}.\n",
       "\n",
       "For example, \\texttt{RemoteChannel(()->Channel\\{Int\\}(10), pid)}, will return a reference to a channel of type \\texttt{Int} and size 10 on \\texttt{pid}.\n",
       "\n",
       "The default \\texttt{pid} is the current process.\n",
       "\n"
      ],
      "text/markdown": [
       "```\n",
       "RemoteChannel(pid::Integer=myid())\n",
       "```\n",
       "\n",
       "Make a reference to a `Channel{Any}(1)` on process `pid`. The default `pid` is the current process.\n",
       "\n",
       "```\n",
       "RemoteChannel(f::Function, pid::Integer=myid())\n",
       "```\n",
       "\n",
       "Create references to remote channels of a specific size and type. `f` is a function that when executed on `pid` must return an implementation of an `AbstractChannel`.\n",
       "\n",
       "For example, `RemoteChannel(()->Channel{Int}(10), pid)`, will return a reference to a channel of type `Int` and size 10 on `pid`.\n",
       "\n",
       "The default `pid` is the current process.\n"
      ],
      "text/plain": [
       "\u001b[36m  RemoteChannel(pid::Integer=myid())\u001b[39m\n",
       "\n",
       "  Make a reference to a \u001b[36mChannel{Any}(1)\u001b[39m on process \u001b[36mpid\u001b[39m. The default \u001b[36mpid\u001b[39m is the\n",
       "  current process.\n",
       "\n",
       "\u001b[36m  RemoteChannel(f::Function, pid::Integer=myid())\u001b[39m\n",
       "\n",
       "  Create references to remote channels of a specific size and type. \u001b[36mf\u001b[39m is a\n",
       "  function that when executed on \u001b[36mpid\u001b[39m must return an implementation of an\n",
       "  \u001b[36mAbstractChannel\u001b[39m.\n",
       "\n",
       "  For example, \u001b[36mRemoteChannel(()->Channel{Int}(10), pid)\u001b[39m, will return a\n",
       "  reference to a channel of type \u001b[36mInt\u001b[39m and size 10 on \u001b[36mpid\u001b[39m.\n",
       "\n",
       "  The default \u001b[36mpid\u001b[39m is the current process."
      ]
     },
     "execution_count": 76,
     "metadata": {},
     "output_type": "execute_result"
    }
   ],
   "source": [
    "?RemoteChannel"
   ]
  },
  {
   "cell_type": "code",
   "execution_count": null,
   "metadata": {},
   "outputs": [],
   "source": [
    "function myfunc(x)\n",
    "    y = x + 3\n",
    "    return y+2\n",
    "end\n",
    "\n",
    "myfunc(x) = begin\n",
    "    y = x + 3\n",
    "    return y+2 \n",
    "end\n",
    "\n",
    "(x) -> begin\n",
    "    y = x + 3\n",
    "    return y+2 \n",
    "end"
   ]
  },
  {
   "cell_type": "code",
   "execution_count": 77,
   "metadata": {},
   "outputs": [
    {
     "data": {
      "text/plain": [
       "RemoteChannel{Channel{Int64}}(7, 1, 30971)"
      ]
     },
     "execution_count": 77,
     "metadata": {},
     "output_type": "execute_result"
    }
   ],
   "source": [
    "# creates a channel on the second worker process\n",
    "# create a RemoteChannel handle to this channel on the master process\n",
    "const mychannel = RemoteChannel(()->Channel{Int}(10), workers()[2])"
   ]
  },
  {
   "cell_type": "code",
   "execution_count": 78,
   "metadata": {},
   "outputs": [
    {
     "name": "stdout",
     "output_type": "stream",
     "text": [
      "mychannel exists.\n",
      "      From worker 7:\tDoesn't exist.\n",
      "      From worker 6:\tDoesn't exist.\n",
      "      From worker 8:\tDoesn't exist.\n",
      "      From worker 9:\tDoesn't exist.\n",
      "      From worker 11:\tDoesn't exist.\n",
      "      From worker 12:\tDoesn't exist.\n",
      "      From worker 13:\tDoesn't exist.\n",
      "      From worker 10:\tDoesn't exist.\n"
     ]
    }
   ],
   "source": [
    "whohas(\"mychannel\")"
   ]
  },
  {
   "cell_type": "code",
   "execution_count": 80,
   "metadata": {},
   "outputs": [],
   "source": [
    "# One could create a global constant mychannel everywhere\n",
    "@everywhere const mychannel = $mychannel"
   ]
  },
  {
   "cell_type": "code",
   "execution_count": 82,
   "metadata": {},
   "outputs": [
    {
     "name": "stdout",
     "output_type": "stream",
     "text": [
      "mychannel exists.\n",
      "      From worker 6:\tmychannel exists.\n",
      "      From worker 8:\tmychannel exists.\n",
      "      From worker 9:\tmychannel exists.\n",
      "      From worker 10:\tmychannel exists.\n",
      "      From worker 11:\tmychannel exists.\n",
      "      From worker 12:\tmychannel exists.\n",
      "      From worker 13:\tmychannel exists.\n",
      "      From worker 7:\tmychannel exists.\n"
     ]
    }
   ],
   "source": [
    "whohas(\"mychannel\")"
   ]
  },
  {
   "cell_type": "markdown",
   "metadata": {},
   "source": [
    "However, as we said many times before, one should generally try to avoid globals. The following is preferable."
   ]
  },
  {
   "cell_type": "code",
   "execution_count": 83,
   "metadata": {},
   "outputs": [
    {
     "data": {
      "text/plain": [
       "RemoteChannel{Channel{Int64}}(1, 1, 31053)"
      ]
     },
     "execution_count": 83,
     "metadata": {},
     "output_type": "execute_result"
    }
   ],
   "source": [
    "function do_something()\n",
    "    rc = RemoteChannel(()->Channel{Int}(10)) # lives on the master\n",
    "    @sync for p in workers()\n",
    "        @spawnat p put!(rc, myid())\n",
    "    end\n",
    "    rc\n",
    "end\n",
    "\n",
    "r = do_something()"
   ]
  },
  {
   "cell_type": "code",
   "execution_count": 84,
   "metadata": {},
   "outputs": [
    {
     "data": {
      "text/plain": [
       "true"
      ]
     },
     "execution_count": 84,
     "metadata": {},
     "output_type": "execute_result"
    }
   ],
   "source": [
    "isready(r)"
   ]
  },
  {
   "cell_type": "code",
   "execution_count": 85,
   "metadata": {},
   "outputs": [
    {
     "name": "stdout",
     "output_type": "stream",
     "text": [
      "take!(r) = 6\n",
      "take!(r) = 7\n",
      "take!(r) = 8\n",
      "take!(r) = 9\n",
      "take!(r) = 12\n",
      "take!(r) = 10\n",
      "take!(r) = 11\n",
      "take!(r) = 13\n"
     ]
    }
   ],
   "source": [
    "while isready(r)\n",
    "    @show take!(r)\n",
    "end"
   ]
  },
  {
   "cell_type": "markdown",
   "metadata": {},
   "source": [
    "The ecosystem also contains a couple of tools, that make data transfer even simpler. See for example [ParallelDataTransfer.jl](https://github.com/ChrisRackauckas/ParallelDataTransfer.jl/)."
   ]
  },
  {
   "cell_type": "markdown",
   "metadata": {},
   "source": [
    "# Parallelizing the easy way - `@distributed` and `pmap`"
   ]
  },
  {
   "cell_type": "markdown",
   "metadata": {},
   "source": [
    "So far we have seen the build block of commands for distributed computing in Julia. Having scientific computing in mind, one might not always want to think about how to distribute the work and explicitly spawn tasks.\n",
    "\n",
    "Also, fortunately, many useful parallel computations do not require (much) data movement. A common example is a direct Monte Carlo simulation, where multiple processes can handle independent simulation trials simultaneously. (We'll get to that later!)\n",
    "\n",
    "Julia provides convenience macros to\n",
    " * Parallelize loops (`@distributed`)\n",
    " * Apply a function to all elements in some collection (`pmap`)\n",
    " \n",
    "Let's explore these!"
   ]
  },
  {
   "cell_type": "code",
   "execution_count": 86,
   "metadata": {},
   "outputs": [
    {
     "data": {
      "text/plain": [
       "10-element Array{Float64,1}:\n",
       " 0.7362116878553184   \n",
       " 0.7827886423553151   \n",
       " 0.011867050232496942 \n",
       " 1.8652942201141774e-5\n",
       " 0.3270718927776952   \n",
       " 0.10148346718514631  \n",
       " 0.4014051922064305   \n",
       " 0.11479727330987688  \n",
       " 0.647969479967505    \n",
       " 0.4028283339888939   "
      ]
     },
     "execution_count": 86,
     "metadata": {},
     "output_type": "execute_result"
    }
   ],
   "source": [
    "map(x->x^2, rand(10))"
   ]
  },
  {
   "cell_type": "code",
   "execution_count": 87,
   "metadata": {},
   "outputs": [
    {
     "data": {
      "text/plain": [
       "10-element Array{Float64,1}:\n",
       " 0.11931439668481494\n",
       " 0.446790478057621  \n",
       " 0.32066555363971144\n",
       " 0.16297798232716182\n",
       " 0.09234588903896408\n",
       " 0.9520573074975499 \n",
       " 0.7424890938584082 \n",
       " 0.7396139155241598 \n",
       " 0.04374155660748298\n",
       " 0.7581994432843882 "
      ]
     },
     "execution_count": 87,
     "metadata": {},
     "output_type": "execute_result"
    }
   ],
   "source": [
    "(x->x^2).(rand(10))"
   ]
  },
  {
   "cell_type": "markdown",
   "metadata": {},
   "source": [
    "## Distributed loops (`@distributed`)"
   ]
  },
  {
   "cell_type": "code",
   "execution_count": 88,
   "metadata": {},
   "outputs": [
    {
     "data": {
      "text/plain": [
       "4"
      ]
     },
     "execution_count": 88,
     "metadata": {},
     "output_type": "execute_result"
    }
   ],
   "source": [
    "using Distributed, BenchmarkTools; rmprocs(workers()); addprocs(4); nworkers()"
   ]
  },
  {
   "cell_type": "code",
   "execution_count": 89,
   "metadata": {},
   "outputs": [
    {
     "name": "stdout",
     "output_type": "stream",
     "text": [
      "  1.696 s (0 allocations: 0 bytes)\n"
     ]
    }
   ],
   "source": [
    "# serial version - count heads in a series of coin tosses\n",
    "function add_serial(n)\n",
    "    c = 0\n",
    "    for i = 1:n\n",
    "        c += rand(Bool)\n",
    "    end\n",
    "    c\n",
    "end\n",
    "\n",
    "@btime add_serial(200_000_000);"
   ]
  },
  {
   "cell_type": "markdown",
   "metadata": {},
   "source": [
    "This is trivially parallelizable since the loop iterations are independent of each other. We can distribute coin tosses over a couple of workers.\n",
    "\n",
    "Afterwards we combine the results, that is we sum them up. The combination process is generally called a *reduction*, and in this case `sum` is the *reducer function*.\n",
    "\n",
    "To distribute the for loop over worker processes Julia provides the `@distributed` macro:"
   ]
  },
  {
   "cell_type": "code",
   "execution_count": null,
   "metadata": {},
   "outputs": [],
   "source": [
    "?@distributed"
   ]
  },
  {
   "cell_type": "code",
   "execution_count": 90,
   "metadata": {},
   "outputs": [
    {
     "name": "stdout",
     "output_type": "stream",
     "text": [
      "  441.491 ms (447 allocations: 18.20 KiB)\n"
     ]
    }
   ],
   "source": [
    "# distributed version\n",
    "function add_distributed(n)\n",
    "    c = @distributed (+) for i in 1:n\n",
    "        Int(rand(Bool))\n",
    "    end\n",
    "    c\n",
    "end\n",
    "\n",
    "@btime add_distributed(200_000_000);"
   ]
  },
  {
   "cell_type": "markdown",
   "metadata": {},
   "source": [
    "The distributed version is about **4x faster**, which is all we could hope for."
   ]
  },
  {
   "cell_type": "markdown",
   "metadata": {},
   "source": [
    "Let's see who is doing the work"
   ]
  },
  {
   "cell_type": "code",
   "execution_count": 91,
   "metadata": {},
   "outputs": [
    {
     "name": "stdout",
     "output_type": "stream",
     "text": [
      "      From worker 16:\t1\n",
      "      From worker 17:\t0\n",
      "      From worker 15:\t0\n",
      "      From worker 14:\t0\n",
      "      From worker 16:\t1\n",
      "      From worker 17:\t1\n",
      "      From worker 15:\t0\n",
      "      From worker 14:\t1\n"
     ]
    }
   ],
   "source": [
    "# verbose distributed version\n",
    "function add_distributed(n)\n",
    "    c = @distributed (+) for i in 1:n\n",
    "        x = Int(rand(Bool))\n",
    "        println(x);\n",
    "        x\n",
    "    end\n",
    "    c\n",
    "end\n",
    "\n",
    "add_distributed(8);"
   ]
  },
  {
   "cell_type": "markdown",
   "metadata": {},
   "source": [
    "Apparently, the work is evenly distributed between the workers. By using `@distributed` we let Julia decide how to split up the work and can't control it ourselves."
   ]
  },
  {
   "cell_type": "markdown",
   "metadata": {},
   "source": [
    "A common mistake when using `@distributed` is the following:"
   ]
  },
  {
   "cell_type": "code",
   "execution_count": 92,
   "metadata": {},
   "outputs": [],
   "source": [
    "function f(n)\n",
    "    a = 0\n",
    "    @distributed (+) for i in 1:n\n",
    "        a += 1\n",
    "    end\n",
    "    a\n",
    "end\n",
    "\n",
    "a = f(10);"
   ]
  },
  {
   "cell_type": "markdown",
   "metadata": {},
   "source": [
    "What do you expect the value of `a` to be?"
   ]
  },
  {
   "cell_type": "code",
   "execution_count": 93,
   "metadata": {},
   "outputs": [
    {
     "data": {
      "text/plain": [
       "0"
      ]
     },
     "execution_count": 93,
     "metadata": {},
     "output_type": "execute_result"
    }
   ],
   "source": [
    "a"
   ]
  },
  {
   "cell_type": "markdown",
   "metadata": {},
   "source": [
    "We can (sort of) see what's happening by making everything global"
   ]
  },
  {
   "cell_type": "code",
   "execution_count": 94,
   "metadata": {},
   "outputs": [
    {
     "name": "stdout",
     "output_type": "stream",
     "text": [
      "      From worker 15:\t1\n",
      "      From worker 17:\t1\n",
      "      From worker 17:\t1\n",
      "      From worker 16:\t1\n",
      "      From worker 14:\t1\n",
      "      From worker 14:\t1\n",
      "      From worker 14:\t1\n",
      "      From worker 15:\t1\n",
      "      From worker 15:\t1\n",
      "      From worker 16:\t1\n"
     ]
    }
   ],
   "source": [
    "a = 0\n",
    "@distributed (+) for i in 1:10\n",
    "    println(\"1\")\n",
    "    global a += 1\n",
    "end;"
   ]
  },
  {
   "cell_type": "code",
   "execution_count": 95,
   "metadata": {},
   "outputs": [
    {
     "name": "stdout",
     "output_type": "stream",
     "text": [
      "a = 0\n",
      "      From worker 15:\ta = 3\n",
      "      From worker 14:\ta = 3\n",
      "      From worker 17:\ta = 2\n",
      "      From worker 16:\ta = 2\n"
     ]
    }
   ],
   "source": [
    "@everywhere @show a"
   ]
  },
  {
   "cell_type": "markdown",
   "metadata": {},
   "source": [
    "The variable `a` gets copied to the worker processes as it is referenced in the distributed loop. \n",
    "\n",
    "Every worker will then increment its copy of `a`.\n",
    "\n",
    "However, we do not save the result of the reduction (sum) but instead return `a` from the master process, which hasn't been altered at all.\n",
    "\n",
    "Corrected version:"
   ]
  },
  {
   "cell_type": "code",
   "execution_count": 96,
   "metadata": {},
   "outputs": [
    {
     "data": {
      "text/plain": [
       "10"
      ]
     },
     "execution_count": 96,
     "metadata": {},
     "output_type": "execute_result"
    }
   ],
   "source": [
    "function f2(n)\n",
    "    a = @distributed (+) for i in 1:n\n",
    "        1\n",
    "    end\n",
    "    a\n",
    "end\n",
    "\n",
    "a = f2(10)"
   ]
  },
  {
   "cell_type": "markdown",
   "metadata": {},
   "source": [
    "### What if I don't want to reduce?"
   ]
  },
  {
   "cell_type": "markdown",
   "metadata": {},
   "source": [
    "Similar to the mistake above, the following example might not have the effect one expects. **Why?**"
   ]
  },
  {
   "cell_type": "code",
   "execution_count": 97,
   "metadata": {},
   "outputs": [
    {
     "data": {
      "text/plain": [
       "Task (runnable) @0x0000000011e136b0"
      ]
     },
     "execution_count": 97,
     "metadata": {},
     "output_type": "execute_result"
    }
   ],
   "source": [
    "a = zeros(10)\n",
    "@distributed for i = 1:10\n",
    "    a[i] = i\n",
    "end"
   ]
  },
  {
   "cell_type": "code",
   "execution_count": 98,
   "metadata": {},
   "outputs": [
    {
     "name": "stdout",
     "output_type": "stream",
     "text": [
      "a = [0.0, 0.0, 0.0, 0.0, 0.0, 0.0, 0.0, 0.0, 0.0, 0.0]\n",
      "      From worker 15:\ta = [1.0, 2.0, 3.0, 0.0, 0.0, 0.0, 0.0, 0.0, 0.0, 0.0]\n",
      "      From worker 14:\ta = [0.0, 0.0, 0.0, 0.0, 0.0, 0.0, 0.0, 0.0, 9.0, 10.0]\n",
      "      From worker 16:\ta = [0.0, 0.0, 0.0, 4.0, 5.0, 6.0, 0.0, 0.0, 0.0, 0.0]\n",
      "      From worker 17:\ta = [0.0, 0.0, 0.0, 0.0, 0.0, 0.0, 7.0, 8.0, 0.0, 0.0]\n"
     ]
    }
   ],
   "source": [
    "@everywhere @show a"
   ]
  },
  {
   "cell_type": "markdown",
   "metadata": {},
   "source": [
    "Note that `@distributed` without a reduction function returns a `Task`. It is basically a distributed version of `@spawn` for all the iterations."
   ]
  },
  {
   "cell_type": "markdown",
   "metadata": {},
   "source": [
    "## `SharedArray`s"
   ]
  },
  {
   "cell_type": "markdown",
   "metadata": {},
   "source": [
    "To actually make all processes operate on the same array, one can use a `SharedArray`.\n",
    "\n",
    "Note that a `SharedArray` only works if the **processes live on the same host**.\n",
    "\n",
    "The constructor of a SharedArray is\n",
    "\n",
    "```julia\n",
    "SharedArray{T,N}(dims::NTuple; init=false, pids=Int[])\n",
    "```\n",
    "\n",
    "which creates an `N`-dimensional shared array of a (bits) type `T` and size `dims` across the processes specified by `pids`.\n",
    "\n",
    "(If an `init` function, of signature `initfn(S::SharedArray)`, is specified, it is called on all the participating workers. You can specify that each worker runs the init function on a distinct portion of the array, thereby parallelizing initialization.)"
   ]
  },
  {
   "cell_type": "code",
   "execution_count": 99,
   "metadata": {},
   "outputs": [],
   "source": [
    "@everywhere using SharedArrays # must be loaded everywhere"
   ]
  },
  {
   "cell_type": "code",
   "execution_count": 100,
   "metadata": {},
   "outputs": [
    {
     "data": {
      "text/plain": [
       "2×3 Array{Float64,2}:\n",
       " 0.498943  0.72499   0.391312\n",
       " 0.886537  0.631643  0.408707"
      ]
     },
     "execution_count": 100,
     "metadata": {},
     "output_type": "execute_result"
    }
   ],
   "source": [
    "A = rand(2,3)"
   ]
  },
  {
   "cell_type": "code",
   "execution_count": 101,
   "metadata": {},
   "outputs": [
    {
     "data": {
      "text/plain": [
       "2×3 SharedArray{Float64,2}:\n",
       " 0.498943  0.72499   0.391312\n",
       " 0.886537  0.631643  0.408707"
      ]
     },
     "execution_count": 101,
     "metadata": {},
     "output_type": "execute_result"
    }
   ],
   "source": [
    "S = SharedArray(A)"
   ]
  },
  {
   "cell_type": "markdown",
   "metadata": {},
   "source": [
    "Ok, now that we know how to create and fill our `SharedArray` we can create a parallel fill function:"
   ]
  },
  {
   "cell_type": "code",
   "execution_count": 102,
   "metadata": {},
   "outputs": [
    {
     "data": {
      "text/plain": [
       "3×3 SharedArray{Float64,2}:\n",
       " 0.0  0.0  0.0\n",
       " 0.0  0.0  0.0\n",
       " 0.0  0.0  0.0"
      ]
     },
     "execution_count": 102,
     "metadata": {},
     "output_type": "execute_result"
    }
   ],
   "source": [
    "function fill_shared_problematic(N)\n",
    "    S = SharedMatrix{Float64}(N,N)\n",
    "    @distributed for i in 1:length(S)\n",
    "        S[i] = i\n",
    "    end\n",
    "    S\n",
    "end\n",
    "\n",
    "fill_shared_problematic(3)"
   ]
  },
  {
   "cell_type": "markdown",
   "metadata": {},
   "source": [
    "*Why is the method in its current form problematic? Try to find out yourself by going to larger `N` and, for example, inspecting the minimum of the returned `SharedArray`!*"
   ]
  },
  {
   "cell_type": "markdown",
   "metadata": {},
   "source": [
    "Going to larger matrix sizes...."
   ]
  },
  {
   "cell_type": "code",
   "execution_count": 103,
   "metadata": {},
   "outputs": [
    {
     "data": {
      "text/plain": [
       "0"
      ]
     },
     "execution_count": 103,
     "metadata": {},
     "output_type": "execute_result"
    }
   ],
   "source": [
    "function fill_shared_problematic(N)\n",
    "    S = SharedMatrix{Int64}(N,N)\n",
    "    @distributed for i in 1:length(S)\n",
    "        S[i] = i\n",
    "    end\n",
    "    S\n",
    "end\n",
    "\n",
    "S = fill_shared_problematic(100)\n",
    "minimum(S)"
   ]
  },
  {
   "cell_type": "markdown",
   "metadata": {},
   "source": [
    "Note how sometimes the array isn't completely filled but still contains zeros. This is because it isn't filled **yet**!\n",
    "\n",
    "Check again!"
   ]
  },
  {
   "cell_type": "code",
   "execution_count": 104,
   "metadata": {},
   "outputs": [
    {
     "data": {
      "text/plain": [
       "1"
      ]
     },
     "execution_count": 104,
     "metadata": {},
     "output_type": "execute_result"
    }
   ],
   "source": [
    "minimum(S)"
   ]
  },
  {
   "cell_type": "markdown",
   "metadata": {},
   "source": [
    "We can use `@sync` to synchronize our distributed for loop."
   ]
  },
  {
   "cell_type": "code",
   "execution_count": 105,
   "metadata": {},
   "outputs": [
    {
     "data": {
      "text/plain": [
       "1"
      ]
     },
     "execution_count": 105,
     "metadata": {},
     "output_type": "execute_result"
    }
   ],
   "source": [
    "function fill_shared_problematic(N)\n",
    "    S = SharedMatrix{Int64}(N,N)\n",
    "    @sync @distributed for i in 1:length(S) # added @sync here\n",
    "        S[i] = i\n",
    "    end\n",
    "    S\n",
    "end\n",
    "\n",
    "S = fill_shared_problematic(100)\n",
    "minimum(S)"
   ]
  },
  {
   "cell_type": "markdown",
   "metadata": {},
   "source": [
    "Ok, let's **benchmark** this for a larger matrix size"
   ]
  },
  {
   "cell_type": "code",
   "execution_count": 106,
   "metadata": {},
   "outputs": [
    {
     "name": "stdout",
     "output_type": "stream",
     "text": [
      "  0.276840 seconds (209.56 k allocations: 773.579 MiB, 2.14% gc time)\n"
     ]
    }
   ],
   "source": [
    "# regular array\n",
    "function fill_regular(N)\n",
    "    A = Matrix{Int64}(undef,N,N)\n",
    "    for i in 1:length(A)\n",
    "        A[i] = i\n",
    "    end\n",
    "    A\n",
    "end\n",
    "\n",
    "@time fill_regular(10000);"
   ]
  },
  {
   "cell_type": "code",
   "execution_count": 107,
   "metadata": {},
   "outputs": [
    {
     "name": "stdout",
     "output_type": "stream",
     "text": [
      "  0.147805 seconds (178.08 k allocations: 8.724 MiB)\n"
     ]
    }
   ],
   "source": [
    "# shared array\n",
    "function fill_shared(N)\n",
    "    S = SharedMatrix{Int64}(N,N)\n",
    "    @sync @distributed for i in 1:length(S)\n",
    "        S[i] = i\n",
    "    end\n",
    "    S\n",
    "end\n",
    "\n",
    "@time fill_shared(10000);"
   ]
  },
  {
   "cell_type": "markdown",
   "metadata": {},
   "source": [
    "This is of course just filling an array.\n",
    "\n",
    "If there were actual calculations it might actually be beneficial to distribute the work across workers."
   ]
  },
  {
   "cell_type": "markdown",
   "metadata": {},
   "source": [
    "## Parallel map: `pmap`"
   ]
  },
  {
   "cell_type": "markdown",
   "metadata": {},
   "source": [
    "Sometimes we merely wish to apply a function to all all elements in a collection.\n",
    "\n",
    "For those cases, Julia provides the `pmap` (parallel map) function."
   ]
  },
  {
   "cell_type": "markdown",
   "metadata": {},
   "source": [
    "Say, we want to compute the singular values of a bunch of larger matrices in parallel."
   ]
  },
  {
   "cell_type": "code",
   "execution_count": 108,
   "metadata": {},
   "outputs": [
    {
     "data": {
      "text/plain": [
       "10-element Array{Array{Float64,1},1}:\n",
       " [500.4595406599959, 18.078210696674784, 18.01037047198886, 17.921147997936774, 17.89308896771866, 17.774517346713804, 17.735394407565206, 17.729515684096288, 17.665110283955233, 17.60227674794584  …  0.12670109229164214, 0.10612134532195878, 0.09626880696263512, 0.08479542999790014, 0.07682968064128762, 0.06250150792334953, 0.04545045610349069, 0.018815184083534397, 0.010848146299364066, 0.005233825418323155]\n",
       " [499.9655193031977, 18.146926279093822, 18.031932846237606, 17.919500168094338, 17.87589875644731, 17.836556332043877, 17.72757864890409, 17.712055850444465, 17.65987991268783, 17.587778073119754  …  0.12919528817626805, 0.10767038968755385, 0.1038375352797226, 0.09760657634314684, 0.0846764206562068, 0.07356610055181656, 0.06347755584769385, 0.053087603992327946, 0.021392146418524677, 0.00577882380865549]   \n",
       " [500.07993977351504, 18.18698184741393, 18.102271642641256, 17.887623973022475, 17.814795328387298, 17.791931514154314, 17.69332874820333, 17.622580341397303, 17.564339851291532, 17.477322768373803  …  0.12689413664941318, 0.11290112105848947, 0.10314214757521618, 0.0858061305863897, 0.067834881491324, 0.059067887192618955, 0.036063845302141045, 0.0322724630218478, 0.015092924540178574, 0.0002691093269527089]\n",
       " [500.4866305935109, 18.18653484430773, 18.073787240715788, 17.994291853393936, 17.829308296452208, 17.805412314419566, 17.749724334869462, 17.706123554811253, 17.65762759894737, 17.607201612597756  …  0.1363005997991487, 0.12775767930005508, 0.1110059109712789, 0.10497203622928347, 0.09426973647759447, 0.07801625950667342, 0.03811608288269604, 0.023286118461138747, 0.01991758785922167, 0.014025855389619235]  \n",
       " [499.76805313266397, 18.1081163955038, 18.066777761925405, 17.955445604608144, 17.939368669566406, 17.860755208627996, 17.737799211687452, 17.69367705266586, 17.6582117169092, 17.573370813442033  …  0.1330191686630921, 0.11984516585239136, 0.11022452086903609, 0.10563441093563716, 0.08548354099892776, 0.05744416440750053, 0.046931740161197326, 0.030122716256931914, 0.01440935289178114, 0.010409572102049706]  \n",
       " [500.25230826290647, 18.090270825987275, 18.060440731746823, 18.02744825952085, 17.929920999859316, 17.83689378041413, 17.74689178750655, 17.643606791916902, 17.58091144882929, 17.567060338192256  …  0.14181337745956077, 0.13272725659681567, 0.10561757488393386, 0.08162640520370079, 0.07908262973109165, 0.056159750672009304, 0.04864975263866641, 0.0323456189671098, 0.017941101330935412, 0.007716911463737141] \n",
       " [500.1467511212181, 18.08354498398342, 18.02907022672588, 17.93350855426666, 17.84662746071791, 17.784045079601633, 17.765617182740957, 17.674738246804434, 17.634173241153363, 17.616283610551005  …  0.11812998457041562, 0.11220718772899102, 0.0979772630494853, 0.0898052077689357, 0.07895809054593021, 0.04547775466713127, 0.03479893253107868, 0.018408075979174127, 0.015976009615547487, 0.005609298818208183]   \n",
       " [500.287449313654, 18.244028490447224, 18.12110214717943, 17.957957529927736, 17.91702781759946, 17.820593982454177, 17.72398909526121, 17.68331797082127, 17.65318138212746, 17.586670113689227  …  0.1486358427677049, 0.12048629722738116, 0.1118716608650529, 0.08609569316774264, 0.08120275416569896, 0.05066213072908951, 0.03685638619527548, 0.025099843825797066, 0.014218468460673104, 0.009190917011739214]     \n",
       " [500.50371460656953, 18.286014404940417, 18.12706630827212, 18.014762396549177, 17.963130946747775, 17.91828556991523, 17.83414478229179, 17.76296048493352, 17.728342468336695, 17.667243650522863  …  0.12712956429379668, 0.11592583594771795, 0.09422586323333272, 0.08901382460246829, 0.08167192908180079, 0.08077942070142545, 0.0542847260625894, 0.038679150477235386, 0.020146439689109348, 0.01044342418114369]  \n",
       " [499.956895827804, 18.26191402105445, 18.035359890202898, 17.963658452824834, 17.880998681046496, 17.82820857421408, 17.735654330161776, 17.654434624463676, 17.61735420628766, 17.584259854875032  …  0.13147211712242363, 0.11628348468630821, 0.10959767351176622, 0.09606813590980533, 0.09432361815195899, 0.06405319952321385, 0.053084639504684485, 0.03525321414006404, 0.009217407108521378, 0.002210637688363134] "
      ]
     },
     "execution_count": 108,
     "metadata": {},
     "output_type": "execute_result"
    }
   ],
   "source": [
    "@everywhere using LinearAlgebra\n",
    "\n",
    "M = Matrix{Float64}[rand(1000,1000) for i = 1:10];\n",
    "\n",
    "pmap(svdvals, M)"
   ]
  },
  {
   "cell_type": "code",
   "execution_count": 109,
   "metadata": {},
   "outputs": [
    {
     "name": "stdout",
     "output_type": "stream",
     "text": [
      "      From worker 15:\t15\n",
      "      From worker 17:\t17\n",
      "      From worker 14:\t14\n",
      "      From worker 16:\t16\n",
      "      From worker 15:\t15\n",
      "      From worker 14:\t14\n",
      "      From worker 16:\t16\n",
      "      From worker 17:\t17\n",
      "      From worker 15:\t15\n",
      "      From worker 14:\t14\n"
     ]
    }
   ],
   "source": [
    "# Check that really all of the workers participated\n",
    "pmap(m->begin println(myid()); svdvals(m) end, M);"
   ]
  },
  {
   "cell_type": "code",
   "execution_count": 112,
   "metadata": {},
   "outputs": [],
   "source": [
    "M2 = Matrix{Float64}[rand(i^2*100,i*100) for i = 1:10];"
   ]
  },
  {
   "cell_type": "code",
   "execution_count": 113,
   "metadata": {},
   "outputs": [
    {
     "name": "stdout",
     "output_type": "stream",
     "text": [
      "      From worker 14:\t14\n",
      "      From worker 15:\t15\n",
      "      From worker 17:\t17\n",
      "      From worker 16:\t16\n",
      "      From worker 15:\t15\n",
      "      From worker 17:\t17\n",
      "      From worker 16:\t16\n",
      "      From worker 14:\t14\n",
      "      From worker 15:\t15\n",
      "      From worker 14:\t14\n"
     ]
    }
   ],
   "source": [
    "pmap(m->begin println(myid()); svdvals(m) end, M2);"
   ]
  },
  {
   "cell_type": "code",
   "execution_count": 114,
   "metadata": {},
   "outputs": [
    {
     "name": "stdout",
     "output_type": "stream",
     "text": [
      "  2.898255 seconds (38.14 k allocations: 84.023 MiB, 5.52% gc time)\n",
      "  2.644590 seconds (176.14 k allocations: 91.188 MiB)\n",
      "  2.070526 seconds (1.04 k allocations: 118.172 KiB)\n"
     ]
    }
   ],
   "source": [
    "function svds_loop(M)\n",
    "    svds = Vector{Vector{Float64}}(undef, 10)\n",
    "    for (i, m) in enumerate(M)\n",
    "        svds[i] = svdvals(m)\n",
    "    end\n",
    "    svds\n",
    "end\n",
    "\n",
    "@time svds_loop(M);\n",
    "@time svdvals.(M);\n",
    "@time pmap(svdvals, M);"
   ]
  },
  {
   "cell_type": "markdown",
   "metadata": {},
   "source": [
    "### When to choose which?"
   ]
  },
  {
   "cell_type": "markdown",
   "metadata": {},
   "source": [
    "Julia's pmap is designed for the case where each function call does a **large amount of work**.\n",
    "\n",
    "In contrast, `@distributed` can handle situations where **each iteration is tiny**, perhaps only summing two numbers."
   ]
  },
  {
   "cell_type": "markdown",
   "metadata": {},
   "source": [
    "# Scaling things up: distributed computing"
   ]
  },
  {
   "cell_type": "markdown",
   "metadata": {},
   "source": [
    "So far we have worked on multiple cores on a single machine, your laptop for example.\n",
    "\n",
    "Processes can live on other machines as well! This allows us to distribute our computation across computer clusters.\n",
    "\n",
    "In principle, the plan of action is the same as in the multi-core case. However, we have to take into account the different memory situation. In particular, **data movement is expensive** and we won't be able to use `SharedArray`s."
   ]
  },
  {
   "cell_type": "code",
   "execution_count": 115,
   "metadata": {},
   "outputs": [
    {
     "data": {
      "text/plain": [
       "Task (done) @0x00000000112588b0"
      ]
     },
     "execution_count": 115,
     "metadata": {},
     "output_type": "execute_result"
    }
   ],
   "source": [
    "rmprocs(workers()) # fresh start"
   ]
  },
  {
   "cell_type": "markdown",
   "metadata": {},
   "source": [
    "## Creating workers on the cluster"
   ]
  },
  {
   "cell_type": "markdown",
   "metadata": {},
   "source": [
    "Adding processes on different machines is not much harder than adding them on your local machine. In the following we will take the last example, calculating singular values of a bunch of matrices, and distribute it over multiple computers in our thp network.\n",
    "\n",
    "In Julia, starting worker processes is handled by [ClusterManagers](https://docs.julialang.org/en/stable/manual/parallel-computing/#ClusterManagers-1).\n",
    "\n",
    "* The default one is `LocalManager`. It is automatically used when running `addprocs(i::Integer)` and we have implicitly used it already!\n",
    "* The one we are going to use for the THP cluster is `SSHManager`. It is automatically used when running `addprocs(hostnames::Array)`.\n",
    "\n",
    "Other cluster managers for SLURM, PBS, and others are provided in [ClusterManagers.jl](https://github.com/JuliaParallel/ClusterManagers.jl)."
   ]
  },
  {
   "cell_type": "markdown",
   "metadata": {},
   "source": [
    "In principle, starting processes on other computers can be done by `addprocs([\"l93\", \"l94\"])`, where `\"l93\"` and `\"l94\"` are hostnames. The only requirement is a **passwordless ssh access** to all specified hosts."
   ]
  },
  {
   "cell_type": "markdown",
   "metadata": {},
   "source": [
    "*Demonstrate in terminal from thp node*\n",
    "\n",
    "```julia\n",
    "using Distributed\n",
    "\n",
    "addprocs([\"l93\", \"l94\"])\n",
    "\n",
    "@everywhere println(gethostname())\n",
    "```"
   ]
  },
  {
   "cell_type": "markdown",
   "metadata": {},
   "source": [
    "One can also start multiple processes on different machines:\n",
    "```julia\n",
    "addprocs([(\"l93\", 2), (\"l94\", 3)]) # starts 2 workers on l92 and 3 workers on l93\n",
    "\n",
    "# Use :auto to start as many processes as CPUs are available\n",
    "```"
   ]
  },
  {
   "cell_type": "markdown",
   "metadata": {},
   "source": [
    "By default, `addprocs` expects the julia executable in the same folder as on the master computer (remember: workers are independent Julia processes). It will also try to `cd` to the same folder.\n",
    "\n",
    "In my case this would be"
   ]
  },
  {
   "cell_type": "code",
   "execution_count": null,
   "metadata": {},
   "outputs": [],
   "source": [
    "@show pwd();\n",
    "@show Sys.BINDIR;"
   ]
  },
  {
   "cell_type": "markdown",
   "metadata": {},
   "source": [
    "Both folders don't exist in my thp account (those are linux machines!), so I'll have to tell Julia to use different paths.\n",
    "\n",
    "Also, as per thp cluster guidelines one **(!) must (!) run computations on other thp computer with `nice -19` priority setting**!"
   ]
  },
  {
   "cell_type": "markdown",
   "metadata": {},
   "source": [
    "### Creating `nice -19` workers and specifying directories "
   ]
  },
  {
   "cell_type": "markdown",
   "metadata": {},
   "source": [
    "As you can see from `?addprocs`, `addprocs` takes a bunch of keyword arguments, two of which are of particular importance.\n",
    "\n",
    "* `dir`: working directory of the worker process\n",
    "* `exename`: path to julia executable (potentially augmented with pre-commands)"
   ]
  },
  {
   "cell_type": "code",
   "execution_count": 116,
   "metadata": {},
   "outputs": [
    {
     "data": {
      "text/plain": [
       "(exename = `\u001b[4mnice\u001b[24m \u001b[4m-19\u001b[24m \u001b[4m/home/bauer/bin/julia-1.3.1/bin/julia\u001b[24m \u001b[4m--project=/home/bauer/JuliaOulu20\u001b[24m`, dir = \"/home/bauer\")"
      ]
     },
     "execution_count": 116,
     "metadata": {},
     "output_type": "execute_result"
    }
   ],
   "source": [
    "params = (exename=`nice -19 /home/bauer/bin/julia-1.3.1/bin/julia --project=/home/bauer/JuliaOulu20`, dir=\"/home/bauer\")"
   ]
  },
  {
   "cell_type": "code",
   "execution_count": 117,
   "metadata": {},
   "outputs": [
    {
     "data": {
      "text/plain": [
       "4-element Array{Int64,1}:\n",
       " 18\n",
       " 19\n",
       " 20\n",
       " 21"
      ]
     },
     "execution_count": 117,
     "metadata": {},
     "output_type": "execute_result"
    }
   ],
   "source": [
    "addprocs([(\"l94\", :auto)]; params...)"
   ]
  },
  {
   "cell_type": "code",
   "execution_count": 118,
   "metadata": {},
   "outputs": [
    {
     "name": "stdout",
     "output_type": "stream",
     "text": [
      "l91\n",
      "      From worker 18:\tl94.thp.uni-koeln.de\n",
      "      From worker 20:\tl94.thp.uni-koeln.de\n",
      "      From worker 21:\tl94.thp.uni-koeln.de\n",
      "      From worker 19:\tl94.thp.uni-koeln.de\n"
     ]
    }
   ],
   "source": [
    "@everywhere println(gethostname())"
   ]
  },
  {
   "cell_type": "code",
   "execution_count": 119,
   "metadata": {},
   "outputs": [
    {
     "data": {
      "text/plain": [
       "Task (done) @0x000000001130ce70"
      ]
     },
     "execution_count": 119,
     "metadata": {},
     "output_type": "execute_result"
    }
   ],
   "source": [
    "rmprocs(workers())"
   ]
  },
  {
   "cell_type": "markdown",
   "metadata": {},
   "source": [
    "Ok, let's get some resources :)"
   ]
  },
  {
   "cell_type": "code",
   "execution_count": 120,
   "metadata": {},
   "outputs": [
    {
     "data": {
      "text/plain": [
       "3-element Array{Tuple{String,Symbol},1}:\n",
       " (\"l93\", :auto)\n",
       " (\"l94\", :auto)\n",
       " (\"l95\", :auto)"
      ]
     },
     "execution_count": 120,
     "metadata": {},
     "output_type": "execute_result"
    }
   ],
   "source": [
    "machines = [\"l93\", \"l94\", \"l95\"];\n",
    "\n",
    "procs_per_machine = :auto; # :auto for n = # cpus\n",
    "\n",
    "jobs = [(m,procs_per_machine) for m in machines]"
   ]
  },
  {
   "cell_type": "code",
   "execution_count": 121,
   "metadata": {},
   "outputs": [
    {
     "data": {
      "text/plain": [
       "12-element Array{Int64,1}:\n",
       " 22\n",
       " 23\n",
       " 24\n",
       " 25\n",
       " 26\n",
       " 27\n",
       " 28\n",
       " 29\n",
       " 30\n",
       " 31\n",
       " 32\n",
       " 33"
      ]
     },
     "execution_count": 121,
     "metadata": {},
     "output_type": "execute_result"
    }
   ],
   "source": [
    "addprocs(jobs; params...)"
   ]
  },
  {
   "cell_type": "code",
   "execution_count": 122,
   "metadata": {},
   "outputs": [
    {
     "name": "stdout",
     "output_type": "stream",
     "text": [
      "l91\n",
      "      From worker 22:\tl94.thp.uni-koeln.de\n",
      "      From worker 24:\tl95.thp.uni-koeln.de\n",
      "      From worker 31:\tl95.thp.uni-koeln.de\n",
      "      From worker 33:\tl95.thp.uni-koeln.de\n",
      "      From worker 32:\tl95.thp.uni-koeln.de\n",
      "      From worker 27:\tl94.thp.uni-koeln.de\n",
      "      From worker 26:\tl94.thp.uni-koeln.de\n",
      "      From worker 25:\tl94.thp.uni-koeln.de\n",
      "      From worker 23:\tl93.thp.uni-koeln.de\n",
      "      From worker 28:\tl93.thp.uni-koeln.de\n",
      "      From worker 30:\tl93.thp.uni-koeln.de\n",
      "      From worker 29:\tl93.thp.uni-koeln.de\n"
     ]
    }
   ],
   "source": [
    "@everywhere println(gethostname())"
   ]
  },
  {
   "cell_type": "code",
   "execution_count": 123,
   "metadata": {},
   "outputs": [
    {
     "name": "stdout",
     "output_type": "stream",
     "text": [
      "  1.714549 seconds (1.32 k allocations: 1.378 MiB)\n"
     ]
    }
   ],
   "source": [
    "@everywhere using LinearAlgebra\n",
    "\n",
    "@time x = pmap(svdvals, M);"
   ]
  },
  {
   "cell_type": "markdown",
   "metadata": {},
   "source": [
    "## Distributed arrays (`DArray`)"
   ]
  },
  {
   "cell_type": "markdown",
   "metadata": {},
   "source": [
    "Github: https://github.com/JuliaParallel/DistributedArrays.jl\n",
    "\n",
    "In a `DArray`, each process has local access to just a chunk of the data, and no two processes share the same chunk. Processes can be on different hosts.\n",
    "\n",
    "Distributed arrays are for example useful if\n",
    "\n",
    "* Expensive calculations should be performed in parallel on parts of the array on different hosts.\n",
    "* The data doesn't fit into the local machines memory (Loading big files in parallel)."
   ]
  },
  {
   "cell_type": "code",
   "execution_count": 124,
   "metadata": {},
   "outputs": [],
   "source": [
    "@everywhere using DistributedArrays, LinearAlgebra"
   ]
  },
  {
   "cell_type": "code",
   "execution_count": 125,
   "metadata": {},
   "outputs": [
    {
     "data": {
      "text/plain": [
       "12"
      ]
     },
     "execution_count": 125,
     "metadata": {},
     "output_type": "execute_result"
    }
   ],
   "source": [
    "nworkers()"
   ]
  },
  {
   "cell_type": "code",
   "execution_count": 126,
   "metadata": {},
   "outputs": [
    {
     "data": {
      "text/plain": [
       "10-element DArray{Array{Float64,2},1,Array{Array{Float64,2},1}}:\n",
       " [0.44481485963039846 0.7993541386583891 … 0.21691969531137612 0.7986614742193945; 0.30160288715983397 0.6608355704671478 … 0.34865286510562865 0.5612847121124924; … ; 0.7659033390081456 0.8021291120324168 … 0.9039683125493148 0.8125701028418106; 0.1776664223416602 0.9675410464165788 … 0.20495031511888762 0.7131133070483999]   \n",
       " [0.39201178404643056 0.6614905942035101 … 0.10344901013949492 0.829851895792072; 0.43752896469648617 0.7046804610520296 … 0.5685880563002745 0.36521752679592345; … ; 0.49670602255053 0.16396146088176922 … 0.5498795276102488 0.8488056008768647; 0.4987976599509254 0.3399869520424843 … 0.14476540254984438 0.17263295941937007]    \n",
       " [0.12964986074134033 0.7828057327755302 … 0.45318819937802357 0.9236058091066597; 0.9933656714274648 0.35172574645608945 … 0.02318941558743215 0.17896780925310196; … ; 0.1923338853306149 0.7943831144070728 … 0.9846741505565637 0.13858969787688857; 0.092444292620941 0.45035397223559825 … 0.6025763887901485 0.6339293555584009]  \n",
       " [0.8450627656003844 0.3335489510539562 … 0.18108402791767353 0.7050243909684719; 0.8209730403000606 0.5092255118068889 … 0.5583097603856528 0.4058601392306578; … ; 0.9920208738222489 0.9848875868010503 … 0.26520175411486124 0.29811814386335356; 0.665044339238793 0.5506971287132296 … 0.6691513958697068 0.8222652114776587]      \n",
       " [0.9853438080850487 0.7110275397049579 … 0.8185105565708806 0.7118800225573436; 0.8284784343704512 0.9700430668486453 … 0.9853223741346933 0.9220609998464695; … ; 0.9706640365203003 0.7364736113589345 … 0.5068719988086863 0.25553484787158; 0.6027040344573633 0.4224870851935636 … 0.7955042935383134 0.32009698054371993]         \n",
       " [0.4566607872917803 0.14818173863404271 … 0.26237173344259657 0.9250173919259501; 0.689327475360888 0.16999851339648786 … 0.8001950099157877 0.47447823109105514; … ; 0.7339316097064872 0.1529520552570307 … 0.35046924146278213 0.16518612038517255; 0.7074196868711626 0.6406647553009324 … 0.18935327024848703 0.6150047902801825]  \n",
       " [0.6448712420176446 0.25236532958287516 … 0.466897136622048 0.4386316249078601; 0.9250949467884542 0.619094007697607 … 0.6954088908438996 0.24907531462415267; … ; 0.20627005727567616 0.8950088668021181 … 0.9404863103297791 0.7965508875571949; 0.3483466705357563 0.9620040279724908 … 0.16559900314016418 0.576385795713694]       \n",
       " [0.33782950127842826 0.6920003779799107 … 0.39713637468726426 0.7003557244306218; 0.33338362797966514 0.6833816258162857 … 0.7286337682728559 0.9201854707135493; … ; 0.43270849782087595 0.5708603036493047 … 0.7330636389390637 0.42457879735888215; 0.4120500740780697 0.32656680278897143 … 0.5349153807476212 0.14366496432611608] \n",
       " [0.29283154243810317 0.06702746868025189 … 0.20028200528863827 0.5389116102445184; 0.5180749888964924 0.7139230903336045 … 0.009039640762589451 0.059651085797102876; … ; 0.9048868832975261 0.731263599583899 … 0.6413089207275995 0.47081718455682586; 0.7606443011790107 0.05487841442366981 … 0.6292744266992312 0.8531699963583708]\n",
       " [0.6842255541558053 0.10118098979714896 … 0.6496469476042916 0.2169702133910334; 0.5002614665434051 0.7086760978265203 … 0.48221552794583644 0.20572368671028185; … ; 0.6457238549358082 0.9756595866156499 … 0.43940542231052726 0.5102328352341372; 0.913668850638053 0.9140976769563494 … 0.7511135445560315 0.12546271596848757]    "
      ]
     },
     "execution_count": 126,
     "metadata": {},
     "output_type": "execute_result"
    }
   ],
   "source": [
    "D = distribute(M)"
   ]
  },
  {
   "cell_type": "code",
   "execution_count": 127,
   "metadata": {},
   "outputs": [
    {
     "data": {
      "text/plain": [
       "DArray{Array{Float64,2},1,Array{Array{Float64,2},1}}"
      ]
     },
     "execution_count": 127,
     "metadata": {},
     "output_type": "execute_result"
    }
   ],
   "source": [
    "typeof(D)"
   ]
  },
  {
   "cell_type": "markdown",
   "metadata": {},
   "source": [
    "Which workers hold parts of D?"
   ]
  },
  {
   "cell_type": "code",
   "execution_count": 128,
   "metadata": {},
   "outputs": [
    {
     "data": {
      "text/plain": [
       "10-element Array{Int64,1}:\n",
       " 22\n",
       " 23\n",
       " 24\n",
       " 25\n",
       " 26\n",
       " 27\n",
       " 28\n",
       " 29\n",
       " 30\n",
       " 31"
      ]
     },
     "execution_count": 128,
     "metadata": {},
     "output_type": "execute_result"
    }
   ],
   "source": [
    "procs(D)"
   ]
  },
  {
   "cell_type": "markdown",
   "metadata": {},
   "source": [
    "Which parts do they hold?"
   ]
  },
  {
   "cell_type": "code",
   "execution_count": 129,
   "metadata": {},
   "outputs": [
    {
     "data": {
      "text/plain": [
       "0-element Array{Array{Float64,2},1}"
      ]
     },
     "execution_count": 129,
     "metadata": {},
     "output_type": "execute_result"
    }
   ],
   "source": [
    "localpart(D) # the master doesn't hold anything"
   ]
  },
  {
   "cell_type": "code",
   "execution_count": 130,
   "metadata": {},
   "outputs": [
    {
     "data": {
      "text/plain": [
       "1-element Array{Array{Float64,2},1}:\n",
       " [0.44481485963039846 0.7993541386583891 … 0.21691969531137612 0.7986614742193945; 0.30160288715983397 0.6608355704671478 … 0.34865286510562865 0.5612847121124924; … ; 0.7659033390081456 0.8021291120324168 … 0.9039683125493148 0.8125701028418106; 0.1776664223416602 0.9675410464165788 … 0.20495031511888762 0.7131133070483999]"
      ]
     },
     "metadata": {},
     "output_type": "display_data"
    },
    {
     "data": {
      "text/plain": [
       "(1:1,)"
      ]
     },
     "metadata": {},
     "output_type": "display_data"
    },
    {
     "data": {
      "text/plain": [
       "1-element Array{Array{Float64,2},1}:\n",
       " [0.39201178404643056 0.6614905942035101 … 0.10344901013949492 0.829851895792072; 0.43752896469648617 0.7046804610520296 … 0.5685880563002745 0.36521752679592345; … ; 0.49670602255053 0.16396146088176922 … 0.5498795276102488 0.8488056008768647; 0.4987976599509254 0.3399869520424843 … 0.14476540254984438 0.17263295941937007]"
      ]
     },
     "metadata": {},
     "output_type": "display_data"
    },
    {
     "data": {
      "text/plain": [
       "(2:2,)"
      ]
     },
     "metadata": {},
     "output_type": "display_data"
    },
    {
     "data": {
      "text/plain": [
       "1-element Array{Array{Float64,2},1}:\n",
       " [0.12964986074134033 0.7828057327755302 … 0.45318819937802357 0.9236058091066597; 0.9933656714274648 0.35172574645608945 … 0.02318941558743215 0.17896780925310196; … ; 0.1923338853306149 0.7943831144070728 … 0.9846741505565637 0.13858969787688857; 0.092444292620941 0.45035397223559825 … 0.6025763887901485 0.6339293555584009]"
      ]
     },
     "metadata": {},
     "output_type": "display_data"
    },
    {
     "data": {
      "text/plain": [
       "(3:3,)"
      ]
     },
     "metadata": {},
     "output_type": "display_data"
    },
    {
     "data": {
      "text/plain": [
       "1-element Array{Array{Float64,2},1}:\n",
       " [0.8450627656003844 0.3335489510539562 … 0.18108402791767353 0.7050243909684719; 0.8209730403000606 0.5092255118068889 … 0.5583097603856528 0.4058601392306578; … ; 0.9920208738222489 0.9848875868010503 … 0.26520175411486124 0.29811814386335356; 0.665044339238793 0.5506971287132296 … 0.6691513958697068 0.8222652114776587]"
      ]
     },
     "metadata": {},
     "output_type": "display_data"
    },
    {
     "data": {
      "text/plain": [
       "(4:4,)"
      ]
     },
     "metadata": {},
     "output_type": "display_data"
    },
    {
     "data": {
      "text/plain": [
       "1-element Array{Array{Float64,2},1}:\n",
       " [0.9853438080850487 0.7110275397049579 … 0.8185105565708806 0.7118800225573436; 0.8284784343704512 0.9700430668486453 … 0.9853223741346933 0.9220609998464695; … ; 0.9706640365203003 0.7364736113589345 … 0.5068719988086863 0.25553484787158; 0.6027040344573633 0.4224870851935636 … 0.7955042935383134 0.32009698054371993]"
      ]
     },
     "metadata": {},
     "output_type": "display_data"
    },
    {
     "data": {
      "text/plain": [
       "(5:5,)"
      ]
     },
     "metadata": {},
     "output_type": "display_data"
    },
    {
     "data": {
      "text/plain": [
       "1-element Array{Array{Float64,2},1}:\n",
       " [0.4566607872917803 0.14818173863404271 … 0.26237173344259657 0.9250173919259501; 0.689327475360888 0.16999851339648786 … 0.8001950099157877 0.47447823109105514; … ; 0.7339316097064872 0.1529520552570307 … 0.35046924146278213 0.16518612038517255; 0.7074196868711626 0.6406647553009324 … 0.18935327024848703 0.6150047902801825]"
      ]
     },
     "metadata": {},
     "output_type": "display_data"
    },
    {
     "data": {
      "text/plain": [
       "(6:6,)"
      ]
     },
     "metadata": {},
     "output_type": "display_data"
    },
    {
     "data": {
      "text/plain": [
       "1-element Array{Array{Float64,2},1}:\n",
       " [0.6448712420176446 0.25236532958287516 … 0.466897136622048 0.4386316249078601; 0.9250949467884542 0.619094007697607 … 0.6954088908438996 0.24907531462415267; … ; 0.20627005727567616 0.8950088668021181 … 0.9404863103297791 0.7965508875571949; 0.3483466705357563 0.9620040279724908 … 0.16559900314016418 0.576385795713694]"
      ]
     },
     "metadata": {},
     "output_type": "display_data"
    },
    {
     "data": {
      "text/plain": [
       "(7:7,)"
      ]
     },
     "metadata": {},
     "output_type": "display_data"
    },
    {
     "data": {
      "text/plain": [
       "1-element Array{Array{Float64,2},1}:\n",
       " [0.33782950127842826 0.6920003779799107 … 0.39713637468726426 0.7003557244306218; 0.33338362797966514 0.6833816258162857 … 0.7286337682728559 0.9201854707135493; … ; 0.43270849782087595 0.5708603036493047 … 0.7330636389390637 0.42457879735888215; 0.4120500740780697 0.32656680278897143 … 0.5349153807476212 0.14366496432611608]"
      ]
     },
     "metadata": {},
     "output_type": "display_data"
    },
    {
     "data": {
      "text/plain": [
       "(8:8,)"
      ]
     },
     "metadata": {},
     "output_type": "display_data"
    },
    {
     "data": {
      "text/plain": [
       "1-element Array{Array{Float64,2},1}:\n",
       " [0.29283154243810317 0.06702746868025189 … 0.20028200528863827 0.5389116102445184; 0.5180749888964924 0.7139230903336045 … 0.009039640762589451 0.059651085797102876; … ; 0.9048868832975261 0.731263599583899 … 0.6413089207275995 0.47081718455682586; 0.7606443011790107 0.05487841442366981 … 0.6292744266992312 0.8531699963583708]"
      ]
     },
     "metadata": {},
     "output_type": "display_data"
    },
    {
     "data": {
      "text/plain": [
       "(9:9,)"
      ]
     },
     "metadata": {},
     "output_type": "display_data"
    },
    {
     "data": {
      "text/plain": [
       "1-element Array{Array{Float64,2},1}:\n",
       " [0.6842255541558053 0.10118098979714896 … 0.6496469476042916 0.2169702133910334; 0.5002614665434051 0.7086760978265203 … 0.48221552794583644 0.20572368671028185; … ; 0.6457238549358082 0.9756595866156499 … 0.43940542231052726 0.5102328352341372; 0.913668850638053 0.9140976769563494 … 0.7511135445560315 0.12546271596848757]"
      ]
     },
     "metadata": {},
     "output_type": "display_data"
    },
    {
     "data": {
      "text/plain": [
       "(10:10,)"
      ]
     },
     "metadata": {},
     "output_type": "display_data"
    },
    {
     "data": {
      "text/plain": [
       "0-element Array{Array{Float64,2},1}"
      ]
     },
     "metadata": {},
     "output_type": "display_data"
    },
    {
     "data": {
      "text/plain": [
       "(1:0,)"
      ]
     },
     "metadata": {},
     "output_type": "display_data"
    },
    {
     "data": {
      "text/plain": [
       "0-element Array{Array{Float64,2},1}"
      ]
     },
     "metadata": {},
     "output_type": "display_data"
    },
    {
     "data": {
      "text/plain": [
       "(1:0,)"
      ]
     },
     "metadata": {},
     "output_type": "display_data"
    }
   ],
   "source": [
    "# Which parts do they hold?\n",
    "for p in workers()\n",
    "    display(@fetchfrom p localpart(D))\n",
    "    display(@fetchfrom p DistributedArrays.localindices(D)) # DistributedArrays. necessary because of SharedArrays above\n",
    "end"
   ]
  },
  {
   "cell_type": "code",
   "execution_count": 138,
   "metadata": {},
   "outputs": [
    {
     "name": "stdout",
     "output_type": "stream",
     "text": [
      "  2.758770 seconds (15.67 k allocations: 82.958 MiB, 0.80% gc time)\n"
     ]
    }
   ],
   "source": [
    "@time Msquared = map(svdvals, M);"
   ]
  },
  {
   "cell_type": "code",
   "execution_count": 139,
   "metadata": {},
   "outputs": [
    {
     "name": "stdout",
     "output_type": "stream",
     "text": [
      "  0.825750 seconds (1.56 k allocations: 83.375 KiB)\n"
     ]
    }
   ],
   "source": [
    "@time Dsquared = map(svdvals, D);"
   ]
  },
  {
   "cell_type": "code",
   "execution_count": 140,
   "metadata": {},
   "outputs": [
    {
     "name": "stdout",
     "output_type": "stream",
     "text": [
      "  1.406283 seconds (1.19 k allocations: 247.688 KiB)\n"
     ]
    }
   ],
   "source": [
    "@time Psquared = pmap(svdvals, M);"
   ]
  },
  {
   "cell_type": "code",
   "execution_count": 146,
   "metadata": {},
   "outputs": [
    {
     "data": {
      "text/plain": [
       "true"
      ]
     },
     "execution_count": 146,
     "metadata": {},
     "output_type": "execute_result"
    }
   ],
   "source": [
    "isapprox(1.0, 1)"
   ]
  },
  {
   "cell_type": "code",
   "execution_count": null,
   "metadata": {},
   "outputs": [],
   "source": [
    "≈"
   ]
  },
  {
   "cell_type": "code",
   "execution_count": 147,
   "metadata": {},
   "outputs": [
    {
     "data": {
      "text/plain": [
       "true"
      ]
     },
     "execution_count": 147,
     "metadata": {},
     "output_type": "execute_result"
    }
   ],
   "source": [
    "1.0 ≈ 1"
   ]
  },
  {
   "cell_type": "code",
   "execution_count": 143,
   "metadata": {},
   "outputs": [
    {
     "data": {
      "text/plain": [
       "true"
      ]
     },
     "execution_count": 143,
     "metadata": {},
     "output_type": "execute_result"
    }
   ],
   "source": [
    "1.0 == 1"
   ]
  },
  {
   "cell_type": "code",
   "execution_count": 144,
   "metadata": {},
   "outputs": [
    {
     "data": {
      "text/plain": [
       "false"
      ]
     },
     "execution_count": 144,
     "metadata": {},
     "output_type": "execute_result"
    }
   ],
   "source": [
    "1.0 === 1"
   ]
  },
  {
   "cell_type": "code",
   "execution_count": 141,
   "metadata": {},
   "outputs": [
    {
     "data": {
      "text/plain": [
       "true"
      ]
     },
     "execution_count": 141,
     "metadata": {},
     "output_type": "execute_result"
    }
   ],
   "source": [
    "Msquared ≈ Dsquared"
   ]
  },
  {
   "cell_type": "code",
   "execution_count": 142,
   "metadata": {},
   "outputs": [
    {
     "data": {
      "text/plain": [
       "true"
      ]
     },
     "execution_count": 142,
     "metadata": {},
     "output_type": "execute_result"
    }
   ],
   "source": [
    "Dsquared ≈ Psquared"
   ]
  },
  {
   "cell_type": "markdown",
   "metadata": {},
   "source": [
    "But remember, for small operations the data movement can (and will) exceed the benefit of parallelizing the computation!"
   ]
  },
  {
   "cell_type": "code",
   "execution_count": null,
   "metadata": {},
   "outputs": [],
   "source": [
    "@btime map(sum, M);\n",
    "@btime map(sum, D);"
   ]
  },
  {
   "cell_type": "markdown",
   "metadata": {},
   "source": [
    "A demonstration of distributed arrays: [Parallel loading and processing of large files](https://www.youtube.com/watch?v=euZkvgx0fG8&t=3925s)"
   ]
  },
  {
   "cell_type": "code",
   "execution_count": 148,
   "metadata": {},
   "outputs": [
    {
     "data": {
      "text/plain": [
       "Task (done) @0x0000000028619cd0"
      ]
     },
     "execution_count": 148,
     "metadata": {},
     "output_type": "execute_result"
    }
   ],
   "source": [
    "# Stop worker processes!\n",
    "rmprocs(workers())"
   ]
  },
  {
   "cell_type": "markdown",
   "metadata": {},
   "source": [
    "# Exercise: Parallel Monte Carlo"
   ]
  },
  {
   "cell_type": "markdown",
   "metadata": {},
   "source": [
    "Calculate the value of $\\pi$ through parallel direct Monte Carlo.\n",
    "\n",
    "A unit circle is inscribed inside a unit square with side length 2 (from -1 to 1). The area of the circle is $\\pi$, the area of the square is 4, and the ratio is $\\pi/4$. This means that, if you throw $N$ darts randomly at the square, approximately $M=N\\pi/4$ of those darts will land inside the unit circle.\n",
    "\n",
    "Throw darts randomly at a unit square and count how many of them ($M$) landed inside of a unit circle. Approximate $\\pi \\approx 4M/N$. Visualization:"
   ]
  },
  {
   "cell_type": "code",
   "execution_count": 149,
   "metadata": {},
   "outputs": [
    {
     "name": "stderr",
     "output_type": "stream",
     "text": [
      "WARNING: using Distributions.params in module Main conflicts with an existing identifier.\n",
      "WARNING: using Distributions.var in module Main conflicts with an existing identifier.\n"
     ]
    },
    {
     "data": {
      "image/svg+xml": [
       "<?xml version=\"1.0\" encoding=\"utf-8\"?>\n",
       "<svg xmlns=\"http://www.w3.org/2000/svg\" xmlns:xlink=\"http://www.w3.org/1999/xlink\" width=\"600\" height=\"400\" viewBox=\"0 0 2400 1600\">\n",
       "<defs>\n",
       "  <clipPath id=\"clip6600\">\n",
       "    <rect x=\"0\" y=\"0\" width=\"2400\" height=\"1600\"/>\n",
       "  </clipPath>\n",
       "</defs>\n",
       "<path clip-path=\"url(#clip6600)\" d=\"\n",
       "M0 1600 L2400 1600 L2400 0 L0 0  Z\n",
       "  \" fill=\"#ffffff\" fill-rule=\"evenodd\" fill-opacity=\"1\"/>\n",
       "<defs>\n",
       "  <clipPath id=\"clip6601\">\n",
       "    <rect x=\"480\" y=\"0\" width=\"1681\" height=\"1600\"/>\n",
       "  </clipPath>\n",
       "</defs>\n",
       "<path clip-path=\"url(#clip6600)\" d=\"\n",
       "M547.267 1487.47 L1987.5 1487.47 L1987.5 47.2441 L547.267 47.2441  Z\n",
       "  \" fill=\"#ffffff\" fill-rule=\"evenodd\" fill-opacity=\"1\"/>\n",
       "<defs>\n",
       "  <clipPath id=\"clip6602\">\n",
       "    <rect x=\"547\" y=\"47\" width=\"1441\" height=\"1441\"/>\n",
       "  </clipPath>\n",
       "</defs>\n",
       "<polyline clip-path=\"url(#clip6600)\" style=\"stroke:#000000; stroke-width:4; stroke-opacity:1; fill:none\" points=\"\n",
       "  547.267,1487.47 1987.5,1487.47 \n",
       "  \"/>\n",
       "<polyline clip-path=\"url(#clip6600)\" style=\"stroke:#000000; stroke-width:4; stroke-opacity:1; fill:none\" points=\"\n",
       "  547.267,1487.47 547.267,47.2441 \n",
       "  \"/>\n",
       "<polyline clip-path=\"url(#clip6600)\" style=\"stroke:#000000; stroke-width:4; stroke-opacity:1; fill:none\" points=\"\n",
       "  547.267,1487.47 547.267,1470.19 \n",
       "  \"/>\n",
       "<polyline clip-path=\"url(#clip6600)\" style=\"stroke:#000000; stroke-width:4; stroke-opacity:1; fill:none\" points=\"\n",
       "  907.324,1487.47 907.324,1470.19 \n",
       "  \"/>\n",
       "<polyline clip-path=\"url(#clip6600)\" style=\"stroke:#000000; stroke-width:4; stroke-opacity:1; fill:none\" points=\"\n",
       "  1267.38,1487.47 1267.38,1470.19 \n",
       "  \"/>\n",
       "<polyline clip-path=\"url(#clip6600)\" style=\"stroke:#000000; stroke-width:4; stroke-opacity:1; fill:none\" points=\"\n",
       "  1627.44,1487.47 1627.44,1470.19 \n",
       "  \"/>\n",
       "<polyline clip-path=\"url(#clip6600)\" style=\"stroke:#000000; stroke-width:4; stroke-opacity:1; fill:none\" points=\"\n",
       "  1987.5,1487.47 1987.5,1470.19 \n",
       "  \"/>\n",
       "<polyline clip-path=\"url(#clip6600)\" style=\"stroke:#000000; stroke-width:4; stroke-opacity:1; fill:none\" points=\"\n",
       "  547.267,1487.47 564.549,1487.47 \n",
       "  \"/>\n",
       "<polyline clip-path=\"url(#clip6600)\" style=\"stroke:#000000; stroke-width:4; stroke-opacity:1; fill:none\" points=\"\n",
       "  547.267,1127.42 564.549,1127.42 \n",
       "  \"/>\n",
       "<polyline clip-path=\"url(#clip6600)\" style=\"stroke:#000000; stroke-width:4; stroke-opacity:1; fill:none\" points=\"\n",
       "  547.267,767.359 564.549,767.359 \n",
       "  \"/>\n",
       "<polyline clip-path=\"url(#clip6600)\" style=\"stroke:#000000; stroke-width:4; stroke-opacity:1; fill:none\" points=\"\n",
       "  547.267,407.302 564.549,407.302 \n",
       "  \"/>\n",
       "<polyline clip-path=\"url(#clip6600)\" style=\"stroke:#000000; stroke-width:4; stroke-opacity:1; fill:none\" points=\"\n",
       "  547.267,47.2441 564.549,47.2441 \n",
       "  \"/>\n",
       "<g clip-path=\"url(#clip6600)\">\n",
       "<text style=\"fill:#000000; fill-opacity:1; font-family:Arial,Helvetica Neue,Helvetica,sans-serif; font-size:48px; text-anchor:middle;\" transform=\"rotate(0, 547.267, 1541.47)\" x=\"547.267\" y=\"1541.47\">-1.0</text>\n",
       "</g>\n",
       "<g clip-path=\"url(#clip6600)\">\n",
       "<text style=\"fill:#000000; fill-opacity:1; font-family:Arial,Helvetica Neue,Helvetica,sans-serif; font-size:48px; text-anchor:middle;\" transform=\"rotate(0, 907.324, 1541.47)\" x=\"907.324\" y=\"1541.47\">-0.5</text>\n",
       "</g>\n",
       "<g clip-path=\"url(#clip6600)\">\n",
       "<text style=\"fill:#000000; fill-opacity:1; font-family:Arial,Helvetica Neue,Helvetica,sans-serif; font-size:48px; text-anchor:middle;\" transform=\"rotate(0, 1267.38, 1541.47)\" x=\"1267.38\" y=\"1541.47\">0.0</text>\n",
       "</g>\n",
       "<g clip-path=\"url(#clip6600)\">\n",
       "<text style=\"fill:#000000; fill-opacity:1; font-family:Arial,Helvetica Neue,Helvetica,sans-serif; font-size:48px; text-anchor:middle;\" transform=\"rotate(0, 1627.44, 1541.47)\" x=\"1627.44\" y=\"1541.47\">0.5</text>\n",
       "</g>\n",
       "<g clip-path=\"url(#clip6600)\">\n",
       "<text style=\"fill:#000000; fill-opacity:1; font-family:Arial,Helvetica Neue,Helvetica,sans-serif; font-size:48px; text-anchor:middle;\" transform=\"rotate(0, 1987.5, 1541.47)\" x=\"1987.5\" y=\"1541.47\">1.0</text>\n",
       "</g>\n",
       "<g clip-path=\"url(#clip6600)\">\n",
       "<text style=\"fill:#000000; fill-opacity:1; font-family:Arial,Helvetica Neue,Helvetica,sans-serif; font-size:48px; text-anchor:end;\" transform=\"rotate(0, 523.267, 1504.97)\" x=\"523.267\" y=\"1504.97\">-1.0</text>\n",
       "</g>\n",
       "<g clip-path=\"url(#clip6600)\">\n",
       "<text style=\"fill:#000000; fill-opacity:1; font-family:Arial,Helvetica Neue,Helvetica,sans-serif; font-size:48px; text-anchor:end;\" transform=\"rotate(0, 523.267, 1144.92)\" x=\"523.267\" y=\"1144.92\">-0.5</text>\n",
       "</g>\n",
       "<g clip-path=\"url(#clip6600)\">\n",
       "<text style=\"fill:#000000; fill-opacity:1; font-family:Arial,Helvetica Neue,Helvetica,sans-serif; font-size:48px; text-anchor:end;\" transform=\"rotate(0, 523.267, 784.859)\" x=\"523.267\" y=\"784.859\">0.0</text>\n",
       "</g>\n",
       "<g clip-path=\"url(#clip6600)\">\n",
       "<text style=\"fill:#000000; fill-opacity:1; font-family:Arial,Helvetica Neue,Helvetica,sans-serif; font-size:48px; text-anchor:end;\" transform=\"rotate(0, 523.267, 424.802)\" x=\"523.267\" y=\"424.802\">0.5</text>\n",
       "</g>\n",
       "<g clip-path=\"url(#clip6600)\">\n",
       "<text style=\"fill:#000000; fill-opacity:1; font-family:Arial,Helvetica Neue,Helvetica,sans-serif; font-size:48px; text-anchor:end;\" transform=\"rotate(0, 523.267, 64.7441)\" x=\"523.267\" y=\"64.7441\">1.0</text>\n",
       "</g>\n",
       "<polyline clip-path=\"url(#clip6602)\" style=\"stroke:#000000; stroke-width:4; stroke-opacity:1; fill:none\" points=\"\n",
       "  547.267,47.2441 1987.5,47.2441 \n",
       "  \"/>\n",
       "<polyline clip-path=\"url(#clip6602)\" style=\"stroke:#000000; stroke-width:4; stroke-opacity:1; fill:none\" points=\"\n",
       "  1987.5,1487.47 1987.5,47.2441 \n",
       "  \"/>\n",
       "<polyline clip-path=\"url(#clip6602)\" style=\"stroke:#009af9; stroke-width:12; stroke-opacity:1; fill:none\" points=\"\n",
       "  1987.5,767.359 1986.05,721.687 1981.7,676.198 1974.48,631.077 1964.42,586.504 1951.54,542.659 1935.91,499.72 1917.59,457.858 1896.65,417.242 1873.18,378.036 \n",
       "  1847.27,340.397 1819.02,304.478 1788.55,270.423 1755.99,238.369 1721.45,208.444 1685.09,180.771 1647.05,155.459 1607.47,132.611 1566.53,112.319 1524.38,94.6652 \n",
       "  1481.2,79.7197 1437.16,67.543 1392.43,58.1843 1347.2,51.6811 1301.65,48.0597 1255.96,47.3347 1210.31,49.509 1164.9,54.5738 1119.9,62.5088 1075.49,73.2819 \n",
       "  1031.86,86.8498 989.169,103.158 947.603,122.141 907.324,143.721 868.496,167.813 831.273,194.319 795.807,223.133 762.239,254.137 730.706,287.209 701.333,322.214 \n",
       "  674.24,359.011 649.535,397.452 627.318,437.383 607.678,478.643 590.695,521.065 576.436,564.479 564.96,608.71 556.312,653.58 550.527,698.908 547.629,744.512 \n",
       "  547.629,790.207 550.527,835.811 556.312,881.139 564.96,926.008 576.436,970.239 590.695,1013.65 607.678,1056.08 627.318,1097.34 649.535,1137.27 674.24,1175.71 \n",
       "  701.333,1212.51 730.706,1247.51 762.239,1280.58 795.807,1311.59 831.273,1340.4 868.496,1366.91 907.324,1391 947.603,1412.58 989.169,1431.56 1031.86,1447.87 \n",
       "  1075.49,1461.44 1119.9,1472.21 1164.9,1480.14 1210.31,1485.21 1255.96,1487.38 1301.65,1486.66 1347.2,1483.04 1392.43,1476.53 1437.16,1467.18 1481.2,1455 \n",
       "  1524.38,1440.05 1566.53,1422.4 1607.47,1402.11 1647.05,1379.26 1685.09,1353.95 1721.45,1326.27 1755.99,1296.35 1788.55,1264.3 1819.02,1230.24 1847.27,1194.32 \n",
       "  1873.18,1156.68 1896.65,1117.48 1917.59,1076.86 1935.91,1035 1951.54,992.059 1964.42,948.215 1974.48,903.642 1981.7,858.521 1986.05,813.032 1987.5,767.359 \n",
       "  \n",
       "  \"/>\n",
       "<circle clip-path=\"url(#clip6602)\" style=\"fill:#000000; stroke:none; fill-opacity:1\" cx=\"1122.17\" cy=\"1176.63\" r=\"12\"/>\n",
       "<circle clip-path=\"url(#clip6602)\" style=\"fill:#000000; stroke:none; fill-opacity:1\" cx=\"1122.17\" cy=\"1176.63\" r=\"9\"/>\n",
       "<circle clip-path=\"url(#clip6602)\" style=\"fill:#000000; stroke:none; fill-opacity:1\" cx=\"983.697\" cy=\"341.756\" r=\"12\"/>\n",
       "<circle clip-path=\"url(#clip6602)\" style=\"fill:#000000; stroke:none; fill-opacity:1\" cx=\"983.697\" cy=\"341.756\" r=\"9\"/>\n",
       "<circle clip-path=\"url(#clip6602)\" style=\"fill:#000000; stroke:none; fill-opacity:1\" cx=\"1315.18\" cy=\"276.519\" r=\"12\"/>\n",
       "<circle clip-path=\"url(#clip6602)\" style=\"fill:#000000; stroke:none; fill-opacity:1\" cx=\"1315.18\" cy=\"276.519\" r=\"9\"/>\n",
       "<circle clip-path=\"url(#clip6602)\" style=\"fill:#000000; stroke:none; fill-opacity:1\" cx=\"1338.23\" cy=\"1396.37\" r=\"12\"/>\n",
       "<circle clip-path=\"url(#clip6602)\" style=\"fill:#000000; stroke:none; fill-opacity:1\" cx=\"1338.23\" cy=\"1396.37\" r=\"9\"/>\n",
       "<circle clip-path=\"url(#clip6602)\" style=\"fill:#000000; stroke:none; fill-opacity:1\" cx=\"691.174\" cy=\"75.8256\" r=\"12\"/>\n",
       "<circle clip-path=\"url(#clip6602)\" style=\"fill:#000000; stroke:none; fill-opacity:1\" cx=\"691.174\" cy=\"75.8256\" r=\"9\"/>\n",
       "<circle clip-path=\"url(#clip6602)\" style=\"fill:#000000; stroke:none; fill-opacity:1\" cx=\"1022.75\" cy=\"952.175\" r=\"12\"/>\n",
       "<circle clip-path=\"url(#clip6602)\" style=\"fill:#000000; stroke:none; fill-opacity:1\" cx=\"1022.75\" cy=\"952.175\" r=\"9\"/>\n",
       "<circle clip-path=\"url(#clip6602)\" style=\"fill:#000000; stroke:none; fill-opacity:1\" cx=\"1073.13\" cy=\"1057.53\" r=\"12\"/>\n",
       "<circle clip-path=\"url(#clip6602)\" style=\"fill:#000000; stroke:none; fill-opacity:1\" cx=\"1073.13\" cy=\"1057.53\" r=\"9\"/>\n",
       "<circle clip-path=\"url(#clip6602)\" style=\"fill:#000000; stroke:none; fill-opacity:1\" cx=\"1366.75\" cy=\"225.248\" r=\"12\"/>\n",
       "<circle clip-path=\"url(#clip6602)\" style=\"fill:#000000; stroke:none; fill-opacity:1\" cx=\"1366.75\" cy=\"225.248\" r=\"9\"/>\n",
       "<circle clip-path=\"url(#clip6602)\" style=\"fill:#000000; stroke:none; fill-opacity:1\" cx=\"1277.22\" cy=\"1278.56\" r=\"12\"/>\n",
       "<circle clip-path=\"url(#clip6602)\" style=\"fill:#000000; stroke:none; fill-opacity:1\" cx=\"1277.22\" cy=\"1278.56\" r=\"9\"/>\n",
       "<circle clip-path=\"url(#clip6602)\" style=\"fill:#000000; stroke:none; fill-opacity:1\" cx=\"1292.62\" cy=\"1204.95\" r=\"12\"/>\n",
       "<circle clip-path=\"url(#clip6602)\" style=\"fill:#000000; stroke:none; fill-opacity:1\" cx=\"1292.62\" cy=\"1204.95\" r=\"9\"/>\n",
       "<circle clip-path=\"url(#clip6602)\" style=\"fill:#000000; stroke:none; fill-opacity:1\" cx=\"1660.24\" cy=\"1158.94\" r=\"12\"/>\n",
       "<circle clip-path=\"url(#clip6602)\" style=\"fill:#000000; stroke:none; fill-opacity:1\" cx=\"1660.24\" cy=\"1158.94\" r=\"9\"/>\n",
       "<circle clip-path=\"url(#clip6602)\" style=\"fill:#000000; stroke:none; fill-opacity:1\" cx=\"954.816\" cy=\"1021.54\" r=\"12\"/>\n",
       "<circle clip-path=\"url(#clip6602)\" style=\"fill:#000000; stroke:none; fill-opacity:1\" cx=\"954.816\" cy=\"1021.54\" r=\"9\"/>\n",
       "<circle clip-path=\"url(#clip6602)\" style=\"fill:#000000; stroke:none; fill-opacity:1\" cx=\"738.791\" cy=\"1102.43\" r=\"12\"/>\n",
       "<circle clip-path=\"url(#clip6602)\" style=\"fill:#000000; stroke:none; fill-opacity:1\" cx=\"738.791\" cy=\"1102.43\" r=\"9\"/>\n",
       "<circle clip-path=\"url(#clip6602)\" style=\"fill:#000000; stroke:none; fill-opacity:1\" cx=\"723.039\" cy=\"1193.5\" r=\"12\"/>\n",
       "<circle clip-path=\"url(#clip6602)\" style=\"fill:#000000; stroke:none; fill-opacity:1\" cx=\"723.039\" cy=\"1193.5\" r=\"9\"/>\n",
       "<circle clip-path=\"url(#clip6602)\" style=\"fill:#000000; stroke:none; fill-opacity:1\" cx=\"1586.93\" cy=\"1423.68\" r=\"12\"/>\n",
       "<circle clip-path=\"url(#clip6602)\" style=\"fill:#000000; stroke:none; fill-opacity:1\" cx=\"1586.93\" cy=\"1423.68\" r=\"9\"/>\n",
       "<circle clip-path=\"url(#clip6602)\" style=\"fill:#000000; stroke:none; fill-opacity:1\" cx=\"1670.42\" cy=\"598.554\" r=\"12\"/>\n",
       "<circle clip-path=\"url(#clip6602)\" style=\"fill:#000000; stroke:none; fill-opacity:1\" cx=\"1670.42\" cy=\"598.554\" r=\"9\"/>\n",
       "<circle clip-path=\"url(#clip6602)\" style=\"fill:#000000; stroke:none; fill-opacity:1\" cx=\"1452.52\" cy=\"792.116\" r=\"12\"/>\n",
       "<circle clip-path=\"url(#clip6602)\" style=\"fill:#000000; stroke:none; fill-opacity:1\" cx=\"1452.52\" cy=\"792.116\" r=\"9\"/>\n",
       "<circle clip-path=\"url(#clip6602)\" style=\"fill:#000000; stroke:none; fill-opacity:1\" cx=\"1463.79\" cy=\"164.88\" r=\"12\"/>\n",
       "<circle clip-path=\"url(#clip6602)\" style=\"fill:#000000; stroke:none; fill-opacity:1\" cx=\"1463.79\" cy=\"164.88\" r=\"9\"/>\n",
       "<circle clip-path=\"url(#clip6602)\" style=\"fill:#000000; stroke:none; fill-opacity:1\" cx=\"1360.25\" cy=\"237.302\" r=\"12\"/>\n",
       "<circle clip-path=\"url(#clip6602)\" style=\"fill:#000000; stroke:none; fill-opacity:1\" cx=\"1360.25\" cy=\"237.302\" r=\"9\"/>\n",
       "<circle clip-path=\"url(#clip6602)\" style=\"fill:#000000; stroke:none; fill-opacity:1\" cx=\"961.103\" cy=\"1290.09\" r=\"12\"/>\n",
       "<circle clip-path=\"url(#clip6602)\" style=\"fill:#000000; stroke:none; fill-opacity:1\" cx=\"961.103\" cy=\"1290.09\" r=\"9\"/>\n",
       "<circle clip-path=\"url(#clip6602)\" style=\"fill:#000000; stroke:none; fill-opacity:1\" cx=\"1052.45\" cy=\"250.811\" r=\"12\"/>\n",
       "<circle clip-path=\"url(#clip6602)\" style=\"fill:#000000; stroke:none; fill-opacity:1\" cx=\"1052.45\" cy=\"250.811\" r=\"9\"/>\n",
       "<circle clip-path=\"url(#clip6602)\" style=\"fill:#000000; stroke:none; fill-opacity:1\" cx=\"1635.67\" cy=\"962.782\" r=\"12\"/>\n",
       "<circle clip-path=\"url(#clip6602)\" style=\"fill:#000000; stroke:none; fill-opacity:1\" cx=\"1635.67\" cy=\"962.782\" r=\"9\"/>\n",
       "<circle clip-path=\"url(#clip6602)\" style=\"fill:#000000; stroke:none; fill-opacity:1\" cx=\"1419.98\" cy=\"1178.79\" r=\"12\"/>\n",
       "<circle clip-path=\"url(#clip6602)\" style=\"fill:#000000; stroke:none; fill-opacity:1\" cx=\"1419.98\" cy=\"1178.79\" r=\"9\"/>\n",
       "<circle clip-path=\"url(#clip6602)\" style=\"fill:#000000; stroke:none; fill-opacity:1\" cx=\"580.516\" cy=\"636.709\" r=\"12\"/>\n",
       "<circle clip-path=\"url(#clip6602)\" style=\"fill:#000000; stroke:none; fill-opacity:1\" cx=\"580.516\" cy=\"636.709\" r=\"9\"/>\n",
       "<circle clip-path=\"url(#clip6602)\" style=\"fill:#000000; stroke:none; fill-opacity:1\" cx=\"818.182\" cy=\"714.264\" r=\"12\"/>\n",
       "<circle clip-path=\"url(#clip6602)\" style=\"fill:#000000; stroke:none; fill-opacity:1\" cx=\"818.182\" cy=\"714.264\" r=\"9\"/>\n",
       "<circle clip-path=\"url(#clip6602)\" style=\"fill:#000000; stroke:none; fill-opacity:1\" cx=\"1859.32\" cy=\"1121.71\" r=\"12\"/>\n",
       "<circle clip-path=\"url(#clip6602)\" style=\"fill:#000000; stroke:none; fill-opacity:1\" cx=\"1859.32\" cy=\"1121.71\" r=\"9\"/>\n",
       "<circle clip-path=\"url(#clip6602)\" style=\"fill:#000000; stroke:none; fill-opacity:1\" cx=\"1317.07\" cy=\"702.04\" r=\"12\"/>\n",
       "<circle clip-path=\"url(#clip6602)\" style=\"fill:#000000; stroke:none; fill-opacity:1\" cx=\"1317.07\" cy=\"702.04\" r=\"9\"/>\n",
       "<circle clip-path=\"url(#clip6602)\" style=\"fill:#000000; stroke:none; fill-opacity:1\" cx=\"1412.47\" cy=\"1326.99\" r=\"12\"/>\n",
       "<circle clip-path=\"url(#clip6602)\" style=\"fill:#000000; stroke:none; fill-opacity:1\" cx=\"1412.47\" cy=\"1326.99\" r=\"9\"/>\n",
       "<circle clip-path=\"url(#clip6602)\" style=\"fill:#000000; stroke:none; fill-opacity:1\" cx=\"1260.2\" cy=\"808.191\" r=\"12\"/>\n",
       "<circle clip-path=\"url(#clip6602)\" style=\"fill:#000000; stroke:none; fill-opacity:1\" cx=\"1260.2\" cy=\"808.191\" r=\"9\"/>\n",
       "<circle clip-path=\"url(#clip6602)\" style=\"fill:#000000; stroke:none; fill-opacity:1\" cx=\"1248.63\" cy=\"828.605\" r=\"12\"/>\n",
       "<circle clip-path=\"url(#clip6602)\" style=\"fill:#000000; stroke:none; fill-opacity:1\" cx=\"1248.63\" cy=\"828.605\" r=\"9\"/>\n",
       "<circle clip-path=\"url(#clip6602)\" style=\"fill:#000000; stroke:none; fill-opacity:1\" cx=\"765.068\" cy=\"90.7432\" r=\"12\"/>\n",
       "<circle clip-path=\"url(#clip6602)\" style=\"fill:#000000; stroke:none; fill-opacity:1\" cx=\"765.068\" cy=\"90.7432\" r=\"9\"/>\n",
       "<circle clip-path=\"url(#clip6602)\" style=\"fill:#000000; stroke:none; fill-opacity:1\" cx=\"1268.44\" cy=\"276.468\" r=\"12\"/>\n",
       "<circle clip-path=\"url(#clip6602)\" style=\"fill:#000000; stroke:none; fill-opacity:1\" cx=\"1268.44\" cy=\"276.468\" r=\"9\"/>\n",
       "<circle clip-path=\"url(#clip6602)\" style=\"fill:#000000; stroke:none; fill-opacity:1\" cx=\"1550.51\" cy=\"658.24\" r=\"12\"/>\n",
       "<circle clip-path=\"url(#clip6602)\" style=\"fill:#000000; stroke:none; fill-opacity:1\" cx=\"1550.51\" cy=\"658.24\" r=\"9\"/>\n",
       "<circle clip-path=\"url(#clip6602)\" style=\"fill:#000000; stroke:none; fill-opacity:1\" cx=\"1718.27\" cy=\"903.069\" r=\"12\"/>\n",
       "<circle clip-path=\"url(#clip6602)\" style=\"fill:#000000; stroke:none; fill-opacity:1\" cx=\"1718.27\" cy=\"903.069\" r=\"9\"/>\n",
       "<circle clip-path=\"url(#clip6602)\" style=\"fill:#000000; stroke:none; fill-opacity:1\" cx=\"1088.79\" cy=\"868.482\" r=\"12\"/>\n",
       "<circle clip-path=\"url(#clip6602)\" style=\"fill:#000000; stroke:none; fill-opacity:1\" cx=\"1088.79\" cy=\"868.482\" r=\"9\"/>\n",
       "<circle clip-path=\"url(#clip6602)\" style=\"fill:#000000; stroke:none; fill-opacity:1\" cx=\"1821.09\" cy=\"474.032\" r=\"12\"/>\n",
       "<circle clip-path=\"url(#clip6602)\" style=\"fill:#000000; stroke:none; fill-opacity:1\" cx=\"1821.09\" cy=\"474.032\" r=\"9\"/>\n",
       "<circle clip-path=\"url(#clip6602)\" style=\"fill:#000000; stroke:none; fill-opacity:1\" cx=\"1925.77\" cy=\"488.029\" r=\"12\"/>\n",
       "<circle clip-path=\"url(#clip6602)\" style=\"fill:#000000; stroke:none; fill-opacity:1\" cx=\"1925.77\" cy=\"488.029\" r=\"9\"/>\n",
       "<circle clip-path=\"url(#clip6602)\" style=\"fill:#000000; stroke:none; fill-opacity:1\" cx=\"1325.04\" cy=\"540.294\" r=\"12\"/>\n",
       "<circle clip-path=\"url(#clip6602)\" style=\"fill:#000000; stroke:none; fill-opacity:1\" cx=\"1325.04\" cy=\"540.294\" r=\"9\"/>\n",
       "<circle clip-path=\"url(#clip6602)\" style=\"fill:#000000; stroke:none; fill-opacity:1\" cx=\"1559.03\" cy=\"461.802\" r=\"12\"/>\n",
       "<circle clip-path=\"url(#clip6602)\" style=\"fill:#000000; stroke:none; fill-opacity:1\" cx=\"1559.03\" cy=\"461.802\" r=\"9\"/>\n",
       "<circle clip-path=\"url(#clip6602)\" style=\"fill:#000000; stroke:none; fill-opacity:1\" cx=\"1267.35\" cy=\"229.509\" r=\"12\"/>\n",
       "<circle clip-path=\"url(#clip6602)\" style=\"fill:#000000; stroke:none; fill-opacity:1\" cx=\"1267.35\" cy=\"229.509\" r=\"9\"/>\n",
       "<circle clip-path=\"url(#clip6602)\" style=\"fill:#000000; stroke:none; fill-opacity:1\" cx=\"1697.47\" cy=\"1252.58\" r=\"12\"/>\n",
       "<circle clip-path=\"url(#clip6602)\" style=\"fill:#000000; stroke:none; fill-opacity:1\" cx=\"1697.47\" cy=\"1252.58\" r=\"9\"/>\n",
       "<circle clip-path=\"url(#clip6602)\" style=\"fill:#000000; stroke:none; fill-opacity:1\" cx=\"958.772\" cy=\"1141.16\" r=\"12\"/>\n",
       "<circle clip-path=\"url(#clip6602)\" style=\"fill:#000000; stroke:none; fill-opacity:1\" cx=\"958.772\" cy=\"1141.16\" r=\"9\"/>\n",
       "<circle clip-path=\"url(#clip6602)\" style=\"fill:#000000; stroke:none; fill-opacity:1\" cx=\"1527.87\" cy=\"936.555\" r=\"12\"/>\n",
       "<circle clip-path=\"url(#clip6602)\" style=\"fill:#000000; stroke:none; fill-opacity:1\" cx=\"1527.87\" cy=\"936.555\" r=\"9\"/>\n",
       "<circle clip-path=\"url(#clip6602)\" style=\"fill:#000000; stroke:none; fill-opacity:1\" cx=\"1538.36\" cy=\"512.837\" r=\"12\"/>\n",
       "<circle clip-path=\"url(#clip6602)\" style=\"fill:#000000; stroke:none; fill-opacity:1\" cx=\"1538.36\" cy=\"512.837\" r=\"9\"/>\n",
       "<circle clip-path=\"url(#clip6602)\" style=\"fill:#000000; stroke:none; fill-opacity:1\" cx=\"1475.83\" cy=\"129.075\" r=\"12\"/>\n",
       "<circle clip-path=\"url(#clip6602)\" style=\"fill:#000000; stroke:none; fill-opacity:1\" cx=\"1475.83\" cy=\"129.075\" r=\"9\"/>\n",
       "<circle clip-path=\"url(#clip6602)\" style=\"fill:#000000; stroke:none; fill-opacity:1\" cx=\"1113.35\" cy=\"1142.94\" r=\"12\"/>\n",
       "<circle clip-path=\"url(#clip6602)\" style=\"fill:#000000; stroke:none; fill-opacity:1\" cx=\"1113.35\" cy=\"1142.94\" r=\"9\"/>\n",
       "<circle clip-path=\"url(#clip6602)\" style=\"fill:#000000; stroke:none; fill-opacity:1\" cx=\"1309.49\" cy=\"1343.98\" r=\"12\"/>\n",
       "<circle clip-path=\"url(#clip6602)\" style=\"fill:#000000; stroke:none; fill-opacity:1\" cx=\"1309.49\" cy=\"1343.98\" r=\"9\"/>\n",
       "<circle clip-path=\"url(#clip6602)\" style=\"fill:#000000; stroke:none; fill-opacity:1\" cx=\"1249.94\" cy=\"65.038\" r=\"12\"/>\n",
       "<circle clip-path=\"url(#clip6602)\" style=\"fill:#000000; stroke:none; fill-opacity:1\" cx=\"1249.94\" cy=\"65.038\" r=\"9\"/>\n",
       "<circle clip-path=\"url(#clip6602)\" style=\"fill:#000000; stroke:none; fill-opacity:1\" cx=\"1494.85\" cy=\"1092.41\" r=\"12\"/>\n",
       "<circle clip-path=\"url(#clip6602)\" style=\"fill:#000000; stroke:none; fill-opacity:1\" cx=\"1494.85\" cy=\"1092.41\" r=\"9\"/>\n",
       "<circle clip-path=\"url(#clip6602)\" style=\"fill:#000000; stroke:none; fill-opacity:1\" cx=\"1264.52\" cy=\"995.721\" r=\"12\"/>\n",
       "<circle clip-path=\"url(#clip6602)\" style=\"fill:#000000; stroke:none; fill-opacity:1\" cx=\"1264.52\" cy=\"995.721\" r=\"9\"/>\n",
       "<circle clip-path=\"url(#clip6602)\" style=\"fill:#000000; stroke:none; fill-opacity:1\" cx=\"1768.99\" cy=\"870.144\" r=\"12\"/>\n",
       "<circle clip-path=\"url(#clip6602)\" style=\"fill:#000000; stroke:none; fill-opacity:1\" cx=\"1768.99\" cy=\"870.144\" r=\"9\"/>\n",
       "<circle clip-path=\"url(#clip6602)\" style=\"fill:#000000; stroke:none; fill-opacity:1\" cx=\"1454.23\" cy=\"156.604\" r=\"12\"/>\n",
       "<circle clip-path=\"url(#clip6602)\" style=\"fill:#000000; stroke:none; fill-opacity:1\" cx=\"1454.23\" cy=\"156.604\" r=\"9\"/>\n",
       "<circle clip-path=\"url(#clip6602)\" style=\"fill:#000000; stroke:none; fill-opacity:1\" cx=\"651.469\" cy=\"535.495\" r=\"12\"/>\n",
       "<circle clip-path=\"url(#clip6602)\" style=\"fill:#000000; stroke:none; fill-opacity:1\" cx=\"651.469\" cy=\"535.495\" r=\"9\"/>\n",
       "<circle clip-path=\"url(#clip6602)\" style=\"fill:#000000; stroke:none; fill-opacity:1\" cx=\"756.296\" cy=\"484.184\" r=\"12\"/>\n",
       "<circle clip-path=\"url(#clip6602)\" style=\"fill:#000000; stroke:none; fill-opacity:1\" cx=\"756.296\" cy=\"484.184\" r=\"9\"/>\n",
       "<circle clip-path=\"url(#clip6602)\" style=\"fill:#000000; stroke:none; fill-opacity:1\" cx=\"1823.57\" cy=\"613.625\" r=\"12\"/>\n",
       "<circle clip-path=\"url(#clip6602)\" style=\"fill:#000000; stroke:none; fill-opacity:1\" cx=\"1823.57\" cy=\"613.625\" r=\"9\"/>\n",
       "<circle clip-path=\"url(#clip6602)\" style=\"fill:#000000; stroke:none; fill-opacity:1\" cx=\"1695.47\" cy=\"142.216\" r=\"12\"/>\n",
       "<circle clip-path=\"url(#clip6602)\" style=\"fill:#000000; stroke:none; fill-opacity:1\" cx=\"1695.47\" cy=\"142.216\" r=\"9\"/>\n",
       "<circle clip-path=\"url(#clip6602)\" style=\"fill:#000000; stroke:none; fill-opacity:1\" cx=\"844.645\" cy=\"1376.79\" r=\"12\"/>\n",
       "<circle clip-path=\"url(#clip6602)\" style=\"fill:#000000; stroke:none; fill-opacity:1\" cx=\"844.645\" cy=\"1376.79\" r=\"9\"/>\n",
       "<circle clip-path=\"url(#clip6602)\" style=\"fill:#000000; stroke:none; fill-opacity:1\" cx=\"1554.45\" cy=\"971.353\" r=\"12\"/>\n",
       "<circle clip-path=\"url(#clip6602)\" style=\"fill:#000000; stroke:none; fill-opacity:1\" cx=\"1554.45\" cy=\"971.353\" r=\"9\"/>\n",
       "<circle clip-path=\"url(#clip6602)\" style=\"fill:#000000; stroke:none; fill-opacity:1\" cx=\"1603.86\" cy=\"932.406\" r=\"12\"/>\n",
       "<circle clip-path=\"url(#clip6602)\" style=\"fill:#000000; stroke:none; fill-opacity:1\" cx=\"1603.86\" cy=\"932.406\" r=\"9\"/>\n",
       "<circle clip-path=\"url(#clip6602)\" style=\"fill:#000000; stroke:none; fill-opacity:1\" cx=\"1672.39\" cy=\"628.44\" r=\"12\"/>\n",
       "<circle clip-path=\"url(#clip6602)\" style=\"fill:#000000; stroke:none; fill-opacity:1\" cx=\"1672.39\" cy=\"628.44\" r=\"9\"/>\n",
       "<circle clip-path=\"url(#clip6602)\" style=\"fill:#000000; stroke:none; fill-opacity:1\" cx=\"609.114\" cy=\"1289.48\" r=\"12\"/>\n",
       "<circle clip-path=\"url(#clip6602)\" style=\"fill:#000000; stroke:none; fill-opacity:1\" cx=\"609.114\" cy=\"1289.48\" r=\"9\"/>\n",
       "<circle clip-path=\"url(#clip6602)\" style=\"fill:#000000; stroke:none; fill-opacity:1\" cx=\"1670.02\" cy=\"1108.55\" r=\"12\"/>\n",
       "<circle clip-path=\"url(#clip6602)\" style=\"fill:#000000; stroke:none; fill-opacity:1\" cx=\"1670.02\" cy=\"1108.55\" r=\"9\"/>\n",
       "<circle clip-path=\"url(#clip6602)\" style=\"fill:#000000; stroke:none; fill-opacity:1\" cx=\"850.857\" cy=\"656.757\" r=\"12\"/>\n",
       "<circle clip-path=\"url(#clip6602)\" style=\"fill:#000000; stroke:none; fill-opacity:1\" cx=\"850.857\" cy=\"656.757\" r=\"9\"/>\n",
       "<circle clip-path=\"url(#clip6602)\" style=\"fill:#000000; stroke:none; fill-opacity:1\" cx=\"556.409\" cy=\"370.627\" r=\"12\"/>\n",
       "<circle clip-path=\"url(#clip6602)\" style=\"fill:#000000; stroke:none; fill-opacity:1\" cx=\"556.409\" cy=\"370.627\" r=\"9\"/>\n",
       "<circle clip-path=\"url(#clip6602)\" style=\"fill:#000000; stroke:none; fill-opacity:1\" cx=\"1368.27\" cy=\"89.9042\" r=\"12\"/>\n",
       "<circle clip-path=\"url(#clip6602)\" style=\"fill:#000000; stroke:none; fill-opacity:1\" cx=\"1368.27\" cy=\"89.9042\" r=\"9\"/>\n",
       "<circle clip-path=\"url(#clip6602)\" style=\"fill:#000000; stroke:none; fill-opacity:1\" cx=\"1338.37\" cy=\"472.044\" r=\"12\"/>\n",
       "<circle clip-path=\"url(#clip6602)\" style=\"fill:#000000; stroke:none; fill-opacity:1\" cx=\"1338.37\" cy=\"472.044\" r=\"9\"/>\n",
       "<circle clip-path=\"url(#clip6602)\" style=\"fill:#000000; stroke:none; fill-opacity:1\" cx=\"1285.42\" cy=\"226.63\" r=\"12\"/>\n",
       "<circle clip-path=\"url(#clip6602)\" style=\"fill:#000000; stroke:none; fill-opacity:1\" cx=\"1285.42\" cy=\"226.63\" r=\"9\"/>\n",
       "<circle clip-path=\"url(#clip6602)\" style=\"fill:#000000; stroke:none; fill-opacity:1\" cx=\"622.909\" cy=\"78.4301\" r=\"12\"/>\n",
       "<circle clip-path=\"url(#clip6602)\" style=\"fill:#000000; stroke:none; fill-opacity:1\" cx=\"622.909\" cy=\"78.4301\" r=\"9\"/>\n",
       "<circle clip-path=\"url(#clip6602)\" style=\"fill:#000000; stroke:none; fill-opacity:1\" cx=\"1388.44\" cy=\"552.062\" r=\"12\"/>\n",
       "<circle clip-path=\"url(#clip6602)\" style=\"fill:#000000; stroke:none; fill-opacity:1\" cx=\"1388.44\" cy=\"552.062\" r=\"9\"/>\n",
       "<circle clip-path=\"url(#clip6602)\" style=\"fill:#000000; stroke:none; fill-opacity:1\" cx=\"1627.88\" cy=\"1248.01\" r=\"12\"/>\n",
       "<circle clip-path=\"url(#clip6602)\" style=\"fill:#000000; stroke:none; fill-opacity:1\" cx=\"1627.88\" cy=\"1248.01\" r=\"9\"/>\n",
       "<circle clip-path=\"url(#clip6602)\" style=\"fill:#000000; stroke:none; fill-opacity:1\" cx=\"1563\" cy=\"133.166\" r=\"12\"/>\n",
       "<circle clip-path=\"url(#clip6602)\" style=\"fill:#000000; stroke:none; fill-opacity:1\" cx=\"1563\" cy=\"133.166\" r=\"9\"/>\n",
       "<circle clip-path=\"url(#clip6602)\" style=\"fill:#000000; stroke:none; fill-opacity:1\" cx=\"1826.28\" cy=\"167.957\" r=\"12\"/>\n",
       "<circle clip-path=\"url(#clip6602)\" style=\"fill:#000000; stroke:none; fill-opacity:1\" cx=\"1826.28\" cy=\"167.957\" r=\"9\"/>\n",
       "<circle clip-path=\"url(#clip6602)\" style=\"fill:#000000; stroke:none; fill-opacity:1\" cx=\"1392.1\" cy=\"998.436\" r=\"12\"/>\n",
       "<circle clip-path=\"url(#clip6602)\" style=\"fill:#000000; stroke:none; fill-opacity:1\" cx=\"1392.1\" cy=\"998.436\" r=\"9\"/>\n",
       "<circle clip-path=\"url(#clip6602)\" style=\"fill:#000000; stroke:none; fill-opacity:1\" cx=\"1035.51\" cy=\"631.132\" r=\"12\"/>\n",
       "<circle clip-path=\"url(#clip6602)\" style=\"fill:#000000; stroke:none; fill-opacity:1\" cx=\"1035.51\" cy=\"631.132\" r=\"9\"/>\n",
       "<circle clip-path=\"url(#clip6602)\" style=\"fill:#000000; stroke:none; fill-opacity:1\" cx=\"1618.26\" cy=\"1458.02\" r=\"12\"/>\n",
       "<circle clip-path=\"url(#clip6602)\" style=\"fill:#000000; stroke:none; fill-opacity:1\" cx=\"1618.26\" cy=\"1458.02\" r=\"9\"/>\n",
       "<circle clip-path=\"url(#clip6602)\" style=\"fill:#000000; stroke:none; fill-opacity:1\" cx=\"1253.11\" cy=\"171.749\" r=\"12\"/>\n",
       "<circle clip-path=\"url(#clip6602)\" style=\"fill:#000000; stroke:none; fill-opacity:1\" cx=\"1253.11\" cy=\"171.749\" r=\"9\"/>\n",
       "<circle clip-path=\"url(#clip6602)\" style=\"fill:#000000; stroke:none; fill-opacity:1\" cx=\"1233.03\" cy=\"709.894\" r=\"12\"/>\n",
       "<circle clip-path=\"url(#clip6602)\" style=\"fill:#000000; stroke:none; fill-opacity:1\" cx=\"1233.03\" cy=\"709.894\" r=\"9\"/>\n",
       "<circle clip-path=\"url(#clip6602)\" style=\"fill:#000000; stroke:none; fill-opacity:1\" cx=\"1034.56\" cy=\"967.614\" r=\"12\"/>\n",
       "<circle clip-path=\"url(#clip6602)\" style=\"fill:#000000; stroke:none; fill-opacity:1\" cx=\"1034.56\" cy=\"967.614\" r=\"9\"/>\n",
       "<circle clip-path=\"url(#clip6602)\" style=\"fill:#000000; stroke:none; fill-opacity:1\" cx=\"1270.3\" cy=\"137.356\" r=\"12\"/>\n",
       "<circle clip-path=\"url(#clip6602)\" style=\"fill:#000000; stroke:none; fill-opacity:1\" cx=\"1270.3\" cy=\"137.356\" r=\"9\"/>\n",
       "<circle clip-path=\"url(#clip6602)\" style=\"fill:#000000; stroke:none; fill-opacity:1\" cx=\"1042.26\" cy=\"1378.87\" r=\"12\"/>\n",
       "<circle clip-path=\"url(#clip6602)\" style=\"fill:#000000; stroke:none; fill-opacity:1\" cx=\"1042.26\" cy=\"1378.87\" r=\"9\"/>\n",
       "<circle clip-path=\"url(#clip6602)\" style=\"fill:#000000; stroke:none; fill-opacity:1\" cx=\"1043.46\" cy=\"786.444\" r=\"12\"/>\n",
       "<circle clip-path=\"url(#clip6602)\" style=\"fill:#000000; stroke:none; fill-opacity:1\" cx=\"1043.46\" cy=\"786.444\" r=\"9\"/>\n",
       "<circle clip-path=\"url(#clip6602)\" style=\"fill:#000000; stroke:none; fill-opacity:1\" cx=\"1131.64\" cy=\"410.485\" r=\"12\"/>\n",
       "<circle clip-path=\"url(#clip6602)\" style=\"fill:#000000; stroke:none; fill-opacity:1\" cx=\"1131.64\" cy=\"410.485\" r=\"9\"/>\n",
       "<circle clip-path=\"url(#clip6602)\" style=\"fill:#000000; stroke:none; fill-opacity:1\" cx=\"1928.88\" cy=\"1209.13\" r=\"12\"/>\n",
       "<circle clip-path=\"url(#clip6602)\" style=\"fill:#000000; stroke:none; fill-opacity:1\" cx=\"1928.88\" cy=\"1209.13\" r=\"9\"/>\n",
       "<circle clip-path=\"url(#clip6602)\" style=\"fill:#000000; stroke:none; fill-opacity:1\" cx=\"1188.44\" cy=\"1414.75\" r=\"12\"/>\n",
       "<circle clip-path=\"url(#clip6602)\" style=\"fill:#000000; stroke:none; fill-opacity:1\" cx=\"1188.44\" cy=\"1414.75\" r=\"9\"/>\n",
       "<circle clip-path=\"url(#clip6602)\" style=\"fill:#000000; stroke:none; fill-opacity:1\" cx=\"931.201\" cy=\"292.257\" r=\"12\"/>\n",
       "<circle clip-path=\"url(#clip6602)\" style=\"fill:#000000; stroke:none; fill-opacity:1\" cx=\"931.201\" cy=\"292.257\" r=\"9\"/>\n",
       "<circle clip-path=\"url(#clip6602)\" style=\"fill:#000000; stroke:none; fill-opacity:1\" cx=\"1345.77\" cy=\"1206.34\" r=\"12\"/>\n",
       "<circle clip-path=\"url(#clip6602)\" style=\"fill:#000000; stroke:none; fill-opacity:1\" cx=\"1345.77\" cy=\"1206.34\" r=\"9\"/>\n",
       "<circle clip-path=\"url(#clip6602)\" style=\"fill:#000000; stroke:none; fill-opacity:1\" cx=\"782.791\" cy=\"123.343\" r=\"12\"/>\n",
       "<circle clip-path=\"url(#clip6602)\" style=\"fill:#000000; stroke:none; fill-opacity:1\" cx=\"782.791\" cy=\"123.343\" r=\"9\"/>\n",
       "<circle clip-path=\"url(#clip6602)\" style=\"fill:#000000; stroke:none; fill-opacity:1\" cx=\"1239.36\" cy=\"1430.96\" r=\"12\"/>\n",
       "<circle clip-path=\"url(#clip6602)\" style=\"fill:#000000; stroke:none; fill-opacity:1\" cx=\"1239.36\" cy=\"1430.96\" r=\"9\"/>\n",
       "<circle clip-path=\"url(#clip6602)\" style=\"fill:#000000; stroke:none; fill-opacity:1\" cx=\"667.793\" cy=\"898.85\" r=\"12\"/>\n",
       "<circle clip-path=\"url(#clip6602)\" style=\"fill:#000000; stroke:none; fill-opacity:1\" cx=\"667.793\" cy=\"898.85\" r=\"9\"/>\n",
       "<circle clip-path=\"url(#clip6602)\" style=\"fill:#000000; stroke:none; fill-opacity:1\" cx=\"1547\" cy=\"498.945\" r=\"12\"/>\n",
       "<circle clip-path=\"url(#clip6602)\" style=\"fill:#000000; stroke:none; fill-opacity:1\" cx=\"1547\" cy=\"498.945\" r=\"9\"/>\n",
       "<circle clip-path=\"url(#clip6602)\" style=\"fill:#000000; stroke:none; fill-opacity:1\" cx=\"790.72\" cy=\"308.954\" r=\"12\"/>\n",
       "<circle clip-path=\"url(#clip6602)\" style=\"fill:#000000; stroke:none; fill-opacity:1\" cx=\"790.72\" cy=\"308.954\" r=\"9\"/>\n",
       "<circle clip-path=\"url(#clip6602)\" style=\"fill:#000000; stroke:none; fill-opacity:1\" cx=\"656.59\" cy=\"569.75\" r=\"12\"/>\n",
       "<circle clip-path=\"url(#clip6602)\" style=\"fill:#000000; stroke:none; fill-opacity:1\" cx=\"656.59\" cy=\"569.75\" r=\"9\"/>\n",
       "<circle clip-path=\"url(#clip6602)\" style=\"fill:#000000; stroke:none; fill-opacity:1\" cx=\"948.073\" cy=\"1122.66\" r=\"12\"/>\n",
       "<circle clip-path=\"url(#clip6602)\" style=\"fill:#000000; stroke:none; fill-opacity:1\" cx=\"948.073\" cy=\"1122.66\" r=\"9\"/>\n",
       "<circle clip-path=\"url(#clip6602)\" style=\"fill:#000000; stroke:none; fill-opacity:1\" cx=\"626.047\" cy=\"855.167\" r=\"12\"/>\n",
       "<circle clip-path=\"url(#clip6602)\" style=\"fill:#000000; stroke:none; fill-opacity:1\" cx=\"626.047\" cy=\"855.167\" r=\"9\"/>\n",
       "<circle clip-path=\"url(#clip6602)\" style=\"fill:#000000; stroke:none; fill-opacity:1\" cx=\"666.606\" cy=\"1091.15\" r=\"12\"/>\n",
       "<circle clip-path=\"url(#clip6602)\" style=\"fill:#000000; stroke:none; fill-opacity:1\" cx=\"666.606\" cy=\"1091.15\" r=\"9\"/>\n",
       "<circle clip-path=\"url(#clip6602)\" style=\"fill:#000000; stroke:none; fill-opacity:1\" cx=\"1352.18\" cy=\"1131.85\" r=\"12\"/>\n",
       "<circle clip-path=\"url(#clip6602)\" style=\"fill:#000000; stroke:none; fill-opacity:1\" cx=\"1352.18\" cy=\"1131.85\" r=\"9\"/>\n",
       "<circle clip-path=\"url(#clip6602)\" style=\"fill:#000000; stroke:none; fill-opacity:1\" cx=\"1141.02\" cy=\"1473.93\" r=\"12\"/>\n",
       "<circle clip-path=\"url(#clip6602)\" style=\"fill:#000000; stroke:none; fill-opacity:1\" cx=\"1141.02\" cy=\"1473.93\" r=\"9\"/>\n",
       "<circle clip-path=\"url(#clip6602)\" style=\"fill:#000000; stroke:none; fill-opacity:1\" cx=\"1383.48\" cy=\"274.476\" r=\"12\"/>\n",
       "<circle clip-path=\"url(#clip6602)\" style=\"fill:#000000; stroke:none; fill-opacity:1\" cx=\"1383.48\" cy=\"274.476\" r=\"9\"/>\n",
       "<circle clip-path=\"url(#clip6602)\" style=\"fill:#000000; stroke:none; fill-opacity:1\" cx=\"1711.02\" cy=\"418.859\" r=\"12\"/>\n",
       "<circle clip-path=\"url(#clip6602)\" style=\"fill:#000000; stroke:none; fill-opacity:1\" cx=\"1711.02\" cy=\"418.859\" r=\"9\"/>\n",
       "<circle clip-path=\"url(#clip6602)\" style=\"fill:#000000; stroke:none; fill-opacity:1\" cx=\"804.1\" cy=\"132.966\" r=\"12\"/>\n",
       "<circle clip-path=\"url(#clip6602)\" style=\"fill:#000000; stroke:none; fill-opacity:1\" cx=\"804.1\" cy=\"132.966\" r=\"9\"/>\n",
       "<circle clip-path=\"url(#clip6602)\" style=\"fill:#000000; stroke:none; fill-opacity:1\" cx=\"1744.91\" cy=\"916.205\" r=\"12\"/>\n",
       "<circle clip-path=\"url(#clip6602)\" style=\"fill:#000000; stroke:none; fill-opacity:1\" cx=\"1744.91\" cy=\"916.205\" r=\"9\"/>\n",
       "<circle clip-path=\"url(#clip6602)\" style=\"fill:#000000; stroke:none; fill-opacity:1\" cx=\"1617.77\" cy=\"1051.99\" r=\"12\"/>\n",
       "<circle clip-path=\"url(#clip6602)\" style=\"fill:#000000; stroke:none; fill-opacity:1\" cx=\"1617.77\" cy=\"1051.99\" r=\"9\"/>\n",
       "<circle clip-path=\"url(#clip6602)\" style=\"fill:#000000; stroke:none; fill-opacity:1\" cx=\"933.471\" cy=\"946.941\" r=\"12\"/>\n",
       "<circle clip-path=\"url(#clip6602)\" style=\"fill:#000000; stroke:none; fill-opacity:1\" cx=\"933.471\" cy=\"946.941\" r=\"9\"/>\n",
       "<circle clip-path=\"url(#clip6602)\" style=\"fill:#000000; stroke:none; fill-opacity:1\" cx=\"570.782\" cy=\"824.644\" r=\"12\"/>\n",
       "<circle clip-path=\"url(#clip6602)\" style=\"fill:#000000; stroke:none; fill-opacity:1\" cx=\"570.782\" cy=\"824.644\" r=\"9\"/>\n",
       "<circle clip-path=\"url(#clip6602)\" style=\"fill:#000000; stroke:none; fill-opacity:1\" cx=\"1404.43\" cy=\"1321.59\" r=\"12\"/>\n",
       "<circle clip-path=\"url(#clip6602)\" style=\"fill:#000000; stroke:none; fill-opacity:1\" cx=\"1404.43\" cy=\"1321.59\" r=\"9\"/>\n",
       "<circle clip-path=\"url(#clip6602)\" style=\"fill:#000000; stroke:none; fill-opacity:1\" cx=\"1890.24\" cy=\"713.302\" r=\"12\"/>\n",
       "<circle clip-path=\"url(#clip6602)\" style=\"fill:#000000; stroke:none; fill-opacity:1\" cx=\"1890.24\" cy=\"713.302\" r=\"9\"/>\n",
       "<circle clip-path=\"url(#clip6602)\" style=\"fill:#000000; stroke:none; fill-opacity:1\" cx=\"1532.83\" cy=\"1242.83\" r=\"12\"/>\n",
       "<circle clip-path=\"url(#clip6602)\" style=\"fill:#000000; stroke:none; fill-opacity:1\" cx=\"1532.83\" cy=\"1242.83\" r=\"9\"/>\n",
       "<circle clip-path=\"url(#clip6602)\" style=\"fill:#000000; stroke:none; fill-opacity:1\" cx=\"1056.54\" cy=\"1154.89\" r=\"12\"/>\n",
       "<circle clip-path=\"url(#clip6602)\" style=\"fill:#000000; stroke:none; fill-opacity:1\" cx=\"1056.54\" cy=\"1154.89\" r=\"9\"/>\n",
       "<circle clip-path=\"url(#clip6602)\" style=\"fill:#000000; stroke:none; fill-opacity:1\" cx=\"975.768\" cy=\"165.484\" r=\"12\"/>\n",
       "<circle clip-path=\"url(#clip6602)\" style=\"fill:#000000; stroke:none; fill-opacity:1\" cx=\"975.768\" cy=\"165.484\" r=\"9\"/>\n",
       "<circle clip-path=\"url(#clip6602)\" style=\"fill:#000000; stroke:none; fill-opacity:1\" cx=\"1028.53\" cy=\"484.72\" r=\"12\"/>\n",
       "<circle clip-path=\"url(#clip6602)\" style=\"fill:#000000; stroke:none; fill-opacity:1\" cx=\"1028.53\" cy=\"484.72\" r=\"9\"/>\n",
       "<circle clip-path=\"url(#clip6602)\" style=\"fill:#000000; stroke:none; fill-opacity:1\" cx=\"1519.31\" cy=\"1191.75\" r=\"12\"/>\n",
       "<circle clip-path=\"url(#clip6602)\" style=\"fill:#000000; stroke:none; fill-opacity:1\" cx=\"1519.31\" cy=\"1191.75\" r=\"9\"/>\n",
       "<circle clip-path=\"url(#clip6602)\" style=\"fill:#000000; stroke:none; fill-opacity:1\" cx=\"1746.83\" cy=\"556.784\" r=\"12\"/>\n",
       "<circle clip-path=\"url(#clip6602)\" style=\"fill:#000000; stroke:none; fill-opacity:1\" cx=\"1746.83\" cy=\"556.784\" r=\"9\"/>\n",
       "<circle clip-path=\"url(#clip6602)\" style=\"fill:#000000; stroke:none; fill-opacity:1\" cx=\"782.159\" cy=\"829.289\" r=\"12\"/>\n",
       "<circle clip-path=\"url(#clip6602)\" style=\"fill:#000000; stroke:none; fill-opacity:1\" cx=\"782.159\" cy=\"829.289\" r=\"9\"/>\n",
       "<circle clip-path=\"url(#clip6602)\" style=\"fill:#000000; stroke:none; fill-opacity:1\" cx=\"771.413\" cy=\"50.2546\" r=\"12\"/>\n",
       "<circle clip-path=\"url(#clip6602)\" style=\"fill:#000000; stroke:none; fill-opacity:1\" cx=\"771.413\" cy=\"50.2546\" r=\"9\"/>\n",
       "<circle clip-path=\"url(#clip6602)\" style=\"fill:#000000; stroke:none; fill-opacity:1\" cx=\"1796.34\" cy=\"443.628\" r=\"12\"/>\n",
       "<circle clip-path=\"url(#clip6602)\" style=\"fill:#000000; stroke:none; fill-opacity:1\" cx=\"1796.34\" cy=\"443.628\" r=\"9\"/>\n",
       "<circle clip-path=\"url(#clip6602)\" style=\"fill:#000000; stroke:none; fill-opacity:1\" cx=\"1825.26\" cy=\"88.8933\" r=\"12\"/>\n",
       "<circle clip-path=\"url(#clip6602)\" style=\"fill:#000000; stroke:none; fill-opacity:1\" cx=\"1825.26\" cy=\"88.8933\" r=\"9\"/>\n",
       "<circle clip-path=\"url(#clip6602)\" style=\"fill:#000000; stroke:none; fill-opacity:1\" cx=\"1322.61\" cy=\"1393.17\" r=\"12\"/>\n",
       "<circle clip-path=\"url(#clip6602)\" style=\"fill:#000000; stroke:none; fill-opacity:1\" cx=\"1322.61\" cy=\"1393.17\" r=\"9\"/>\n",
       "<circle clip-path=\"url(#clip6602)\" style=\"fill:#000000; stroke:none; fill-opacity:1\" cx=\"627.429\" cy=\"448.277\" r=\"12\"/>\n",
       "<circle clip-path=\"url(#clip6602)\" style=\"fill:#000000; stroke:none; fill-opacity:1\" cx=\"627.429\" cy=\"448.277\" r=\"9\"/>\n",
       "<circle clip-path=\"url(#clip6602)\" style=\"fill:#000000; stroke:none; fill-opacity:1\" cx=\"1731.14\" cy=\"439.488\" r=\"12\"/>\n",
       "<circle clip-path=\"url(#clip6602)\" style=\"fill:#000000; stroke:none; fill-opacity:1\" cx=\"1731.14\" cy=\"439.488\" r=\"9\"/>\n",
       "<circle clip-path=\"url(#clip6602)\" style=\"fill:#000000; stroke:none; fill-opacity:1\" cx=\"1665.76\" cy=\"616.055\" r=\"12\"/>\n",
       "<circle clip-path=\"url(#clip6602)\" style=\"fill:#000000; stroke:none; fill-opacity:1\" cx=\"1665.76\" cy=\"616.055\" r=\"9\"/>\n",
       "<circle clip-path=\"url(#clip6602)\" style=\"fill:#000000; stroke:none; fill-opacity:1\" cx=\"1870.46\" cy=\"438.2\" r=\"12\"/>\n",
       "<circle clip-path=\"url(#clip6602)\" style=\"fill:#000000; stroke:none; fill-opacity:1\" cx=\"1870.46\" cy=\"438.2\" r=\"9\"/>\n",
       "<circle clip-path=\"url(#clip6602)\" style=\"fill:#000000; stroke:none; fill-opacity:1\" cx=\"774.518\" cy=\"1253.62\" r=\"12\"/>\n",
       "<circle clip-path=\"url(#clip6602)\" style=\"fill:#000000; stroke:none; fill-opacity:1\" cx=\"774.518\" cy=\"1253.62\" r=\"9\"/>\n",
       "<circle clip-path=\"url(#clip6602)\" style=\"fill:#000000; stroke:none; fill-opacity:1\" cx=\"818.992\" cy=\"636.852\" r=\"12\"/>\n",
       "<circle clip-path=\"url(#clip6602)\" style=\"fill:#000000; stroke:none; fill-opacity:1\" cx=\"818.992\" cy=\"636.852\" r=\"9\"/>\n",
       "<circle clip-path=\"url(#clip6602)\" style=\"fill:#000000; stroke:none; fill-opacity:1\" cx=\"1457.62\" cy=\"357.188\" r=\"12\"/>\n",
       "<circle clip-path=\"url(#clip6602)\" style=\"fill:#000000; stroke:none; fill-opacity:1\" cx=\"1457.62\" cy=\"357.188\" r=\"9\"/>\n",
       "<circle clip-path=\"url(#clip6602)\" style=\"fill:#000000; stroke:none; fill-opacity:1\" cx=\"1416.73\" cy=\"1462.26\" r=\"12\"/>\n",
       "<circle clip-path=\"url(#clip6602)\" style=\"fill:#000000; stroke:none; fill-opacity:1\" cx=\"1416.73\" cy=\"1462.26\" r=\"9\"/>\n",
       "<circle clip-path=\"url(#clip6602)\" style=\"fill:#000000; stroke:none; fill-opacity:1\" cx=\"833.604\" cy=\"377.178\" r=\"12\"/>\n",
       "<circle clip-path=\"url(#clip6602)\" style=\"fill:#000000; stroke:none; fill-opacity:1\" cx=\"833.604\" cy=\"377.178\" r=\"9\"/>\n",
       "<circle clip-path=\"url(#clip6602)\" style=\"fill:#000000; stroke:none; fill-opacity:1\" cx=\"1256.27\" cy=\"1147.5\" r=\"12\"/>\n",
       "<circle clip-path=\"url(#clip6602)\" style=\"fill:#000000; stroke:none; fill-opacity:1\" cx=\"1256.27\" cy=\"1147.5\" r=\"9\"/>\n",
       "<circle clip-path=\"url(#clip6602)\" style=\"fill:#000000; stroke:none; fill-opacity:1\" cx=\"1808.5\" cy=\"1147.18\" r=\"12\"/>\n",
       "<circle clip-path=\"url(#clip6602)\" style=\"fill:#000000; stroke:none; fill-opacity:1\" cx=\"1808.5\" cy=\"1147.18\" r=\"9\"/>\n",
       "<circle clip-path=\"url(#clip6602)\" style=\"fill:#000000; stroke:none; fill-opacity:1\" cx=\"1884.61\" cy=\"855.871\" r=\"12\"/>\n",
       "<circle clip-path=\"url(#clip6602)\" style=\"fill:#000000; stroke:none; fill-opacity:1\" cx=\"1884.61\" cy=\"855.871\" r=\"9\"/>\n",
       "<circle clip-path=\"url(#clip6602)\" style=\"fill:#000000; stroke:none; fill-opacity:1\" cx=\"808.958\" cy=\"108.237\" r=\"12\"/>\n",
       "<circle clip-path=\"url(#clip6602)\" style=\"fill:#000000; stroke:none; fill-opacity:1\" cx=\"808.958\" cy=\"108.237\" r=\"9\"/>\n",
       "<circle clip-path=\"url(#clip6602)\" style=\"fill:#000000; stroke:none; fill-opacity:1\" cx=\"858.273\" cy=\"993.863\" r=\"12\"/>\n",
       "<circle clip-path=\"url(#clip6602)\" style=\"fill:#000000; stroke:none; fill-opacity:1\" cx=\"858.273\" cy=\"993.863\" r=\"9\"/>\n",
       "<circle clip-path=\"url(#clip6602)\" style=\"fill:#000000; stroke:none; fill-opacity:1\" cx=\"1326.64\" cy=\"162.513\" r=\"12\"/>\n",
       "<circle clip-path=\"url(#clip6602)\" style=\"fill:#000000; stroke:none; fill-opacity:1\" cx=\"1326.64\" cy=\"162.513\" r=\"9\"/>\n",
       "<circle clip-path=\"url(#clip6602)\" style=\"fill:#000000; stroke:none; fill-opacity:1\" cx=\"1751.69\" cy=\"219.276\" r=\"12\"/>\n",
       "<circle clip-path=\"url(#clip6602)\" style=\"fill:#000000; stroke:none; fill-opacity:1\" cx=\"1751.69\" cy=\"219.276\" r=\"9\"/>\n",
       "<circle clip-path=\"url(#clip6602)\" style=\"fill:#000000; stroke:none; fill-opacity:1\" cx=\"1614.46\" cy=\"294.404\" r=\"12\"/>\n",
       "<circle clip-path=\"url(#clip6602)\" style=\"fill:#000000; stroke:none; fill-opacity:1\" cx=\"1614.46\" cy=\"294.404\" r=\"9\"/>\n",
       "<circle clip-path=\"url(#clip6602)\" style=\"fill:#000000; stroke:none; fill-opacity:1\" cx=\"1544.5\" cy=\"613.57\" r=\"12\"/>\n",
       "<circle clip-path=\"url(#clip6602)\" style=\"fill:#000000; stroke:none; fill-opacity:1\" cx=\"1544.5\" cy=\"613.57\" r=\"9\"/>\n",
       "<circle clip-path=\"url(#clip6602)\" style=\"fill:#000000; stroke:none; fill-opacity:1\" cx=\"991.123\" cy=\"1140.12\" r=\"12\"/>\n",
       "<circle clip-path=\"url(#clip6602)\" style=\"fill:#000000; stroke:none; fill-opacity:1\" cx=\"991.123\" cy=\"1140.12\" r=\"9\"/>\n",
       "<circle clip-path=\"url(#clip6602)\" style=\"fill:#000000; stroke:none; fill-opacity:1\" cx=\"1637.91\" cy=\"1388.43\" r=\"12\"/>\n",
       "<circle clip-path=\"url(#clip6602)\" style=\"fill:#000000; stroke:none; fill-opacity:1\" cx=\"1637.91\" cy=\"1388.43\" r=\"9\"/>\n",
       "<circle clip-path=\"url(#clip6602)\" style=\"fill:#000000; stroke:none; fill-opacity:1\" cx=\"766.497\" cy=\"890.412\" r=\"12\"/>\n",
       "<circle clip-path=\"url(#clip6602)\" style=\"fill:#000000; stroke:none; fill-opacity:1\" cx=\"766.497\" cy=\"890.412\" r=\"9\"/>\n",
       "<circle clip-path=\"url(#clip6602)\" style=\"fill:#000000; stroke:none; fill-opacity:1\" cx=\"864.063\" cy=\"122.017\" r=\"12\"/>\n",
       "<circle clip-path=\"url(#clip6602)\" style=\"fill:#000000; stroke:none; fill-opacity:1\" cx=\"864.063\" cy=\"122.017\" r=\"9\"/>\n",
       "<circle clip-path=\"url(#clip6602)\" style=\"fill:#000000; stroke:none; fill-opacity:1\" cx=\"1288.88\" cy=\"617.596\" r=\"12\"/>\n",
       "<circle clip-path=\"url(#clip6602)\" style=\"fill:#000000; stroke:none; fill-opacity:1\" cx=\"1288.88\" cy=\"617.596\" r=\"9\"/>\n",
       "<circle clip-path=\"url(#clip6602)\" style=\"fill:#000000; stroke:none; fill-opacity:1\" cx=\"1034.44\" cy=\"863.643\" r=\"12\"/>\n",
       "<circle clip-path=\"url(#clip6602)\" style=\"fill:#000000; stroke:none; fill-opacity:1\" cx=\"1034.44\" cy=\"863.643\" r=\"9\"/>\n",
       "<circle clip-path=\"url(#clip6602)\" style=\"fill:#000000; stroke:none; fill-opacity:1\" cx=\"1374.29\" cy=\"921.144\" r=\"12\"/>\n",
       "<circle clip-path=\"url(#clip6602)\" style=\"fill:#000000; stroke:none; fill-opacity:1\" cx=\"1374.29\" cy=\"921.144\" r=\"9\"/>\n",
       "<circle clip-path=\"url(#clip6602)\" style=\"fill:#000000; stroke:none; fill-opacity:1\" cx=\"712.913\" cy=\"560.202\" r=\"12\"/>\n",
       "<circle clip-path=\"url(#clip6602)\" style=\"fill:#000000; stroke:none; fill-opacity:1\" cx=\"712.913\" cy=\"560.202\" r=\"9\"/>\n",
       "<circle clip-path=\"url(#clip6602)\" style=\"fill:#000000; stroke:none; fill-opacity:1\" cx=\"1583.13\" cy=\"1009.39\" r=\"12\"/>\n",
       "<circle clip-path=\"url(#clip6602)\" style=\"fill:#000000; stroke:none; fill-opacity:1\" cx=\"1583.13\" cy=\"1009.39\" r=\"9\"/>\n",
       "<circle clip-path=\"url(#clip6602)\" style=\"fill:#000000; stroke:none; fill-opacity:1\" cx=\"1030.8\" cy=\"550.209\" r=\"12\"/>\n",
       "<circle clip-path=\"url(#clip6602)\" style=\"fill:#000000; stroke:none; fill-opacity:1\" cx=\"1030.8\" cy=\"550.209\" r=\"9\"/>\n",
       "<circle clip-path=\"url(#clip6602)\" style=\"fill:#000000; stroke:none; fill-opacity:1\" cx=\"1709.46\" cy=\"903.909\" r=\"12\"/>\n",
       "<circle clip-path=\"url(#clip6602)\" style=\"fill:#000000; stroke:none; fill-opacity:1\" cx=\"1709.46\" cy=\"903.909\" r=\"9\"/>\n",
       "<circle clip-path=\"url(#clip6602)\" style=\"fill:#000000; stroke:none; fill-opacity:1\" cx=\"756.323\" cy=\"200.767\" r=\"12\"/>\n",
       "<circle clip-path=\"url(#clip6602)\" style=\"fill:#000000; stroke:none; fill-opacity:1\" cx=\"756.323\" cy=\"200.767\" r=\"9\"/>\n",
       "<circle clip-path=\"url(#clip6602)\" style=\"fill:#000000; stroke:none; fill-opacity:1\" cx=\"592.843\" cy=\"467.907\" r=\"12\"/>\n",
       "<circle clip-path=\"url(#clip6602)\" style=\"fill:#000000; stroke:none; fill-opacity:1\" cx=\"592.843\" cy=\"467.907\" r=\"9\"/>\n",
       "<circle clip-path=\"url(#clip6602)\" style=\"fill:#000000; stroke:none; fill-opacity:1\" cx=\"1008.01\" cy=\"1133.37\" r=\"12\"/>\n",
       "<circle clip-path=\"url(#clip6602)\" style=\"fill:#000000; stroke:none; fill-opacity:1\" cx=\"1008.01\" cy=\"1133.37\" r=\"9\"/>\n",
       "<circle clip-path=\"url(#clip6602)\" style=\"fill:#000000; stroke:none; fill-opacity:1\" cx=\"1271.27\" cy=\"1354.55\" r=\"12\"/>\n",
       "<circle clip-path=\"url(#clip6602)\" style=\"fill:#000000; stroke:none; fill-opacity:1\" cx=\"1271.27\" cy=\"1354.55\" r=\"9\"/>\n",
       "<circle clip-path=\"url(#clip6602)\" style=\"fill:#000000; stroke:none; fill-opacity:1\" cx=\"1444.63\" cy=\"1067.26\" r=\"12\"/>\n",
       "<circle clip-path=\"url(#clip6602)\" style=\"fill:#000000; stroke:none; fill-opacity:1\" cx=\"1444.63\" cy=\"1067.26\" r=\"9\"/>\n",
       "<circle clip-path=\"url(#clip6602)\" style=\"fill:#000000; stroke:none; fill-opacity:1\" cx=\"1544.63\" cy=\"361.593\" r=\"12\"/>\n",
       "<circle clip-path=\"url(#clip6602)\" style=\"fill:#000000; stroke:none; fill-opacity:1\" cx=\"1544.63\" cy=\"361.593\" r=\"9\"/>\n",
       "<circle clip-path=\"url(#clip6602)\" style=\"fill:#000000; stroke:none; fill-opacity:1\" cx=\"1572.54\" cy=\"805.736\" r=\"12\"/>\n",
       "<circle clip-path=\"url(#clip6602)\" style=\"fill:#000000; stroke:none; fill-opacity:1\" cx=\"1572.54\" cy=\"805.736\" r=\"9\"/>\n",
       "<circle clip-path=\"url(#clip6602)\" style=\"fill:#000000; stroke:none; fill-opacity:1\" cx=\"1070.68\" cy=\"248.15\" r=\"12\"/>\n",
       "<circle clip-path=\"url(#clip6602)\" style=\"fill:#000000; stroke:none; fill-opacity:1\" cx=\"1070.68\" cy=\"248.15\" r=\"9\"/>\n",
       "<circle clip-path=\"url(#clip6602)\" style=\"fill:#000000; stroke:none; fill-opacity:1\" cx=\"1626.34\" cy=\"418.365\" r=\"12\"/>\n",
       "<circle clip-path=\"url(#clip6602)\" style=\"fill:#000000; stroke:none; fill-opacity:1\" cx=\"1626.34\" cy=\"418.365\" r=\"9\"/>\n",
       "<circle clip-path=\"url(#clip6602)\" style=\"fill:#000000; stroke:none; fill-opacity:1\" cx=\"1780.06\" cy=\"896.683\" r=\"12\"/>\n",
       "<circle clip-path=\"url(#clip6602)\" style=\"fill:#000000; stroke:none; fill-opacity:1\" cx=\"1780.06\" cy=\"896.683\" r=\"9\"/>\n",
       "<circle clip-path=\"url(#clip6602)\" style=\"fill:#000000; stroke:none; fill-opacity:1\" cx=\"902.253\" cy=\"1184.5\" r=\"12\"/>\n",
       "<circle clip-path=\"url(#clip6602)\" style=\"fill:#000000; stroke:none; fill-opacity:1\" cx=\"902.253\" cy=\"1184.5\" r=\"9\"/>\n",
       "<circle clip-path=\"url(#clip6602)\" style=\"fill:#000000; stroke:none; fill-opacity:1\" cx=\"1698.06\" cy=\"385.266\" r=\"12\"/>\n",
       "<circle clip-path=\"url(#clip6602)\" style=\"fill:#000000; stroke:none; fill-opacity:1\" cx=\"1698.06\" cy=\"385.266\" r=\"9\"/>\n",
       "<circle clip-path=\"url(#clip6602)\" style=\"fill:#000000; stroke:none; fill-opacity:1\" cx=\"1335.89\" cy=\"856.415\" r=\"12\"/>\n",
       "<circle clip-path=\"url(#clip6602)\" style=\"fill:#000000; stroke:none; fill-opacity:1\" cx=\"1335.89\" cy=\"856.415\" r=\"9\"/>\n",
       "<circle clip-path=\"url(#clip6602)\" style=\"fill:#000000; stroke:none; fill-opacity:1\" cx=\"1498.05\" cy=\"1452.51\" r=\"12\"/>\n",
       "<circle clip-path=\"url(#clip6602)\" style=\"fill:#000000; stroke:none; fill-opacity:1\" cx=\"1498.05\" cy=\"1452.51\" r=\"9\"/>\n",
       "<circle clip-path=\"url(#clip6602)\" style=\"fill:#000000; stroke:none; fill-opacity:1\" cx=\"1931.21\" cy=\"615.759\" r=\"12\"/>\n",
       "<circle clip-path=\"url(#clip6602)\" style=\"fill:#000000; stroke:none; fill-opacity:1\" cx=\"1931.21\" cy=\"615.759\" r=\"9\"/>\n",
       "<circle clip-path=\"url(#clip6602)\" style=\"fill:#000000; stroke:none; fill-opacity:1\" cx=\"1395.65\" cy=\"323.662\" r=\"12\"/>\n",
       "<circle clip-path=\"url(#clip6602)\" style=\"fill:#000000; stroke:none; fill-opacity:1\" cx=\"1395.65\" cy=\"323.662\" r=\"9\"/>\n",
       "<circle clip-path=\"url(#clip6602)\" style=\"fill:#000000; stroke:none; fill-opacity:1\" cx=\"1379.74\" cy=\"1243.38\" r=\"12\"/>\n",
       "<circle clip-path=\"url(#clip6602)\" style=\"fill:#000000; stroke:none; fill-opacity:1\" cx=\"1379.74\" cy=\"1243.38\" r=\"9\"/>\n",
       "<circle clip-path=\"url(#clip6602)\" style=\"fill:#000000; stroke:none; fill-opacity:1\" cx=\"1012.86\" cy=\"920.931\" r=\"12\"/>\n",
       "<circle clip-path=\"url(#clip6602)\" style=\"fill:#000000; stroke:none; fill-opacity:1\" cx=\"1012.86\" cy=\"920.931\" r=\"9\"/>\n",
       "<circle clip-path=\"url(#clip6602)\" style=\"fill:#000000; stroke:none; fill-opacity:1\" cx=\"1303.89\" cy=\"1241.16\" r=\"12\"/>\n",
       "<circle clip-path=\"url(#clip6602)\" style=\"fill:#000000; stroke:none; fill-opacity:1\" cx=\"1303.89\" cy=\"1241.16\" r=\"9\"/>\n",
       "<circle clip-path=\"url(#clip6602)\" style=\"fill:#000000; stroke:none; fill-opacity:1\" cx=\"1454.69\" cy=\"552.413\" r=\"12\"/>\n",
       "<circle clip-path=\"url(#clip6602)\" style=\"fill:#000000; stroke:none; fill-opacity:1\" cx=\"1454.69\" cy=\"552.413\" r=\"9\"/>\n",
       "<circle clip-path=\"url(#clip6602)\" style=\"fill:#000000; stroke:none; fill-opacity:1\" cx=\"1121.38\" cy=\"99.5103\" r=\"12\"/>\n",
       "<circle clip-path=\"url(#clip6602)\" style=\"fill:#000000; stroke:none; fill-opacity:1\" cx=\"1121.38\" cy=\"99.5103\" r=\"9\"/>\n",
       "<circle clip-path=\"url(#clip6602)\" style=\"fill:#000000; stroke:none; fill-opacity:1\" cx=\"1262.68\" cy=\"989.157\" r=\"12\"/>\n",
       "<circle clip-path=\"url(#clip6602)\" style=\"fill:#000000; stroke:none; fill-opacity:1\" cx=\"1262.68\" cy=\"989.157\" r=\"9\"/>\n",
       "<circle clip-path=\"url(#clip6602)\" style=\"fill:#000000; stroke:none; fill-opacity:1\" cx=\"1364.26\" cy=\"897.664\" r=\"12\"/>\n",
       "<circle clip-path=\"url(#clip6602)\" style=\"fill:#000000; stroke:none; fill-opacity:1\" cx=\"1364.26\" cy=\"897.664\" r=\"9\"/>\n",
       "<circle clip-path=\"url(#clip6602)\" style=\"fill:#000000; stroke:none; fill-opacity:1\" cx=\"739.544\" cy=\"665.004\" r=\"12\"/>\n",
       "<circle clip-path=\"url(#clip6602)\" style=\"fill:#000000; stroke:none; fill-opacity:1\" cx=\"739.544\" cy=\"665.004\" r=\"9\"/>\n",
       "<circle clip-path=\"url(#clip6602)\" style=\"fill:#000000; stroke:none; fill-opacity:1\" cx=\"1535.81\" cy=\"1210.57\" r=\"12\"/>\n",
       "<circle clip-path=\"url(#clip6602)\" style=\"fill:#000000; stroke:none; fill-opacity:1\" cx=\"1535.81\" cy=\"1210.57\" r=\"9\"/>\n",
       "<circle clip-path=\"url(#clip6602)\" style=\"fill:#000000; stroke:none; fill-opacity:1\" cx=\"1708.05\" cy=\"897.109\" r=\"12\"/>\n",
       "<circle clip-path=\"url(#clip6602)\" style=\"fill:#000000; stroke:none; fill-opacity:1\" cx=\"1708.05\" cy=\"897.109\" r=\"9\"/>\n",
       "<circle clip-path=\"url(#clip6602)\" style=\"fill:#000000; stroke:none; fill-opacity:1\" cx=\"975.944\" cy=\"614.515\" r=\"12\"/>\n",
       "<circle clip-path=\"url(#clip6602)\" style=\"fill:#000000; stroke:none; fill-opacity:1\" cx=\"975.944\" cy=\"614.515\" r=\"9\"/>\n",
       "<circle clip-path=\"url(#clip6602)\" style=\"fill:#000000; stroke:none; fill-opacity:1\" cx=\"1374.37\" cy=\"1014.55\" r=\"12\"/>\n",
       "<circle clip-path=\"url(#clip6602)\" style=\"fill:#000000; stroke:none; fill-opacity:1\" cx=\"1374.37\" cy=\"1014.55\" r=\"9\"/>\n",
       "<circle clip-path=\"url(#clip6602)\" style=\"fill:#000000; stroke:none; fill-opacity:1\" cx=\"713.654\" cy=\"830.142\" r=\"12\"/>\n",
       "<circle clip-path=\"url(#clip6602)\" style=\"fill:#000000; stroke:none; fill-opacity:1\" cx=\"713.654\" cy=\"830.142\" r=\"9\"/>\n",
       "<circle clip-path=\"url(#clip6602)\" style=\"fill:#000000; stroke:none; fill-opacity:1\" cx=\"888.416\" cy=\"1248.16\" r=\"12\"/>\n",
       "<circle clip-path=\"url(#clip6602)\" style=\"fill:#000000; stroke:none; fill-opacity:1\" cx=\"888.416\" cy=\"1248.16\" r=\"9\"/>\n",
       "<circle clip-path=\"url(#clip6602)\" style=\"fill:#000000; stroke:none; fill-opacity:1\" cx=\"1113.79\" cy=\"1343.2\" r=\"12\"/>\n",
       "<circle clip-path=\"url(#clip6602)\" style=\"fill:#000000; stroke:none; fill-opacity:1\" cx=\"1113.79\" cy=\"1343.2\" r=\"9\"/>\n",
       "<circle clip-path=\"url(#clip6602)\" style=\"fill:#000000; stroke:none; fill-opacity:1\" cx=\"1819.41\" cy=\"225.802\" r=\"12\"/>\n",
       "<circle clip-path=\"url(#clip6602)\" style=\"fill:#000000; stroke:none; fill-opacity:1\" cx=\"1819.41\" cy=\"225.802\" r=\"9\"/>\n",
       "<circle clip-path=\"url(#clip6602)\" style=\"fill:#000000; stroke:none; fill-opacity:1\" cx=\"1820.29\" cy=\"814.051\" r=\"12\"/>\n",
       "<circle clip-path=\"url(#clip6602)\" style=\"fill:#000000; stroke:none; fill-opacity:1\" cx=\"1820.29\" cy=\"814.051\" r=\"9\"/>\n",
       "<circle clip-path=\"url(#clip6602)\" style=\"fill:#000000; stroke:none; fill-opacity:1\" cx=\"1534.42\" cy=\"485.557\" r=\"12\"/>\n",
       "<circle clip-path=\"url(#clip6602)\" style=\"fill:#000000; stroke:none; fill-opacity:1\" cx=\"1534.42\" cy=\"485.557\" r=\"9\"/>\n",
       "<circle clip-path=\"url(#clip6602)\" style=\"fill:#000000; stroke:none; fill-opacity:1\" cx=\"1806.07\" cy=\"262.144\" r=\"12\"/>\n",
       "<circle clip-path=\"url(#clip6602)\" style=\"fill:#000000; stroke:none; fill-opacity:1\" cx=\"1806.07\" cy=\"262.144\" r=\"9\"/>\n",
       "<circle clip-path=\"url(#clip6602)\" style=\"fill:#000000; stroke:none; fill-opacity:1\" cx=\"1467.03\" cy=\"380.809\" r=\"12\"/>\n",
       "<circle clip-path=\"url(#clip6602)\" style=\"fill:#000000; stroke:none; fill-opacity:1\" cx=\"1467.03\" cy=\"380.809\" r=\"9\"/>\n",
       "<circle clip-path=\"url(#clip6602)\" style=\"fill:#000000; stroke:none; fill-opacity:1\" cx=\"711.198\" cy=\"1416.75\" r=\"12\"/>\n",
       "<circle clip-path=\"url(#clip6602)\" style=\"fill:#000000; stroke:none; fill-opacity:1\" cx=\"711.198\" cy=\"1416.75\" r=\"9\"/>\n",
       "<circle clip-path=\"url(#clip6602)\" style=\"fill:#000000; stroke:none; fill-opacity:1\" cx=\"1727.42\" cy=\"1095.39\" r=\"12\"/>\n",
       "<circle clip-path=\"url(#clip6602)\" style=\"fill:#000000; stroke:none; fill-opacity:1\" cx=\"1727.42\" cy=\"1095.39\" r=\"9\"/>\n",
       "<circle clip-path=\"url(#clip6602)\" style=\"fill:#000000; stroke:none; fill-opacity:1\" cx=\"1177.94\" cy=\"1114.53\" r=\"12\"/>\n",
       "<circle clip-path=\"url(#clip6602)\" style=\"fill:#000000; stroke:none; fill-opacity:1\" cx=\"1177.94\" cy=\"1114.53\" r=\"9\"/>\n",
       "<circle clip-path=\"url(#clip6602)\" style=\"fill:#000000; stroke:none; fill-opacity:1\" cx=\"1321.73\" cy=\"759.991\" r=\"12\"/>\n",
       "<circle clip-path=\"url(#clip6602)\" style=\"fill:#000000; stroke:none; fill-opacity:1\" cx=\"1321.73\" cy=\"759.991\" r=\"9\"/>\n",
       "<circle clip-path=\"url(#clip6602)\" style=\"fill:#000000; stroke:none; fill-opacity:1\" cx=\"1547.62\" cy=\"506.54\" r=\"12\"/>\n",
       "<circle clip-path=\"url(#clip6602)\" style=\"fill:#000000; stroke:none; fill-opacity:1\" cx=\"1547.62\" cy=\"506.54\" r=\"9\"/>\n",
       "<circle clip-path=\"url(#clip6602)\" style=\"fill:#000000; stroke:none; fill-opacity:1\" cx=\"1927\" cy=\"417.654\" r=\"12\"/>\n",
       "<circle clip-path=\"url(#clip6602)\" style=\"fill:#000000; stroke:none; fill-opacity:1\" cx=\"1927\" cy=\"417.654\" r=\"9\"/>\n",
       "<circle clip-path=\"url(#clip6602)\" style=\"fill:#000000; stroke:none; fill-opacity:1\" cx=\"1401.47\" cy=\"165.844\" r=\"12\"/>\n",
       "<circle clip-path=\"url(#clip6602)\" style=\"fill:#000000; stroke:none; fill-opacity:1\" cx=\"1401.47\" cy=\"165.844\" r=\"9\"/>\n",
       "<circle clip-path=\"url(#clip6602)\" style=\"fill:#000000; stroke:none; fill-opacity:1\" cx=\"1753.44\" cy=\"1304.14\" r=\"12\"/>\n",
       "<circle clip-path=\"url(#clip6602)\" style=\"fill:#000000; stroke:none; fill-opacity:1\" cx=\"1753.44\" cy=\"1304.14\" r=\"9\"/>\n",
       "<circle clip-path=\"url(#clip6602)\" style=\"fill:#000000; stroke:none; fill-opacity:1\" cx=\"1071.2\" cy=\"1291.28\" r=\"12\"/>\n",
       "<circle clip-path=\"url(#clip6602)\" style=\"fill:#000000; stroke:none; fill-opacity:1\" cx=\"1071.2\" cy=\"1291.28\" r=\"9\"/>\n",
       "<circle clip-path=\"url(#clip6602)\" style=\"fill:#000000; stroke:none; fill-opacity:1\" cx=\"1151.77\" cy=\"381.415\" r=\"12\"/>\n",
       "<circle clip-path=\"url(#clip6602)\" style=\"fill:#000000; stroke:none; fill-opacity:1\" cx=\"1151.77\" cy=\"381.415\" r=\"9\"/>\n",
       "<circle clip-path=\"url(#clip6602)\" style=\"fill:#000000; stroke:none; fill-opacity:1\" cx=\"795.785\" cy=\"415.808\" r=\"12\"/>\n",
       "<circle clip-path=\"url(#clip6602)\" style=\"fill:#000000; stroke:none; fill-opacity:1\" cx=\"795.785\" cy=\"415.808\" r=\"9\"/>\n",
       "<circle clip-path=\"url(#clip6602)\" style=\"fill:#000000; stroke:none; fill-opacity:1\" cx=\"579.465\" cy=\"1135.86\" r=\"12\"/>\n",
       "<circle clip-path=\"url(#clip6602)\" style=\"fill:#000000; stroke:none; fill-opacity:1\" cx=\"579.465\" cy=\"1135.86\" r=\"9\"/>\n",
       "<circle clip-path=\"url(#clip6602)\" style=\"fill:#000000; stroke:none; fill-opacity:1\" cx=\"1749.84\" cy=\"1207.99\" r=\"12\"/>\n",
       "<circle clip-path=\"url(#clip6602)\" style=\"fill:#000000; stroke:none; fill-opacity:1\" cx=\"1749.84\" cy=\"1207.99\" r=\"9\"/>\n",
       "<circle clip-path=\"url(#clip6602)\" style=\"fill:#000000; stroke:none; fill-opacity:1\" cx=\"1647.41\" cy=\"1107.1\" r=\"12\"/>\n",
       "<circle clip-path=\"url(#clip6602)\" style=\"fill:#000000; stroke:none; fill-opacity:1\" cx=\"1647.41\" cy=\"1107.1\" r=\"9\"/>\n",
       "<circle clip-path=\"url(#clip6602)\" style=\"fill:#000000; stroke:none; fill-opacity:1\" cx=\"1668.47\" cy=\"938.513\" r=\"12\"/>\n",
       "<circle clip-path=\"url(#clip6602)\" style=\"fill:#000000; stroke:none; fill-opacity:1\" cx=\"1668.47\" cy=\"938.513\" r=\"9\"/>\n",
       "<circle clip-path=\"url(#clip6602)\" style=\"fill:#000000; stroke:none; fill-opacity:1\" cx=\"1395.27\" cy=\"669.364\" r=\"12\"/>\n",
       "<circle clip-path=\"url(#clip6602)\" style=\"fill:#000000; stroke:none; fill-opacity:1\" cx=\"1395.27\" cy=\"669.364\" r=\"9\"/>\n",
       "<circle clip-path=\"url(#clip6602)\" style=\"fill:#000000; stroke:none; fill-opacity:1\" cx=\"773.182\" cy=\"271.802\" r=\"12\"/>\n",
       "<circle clip-path=\"url(#clip6602)\" style=\"fill:#000000; stroke:none; fill-opacity:1\" cx=\"773.182\" cy=\"271.802\" r=\"9\"/>\n",
       "<circle clip-path=\"url(#clip6602)\" style=\"fill:#000000; stroke:none; fill-opacity:1\" cx=\"1378.94\" cy=\"879.796\" r=\"12\"/>\n",
       "<circle clip-path=\"url(#clip6602)\" style=\"fill:#000000; stroke:none; fill-opacity:1\" cx=\"1378.94\" cy=\"879.796\" r=\"9\"/>\n",
       "<circle clip-path=\"url(#clip6602)\" style=\"fill:#000000; stroke:none; fill-opacity:1\" cx=\"979.473\" cy=\"634.919\" r=\"12\"/>\n",
       "<circle clip-path=\"url(#clip6602)\" style=\"fill:#000000; stroke:none; fill-opacity:1\" cx=\"979.473\" cy=\"634.919\" r=\"9\"/>\n",
       "<circle clip-path=\"url(#clip6602)\" style=\"fill:#000000; stroke:none; fill-opacity:1\" cx=\"1464.98\" cy=\"1056.93\" r=\"12\"/>\n",
       "<circle clip-path=\"url(#clip6602)\" style=\"fill:#000000; stroke:none; fill-opacity:1\" cx=\"1464.98\" cy=\"1056.93\" r=\"9\"/>\n",
       "<circle clip-path=\"url(#clip6602)\" style=\"fill:#000000; stroke:none; fill-opacity:1\" cx=\"965.535\" cy=\"665.929\" r=\"12\"/>\n",
       "<circle clip-path=\"url(#clip6602)\" style=\"fill:#000000; stroke:none; fill-opacity:1\" cx=\"965.535\" cy=\"665.929\" r=\"9\"/>\n",
       "<circle clip-path=\"url(#clip6602)\" style=\"fill:#000000; stroke:none; fill-opacity:1\" cx=\"667.452\" cy=\"867.758\" r=\"12\"/>\n",
       "<circle clip-path=\"url(#clip6602)\" style=\"fill:#000000; stroke:none; fill-opacity:1\" cx=\"667.452\" cy=\"867.758\" r=\"9\"/>\n",
       "<circle clip-path=\"url(#clip6602)\" style=\"fill:#000000; stroke:none; fill-opacity:1\" cx=\"1001.58\" cy=\"487.723\" r=\"12\"/>\n",
       "<circle clip-path=\"url(#clip6602)\" style=\"fill:#000000; stroke:none; fill-opacity:1\" cx=\"1001.58\" cy=\"487.723\" r=\"9\"/>\n",
       "<circle clip-path=\"url(#clip6602)\" style=\"fill:#000000; stroke:none; fill-opacity:1\" cx=\"1774.72\" cy=\"791.385\" r=\"12\"/>\n",
       "<circle clip-path=\"url(#clip6602)\" style=\"fill:#000000; stroke:none; fill-opacity:1\" cx=\"1774.72\" cy=\"791.385\" r=\"9\"/>\n",
       "<circle clip-path=\"url(#clip6602)\" style=\"fill:#000000; stroke:none; fill-opacity:1\" cx=\"1001.92\" cy=\"756.07\" r=\"12\"/>\n",
       "<circle clip-path=\"url(#clip6602)\" style=\"fill:#000000; stroke:none; fill-opacity:1\" cx=\"1001.92\" cy=\"756.07\" r=\"9\"/>\n",
       "<circle clip-path=\"url(#clip6602)\" style=\"fill:#000000; stroke:none; fill-opacity:1\" cx=\"577.319\" cy=\"260.499\" r=\"12\"/>\n",
       "<circle clip-path=\"url(#clip6602)\" style=\"fill:#000000; stroke:none; fill-opacity:1\" cx=\"577.319\" cy=\"260.499\" r=\"9\"/>\n",
       "<circle clip-path=\"url(#clip6602)\" style=\"fill:#000000; stroke:none; fill-opacity:1\" cx=\"1852.32\" cy=\"931.608\" r=\"12\"/>\n",
       "<circle clip-path=\"url(#clip6602)\" style=\"fill:#000000; stroke:none; fill-opacity:1\" cx=\"1852.32\" cy=\"931.608\" r=\"9\"/>\n",
       "<circle clip-path=\"url(#clip6602)\" style=\"fill:#000000; stroke:none; fill-opacity:1\" cx=\"1042.52\" cy=\"788.615\" r=\"12\"/>\n",
       "<circle clip-path=\"url(#clip6602)\" style=\"fill:#000000; stroke:none; fill-opacity:1\" cx=\"1042.52\" cy=\"788.615\" r=\"9\"/>\n",
       "<circle clip-path=\"url(#clip6602)\" style=\"fill:#000000; stroke:none; fill-opacity:1\" cx=\"664.171\" cy=\"182.102\" r=\"12\"/>\n",
       "<circle clip-path=\"url(#clip6602)\" style=\"fill:#000000; stroke:none; fill-opacity:1\" cx=\"664.171\" cy=\"182.102\" r=\"9\"/>\n",
       "<circle clip-path=\"url(#clip6602)\" style=\"fill:#000000; stroke:none; fill-opacity:1\" cx=\"1090.2\" cy=\"773.626\" r=\"12\"/>\n",
       "<circle clip-path=\"url(#clip6602)\" style=\"fill:#000000; stroke:none; fill-opacity:1\" cx=\"1090.2\" cy=\"773.626\" r=\"9\"/>\n",
       "<circle clip-path=\"url(#clip6602)\" style=\"fill:#000000; stroke:none; fill-opacity:1\" cx=\"855.453\" cy=\"1027.04\" r=\"12\"/>\n",
       "<circle clip-path=\"url(#clip6602)\" style=\"fill:#000000; stroke:none; fill-opacity:1\" cx=\"855.453\" cy=\"1027.04\" r=\"9\"/>\n",
       "<circle clip-path=\"url(#clip6602)\" style=\"fill:#000000; stroke:none; fill-opacity:1\" cx=\"736.158\" cy=\"415.48\" r=\"12\"/>\n",
       "<circle clip-path=\"url(#clip6602)\" style=\"fill:#000000; stroke:none; fill-opacity:1\" cx=\"736.158\" cy=\"415.48\" r=\"9\"/>\n",
       "<circle clip-path=\"url(#clip6602)\" style=\"fill:#000000; stroke:none; fill-opacity:1\" cx=\"1872.64\" cy=\"1125.85\" r=\"12\"/>\n",
       "<circle clip-path=\"url(#clip6602)\" style=\"fill:#000000; stroke:none; fill-opacity:1\" cx=\"1872.64\" cy=\"1125.85\" r=\"9\"/>\n",
       "<circle clip-path=\"url(#clip6602)\" style=\"fill:#000000; stroke:none; fill-opacity:1\" cx=\"1725.48\" cy=\"1095.93\" r=\"12\"/>\n",
       "<circle clip-path=\"url(#clip6602)\" style=\"fill:#000000; stroke:none; fill-opacity:1\" cx=\"1725.48\" cy=\"1095.93\" r=\"9\"/>\n",
       "<circle clip-path=\"url(#clip6602)\" style=\"fill:#000000; stroke:none; fill-opacity:1\" cx=\"894.362\" cy=\"319.055\" r=\"12\"/>\n",
       "<circle clip-path=\"url(#clip6602)\" style=\"fill:#000000; stroke:none; fill-opacity:1\" cx=\"894.362\" cy=\"319.055\" r=\"9\"/>\n",
       "<circle clip-path=\"url(#clip6602)\" style=\"fill:#000000; stroke:none; fill-opacity:1\" cx=\"1675.84\" cy=\"868.399\" r=\"12\"/>\n",
       "<circle clip-path=\"url(#clip6602)\" style=\"fill:#000000; stroke:none; fill-opacity:1\" cx=\"1675.84\" cy=\"868.399\" r=\"9\"/>\n",
       "<circle clip-path=\"url(#clip6602)\" style=\"fill:#000000; stroke:none; fill-opacity:1\" cx=\"1234.96\" cy=\"889.671\" r=\"12\"/>\n",
       "<circle clip-path=\"url(#clip6602)\" style=\"fill:#000000; stroke:none; fill-opacity:1\" cx=\"1234.96\" cy=\"889.671\" r=\"9\"/>\n",
       "<circle clip-path=\"url(#clip6602)\" style=\"fill:#000000; stroke:none; fill-opacity:1\" cx=\"1942.41\" cy=\"765.766\" r=\"12\"/>\n",
       "<circle clip-path=\"url(#clip6602)\" style=\"fill:#000000; stroke:none; fill-opacity:1\" cx=\"1942.41\" cy=\"765.766\" r=\"9\"/>\n",
       "<circle clip-path=\"url(#clip6602)\" style=\"fill:#000000; stroke:none; fill-opacity:1\" cx=\"1663.81\" cy=\"596.586\" r=\"12\"/>\n",
       "<circle clip-path=\"url(#clip6602)\" style=\"fill:#000000; stroke:none; fill-opacity:1\" cx=\"1663.81\" cy=\"596.586\" r=\"9\"/>\n",
       "<circle clip-path=\"url(#clip6602)\" style=\"fill:#000000; stroke:none; fill-opacity:1\" cx=\"939.136\" cy=\"670.827\" r=\"12\"/>\n",
       "<circle clip-path=\"url(#clip6602)\" style=\"fill:#000000; stroke:none; fill-opacity:1\" cx=\"939.136\" cy=\"670.827\" r=\"9\"/>\n",
       "<circle clip-path=\"url(#clip6602)\" style=\"fill:#000000; stroke:none; fill-opacity:1\" cx=\"1976.77\" cy=\"859.345\" r=\"12\"/>\n",
       "<circle clip-path=\"url(#clip6602)\" style=\"fill:#000000; stroke:none; fill-opacity:1\" cx=\"1976.77\" cy=\"859.345\" r=\"9\"/>\n",
       "<circle clip-path=\"url(#clip6602)\" style=\"fill:#000000; stroke:none; fill-opacity:1\" cx=\"1623.13\" cy=\"1061.56\" r=\"12\"/>\n",
       "<circle clip-path=\"url(#clip6602)\" style=\"fill:#000000; stroke:none; fill-opacity:1\" cx=\"1623.13\" cy=\"1061.56\" r=\"9\"/>\n",
       "<circle clip-path=\"url(#clip6602)\" style=\"fill:#000000; stroke:none; fill-opacity:1\" cx=\"1797.96\" cy=\"1311.69\" r=\"12\"/>\n",
       "<circle clip-path=\"url(#clip6602)\" style=\"fill:#000000; stroke:none; fill-opacity:1\" cx=\"1797.96\" cy=\"1311.69\" r=\"9\"/>\n",
       "<circle clip-path=\"url(#clip6602)\" style=\"fill:#000000; stroke:none; fill-opacity:1\" cx=\"1735.25\" cy=\"885.967\" r=\"12\"/>\n",
       "<circle clip-path=\"url(#clip6602)\" style=\"fill:#000000; stroke:none; fill-opacity:1\" cx=\"1735.25\" cy=\"885.967\" r=\"9\"/>\n",
       "<circle clip-path=\"url(#clip6602)\" style=\"fill:#000000; stroke:none; fill-opacity:1\" cx=\"866.331\" cy=\"1242.68\" r=\"12\"/>\n",
       "<circle clip-path=\"url(#clip6602)\" style=\"fill:#000000; stroke:none; fill-opacity:1\" cx=\"866.331\" cy=\"1242.68\" r=\"9\"/>\n",
       "<circle clip-path=\"url(#clip6602)\" style=\"fill:#000000; stroke:none; fill-opacity:1\" cx=\"917.466\" cy=\"244.851\" r=\"12\"/>\n",
       "<circle clip-path=\"url(#clip6602)\" style=\"fill:#000000; stroke:none; fill-opacity:1\" cx=\"917.466\" cy=\"244.851\" r=\"9\"/>\n",
       "<circle clip-path=\"url(#clip6602)\" style=\"fill:#000000; stroke:none; fill-opacity:1\" cx=\"560.764\" cy=\"857.264\" r=\"12\"/>\n",
       "<circle clip-path=\"url(#clip6602)\" style=\"fill:#000000; stroke:none; fill-opacity:1\" cx=\"560.764\" cy=\"857.264\" r=\"9\"/>\n",
       "<circle clip-path=\"url(#clip6602)\" style=\"fill:#000000; stroke:none; fill-opacity:1\" cx=\"908.523\" cy=\"158.991\" r=\"12\"/>\n",
       "<circle clip-path=\"url(#clip6602)\" style=\"fill:#000000; stroke:none; fill-opacity:1\" cx=\"908.523\" cy=\"158.991\" r=\"9\"/>\n",
       "<circle clip-path=\"url(#clip6602)\" style=\"fill:#000000; stroke:none; fill-opacity:1\" cx=\"1646.26\" cy=\"1148.39\" r=\"12\"/>\n",
       "<circle clip-path=\"url(#clip6602)\" style=\"fill:#000000; stroke:none; fill-opacity:1\" cx=\"1646.26\" cy=\"1148.39\" r=\"9\"/>\n",
       "<circle clip-path=\"url(#clip6602)\" style=\"fill:#000000; stroke:none; fill-opacity:1\" cx=\"956.246\" cy=\"1014.39\" r=\"12\"/>\n",
       "<circle clip-path=\"url(#clip6602)\" style=\"fill:#000000; stroke:none; fill-opacity:1\" cx=\"956.246\" cy=\"1014.39\" r=\"9\"/>\n",
       "<circle clip-path=\"url(#clip6602)\" style=\"fill:#000000; stroke:none; fill-opacity:1\" cx=\"1213.46\" cy=\"789.053\" r=\"12\"/>\n",
       "<circle clip-path=\"url(#clip6602)\" style=\"fill:#000000; stroke:none; fill-opacity:1\" cx=\"1213.46\" cy=\"789.053\" r=\"9\"/>\n",
       "<circle clip-path=\"url(#clip6602)\" style=\"fill:#000000; stroke:none; fill-opacity:1\" cx=\"1433.6\" cy=\"1471.83\" r=\"12\"/>\n",
       "<circle clip-path=\"url(#clip6602)\" style=\"fill:#000000; stroke:none; fill-opacity:1\" cx=\"1433.6\" cy=\"1471.83\" r=\"9\"/>\n",
       "<circle clip-path=\"url(#clip6602)\" style=\"fill:#000000; stroke:none; fill-opacity:1\" cx=\"944.701\" cy=\"1042.92\" r=\"12\"/>\n",
       "<circle clip-path=\"url(#clip6602)\" style=\"fill:#000000; stroke:none; fill-opacity:1\" cx=\"944.701\" cy=\"1042.92\" r=\"9\"/>\n",
       "<circle clip-path=\"url(#clip6602)\" style=\"fill:#000000; stroke:none; fill-opacity:1\" cx=\"1386.2\" cy=\"504.609\" r=\"12\"/>\n",
       "<circle clip-path=\"url(#clip6602)\" style=\"fill:#000000; stroke:none; fill-opacity:1\" cx=\"1386.2\" cy=\"504.609\" r=\"9\"/>\n",
       "<circle clip-path=\"url(#clip6602)\" style=\"fill:#000000; stroke:none; fill-opacity:1\" cx=\"1160.92\" cy=\"1274.47\" r=\"12\"/>\n",
       "<circle clip-path=\"url(#clip6602)\" style=\"fill:#000000; stroke:none; fill-opacity:1\" cx=\"1160.92\" cy=\"1274.47\" r=\"9\"/>\n",
       "<circle clip-path=\"url(#clip6602)\" style=\"fill:#000000; stroke:none; fill-opacity:1\" cx=\"598.842\" cy=\"1150.07\" r=\"12\"/>\n",
       "<circle clip-path=\"url(#clip6602)\" style=\"fill:#000000; stroke:none; fill-opacity:1\" cx=\"598.842\" cy=\"1150.07\" r=\"9\"/>\n",
       "<circle clip-path=\"url(#clip6602)\" style=\"fill:#000000; stroke:none; fill-opacity:1\" cx=\"1296.38\" cy=\"766.595\" r=\"12\"/>\n",
       "<circle clip-path=\"url(#clip6602)\" style=\"fill:#000000; stroke:none; fill-opacity:1\" cx=\"1296.38\" cy=\"766.595\" r=\"9\"/>\n",
       "<circle clip-path=\"url(#clip6602)\" style=\"fill:#000000; stroke:none; fill-opacity:1\" cx=\"1014.58\" cy=\"966.147\" r=\"12\"/>\n",
       "<circle clip-path=\"url(#clip6602)\" style=\"fill:#000000; stroke:none; fill-opacity:1\" cx=\"1014.58\" cy=\"966.147\" r=\"9\"/>\n",
       "<circle clip-path=\"url(#clip6602)\" style=\"fill:#000000; stroke:none; fill-opacity:1\" cx=\"601.801\" cy=\"1411.28\" r=\"12\"/>\n",
       "<circle clip-path=\"url(#clip6602)\" style=\"fill:#000000; stroke:none; fill-opacity:1\" cx=\"601.801\" cy=\"1411.28\" r=\"9\"/>\n",
       "<circle clip-path=\"url(#clip6602)\" style=\"fill:#000000; stroke:none; fill-opacity:1\" cx=\"662.269\" cy=\"189.773\" r=\"12\"/>\n",
       "<circle clip-path=\"url(#clip6602)\" style=\"fill:#000000; stroke:none; fill-opacity:1\" cx=\"662.269\" cy=\"189.773\" r=\"9\"/>\n",
       "<circle clip-path=\"url(#clip6602)\" style=\"fill:#000000; stroke:none; fill-opacity:1\" cx=\"1097.22\" cy=\"1047.85\" r=\"12\"/>\n",
       "<circle clip-path=\"url(#clip6602)\" style=\"fill:#000000; stroke:none; fill-opacity:1\" cx=\"1097.22\" cy=\"1047.85\" r=\"9\"/>\n",
       "<circle clip-path=\"url(#clip6602)\" style=\"fill:#000000; stroke:none; fill-opacity:1\" cx=\"610.249\" cy=\"1209.59\" r=\"12\"/>\n",
       "<circle clip-path=\"url(#clip6602)\" style=\"fill:#000000; stroke:none; fill-opacity:1\" cx=\"610.249\" cy=\"1209.59\" r=\"9\"/>\n",
       "<circle clip-path=\"url(#clip6602)\" style=\"fill:#000000; stroke:none; fill-opacity:1\" cx=\"1568.41\" cy=\"698.985\" r=\"12\"/>\n",
       "<circle clip-path=\"url(#clip6602)\" style=\"fill:#000000; stroke:none; fill-opacity:1\" cx=\"1568.41\" cy=\"698.985\" r=\"9\"/>\n",
       "<circle clip-path=\"url(#clip6602)\" style=\"fill:#000000; stroke:none; fill-opacity:1\" cx=\"1576.94\" cy=\"707.986\" r=\"12\"/>\n",
       "<circle clip-path=\"url(#clip6602)\" style=\"fill:#000000; stroke:none; fill-opacity:1\" cx=\"1576.94\" cy=\"707.986\" r=\"9\"/>\n",
       "<circle clip-path=\"url(#clip6602)\" style=\"fill:#000000; stroke:none; fill-opacity:1\" cx=\"628.357\" cy=\"348.088\" r=\"12\"/>\n",
       "<circle clip-path=\"url(#clip6602)\" style=\"fill:#000000; stroke:none; fill-opacity:1\" cx=\"628.357\" cy=\"348.088\" r=\"9\"/>\n",
       "<circle clip-path=\"url(#clip6602)\" style=\"fill:#000000; stroke:none; fill-opacity:1\" cx=\"1504.01\" cy=\"1263.09\" r=\"12\"/>\n",
       "<circle clip-path=\"url(#clip6602)\" style=\"fill:#000000; stroke:none; fill-opacity:1\" cx=\"1504.01\" cy=\"1263.09\" r=\"9\"/>\n",
       "<circle clip-path=\"url(#clip6602)\" style=\"fill:#000000; stroke:none; fill-opacity:1\" cx=\"1710.82\" cy=\"811.429\" r=\"12\"/>\n",
       "<circle clip-path=\"url(#clip6602)\" style=\"fill:#000000; stroke:none; fill-opacity:1\" cx=\"1710.82\" cy=\"811.429\" r=\"9\"/>\n",
       "<circle clip-path=\"url(#clip6602)\" style=\"fill:#000000; stroke:none; fill-opacity:1\" cx=\"1210.36\" cy=\"1348.76\" r=\"12\"/>\n",
       "<circle clip-path=\"url(#clip6602)\" style=\"fill:#000000; stroke:none; fill-opacity:1\" cx=\"1210.36\" cy=\"1348.76\" r=\"9\"/>\n",
       "<circle clip-path=\"url(#clip6602)\" style=\"fill:#000000; stroke:none; fill-opacity:1\" cx=\"1659.53\" cy=\"1199.36\" r=\"12\"/>\n",
       "<circle clip-path=\"url(#clip6602)\" style=\"fill:#000000; stroke:none; fill-opacity:1\" cx=\"1659.53\" cy=\"1199.36\" r=\"9\"/>\n",
       "<circle clip-path=\"url(#clip6602)\" style=\"fill:#000000; stroke:none; fill-opacity:1\" cx=\"1960.87\" cy=\"708.315\" r=\"12\"/>\n",
       "<circle clip-path=\"url(#clip6602)\" style=\"fill:#000000; stroke:none; fill-opacity:1\" cx=\"1960.87\" cy=\"708.315\" r=\"9\"/>\n",
       "<circle clip-path=\"url(#clip6602)\" style=\"fill:#000000; stroke:none; fill-opacity:1\" cx=\"1029.28\" cy=\"1463.25\" r=\"12\"/>\n",
       "<circle clip-path=\"url(#clip6602)\" style=\"fill:#000000; stroke:none; fill-opacity:1\" cx=\"1029.28\" cy=\"1463.25\" r=\"9\"/>\n",
       "<circle clip-path=\"url(#clip6602)\" style=\"fill:#000000; stroke:none; fill-opacity:1\" cx=\"1427.27\" cy=\"339.543\" r=\"12\"/>\n",
       "<circle clip-path=\"url(#clip6602)\" style=\"fill:#000000; stroke:none; fill-opacity:1\" cx=\"1427.27\" cy=\"339.543\" r=\"9\"/>\n",
       "<circle clip-path=\"url(#clip6602)\" style=\"fill:#000000; stroke:none; fill-opacity:1\" cx=\"1511.3\" cy=\"689.885\" r=\"12\"/>\n",
       "<circle clip-path=\"url(#clip6602)\" style=\"fill:#000000; stroke:none; fill-opacity:1\" cx=\"1511.3\" cy=\"689.885\" r=\"9\"/>\n",
       "<circle clip-path=\"url(#clip6602)\" style=\"fill:#000000; stroke:none; fill-opacity:1\" cx=\"1005.88\" cy=\"1047.26\" r=\"12\"/>\n",
       "<circle clip-path=\"url(#clip6602)\" style=\"fill:#000000; stroke:none; fill-opacity:1\" cx=\"1005.88\" cy=\"1047.26\" r=\"9\"/>\n",
       "<circle clip-path=\"url(#clip6602)\" style=\"fill:#000000; stroke:none; fill-opacity:1\" cx=\"1818.16\" cy=\"1124.71\" r=\"12\"/>\n",
       "<circle clip-path=\"url(#clip6602)\" style=\"fill:#000000; stroke:none; fill-opacity:1\" cx=\"1818.16\" cy=\"1124.71\" r=\"9\"/>\n",
       "<circle clip-path=\"url(#clip6602)\" style=\"fill:#000000; stroke:none; fill-opacity:1\" cx=\"1960.05\" cy=\"690.117\" r=\"12\"/>\n",
       "<circle clip-path=\"url(#clip6602)\" style=\"fill:#000000; stroke:none; fill-opacity:1\" cx=\"1960.05\" cy=\"690.117\" r=\"9\"/>\n",
       "<circle clip-path=\"url(#clip6602)\" style=\"fill:#000000; stroke:none; fill-opacity:1\" cx=\"1873.47\" cy=\"1106.35\" r=\"12\"/>\n",
       "<circle clip-path=\"url(#clip6602)\" style=\"fill:#000000; stroke:none; fill-opacity:1\" cx=\"1873.47\" cy=\"1106.35\" r=\"9\"/>\n",
       "<circle clip-path=\"url(#clip6602)\" style=\"fill:#000000; stroke:none; fill-opacity:1\" cx=\"644.228\" cy=\"1198.9\" r=\"12\"/>\n",
       "<circle clip-path=\"url(#clip6602)\" style=\"fill:#000000; stroke:none; fill-opacity:1\" cx=\"644.228\" cy=\"1198.9\" r=\"9\"/>\n",
       "<circle clip-path=\"url(#clip6602)\" style=\"fill:#000000; stroke:none; fill-opacity:1\" cx=\"1592.9\" cy=\"106.778\" r=\"12\"/>\n",
       "<circle clip-path=\"url(#clip6602)\" style=\"fill:#000000; stroke:none; fill-opacity:1\" cx=\"1592.9\" cy=\"106.778\" r=\"9\"/>\n",
       "<circle clip-path=\"url(#clip6602)\" style=\"fill:#000000; stroke:none; fill-opacity:1\" cx=\"930.517\" cy=\"603.589\" r=\"12\"/>\n",
       "<circle clip-path=\"url(#clip6602)\" style=\"fill:#000000; stroke:none; fill-opacity:1\" cx=\"930.517\" cy=\"603.589\" r=\"9\"/>\n",
       "<circle clip-path=\"url(#clip6602)\" style=\"fill:#000000; stroke:none; fill-opacity:1\" cx=\"1057.32\" cy=\"683.467\" r=\"12\"/>\n",
       "<circle clip-path=\"url(#clip6602)\" style=\"fill:#000000; stroke:none; fill-opacity:1\" cx=\"1057.32\" cy=\"683.467\" r=\"9\"/>\n",
       "<circle clip-path=\"url(#clip6602)\" style=\"fill:#000000; stroke:none; fill-opacity:1\" cx=\"1226.98\" cy=\"141.26\" r=\"12\"/>\n",
       "<circle clip-path=\"url(#clip6602)\" style=\"fill:#000000; stroke:none; fill-opacity:1\" cx=\"1226.98\" cy=\"141.26\" r=\"9\"/>\n",
       "<circle clip-path=\"url(#clip6602)\" style=\"fill:#000000; stroke:none; fill-opacity:1\" cx=\"1824.01\" cy=\"1087.83\" r=\"12\"/>\n",
       "<circle clip-path=\"url(#clip6602)\" style=\"fill:#000000; stroke:none; fill-opacity:1\" cx=\"1824.01\" cy=\"1087.83\" r=\"9\"/>\n",
       "<circle clip-path=\"url(#clip6602)\" style=\"fill:#000000; stroke:none; fill-opacity:1\" cx=\"1077.72\" cy=\"1296.55\" r=\"12\"/>\n",
       "<circle clip-path=\"url(#clip6602)\" style=\"fill:#000000; stroke:none; fill-opacity:1\" cx=\"1077.72\" cy=\"1296.55\" r=\"9\"/>\n",
       "<circle clip-path=\"url(#clip6602)\" style=\"fill:#000000; stroke:none; fill-opacity:1\" cx=\"1061.88\" cy=\"305.168\" r=\"12\"/>\n",
       "<circle clip-path=\"url(#clip6602)\" style=\"fill:#000000; stroke:none; fill-opacity:1\" cx=\"1061.88\" cy=\"305.168\" r=\"9\"/>\n",
       "<circle clip-path=\"url(#clip6602)\" style=\"fill:#000000; stroke:none; fill-opacity:1\" cx=\"1579.19\" cy=\"1403.33\" r=\"12\"/>\n",
       "<circle clip-path=\"url(#clip6602)\" style=\"fill:#000000; stroke:none; fill-opacity:1\" cx=\"1579.19\" cy=\"1403.33\" r=\"9\"/>\n",
       "<circle clip-path=\"url(#clip6602)\" style=\"fill:#000000; stroke:none; fill-opacity:1\" cx=\"1878.56\" cy=\"108.836\" r=\"12\"/>\n",
       "<circle clip-path=\"url(#clip6602)\" style=\"fill:#000000; stroke:none; fill-opacity:1\" cx=\"1878.56\" cy=\"108.836\" r=\"9\"/>\n",
       "<circle clip-path=\"url(#clip6602)\" style=\"fill:#000000; stroke:none; fill-opacity:1\" cx=\"1490.88\" cy=\"323.229\" r=\"12\"/>\n",
       "<circle clip-path=\"url(#clip6602)\" style=\"fill:#000000; stroke:none; fill-opacity:1\" cx=\"1490.88\" cy=\"323.229\" r=\"9\"/>\n",
       "<circle clip-path=\"url(#clip6602)\" style=\"fill:#000000; stroke:none; fill-opacity:1\" cx=\"780.857\" cy=\"628.151\" r=\"12\"/>\n",
       "<circle clip-path=\"url(#clip6602)\" style=\"fill:#000000; stroke:none; fill-opacity:1\" cx=\"780.857\" cy=\"628.151\" r=\"9\"/>\n",
       "<circle clip-path=\"url(#clip6602)\" style=\"fill:#000000; stroke:none; fill-opacity:1\" cx=\"1185.92\" cy=\"833.672\" r=\"12\"/>\n",
       "<circle clip-path=\"url(#clip6602)\" style=\"fill:#000000; stroke:none; fill-opacity:1\" cx=\"1185.92\" cy=\"833.672\" r=\"9\"/>\n",
       "<circle clip-path=\"url(#clip6602)\" style=\"fill:#000000; stroke:none; fill-opacity:1\" cx=\"824.151\" cy=\"1433.54\" r=\"12\"/>\n",
       "<circle clip-path=\"url(#clip6602)\" style=\"fill:#000000; stroke:none; fill-opacity:1\" cx=\"824.151\" cy=\"1433.54\" r=\"9\"/>\n",
       "<circle clip-path=\"url(#clip6602)\" style=\"fill:#000000; stroke:none; fill-opacity:1\" cx=\"1757.48\" cy=\"1217.33\" r=\"12\"/>\n",
       "<circle clip-path=\"url(#clip6602)\" style=\"fill:#000000; stroke:none; fill-opacity:1\" cx=\"1757.48\" cy=\"1217.33\" r=\"9\"/>\n",
       "<circle clip-path=\"url(#clip6602)\" style=\"fill:#000000; stroke:none; fill-opacity:1\" cx=\"1581.99\" cy=\"1178.8\" r=\"12\"/>\n",
       "<circle clip-path=\"url(#clip6602)\" style=\"fill:#000000; stroke:none; fill-opacity:1\" cx=\"1581.99\" cy=\"1178.8\" r=\"9\"/>\n",
       "<circle clip-path=\"url(#clip6602)\" style=\"fill:#000000; stroke:none; fill-opacity:1\" cx=\"1289.64\" cy=\"1124.82\" r=\"12\"/>\n",
       "<circle clip-path=\"url(#clip6602)\" style=\"fill:#000000; stroke:none; fill-opacity:1\" cx=\"1289.64\" cy=\"1124.82\" r=\"9\"/>\n",
       "<circle clip-path=\"url(#clip6602)\" style=\"fill:#000000; stroke:none; fill-opacity:1\" cx=\"1799.24\" cy=\"901.926\" r=\"12\"/>\n",
       "<circle clip-path=\"url(#clip6602)\" style=\"fill:#000000; stroke:none; fill-opacity:1\" cx=\"1799.24\" cy=\"901.926\" r=\"9\"/>\n",
       "<circle clip-path=\"url(#clip6602)\" style=\"fill:#000000; stroke:none; fill-opacity:1\" cx=\"1861.89\" cy=\"1122.77\" r=\"12\"/>\n",
       "<circle clip-path=\"url(#clip6602)\" style=\"fill:#000000; stroke:none; fill-opacity:1\" cx=\"1861.89\" cy=\"1122.77\" r=\"9\"/>\n",
       "<circle clip-path=\"url(#clip6602)\" style=\"fill:#000000; stroke:none; fill-opacity:1\" cx=\"626.364\" cy=\"1107.19\" r=\"12\"/>\n",
       "<circle clip-path=\"url(#clip6602)\" style=\"fill:#000000; stroke:none; fill-opacity:1\" cx=\"626.364\" cy=\"1107.19\" r=\"9\"/>\n",
       "<circle clip-path=\"url(#clip6602)\" style=\"fill:#000000; stroke:none; fill-opacity:1\" cx=\"623.666\" cy=\"245.487\" r=\"12\"/>\n",
       "<circle clip-path=\"url(#clip6602)\" style=\"fill:#000000; stroke:none; fill-opacity:1\" cx=\"623.666\" cy=\"245.487\" r=\"9\"/>\n",
       "<circle clip-path=\"url(#clip6602)\" style=\"fill:#000000; stroke:none; fill-opacity:1\" cx=\"930.003\" cy=\"913.446\" r=\"12\"/>\n",
       "<circle clip-path=\"url(#clip6602)\" style=\"fill:#000000; stroke:none; fill-opacity:1\" cx=\"930.003\" cy=\"913.446\" r=\"9\"/>\n",
       "<circle clip-path=\"url(#clip6602)\" style=\"fill:#000000; stroke:none; fill-opacity:1\" cx=\"1233.2\" cy=\"710.265\" r=\"12\"/>\n",
       "<circle clip-path=\"url(#clip6602)\" style=\"fill:#000000; stroke:none; fill-opacity:1\" cx=\"1233.2\" cy=\"710.265\" r=\"9\"/>\n",
       "<circle clip-path=\"url(#clip6602)\" style=\"fill:#000000; stroke:none; fill-opacity:1\" cx=\"1656.65\" cy=\"1409.51\" r=\"12\"/>\n",
       "<circle clip-path=\"url(#clip6602)\" style=\"fill:#000000; stroke:none; fill-opacity:1\" cx=\"1656.65\" cy=\"1409.51\" r=\"9\"/>\n",
       "<circle clip-path=\"url(#clip6602)\" style=\"fill:#000000; stroke:none; fill-opacity:1\" cx=\"740.447\" cy=\"632.14\" r=\"12\"/>\n",
       "<circle clip-path=\"url(#clip6602)\" style=\"fill:#000000; stroke:none; fill-opacity:1\" cx=\"740.447\" cy=\"632.14\" r=\"9\"/>\n",
       "<circle clip-path=\"url(#clip6602)\" style=\"fill:#000000; stroke:none; fill-opacity:1\" cx=\"845.953\" cy=\"998.314\" r=\"12\"/>\n",
       "<circle clip-path=\"url(#clip6602)\" style=\"fill:#000000; stroke:none; fill-opacity:1\" cx=\"845.953\" cy=\"998.314\" r=\"9\"/>\n",
       "<circle clip-path=\"url(#clip6602)\" style=\"fill:#000000; stroke:none; fill-opacity:1\" cx=\"1950.39\" cy=\"633.699\" r=\"12\"/>\n",
       "<circle clip-path=\"url(#clip6602)\" style=\"fill:#000000; stroke:none; fill-opacity:1\" cx=\"1950.39\" cy=\"633.699\" r=\"9\"/>\n",
       "<circle clip-path=\"url(#clip6602)\" style=\"fill:#000000; stroke:none; fill-opacity:1\" cx=\"1664.93\" cy=\"495.016\" r=\"12\"/>\n",
       "<circle clip-path=\"url(#clip6602)\" style=\"fill:#000000; stroke:none; fill-opacity:1\" cx=\"1664.93\" cy=\"495.016\" r=\"9\"/>\n",
       "<circle clip-path=\"url(#clip6602)\" style=\"fill:#000000; stroke:none; fill-opacity:1\" cx=\"1588.1\" cy=\"643.069\" r=\"12\"/>\n",
       "<circle clip-path=\"url(#clip6602)\" style=\"fill:#000000; stroke:none; fill-opacity:1\" cx=\"1588.1\" cy=\"643.069\" r=\"9\"/>\n",
       "<circle clip-path=\"url(#clip6602)\" style=\"fill:#000000; stroke:none; fill-opacity:1\" cx=\"1723.69\" cy=\"886.344\" r=\"12\"/>\n",
       "<circle clip-path=\"url(#clip6602)\" style=\"fill:#000000; stroke:none; fill-opacity:1\" cx=\"1723.69\" cy=\"886.344\" r=\"9\"/>\n",
       "<circle clip-path=\"url(#clip6602)\" style=\"fill:#000000; stroke:none; fill-opacity:1\" cx=\"610.29\" cy=\"474.528\" r=\"12\"/>\n",
       "<circle clip-path=\"url(#clip6602)\" style=\"fill:#000000; stroke:none; fill-opacity:1\" cx=\"610.29\" cy=\"474.528\" r=\"9\"/>\n",
       "<circle clip-path=\"url(#clip6602)\" style=\"fill:#000000; stroke:none; fill-opacity:1\" cx=\"1642.64\" cy=\"807.865\" r=\"12\"/>\n",
       "<circle clip-path=\"url(#clip6602)\" style=\"fill:#000000; stroke:none; fill-opacity:1\" cx=\"1642.64\" cy=\"807.865\" r=\"9\"/>\n",
       "<circle clip-path=\"url(#clip6602)\" style=\"fill:#000000; stroke:none; fill-opacity:1\" cx=\"1374.74\" cy=\"1394.41\" r=\"12\"/>\n",
       "<circle clip-path=\"url(#clip6602)\" style=\"fill:#000000; stroke:none; fill-opacity:1\" cx=\"1374.74\" cy=\"1394.41\" r=\"9\"/>\n",
       "<circle clip-path=\"url(#clip6602)\" style=\"fill:#000000; stroke:none; fill-opacity:1\" cx=\"1006.65\" cy=\"648.909\" r=\"12\"/>\n",
       "<circle clip-path=\"url(#clip6602)\" style=\"fill:#000000; stroke:none; fill-opacity:1\" cx=\"1006.65\" cy=\"648.909\" r=\"9\"/>\n",
       "<circle clip-path=\"url(#clip6602)\" style=\"fill:#000000; stroke:none; fill-opacity:1\" cx=\"643.38\" cy=\"72.5875\" r=\"12\"/>\n",
       "<circle clip-path=\"url(#clip6602)\" style=\"fill:#000000; stroke:none; fill-opacity:1\" cx=\"643.38\" cy=\"72.5875\" r=\"9\"/>\n",
       "<circle clip-path=\"url(#clip6602)\" style=\"fill:#000000; stroke:none; fill-opacity:1\" cx=\"658.146\" cy=\"834.065\" r=\"12\"/>\n",
       "<circle clip-path=\"url(#clip6602)\" style=\"fill:#000000; stroke:none; fill-opacity:1\" cx=\"658.146\" cy=\"834.065\" r=\"9\"/>\n",
       "<circle clip-path=\"url(#clip6602)\" style=\"fill:#000000; stroke:none; fill-opacity:1\" cx=\"729.609\" cy=\"1191.43\" r=\"12\"/>\n",
       "<circle clip-path=\"url(#clip6602)\" style=\"fill:#000000; stroke:none; fill-opacity:1\" cx=\"729.609\" cy=\"1191.43\" r=\"9\"/>\n",
       "<circle clip-path=\"url(#clip6602)\" style=\"fill:#000000; stroke:none; fill-opacity:1\" cx=\"664.81\" cy=\"180.223\" r=\"12\"/>\n",
       "<circle clip-path=\"url(#clip6602)\" style=\"fill:#000000; stroke:none; fill-opacity:1\" cx=\"664.81\" cy=\"180.223\" r=\"9\"/>\n",
       "<circle clip-path=\"url(#clip6602)\" style=\"fill:#000000; stroke:none; fill-opacity:1\" cx=\"803.28\" cy=\"196.015\" r=\"12\"/>\n",
       "<circle clip-path=\"url(#clip6602)\" style=\"fill:#000000; stroke:none; fill-opacity:1\" cx=\"803.28\" cy=\"196.015\" r=\"9\"/>\n",
       "<circle clip-path=\"url(#clip6602)\" style=\"fill:#000000; stroke:none; fill-opacity:1\" cx=\"890.678\" cy=\"1476.12\" r=\"12\"/>\n",
       "<circle clip-path=\"url(#clip6602)\" style=\"fill:#000000; stroke:none; fill-opacity:1\" cx=\"890.678\" cy=\"1476.12\" r=\"9\"/>\n",
       "<circle clip-path=\"url(#clip6602)\" style=\"fill:#000000; stroke:none; fill-opacity:1\" cx=\"1520.55\" cy=\"1280.46\" r=\"12\"/>\n",
       "<circle clip-path=\"url(#clip6602)\" style=\"fill:#000000; stroke:none; fill-opacity:1\" cx=\"1520.55\" cy=\"1280.46\" r=\"9\"/>\n",
       "<circle clip-path=\"url(#clip6602)\" style=\"fill:#000000; stroke:none; fill-opacity:1\" cx=\"821.856\" cy=\"1357.58\" r=\"12\"/>\n",
       "<circle clip-path=\"url(#clip6602)\" style=\"fill:#000000; stroke:none; fill-opacity:1\" cx=\"821.856\" cy=\"1357.58\" r=\"9\"/>\n",
       "<circle clip-path=\"url(#clip6602)\" style=\"fill:#000000; stroke:none; fill-opacity:1\" cx=\"917.13\" cy=\"1026.05\" r=\"12\"/>\n",
       "<circle clip-path=\"url(#clip6602)\" style=\"fill:#000000; stroke:none; fill-opacity:1\" cx=\"917.13\" cy=\"1026.05\" r=\"9\"/>\n",
       "<circle clip-path=\"url(#clip6602)\" style=\"fill:#000000; stroke:none; fill-opacity:1\" cx=\"1225.14\" cy=\"1484.21\" r=\"12\"/>\n",
       "<circle clip-path=\"url(#clip6602)\" style=\"fill:#000000; stroke:none; fill-opacity:1\" cx=\"1225.14\" cy=\"1484.21\" r=\"9\"/>\n",
       "<circle clip-path=\"url(#clip6602)\" style=\"fill:#000000; stroke:none; fill-opacity:1\" cx=\"1362.46\" cy=\"484.821\" r=\"12\"/>\n",
       "<circle clip-path=\"url(#clip6602)\" style=\"fill:#000000; stroke:none; fill-opacity:1\" cx=\"1362.46\" cy=\"484.821\" r=\"9\"/>\n",
       "<circle clip-path=\"url(#clip6602)\" style=\"fill:#000000; stroke:none; fill-opacity:1\" cx=\"1511.6\" cy=\"559.374\" r=\"12\"/>\n",
       "<circle clip-path=\"url(#clip6602)\" style=\"fill:#000000; stroke:none; fill-opacity:1\" cx=\"1511.6\" cy=\"559.374\" r=\"9\"/>\n",
       "<circle clip-path=\"url(#clip6602)\" style=\"fill:#000000; stroke:none; fill-opacity:1\" cx=\"1897.63\" cy=\"365.23\" r=\"12\"/>\n",
       "<circle clip-path=\"url(#clip6602)\" style=\"fill:#000000; stroke:none; fill-opacity:1\" cx=\"1897.63\" cy=\"365.23\" r=\"9\"/>\n",
       "<circle clip-path=\"url(#clip6602)\" style=\"fill:#000000; stroke:none; fill-opacity:1\" cx=\"1303.57\" cy=\"477.864\" r=\"12\"/>\n",
       "<circle clip-path=\"url(#clip6602)\" style=\"fill:#000000; stroke:none; fill-opacity:1\" cx=\"1303.57\" cy=\"477.864\" r=\"9\"/>\n",
       "<circle clip-path=\"url(#clip6602)\" style=\"fill:#000000; stroke:none; fill-opacity:1\" cx=\"932.345\" cy=\"285.257\" r=\"12\"/>\n",
       "<circle clip-path=\"url(#clip6602)\" style=\"fill:#000000; stroke:none; fill-opacity:1\" cx=\"932.345\" cy=\"285.257\" r=\"9\"/>\n",
       "<circle clip-path=\"url(#clip6602)\" style=\"fill:#000000; stroke:none; fill-opacity:1\" cx=\"1500.97\" cy=\"486.978\" r=\"12\"/>\n",
       "<circle clip-path=\"url(#clip6602)\" style=\"fill:#000000; stroke:none; fill-opacity:1\" cx=\"1500.97\" cy=\"486.978\" r=\"9\"/>\n",
       "<circle clip-path=\"url(#clip6602)\" style=\"fill:#000000; stroke:none; fill-opacity:1\" cx=\"1808.56\" cy=\"823.705\" r=\"12\"/>\n",
       "<circle clip-path=\"url(#clip6602)\" style=\"fill:#000000; stroke:none; fill-opacity:1\" cx=\"1808.56\" cy=\"823.705\" r=\"9\"/>\n",
       "<circle clip-path=\"url(#clip6602)\" style=\"fill:#000000; stroke:none; fill-opacity:1\" cx=\"1830.15\" cy=\"440.279\" r=\"12\"/>\n",
       "<circle clip-path=\"url(#clip6602)\" style=\"fill:#000000; stroke:none; fill-opacity:1\" cx=\"1830.15\" cy=\"440.279\" r=\"9\"/>\n",
       "<circle clip-path=\"url(#clip6602)\" style=\"fill:#000000; stroke:none; fill-opacity:1\" cx=\"659.888\" cy=\"923.733\" r=\"12\"/>\n",
       "<circle clip-path=\"url(#clip6602)\" style=\"fill:#000000; stroke:none; fill-opacity:1\" cx=\"659.888\" cy=\"923.733\" r=\"9\"/>\n",
       "<circle clip-path=\"url(#clip6602)\" style=\"fill:#000000; stroke:none; fill-opacity:1\" cx=\"1367.6\" cy=\"366.317\" r=\"12\"/>\n",
       "<circle clip-path=\"url(#clip6602)\" style=\"fill:#000000; stroke:none; fill-opacity:1\" cx=\"1367.6\" cy=\"366.317\" r=\"9\"/>\n",
       "<circle clip-path=\"url(#clip6602)\" style=\"fill:#000000; stroke:none; fill-opacity:1\" cx=\"1420.26\" cy=\"792.441\" r=\"12\"/>\n",
       "<circle clip-path=\"url(#clip6602)\" style=\"fill:#000000; stroke:none; fill-opacity:1\" cx=\"1420.26\" cy=\"792.441\" r=\"9\"/>\n",
       "<circle clip-path=\"url(#clip6602)\" style=\"fill:#000000; stroke:none; fill-opacity:1\" cx=\"1034.12\" cy=\"749.158\" r=\"12\"/>\n",
       "<circle clip-path=\"url(#clip6602)\" style=\"fill:#000000; stroke:none; fill-opacity:1\" cx=\"1034.12\" cy=\"749.158\" r=\"9\"/>\n",
       "<circle clip-path=\"url(#clip6602)\" style=\"fill:#000000; stroke:none; fill-opacity:1\" cx=\"981.685\" cy=\"769.506\" r=\"12\"/>\n",
       "<circle clip-path=\"url(#clip6602)\" style=\"fill:#000000; stroke:none; fill-opacity:1\" cx=\"981.685\" cy=\"769.506\" r=\"9\"/>\n",
       "<circle clip-path=\"url(#clip6602)\" style=\"fill:#000000; stroke:none; fill-opacity:1\" cx=\"591.601\" cy=\"233.855\" r=\"12\"/>\n",
       "<circle clip-path=\"url(#clip6602)\" style=\"fill:#000000; stroke:none; fill-opacity:1\" cx=\"591.601\" cy=\"233.855\" r=\"9\"/>\n",
       "<circle clip-path=\"url(#clip6602)\" style=\"fill:#000000; stroke:none; fill-opacity:1\" cx=\"1324.55\" cy=\"186.225\" r=\"12\"/>\n",
       "<circle clip-path=\"url(#clip6602)\" style=\"fill:#000000; stroke:none; fill-opacity:1\" cx=\"1324.55\" cy=\"186.225\" r=\"9\"/>\n",
       "<circle clip-path=\"url(#clip6602)\" style=\"fill:#000000; stroke:none; fill-opacity:1\" cx=\"1418.78\" cy=\"1284.09\" r=\"12\"/>\n",
       "<circle clip-path=\"url(#clip6602)\" style=\"fill:#000000; stroke:none; fill-opacity:1\" cx=\"1418.78\" cy=\"1284.09\" r=\"9\"/>\n",
       "<circle clip-path=\"url(#clip6602)\" style=\"fill:#000000; stroke:none; fill-opacity:1\" cx=\"1114.24\" cy=\"1347.81\" r=\"12\"/>\n",
       "<circle clip-path=\"url(#clip6602)\" style=\"fill:#000000; stroke:none; fill-opacity:1\" cx=\"1114.24\" cy=\"1347.81\" r=\"9\"/>\n",
       "<circle clip-path=\"url(#clip6602)\" style=\"fill:#000000; stroke:none; fill-opacity:1\" cx=\"870.074\" cy=\"156.098\" r=\"12\"/>\n",
       "<circle clip-path=\"url(#clip6602)\" style=\"fill:#000000; stroke:none; fill-opacity:1\" cx=\"870.074\" cy=\"156.098\" r=\"9\"/>\n",
       "<circle clip-path=\"url(#clip6602)\" style=\"fill:#000000; stroke:none; fill-opacity:1\" cx=\"1107.52\" cy=\"863.231\" r=\"12\"/>\n",
       "<circle clip-path=\"url(#clip6602)\" style=\"fill:#000000; stroke:none; fill-opacity:1\" cx=\"1107.52\" cy=\"863.231\" r=\"9\"/>\n",
       "<circle clip-path=\"url(#clip6602)\" style=\"fill:#000000; stroke:none; fill-opacity:1\" cx=\"1533.43\" cy=\"167.411\" r=\"12\"/>\n",
       "<circle clip-path=\"url(#clip6602)\" style=\"fill:#000000; stroke:none; fill-opacity:1\" cx=\"1533.43\" cy=\"167.411\" r=\"9\"/>\n",
       "<circle clip-path=\"url(#clip6602)\" style=\"fill:#000000; stroke:none; fill-opacity:1\" cx=\"722.929\" cy=\"1162.43\" r=\"12\"/>\n",
       "<circle clip-path=\"url(#clip6602)\" style=\"fill:#000000; stroke:none; fill-opacity:1\" cx=\"722.929\" cy=\"1162.43\" r=\"9\"/>\n",
       "<circle clip-path=\"url(#clip6602)\" style=\"fill:#000000; stroke:none; fill-opacity:1\" cx=\"1586.78\" cy=\"298.981\" r=\"12\"/>\n",
       "<circle clip-path=\"url(#clip6602)\" style=\"fill:#000000; stroke:none; fill-opacity:1\" cx=\"1586.78\" cy=\"298.981\" r=\"9\"/>\n",
       "<circle clip-path=\"url(#clip6602)\" style=\"fill:#000000; stroke:none; fill-opacity:1\" cx=\"1673.84\" cy=\"607.186\" r=\"12\"/>\n",
       "<circle clip-path=\"url(#clip6602)\" style=\"fill:#000000; stroke:none; fill-opacity:1\" cx=\"1673.84\" cy=\"607.186\" r=\"9\"/>\n",
       "<circle clip-path=\"url(#clip6602)\" style=\"fill:#000000; stroke:none; fill-opacity:1\" cx=\"973.959\" cy=\"1272.65\" r=\"12\"/>\n",
       "<circle clip-path=\"url(#clip6602)\" style=\"fill:#000000; stroke:none; fill-opacity:1\" cx=\"973.959\" cy=\"1272.65\" r=\"9\"/>\n",
       "<circle clip-path=\"url(#clip6602)\" style=\"fill:#000000; stroke:none; fill-opacity:1\" cx=\"781.05\" cy=\"897.459\" r=\"12\"/>\n",
       "<circle clip-path=\"url(#clip6602)\" style=\"fill:#000000; stroke:none; fill-opacity:1\" cx=\"781.05\" cy=\"897.459\" r=\"9\"/>\n",
       "<circle clip-path=\"url(#clip6602)\" style=\"fill:#000000; stroke:none; fill-opacity:1\" cx=\"1987.27\" cy=\"1343.31\" r=\"12\"/>\n",
       "<circle clip-path=\"url(#clip6602)\" style=\"fill:#000000; stroke:none; fill-opacity:1\" cx=\"1987.27\" cy=\"1343.31\" r=\"9\"/>\n",
       "<circle clip-path=\"url(#clip6602)\" style=\"fill:#000000; stroke:none; fill-opacity:1\" cx=\"1247.62\" cy=\"1390.29\" r=\"12\"/>\n",
       "<circle clip-path=\"url(#clip6602)\" style=\"fill:#000000; stroke:none; fill-opacity:1\" cx=\"1247.62\" cy=\"1390.29\" r=\"9\"/>\n",
       "<circle clip-path=\"url(#clip6602)\" style=\"fill:#000000; stroke:none; fill-opacity:1\" cx=\"1066.89\" cy=\"252.819\" r=\"12\"/>\n",
       "<circle clip-path=\"url(#clip6602)\" style=\"fill:#000000; stroke:none; fill-opacity:1\" cx=\"1066.89\" cy=\"252.819\" r=\"9\"/>\n",
       "<circle clip-path=\"url(#clip6602)\" style=\"fill:#000000; stroke:none; fill-opacity:1\" cx=\"557.11\" cy=\"1273.76\" r=\"12\"/>\n",
       "<circle clip-path=\"url(#clip6602)\" style=\"fill:#000000; stroke:none; fill-opacity:1\" cx=\"557.11\" cy=\"1273.76\" r=\"9\"/>\n",
       "<circle clip-path=\"url(#clip6602)\" style=\"fill:#000000; stroke:none; fill-opacity:1\" cx=\"1527.65\" cy=\"401.609\" r=\"12\"/>\n",
       "<circle clip-path=\"url(#clip6602)\" style=\"fill:#000000; stroke:none; fill-opacity:1\" cx=\"1527.65\" cy=\"401.609\" r=\"9\"/>\n",
       "<circle clip-path=\"url(#clip6602)\" style=\"fill:#000000; stroke:none; fill-opacity:1\" cx=\"1156.2\" cy=\"1351.4\" r=\"12\"/>\n",
       "<circle clip-path=\"url(#clip6602)\" style=\"fill:#000000; stroke:none; fill-opacity:1\" cx=\"1156.2\" cy=\"1351.4\" r=\"9\"/>\n",
       "<circle clip-path=\"url(#clip6602)\" style=\"fill:#000000; stroke:none; fill-opacity:1\" cx=\"1364.72\" cy=\"711.83\" r=\"12\"/>\n",
       "<circle clip-path=\"url(#clip6602)\" style=\"fill:#000000; stroke:none; fill-opacity:1\" cx=\"1364.72\" cy=\"711.83\" r=\"9\"/>\n",
       "<circle clip-path=\"url(#clip6602)\" style=\"fill:#000000; stroke:none; fill-opacity:1\" cx=\"971.09\" cy=\"614.072\" r=\"12\"/>\n",
       "<circle clip-path=\"url(#clip6602)\" style=\"fill:#000000; stroke:none; fill-opacity:1\" cx=\"971.09\" cy=\"614.072\" r=\"9\"/>\n",
       "<circle clip-path=\"url(#clip6602)\" style=\"fill:#000000; stroke:none; fill-opacity:1\" cx=\"975.21\" cy=\"501.714\" r=\"12\"/>\n",
       "<circle clip-path=\"url(#clip6602)\" style=\"fill:#000000; stroke:none; fill-opacity:1\" cx=\"975.21\" cy=\"501.714\" r=\"9\"/>\n",
       "<circle clip-path=\"url(#clip6602)\" style=\"fill:#000000; stroke:none; fill-opacity:1\" cx=\"1546.24\" cy=\"153.757\" r=\"12\"/>\n",
       "<circle clip-path=\"url(#clip6602)\" style=\"fill:#000000; stroke:none; fill-opacity:1\" cx=\"1546.24\" cy=\"153.757\" r=\"9\"/>\n",
       "<circle clip-path=\"url(#clip6602)\" style=\"fill:#000000; stroke:none; fill-opacity:1\" cx=\"1616.25\" cy=\"1047.51\" r=\"12\"/>\n",
       "<circle clip-path=\"url(#clip6602)\" style=\"fill:#000000; stroke:none; fill-opacity:1\" cx=\"1616.25\" cy=\"1047.51\" r=\"9\"/>\n",
       "<circle clip-path=\"url(#clip6602)\" style=\"fill:#000000; stroke:none; fill-opacity:1\" cx=\"1361.33\" cy=\"1474.41\" r=\"12\"/>\n",
       "<circle clip-path=\"url(#clip6602)\" style=\"fill:#000000; stroke:none; fill-opacity:1\" cx=\"1361.33\" cy=\"1474.41\" r=\"9\"/>\n",
       "<circle clip-path=\"url(#clip6602)\" style=\"fill:#000000; stroke:none; fill-opacity:1\" cx=\"1429.71\" cy=\"209.574\" r=\"12\"/>\n",
       "<circle clip-path=\"url(#clip6602)\" style=\"fill:#000000; stroke:none; fill-opacity:1\" cx=\"1429.71\" cy=\"209.574\" r=\"9\"/>\n",
       "<circle clip-path=\"url(#clip6602)\" style=\"fill:#000000; stroke:none; fill-opacity:1\" cx=\"1065.43\" cy=\"862.536\" r=\"12\"/>\n",
       "<circle clip-path=\"url(#clip6602)\" style=\"fill:#000000; stroke:none; fill-opacity:1\" cx=\"1065.43\" cy=\"862.536\" r=\"9\"/>\n",
       "<circle clip-path=\"url(#clip6602)\" style=\"fill:#000000; stroke:none; fill-opacity:1\" cx=\"979.738\" cy=\"214.428\" r=\"12\"/>\n",
       "<circle clip-path=\"url(#clip6602)\" style=\"fill:#000000; stroke:none; fill-opacity:1\" cx=\"979.738\" cy=\"214.428\" r=\"9\"/>\n",
       "<circle clip-path=\"url(#clip6602)\" style=\"fill:#000000; stroke:none; fill-opacity:1\" cx=\"1208.09\" cy=\"383.311\" r=\"12\"/>\n",
       "<circle clip-path=\"url(#clip6602)\" style=\"fill:#000000; stroke:none; fill-opacity:1\" cx=\"1208.09\" cy=\"383.311\" r=\"9\"/>\n",
       "<circle clip-path=\"url(#clip6602)\" style=\"fill:#000000; stroke:none; fill-opacity:1\" cx=\"1043.83\" cy=\"1429.29\" r=\"12\"/>\n",
       "<circle clip-path=\"url(#clip6602)\" style=\"fill:#000000; stroke:none; fill-opacity:1\" cx=\"1043.83\" cy=\"1429.29\" r=\"9\"/>\n",
       "<circle clip-path=\"url(#clip6602)\" style=\"fill:#000000; stroke:none; fill-opacity:1\" cx=\"656.538\" cy=\"158.519\" r=\"12\"/>\n",
       "<circle clip-path=\"url(#clip6602)\" style=\"fill:#000000; stroke:none; fill-opacity:1\" cx=\"656.538\" cy=\"158.519\" r=\"9\"/>\n",
       "<circle clip-path=\"url(#clip6602)\" style=\"fill:#000000; stroke:none; fill-opacity:1\" cx=\"1636.1\" cy=\"50.7493\" r=\"12\"/>\n",
       "<circle clip-path=\"url(#clip6602)\" style=\"fill:#000000; stroke:none; fill-opacity:1\" cx=\"1636.1\" cy=\"50.7493\" r=\"9\"/>\n",
       "<circle clip-path=\"url(#clip6602)\" style=\"fill:#000000; stroke:none; fill-opacity:1\" cx=\"1778.36\" cy=\"1439.21\" r=\"12\"/>\n",
       "<circle clip-path=\"url(#clip6602)\" style=\"fill:#000000; stroke:none; fill-opacity:1\" cx=\"1778.36\" cy=\"1439.21\" r=\"9\"/>\n",
       "<circle clip-path=\"url(#clip6602)\" style=\"fill:#000000; stroke:none; fill-opacity:1\" cx=\"1153.67\" cy=\"967.317\" r=\"12\"/>\n",
       "<circle clip-path=\"url(#clip6602)\" style=\"fill:#000000; stroke:none; fill-opacity:1\" cx=\"1153.67\" cy=\"967.317\" r=\"9\"/>\n",
       "<circle clip-path=\"url(#clip6602)\" style=\"fill:#000000; stroke:none; fill-opacity:1\" cx=\"1920.5\" cy=\"1419.15\" r=\"12\"/>\n",
       "<circle clip-path=\"url(#clip6602)\" style=\"fill:#000000; stroke:none; fill-opacity:1\" cx=\"1920.5\" cy=\"1419.15\" r=\"9\"/>\n",
       "<circle clip-path=\"url(#clip6602)\" style=\"fill:#000000; stroke:none; fill-opacity:1\" cx=\"1344.42\" cy=\"71.9564\" r=\"12\"/>\n",
       "<circle clip-path=\"url(#clip6602)\" style=\"fill:#000000; stroke:none; fill-opacity:1\" cx=\"1344.42\" cy=\"71.9564\" r=\"9\"/>\n",
       "<circle clip-path=\"url(#clip6602)\" style=\"fill:#000000; stroke:none; fill-opacity:1\" cx=\"1531.26\" cy=\"207.141\" r=\"12\"/>\n",
       "<circle clip-path=\"url(#clip6602)\" style=\"fill:#000000; stroke:none; fill-opacity:1\" cx=\"1531.26\" cy=\"207.141\" r=\"9\"/>\n",
       "<circle clip-path=\"url(#clip6602)\" style=\"fill:#000000; stroke:none; fill-opacity:1\" cx=\"1097.3\" cy=\"1378.95\" r=\"12\"/>\n",
       "<circle clip-path=\"url(#clip6602)\" style=\"fill:#000000; stroke:none; fill-opacity:1\" cx=\"1097.3\" cy=\"1378.95\" r=\"9\"/>\n",
       "<circle clip-path=\"url(#clip6602)\" style=\"fill:#000000; stroke:none; fill-opacity:1\" cx=\"821.232\" cy=\"1484.66\" r=\"12\"/>\n",
       "<circle clip-path=\"url(#clip6602)\" style=\"fill:#000000; stroke:none; fill-opacity:1\" cx=\"821.232\" cy=\"1484.66\" r=\"9\"/>\n",
       "<circle clip-path=\"url(#clip6602)\" style=\"fill:#000000; stroke:none; fill-opacity:1\" cx=\"1702.48\" cy=\"439.699\" r=\"12\"/>\n",
       "<circle clip-path=\"url(#clip6602)\" style=\"fill:#000000; stroke:none; fill-opacity:1\" cx=\"1702.48\" cy=\"439.699\" r=\"9\"/>\n",
       "<circle clip-path=\"url(#clip6602)\" style=\"fill:#000000; stroke:none; fill-opacity:1\" cx=\"1401.32\" cy=\"242.781\" r=\"12\"/>\n",
       "<circle clip-path=\"url(#clip6602)\" style=\"fill:#000000; stroke:none; fill-opacity:1\" cx=\"1401.32\" cy=\"242.781\" r=\"9\"/>\n",
       "<circle clip-path=\"url(#clip6602)\" style=\"fill:#000000; stroke:none; fill-opacity:1\" cx=\"1517.33\" cy=\"620.919\" r=\"12\"/>\n",
       "<circle clip-path=\"url(#clip6602)\" style=\"fill:#000000; stroke:none; fill-opacity:1\" cx=\"1517.33\" cy=\"620.919\" r=\"9\"/>\n",
       "<circle clip-path=\"url(#clip6602)\" style=\"fill:#000000; stroke:none; fill-opacity:1\" cx=\"1511.58\" cy=\"471.799\" r=\"12\"/>\n",
       "<circle clip-path=\"url(#clip6602)\" style=\"fill:#000000; stroke:none; fill-opacity:1\" cx=\"1511.58\" cy=\"471.799\" r=\"9\"/>\n",
       "<circle clip-path=\"url(#clip6602)\" style=\"fill:#000000; stroke:none; fill-opacity:1\" cx=\"1558.98\" cy=\"1451.2\" r=\"12\"/>\n",
       "<circle clip-path=\"url(#clip6602)\" style=\"fill:#000000; stroke:none; fill-opacity:1\" cx=\"1558.98\" cy=\"1451.2\" r=\"9\"/>\n",
       "<circle clip-path=\"url(#clip6602)\" style=\"fill:#000000; stroke:none; fill-opacity:1\" cx=\"685.284\" cy=\"1380.54\" r=\"12\"/>\n",
       "<circle clip-path=\"url(#clip6602)\" style=\"fill:#000000; stroke:none; fill-opacity:1\" cx=\"685.284\" cy=\"1380.54\" r=\"9\"/>\n",
       "<circle clip-path=\"url(#clip6602)\" style=\"fill:#000000; stroke:none; fill-opacity:1\" cx=\"1304.85\" cy=\"1374.73\" r=\"12\"/>\n",
       "<circle clip-path=\"url(#clip6602)\" style=\"fill:#000000; stroke:none; fill-opacity:1\" cx=\"1304.85\" cy=\"1374.73\" r=\"9\"/>\n",
       "<circle clip-path=\"url(#clip6602)\" style=\"fill:#000000; stroke:none; fill-opacity:1\" cx=\"1949.06\" cy=\"1278.3\" r=\"12\"/>\n",
       "<circle clip-path=\"url(#clip6602)\" style=\"fill:#000000; stroke:none; fill-opacity:1\" cx=\"1949.06\" cy=\"1278.3\" r=\"9\"/>\n",
       "<circle clip-path=\"url(#clip6602)\" style=\"fill:#000000; stroke:none; fill-opacity:1\" cx=\"851.941\" cy=\"1183.34\" r=\"12\"/>\n",
       "<circle clip-path=\"url(#clip6602)\" style=\"fill:#000000; stroke:none; fill-opacity:1\" cx=\"851.941\" cy=\"1183.34\" r=\"9\"/>\n",
       "<circle clip-path=\"url(#clip6602)\" style=\"fill:#000000; stroke:none; fill-opacity:1\" cx=\"562.41\" cy=\"1127.29\" r=\"12\"/>\n",
       "<circle clip-path=\"url(#clip6602)\" style=\"fill:#000000; stroke:none; fill-opacity:1\" cx=\"562.41\" cy=\"1127.29\" r=\"9\"/>\n",
       "<circle clip-path=\"url(#clip6602)\" style=\"fill:#000000; stroke:none; fill-opacity:1\" cx=\"1628.21\" cy=\"53.896\" r=\"12\"/>\n",
       "<circle clip-path=\"url(#clip6602)\" style=\"fill:#000000; stroke:none; fill-opacity:1\" cx=\"1628.21\" cy=\"53.896\" r=\"9\"/>\n",
       "<circle clip-path=\"url(#clip6602)\" style=\"fill:#000000; stroke:none; fill-opacity:1\" cx=\"1028.51\" cy=\"1010.05\" r=\"12\"/>\n",
       "<circle clip-path=\"url(#clip6602)\" style=\"fill:#000000; stroke:none; fill-opacity:1\" cx=\"1028.51\" cy=\"1010.05\" r=\"9\"/>\n",
       "<circle clip-path=\"url(#clip6602)\" style=\"fill:#000000; stroke:none; fill-opacity:1\" cx=\"924.003\" cy=\"911.977\" r=\"12\"/>\n",
       "<circle clip-path=\"url(#clip6602)\" style=\"fill:#000000; stroke:none; fill-opacity:1\" cx=\"924.003\" cy=\"911.977\" r=\"9\"/>\n",
       "<circle clip-path=\"url(#clip6602)\" style=\"fill:#000000; stroke:none; fill-opacity:1\" cx=\"1232.13\" cy=\"896.887\" r=\"12\"/>\n",
       "<circle clip-path=\"url(#clip6602)\" style=\"fill:#000000; stroke:none; fill-opacity:1\" cx=\"1232.13\" cy=\"896.887\" r=\"9\"/>\n",
       "<circle clip-path=\"url(#clip6602)\" style=\"fill:#000000; stroke:none; fill-opacity:1\" cx=\"1847.88\" cy=\"370.167\" r=\"12\"/>\n",
       "<circle clip-path=\"url(#clip6602)\" style=\"fill:#000000; stroke:none; fill-opacity:1\" cx=\"1847.88\" cy=\"370.167\" r=\"9\"/>\n",
       "<circle clip-path=\"url(#clip6602)\" style=\"fill:#000000; stroke:none; fill-opacity:1\" cx=\"1390.84\" cy=\"817.016\" r=\"12\"/>\n",
       "<circle clip-path=\"url(#clip6602)\" style=\"fill:#000000; stroke:none; fill-opacity:1\" cx=\"1390.84\" cy=\"817.016\" r=\"9\"/>\n",
       "<circle clip-path=\"url(#clip6602)\" style=\"fill:#000000; stroke:none; fill-opacity:1\" cx=\"1770.98\" cy=\"1332.13\" r=\"12\"/>\n",
       "<circle clip-path=\"url(#clip6602)\" style=\"fill:#000000; stroke:none; fill-opacity:1\" cx=\"1770.98\" cy=\"1332.13\" r=\"9\"/>\n",
       "<circle clip-path=\"url(#clip6602)\" style=\"fill:#000000; stroke:none; fill-opacity:1\" cx=\"1577.98\" cy=\"274.467\" r=\"12\"/>\n",
       "<circle clip-path=\"url(#clip6602)\" style=\"fill:#000000; stroke:none; fill-opacity:1\" cx=\"1577.98\" cy=\"274.467\" r=\"9\"/>\n",
       "<circle clip-path=\"url(#clip6602)\" style=\"fill:#000000; stroke:none; fill-opacity:1\" cx=\"1123.81\" cy=\"165.003\" r=\"12\"/>\n",
       "<circle clip-path=\"url(#clip6602)\" style=\"fill:#000000; stroke:none; fill-opacity:1\" cx=\"1123.81\" cy=\"165.003\" r=\"9\"/>\n",
       "<circle clip-path=\"url(#clip6602)\" style=\"fill:#000000; stroke:none; fill-opacity:1\" cx=\"575.564\" cy=\"284.271\" r=\"12\"/>\n",
       "<circle clip-path=\"url(#clip6602)\" style=\"fill:#000000; stroke:none; fill-opacity:1\" cx=\"575.564\" cy=\"284.271\" r=\"9\"/>\n",
       "<circle clip-path=\"url(#clip6602)\" style=\"fill:#000000; stroke:none; fill-opacity:1\" cx=\"774.948\" cy=\"801.475\" r=\"12\"/>\n",
       "<circle clip-path=\"url(#clip6602)\" style=\"fill:#000000; stroke:none; fill-opacity:1\" cx=\"774.948\" cy=\"801.475\" r=\"9\"/>\n",
       "<circle clip-path=\"url(#clip6602)\" style=\"fill:#000000; stroke:none; fill-opacity:1\" cx=\"1378.05\" cy=\"1203.15\" r=\"12\"/>\n",
       "<circle clip-path=\"url(#clip6602)\" style=\"fill:#000000; stroke:none; fill-opacity:1\" cx=\"1378.05\" cy=\"1203.15\" r=\"9\"/>\n",
       "<circle clip-path=\"url(#clip6602)\" style=\"fill:#000000; stroke:none; fill-opacity:1\" cx=\"1886.8\" cy=\"1408.45\" r=\"12\"/>\n",
       "<circle clip-path=\"url(#clip6602)\" style=\"fill:#000000; stroke:none; fill-opacity:1\" cx=\"1886.8\" cy=\"1408.45\" r=\"9\"/>\n",
       "<circle clip-path=\"url(#clip6602)\" style=\"fill:#000000; stroke:none; fill-opacity:1\" cx=\"1665.72\" cy=\"743.964\" r=\"12\"/>\n",
       "<circle clip-path=\"url(#clip6602)\" style=\"fill:#000000; stroke:none; fill-opacity:1\" cx=\"1665.72\" cy=\"743.964\" r=\"9\"/>\n",
       "<circle clip-path=\"url(#clip6602)\" style=\"fill:#000000; stroke:none; fill-opacity:1\" cx=\"1624.19\" cy=\"533.084\" r=\"12\"/>\n",
       "<circle clip-path=\"url(#clip6602)\" style=\"fill:#000000; stroke:none; fill-opacity:1\" cx=\"1624.19\" cy=\"533.084\" r=\"9\"/>\n",
       "<circle clip-path=\"url(#clip6602)\" style=\"fill:#000000; stroke:none; fill-opacity:1\" cx=\"688.638\" cy=\"1109.73\" r=\"12\"/>\n",
       "<circle clip-path=\"url(#clip6602)\" style=\"fill:#000000; stroke:none; fill-opacity:1\" cx=\"688.638\" cy=\"1109.73\" r=\"9\"/>\n",
       "<circle clip-path=\"url(#clip6602)\" style=\"fill:#000000; stroke:none; fill-opacity:1\" cx=\"1282.59\" cy=\"1380.64\" r=\"12\"/>\n",
       "<circle clip-path=\"url(#clip6602)\" style=\"fill:#000000; stroke:none; fill-opacity:1\" cx=\"1282.59\" cy=\"1380.64\" r=\"9\"/>\n",
       "<circle clip-path=\"url(#clip6602)\" style=\"fill:#000000; stroke:none; fill-opacity:1\" cx=\"850.486\" cy=\"624.586\" r=\"12\"/>\n",
       "<circle clip-path=\"url(#clip6602)\" style=\"fill:#000000; stroke:none; fill-opacity:1\" cx=\"850.486\" cy=\"624.586\" r=\"9\"/>\n",
       "<circle clip-path=\"url(#clip6602)\" style=\"fill:#000000; stroke:none; fill-opacity:1\" cx=\"562.704\" cy=\"158.979\" r=\"12\"/>\n",
       "<circle clip-path=\"url(#clip6602)\" style=\"fill:#000000; stroke:none; fill-opacity:1\" cx=\"562.704\" cy=\"158.979\" r=\"9\"/>\n",
       "<circle clip-path=\"url(#clip6602)\" style=\"fill:#000000; stroke:none; fill-opacity:1\" cx=\"1297.66\" cy=\"465.994\" r=\"12\"/>\n",
       "<circle clip-path=\"url(#clip6602)\" style=\"fill:#000000; stroke:none; fill-opacity:1\" cx=\"1297.66\" cy=\"465.994\" r=\"9\"/>\n",
       "<circle clip-path=\"url(#clip6602)\" style=\"fill:#000000; stroke:none; fill-opacity:1\" cx=\"748.521\" cy=\"1333.56\" r=\"12\"/>\n",
       "<circle clip-path=\"url(#clip6602)\" style=\"fill:#000000; stroke:none; fill-opacity:1\" cx=\"748.521\" cy=\"1333.56\" r=\"9\"/>\n",
       "<circle clip-path=\"url(#clip6602)\" style=\"fill:#000000; stroke:none; fill-opacity:1\" cx=\"1152.83\" cy=\"115.175\" r=\"12\"/>\n",
       "<circle clip-path=\"url(#clip6602)\" style=\"fill:#000000; stroke:none; fill-opacity:1\" cx=\"1152.83\" cy=\"115.175\" r=\"9\"/>\n",
       "<circle clip-path=\"url(#clip6602)\" style=\"fill:#000000; stroke:none; fill-opacity:1\" cx=\"691.827\" cy=\"1120.11\" r=\"12\"/>\n",
       "<circle clip-path=\"url(#clip6602)\" style=\"fill:#000000; stroke:none; fill-opacity:1\" cx=\"691.827\" cy=\"1120.11\" r=\"9\"/>\n",
       "<circle clip-path=\"url(#clip6602)\" style=\"fill:#000000; stroke:none; fill-opacity:1\" cx=\"1585.34\" cy=\"1017.35\" r=\"12\"/>\n",
       "<circle clip-path=\"url(#clip6602)\" style=\"fill:#000000; stroke:none; fill-opacity:1\" cx=\"1585.34\" cy=\"1017.35\" r=\"9\"/>\n",
       "<circle clip-path=\"url(#clip6602)\" style=\"fill:#000000; stroke:none; fill-opacity:1\" cx=\"973.82\" cy=\"963.407\" r=\"12\"/>\n",
       "<circle clip-path=\"url(#clip6602)\" style=\"fill:#000000; stroke:none; fill-opacity:1\" cx=\"973.82\" cy=\"963.407\" r=\"9\"/>\n",
       "<circle clip-path=\"url(#clip6602)\" style=\"fill:#000000; stroke:none; fill-opacity:1\" cx=\"1610.99\" cy=\"924.562\" r=\"12\"/>\n",
       "<circle clip-path=\"url(#clip6602)\" style=\"fill:#000000; stroke:none; fill-opacity:1\" cx=\"1610.99\" cy=\"924.562\" r=\"9\"/>\n",
       "<circle clip-path=\"url(#clip6602)\" style=\"fill:#000000; stroke:none; fill-opacity:1\" cx=\"618.962\" cy=\"1373.22\" r=\"12\"/>\n",
       "<circle clip-path=\"url(#clip6602)\" style=\"fill:#000000; stroke:none; fill-opacity:1\" cx=\"618.962\" cy=\"1373.22\" r=\"9\"/>\n",
       "<circle clip-path=\"url(#clip6602)\" style=\"fill:#000000; stroke:none; fill-opacity:1\" cx=\"1628.53\" cy=\"898.171\" r=\"12\"/>\n",
       "<circle clip-path=\"url(#clip6602)\" style=\"fill:#000000; stroke:none; fill-opacity:1\" cx=\"1628.53\" cy=\"898.171\" r=\"9\"/>\n",
       "<circle clip-path=\"url(#clip6602)\" style=\"fill:#000000; stroke:none; fill-opacity:1\" cx=\"1764.19\" cy=\"193.514\" r=\"12\"/>\n",
       "<circle clip-path=\"url(#clip6602)\" style=\"fill:#000000; stroke:none; fill-opacity:1\" cx=\"1764.19\" cy=\"193.514\" r=\"9\"/>\n",
       "<circle clip-path=\"url(#clip6602)\" style=\"fill:#000000; stroke:none; fill-opacity:1\" cx=\"695.073\" cy=\"573.956\" r=\"12\"/>\n",
       "<circle clip-path=\"url(#clip6602)\" style=\"fill:#000000; stroke:none; fill-opacity:1\" cx=\"695.073\" cy=\"573.956\" r=\"9\"/>\n",
       "<circle clip-path=\"url(#clip6602)\" style=\"fill:#000000; stroke:none; fill-opacity:1\" cx=\"1676.34\" cy=\"246.513\" r=\"12\"/>\n",
       "<circle clip-path=\"url(#clip6602)\" style=\"fill:#000000; stroke:none; fill-opacity:1\" cx=\"1676.34\" cy=\"246.513\" r=\"9\"/>\n",
       "<circle clip-path=\"url(#clip6602)\" style=\"fill:#000000; stroke:none; fill-opacity:1\" cx=\"1292.02\" cy=\"1053.3\" r=\"12\"/>\n",
       "<circle clip-path=\"url(#clip6602)\" style=\"fill:#000000; stroke:none; fill-opacity:1\" cx=\"1292.02\" cy=\"1053.3\" r=\"9\"/>\n",
       "<circle clip-path=\"url(#clip6602)\" style=\"fill:#000000; stroke:none; fill-opacity:1\" cx=\"574.841\" cy=\"220.589\" r=\"12\"/>\n",
       "<circle clip-path=\"url(#clip6602)\" style=\"fill:#000000; stroke:none; fill-opacity:1\" cx=\"574.841\" cy=\"220.589\" r=\"9\"/>\n",
       "<circle clip-path=\"url(#clip6602)\" style=\"fill:#000000; stroke:none; fill-opacity:1\" cx=\"1979.46\" cy=\"802.855\" r=\"12\"/>\n",
       "<circle clip-path=\"url(#clip6602)\" style=\"fill:#000000; stroke:none; fill-opacity:1\" cx=\"1979.46\" cy=\"802.855\" r=\"9\"/>\n",
       "<circle clip-path=\"url(#clip6602)\" style=\"fill:#000000; stroke:none; fill-opacity:1\" cx=\"1963.94\" cy=\"1288.25\" r=\"12\"/>\n",
       "<circle clip-path=\"url(#clip6602)\" style=\"fill:#000000; stroke:none; fill-opacity:1\" cx=\"1963.94\" cy=\"1288.25\" r=\"9\"/>\n",
       "<circle clip-path=\"url(#clip6602)\" style=\"fill:#000000; stroke:none; fill-opacity:1\" cx=\"903.809\" cy=\"923.915\" r=\"12\"/>\n",
       "<circle clip-path=\"url(#clip6602)\" style=\"fill:#000000; stroke:none; fill-opacity:1\" cx=\"903.809\" cy=\"923.915\" r=\"9\"/>\n",
       "</svg>\n"
      ]
     },
     "execution_count": 149,
     "metadata": {},
     "output_type": "execute_result"
    }
   ],
   "source": [
    "using Plots, Distributions\n",
    "\n",
    "# plot circle\n",
    "circlepts = Plots.partialcircle(0, 2π, 100)\n",
    "plot(circlepts, aspect_ratio=:equal, xlims=(-1,1), ylims=(-1,1), legend=false, lw=3, grid=false, frame=:box)\n",
    "\n",
    "# plot darts\n",
    "N = 400\n",
    "d = Uniform(-1, 1)\n",
    "scatter!(rand(d, N), rand(d, N), ms=2.5, color=:black)"
   ]
  },
  {
   "cell_type": "code",
   "execution_count": 150,
   "metadata": {},
   "outputs": [],
   "source": [
    "using Distributions"
   ]
  },
  {
   "cell_type": "code",
   "execution_count": 151,
   "metadata": {},
   "outputs": [
    {
     "data": {
      "text/plain": [
       "Uniform{Float64}(a=-1.0, b=1.0)"
      ]
     },
     "execution_count": 151,
     "metadata": {},
     "output_type": "execute_result"
    }
   ],
   "source": [
    "dist = Uniform(-1,1)"
   ]
  },
  {
   "cell_type": "code",
   "execution_count": 152,
   "metadata": {},
   "outputs": [
    {
     "data": {
      "text/plain": [
       "10-element Array{Float64,1}:\n",
       "  0.40365270114178164\n",
       " -0.3448500784168367 \n",
       " -0.06553712504308562\n",
       "  0.6243022283741064 \n",
       "  0.08034926818391819\n",
       "  0.6446053114926156 \n",
       " -0.3540964222966494 \n",
       " -0.9413427669684626 \n",
       " -0.758603585784047  \n",
       " -0.5122220706070522 "
      ]
     },
     "execution_count": 152,
     "metadata": {},
     "output_type": "execute_result"
    }
   ],
   "source": [
    "rand(dist, 10)"
   ]
  },
  {
   "cell_type": "markdown",
   "metadata": {},
   "source": [
    "### Tasks\n",
    "\n",
    "1. Write a function `compute_pi(N::Int)` which computes $\\pi$ by throwing $N$ darts as described above.\n",
    "\n",
    "\n",
    "2. Based on 1), write a function `compute_pi_parallel(N::Int, nworkers::Int)` which does the same but divides the work among `ncores` processes.\n",
    "\n",
    "\n",
    "3. Benchmark and compare the methods from 1) and 2).\n",
    "\n",
    "\n",
    "4. Write a function `compute_pi_multiple(Ns::Vector{Int})` which computes $\\pi$ for all given $N$ values. The function should be serial and based on 1).\n",
    "\n",
    "\n",
    "5. Write a function `compute_pi_multiple_parallel(Ns::Vector{Int})` which does the same but in parallel. The function should also be based on 1).\n",
    "\n",
    "\n",
    "6. Benchmark and compare the methods from 4) and 5).\n",
    "\n",
    "\n",
    "7. Calculate $\\pi$ estimates for `Ns = ceil.(Int, exp10.(range(1, stop=8, length=50)))`. Plot $\\pi$ vs $N$ on a semi-log plot.\n",
    "\n",
    "\n",
    "8. Bonus: Write a function `compute_pi_multiple_double_parallel(Ns::Vector{Int})` which computes $\\pi$ for all given $N$ values. The calculation should be as parallel as possible. Multiple different values of $N$ should be calculated at the same time and every one of those calculations should be parallel as well.\n",
    "\n",
    "A reasonable value could be `N = 10_000_000`."
   ]
  }
 ],
 "metadata": {
  "@webio": {
   "lastCommId": null,
   "lastKernelId": null
  },
  "kernelspec": {
   "display_name": "Julia 1.3.1",
   "language": "julia",
   "name": "julia-1.3"
  },
  "language_info": {
   "file_extension": ".jl",
   "mimetype": "application/julia",
   "name": "julia",
   "version": "1.3.1"
  }
 },
 "nbformat": 4,
 "nbformat_minor": 4
}
