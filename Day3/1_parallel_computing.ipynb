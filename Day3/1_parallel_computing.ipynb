{
 "cells": [
  {
   "cell_type": "markdown",
   "metadata": {},
   "source": [
    "# Parallel Computing"
   ]
  },
  {
   "cell_type": "markdown",
   "metadata": {},
   "source": [
    "Parallel computing is a programming method that **harnesses the power of multiple processors (or cores) at once**. Once of concern only to programmers of large supercomputers, modern computers now almost always have multi-core processors."
   ]
  },
  {
   "cell_type": "markdown",
   "metadata": {},
   "source": [
    "### How many CPU cores do I have?"
   ]
  },
  {
   "cell_type": "code",
   "execution_count": 5,
   "metadata": {},
   "outputs": [
    {
     "data": {
      "text/plain": [
       "4"
      ]
     },
     "execution_count": 5,
     "metadata": {},
     "output_type": "execute_result"
    }
   ],
   "source": [
    "using Hwloc\n",
    "Hwloc.num_physical_cores()"
   ]
  },
  {
   "cell_type": "markdown",
   "metadata": {},
   "source": [
    "(Note that `Sys.CPU_THREADS` may or may not be equal to the number above. It indicates the number of CPUs + Hyperthreads.)"
   ]
  },
  {
   "cell_type": "markdown",
   "metadata": {},
   "source": [
    "### Why go parallel?\n",
    "\n",
    "<img src=\"42-years-processor-trend.svg\" width=700px>"
   ]
  },
  {
   "cell_type": "markdown",
   "metadata": {},
   "source": [
    "### **Amdahl's Law**"
   ]
  },
  {
   "cell_type": "markdown",
   "metadata": {},
   "source": [
    "Naive expectation: I have 4 cores, give me my 4x speedup!"
   ]
  },
  {
   "cell_type": "markdown",
   "metadata": {},
   "source": [
    ">If $p$ is the fraction of a code that can be parallelized than the maximal theoretical speedup by parallelizing on $n$ cores is given by $F(n) = 1/(1-p + p/n)$."
   ]
  },
  {
   "cell_type": "code",
   "execution_count": 7,
   "metadata": {},
   "outputs": [
    {
     "data": {
      "image/svg+xml": [
       "<?xml version=\"1.0\" encoding=\"utf-8\"?>\n",
       "<svg xmlns=\"http://www.w3.org/2000/svg\" xmlns:xlink=\"http://www.w3.org/1999/xlink\" width=\"600\" height=\"400\" viewBox=\"0 0 2400 1600\">\n",
       "<defs>\n",
       "  <clipPath id=\"clip5300\">\n",
       "    <rect x=\"0\" y=\"0\" width=\"2400\" height=\"1600\"/>\n",
       "  </clipPath>\n",
       "</defs>\n",
       "<path clip-path=\"url(#clip5300)\" d=\"\n",
       "M0 1600 L2400 1600 L2400 0 L0 0  Z\n",
       "  \" fill=\"#ffffff\" fill-rule=\"evenodd\" fill-opacity=\"1\"/>\n",
       "<defs>\n",
       "  <clipPath id=\"clip5301\">\n",
       "    <rect x=\"480\" y=\"0\" width=\"1681\" height=\"1600\"/>\n",
       "  </clipPath>\n",
       "</defs>\n",
       "<path clip-path=\"url(#clip5300)\" d=\"\n",
       "M202.373 1425.62 L2352.76 1425.62 L2352.76 47.2441 L202.373 47.2441  Z\n",
       "  \" fill=\"#ffffff\" fill-rule=\"evenodd\" fill-opacity=\"1\"/>\n",
       "<defs>\n",
       "  <clipPath id=\"clip5302\">\n",
       "    <rect x=\"202\" y=\"47\" width=\"2151\" height=\"1379\"/>\n",
       "  </clipPath>\n",
       "</defs>\n",
       "<polyline clip-path=\"url(#clip5302)\" style=\"stroke:#000000; stroke-width:2; stroke-opacity:0.1; fill:none\" points=\"\n",
       "  533.721,1425.62 533.721,47.2441 \n",
       "  \"/>\n",
       "<polyline clip-path=\"url(#clip5302)\" style=\"stroke:#000000; stroke-width:2; stroke-opacity:0.1; fill:none\" points=\"\n",
       "  939.454,1425.62 939.454,47.2441 \n",
       "  \"/>\n",
       "<polyline clip-path=\"url(#clip5302)\" style=\"stroke:#000000; stroke-width:2; stroke-opacity:0.1; fill:none\" points=\"\n",
       "  1345.19,1425.62 1345.19,47.2441 \n",
       "  \"/>\n",
       "<polyline clip-path=\"url(#clip5302)\" style=\"stroke:#000000; stroke-width:2; stroke-opacity:0.1; fill:none\" points=\"\n",
       "  1750.92,1425.62 1750.92,47.2441 \n",
       "  \"/>\n",
       "<polyline clip-path=\"url(#clip5302)\" style=\"stroke:#000000; stroke-width:2; stroke-opacity:0.1; fill:none\" points=\"\n",
       "  2156.65,1425.62 2156.65,47.2441 \n",
       "  \"/>\n",
       "<polyline clip-path=\"url(#clip5302)\" style=\"stroke:#000000; stroke-width:2; stroke-opacity:0.1; fill:none\" points=\"\n",
       "  202.373,1213.23 2352.76,1213.23 \n",
       "  \"/>\n",
       "<polyline clip-path=\"url(#clip5302)\" style=\"stroke:#000000; stroke-width:2; stroke-opacity:0.1; fill:none\" points=\"\n",
       "  202.373,953.157 2352.76,953.157 \n",
       "  \"/>\n",
       "<polyline clip-path=\"url(#clip5302)\" style=\"stroke:#000000; stroke-width:2; stroke-opacity:0.1; fill:none\" points=\"\n",
       "  202.373,693.086 2352.76,693.086 \n",
       "  \"/>\n",
       "<polyline clip-path=\"url(#clip5302)\" style=\"stroke:#000000; stroke-width:2; stroke-opacity:0.1; fill:none\" points=\"\n",
       "  202.373,433.016 2352.76,433.016 \n",
       "  \"/>\n",
       "<polyline clip-path=\"url(#clip5302)\" style=\"stroke:#000000; stroke-width:2; stroke-opacity:0.1; fill:none\" points=\"\n",
       "  202.373,172.945 2352.76,172.945 \n",
       "  \"/>\n",
       "<polyline clip-path=\"url(#clip5300)\" style=\"stroke:#000000; stroke-width:4; stroke-opacity:1; fill:none\" points=\"\n",
       "  202.373,1425.62 2352.76,1425.62 \n",
       "  \"/>\n",
       "<polyline clip-path=\"url(#clip5300)\" style=\"stroke:#000000; stroke-width:4; stroke-opacity:1; fill:none\" points=\"\n",
       "  202.373,1425.62 202.373,47.2441 \n",
       "  \"/>\n",
       "<polyline clip-path=\"url(#clip5300)\" style=\"stroke:#000000; stroke-width:4; stroke-opacity:1; fill:none\" points=\"\n",
       "  533.721,1425.62 533.721,1409.08 \n",
       "  \"/>\n",
       "<polyline clip-path=\"url(#clip5300)\" style=\"stroke:#000000; stroke-width:4; stroke-opacity:1; fill:none\" points=\"\n",
       "  939.454,1425.62 939.454,1409.08 \n",
       "  \"/>\n",
       "<polyline clip-path=\"url(#clip5300)\" style=\"stroke:#000000; stroke-width:4; stroke-opacity:1; fill:none\" points=\"\n",
       "  1345.19,1425.62 1345.19,1409.08 \n",
       "  \"/>\n",
       "<polyline clip-path=\"url(#clip5300)\" style=\"stroke:#000000; stroke-width:4; stroke-opacity:1; fill:none\" points=\"\n",
       "  1750.92,1425.62 1750.92,1409.08 \n",
       "  \"/>\n",
       "<polyline clip-path=\"url(#clip5300)\" style=\"stroke:#000000; stroke-width:4; stroke-opacity:1; fill:none\" points=\"\n",
       "  2156.65,1425.62 2156.65,1409.08 \n",
       "  \"/>\n",
       "<polyline clip-path=\"url(#clip5300)\" style=\"stroke:#000000; stroke-width:4; stroke-opacity:1; fill:none\" points=\"\n",
       "  202.373,1213.23 228.178,1213.23 \n",
       "  \"/>\n",
       "<polyline clip-path=\"url(#clip5300)\" style=\"stroke:#000000; stroke-width:4; stroke-opacity:1; fill:none\" points=\"\n",
       "  202.373,953.157 228.178,953.157 \n",
       "  \"/>\n",
       "<polyline clip-path=\"url(#clip5300)\" style=\"stroke:#000000; stroke-width:4; stroke-opacity:1; fill:none\" points=\"\n",
       "  202.373,693.086 228.178,693.086 \n",
       "  \"/>\n",
       "<polyline clip-path=\"url(#clip5300)\" style=\"stroke:#000000; stroke-width:4; stroke-opacity:1; fill:none\" points=\"\n",
       "  202.373,433.016 228.178,433.016 \n",
       "  \"/>\n",
       "<polyline clip-path=\"url(#clip5300)\" style=\"stroke:#000000; stroke-width:4; stroke-opacity:1; fill:none\" points=\"\n",
       "  202.373,172.945 228.178,172.945 \n",
       "  \"/>\n",
       "<g clip-path=\"url(#clip5300)\">\n",
       "<text style=\"fill:#000000; fill-opacity:1; font-family:Arial,Helvetica Neue,Helvetica,sans-serif; font-size:48px; text-anchor:middle;\" transform=\"rotate(0, 533.721, 1479.62)\" x=\"533.721\" y=\"1479.62\">3</text>\n",
       "</g>\n",
       "<g clip-path=\"url(#clip5300)\">\n",
       "<text style=\"fill:#000000; fill-opacity:1; font-family:Arial,Helvetica Neue,Helvetica,sans-serif; font-size:48px; text-anchor:middle;\" transform=\"rotate(0, 939.454, 1479.62)\" x=\"939.454\" y=\"1479.62\">6</text>\n",
       "</g>\n",
       "<g clip-path=\"url(#clip5300)\">\n",
       "<text style=\"fill:#000000; fill-opacity:1; font-family:Arial,Helvetica Neue,Helvetica,sans-serif; font-size:48px; text-anchor:middle;\" transform=\"rotate(0, 1345.19, 1479.62)\" x=\"1345.19\" y=\"1479.62\">9</text>\n",
       "</g>\n",
       "<g clip-path=\"url(#clip5300)\">\n",
       "<text style=\"fill:#000000; fill-opacity:1; font-family:Arial,Helvetica Neue,Helvetica,sans-serif; font-size:48px; text-anchor:middle;\" transform=\"rotate(0, 1750.92, 1479.62)\" x=\"1750.92\" y=\"1479.62\">12</text>\n",
       "</g>\n",
       "<g clip-path=\"url(#clip5300)\">\n",
       "<text style=\"fill:#000000; fill-opacity:1; font-family:Arial,Helvetica Neue,Helvetica,sans-serif; font-size:48px; text-anchor:middle;\" transform=\"rotate(0, 2156.65, 1479.62)\" x=\"2156.65\" y=\"1479.62\">15</text>\n",
       "</g>\n",
       "<g clip-path=\"url(#clip5300)\">\n",
       "<text style=\"fill:#000000; fill-opacity:1; font-family:Arial,Helvetica Neue,Helvetica,sans-serif; font-size:48px; text-anchor:end;\" transform=\"rotate(0, 178.373, 1230.73)\" x=\"178.373\" y=\"1230.73\">3</text>\n",
       "</g>\n",
       "<g clip-path=\"url(#clip5300)\">\n",
       "<text style=\"fill:#000000; fill-opacity:1; font-family:Arial,Helvetica Neue,Helvetica,sans-serif; font-size:48px; text-anchor:end;\" transform=\"rotate(0, 178.373, 970.657)\" x=\"178.373\" y=\"970.657\">6</text>\n",
       "</g>\n",
       "<g clip-path=\"url(#clip5300)\">\n",
       "<text style=\"fill:#000000; fill-opacity:1; font-family:Arial,Helvetica Neue,Helvetica,sans-serif; font-size:48px; text-anchor:end;\" transform=\"rotate(0, 178.373, 710.586)\" x=\"178.373\" y=\"710.586\">9</text>\n",
       "</g>\n",
       "<g clip-path=\"url(#clip5300)\">\n",
       "<text style=\"fill:#000000; fill-opacity:1; font-family:Arial,Helvetica Neue,Helvetica,sans-serif; font-size:48px; text-anchor:end;\" transform=\"rotate(0, 178.373, 450.516)\" x=\"178.373\" y=\"450.516\">12</text>\n",
       "</g>\n",
       "<g clip-path=\"url(#clip5300)\">\n",
       "<text style=\"fill:#000000; fill-opacity:1; font-family:Arial,Helvetica Neue,Helvetica,sans-serif; font-size:48px; text-anchor:end;\" transform=\"rotate(0, 178.373, 190.445)\" x=\"178.373\" y=\"190.445\">15</text>\n",
       "</g>\n",
       "<polyline clip-path=\"url(#clip5302)\" style=\"stroke:#000000; stroke-width:4; stroke-opacity:1; fill:none\" points=\"\n",
       "  202.373,47.2441 2352.76,47.2441 \n",
       "  \"/>\n",
       "<polyline clip-path=\"url(#clip5302)\" style=\"stroke:#000000; stroke-width:4; stroke-opacity:1; fill:none\" points=\"\n",
       "  2352.76,1425.62 2352.76,47.2441 \n",
       "  \"/>\n",
       "<g clip-path=\"url(#clip5300)\">\n",
       "<text style=\"fill:#000000; fill-opacity:1; font-family:Arial,Helvetica Neue,Helvetica,sans-serif; font-size:66px; text-anchor:middle;\" transform=\"rotate(0, 1277.56, 1559.48)\" x=\"1277.56\" y=\"1559.48\">number of cores</text>\n",
       "</g>\n",
       "<g clip-path=\"url(#clip5300)\">\n",
       "<text style=\"fill:#000000; fill-opacity:1; font-family:Arial,Helvetica Neue,Helvetica,sans-serif; font-size:66px; text-anchor:middle;\" transform=\"rotate(-90, 89.2861, 736.431)\" x=\"89.2861\" y=\"736.431\">parallel speedup</text>\n",
       "</g>\n",
       "<polyline clip-path=\"url(#clip5302)\" style=\"stroke:#009af9; stroke-width:8; stroke-opacity:1; fill:none\" points=\"\n",
       "  263.233,1386.61 398.477,1299.92 533.721,1213.23 668.965,1126.54 804.21,1039.85 939.454,953.157 1074.7,866.467 1209.94,779.776 1345.19,693.086 1480.43,606.396 \n",
       "  1615.67,519.706 1750.92,433.016 1886.16,346.325 2021.41,259.635 2156.65,172.945 2291.9,86.2547 \n",
       "  \"/>\n",
       "<polyline clip-path=\"url(#clip5302)\" style=\"stroke:#e26f46; stroke-width:8; stroke-opacity:1; fill:none\" points=\"\n",
       "  263.233,1386.61 398.477,1308.17 533.721,1236.87 668.965,1171.77 804.21,1112.09 939.454,1057.19 1074.7,1006.5 1209.94,959.578 1345.19,916.004 1480.43,875.435 \n",
       "  1615.67,837.57 1750.92,802.148 1886.16,768.94 2021.41,737.745 2156.65,708.385 2291.9,680.702 \n",
       "  \"/>\n",
       "<polyline clip-path=\"url(#clip5302)\" style=\"stroke:#3da44d; stroke-width:8; stroke-opacity:1; fill:none\" points=\"\n",
       "  263.233,1386.61 398.477,1315.68 533.721,1256.57 668.965,1206.56 804.21,1163.69 939.454,1126.54 1074.7,1094.03 1209.94,1065.34 1345.19,1039.85 1480.43,1017.03 \n",
       "  1615.67,996.502 1750.92,977.926 1886.16,961.038 2021.41,945.619 2156.65,931.484 2291.9,918.481 \n",
       "  \"/>\n",
       "<polyline clip-path=\"url(#clip5302)\" style=\"stroke:#c271d2; stroke-width:8; stroke-opacity:1; fill:none\" points=\"\n",
       "  263.233,1386.61 398.477,1328.81 533.721,1287.53 668.965,1256.57 804.21,1232.49 939.454,1213.23 1074.7,1197.47 1209.94,1184.33 1345.19,1173.22 1480.43,1163.69 \n",
       "  1615.67,1155.43 1750.92,1148.21 1886.16,1141.84 2021.41,1136.17 2156.65,1131.1 2291.9,1126.54 \n",
       "  \"/>\n",
       "<polyline clip-path=\"url(#clip5302)\" style=\"stroke:#ac8d18; stroke-width:8; stroke-opacity:1; fill:none\" points=\"\n",
       "  263.233,1386.61 398.477,1349.46 533.721,1328.81 668.965,1315.68 804.21,1306.59 939.454,1299.92 1074.7,1294.82 1209.94,1290.79 1345.19,1287.53 1480.43,1284.84 \n",
       "  1615.67,1282.58 1750.92,1280.65 1886.16,1278.99 2021.41,1277.55 2156.65,1276.28 2291.9,1275.15 \n",
       "  \"/>\n",
       "<polyline clip-path=\"url(#clip5302)\" style=\"stroke:#00a9ad; stroke-width:8; stroke-opacity:1; fill:none\" points=\"\n",
       "  263.233,1386.61 398.477,1364.94 533.721,1355.08 668.965,1349.46 804.21,1345.81 939.454,1343.26 1074.7,1341.38 1209.94,1339.93 1345.19,1338.78 1480.43,1337.84 \n",
       "  1615.67,1337.07 1750.92,1336.42 1886.16,1335.86 2021.41,1335.38 2156.65,1334.96 2291.9,1334.59 \n",
       "  \"/>\n",
       "<polyline clip-path=\"url(#clip5302)\" style=\"stroke:#ed5d92; stroke-width:8; stroke-opacity:1; fill:none\" points=\"\n",
       "  263.233,1386.61 398.477,1376.98 533.721,1373.27 668.965,1371.31 804.21,1370.1 939.454,1369.27 1074.7,1368.67 1209.94,1368.22 1345.19,1367.86 1480.43,1367.58 \n",
       "  1615.67,1367.34 1750.92,1367.15 1886.16,1366.98 2021.41,1366.84 2156.65,1366.71 2291.9,1366.6 \n",
       "  \"/>\n",
       "<path clip-path=\"url(#clip5300)\" d=\"\n",
       "M274.373 614.604 L637.451 614.604 L637.451 130.764 L274.373 130.764  Z\n",
       "  \" fill=\"#ffffff\" fill-rule=\"evenodd\" fill-opacity=\"1\"/>\n",
       "<polyline clip-path=\"url(#clip5300)\" style=\"stroke:#000000; stroke-width:4; stroke-opacity:1; fill:none\" points=\"\n",
       "  274.373,614.604 637.451,614.604 637.451,130.764 274.373,130.764 274.373,614.604 \n",
       "  \"/>\n",
       "<polyline clip-path=\"url(#clip5300)\" style=\"stroke:#009af9; stroke-width:8; stroke-opacity:1; fill:none\" points=\"\n",
       "  298.373,191.244 442.373,191.244 \n",
       "  \"/>\n",
       "<g clip-path=\"url(#clip5300)\">\n",
       "<text style=\"fill:#000000; fill-opacity:1; font-family:Arial,Helvetica Neue,Helvetica,sans-serif; font-size:48px; text-anchor:start;\" transform=\"rotate(0, 466.373, 208.744)\" x=\"466.373\" y=\"208.744\">100%</text>\n",
       "</g>\n",
       "<polyline clip-path=\"url(#clip5300)\" style=\"stroke:#e26f46; stroke-width:8; stroke-opacity:1; fill:none\" points=\"\n",
       "  298.373,251.724 442.373,251.724 \n",
       "  \"/>\n",
       "<g clip-path=\"url(#clip5300)\">\n",
       "<text style=\"fill:#000000; fill-opacity:1; font-family:Arial,Helvetica Neue,Helvetica,sans-serif; font-size:48px; text-anchor:start;\" transform=\"rotate(0, 466.373, 269.224)\" x=\"466.373\" y=\"269.224\">95%</text>\n",
       "</g>\n",
       "<polyline clip-path=\"url(#clip5300)\" style=\"stroke:#3da44d; stroke-width:8; stroke-opacity:1; fill:none\" points=\"\n",
       "  298.373,312.204 442.373,312.204 \n",
       "  \"/>\n",
       "<g clip-path=\"url(#clip5300)\">\n",
       "<text style=\"fill:#000000; fill-opacity:1; font-family:Arial,Helvetica Neue,Helvetica,sans-serif; font-size:48px; text-anchor:start;\" transform=\"rotate(0, 466.373, 329.704)\" x=\"466.373\" y=\"329.704\">90%</text>\n",
       "</g>\n",
       "<polyline clip-path=\"url(#clip5300)\" style=\"stroke:#c271d2; stroke-width:8; stroke-opacity:1; fill:none\" points=\"\n",
       "  298.373,372.684 442.373,372.684 \n",
       "  \"/>\n",
       "<g clip-path=\"url(#clip5300)\">\n",
       "<text style=\"fill:#000000; fill-opacity:1; font-family:Arial,Helvetica Neue,Helvetica,sans-serif; font-size:48px; text-anchor:start;\" transform=\"rotate(0, 466.373, 390.184)\" x=\"466.373\" y=\"390.184\">80%</text>\n",
       "</g>\n",
       "<polyline clip-path=\"url(#clip5300)\" style=\"stroke:#ac8d18; stroke-width:8; stroke-opacity:1; fill:none\" points=\"\n",
       "  298.373,433.164 442.373,433.164 \n",
       "  \"/>\n",
       "<g clip-path=\"url(#clip5300)\">\n",
       "<text style=\"fill:#000000; fill-opacity:1; font-family:Arial,Helvetica Neue,Helvetica,sans-serif; font-size:48px; text-anchor:start;\" transform=\"rotate(0, 466.373, 450.664)\" x=\"466.373\" y=\"450.664\">60%</text>\n",
       "</g>\n",
       "<polyline clip-path=\"url(#clip5300)\" style=\"stroke:#00a9ad; stroke-width:8; stroke-opacity:1; fill:none\" points=\"\n",
       "  298.373,493.644 442.373,493.644 \n",
       "  \"/>\n",
       "<g clip-path=\"url(#clip5300)\">\n",
       "<text style=\"fill:#000000; fill-opacity:1; font-family:Arial,Helvetica Neue,Helvetica,sans-serif; font-size:48px; text-anchor:start;\" transform=\"rotate(0, 466.373, 511.144)\" x=\"466.373\" y=\"511.144\">40%</text>\n",
       "</g>\n",
       "<polyline clip-path=\"url(#clip5300)\" style=\"stroke:#ed5d92; stroke-width:8; stroke-opacity:1; fill:none\" points=\"\n",
       "  298.373,554.124 442.373,554.124 \n",
       "  \"/>\n",
       "<g clip-path=\"url(#clip5300)\">\n",
       "<text style=\"fill:#000000; fill-opacity:1; font-family:Arial,Helvetica Neue,Helvetica,sans-serif; font-size:48px; text-anchor:start;\" transform=\"rotate(0, 466.373, 571.624)\" x=\"466.373\" y=\"571.624\">20%</text>\n",
       "</g>\n",
       "</svg>\n"
      ]
     },
     "execution_count": 7,
     "metadata": {},
     "output_type": "execute_result"
    }
   ],
   "source": [
    "using Plots\n",
    "F(p,n) = 1/(1-p + p/n)\n",
    "\n",
    "pl = plot()\n",
    "for p in reverse(sort(vcat(0.2:0.2:1, [0.9, 0.95])))\n",
    "    plot!(pl, n -> F(p,n), 1:16, lab=\"$(Int(p*100))%\", lw=2,\n",
    "        legend=:topleft, xlab=\"number of cores\", ylab=\"parallel speedup\", frame=:box)\n",
    "end\n",
    "pl"
   ]
  },
  {
   "cell_type": "markdown",
   "metadata": {},
   "source": [
    "# Parallel Computing in Julia"
   ]
  },
  {
   "cell_type": "markdown",
   "metadata": {},
   "source": [
    "Julia documentation link: [Parallel computing](https://docs.julialang.org/en/v1/manual/parallel-computing/index.html)\n",
    "\n",
    "There are many types of parallelism, some of which are (from micro to macro)\n",
    "\n",
    "* **Instruction level parallelism**\n",
    "* **Multi-threading** (process shared memory)\n",
    "* **Tasks aka Coroutines** aka Green threads (more like cooperative multitasking, process shared memory)\n",
    "* **Multi-Core processing** (maybe system shared memory)\n",
    "* **Distributed processing** (same as above but involving multiple machines)\n",
    "\n",
    "Julia provides (more or less) native support for all of these forms of parallel processing (same order as above)\n",
    "\n",
    "* `@simd` and [SIMD.jl](https://github.com/eschnett/SIMD.jl)\n",
    "* `Base.Threads.@threads` (experimental since 2015 but seems to be fine)\n",
    "* `@async`, `@sync`, `Channel`\n",
    "* `@spawnat`, `@fetch`, `RemoteChannel`, `SharedArray`, etc.\n",
    "* `@spawnat`, `@fetch`, `RemoteChannel`, `DArray`, `MPI.jl` etc.\n",
    "\n",
    "With scientific computing in mind, we will mainly focus on how to distribute a process through multiple cores or machines (our thp cluster for example), that is **Multi-Core processing** and **Distributed processing**. But before we can do so, we have to learn how to control Julia's control flow through tasks."
   ]
  },
  {
   "cell_type": "markdown",
   "metadata": {},
   "source": [
    "# Tasks (Control flow)"
   ]
  },
  {
   "cell_type": "markdown",
   "metadata": {},
   "source": [
    "By default, Julia waits for every command to finish and run everything sequentially.\n",
    "\n",
    "Tasks are a control flow feature that allows computations to be **suspended** and resumed in a flexible manner. This feature is sometimes called by other names, such as coroutines, green or lightweight threads and cooperative multitasking.\n",
    "\n",
    "To me, the name **cooperative multitasking** is the most descriptive. Tasks are managed/scheduled by Julia and can sometimes be run in a quasi-parallel fashion.\n",
    "\n",
    "An important use case is **asynchronous I/O**, which is typically slow. Examples are\n",
    " * **multiple user input** (Why not already process some of the input?)\n",
    " * **data dumping to disk** (Maybe it's possible to continue a calculation?)\n",
    " * **receiving calculations from worker processes** (We'll need that below!)\n",
    "\n",
    "How do we execute commands asynchronously?"
   ]
  },
  {
   "cell_type": "markdown",
   "metadata": {},
   "source": [
    "## `@async` and `@sync`"
   ]
  },
  {
   "cell_type": "markdown",
   "metadata": {},
   "source": [
    "(Based on [this](https://stackoverflow.com/questions/37287020/how-and-when-to-use-async-and-sync-in-julia/37287021#37287021) stackoverflow answer.)"
   ]
  },
  {
   "cell_type": "code",
   "execution_count": 8,
   "metadata": {},
   "outputs": [
    {
     "data": {
      "text/latex": [
       "\\begin{verbatim}\n",
       "@async\n",
       "\\end{verbatim}\n",
       "Wrap an expression in a \\href{@ref}{\\texttt{Task}} and add it to the local machine's scheduler queue.\n",
       "\n"
      ],
      "text/markdown": [
       "```\n",
       "@async\n",
       "```\n",
       "\n",
       "Wrap an expression in a [`Task`](@ref) and add it to the local machine's scheduler queue.\n"
      ],
      "text/plain": [
       "\u001b[36m  @async\u001b[39m\n",
       "\n",
       "  Wrap an expression in a \u001b[36mTask\u001b[39m and add it to the local machine's scheduler\n",
       "  queue."
      ]
     },
     "execution_count": 8,
     "metadata": {},
     "output_type": "execute_result"
    }
   ],
   "source": [
    "?@async"
   ]
  },
  {
   "cell_type": "markdown",
   "metadata": {},
   "source": [
    "What this means is that for whatever falls within its scope, Julia will start a task to then proceed to whatever comes next in the script **without waiting for the task to complete**."
   ]
  },
  {
   "cell_type": "code",
   "execution_count": 9,
   "metadata": {},
   "outputs": [
    {
     "name": "stdout",
     "output_type": "stream",
     "text": [
      "  2.019205 seconds (25.79 k allocations: 1.295 MiB)\n"
     ]
    }
   ],
   "source": [
    "@time sleep(2);"
   ]
  },
  {
   "cell_type": "code",
   "execution_count": 10,
   "metadata": {},
   "outputs": [
    {
     "name": "stdout",
     "output_type": "stream",
     "text": [
      "  0.008965 seconds (6.80 k allocations: 388.916 KiB)\n"
     ]
    },
    {
     "data": {
      "text/plain": [
       "Task (runnable) @0x000000002b7588b0"
      ]
     },
     "execution_count": 10,
     "metadata": {},
     "output_type": "execute_result"
    }
   ],
   "source": [
    "@time @async sleep(2)"
   ]
  },
  {
   "cell_type": "markdown",
   "metadata": {},
   "source": [
    "Julia allows the script to proceed (and the `@time` macro to fully execute) without waiting for the task (in this case, sleeping for two seconds) to complete."
   ]
  },
  {
   "cell_type": "markdown",
   "metadata": {},
   "source": [
    "We can use the `@sync` macro to synchronize, that is wait for, all encapsulated tasks. (see `?@sync`). "
   ]
  },
  {
   "cell_type": "code",
   "execution_count": 11,
   "metadata": {},
   "outputs": [
    {
     "name": "stdout",
     "output_type": "stream",
     "text": [
      "  2.005083 seconds (1.69 k allocations: 81.219 KiB)\n"
     ]
    },
    {
     "data": {
      "text/plain": [
       "Task (done) @0x00000000101c1710"
      ]
     },
     "execution_count": 11,
     "metadata": {},
     "output_type": "execute_result"
    }
   ],
   "source": [
    "@time @sync @async sleep(2)"
   ]
  },
  {
   "cell_type": "markdown",
   "metadata": {},
   "source": [
    "Of course, here it doesn't make much sense to write `@sync @async` - we could simply drop it altogether.\n",
    "\n",
    "A better example is the following."
   ]
  },
  {
   "cell_type": "code",
   "execution_count": 12,
   "metadata": {},
   "outputs": [
    {
     "name": "stdout",
     "output_type": "stream",
     "text": [
      "  2.021094 seconds (8.73 k allocations: 421.745 KiB)\n"
     ]
    },
    {
     "data": {
      "text/plain": [
       "Task (done) @0x00000000101c33d0"
      ]
     },
     "execution_count": 12,
     "metadata": {},
     "output_type": "execute_result"
    }
   ],
   "source": [
    "@time @sync begin\n",
    "    @async sleep(2.0)\n",
    "    @async sleep(2.0)\n",
    "end"
   ]
  },
  {
   "cell_type": "code",
   "execution_count": 13,
   "metadata": {},
   "outputs": [
    {
     "name": "stdout",
     "output_type": "stream",
     "text": [
      "Hello class!\n",
      "Today is reverse day!\n"
     ]
    }
   ],
   "source": [
    "@sync begin\n",
    "    @async (sleep(2); println(\"Today is reverse day!\"))\n",
    "    @async (sleep(1); println(\" class!\"))\n",
    "    @async print(\"Hello\")\n",
    "end;"
   ]
  },
  {
   "cell_type": "markdown",
   "metadata": {},
   "source": [
    "# Distributed processing: Multi-core"
   ]
  },
  {
   "cell_type": "markdown",
   "metadata": {},
   "source": [
    "Distributed computing in Julia means having **multiple separate Julia instances running on different cores** on the same or different machines.\n",
    "\n",
    "Data movement and communication between processes is explicit.\n",
    "\n",
    "Let's focus on the *multi-core* case (your laptop/desktop) and save some cluster fun for later."
   ]
  },
  {
   "cell_type": "markdown",
   "metadata": {},
   "source": [
    "## Master-worker model\n",
    "\n",
    "Julia uses a *master-worker* paradigm for its native distributed parallelism.\n",
    "\n",
    "One master process coordinates all the worker processes, which perform the actual computations.\n",
    "\n",
    "By default, Julia starts with one process on one core. If this single process is all we have, than it is both the master and the worker."
   ]
  },
  {
   "cell_type": "code",
   "execution_count": 14,
   "metadata": {},
   "outputs": [],
   "source": [
    "using Distributed # Loading all tools that we need for distributed computing"
   ]
  },
  {
   "cell_type": "code",
   "execution_count": 15,
   "metadata": {},
   "outputs": [
    {
     "data": {
      "text/plain": [
       "1"
      ]
     },
     "execution_count": 15,
     "metadata": {},
     "output_type": "execute_result"
    }
   ],
   "source": [
    "nprocs()"
   ]
  },
  {
   "cell_type": "code",
   "execution_count": 16,
   "metadata": {},
   "outputs": [
    {
     "data": {
      "text/plain": [
       "1"
      ]
     },
     "execution_count": 16,
     "metadata": {},
     "output_type": "execute_result"
    }
   ],
   "source": [
    "nworkers() # the master is considered a worker as long as there are no real workers"
   ]
  },
  {
   "cell_type": "markdown",
   "metadata": {},
   "source": [
    "To increase the number of workers, i.e. Julia processes, from within a Julia session we can use `addprocs`.\n",
    "\n",
    "Alternatively, when starting Julia from the command line, one can use the `-p` option. Example,\n",
    "\n",
    "```\n",
    "julia -p 4\n",
    "```\n",
    "\n",
    "will start Julia with 5 processes, 1 master and 4 workers."
   ]
  },
  {
   "cell_type": "code",
   "execution_count": 17,
   "metadata": {},
   "outputs": [
    {
     "data": {
      "text/plain": [
       "4-element Array{Int64,1}:\n",
       " 2\n",
       " 3\n",
       " 4\n",
       " 5"
      ]
     },
     "execution_count": 17,
     "metadata": {},
     "output_type": "execute_result"
    }
   ],
   "source": [
    "addprocs(4) # I have 4 cores, so let's add 4 worker processes."
   ]
  },
  {
   "cell_type": "markdown",
   "metadata": {},
   "source": [
    "Every process has a Julia internal `pid` (process id). The master is always 1. You can get the workers pids from `workers()`."
   ]
  },
  {
   "cell_type": "code",
   "execution_count": 18,
   "metadata": {},
   "outputs": [
    {
     "data": {
      "text/plain": [
       "4-element Array{Int64,1}:\n",
       " 2\n",
       " 3\n",
       " 4\n",
       " 5"
      ]
     },
     "execution_count": 18,
     "metadata": {},
     "output_type": "execute_result"
    }
   ],
   "source": [
    "workers()"
   ]
  },
  {
   "cell_type": "markdown",
   "metadata": {},
   "source": [
    "Note that the 4 worker's pids aren't necessarily 2, 3, 4 and 5. Let's remove the processes and add them once more."
   ]
  },
  {
   "cell_type": "code",
   "execution_count": 19,
   "metadata": {},
   "outputs": [
    {
     "data": {
      "text/plain": [
       "Task (done) @0x000000001058c2f0"
      ]
     },
     "execution_count": 19,
     "metadata": {},
     "output_type": "execute_result"
    }
   ],
   "source": [
    "rmprocs(workers()) # rmprocs(array of pids of worker processes to remove)"
   ]
  },
  {
   "cell_type": "code",
   "execution_count": 20,
   "metadata": {},
   "outputs": [
    {
     "data": {
      "text/plain": [
       "1"
      ]
     },
     "execution_count": 20,
     "metadata": {},
     "output_type": "execute_result"
    }
   ],
   "source": [
    "nworkers() # only the master is left"
   ]
  },
  {
   "cell_type": "code",
   "execution_count": 21,
   "metadata": {},
   "outputs": [
    {
     "data": {
      "text/plain": [
       "4-element Array{Int64,1}:\n",
       " 6\n",
       " 7\n",
       " 8\n",
       " 9"
      ]
     },
     "execution_count": 21,
     "metadata": {},
     "output_type": "execute_result"
    }
   ],
   "source": [
    "addprocs(4)"
   ]
  },
  {
   "cell_type": "code",
   "execution_count": 22,
   "metadata": {},
   "outputs": [
    {
     "data": {
      "text/plain": [
       "4-element Array{Int64,1}:\n",
       " 6\n",
       " 7\n",
       " 8\n",
       " 9"
      ]
     },
     "execution_count": 22,
     "metadata": {},
     "output_type": "execute_result"
    }
   ],
   "source": [
    "workers()"
   ]
  },
  {
   "cell_type": "markdown",
   "metadata": {},
   "source": [
    "## One master to rule them all - `@spawn`, `@spawnat`, `@fetch`, `@fetchfrom`, `@everywhere`..."
   ]
  },
  {
   "cell_type": "markdown",
   "metadata": {},
   "source": [
    "To execute commands and start computations on workers we can use the following macros\n",
    "\n",
    "* `@spawn`: run a command or a code block on any worker and return a `Future` to it's result. It's basically a version of `@async` for remote processes.\n",
    "* `@spawnat`: same as `@spawn` but one can choose a specific worker by providing its pid."
   ]
  },
  {
   "cell_type": "markdown",
   "metadata": {},
   "source": [
    "**Example:** Let's say we would like to generate a random matrix on one of the workers."
   ]
  },
  {
   "cell_type": "code",
   "execution_count": 23,
   "metadata": {},
   "outputs": [
    {
     "data": {
      "text/plain": [
       "Future(6, 1, 10, nothing)"
      ]
     },
     "execution_count": 23,
     "metadata": {},
     "output_type": "execute_result"
    }
   ],
   "source": [
    "@spawn rand(2,2) # basically @async for remote process, i.e. returns immediately"
   ]
  },
  {
   "cell_type": "code",
   "execution_count": 24,
   "metadata": {},
   "outputs": [
    {
     "data": {
      "text/plain": [
       "Future(7, 1, 11, nothing)"
      ]
     },
     "execution_count": 24,
     "metadata": {},
     "output_type": "execute_result"
    }
   ],
   "source": [
    "result = @spawn rand(2,2)"
   ]
  },
  {
   "cell_type": "code",
   "execution_count": 25,
   "metadata": {},
   "outputs": [
    {
     "data": {
      "text/plain": [
       "2×2 Array{Float64,2}:\n",
       " 0.319426  0.0156907\n",
       " 0.653015  0.983124 "
      ]
     },
     "execution_count": 25,
     "metadata": {},
     "output_type": "execute_result"
    }
   ],
   "source": [
    "fetch(result) # blocks, like @sync"
   ]
  },
  {
   "cell_type": "markdown",
   "metadata": {},
   "source": [
    "Because the combination of spawning at fetching is so common, there is `@fetch` which combines them."
   ]
  },
  {
   "cell_type": "code",
   "execution_count": 26,
   "metadata": {},
   "outputs": [
    {
     "data": {
      "text/plain": [
       "2×2 Array{Float64,2}:\n",
       " 0.914673  0.738772 \n",
       " 0.304585  0.0907445"
      ]
     },
     "execution_count": 26,
     "metadata": {},
     "output_type": "execute_result"
    }
   ],
   "source": [
    "@fetch rand(2,2)"
   ]
  },
  {
   "cell_type": "markdown",
   "metadata": {},
   "source": [
    "Which worker did the work?"
   ]
  },
  {
   "cell_type": "code",
   "execution_count": 27,
   "metadata": {},
   "outputs": [
    {
     "name": "stdout",
     "output_type": "stream",
     "text": [
      "      From worker 9:\t9\n"
     ]
    },
    {
     "data": {
      "text/plain": [
       "2×2 Array{Float64,2}:\n",
       " 0.850433   0.479173\n",
       " 0.0805952  0.357838"
      ]
     },
     "execution_count": 27,
     "metadata": {},
     "output_type": "execute_result"
    }
   ],
   "source": [
    "@fetch begin\n",
    "    println(myid());\n",
    "    rand(2,2)\n",
    "end"
   ]
  },
  {
   "cell_type": "markdown",
   "metadata": {},
   "source": [
    "Using `@spawnat` and `@fetchfrom` we can delegate the work to a specific worker."
   ]
  },
  {
   "cell_type": "code",
   "execution_count": 28,
   "metadata": {},
   "outputs": [
    {
     "name": "stdout",
     "output_type": "stream",
     "text": [
      "      From worker 7:\t7"
     ]
    },
    {
     "data": {
      "text/plain": [
       "2×2 Array{Float64,2}:\n",
       " 0.918159  0.4432  \n",
       " 0.314911  0.932054"
      ]
     },
     "execution_count": 28,
     "metadata": {},
     "output_type": "execute_result"
    },
    {
     "name": "stdout",
     "output_type": "stream",
     "text": [
      "\n"
     ]
    }
   ],
   "source": [
    "@fetchfrom 7 begin\n",
    "    println(myid());\n",
    "    rand(2,2)\n",
    "end"
   ]
  },
  {
   "cell_type": "markdown",
   "metadata": {},
   "source": [
    "We can use `@sync` as a blocker to wait for all workers to complete their tasks."
   ]
  },
  {
   "cell_type": "code",
   "execution_count": 29,
   "metadata": {},
   "outputs": [
    {
     "name": "stdout",
     "output_type": "stream",
     "text": [
      "      From worker 8:\tHello\n",
      "      From worker 7:\t class!\n",
      "      From worker 6:\tToday is reverse day!\n",
      "Done!\n"
     ]
    }
   ],
   "source": [
    "@sync begin\n",
    "    pids = workers()\n",
    "    @spawnat pids[1] (sleep(2); println(\"Today is reverse day!\"))\n",
    "    @spawnat pids[2] (sleep(1); println(\" class!\"))\n",
    "    @spawnat pids[3] println(\"Hello\")\n",
    "end;\n",
    "println(\"Done!\")"
   ]
  },
  {
   "cell_type": "markdown",
   "metadata": {},
   "source": [
    "Ok, now that we understood all that, let's delegate a *complicated* calculation"
   ]
  },
  {
   "cell_type": "code",
   "execution_count": 30,
   "metadata": {
    "scrolled": true
   },
   "outputs": [
    {
     "ename": "RemoteException",
     "evalue": "On worker 6:\nUndefVarError: #complicated_calculation not defined\ndeserialize_datatype at D:\\buildbot\\worker\\package_win64\\build\\usr\\share\\julia\\stdlib\\v1.3\\Serialization\\src\\Serialization.jl:1193\nhandle_deserialize at D:\\buildbot\\worker\\package_win64\\build\\usr\\share\\julia\\stdlib\\v1.3\\Serialization\\src\\Serialization.jl:775\ndeserialize at D:\\buildbot\\worker\\package_win64\\build\\usr\\share\\julia\\stdlib\\v1.3\\Serialization\\src\\Serialization.jl:722\nhandle_deserialize at D:\\buildbot\\worker\\package_win64\\build\\usr\\share\\julia\\stdlib\\v1.3\\Serialization\\src\\Serialization.jl:782\ndeserialize at D:\\buildbot\\worker\\package_win64\\build\\usr\\share\\julia\\stdlib\\v1.3\\Serialization\\src\\Serialization.jl:722 [inlined]\ndeserialize_global_from_main at D:\\buildbot\\worker\\package_win64\\build\\usr\\share\\julia\\stdlib\\v1.3\\Distributed\\src\\clusterserialize.jl:160\n#3 at D:\\buildbot\\worker\\package_win64\\build\\usr\\share\\julia\\stdlib\\v1.3\\Distributed\\src\\clusterserialize.jl:72 [inlined]\nforeach at .\\abstractarray.jl:1920\ndeserialize at D:\\buildbot\\worker\\package_win64\\build\\usr\\share\\julia\\stdlib\\v1.3\\Distributed\\src\\clusterserialize.jl:72\nhandle_deserialize at D:\\buildbot\\worker\\package_win64\\build\\usr\\share\\julia\\stdlib\\v1.3\\Serialization\\src\\Serialization.jl:860\ndeserialize at D:\\buildbot\\worker\\package_win64\\build\\usr\\share\\julia\\stdlib\\v1.3\\Serialization\\src\\Serialization.jl:722\nhandle_deserialize at D:\\buildbot\\worker\\package_win64\\build\\usr\\share\\julia\\stdlib\\v1.3\\Serialization\\src\\Serialization.jl:779\ndeserialize at D:\\buildbot\\worker\\package_win64\\build\\usr\\share\\julia\\stdlib\\v1.3\\Serialization\\src\\Serialization.jl:722\nhandle_deserialize at D:\\buildbot\\worker\\package_win64\\build\\usr\\share\\julia\\stdlib\\v1.3\\Serialization\\src\\Serialization.jl:782\ndeserialize at D:\\buildbot\\worker\\package_win64\\build\\usr\\share\\julia\\stdlib\\v1.3\\Serialization\\src\\Serialization.jl:722 [inlined]\ndeserialize_msg at D:\\buildbot\\worker\\package_win64\\build\\usr\\share\\julia\\stdlib\\v1.3\\Distributed\\src\\messages.jl:99\n#invokelatest#1 at .\\essentials.jl:709 [inlined]\ninvokelatest at .\\essentials.jl:708 [inlined]\nmessage_handler_loop at D:\\buildbot\\worker\\package_win64\\build\\usr\\share\\julia\\stdlib\\v1.3\\Distributed\\src\\process_messages.jl:185\nprocess_tcp_streams at D:\\buildbot\\worker\\package_win64\\build\\usr\\share\\julia\\stdlib\\v1.3\\Distributed\\src\\process_messages.jl:142\n#101 at .\\task.jl:333",
     "output_type": "error",
     "traceback": [
      "On worker 6:\nUndefVarError: #complicated_calculation not defined\ndeserialize_datatype at D:\\buildbot\\worker\\package_win64\\build\\usr\\share\\julia\\stdlib\\v1.3\\Serialization\\src\\Serialization.jl:1193\nhandle_deserialize at D:\\buildbot\\worker\\package_win64\\build\\usr\\share\\julia\\stdlib\\v1.3\\Serialization\\src\\Serialization.jl:775\ndeserialize at D:\\buildbot\\worker\\package_win64\\build\\usr\\share\\julia\\stdlib\\v1.3\\Serialization\\src\\Serialization.jl:722\nhandle_deserialize at D:\\buildbot\\worker\\package_win64\\build\\usr\\share\\julia\\stdlib\\v1.3\\Serialization\\src\\Serialization.jl:782\ndeserialize at D:\\buildbot\\worker\\package_win64\\build\\usr\\share\\julia\\stdlib\\v1.3\\Serialization\\src\\Serialization.jl:722 [inlined]\ndeserialize_global_from_main at D:\\buildbot\\worker\\package_win64\\build\\usr\\share\\julia\\stdlib\\v1.3\\Distributed\\src\\clusterserialize.jl:160\n#3 at D:\\buildbot\\worker\\package_win64\\build\\usr\\share\\julia\\stdlib\\v1.3\\Distributed\\src\\clusterserialize.jl:72 [inlined]\nforeach at .\\abstractarray.jl:1920\ndeserialize at D:\\buildbot\\worker\\package_win64\\build\\usr\\share\\julia\\stdlib\\v1.3\\Distributed\\src\\clusterserialize.jl:72\nhandle_deserialize at D:\\buildbot\\worker\\package_win64\\build\\usr\\share\\julia\\stdlib\\v1.3\\Serialization\\src\\Serialization.jl:860\ndeserialize at D:\\buildbot\\worker\\package_win64\\build\\usr\\share\\julia\\stdlib\\v1.3\\Serialization\\src\\Serialization.jl:722\nhandle_deserialize at D:\\buildbot\\worker\\package_win64\\build\\usr\\share\\julia\\stdlib\\v1.3\\Serialization\\src\\Serialization.jl:779\ndeserialize at D:\\buildbot\\worker\\package_win64\\build\\usr\\share\\julia\\stdlib\\v1.3\\Serialization\\src\\Serialization.jl:722\nhandle_deserialize at D:\\buildbot\\worker\\package_win64\\build\\usr\\share\\julia\\stdlib\\v1.3\\Serialization\\src\\Serialization.jl:782\ndeserialize at D:\\buildbot\\worker\\package_win64\\build\\usr\\share\\julia\\stdlib\\v1.3\\Serialization\\src\\Serialization.jl:722 [inlined]\ndeserialize_msg at D:\\buildbot\\worker\\package_win64\\build\\usr\\share\\julia\\stdlib\\v1.3\\Distributed\\src\\messages.jl:99\n#invokelatest#1 at .\\essentials.jl:709 [inlined]\ninvokelatest at .\\essentials.jl:708 [inlined]\nmessage_handler_loop at D:\\buildbot\\worker\\package_win64\\build\\usr\\share\\julia\\stdlib\\v1.3\\Distributed\\src\\process_messages.jl:185\nprocess_tcp_streams at D:\\buildbot\\worker\\package_win64\\build\\usr\\share\\julia\\stdlib\\v1.3\\Distributed\\src\\process_messages.jl:142\n#101 at .\\task.jl:333",
      "",
      "Stacktrace:",
      " [1] #remotecall_fetch#145 at D:\\buildbot\\worker\\package_win64\\build\\usr\\share\\julia\\stdlib\\v1.3\\Distributed\\src\\remotecall.jl:390 [inlined]",
      " [2] remotecall_fetch(::Function, ::Distributed.Worker) at D:\\buildbot\\worker\\package_win64\\build\\usr\\share\\julia\\stdlib\\v1.3\\Distributed\\src\\remotecall.jl:382",
      " [3] #remotecall_fetch#148(::Base.Iterators.Pairs{Union{},Union{},Tuple{},NamedTuple{(),Tuple{}}}, ::typeof(remotecall_fetch), ::Function, ::Int64) at D:\\buildbot\\worker\\package_win64\\build\\usr\\share\\julia\\stdlib\\v1.3\\Distributed\\src\\remotecall.jl:417",
      " [4] remotecall_fetch(::Function, ::Int64) at D:\\buildbot\\worker\\package_win64\\build\\usr\\share\\julia\\stdlib\\v1.3\\Distributed\\src\\remotecall.jl:417",
      " [5] top-level scope at In[30]:7"
     ]
    }
   ],
   "source": [
    "using Random\n",
    "\n",
    "function complicated_calculation()\n",
    "    sleep(1) # so complex that it takes a long time :)\n",
    "    randexp(5)\n",
    "end\n",
    "\n",
    "@fetch complicated_calculation()"
   ]
  },
  {
   "cell_type": "markdown",
   "metadata": {},
   "source": [
    "What happened?"
   ]
  },
  {
   "cell_type": "markdown",
   "metadata": {},
   "source": [
    "**Think of every worker as a separate Julia instance.**\n",
    "\n",
    "We only defined `complicated_calculation()` on the master process. The function doesn't exist on any of the workers yet.\n",
    "\n",
    "The macro `@everywhere` comes for the rescue."
   ]
  },
  {
   "cell_type": "code",
   "execution_count": 31,
   "metadata": {},
   "outputs": [],
   "source": [
    "@everywhere begin # execute this block on all workers\n",
    "    using Random\n",
    "    \n",
    "    function complicated_calculation()\n",
    "        sleep(1)\n",
    "        randexp(5) # lives in Random\n",
    "    end\n",
    "end"
   ]
  },
  {
   "cell_type": "code",
   "execution_count": 32,
   "metadata": {},
   "outputs": [
    {
     "data": {
      "text/plain": [
       "5-element Array{Float64,1}:\n",
       " 0.41457638037834227\n",
       " 1.3202994438425328 \n",
       " 1.998811334691972  \n",
       " 0.14183182613311127\n",
       " 0.7182824524952738 "
      ]
     },
     "execution_count": 32,
     "metadata": {},
     "output_type": "execute_result"
    }
   ],
   "source": [
    "@fetch complicated_calculation()"
   ]
  },
  {
   "cell_type": "markdown",
   "metadata": {},
   "source": [
    "## Data movement"
   ]
  },
  {
   "cell_type": "markdown",
   "metadata": {},
   "source": [
    "There is a crucial difference between the following two pieces of code. Can you guess what it is?"
   ]
  },
  {
   "cell_type": "code",
   "execution_count": 33,
   "metadata": {},
   "outputs": [
    {
     "data": {
      "text/plain": [
       "method1 (generic function with 1 method)"
      ]
     },
     "execution_count": 33,
     "metadata": {},
     "output_type": "execute_result"
    }
   ],
   "source": [
    "function method1()\n",
    "    A = rand(100,100)\n",
    "    B = rand(100,100)\n",
    "    C = @fetch A^2 * B^2\n",
    "end"
   ]
  },
  {
   "cell_type": "code",
   "execution_count": 34,
   "metadata": {},
   "outputs": [
    {
     "data": {
      "text/plain": [
       "method2 (generic function with 1 method)"
      ]
     },
     "execution_count": 34,
     "metadata": {},
     "output_type": "execute_result"
    }
   ],
   "source": [
    "function method2()\n",
    "    C = @fetch rand(100,100)^2 * rand(100,100)^2\n",
    "end"
   ]
  },
  {
   "cell_type": "markdown",
   "metadata": {},
   "source": [
    "Let's benchmark them."
   ]
  },
  {
   "cell_type": "code",
   "execution_count": 36,
   "metadata": {},
   "outputs": [
    {
     "name": "stdout",
     "output_type": "stream",
     "text": [
      "  403.901 μs (124 allocations: 238.77 KiB)\n",
      "  327.700 μs (98 allocations: 81.84 KiB)\n"
     ]
    }
   ],
   "source": [
    "using BenchmarkTools\n",
    "@btime method1();\n",
    "@btime method2();"
   ]
  },
  {
   "cell_type": "markdown",
   "metadata": {},
   "source": [
    "Method 1 is slower, because `A` and `B` are created on the master process, transferred to a worker, and squared and multiplied on the worker process before the result is finally transferred back to the master.\n",
    "\n",
    "Method 2, on the other hand, creates, squares, and multiplies the random matrix all on the work process and only submits the result to the master.\n",
    "\n",
    "Hence, `method1` is **transferring 3x as much data** between the master and the worker!"
   ]
  },
  {
   "cell_type": "markdown",
   "metadata": {},
   "source": [
    "**Data movement is crucial!**"
   ]
  },
  {
   "cell_type": "markdown",
   "metadata": {},
   "source": [
    "In this toy example, it's rather easy to identify the faster method.\n",
    "\n",
    "In a real program, however, understanding data movement does require more thought and likely some measurement.\n",
    "\n",
    "For example, if the first process needs matrix `A` in a follow-up computation then the first method might be better in this case. Or, if computing `A` is expensive and only the current process has it, then moving it to another process might be unavoidable."
   ]
  },
  {
   "cell_type": "markdown",
   "metadata": {},
   "source": [
    "#### Computer latency at a human scale\n",
    "\n",
    "To understand why thinking about data is important it's instructive to look at the time scales involved in data access.\n",
    "\n",
    "<img src=\"latency_human_scales.png\" width=900px>\n",
    "\n",
    "(taken from https://www.prowesscorp.com/computer-latency-at-a-human-scale/)"
   ]
  },
  {
   "cell_type": "markdown",
   "metadata": {},
   "source": [
    "### Avoid globals (once more)"
   ]
  },
  {
   "cell_type": "code",
   "execution_count": 37,
   "metadata": {},
   "outputs": [
    {
     "data": {
      "text/plain": [
       "4"
      ]
     },
     "execution_count": 37,
     "metadata": {},
     "output_type": "execute_result"
    }
   ],
   "source": [
    "myglobal = 4"
   ]
  },
  {
   "cell_type": "code",
   "execution_count": 38,
   "metadata": {},
   "outputs": [
    {
     "data": {
      "text/plain": [
       "whohas (generic function with 1 method)"
      ]
     },
     "execution_count": 38,
     "metadata": {},
     "output_type": "execute_result"
    }
   ],
   "source": [
    "function whohas(s::String)\n",
    "    @everywhere begin\n",
    "        var = Symbol($s)\n",
    "        if isdefined(Main, var)\n",
    "            println(\"$var exists.\")\n",
    "        else\n",
    "            println(\"Doesn't exist.\")\n",
    "        end\n",
    "    end\n",
    "    nothing\n",
    "end"
   ]
  },
  {
   "cell_type": "code",
   "execution_count": 39,
   "metadata": {},
   "outputs": [
    {
     "name": "stdout",
     "output_type": "stream",
     "text": [
      "myglobal exists.\n",
      "      From worker 7:\tDoesn't exist.\n",
      "      From worker 8:\tDoesn't exist."
     ]
    }
   ],
   "source": [
    "whohas(\"myglobal\")"
   ]
  },
  {
   "cell_type": "code",
   "execution_count": 40,
   "metadata": {},
   "outputs": [
    {
     "name": "stdout",
     "output_type": "stream",
     "text": [
      "\n",
      "      From worker 6:\tDoesn't exist.\n",
      "      From worker 9:\tDoesn't exist.\n"
     ]
    },
    {
     "data": {
      "text/plain": [
       "6"
      ]
     },
     "execution_count": 40,
     "metadata": {},
     "output_type": "execute_result"
    }
   ],
   "source": [
    "@fetchfrom 6 myglobal+2"
   ]
  },
  {
   "cell_type": "code",
   "execution_count": 41,
   "metadata": {},
   "outputs": [
    {
     "name": "stdout",
     "output_type": "stream",
     "text": [
      "myglobal exists.\n",
      "      From worker 6:\tmyglobal exists.\n",
      "      From worker 7:\tDoesn't exist.\n",
      "      From worker 8:\tDoesn't exist.\n",
      "      From worker 9:\tDoesn't exist.\n"
     ]
    }
   ],
   "source": [
    "whohas(\"myglobal\")"
   ]
  },
  {
   "cell_type": "markdown",
   "metadata": {},
   "source": [
    "Globals get copied to workers and continue to exist as globals even after the call.\n",
    "\n",
    "This could lead to memory accumulation if many globals are used (just as it would in a single Julia session).\n",
    "\n",
    "It's better to avoid them."
   ]
  },
  {
   "cell_type": "markdown",
   "metadata": {},
   "source": [
    "## Explicit data movement: `Channel` and `RemoteChannel`"
   ]
  },
  {
   "cell_type": "markdown",
   "metadata": {},
   "source": [
    "Channels in Julia are constructs to explicitly exchange data between workers.\n",
    "\n",
    "They implement `put!`, `take!`, `fetch`, `isready` and `wait` methods."
   ]
  },
  {
   "cell_type": "code",
   "execution_count": null,
   "metadata": {
    "scrolled": true
   },
   "outputs": [],
   "source": [
    "# ?Channel"
   ]
  },
  {
   "cell_type": "code",
   "execution_count": null,
   "metadata": {},
   "outputs": [],
   "source": [
    "ch = Channel{Int}(5) # a channel that can hold up to 5 integers"
   ]
  },
  {
   "cell_type": "code",
   "execution_count": null,
   "metadata": {},
   "outputs": [],
   "source": [
    "isready(ch) # something in the channel?"
   ]
  },
  {
   "cell_type": "code",
   "execution_count": null,
   "metadata": {},
   "outputs": [],
   "source": [
    "put!(ch, 3)"
   ]
  },
  {
   "cell_type": "code",
   "execution_count": null,
   "metadata": {},
   "outputs": [],
   "source": [
    "isready(ch)"
   ]
  },
  {
   "cell_type": "code",
   "execution_count": null,
   "metadata": {},
   "outputs": [],
   "source": [
    "take!(ch)"
   ]
  },
  {
   "cell_type": "code",
   "execution_count": null,
   "metadata": {},
   "outputs": [],
   "source": [
    "isready(ch)"
   ]
  },
  {
   "cell_type": "code",
   "execution_count": null,
   "metadata": {},
   "outputs": [],
   "source": [
    "put!(ch, 4)"
   ]
  },
  {
   "cell_type": "code",
   "execution_count": null,
   "metadata": {},
   "outputs": [],
   "source": [
    "fetch(ch) # basically take without a bang"
   ]
  },
  {
   "cell_type": "code",
   "execution_count": null,
   "metadata": {},
   "outputs": [],
   "source": [
    "take!(ch)"
   ]
  },
  {
   "cell_type": "markdown",
   "metadata": {},
   "source": [
    "Be careful, `take!` and `put!` are blocking if the channel is empty or full!"
   ]
  },
  {
   "cell_type": "code",
   "execution_count": null,
   "metadata": {},
   "outputs": [],
   "source": [
    "isready(ch)"
   ]
  },
  {
   "cell_type": "code",
   "execution_count": null,
   "metadata": {},
   "outputs": [],
   "source": [
    "# take!(ch) if we execute this, while isready(ch) == false, the current Julia session will hang."
   ]
  },
  {
   "cell_type": "markdown",
   "metadata": {},
   "source": [
    "## Channels for inter-process data movement: `RemoteChannel`"
   ]
  },
  {
   "cell_type": "markdown",
   "metadata": {},
   "source": [
    "* A `Channel` is local to a process. Worker 2 cannot directly refer to a `Channel` on worker 3 and vice-versa.\n",
    "\n",
    "\n",
    "* A `RemoteChannel`, however, can put and take values across workers. A `RemoteChannel` can be thought of as a handle to a `Channel`.\n",
    "\n",
    "\n",
    "* Any process with a reference to a `RemoteChannel` can put and take items from the channel. Data is automatically sent to (or retrieved from) the process a `RemoteChannel` is associated with.\n",
    "\n",
    "\n",
    "* The process id, pid, associated with a `RemoteChannel` identifies the process where the backing store, i.e., the backing Channel exists."
   ]
  },
  {
   "cell_type": "code",
   "execution_count": null,
   "metadata": {},
   "outputs": [],
   "source": [
    "nworkers()"
   ]
  },
  {
   "cell_type": "code",
   "execution_count": null,
   "metadata": {},
   "outputs": [],
   "source": [
    "addprocs(4)"
   ]
  },
  {
   "cell_type": "code",
   "execution_count": null,
   "metadata": {},
   "outputs": [],
   "source": [
    "?RemoteChannel"
   ]
  },
  {
   "cell_type": "code",
   "execution_count": null,
   "metadata": {},
   "outputs": [],
   "source": [
    "# creates a channel on the second worker process\n",
    "# create a RemoteChannel handle to this channel on the master process\n",
    "const mychannel = RemoteChannel(()->Channel{Int}(10), workers()[2])"
   ]
  },
  {
   "cell_type": "code",
   "execution_count": null,
   "metadata": {},
   "outputs": [],
   "source": [
    "whohas(\"mychannel\")"
   ]
  },
  {
   "cell_type": "code",
   "execution_count": null,
   "metadata": {},
   "outputs": [],
   "source": [
    "# One could create a global constant mychannel everywhere\n",
    "@everywhere const mychannel = $mychannel"
   ]
  },
  {
   "cell_type": "code",
   "execution_count": null,
   "metadata": {},
   "outputs": [],
   "source": [
    "whohas(\"mychannel\")"
   ]
  },
  {
   "cell_type": "markdown",
   "metadata": {},
   "source": [
    "However, as we said many times before, one should generally try to avoid globals. The following is preferable."
   ]
  },
  {
   "cell_type": "code",
   "execution_count": null,
   "metadata": {},
   "outputs": [],
   "source": [
    "function do_something()\n",
    "    rc = RemoteChannel(()->Channel{Int}(10)) # lives on the master\n",
    "    @sync for p in workers()\n",
    "        @spawnat p put!(rc, myid())\n",
    "    end\n",
    "    rc\n",
    "end\n",
    "\n",
    "r = do_something()"
   ]
  },
  {
   "cell_type": "code",
   "execution_count": null,
   "metadata": {},
   "outputs": [],
   "source": [
    "isready(r)"
   ]
  },
  {
   "cell_type": "code",
   "execution_count": null,
   "metadata": {},
   "outputs": [],
   "source": [
    "while isready(r)\n",
    "    @show take!(r)\n",
    "end"
   ]
  },
  {
   "cell_type": "markdown",
   "metadata": {},
   "source": [
    "The ecosystem also contains a couple of tools, that make data transfer even simpler. See for example [ParallelDataTransfer.jl](https://github.com/ChrisRackauckas/ParallelDataTransfer.jl/)."
   ]
  },
  {
   "cell_type": "markdown",
   "metadata": {},
   "source": [
    "# Parallelizing the easy way - `@distributed` and `pmap`"
   ]
  },
  {
   "cell_type": "markdown",
   "metadata": {},
   "source": [
    "So far we have seen the build block of commands for distributed computing in Julia. Having scientific computing in mind, one might not always want to think about how to distribute the work and explicitly spawn tasks.\n",
    "\n",
    "Also, fortunately, many useful parallel computations do not require (much) data movement. A common example is a direct Monte Carlo simulation, where multiple processes can handle independent simulation trials simultaneously. (We'll get to that later!)\n",
    "\n",
    "Julia provides convenience macros to\n",
    " * Parallelize loops (`@distributed`)\n",
    " * Apply a function to all elements in some collection (`pmap`)\n",
    " \n",
    "Let's explore these!"
   ]
  },
  {
   "cell_type": "markdown",
   "metadata": {},
   "source": [
    "## Distributed loops (`@distributed`)"
   ]
  },
  {
   "cell_type": "code",
   "execution_count": 42,
   "metadata": {},
   "outputs": [
    {
     "data": {
      "text/plain": [
       "4"
      ]
     },
     "execution_count": 42,
     "metadata": {},
     "output_type": "execute_result"
    }
   ],
   "source": [
    "using Distributed, BenchmarkTools; rmprocs(workers()); addprocs(4); nworkers()"
   ]
  },
  {
   "cell_type": "code",
   "execution_count": 43,
   "metadata": {},
   "outputs": [
    {
     "name": "stdout",
     "output_type": "stream",
     "text": [
      "  1.811 s (0 allocations: 0 bytes)\n"
     ]
    }
   ],
   "source": [
    "# serial version - count heads in a series of coin tosses\n",
    "function add_serial(n)\n",
    "    c = 0\n",
    "    for i = 1:n\n",
    "        c += rand(Bool)\n",
    "    end\n",
    "    c\n",
    "end\n",
    "\n",
    "@btime add_serial(200_000_000);"
   ]
  },
  {
   "cell_type": "markdown",
   "metadata": {},
   "source": [
    "This is trivially parallelizable since the loop iterations are independent of each other. We can distribute coin tosses over a couple of workers.\n",
    "\n",
    "Afterwards we combine the results, that is we sum them up. The combination process is generally called a *reduction*, and in this case `sum` is the *reducer function*.\n",
    "\n",
    "To distribute the for loop over worker processes Julia provides the `@distributed` macro:"
   ]
  },
  {
   "cell_type": "code",
   "execution_count": null,
   "metadata": {},
   "outputs": [],
   "source": [
    "?@distributed"
   ]
  },
  {
   "cell_type": "code",
   "execution_count": null,
   "metadata": {},
   "outputs": [],
   "source": [
    "# distributed version\n",
    "function add_distributed(n)\n",
    "    c = @distributed (+) for i in 1:n\n",
    "        Int(rand(Bool))\n",
    "    end\n",
    "    c\n",
    "end\n",
    "\n",
    "@btime add_distributed(200_000_000);"
   ]
  },
  {
   "cell_type": "markdown",
   "metadata": {},
   "source": [
    "The distributed version is about **4x faster**, which is all we could hope for."
   ]
  },
  {
   "cell_type": "markdown",
   "metadata": {},
   "source": [
    "Let's see who is doing the work"
   ]
  },
  {
   "cell_type": "code",
   "execution_count": null,
   "metadata": {},
   "outputs": [],
   "source": [
    "# verbose distributed version\n",
    "function add_distributed(n)\n",
    "    c = @distributed (+) for i in 1:n\n",
    "        x = Int(rand(Bool))\n",
    "        println(x);\n",
    "        x\n",
    "    end\n",
    "    c\n",
    "end\n",
    "\n",
    "add_distributed(8);"
   ]
  },
  {
   "cell_type": "markdown",
   "metadata": {},
   "source": [
    "Apparently, the work is evenly distributed between the workers. By using `@distributed` we let Julia decide how to split up the work and can't control it ourselves."
   ]
  },
  {
   "cell_type": "markdown",
   "metadata": {},
   "source": [
    "A common mistake when using `@distributed` is the following:"
   ]
  },
  {
   "cell_type": "code",
   "execution_count": null,
   "metadata": {},
   "outputs": [],
   "source": [
    "function f(n)\n",
    "    a = 0\n",
    "    @distributed (+) for i in 1:n\n",
    "        a += 1\n",
    "    end\n",
    "    a\n",
    "end\n",
    "\n",
    "a = f(10);"
   ]
  },
  {
   "cell_type": "markdown",
   "metadata": {},
   "source": [
    "What do you expect the value of `a` to be?"
   ]
  },
  {
   "cell_type": "code",
   "execution_count": null,
   "metadata": {},
   "outputs": [],
   "source": [
    "a"
   ]
  },
  {
   "cell_type": "markdown",
   "metadata": {},
   "source": [
    "We can (sort of) see what's happening by making everything global"
   ]
  },
  {
   "cell_type": "code",
   "execution_count": null,
   "metadata": {},
   "outputs": [],
   "source": [
    "a = 0\n",
    "@distributed (+) for i in 1:10\n",
    "    println(\"1\")\n",
    "    global a += 1\n",
    "end;"
   ]
  },
  {
   "cell_type": "code",
   "execution_count": null,
   "metadata": {},
   "outputs": [],
   "source": [
    "@everywhere @show a"
   ]
  },
  {
   "cell_type": "markdown",
   "metadata": {},
   "source": [
    "The variable `a` gets copied to the worker processes as it is referenced in the distributed loop. \n",
    "\n",
    "Every worker will then increment its copy of `a`.\n",
    "\n",
    "However, we do not save the result of the reduction (sum) but instead return `a` from the master process, which hasn't been altered at all.\n",
    "\n",
    "Corrected version:"
   ]
  },
  {
   "cell_type": "code",
   "execution_count": null,
   "metadata": {},
   "outputs": [],
   "source": [
    "function f2(n)\n",
    "    a = @distributed (+) for i in 1:n\n",
    "        1\n",
    "    end\n",
    "    a\n",
    "end\n",
    "\n",
    "a = f2(10)"
   ]
  },
  {
   "cell_type": "markdown",
   "metadata": {},
   "source": [
    "### What if I don't want to reduce?"
   ]
  },
  {
   "cell_type": "markdown",
   "metadata": {},
   "source": [
    "Similar to the mistake above, the following example might not have the effect one expects. **Why?**"
   ]
  },
  {
   "cell_type": "code",
   "execution_count": null,
   "metadata": {},
   "outputs": [],
   "source": [
    "a = zeros(10)\n",
    "@distributed for i = 1:10\n",
    "    a[i] = i\n",
    "end"
   ]
  },
  {
   "cell_type": "code",
   "execution_count": null,
   "metadata": {},
   "outputs": [],
   "source": [
    "@everywhere @show a"
   ]
  },
  {
   "cell_type": "markdown",
   "metadata": {},
   "source": [
    "Note that `@distributed` without a reduction function returns a `Task`. It is basically a distributed version of `@spawn` for all the iterations."
   ]
  },
  {
   "cell_type": "markdown",
   "metadata": {},
   "source": [
    "## `SharedArray`s"
   ]
  },
  {
   "cell_type": "markdown",
   "metadata": {},
   "source": [
    "To actually make all processes operate on the same array, one can use a `SharedArray`.\n",
    "\n",
    "Note that a `SharedArray` only works if the **processes live on the same host**.\n",
    "\n",
    "The constructor of a SharedArray is\n",
    "\n",
    "```julia\n",
    "SharedArray{T,N}(dims::NTuple; init=false, pids=Int[])\n",
    "```\n",
    "\n",
    "which creates an `N`-dimensional shared array of a (bits) type `T` and size `dims` across the processes specified by `pids`.\n",
    "\n",
    "(If an `init` function, of signature `initfn(S::SharedArray)`, is specified, it is called on all the participating workers. You can specify that each worker runs the init function on a distinct portion of the array, thereby parallelizing initialization.)"
   ]
  },
  {
   "cell_type": "code",
   "execution_count": null,
   "metadata": {},
   "outputs": [],
   "source": [
    "@everywhere using SharedArrays # must be loaded everywhere"
   ]
  },
  {
   "cell_type": "code",
   "execution_count": null,
   "metadata": {},
   "outputs": [],
   "source": [
    "A = rand(2,3)"
   ]
  },
  {
   "cell_type": "code",
   "execution_count": null,
   "metadata": {},
   "outputs": [],
   "source": [
    "S = SharedArray(A)"
   ]
  },
  {
   "cell_type": "markdown",
   "metadata": {},
   "source": [
    "Ok, now that we know how to create and fill our `SharedArray` we can create a parallel fill function:"
   ]
  },
  {
   "cell_type": "code",
   "execution_count": null,
   "metadata": {},
   "outputs": [],
   "source": [
    "function fill_shared_problematic(N)\n",
    "    S = SharedMatrix{Float64}(N,N)\n",
    "    @distributed for i in 1:length(S)\n",
    "        S[i] = i\n",
    "    end\n",
    "    S\n",
    "end\n",
    "\n",
    "fill_shared_problematic(3)"
   ]
  },
  {
   "cell_type": "markdown",
   "metadata": {},
   "source": [
    "*Why is the method in its current form problematic? Try to find out yourself by going to larger `N` and, for example, inspecting the minimum of the returned `SharedArray`!*"
   ]
  },
  {
   "cell_type": "markdown",
   "metadata": {},
   "source": [
    "Going to larger matrix sizes...."
   ]
  },
  {
   "cell_type": "code",
   "execution_count": null,
   "metadata": {},
   "outputs": [],
   "source": [
    "function fill_shared_problematic(N)\n",
    "    S = SharedMatrix{Int64}(N,N)\n",
    "    @distributed for i in 1:length(S)\n",
    "        S[i] = i\n",
    "    end\n",
    "    S\n",
    "end\n",
    "\n",
    "S = fill_shared_problematic(100)\n",
    "minimum(S)"
   ]
  },
  {
   "cell_type": "markdown",
   "metadata": {},
   "source": [
    "Note how sometimes the array isn't completely filled but still contains zeros. This is because it isn't filled **yet**!\n",
    "\n",
    "Check again!"
   ]
  },
  {
   "cell_type": "code",
   "execution_count": null,
   "metadata": {},
   "outputs": [],
   "source": [
    "minimum(S)"
   ]
  },
  {
   "cell_type": "markdown",
   "metadata": {},
   "source": [
    "We can use `@sync` to synchronize our distributed for loop."
   ]
  },
  {
   "cell_type": "code",
   "execution_count": null,
   "metadata": {},
   "outputs": [],
   "source": [
    "function fill_shared_problematic(N)\n",
    "    S = SharedMatrix{Int64}(N,N)\n",
    "    @sync @distributed for i in 1:length(S) # added @sync here\n",
    "        S[i] = i\n",
    "    end\n",
    "    S\n",
    "end\n",
    "\n",
    "S = fill_shared_problematic(100)\n",
    "minimum(S)"
   ]
  },
  {
   "cell_type": "markdown",
   "metadata": {},
   "source": [
    "Ok, let's **benchmark** this for a larger matrix size"
   ]
  },
  {
   "cell_type": "code",
   "execution_count": null,
   "metadata": {},
   "outputs": [],
   "source": [
    "# regular array\n",
    "function fill_regular(N)\n",
    "    A = Matrix{Int64}(undef,N,N)\n",
    "    for i in 1:length(A)\n",
    "        A[i] = i\n",
    "    end\n",
    "    A\n",
    "end\n",
    "\n",
    "@time fill_regular(10000);"
   ]
  },
  {
   "cell_type": "code",
   "execution_count": null,
   "metadata": {},
   "outputs": [],
   "source": [
    "# shared array\n",
    "function fill_shared(N)\n",
    "    S = SharedMatrix{Int64}(N,N)\n",
    "    @sync @distributed for i in 1:length(S)\n",
    "        S[i] = i\n",
    "    end\n",
    "    S\n",
    "end\n",
    "\n",
    "@time fill_shared(10000);"
   ]
  },
  {
   "cell_type": "markdown",
   "metadata": {},
   "source": [
    "This is of course just filling an array.\n",
    "\n",
    "If there were actual calculations it might actually be beneficial to distribute the work across workers."
   ]
  },
  {
   "cell_type": "markdown",
   "metadata": {},
   "source": [
    "## Parallel map: `pmap`"
   ]
  },
  {
   "cell_type": "markdown",
   "metadata": {},
   "source": [
    "Sometimes we merely wish to apply a function to all all elements in a collection.\n",
    "\n",
    "For those cases, Julia provides the `pmap` (parallel map) function."
   ]
  },
  {
   "cell_type": "markdown",
   "metadata": {},
   "source": [
    "Say, we want to compute the singular values of a bunch of larger matrices in parallel."
   ]
  },
  {
   "cell_type": "code",
   "execution_count": 44,
   "metadata": {},
   "outputs": [
    {
     "data": {
      "text/plain": [
       "10-element Array{Array{Float64,1},1}:\n",
       " [500.60917965187633, 18.227620587972748, 18.085187571236638, 18.028406805119474, 17.894837146989076, 17.816945241820772, 17.770672620366774, 17.736003578269962, 17.675089483653668, 17.59100638712185  …  0.13237533366804102, 0.12747151434355056, 0.118114660329471, 0.10429947752942281, 0.06922017909823158, 0.06157371789001006, 0.05169110734699496, 0.03907308993520358, 0.02235936633633005, 0.015049593746221532]    \n",
       " [499.9888531115724, 18.17405498006876, 18.13511394887289, 17.977368673504508, 17.86977203585463, 17.825558244778342, 17.759655611765623, 17.722336180945426, 17.67058842879004, 17.640940490547948  …  0.13454838157073173, 0.12718211609689092, 0.09525063411880443, 0.08061562185480459, 0.059731628688268264, 0.056659795408497145, 0.03801197542656451, 0.019568449047520264, 0.0056680076377059185, 0.0013383530821066206]\n",
       " [500.1642362472348, 18.171960273015795, 17.993807354808542, 17.932330286293734, 17.8033035379039, 17.758909779744922, 17.707937038601614, 17.632357544383364, 17.581470898286895, 17.513662256443258  …  0.1289441106562033, 0.11662324822143749, 0.10858681320838931, 0.09506722891923677, 0.08015544921411238, 0.04744224289325764, 0.036613030843912577, 0.027090935460189255, 0.015951366040800368, 0.007310998584499132]  \n",
       " [500.76317405845003, 18.188970534589952, 18.038449238346338, 17.92593246035197, 17.838239519608265, 17.805401478662265, 17.708770260006137, 17.65300451439718, 17.613995730376374, 17.547063407417742  …  0.13501637299359667, 0.12170601888178537, 0.10589315237611235, 0.08973895004176122, 0.08045166556857133, 0.05771589926346985, 0.04442279539283652, 0.023647162076767664, 0.015732777186376765, 0.0020448304665846673]\n",
       " [500.78065702528033, 18.024845550201118, 17.968472524345678, 17.894153091477886, 17.785868066759495, 17.63800882639088, 17.622859482700193, 17.603029199489963, 17.58696874134076, 17.515450447731137  …  0.10981244449293565, 0.09634793734074658, 0.08609476545455935, 0.05875062271899328, 0.050145139316664, 0.041983242019557644, 0.033276433937656245, 0.029569108950755103, 0.011195461505764259, 0.002806884143708688] \n",
       " [500.47088765459574, 18.07931774362074, 17.984506761123306, 17.931167704558618, 17.877015601141355, 17.840840017025457, 17.81503146698755, 17.72304717536235, 17.69429996294527, 17.640377720086274  …  0.1289001868414336, 0.11965479296262838, 0.1109238073058215, 0.09419428442740568, 0.09094057456130208, 0.06777130052728539, 0.06305140954460906, 0.042907689797910764, 0.019564024457530624, 0.005058923217082425]     \n",
       " [500.1795971823235, 18.24851566507563, 18.01573204761776, 18.004265933903746, 17.917107184042354, 17.847829719076994, 17.68734786770083, 17.63677104239293, 17.597045978064504, 17.49346471422534  …  0.136680185321875, 0.11093595790791312, 0.09822362697109015, 0.0820391368190332, 0.06814909674315871, 0.06107241036679967, 0.055213919205221514, 0.028325130332851126, 0.012433278160458094, 0.005251463600337301]       \n",
       " [499.44314370661806, 18.24106493503855, 18.132940154223263, 17.957678956748065, 17.901384308385595, 17.81888688736872, 17.72249358732962, 17.622118955078687, 17.558656136878252, 17.512365911298772  …  0.1367199015686704, 0.11976332943215466, 0.09684871171715351, 0.08705214219217218, 0.07515907183144782, 0.06542492169519734, 0.05351705549301548, 0.03849749916726032, 0.019002783510560343, 0.01363315692841161]     \n",
       " [500.0519935547892, 18.073025198004235, 17.994823374624342, 17.96755864024368, 17.838596552422615, 17.822821814847977, 17.76204998667368, 17.682234912190747, 17.608967327214287, 17.56701254343449  …  0.12063737128744181, 0.10598332692974126, 0.10327063698383332, 0.092625343896895, 0.08274337198589218, 0.056369994623003516, 0.04038672449425109, 0.03631124208438255, 0.018507195390330317, 0.0043752242091568885]    \n",
       " [499.775704084838, 18.17421199573709, 18.054922828967072, 18.017867498192793, 17.918539163581503, 17.855894590602496, 17.845475986375387, 17.790840092844473, 17.68631559044235, 17.639298459554038  …  0.14277936268295718, 0.11135209971441619, 0.10180937899407295, 0.09053437781015898, 0.08508891827456239, 0.07042821138993043, 0.05519796797807142, 0.03299147002924258, 0.01939028976858413, 0.005375675104270891]     "
      ]
     },
     "execution_count": 44,
     "metadata": {},
     "output_type": "execute_result"
    }
   ],
   "source": [
    "@everywhere using LinearAlgebra\n",
    "\n",
    "M = Matrix{Float64}[rand(1000,1000) for i = 1:10];\n",
    "\n",
    "pmap(svdvals, M)"
   ]
  },
  {
   "cell_type": "code",
   "execution_count": 45,
   "metadata": {},
   "outputs": [
    {
     "name": "stdout",
     "output_type": "stream",
     "text": [
      "      From worker 12:\t12\n",
      "      From worker 13:\t13\n",
      "      From worker 11:\t11\n",
      "      From worker 10:\t10\n",
      "      From worker 12:\t12\n",
      "      From worker 13:\t13\n",
      "      From worker 11:\t11\n",
      "      From worker 10:\t10\n",
      "      From worker 12:\t12\n",
      "      From worker 10:\t10\n"
     ]
    }
   ],
   "source": [
    "# Check that really all of the workers participated\n",
    "pmap(m->begin println(myid()); svdvals(m) end, M);"
   ]
  },
  {
   "cell_type": "code",
   "execution_count": 46,
   "metadata": {},
   "outputs": [
    {
     "name": "stdout",
     "output_type": "stream",
     "text": [
      "  2.971305 seconds (38.14 k allocations: 84.023 MiB, 2.58% gc time)\n",
      "  2.880240 seconds (176.15 k allocations: 91.189 MiB, 0.29% gc time)\n",
      "  2.061071 seconds (1.03 k allocations: 117.891 KiB)\n"
     ]
    }
   ],
   "source": [
    "function svds_loop(M)\n",
    "    svds = Vector{Vector{Float64}}(undef, 10)\n",
    "    for (i, m) in enumerate(M)\n",
    "        svds[i] = svdvals(m)\n",
    "    end\n",
    "    svds\n",
    "end\n",
    "\n",
    "@time svds_loop(M);\n",
    "@time svdvals.(M);\n",
    "@time pmap(svdvals, M);"
   ]
  },
  {
   "cell_type": "markdown",
   "metadata": {},
   "source": [
    "### When to choose which?"
   ]
  },
  {
   "cell_type": "markdown",
   "metadata": {},
   "source": [
    "Julia's pmap is designed for the case where each function call does a **large amount of work**.\n",
    "\n",
    "In contrast, `@distributed` can handle situations where **each iteration is tiny**, perhaps only summing two numbers."
   ]
  },
  {
   "cell_type": "markdown",
   "metadata": {},
   "source": [
    "# Scaling things up: distributed computing"
   ]
  },
  {
   "cell_type": "markdown",
   "metadata": {},
   "source": [
    "So far we have worked on multiple cores on a single machine, your laptop for example.\n",
    "\n",
    "Processes can live on other machines as well! This allows us to distribute our computation across computer clusters.\n",
    "\n",
    "In principle, the plan of action is the same as in the multi-core case. However, we have to take into account the different memory situation. In particular, **data movement is expensive** and we won't be able to use `SharedArray`s."
   ]
  },
  {
   "cell_type": "code",
   "execution_count": 47,
   "metadata": {},
   "outputs": [
    {
     "data": {
      "text/plain": [
       "Task (done) @0x000000001050c5d0"
      ]
     },
     "execution_count": 47,
     "metadata": {},
     "output_type": "execute_result"
    }
   ],
   "source": [
    "rmprocs(workers()) # fresh start"
   ]
  },
  {
   "cell_type": "markdown",
   "metadata": {},
   "source": [
    "## Creating workers on the cluster"
   ]
  },
  {
   "cell_type": "markdown",
   "metadata": {},
   "source": [
    "Adding processes on different machines is not much harder than adding them on your local machine. In the following we will take the last example, calculating singular values of a bunch of matrices, and distribute it over multiple computers in our thp network.\n",
    "\n",
    "In Julia, starting worker processes is handled by [ClusterManagers](https://docs.julialang.org/en/stable/manual/parallel-computing/#ClusterManagers-1).\n",
    "\n",
    "* The default one is `LocalManager`. It is automatically used when running `addprocs(i::Integer)` and we have implicitly used it already!\n",
    "* The one we are going to use for the THP cluster is `SSHManager`. It is automatically used when running `addprocs(hostnames::Array)`.\n",
    "\n",
    "Other cluster managers for SLURM, PBS, and others are provided in [ClusterManagers.jl](https://github.com/JuliaParallel/ClusterManagers.jl)."
   ]
  },
  {
   "cell_type": "markdown",
   "metadata": {},
   "source": [
    "In principle, starting processes on other computers can be done by `addprocs([\"l93\", \"l94\"])`, where `\"l93\"` and `\"l94\"` are hostnames. The only requirement is a **passwordless ssh access** to all specified hosts."
   ]
  },
  {
   "cell_type": "markdown",
   "metadata": {},
   "source": [
    "*Demonstrate in terminal from thp node*\n",
    "\n",
    "```julia\n",
    "using Distributed\n",
    "\n",
    "addprocs([\"l93\", \"l94\"])\n",
    "\n",
    "@everywhere println(gethostname())\n",
    "```"
   ]
  },
  {
   "cell_type": "markdown",
   "metadata": {},
   "source": [
    "One can also start multiple processes on different machines:\n",
    "```julia\n",
    "addprocs([(\"l93\", 2), (\"l94\", 3)]) # starts 2 workers on l92 and 3 workers on l93\n",
    "\n",
    "# Use :auto to start as many processes as CPUs are available\n",
    "```"
   ]
  },
  {
   "cell_type": "markdown",
   "metadata": {},
   "source": [
    "By default, `addprocs` expects the julia executable in the same folder as on the master computer (remember: workers are independent Julia processes). It will also try to `cd` to the same folder.\n",
    "\n",
    "In my case this would be"
   ]
  },
  {
   "cell_type": "code",
   "execution_count": 48,
   "metadata": {},
   "outputs": [
    {
     "name": "stdout",
     "output_type": "stream",
     "text": [
      "pwd() = \"C:\\\\Users\\\\carsten\\\\Desktop\\\\Oulu2020\\\\Day3\"\n",
      "Sys.BINDIR = \"C:\\\\Users\\\\carsten\\\\AppData\\\\Local\\\\Julia-1.3.1\\\\bin\"\n"
     ]
    }
   ],
   "source": [
    "@show pwd();\n",
    "@show Sys.BINDIR;"
   ]
  },
  {
   "cell_type": "markdown",
   "metadata": {},
   "source": [
    "Both folders don't exist in my thp account (those are linux machines!), so I'll have to tell Julia to use different paths.\n",
    "\n",
    "Also, as per thp cluster guidelines one **(!) must (!) run computations on other thp computer with `nice -19` priority setting**!"
   ]
  },
  {
   "cell_type": "markdown",
   "metadata": {},
   "source": [
    "### Creating `nice -19` workers and specifying directories "
   ]
  },
  {
   "cell_type": "markdown",
   "metadata": {},
   "source": [
    "As you can see from `?addprocs`, `addprocs` takes a bunch of keyword arguments, two of which are of particular importance.\n",
    "\n",
    "* `dir`: working directory of the worker process\n",
    "* `exename`: path to julia executable (potentially augmented with pre-commands)"
   ]
  },
  {
   "cell_type": "code",
   "execution_count": 51,
   "metadata": {},
   "outputs": [
    {
     "data": {
      "text/plain": [
       "(exename = `\u001b[4mnice\u001b[24m \u001b[4m-19\u001b[24m \u001b[4m/home/bauer/bin/julia-1.3.1/bin/julia\u001b[24m \u001b[4m--project=/home/bauer/JuliaWorkshop19\u001b[24m`, dir = \"/home/bauer\")"
      ]
     },
     "execution_count": 51,
     "metadata": {},
     "output_type": "execute_result"
    }
   ],
   "source": [
    "params = (exename=`nice -19 /home/bauer/bin/julia-1.3.1/bin/julia --project=/home/bauer/JuliaOulu20`, dir=\"/home/bauer\")"
   ]
  },
  {
   "cell_type": "code",
   "execution_count": 52,
   "metadata": {},
   "outputs": [
    {
     "data": {
      "text/plain": [
       "4-element Array{Int64,1}:\n",
       " 15\n",
       " 16\n",
       " 17\n",
       " 18"
      ]
     },
     "execution_count": 52,
     "metadata": {},
     "output_type": "execute_result"
    }
   ],
   "source": [
    "addprocs([(\"l94\", :auto)]; params...)"
   ]
  },
  {
   "cell_type": "code",
   "execution_count": 53,
   "metadata": {},
   "outputs": [
    {
     "name": "stdout",
     "output_type": "stream",
     "text": [
      "l91\n",
      "      From worker 15:\tl94.thp.uni-koeln.de\n",
      "      From worker 16:\tl94.thp.uni-koeln.de\n",
      "      From worker 17:\tl94.thp.uni-koeln.de\n",
      "      From worker 18:\tl94.thp.uni-koeln.de\n"
     ]
    }
   ],
   "source": [
    "@everywhere println(gethostname())"
   ]
  },
  {
   "cell_type": "code",
   "execution_count": 54,
   "metadata": {},
   "outputs": [
    {
     "data": {
      "text/plain": [
       "Task (done) @0x000000001063fc70"
      ]
     },
     "execution_count": 54,
     "metadata": {},
     "output_type": "execute_result"
    }
   ],
   "source": [
    "rmprocs(workers())"
   ]
  },
  {
   "cell_type": "markdown",
   "metadata": {},
   "source": [
    "Ok, let's get some resources :)"
   ]
  },
  {
   "cell_type": "code",
   "execution_count": null,
   "metadata": {},
   "outputs": [],
   "source": [
    "machines = [\"l93\", \"l94\", \"l95\"];\n",
    "\n",
    "procs_per_machine = :auto; # :auto for n = # cpus\n",
    "\n",
    "jobs = [(m,procs_per_machine) for m in machines]"
   ]
  },
  {
   "cell_type": "code",
   "execution_count": null,
   "metadata": {},
   "outputs": [],
   "source": [
    "addprocs(jobs; params...)"
   ]
  },
  {
   "cell_type": "code",
   "execution_count": null,
   "metadata": {},
   "outputs": [],
   "source": [
    "@everywhere println(gethostname())"
   ]
  },
  {
   "cell_type": "code",
   "execution_count": null,
   "metadata": {},
   "outputs": [],
   "source": [
    "@everywhere using LinearAlgebra\n",
    "\n",
    "@time x = pmap(svdvals, M);"
   ]
  },
  {
   "cell_type": "markdown",
   "metadata": {},
   "source": [
    "## Distributed arrays (`DArray`)"
   ]
  },
  {
   "cell_type": "markdown",
   "metadata": {},
   "source": [
    "Github: https://github.com/JuliaParallel/DistributedArrays.jl\n",
    "\n",
    "In a `DArray`, each process has local access to just a chunk of the data, and no two processes share the same chunk. Processes can be on different hosts.\n",
    "\n",
    "Distributed arrays are for example useful if\n",
    "\n",
    "* Expensive calculations should be performed in parallel on parts of the array on different hosts.\n",
    "* The data doesn't fit into the local machines memory (Loading big files in parallel)."
   ]
  },
  {
   "cell_type": "code",
   "execution_count": null,
   "metadata": {},
   "outputs": [],
   "source": [
    "@everywhere using DistributedArrays, LinearAlgebra"
   ]
  },
  {
   "cell_type": "code",
   "execution_count": null,
   "metadata": {},
   "outputs": [],
   "source": [
    "nworkers()"
   ]
  },
  {
   "cell_type": "code",
   "execution_count": null,
   "metadata": {},
   "outputs": [],
   "source": [
    "D = distribute(M)"
   ]
  },
  {
   "cell_type": "markdown",
   "metadata": {},
   "source": [
    "Which workers hold parts of D?"
   ]
  },
  {
   "cell_type": "code",
   "execution_count": null,
   "metadata": {},
   "outputs": [],
   "source": [
    "procs(D)"
   ]
  },
  {
   "cell_type": "markdown",
   "metadata": {},
   "source": [
    "Which parts do they hold?"
   ]
  },
  {
   "cell_type": "code",
   "execution_count": null,
   "metadata": {},
   "outputs": [],
   "source": [
    "localpart(D) # the master doesn't hold anything"
   ]
  },
  {
   "cell_type": "code",
   "execution_count": null,
   "metadata": {},
   "outputs": [],
   "source": [
    "# Which parts do they hold?\n",
    "for p in workers()\n",
    "    display(@fetchfrom p localpart(D))\n",
    "    display(@fetchfrom p DistributedArrays.localindices(D)) # DistributedArrays. necessary because of SharedArrays above\n",
    "end"
   ]
  },
  {
   "cell_type": "code",
   "execution_count": null,
   "metadata": {},
   "outputs": [],
   "source": [
    "@time Msquared = map(svdvals, M);"
   ]
  },
  {
   "cell_type": "code",
   "execution_count": null,
   "metadata": {},
   "outputs": [],
   "source": [
    "@time Dsquared = map(svdvals, D);"
   ]
  },
  {
   "cell_type": "code",
   "execution_count": null,
   "metadata": {},
   "outputs": [],
   "source": [
    "@time Psquared = pmap(svdvals, M);"
   ]
  },
  {
   "cell_type": "code",
   "execution_count": null,
   "metadata": {},
   "outputs": [],
   "source": [
    "Msquared ≈ Dsquared"
   ]
  },
  {
   "cell_type": "code",
   "execution_count": null,
   "metadata": {},
   "outputs": [],
   "source": [
    "Dsquared ≈ Psquared"
   ]
  },
  {
   "cell_type": "markdown",
   "metadata": {},
   "source": [
    "But remember, for small operations the data movement can (and will) exceed the benefit of parallelizing the computation!"
   ]
  },
  {
   "cell_type": "code",
   "execution_count": null,
   "metadata": {},
   "outputs": [],
   "source": [
    "@btime map(sum, M);\n",
    "@btime map(sum, D);"
   ]
  },
  {
   "cell_type": "markdown",
   "metadata": {},
   "source": [
    "A demonstration of distributed arrays: [Parallel loading and processing of large files](https://www.youtube.com/watch?v=euZkvgx0fG8&t=3925s)"
   ]
  },
  {
   "cell_type": "code",
   "execution_count": null,
   "metadata": {},
   "outputs": [],
   "source": [
    "# Stop worker processes!\n",
    "rmprocs(workers())"
   ]
  },
  {
   "cell_type": "markdown",
   "metadata": {},
   "source": [
    "# Exercise: Parallel Monte Carlo"
   ]
  },
  {
   "cell_type": "markdown",
   "metadata": {},
   "source": [
    "Calculate the value of $\\pi$ through parallel direct Monte Carlo.\n",
    "\n",
    "A unit circle is inscribed inside a unit square with side length 2 (from -1 to 1). The area of the circle is $\\pi$, the area of the square is 4, and the ratio is $\\pi/4$. This means that, if you throw $N$ darts randomly at the square, approximately $M=N\\pi/4$ of those darts will land inside the unit circle.\n",
    "\n",
    "Throw darts randomly at a unit square and count how many of them ($M$) landed inside of a unit circle. Approximate $\\pi \\approx 4M/N$. Visualization:"
   ]
  },
  {
   "cell_type": "code",
   "execution_count": 116,
   "metadata": {},
   "outputs": [
    {
     "data": {
      "image/svg+xml": [
       "<?xml version=\"1.0\" encoding=\"utf-8\"?>\n",
       "<svg xmlns=\"http://www.w3.org/2000/svg\" xmlns:xlink=\"http://www.w3.org/1999/xlink\" width=\"600\" height=\"400\" viewBox=\"0 0 2400 1600\">\n",
       "<defs>\n",
       "  <clipPath id=\"clip2500\">\n",
       "    <rect x=\"0\" y=\"0\" width=\"2400\" height=\"1600\"/>\n",
       "  </clipPath>\n",
       "</defs>\n",
       "<path clip-path=\"url(#clip2500)\" d=\"\n",
       "M0 1600 L2400 1600 L2400 0 L0 0  Z\n",
       "  \" fill=\"#ffffff\" fill-rule=\"evenodd\" fill-opacity=\"1\"/>\n",
       "<defs>\n",
       "  <clipPath id=\"clip2501\">\n",
       "    <rect x=\"480\" y=\"0\" width=\"1681\" height=\"1600\"/>\n",
       "  </clipPath>\n",
       "</defs>\n",
       "<path clip-path=\"url(#clip2500)\" d=\"\n",
       "M547.267 1487.47 L1987.5 1487.47 L1987.5 47.2441 L547.267 47.2441  Z\n",
       "  \" fill=\"#ffffff\" fill-rule=\"evenodd\" fill-opacity=\"1\"/>\n",
       "<defs>\n",
       "  <clipPath id=\"clip2502\">\n",
       "    <rect x=\"547\" y=\"47\" width=\"1441\" height=\"1441\"/>\n",
       "  </clipPath>\n",
       "</defs>\n",
       "<polyline clip-path=\"url(#clip2500)\" style=\"stroke:#000000; stroke-width:4; stroke-opacity:1; fill:none\" points=\"\n",
       "  547.267,1487.47 1987.5,1487.47 \n",
       "  \"/>\n",
       "<polyline clip-path=\"url(#clip2500)\" style=\"stroke:#000000; stroke-width:4; stroke-opacity:1; fill:none\" points=\"\n",
       "  547.267,1487.47 547.267,47.2441 \n",
       "  \"/>\n",
       "<polyline clip-path=\"url(#clip2500)\" style=\"stroke:#000000; stroke-width:4; stroke-opacity:1; fill:none\" points=\"\n",
       "  547.267,1487.47 547.267,1470.19 \n",
       "  \"/>\n",
       "<polyline clip-path=\"url(#clip2500)\" style=\"stroke:#000000; stroke-width:4; stroke-opacity:1; fill:none\" points=\"\n",
       "  907.324,1487.47 907.324,1470.19 \n",
       "  \"/>\n",
       "<polyline clip-path=\"url(#clip2500)\" style=\"stroke:#000000; stroke-width:4; stroke-opacity:1; fill:none\" points=\"\n",
       "  1267.38,1487.47 1267.38,1470.19 \n",
       "  \"/>\n",
       "<polyline clip-path=\"url(#clip2500)\" style=\"stroke:#000000; stroke-width:4; stroke-opacity:1; fill:none\" points=\"\n",
       "  1627.44,1487.47 1627.44,1470.19 \n",
       "  \"/>\n",
       "<polyline clip-path=\"url(#clip2500)\" style=\"stroke:#000000; stroke-width:4; stroke-opacity:1; fill:none\" points=\"\n",
       "  1987.5,1487.47 1987.5,1470.19 \n",
       "  \"/>\n",
       "<polyline clip-path=\"url(#clip2500)\" style=\"stroke:#000000; stroke-width:4; stroke-opacity:1; fill:none\" points=\"\n",
       "  547.267,1487.47 564.549,1487.47 \n",
       "  \"/>\n",
       "<polyline clip-path=\"url(#clip2500)\" style=\"stroke:#000000; stroke-width:4; stroke-opacity:1; fill:none\" points=\"\n",
       "  547.267,1127.42 564.549,1127.42 \n",
       "  \"/>\n",
       "<polyline clip-path=\"url(#clip2500)\" style=\"stroke:#000000; stroke-width:4; stroke-opacity:1; fill:none\" points=\"\n",
       "  547.267,767.359 564.549,767.359 \n",
       "  \"/>\n",
       "<polyline clip-path=\"url(#clip2500)\" style=\"stroke:#000000; stroke-width:4; stroke-opacity:1; fill:none\" points=\"\n",
       "  547.267,407.302 564.549,407.302 \n",
       "  \"/>\n",
       "<polyline clip-path=\"url(#clip2500)\" style=\"stroke:#000000; stroke-width:4; stroke-opacity:1; fill:none\" points=\"\n",
       "  547.267,47.2441 564.549,47.2441 \n",
       "  \"/>\n",
       "<g clip-path=\"url(#clip2500)\">\n",
       "<text style=\"fill:#000000; fill-opacity:1; font-family:Arial,Helvetica Neue,Helvetica,sans-serif; font-size:48px; text-anchor:middle;\" transform=\"rotate(0, 547.267, 1541.47)\" x=\"547.267\" y=\"1541.47\">-1.0</text>\n",
       "</g>\n",
       "<g clip-path=\"url(#clip2500)\">\n",
       "<text style=\"fill:#000000; fill-opacity:1; font-family:Arial,Helvetica Neue,Helvetica,sans-serif; font-size:48px; text-anchor:middle;\" transform=\"rotate(0, 907.324, 1541.47)\" x=\"907.324\" y=\"1541.47\">-0.5</text>\n",
       "</g>\n",
       "<g clip-path=\"url(#clip2500)\">\n",
       "<text style=\"fill:#000000; fill-opacity:1; font-family:Arial,Helvetica Neue,Helvetica,sans-serif; font-size:48px; text-anchor:middle;\" transform=\"rotate(0, 1267.38, 1541.47)\" x=\"1267.38\" y=\"1541.47\">0.0</text>\n",
       "</g>\n",
       "<g clip-path=\"url(#clip2500)\">\n",
       "<text style=\"fill:#000000; fill-opacity:1; font-family:Arial,Helvetica Neue,Helvetica,sans-serif; font-size:48px; text-anchor:middle;\" transform=\"rotate(0, 1627.44, 1541.47)\" x=\"1627.44\" y=\"1541.47\">0.5</text>\n",
       "</g>\n",
       "<g clip-path=\"url(#clip2500)\">\n",
       "<text style=\"fill:#000000; fill-opacity:1; font-family:Arial,Helvetica Neue,Helvetica,sans-serif; font-size:48px; text-anchor:middle;\" transform=\"rotate(0, 1987.5, 1541.47)\" x=\"1987.5\" y=\"1541.47\">1.0</text>\n",
       "</g>\n",
       "<g clip-path=\"url(#clip2500)\">\n",
       "<text style=\"fill:#000000; fill-opacity:1; font-family:Arial,Helvetica Neue,Helvetica,sans-serif; font-size:48px; text-anchor:end;\" transform=\"rotate(0, 523.267, 1504.97)\" x=\"523.267\" y=\"1504.97\">-1.0</text>\n",
       "</g>\n",
       "<g clip-path=\"url(#clip2500)\">\n",
       "<text style=\"fill:#000000; fill-opacity:1; font-family:Arial,Helvetica Neue,Helvetica,sans-serif; font-size:48px; text-anchor:end;\" transform=\"rotate(0, 523.267, 1144.92)\" x=\"523.267\" y=\"1144.92\">-0.5</text>\n",
       "</g>\n",
       "<g clip-path=\"url(#clip2500)\">\n",
       "<text style=\"fill:#000000; fill-opacity:1; font-family:Arial,Helvetica Neue,Helvetica,sans-serif; font-size:48px; text-anchor:end;\" transform=\"rotate(0, 523.267, 784.859)\" x=\"523.267\" y=\"784.859\">0.0</text>\n",
       "</g>\n",
       "<g clip-path=\"url(#clip2500)\">\n",
       "<text style=\"fill:#000000; fill-opacity:1; font-family:Arial,Helvetica Neue,Helvetica,sans-serif; font-size:48px; text-anchor:end;\" transform=\"rotate(0, 523.267, 424.802)\" x=\"523.267\" y=\"424.802\">0.5</text>\n",
       "</g>\n",
       "<g clip-path=\"url(#clip2500)\">\n",
       "<text style=\"fill:#000000; fill-opacity:1; font-family:Arial,Helvetica Neue,Helvetica,sans-serif; font-size:48px; text-anchor:end;\" transform=\"rotate(0, 523.267, 64.7441)\" x=\"523.267\" y=\"64.7441\">1.0</text>\n",
       "</g>\n",
       "<polyline clip-path=\"url(#clip2502)\" style=\"stroke:#000000; stroke-width:4; stroke-opacity:1; fill:none\" points=\"\n",
       "  547.267,47.2441 1987.5,47.2441 \n",
       "  \"/>\n",
       "<polyline clip-path=\"url(#clip2502)\" style=\"stroke:#000000; stroke-width:4; stroke-opacity:1; fill:none\" points=\"\n",
       "  1987.5,1487.47 1987.5,47.2441 \n",
       "  \"/>\n",
       "<polyline clip-path=\"url(#clip2502)\" style=\"stroke:#009af9; stroke-width:12; stroke-opacity:1; fill:none\" points=\"\n",
       "  1987.5,767.359 1986.05,721.687 1981.7,676.198 1974.48,631.077 1964.42,586.504 1951.54,542.659 1935.91,499.72 1917.59,457.858 1896.65,417.242 1873.18,378.036 \n",
       "  1847.27,340.397 1819.02,304.478 1788.55,270.423 1755.99,238.369 1721.45,208.444 1685.09,180.771 1647.05,155.459 1607.47,132.611 1566.53,112.319 1524.38,94.6652 \n",
       "  1481.2,79.7197 1437.16,67.543 1392.43,58.1843 1347.2,51.6811 1301.65,48.0597 1255.96,47.3347 1210.31,49.509 1164.9,54.5738 1119.9,62.5088 1075.49,73.2819 \n",
       "  1031.86,86.8498 989.169,103.158 947.603,122.141 907.324,143.721 868.496,167.813 831.273,194.319 795.807,223.133 762.239,254.137 730.706,287.209 701.333,322.214 \n",
       "  674.24,359.011 649.535,397.452 627.318,437.383 607.678,478.643 590.695,521.065 576.436,564.479 564.96,608.71 556.312,653.58 550.527,698.908 547.629,744.512 \n",
       "  547.629,790.207 550.527,835.811 556.312,881.139 564.96,926.008 576.436,970.239 590.695,1013.65 607.678,1056.08 627.318,1097.34 649.535,1137.27 674.24,1175.71 \n",
       "  701.333,1212.51 730.706,1247.51 762.239,1280.58 795.807,1311.59 831.273,1340.4 868.496,1366.91 907.324,1391 947.603,1412.58 989.169,1431.56 1031.86,1447.87 \n",
       "  1075.49,1461.44 1119.9,1472.21 1164.9,1480.14 1210.31,1485.21 1255.96,1487.38 1301.65,1486.66 1347.2,1483.04 1392.43,1476.53 1437.16,1467.18 1481.2,1455 \n",
       "  1524.38,1440.05 1566.53,1422.4 1607.47,1402.11 1647.05,1379.26 1685.09,1353.95 1721.45,1326.27 1755.99,1296.35 1788.55,1264.3 1819.02,1230.24 1847.27,1194.32 \n",
       "  1873.18,1156.68 1896.65,1117.48 1917.59,1076.86 1935.91,1035 1951.54,992.059 1964.42,948.215 1974.48,903.642 1981.7,858.521 1986.05,813.032 1987.5,767.359 \n",
       "  \n",
       "  \"/>\n",
       "<circle clip-path=\"url(#clip2502)\" style=\"fill:#000000; stroke:none; fill-opacity:1\" cx=\"1699.52\" cy=\"423.761\" r=\"12\"/>\n",
       "<circle clip-path=\"url(#clip2502)\" style=\"fill:#000000; stroke:none; fill-opacity:1\" cx=\"1699.52\" cy=\"423.761\" r=\"9\"/>\n",
       "<circle clip-path=\"url(#clip2502)\" style=\"fill:#000000; stroke:none; fill-opacity:1\" cx=\"1157.92\" cy=\"324.411\" r=\"12\"/>\n",
       "<circle clip-path=\"url(#clip2502)\" style=\"fill:#000000; stroke:none; fill-opacity:1\" cx=\"1157.92\" cy=\"324.411\" r=\"9\"/>\n",
       "<circle clip-path=\"url(#clip2502)\" style=\"fill:#000000; stroke:none; fill-opacity:1\" cx=\"1400.72\" cy=\"1121.94\" r=\"12\"/>\n",
       "<circle clip-path=\"url(#clip2502)\" style=\"fill:#000000; stroke:none; fill-opacity:1\" cx=\"1400.72\" cy=\"1121.94\" r=\"9\"/>\n",
       "<circle clip-path=\"url(#clip2502)\" style=\"fill:#000000; stroke:none; fill-opacity:1\" cx=\"1065.16\" cy=\"718.219\" r=\"12\"/>\n",
       "<circle clip-path=\"url(#clip2502)\" style=\"fill:#000000; stroke:none; fill-opacity:1\" cx=\"1065.16\" cy=\"718.219\" r=\"9\"/>\n",
       "<circle clip-path=\"url(#clip2502)\" style=\"fill:#000000; stroke:none; fill-opacity:1\" cx=\"1342\" cy=\"409.546\" r=\"12\"/>\n",
       "<circle clip-path=\"url(#clip2502)\" style=\"fill:#000000; stroke:none; fill-opacity:1\" cx=\"1342\" cy=\"409.546\" r=\"9\"/>\n",
       "<circle clip-path=\"url(#clip2502)\" style=\"fill:#000000; stroke:none; fill-opacity:1\" cx=\"1517.14\" cy=\"1146.68\" r=\"12\"/>\n",
       "<circle clip-path=\"url(#clip2502)\" style=\"fill:#000000; stroke:none; fill-opacity:1\" cx=\"1517.14\" cy=\"1146.68\" r=\"9\"/>\n",
       "<circle clip-path=\"url(#clip2502)\" style=\"fill:#000000; stroke:none; fill-opacity:1\" cx=\"733.589\" cy=\"766.018\" r=\"12\"/>\n",
       "<circle clip-path=\"url(#clip2502)\" style=\"fill:#000000; stroke:none; fill-opacity:1\" cx=\"733.589\" cy=\"766.018\" r=\"9\"/>\n",
       "<circle clip-path=\"url(#clip2502)\" style=\"fill:#000000; stroke:none; fill-opacity:1\" cx=\"662.929\" cy=\"425.112\" r=\"12\"/>\n",
       "<circle clip-path=\"url(#clip2502)\" style=\"fill:#000000; stroke:none; fill-opacity:1\" cx=\"662.929\" cy=\"425.112\" r=\"9\"/>\n",
       "<circle clip-path=\"url(#clip2502)\" style=\"fill:#000000; stroke:none; fill-opacity:1\" cx=\"910.466\" cy=\"573.972\" r=\"12\"/>\n",
       "<circle clip-path=\"url(#clip2502)\" style=\"fill:#000000; stroke:none; fill-opacity:1\" cx=\"910.466\" cy=\"573.972\" r=\"9\"/>\n",
       "<circle clip-path=\"url(#clip2502)\" style=\"fill:#000000; stroke:none; fill-opacity:1\" cx=\"987.575\" cy=\"799.558\" r=\"12\"/>\n",
       "<circle clip-path=\"url(#clip2502)\" style=\"fill:#000000; stroke:none; fill-opacity:1\" cx=\"987.575\" cy=\"799.558\" r=\"9\"/>\n",
       "<circle clip-path=\"url(#clip2502)\" style=\"fill:#000000; stroke:none; fill-opacity:1\" cx=\"1469.95\" cy=\"811.24\" r=\"12\"/>\n",
       "<circle clip-path=\"url(#clip2502)\" style=\"fill:#000000; stroke:none; fill-opacity:1\" cx=\"1469.95\" cy=\"811.24\" r=\"9\"/>\n",
       "<circle clip-path=\"url(#clip2502)\" style=\"fill:#000000; stroke:none; fill-opacity:1\" cx=\"1446.33\" cy=\"935.427\" r=\"12\"/>\n",
       "<circle clip-path=\"url(#clip2502)\" style=\"fill:#000000; stroke:none; fill-opacity:1\" cx=\"1446.33\" cy=\"935.427\" r=\"9\"/>\n",
       "<circle clip-path=\"url(#clip2502)\" style=\"fill:#000000; stroke:none; fill-opacity:1\" cx=\"1587.84\" cy=\"486.79\" r=\"12\"/>\n",
       "<circle clip-path=\"url(#clip2502)\" style=\"fill:#000000; stroke:none; fill-opacity:1\" cx=\"1587.84\" cy=\"486.79\" r=\"9\"/>\n",
       "<circle clip-path=\"url(#clip2502)\" style=\"fill:#000000; stroke:none; fill-opacity:1\" cx=\"1084.66\" cy=\"442.322\" r=\"12\"/>\n",
       "<circle clip-path=\"url(#clip2502)\" style=\"fill:#000000; stroke:none; fill-opacity:1\" cx=\"1084.66\" cy=\"442.322\" r=\"9\"/>\n",
       "<circle clip-path=\"url(#clip2502)\" style=\"fill:#000000; stroke:none; fill-opacity:1\" cx=\"1769.34\" cy=\"1255.88\" r=\"12\"/>\n",
       "<circle clip-path=\"url(#clip2502)\" style=\"fill:#000000; stroke:none; fill-opacity:1\" cx=\"1769.34\" cy=\"1255.88\" r=\"9\"/>\n",
       "<circle clip-path=\"url(#clip2502)\" style=\"fill:#000000; stroke:none; fill-opacity:1\" cx=\"1096.7\" cy=\"434.813\" r=\"12\"/>\n",
       "<circle clip-path=\"url(#clip2502)\" style=\"fill:#000000; stroke:none; fill-opacity:1\" cx=\"1096.7\" cy=\"434.813\" r=\"9\"/>\n",
       "<circle clip-path=\"url(#clip2502)\" style=\"fill:#000000; stroke:none; fill-opacity:1\" cx=\"1561.74\" cy=\"1149.47\" r=\"12\"/>\n",
       "<circle clip-path=\"url(#clip2502)\" style=\"fill:#000000; stroke:none; fill-opacity:1\" cx=\"1561.74\" cy=\"1149.47\" r=\"9\"/>\n",
       "<circle clip-path=\"url(#clip2502)\" style=\"fill:#000000; stroke:none; fill-opacity:1\" cx=\"1724.23\" cy=\"178.856\" r=\"12\"/>\n",
       "<circle clip-path=\"url(#clip2502)\" style=\"fill:#000000; stroke:none; fill-opacity:1\" cx=\"1724.23\" cy=\"178.856\" r=\"9\"/>\n",
       "<circle clip-path=\"url(#clip2502)\" style=\"fill:#000000; stroke:none; fill-opacity:1\" cx=\"1134.65\" cy=\"641.811\" r=\"12\"/>\n",
       "<circle clip-path=\"url(#clip2502)\" style=\"fill:#000000; stroke:none; fill-opacity:1\" cx=\"1134.65\" cy=\"641.811\" r=\"9\"/>\n",
       "<circle clip-path=\"url(#clip2502)\" style=\"fill:#000000; stroke:none; fill-opacity:1\" cx=\"1301.34\" cy=\"272.507\" r=\"12\"/>\n",
       "<circle clip-path=\"url(#clip2502)\" style=\"fill:#000000; stroke:none; fill-opacity:1\" cx=\"1301.34\" cy=\"272.507\" r=\"9\"/>\n",
       "<circle clip-path=\"url(#clip2502)\" style=\"fill:#000000; stroke:none; fill-opacity:1\" cx=\"1604.05\" cy=\"1268.19\" r=\"12\"/>\n",
       "<circle clip-path=\"url(#clip2502)\" style=\"fill:#000000; stroke:none; fill-opacity:1\" cx=\"1604.05\" cy=\"1268.19\" r=\"9\"/>\n",
       "<circle clip-path=\"url(#clip2502)\" style=\"fill:#000000; stroke:none; fill-opacity:1\" cx=\"673.973\" cy=\"886.064\" r=\"12\"/>\n",
       "<circle clip-path=\"url(#clip2502)\" style=\"fill:#000000; stroke:none; fill-opacity:1\" cx=\"673.973\" cy=\"886.064\" r=\"9\"/>\n",
       "<circle clip-path=\"url(#clip2502)\" style=\"fill:#000000; stroke:none; fill-opacity:1\" cx=\"1008.49\" cy=\"1362.42\" r=\"12\"/>\n",
       "<circle clip-path=\"url(#clip2502)\" style=\"fill:#000000; stroke:none; fill-opacity:1\" cx=\"1008.49\" cy=\"1362.42\" r=\"9\"/>\n",
       "<circle clip-path=\"url(#clip2502)\" style=\"fill:#000000; stroke:none; fill-opacity:1\" cx=\"1987.24\" cy=\"1054.07\" r=\"12\"/>\n",
       "<circle clip-path=\"url(#clip2502)\" style=\"fill:#000000; stroke:none; fill-opacity:1\" cx=\"1987.24\" cy=\"1054.07\" r=\"9\"/>\n",
       "<circle clip-path=\"url(#clip2502)\" style=\"fill:#000000; stroke:none; fill-opacity:1\" cx=\"902.366\" cy=\"517.746\" r=\"12\"/>\n",
       "<circle clip-path=\"url(#clip2502)\" style=\"fill:#000000; stroke:none; fill-opacity:1\" cx=\"902.366\" cy=\"517.746\" r=\"9\"/>\n",
       "<circle clip-path=\"url(#clip2502)\" style=\"fill:#000000; stroke:none; fill-opacity:1\" cx=\"941.274\" cy=\"1282.19\" r=\"12\"/>\n",
       "<circle clip-path=\"url(#clip2502)\" style=\"fill:#000000; stroke:none; fill-opacity:1\" cx=\"941.274\" cy=\"1282.19\" r=\"9\"/>\n",
       "<circle clip-path=\"url(#clip2502)\" style=\"fill:#000000; stroke:none; fill-opacity:1\" cx=\"819.105\" cy=\"1400.25\" r=\"12\"/>\n",
       "<circle clip-path=\"url(#clip2502)\" style=\"fill:#000000; stroke:none; fill-opacity:1\" cx=\"819.105\" cy=\"1400.25\" r=\"9\"/>\n",
       "<circle clip-path=\"url(#clip2502)\" style=\"fill:#000000; stroke:none; fill-opacity:1\" cx=\"1780.25\" cy=\"1277.51\" r=\"12\"/>\n",
       "<circle clip-path=\"url(#clip2502)\" style=\"fill:#000000; stroke:none; fill-opacity:1\" cx=\"1780.25\" cy=\"1277.51\" r=\"9\"/>\n",
       "<circle clip-path=\"url(#clip2502)\" style=\"fill:#000000; stroke:none; fill-opacity:1\" cx=\"1477.07\" cy=\"160.464\" r=\"12\"/>\n",
       "<circle clip-path=\"url(#clip2502)\" style=\"fill:#000000; stroke:none; fill-opacity:1\" cx=\"1477.07\" cy=\"160.464\" r=\"9\"/>\n",
       "<circle clip-path=\"url(#clip2502)\" style=\"fill:#000000; stroke:none; fill-opacity:1\" cx=\"1503.54\" cy=\"506.654\" r=\"12\"/>\n",
       "<circle clip-path=\"url(#clip2502)\" style=\"fill:#000000; stroke:none; fill-opacity:1\" cx=\"1503.54\" cy=\"506.654\" r=\"9\"/>\n",
       "<circle clip-path=\"url(#clip2502)\" style=\"fill:#000000; stroke:none; fill-opacity:1\" cx=\"1877.51\" cy=\"1183.79\" r=\"12\"/>\n",
       "<circle clip-path=\"url(#clip2502)\" style=\"fill:#000000; stroke:none; fill-opacity:1\" cx=\"1877.51\" cy=\"1183.79\" r=\"9\"/>\n",
       "<circle clip-path=\"url(#clip2502)\" style=\"fill:#000000; stroke:none; fill-opacity:1\" cx=\"1162.37\" cy=\"1398.68\" r=\"12\"/>\n",
       "<circle clip-path=\"url(#clip2502)\" style=\"fill:#000000; stroke:none; fill-opacity:1\" cx=\"1162.37\" cy=\"1398.68\" r=\"9\"/>\n",
       "<circle clip-path=\"url(#clip2502)\" style=\"fill:#000000; stroke:none; fill-opacity:1\" cx=\"743.625\" cy=\"726.295\" r=\"12\"/>\n",
       "<circle clip-path=\"url(#clip2502)\" style=\"fill:#000000; stroke:none; fill-opacity:1\" cx=\"743.625\" cy=\"726.295\" r=\"9\"/>\n",
       "<circle clip-path=\"url(#clip2502)\" style=\"fill:#000000; stroke:none; fill-opacity:1\" cx=\"1522.42\" cy=\"758.121\" r=\"12\"/>\n",
       "<circle clip-path=\"url(#clip2502)\" style=\"fill:#000000; stroke:none; fill-opacity:1\" cx=\"1522.42\" cy=\"758.121\" r=\"9\"/>\n",
       "<circle clip-path=\"url(#clip2502)\" style=\"fill:#000000; stroke:none; fill-opacity:1\" cx=\"842.715\" cy=\"1092.49\" r=\"12\"/>\n",
       "<circle clip-path=\"url(#clip2502)\" style=\"fill:#000000; stroke:none; fill-opacity:1\" cx=\"842.715\" cy=\"1092.49\" r=\"9\"/>\n",
       "<circle clip-path=\"url(#clip2502)\" style=\"fill:#000000; stroke:none; fill-opacity:1\" cx=\"1346.98\" cy=\"904.878\" r=\"12\"/>\n",
       "<circle clip-path=\"url(#clip2502)\" style=\"fill:#000000; stroke:none; fill-opacity:1\" cx=\"1346.98\" cy=\"904.878\" r=\"9\"/>\n",
       "<circle clip-path=\"url(#clip2502)\" style=\"fill:#000000; stroke:none; fill-opacity:1\" cx=\"1175.08\" cy=\"959.224\" r=\"12\"/>\n",
       "<circle clip-path=\"url(#clip2502)\" style=\"fill:#000000; stroke:none; fill-opacity:1\" cx=\"1175.08\" cy=\"959.224\" r=\"9\"/>\n",
       "<circle clip-path=\"url(#clip2502)\" style=\"fill:#000000; stroke:none; fill-opacity:1\" cx=\"1049.56\" cy=\"1235.17\" r=\"12\"/>\n",
       "<circle clip-path=\"url(#clip2502)\" style=\"fill:#000000; stroke:none; fill-opacity:1\" cx=\"1049.56\" cy=\"1235.17\" r=\"9\"/>\n",
       "<circle clip-path=\"url(#clip2502)\" style=\"fill:#000000; stroke:none; fill-opacity:1\" cx=\"1214.02\" cy=\"830.638\" r=\"12\"/>\n",
       "<circle clip-path=\"url(#clip2502)\" style=\"fill:#000000; stroke:none; fill-opacity:1\" cx=\"1214.02\" cy=\"830.638\" r=\"9\"/>\n",
       "<circle clip-path=\"url(#clip2502)\" style=\"fill:#000000; stroke:none; fill-opacity:1\" cx=\"1941.17\" cy=\"166.271\" r=\"12\"/>\n",
       "<circle clip-path=\"url(#clip2502)\" style=\"fill:#000000; stroke:none; fill-opacity:1\" cx=\"1941.17\" cy=\"166.271\" r=\"9\"/>\n",
       "<circle clip-path=\"url(#clip2502)\" style=\"fill:#000000; stroke:none; fill-opacity:1\" cx=\"1786.57\" cy=\"1149.86\" r=\"12\"/>\n",
       "<circle clip-path=\"url(#clip2502)\" style=\"fill:#000000; stroke:none; fill-opacity:1\" cx=\"1786.57\" cy=\"1149.86\" r=\"9\"/>\n",
       "<circle clip-path=\"url(#clip2502)\" style=\"fill:#000000; stroke:none; fill-opacity:1\" cx=\"1536.01\" cy=\"185.849\" r=\"12\"/>\n",
       "<circle clip-path=\"url(#clip2502)\" style=\"fill:#000000; stroke:none; fill-opacity:1\" cx=\"1536.01\" cy=\"185.849\" r=\"9\"/>\n",
       "<circle clip-path=\"url(#clip2502)\" style=\"fill:#000000; stroke:none; fill-opacity:1\" cx=\"655.297\" cy=\"875.127\" r=\"12\"/>\n",
       "<circle clip-path=\"url(#clip2502)\" style=\"fill:#000000; stroke:none; fill-opacity:1\" cx=\"655.297\" cy=\"875.127\" r=\"9\"/>\n",
       "<circle clip-path=\"url(#clip2502)\" style=\"fill:#000000; stroke:none; fill-opacity:1\" cx=\"1612.55\" cy=\"1046.51\" r=\"12\"/>\n",
       "<circle clip-path=\"url(#clip2502)\" style=\"fill:#000000; stroke:none; fill-opacity:1\" cx=\"1612.55\" cy=\"1046.51\" r=\"9\"/>\n",
       "<circle clip-path=\"url(#clip2502)\" style=\"fill:#000000; stroke:none; fill-opacity:1\" cx=\"859.592\" cy=\"497.087\" r=\"12\"/>\n",
       "<circle clip-path=\"url(#clip2502)\" style=\"fill:#000000; stroke:none; fill-opacity:1\" cx=\"859.592\" cy=\"497.087\" r=\"9\"/>\n",
       "<circle clip-path=\"url(#clip2502)\" style=\"fill:#000000; stroke:none; fill-opacity:1\" cx=\"1231.85\" cy=\"1198.69\" r=\"12\"/>\n",
       "<circle clip-path=\"url(#clip2502)\" style=\"fill:#000000; stroke:none; fill-opacity:1\" cx=\"1231.85\" cy=\"1198.69\" r=\"9\"/>\n",
       "<circle clip-path=\"url(#clip2502)\" style=\"fill:#000000; stroke:none; fill-opacity:1\" cx=\"1699.21\" cy=\"446.663\" r=\"12\"/>\n",
       "<circle clip-path=\"url(#clip2502)\" style=\"fill:#000000; stroke:none; fill-opacity:1\" cx=\"1699.21\" cy=\"446.663\" r=\"9\"/>\n",
       "<circle clip-path=\"url(#clip2502)\" style=\"fill:#000000; stroke:none; fill-opacity:1\" cx=\"1085.91\" cy=\"749.079\" r=\"12\"/>\n",
       "<circle clip-path=\"url(#clip2502)\" style=\"fill:#000000; stroke:none; fill-opacity:1\" cx=\"1085.91\" cy=\"749.079\" r=\"9\"/>\n",
       "<circle clip-path=\"url(#clip2502)\" style=\"fill:#000000; stroke:none; fill-opacity:1\" cx=\"819.085\" cy=\"1114.52\" r=\"12\"/>\n",
       "<circle clip-path=\"url(#clip2502)\" style=\"fill:#000000; stroke:none; fill-opacity:1\" cx=\"819.085\" cy=\"1114.52\" r=\"9\"/>\n",
       "<circle clip-path=\"url(#clip2502)\" style=\"fill:#000000; stroke:none; fill-opacity:1\" cx=\"1350.82\" cy=\"149.577\" r=\"12\"/>\n",
       "<circle clip-path=\"url(#clip2502)\" style=\"fill:#000000; stroke:none; fill-opacity:1\" cx=\"1350.82\" cy=\"149.577\" r=\"9\"/>\n",
       "<circle clip-path=\"url(#clip2502)\" style=\"fill:#000000; stroke:none; fill-opacity:1\" cx=\"1652.23\" cy=\"1143.77\" r=\"12\"/>\n",
       "<circle clip-path=\"url(#clip2502)\" style=\"fill:#000000; stroke:none; fill-opacity:1\" cx=\"1652.23\" cy=\"1143.77\" r=\"9\"/>\n",
       "<circle clip-path=\"url(#clip2502)\" style=\"fill:#000000; stroke:none; fill-opacity:1\" cx=\"1389.35\" cy=\"1305.19\" r=\"12\"/>\n",
       "<circle clip-path=\"url(#clip2502)\" style=\"fill:#000000; stroke:none; fill-opacity:1\" cx=\"1389.35\" cy=\"1305.19\" r=\"9\"/>\n",
       "<circle clip-path=\"url(#clip2502)\" style=\"fill:#000000; stroke:none; fill-opacity:1\" cx=\"850.908\" cy=\"1367.28\" r=\"12\"/>\n",
       "<circle clip-path=\"url(#clip2502)\" style=\"fill:#000000; stroke:none; fill-opacity:1\" cx=\"850.908\" cy=\"1367.28\" r=\"9\"/>\n",
       "<circle clip-path=\"url(#clip2502)\" style=\"fill:#000000; stroke:none; fill-opacity:1\" cx=\"1206.76\" cy=\"1240.01\" r=\"12\"/>\n",
       "<circle clip-path=\"url(#clip2502)\" style=\"fill:#000000; stroke:none; fill-opacity:1\" cx=\"1206.76\" cy=\"1240.01\" r=\"9\"/>\n",
       "<circle clip-path=\"url(#clip2502)\" style=\"fill:#000000; stroke:none; fill-opacity:1\" cx=\"1705.27\" cy=\"929.41\" r=\"12\"/>\n",
       "<circle clip-path=\"url(#clip2502)\" style=\"fill:#000000; stroke:none; fill-opacity:1\" cx=\"1705.27\" cy=\"929.41\" r=\"9\"/>\n",
       "<circle clip-path=\"url(#clip2502)\" style=\"fill:#000000; stroke:none; fill-opacity:1\" cx=\"1347.15\" cy=\"351.068\" r=\"12\"/>\n",
       "<circle clip-path=\"url(#clip2502)\" style=\"fill:#000000; stroke:none; fill-opacity:1\" cx=\"1347.15\" cy=\"351.068\" r=\"9\"/>\n",
       "<circle clip-path=\"url(#clip2502)\" style=\"fill:#000000; stroke:none; fill-opacity:1\" cx=\"1375.21\" cy=\"784.189\" r=\"12\"/>\n",
       "<circle clip-path=\"url(#clip2502)\" style=\"fill:#000000; stroke:none; fill-opacity:1\" cx=\"1375.21\" cy=\"784.189\" r=\"9\"/>\n",
       "<circle clip-path=\"url(#clip2502)\" style=\"fill:#000000; stroke:none; fill-opacity:1\" cx=\"580.107\" cy=\"320.136\" r=\"12\"/>\n",
       "<circle clip-path=\"url(#clip2502)\" style=\"fill:#000000; stroke:none; fill-opacity:1\" cx=\"580.107\" cy=\"320.136\" r=\"9\"/>\n",
       "<circle clip-path=\"url(#clip2502)\" style=\"fill:#000000; stroke:none; fill-opacity:1\" cx=\"947.787\" cy=\"233.944\" r=\"12\"/>\n",
       "<circle clip-path=\"url(#clip2502)\" style=\"fill:#000000; stroke:none; fill-opacity:1\" cx=\"947.787\" cy=\"233.944\" r=\"9\"/>\n",
       "<circle clip-path=\"url(#clip2502)\" style=\"fill:#000000; stroke:none; fill-opacity:1\" cx=\"1890.65\" cy=\"188.467\" r=\"12\"/>\n",
       "<circle clip-path=\"url(#clip2502)\" style=\"fill:#000000; stroke:none; fill-opacity:1\" cx=\"1890.65\" cy=\"188.467\" r=\"9\"/>\n",
       "<circle clip-path=\"url(#clip2502)\" style=\"fill:#000000; stroke:none; fill-opacity:1\" cx=\"1200.05\" cy=\"534.774\" r=\"12\"/>\n",
       "<circle clip-path=\"url(#clip2502)\" style=\"fill:#000000; stroke:none; fill-opacity:1\" cx=\"1200.05\" cy=\"534.774\" r=\"9\"/>\n",
       "<circle clip-path=\"url(#clip2502)\" style=\"fill:#000000; stroke:none; fill-opacity:1\" cx=\"1853.75\" cy=\"75.5297\" r=\"12\"/>\n",
       "<circle clip-path=\"url(#clip2502)\" style=\"fill:#000000; stroke:none; fill-opacity:1\" cx=\"1853.75\" cy=\"75.5297\" r=\"9\"/>\n",
       "<circle clip-path=\"url(#clip2502)\" style=\"fill:#000000; stroke:none; fill-opacity:1\" cx=\"1348.43\" cy=\"1345.33\" r=\"12\"/>\n",
       "<circle clip-path=\"url(#clip2502)\" style=\"fill:#000000; stroke:none; fill-opacity:1\" cx=\"1348.43\" cy=\"1345.33\" r=\"9\"/>\n",
       "<circle clip-path=\"url(#clip2502)\" style=\"fill:#000000; stroke:none; fill-opacity:1\" cx=\"1013.62\" cy=\"531.912\" r=\"12\"/>\n",
       "<circle clip-path=\"url(#clip2502)\" style=\"fill:#000000; stroke:none; fill-opacity:1\" cx=\"1013.62\" cy=\"531.912\" r=\"9\"/>\n",
       "<circle clip-path=\"url(#clip2502)\" style=\"fill:#000000; stroke:none; fill-opacity:1\" cx=\"564.388\" cy=\"400.242\" r=\"12\"/>\n",
       "<circle clip-path=\"url(#clip2502)\" style=\"fill:#000000; stroke:none; fill-opacity:1\" cx=\"564.388\" cy=\"400.242\" r=\"9\"/>\n",
       "<circle clip-path=\"url(#clip2502)\" style=\"fill:#000000; stroke:none; fill-opacity:1\" cx=\"1607.66\" cy=\"806.69\" r=\"12\"/>\n",
       "<circle clip-path=\"url(#clip2502)\" style=\"fill:#000000; stroke:none; fill-opacity:1\" cx=\"1607.66\" cy=\"806.69\" r=\"9\"/>\n",
       "<circle clip-path=\"url(#clip2502)\" style=\"fill:#000000; stroke:none; fill-opacity:1\" cx=\"1298.85\" cy=\"477.956\" r=\"12\"/>\n",
       "<circle clip-path=\"url(#clip2502)\" style=\"fill:#000000; stroke:none; fill-opacity:1\" cx=\"1298.85\" cy=\"477.956\" r=\"9\"/>\n",
       "<circle clip-path=\"url(#clip2502)\" style=\"fill:#000000; stroke:none; fill-opacity:1\" cx=\"1500.85\" cy=\"612.135\" r=\"12\"/>\n",
       "<circle clip-path=\"url(#clip2502)\" style=\"fill:#000000; stroke:none; fill-opacity:1\" cx=\"1500.85\" cy=\"612.135\" r=\"9\"/>\n",
       "<circle clip-path=\"url(#clip2502)\" style=\"fill:#000000; stroke:none; fill-opacity:1\" cx=\"1081.82\" cy=\"335.415\" r=\"12\"/>\n",
       "<circle clip-path=\"url(#clip2502)\" style=\"fill:#000000; stroke:none; fill-opacity:1\" cx=\"1081.82\" cy=\"335.415\" r=\"9\"/>\n",
       "<circle clip-path=\"url(#clip2502)\" style=\"fill:#000000; stroke:none; fill-opacity:1\" cx=\"1207.79\" cy=\"753.917\" r=\"12\"/>\n",
       "<circle clip-path=\"url(#clip2502)\" style=\"fill:#000000; stroke:none; fill-opacity:1\" cx=\"1207.79\" cy=\"753.917\" r=\"9\"/>\n",
       "<circle clip-path=\"url(#clip2502)\" style=\"fill:#000000; stroke:none; fill-opacity:1\" cx=\"1051.63\" cy=\"1068.31\" r=\"12\"/>\n",
       "<circle clip-path=\"url(#clip2502)\" style=\"fill:#000000; stroke:none; fill-opacity:1\" cx=\"1051.63\" cy=\"1068.31\" r=\"9\"/>\n",
       "<circle clip-path=\"url(#clip2502)\" style=\"fill:#000000; stroke:none; fill-opacity:1\" cx=\"1450.18\" cy=\"67.9435\" r=\"12\"/>\n",
       "<circle clip-path=\"url(#clip2502)\" style=\"fill:#000000; stroke:none; fill-opacity:1\" cx=\"1450.18\" cy=\"67.9435\" r=\"9\"/>\n",
       "<circle clip-path=\"url(#clip2502)\" style=\"fill:#000000; stroke:none; fill-opacity:1\" cx=\"1802.12\" cy=\"1304\" r=\"12\"/>\n",
       "<circle clip-path=\"url(#clip2502)\" style=\"fill:#000000; stroke:none; fill-opacity:1\" cx=\"1802.12\" cy=\"1304\" r=\"9\"/>\n",
       "<circle clip-path=\"url(#clip2502)\" style=\"fill:#000000; stroke:none; fill-opacity:1\" cx=\"1620.84\" cy=\"1449.74\" r=\"12\"/>\n",
       "<circle clip-path=\"url(#clip2502)\" style=\"fill:#000000; stroke:none; fill-opacity:1\" cx=\"1620.84\" cy=\"1449.74\" r=\"9\"/>\n",
       "<circle clip-path=\"url(#clip2502)\" style=\"fill:#000000; stroke:none; fill-opacity:1\" cx=\"1456.44\" cy=\"364.695\" r=\"12\"/>\n",
       "<circle clip-path=\"url(#clip2502)\" style=\"fill:#000000; stroke:none; fill-opacity:1\" cx=\"1456.44\" cy=\"364.695\" r=\"9\"/>\n",
       "<circle clip-path=\"url(#clip2502)\" style=\"fill:#000000; stroke:none; fill-opacity:1\" cx=\"1660.51\" cy=\"1319.21\" r=\"12\"/>\n",
       "<circle clip-path=\"url(#clip2502)\" style=\"fill:#000000; stroke:none; fill-opacity:1\" cx=\"1660.51\" cy=\"1319.21\" r=\"9\"/>\n",
       "<circle clip-path=\"url(#clip2502)\" style=\"fill:#000000; stroke:none; fill-opacity:1\" cx=\"1723.51\" cy=\"923.043\" r=\"12\"/>\n",
       "<circle clip-path=\"url(#clip2502)\" style=\"fill:#000000; stroke:none; fill-opacity:1\" cx=\"1723.51\" cy=\"923.043\" r=\"9\"/>\n",
       "<circle clip-path=\"url(#clip2502)\" style=\"fill:#000000; stroke:none; fill-opacity:1\" cx=\"780.098\" cy=\"501.319\" r=\"12\"/>\n",
       "<circle clip-path=\"url(#clip2502)\" style=\"fill:#000000; stroke:none; fill-opacity:1\" cx=\"780.098\" cy=\"501.319\" r=\"9\"/>\n",
       "<circle clip-path=\"url(#clip2502)\" style=\"fill:#000000; stroke:none; fill-opacity:1\" cx=\"1206.66\" cy=\"879.847\" r=\"12\"/>\n",
       "<circle clip-path=\"url(#clip2502)\" style=\"fill:#000000; stroke:none; fill-opacity:1\" cx=\"1206.66\" cy=\"879.847\" r=\"9\"/>\n",
       "<circle clip-path=\"url(#clip2502)\" style=\"fill:#000000; stroke:none; fill-opacity:1\" cx=\"1103.69\" cy=\"519.257\" r=\"12\"/>\n",
       "<circle clip-path=\"url(#clip2502)\" style=\"fill:#000000; stroke:none; fill-opacity:1\" cx=\"1103.69\" cy=\"519.257\" r=\"9\"/>\n",
       "<circle clip-path=\"url(#clip2502)\" style=\"fill:#000000; stroke:none; fill-opacity:1\" cx=\"1181.93\" cy=\"642.653\" r=\"12\"/>\n",
       "<circle clip-path=\"url(#clip2502)\" style=\"fill:#000000; stroke:none; fill-opacity:1\" cx=\"1181.93\" cy=\"642.653\" r=\"9\"/>\n",
       "<circle clip-path=\"url(#clip2502)\" style=\"fill:#000000; stroke:none; fill-opacity:1\" cx=\"1228.5\" cy=\"341.97\" r=\"12\"/>\n",
       "<circle clip-path=\"url(#clip2502)\" style=\"fill:#000000; stroke:none; fill-opacity:1\" cx=\"1228.5\" cy=\"341.97\" r=\"9\"/>\n",
       "<circle clip-path=\"url(#clip2502)\" style=\"fill:#000000; stroke:none; fill-opacity:1\" cx=\"1404.34\" cy=\"1090.53\" r=\"12\"/>\n",
       "<circle clip-path=\"url(#clip2502)\" style=\"fill:#000000; stroke:none; fill-opacity:1\" cx=\"1404.34\" cy=\"1090.53\" r=\"9\"/>\n",
       "<circle clip-path=\"url(#clip2502)\" style=\"fill:#000000; stroke:none; fill-opacity:1\" cx=\"1824.4\" cy=\"420.309\" r=\"12\"/>\n",
       "<circle clip-path=\"url(#clip2502)\" style=\"fill:#000000; stroke:none; fill-opacity:1\" cx=\"1824.4\" cy=\"420.309\" r=\"9\"/>\n",
       "<circle clip-path=\"url(#clip2502)\" style=\"fill:#000000; stroke:none; fill-opacity:1\" cx=\"1876.09\" cy=\"1196.18\" r=\"12\"/>\n",
       "<circle clip-path=\"url(#clip2502)\" style=\"fill:#000000; stroke:none; fill-opacity:1\" cx=\"1876.09\" cy=\"1196.18\" r=\"9\"/>\n",
       "<circle clip-path=\"url(#clip2502)\" style=\"fill:#000000; stroke:none; fill-opacity:1\" cx=\"1540.85\" cy=\"508.696\" r=\"12\"/>\n",
       "<circle clip-path=\"url(#clip2502)\" style=\"fill:#000000; stroke:none; fill-opacity:1\" cx=\"1540.85\" cy=\"508.696\" r=\"9\"/>\n",
       "<circle clip-path=\"url(#clip2502)\" style=\"fill:#000000; stroke:none; fill-opacity:1\" cx=\"1198.95\" cy=\"1214.82\" r=\"12\"/>\n",
       "<circle clip-path=\"url(#clip2502)\" style=\"fill:#000000; stroke:none; fill-opacity:1\" cx=\"1198.95\" cy=\"1214.82\" r=\"9\"/>\n",
       "<circle clip-path=\"url(#clip2502)\" style=\"fill:#000000; stroke:none; fill-opacity:1\" cx=\"858.531\" cy=\"1444.9\" r=\"12\"/>\n",
       "<circle clip-path=\"url(#clip2502)\" style=\"fill:#000000; stroke:none; fill-opacity:1\" cx=\"858.531\" cy=\"1444.9\" r=\"9\"/>\n",
       "<circle clip-path=\"url(#clip2502)\" style=\"fill:#000000; stroke:none; fill-opacity:1\" cx=\"1050.38\" cy=\"923.054\" r=\"12\"/>\n",
       "<circle clip-path=\"url(#clip2502)\" style=\"fill:#000000; stroke:none; fill-opacity:1\" cx=\"1050.38\" cy=\"923.054\" r=\"9\"/>\n",
       "<circle clip-path=\"url(#clip2502)\" style=\"fill:#000000; stroke:none; fill-opacity:1\" cx=\"1749.17\" cy=\"410.176\" r=\"12\"/>\n",
       "<circle clip-path=\"url(#clip2502)\" style=\"fill:#000000; stroke:none; fill-opacity:1\" cx=\"1749.17\" cy=\"410.176\" r=\"9\"/>\n",
       "<circle clip-path=\"url(#clip2502)\" style=\"fill:#000000; stroke:none; fill-opacity:1\" cx=\"882.975\" cy=\"1080.67\" r=\"12\"/>\n",
       "<circle clip-path=\"url(#clip2502)\" style=\"fill:#000000; stroke:none; fill-opacity:1\" cx=\"882.975\" cy=\"1080.67\" r=\"9\"/>\n",
       "<circle clip-path=\"url(#clip2502)\" style=\"fill:#000000; stroke:none; fill-opacity:1\" cx=\"635.103\" cy=\"481.978\" r=\"12\"/>\n",
       "<circle clip-path=\"url(#clip2502)\" style=\"fill:#000000; stroke:none; fill-opacity:1\" cx=\"635.103\" cy=\"481.978\" r=\"9\"/>\n",
       "<circle clip-path=\"url(#clip2502)\" style=\"fill:#000000; stroke:none; fill-opacity:1\" cx=\"1665.19\" cy=\"1133.93\" r=\"12\"/>\n",
       "<circle clip-path=\"url(#clip2502)\" style=\"fill:#000000; stroke:none; fill-opacity:1\" cx=\"1665.19\" cy=\"1133.93\" r=\"9\"/>\n",
       "<circle clip-path=\"url(#clip2502)\" style=\"fill:#000000; stroke:none; fill-opacity:1\" cx=\"575.195\" cy=\"1485.03\" r=\"12\"/>\n",
       "<circle clip-path=\"url(#clip2502)\" style=\"fill:#000000; stroke:none; fill-opacity:1\" cx=\"575.195\" cy=\"1485.03\" r=\"9\"/>\n",
       "<circle clip-path=\"url(#clip2502)\" style=\"fill:#000000; stroke:none; fill-opacity:1\" cx=\"630.479\" cy=\"602.29\" r=\"12\"/>\n",
       "<circle clip-path=\"url(#clip2502)\" style=\"fill:#000000; stroke:none; fill-opacity:1\" cx=\"630.479\" cy=\"602.29\" r=\"9\"/>\n",
       "<circle clip-path=\"url(#clip2502)\" style=\"fill:#000000; stroke:none; fill-opacity:1\" cx=\"1379.77\" cy=\"1302.55\" r=\"12\"/>\n",
       "<circle clip-path=\"url(#clip2502)\" style=\"fill:#000000; stroke:none; fill-opacity:1\" cx=\"1379.77\" cy=\"1302.55\" r=\"9\"/>\n",
       "<circle clip-path=\"url(#clip2502)\" style=\"fill:#000000; stroke:none; fill-opacity:1\" cx=\"612.902\" cy=\"234.092\" r=\"12\"/>\n",
       "<circle clip-path=\"url(#clip2502)\" style=\"fill:#000000; stroke:none; fill-opacity:1\" cx=\"612.902\" cy=\"234.092\" r=\"9\"/>\n",
       "<circle clip-path=\"url(#clip2502)\" style=\"fill:#000000; stroke:none; fill-opacity:1\" cx=\"863.928\" cy=\"837.467\" r=\"12\"/>\n",
       "<circle clip-path=\"url(#clip2502)\" style=\"fill:#000000; stroke:none; fill-opacity:1\" cx=\"863.928\" cy=\"837.467\" r=\"9\"/>\n",
       "<circle clip-path=\"url(#clip2502)\" style=\"fill:#000000; stroke:none; fill-opacity:1\" cx=\"1876.27\" cy=\"224.039\" r=\"12\"/>\n",
       "<circle clip-path=\"url(#clip2502)\" style=\"fill:#000000; stroke:none; fill-opacity:1\" cx=\"1876.27\" cy=\"224.039\" r=\"9\"/>\n",
       "<circle clip-path=\"url(#clip2502)\" style=\"fill:#000000; stroke:none; fill-opacity:1\" cx=\"1948.02\" cy=\"1281.6\" r=\"12\"/>\n",
       "<circle clip-path=\"url(#clip2502)\" style=\"fill:#000000; stroke:none; fill-opacity:1\" cx=\"1948.02\" cy=\"1281.6\" r=\"9\"/>\n",
       "<circle clip-path=\"url(#clip2502)\" style=\"fill:#000000; stroke:none; fill-opacity:1\" cx=\"938.068\" cy=\"355.051\" r=\"12\"/>\n",
       "<circle clip-path=\"url(#clip2502)\" style=\"fill:#000000; stroke:none; fill-opacity:1\" cx=\"938.068\" cy=\"355.051\" r=\"9\"/>\n",
       "<circle clip-path=\"url(#clip2502)\" style=\"fill:#000000; stroke:none; fill-opacity:1\" cx=\"890.207\" cy=\"146.203\" r=\"12\"/>\n",
       "<circle clip-path=\"url(#clip2502)\" style=\"fill:#000000; stroke:none; fill-opacity:1\" cx=\"890.207\" cy=\"146.203\" r=\"9\"/>\n",
       "<circle clip-path=\"url(#clip2502)\" style=\"fill:#000000; stroke:none; fill-opacity:1\" cx=\"985.216\" cy=\"138.279\" r=\"12\"/>\n",
       "<circle clip-path=\"url(#clip2502)\" style=\"fill:#000000; stroke:none; fill-opacity:1\" cx=\"985.216\" cy=\"138.279\" r=\"9\"/>\n",
       "<circle clip-path=\"url(#clip2502)\" style=\"fill:#000000; stroke:none; fill-opacity:1\" cx=\"1513.83\" cy=\"322.604\" r=\"12\"/>\n",
       "<circle clip-path=\"url(#clip2502)\" style=\"fill:#000000; stroke:none; fill-opacity:1\" cx=\"1513.83\" cy=\"322.604\" r=\"9\"/>\n",
       "<circle clip-path=\"url(#clip2502)\" style=\"fill:#000000; stroke:none; fill-opacity:1\" cx=\"1303.08\" cy=\"1312.05\" r=\"12\"/>\n",
       "<circle clip-path=\"url(#clip2502)\" style=\"fill:#000000; stroke:none; fill-opacity:1\" cx=\"1303.08\" cy=\"1312.05\" r=\"9\"/>\n",
       "<circle clip-path=\"url(#clip2502)\" style=\"fill:#000000; stroke:none; fill-opacity:1\" cx=\"1353.19\" cy=\"1208.07\" r=\"12\"/>\n",
       "<circle clip-path=\"url(#clip2502)\" style=\"fill:#000000; stroke:none; fill-opacity:1\" cx=\"1353.19\" cy=\"1208.07\" r=\"9\"/>\n",
       "<circle clip-path=\"url(#clip2502)\" style=\"fill:#000000; stroke:none; fill-opacity:1\" cx=\"1043.48\" cy=\"1212.27\" r=\"12\"/>\n",
       "<circle clip-path=\"url(#clip2502)\" style=\"fill:#000000; stroke:none; fill-opacity:1\" cx=\"1043.48\" cy=\"1212.27\" r=\"9\"/>\n",
       "<circle clip-path=\"url(#clip2502)\" style=\"fill:#000000; stroke:none; fill-opacity:1\" cx=\"1282.98\" cy=\"177.521\" r=\"12\"/>\n",
       "<circle clip-path=\"url(#clip2502)\" style=\"fill:#000000; stroke:none; fill-opacity:1\" cx=\"1282.98\" cy=\"177.521\" r=\"9\"/>\n",
       "<circle clip-path=\"url(#clip2502)\" style=\"fill:#000000; stroke:none; fill-opacity:1\" cx=\"1200.21\" cy=\"711.724\" r=\"12\"/>\n",
       "<circle clip-path=\"url(#clip2502)\" style=\"fill:#000000; stroke:none; fill-opacity:1\" cx=\"1200.21\" cy=\"711.724\" r=\"9\"/>\n",
       "<circle clip-path=\"url(#clip2502)\" style=\"fill:#000000; stroke:none; fill-opacity:1\" cx=\"1365.81\" cy=\"572.318\" r=\"12\"/>\n",
       "<circle clip-path=\"url(#clip2502)\" style=\"fill:#000000; stroke:none; fill-opacity:1\" cx=\"1365.81\" cy=\"572.318\" r=\"9\"/>\n",
       "<circle clip-path=\"url(#clip2502)\" style=\"fill:#000000; stroke:none; fill-opacity:1\" cx=\"1315.84\" cy=\"930.796\" r=\"12\"/>\n",
       "<circle clip-path=\"url(#clip2502)\" style=\"fill:#000000; stroke:none; fill-opacity:1\" cx=\"1315.84\" cy=\"930.796\" r=\"9\"/>\n",
       "<circle clip-path=\"url(#clip2502)\" style=\"fill:#000000; stroke:none; fill-opacity:1\" cx=\"835.636\" cy=\"1363.27\" r=\"12\"/>\n",
       "<circle clip-path=\"url(#clip2502)\" style=\"fill:#000000; stroke:none; fill-opacity:1\" cx=\"835.636\" cy=\"1363.27\" r=\"9\"/>\n",
       "<circle clip-path=\"url(#clip2502)\" style=\"fill:#000000; stroke:none; fill-opacity:1\" cx=\"1547.23\" cy=\"1400.24\" r=\"12\"/>\n",
       "<circle clip-path=\"url(#clip2502)\" style=\"fill:#000000; stroke:none; fill-opacity:1\" cx=\"1547.23\" cy=\"1400.24\" r=\"9\"/>\n",
       "<circle clip-path=\"url(#clip2502)\" style=\"fill:#000000; stroke:none; fill-opacity:1\" cx=\"1435.7\" cy=\"235.032\" r=\"12\"/>\n",
       "<circle clip-path=\"url(#clip2502)\" style=\"fill:#000000; stroke:none; fill-opacity:1\" cx=\"1435.7\" cy=\"235.032\" r=\"9\"/>\n",
       "<circle clip-path=\"url(#clip2502)\" style=\"fill:#000000; stroke:none; fill-opacity:1\" cx=\"1122.29\" cy=\"1321.68\" r=\"12\"/>\n",
       "<circle clip-path=\"url(#clip2502)\" style=\"fill:#000000; stroke:none; fill-opacity:1\" cx=\"1122.29\" cy=\"1321.68\" r=\"9\"/>\n",
       "<circle clip-path=\"url(#clip2502)\" style=\"fill:#000000; stroke:none; fill-opacity:1\" cx=\"910.545\" cy=\"162.28\" r=\"12\"/>\n",
       "<circle clip-path=\"url(#clip2502)\" style=\"fill:#000000; stroke:none; fill-opacity:1\" cx=\"910.545\" cy=\"162.28\" r=\"9\"/>\n",
       "<circle clip-path=\"url(#clip2502)\" style=\"fill:#000000; stroke:none; fill-opacity:1\" cx=\"672.752\" cy=\"1146.71\" r=\"12\"/>\n",
       "<circle clip-path=\"url(#clip2502)\" style=\"fill:#000000; stroke:none; fill-opacity:1\" cx=\"672.752\" cy=\"1146.71\" r=\"9\"/>\n",
       "<circle clip-path=\"url(#clip2502)\" style=\"fill:#000000; stroke:none; fill-opacity:1\" cx=\"640.179\" cy=\"1098.29\" r=\"12\"/>\n",
       "<circle clip-path=\"url(#clip2502)\" style=\"fill:#000000; stroke:none; fill-opacity:1\" cx=\"640.179\" cy=\"1098.29\" r=\"9\"/>\n",
       "<circle clip-path=\"url(#clip2502)\" style=\"fill:#000000; stroke:none; fill-opacity:1\" cx=\"1503.68\" cy=\"377.02\" r=\"12\"/>\n",
       "<circle clip-path=\"url(#clip2502)\" style=\"fill:#000000; stroke:none; fill-opacity:1\" cx=\"1503.68\" cy=\"377.02\" r=\"9\"/>\n",
       "<circle clip-path=\"url(#clip2502)\" style=\"fill:#000000; stroke:none; fill-opacity:1\" cx=\"1204.85\" cy=\"481.907\" r=\"12\"/>\n",
       "<circle clip-path=\"url(#clip2502)\" style=\"fill:#000000; stroke:none; fill-opacity:1\" cx=\"1204.85\" cy=\"481.907\" r=\"9\"/>\n",
       "<circle clip-path=\"url(#clip2502)\" style=\"fill:#000000; stroke:none; fill-opacity:1\" cx=\"1584.74\" cy=\"132.545\" r=\"12\"/>\n",
       "<circle clip-path=\"url(#clip2502)\" style=\"fill:#000000; stroke:none; fill-opacity:1\" cx=\"1584.74\" cy=\"132.545\" r=\"9\"/>\n",
       "<circle clip-path=\"url(#clip2502)\" style=\"fill:#000000; stroke:none; fill-opacity:1\" cx=\"1534.88\" cy=\"523.914\" r=\"12\"/>\n",
       "<circle clip-path=\"url(#clip2502)\" style=\"fill:#000000; stroke:none; fill-opacity:1\" cx=\"1534.88\" cy=\"523.914\" r=\"9\"/>\n",
       "<circle clip-path=\"url(#clip2502)\" style=\"fill:#000000; stroke:none; fill-opacity:1\" cx=\"1044.31\" cy=\"848.038\" r=\"12\"/>\n",
       "<circle clip-path=\"url(#clip2502)\" style=\"fill:#000000; stroke:none; fill-opacity:1\" cx=\"1044.31\" cy=\"848.038\" r=\"9\"/>\n",
       "<circle clip-path=\"url(#clip2502)\" style=\"fill:#000000; stroke:none; fill-opacity:1\" cx=\"1160.56\" cy=\"650.308\" r=\"12\"/>\n",
       "<circle clip-path=\"url(#clip2502)\" style=\"fill:#000000; stroke:none; fill-opacity:1\" cx=\"1160.56\" cy=\"650.308\" r=\"9\"/>\n",
       "<circle clip-path=\"url(#clip2502)\" style=\"fill:#000000; stroke:none; fill-opacity:1\" cx=\"1780.57\" cy=\"402.914\" r=\"12\"/>\n",
       "<circle clip-path=\"url(#clip2502)\" style=\"fill:#000000; stroke:none; fill-opacity:1\" cx=\"1780.57\" cy=\"402.914\" r=\"9\"/>\n",
       "<circle clip-path=\"url(#clip2502)\" style=\"fill:#000000; stroke:none; fill-opacity:1\" cx=\"772.542\" cy=\"1411.11\" r=\"12\"/>\n",
       "<circle clip-path=\"url(#clip2502)\" style=\"fill:#000000; stroke:none; fill-opacity:1\" cx=\"772.542\" cy=\"1411.11\" r=\"9\"/>\n",
       "<circle clip-path=\"url(#clip2502)\" style=\"fill:#000000; stroke:none; fill-opacity:1\" cx=\"1794.96\" cy=\"1157.97\" r=\"12\"/>\n",
       "<circle clip-path=\"url(#clip2502)\" style=\"fill:#000000; stroke:none; fill-opacity:1\" cx=\"1794.96\" cy=\"1157.97\" r=\"9\"/>\n",
       "<circle clip-path=\"url(#clip2502)\" style=\"fill:#000000; stroke:none; fill-opacity:1\" cx=\"1708.78\" cy=\"966.291\" r=\"12\"/>\n",
       "<circle clip-path=\"url(#clip2502)\" style=\"fill:#000000; stroke:none; fill-opacity:1\" cx=\"1708.78\" cy=\"966.291\" r=\"9\"/>\n",
       "<circle clip-path=\"url(#clip2502)\" style=\"fill:#000000; stroke:none; fill-opacity:1\" cx=\"1889.56\" cy=\"1104.76\" r=\"12\"/>\n",
       "<circle clip-path=\"url(#clip2502)\" style=\"fill:#000000; stroke:none; fill-opacity:1\" cx=\"1889.56\" cy=\"1104.76\" r=\"9\"/>\n",
       "<circle clip-path=\"url(#clip2502)\" style=\"fill:#000000; stroke:none; fill-opacity:1\" cx=\"1239.85\" cy=\"71.6359\" r=\"12\"/>\n",
       "<circle clip-path=\"url(#clip2502)\" style=\"fill:#000000; stroke:none; fill-opacity:1\" cx=\"1239.85\" cy=\"71.6359\" r=\"9\"/>\n",
       "<circle clip-path=\"url(#clip2502)\" style=\"fill:#000000; stroke:none; fill-opacity:1\" cx=\"830.458\" cy=\"723.881\" r=\"12\"/>\n",
       "<circle clip-path=\"url(#clip2502)\" style=\"fill:#000000; stroke:none; fill-opacity:1\" cx=\"830.458\" cy=\"723.881\" r=\"9\"/>\n",
       "<circle clip-path=\"url(#clip2502)\" style=\"fill:#000000; stroke:none; fill-opacity:1\" cx=\"1897.12\" cy=\"1102.67\" r=\"12\"/>\n",
       "<circle clip-path=\"url(#clip2502)\" style=\"fill:#000000; stroke:none; fill-opacity:1\" cx=\"1897.12\" cy=\"1102.67\" r=\"9\"/>\n",
       "<circle clip-path=\"url(#clip2502)\" style=\"fill:#000000; stroke:none; fill-opacity:1\" cx=\"678.937\" cy=\"1096.97\" r=\"12\"/>\n",
       "<circle clip-path=\"url(#clip2502)\" style=\"fill:#000000; stroke:none; fill-opacity:1\" cx=\"678.937\" cy=\"1096.97\" r=\"9\"/>\n",
       "<circle clip-path=\"url(#clip2502)\" style=\"fill:#000000; stroke:none; fill-opacity:1\" cx=\"1813.29\" cy=\"628.214\" r=\"12\"/>\n",
       "<circle clip-path=\"url(#clip2502)\" style=\"fill:#000000; stroke:none; fill-opacity:1\" cx=\"1813.29\" cy=\"628.214\" r=\"9\"/>\n",
       "<circle clip-path=\"url(#clip2502)\" style=\"fill:#000000; stroke:none; fill-opacity:1\" cx=\"864.18\" cy=\"1449.23\" r=\"12\"/>\n",
       "<circle clip-path=\"url(#clip2502)\" style=\"fill:#000000; stroke:none; fill-opacity:1\" cx=\"864.18\" cy=\"1449.23\" r=\"9\"/>\n",
       "<circle clip-path=\"url(#clip2502)\" style=\"fill:#000000; stroke:none; fill-opacity:1\" cx=\"1128.93\" cy=\"1195.45\" r=\"12\"/>\n",
       "<circle clip-path=\"url(#clip2502)\" style=\"fill:#000000; stroke:none; fill-opacity:1\" cx=\"1128.93\" cy=\"1195.45\" r=\"9\"/>\n",
       "<circle clip-path=\"url(#clip2502)\" style=\"fill:#000000; stroke:none; fill-opacity:1\" cx=\"1540.79\" cy=\"1245.99\" r=\"12\"/>\n",
       "<circle clip-path=\"url(#clip2502)\" style=\"fill:#000000; stroke:none; fill-opacity:1\" cx=\"1540.79\" cy=\"1245.99\" r=\"9\"/>\n",
       "<circle clip-path=\"url(#clip2502)\" style=\"fill:#000000; stroke:none; fill-opacity:1\" cx=\"1540.22\" cy=\"992.954\" r=\"12\"/>\n",
       "<circle clip-path=\"url(#clip2502)\" style=\"fill:#000000; stroke:none; fill-opacity:1\" cx=\"1540.22\" cy=\"992.954\" r=\"9\"/>\n",
       "<circle clip-path=\"url(#clip2502)\" style=\"fill:#000000; stroke:none; fill-opacity:1\" cx=\"1393.67\" cy=\"1214.23\" r=\"12\"/>\n",
       "<circle clip-path=\"url(#clip2502)\" style=\"fill:#000000; stroke:none; fill-opacity:1\" cx=\"1393.67\" cy=\"1214.23\" r=\"9\"/>\n",
       "<circle clip-path=\"url(#clip2502)\" style=\"fill:#000000; stroke:none; fill-opacity:1\" cx=\"1285.13\" cy=\"1169.9\" r=\"12\"/>\n",
       "<circle clip-path=\"url(#clip2502)\" style=\"fill:#000000; stroke:none; fill-opacity:1\" cx=\"1285.13\" cy=\"1169.9\" r=\"9\"/>\n",
       "<circle clip-path=\"url(#clip2502)\" style=\"fill:#000000; stroke:none; fill-opacity:1\" cx=\"1371.86\" cy=\"407.978\" r=\"12\"/>\n",
       "<circle clip-path=\"url(#clip2502)\" style=\"fill:#000000; stroke:none; fill-opacity:1\" cx=\"1371.86\" cy=\"407.978\" r=\"9\"/>\n",
       "<circle clip-path=\"url(#clip2502)\" style=\"fill:#000000; stroke:none; fill-opacity:1\" cx=\"1039.84\" cy=\"543.839\" r=\"12\"/>\n",
       "<circle clip-path=\"url(#clip2502)\" style=\"fill:#000000; stroke:none; fill-opacity:1\" cx=\"1039.84\" cy=\"543.839\" r=\"9\"/>\n",
       "<circle clip-path=\"url(#clip2502)\" style=\"fill:#000000; stroke:none; fill-opacity:1\" cx=\"1447.03\" cy=\"344.25\" r=\"12\"/>\n",
       "<circle clip-path=\"url(#clip2502)\" style=\"fill:#000000; stroke:none; fill-opacity:1\" cx=\"1447.03\" cy=\"344.25\" r=\"9\"/>\n",
       "<circle clip-path=\"url(#clip2502)\" style=\"fill:#000000; stroke:none; fill-opacity:1\" cx=\"1767.89\" cy=\"50.4253\" r=\"12\"/>\n",
       "<circle clip-path=\"url(#clip2502)\" style=\"fill:#000000; stroke:none; fill-opacity:1\" cx=\"1767.89\" cy=\"50.4253\" r=\"9\"/>\n",
       "<circle clip-path=\"url(#clip2502)\" style=\"fill:#000000; stroke:none; fill-opacity:1\" cx=\"809.068\" cy=\"403.17\" r=\"12\"/>\n",
       "<circle clip-path=\"url(#clip2502)\" style=\"fill:#000000; stroke:none; fill-opacity:1\" cx=\"809.068\" cy=\"403.17\" r=\"9\"/>\n",
       "<circle clip-path=\"url(#clip2502)\" style=\"fill:#000000; stroke:none; fill-opacity:1\" cx=\"1490.55\" cy=\"1095.07\" r=\"12\"/>\n",
       "<circle clip-path=\"url(#clip2502)\" style=\"fill:#000000; stroke:none; fill-opacity:1\" cx=\"1490.55\" cy=\"1095.07\" r=\"9\"/>\n",
       "<circle clip-path=\"url(#clip2502)\" style=\"fill:#000000; stroke:none; fill-opacity:1\" cx=\"1014.94\" cy=\"743.753\" r=\"12\"/>\n",
       "<circle clip-path=\"url(#clip2502)\" style=\"fill:#000000; stroke:none; fill-opacity:1\" cx=\"1014.94\" cy=\"743.753\" r=\"9\"/>\n",
       "<circle clip-path=\"url(#clip2502)\" style=\"fill:#000000; stroke:none; fill-opacity:1\" cx=\"1525.9\" cy=\"140.229\" r=\"12\"/>\n",
       "<circle clip-path=\"url(#clip2502)\" style=\"fill:#000000; stroke:none; fill-opacity:1\" cx=\"1525.9\" cy=\"140.229\" r=\"9\"/>\n",
       "<circle clip-path=\"url(#clip2502)\" style=\"fill:#000000; stroke:none; fill-opacity:1\" cx=\"1307.81\" cy=\"1200.71\" r=\"12\"/>\n",
       "<circle clip-path=\"url(#clip2502)\" style=\"fill:#000000; stroke:none; fill-opacity:1\" cx=\"1307.81\" cy=\"1200.71\" r=\"9\"/>\n",
       "<circle clip-path=\"url(#clip2502)\" style=\"fill:#000000; stroke:none; fill-opacity:1\" cx=\"1323.03\" cy=\"260.391\" r=\"12\"/>\n",
       "<circle clip-path=\"url(#clip2502)\" style=\"fill:#000000; stroke:none; fill-opacity:1\" cx=\"1323.03\" cy=\"260.391\" r=\"9\"/>\n",
       "<circle clip-path=\"url(#clip2502)\" style=\"fill:#000000; stroke:none; fill-opacity:1\" cx=\"1739.54\" cy=\"293.31\" r=\"12\"/>\n",
       "<circle clip-path=\"url(#clip2502)\" style=\"fill:#000000; stroke:none; fill-opacity:1\" cx=\"1739.54\" cy=\"293.31\" r=\"9\"/>\n",
       "<circle clip-path=\"url(#clip2502)\" style=\"fill:#000000; stroke:none; fill-opacity:1\" cx=\"1362\" cy=\"1066.38\" r=\"12\"/>\n",
       "<circle clip-path=\"url(#clip2502)\" style=\"fill:#000000; stroke:none; fill-opacity:1\" cx=\"1362\" cy=\"1066.38\" r=\"9\"/>\n",
       "<circle clip-path=\"url(#clip2502)\" style=\"fill:#000000; stroke:none; fill-opacity:1\" cx=\"1005.19\" cy=\"156.131\" r=\"12\"/>\n",
       "<circle clip-path=\"url(#clip2502)\" style=\"fill:#000000; stroke:none; fill-opacity:1\" cx=\"1005.19\" cy=\"156.131\" r=\"9\"/>\n",
       "<circle clip-path=\"url(#clip2502)\" style=\"fill:#000000; stroke:none; fill-opacity:1\" cx=\"558.136\" cy=\"910.146\" r=\"12\"/>\n",
       "<circle clip-path=\"url(#clip2502)\" style=\"fill:#000000; stroke:none; fill-opacity:1\" cx=\"558.136\" cy=\"910.146\" r=\"9\"/>\n",
       "<circle clip-path=\"url(#clip2502)\" style=\"fill:#000000; stroke:none; fill-opacity:1\" cx=\"1607.46\" cy=\"127.715\" r=\"12\"/>\n",
       "<circle clip-path=\"url(#clip2502)\" style=\"fill:#000000; stroke:none; fill-opacity:1\" cx=\"1607.46\" cy=\"127.715\" r=\"9\"/>\n",
       "<circle clip-path=\"url(#clip2502)\" style=\"fill:#000000; stroke:none; fill-opacity:1\" cx=\"1054.66\" cy=\"572.984\" r=\"12\"/>\n",
       "<circle clip-path=\"url(#clip2502)\" style=\"fill:#000000; stroke:none; fill-opacity:1\" cx=\"1054.66\" cy=\"572.984\" r=\"9\"/>\n",
       "<circle clip-path=\"url(#clip2502)\" style=\"fill:#000000; stroke:none; fill-opacity:1\" cx=\"1763.67\" cy=\"812.031\" r=\"12\"/>\n",
       "<circle clip-path=\"url(#clip2502)\" style=\"fill:#000000; stroke:none; fill-opacity:1\" cx=\"1763.67\" cy=\"812.031\" r=\"9\"/>\n",
       "<circle clip-path=\"url(#clip2502)\" style=\"fill:#000000; stroke:none; fill-opacity:1\" cx=\"1326.57\" cy=\"630.338\" r=\"12\"/>\n",
       "<circle clip-path=\"url(#clip2502)\" style=\"fill:#000000; stroke:none; fill-opacity:1\" cx=\"1326.57\" cy=\"630.338\" r=\"9\"/>\n",
       "<circle clip-path=\"url(#clip2502)\" style=\"fill:#000000; stroke:none; fill-opacity:1\" cx=\"1163.15\" cy=\"1453.31\" r=\"12\"/>\n",
       "<circle clip-path=\"url(#clip2502)\" style=\"fill:#000000; stroke:none; fill-opacity:1\" cx=\"1163.15\" cy=\"1453.31\" r=\"9\"/>\n",
       "<circle clip-path=\"url(#clip2502)\" style=\"fill:#000000; stroke:none; fill-opacity:1\" cx=\"1710.63\" cy=\"1038\" r=\"12\"/>\n",
       "<circle clip-path=\"url(#clip2502)\" style=\"fill:#000000; stroke:none; fill-opacity:1\" cx=\"1710.63\" cy=\"1038\" r=\"9\"/>\n",
       "<circle clip-path=\"url(#clip2502)\" style=\"fill:#000000; stroke:none; fill-opacity:1\" cx=\"1129.26\" cy=\"643.524\" r=\"12\"/>\n",
       "<circle clip-path=\"url(#clip2502)\" style=\"fill:#000000; stroke:none; fill-opacity:1\" cx=\"1129.26\" cy=\"643.524\" r=\"9\"/>\n",
       "<circle clip-path=\"url(#clip2502)\" style=\"fill:#000000; stroke:none; fill-opacity:1\" cx=\"1265.91\" cy=\"675.692\" r=\"12\"/>\n",
       "<circle clip-path=\"url(#clip2502)\" style=\"fill:#000000; stroke:none; fill-opacity:1\" cx=\"1265.91\" cy=\"675.692\" r=\"9\"/>\n",
       "<circle clip-path=\"url(#clip2502)\" style=\"fill:#000000; stroke:none; fill-opacity:1\" cx=\"1057.82\" cy=\"610.667\" r=\"12\"/>\n",
       "<circle clip-path=\"url(#clip2502)\" style=\"fill:#000000; stroke:none; fill-opacity:1\" cx=\"1057.82\" cy=\"610.667\" r=\"9\"/>\n",
       "<circle clip-path=\"url(#clip2502)\" style=\"fill:#000000; stroke:none; fill-opacity:1\" cx=\"1562.45\" cy=\"1371.89\" r=\"12\"/>\n",
       "<circle clip-path=\"url(#clip2502)\" style=\"fill:#000000; stroke:none; fill-opacity:1\" cx=\"1562.45\" cy=\"1371.89\" r=\"9\"/>\n",
       "<circle clip-path=\"url(#clip2502)\" style=\"fill:#000000; stroke:none; fill-opacity:1\" cx=\"1512.38\" cy=\"1133.56\" r=\"12\"/>\n",
       "<circle clip-path=\"url(#clip2502)\" style=\"fill:#000000; stroke:none; fill-opacity:1\" cx=\"1512.38\" cy=\"1133.56\" r=\"9\"/>\n",
       "<circle clip-path=\"url(#clip2502)\" style=\"fill:#000000; stroke:none; fill-opacity:1\" cx=\"1945.39\" cy=\"847.911\" r=\"12\"/>\n",
       "<circle clip-path=\"url(#clip2502)\" style=\"fill:#000000; stroke:none; fill-opacity:1\" cx=\"1945.39\" cy=\"847.911\" r=\"9\"/>\n",
       "<circle clip-path=\"url(#clip2502)\" style=\"fill:#000000; stroke:none; fill-opacity:1\" cx=\"1620.23\" cy=\"683.189\" r=\"12\"/>\n",
       "<circle clip-path=\"url(#clip2502)\" style=\"fill:#000000; stroke:none; fill-opacity:1\" cx=\"1620.23\" cy=\"683.189\" r=\"9\"/>\n",
       "<circle clip-path=\"url(#clip2502)\" style=\"fill:#000000; stroke:none; fill-opacity:1\" cx=\"1668.19\" cy=\"829.356\" r=\"12\"/>\n",
       "<circle clip-path=\"url(#clip2502)\" style=\"fill:#000000; stroke:none; fill-opacity:1\" cx=\"1668.19\" cy=\"829.356\" r=\"9\"/>\n",
       "<circle clip-path=\"url(#clip2502)\" style=\"fill:#000000; stroke:none; fill-opacity:1\" cx=\"1287.53\" cy=\"1230.57\" r=\"12\"/>\n",
       "<circle clip-path=\"url(#clip2502)\" style=\"fill:#000000; stroke:none; fill-opacity:1\" cx=\"1287.53\" cy=\"1230.57\" r=\"9\"/>\n",
       "<circle clip-path=\"url(#clip2502)\" style=\"fill:#000000; stroke:none; fill-opacity:1\" cx=\"1047.9\" cy=\"1484\" r=\"12\"/>\n",
       "<circle clip-path=\"url(#clip2502)\" style=\"fill:#000000; stroke:none; fill-opacity:1\" cx=\"1047.9\" cy=\"1484\" r=\"9\"/>\n",
       "<circle clip-path=\"url(#clip2502)\" style=\"fill:#000000; stroke:none; fill-opacity:1\" cx=\"958.699\" cy=\"360.288\" r=\"12\"/>\n",
       "<circle clip-path=\"url(#clip2502)\" style=\"fill:#000000; stroke:none; fill-opacity:1\" cx=\"958.699\" cy=\"360.288\" r=\"9\"/>\n",
       "<circle clip-path=\"url(#clip2502)\" style=\"fill:#000000; stroke:none; fill-opacity:1\" cx=\"1753.02\" cy=\"863.04\" r=\"12\"/>\n",
       "<circle clip-path=\"url(#clip2502)\" style=\"fill:#000000; stroke:none; fill-opacity:1\" cx=\"1753.02\" cy=\"863.04\" r=\"9\"/>\n",
       "<circle clip-path=\"url(#clip2502)\" style=\"fill:#000000; stroke:none; fill-opacity:1\" cx=\"966.976\" cy=\"411.071\" r=\"12\"/>\n",
       "<circle clip-path=\"url(#clip2502)\" style=\"fill:#000000; stroke:none; fill-opacity:1\" cx=\"966.976\" cy=\"411.071\" r=\"9\"/>\n",
       "<circle clip-path=\"url(#clip2502)\" style=\"fill:#000000; stroke:none; fill-opacity:1\" cx=\"1541.27\" cy=\"1096.43\" r=\"12\"/>\n",
       "<circle clip-path=\"url(#clip2502)\" style=\"fill:#000000; stroke:none; fill-opacity:1\" cx=\"1541.27\" cy=\"1096.43\" r=\"9\"/>\n",
       "<circle clip-path=\"url(#clip2502)\" style=\"fill:#000000; stroke:none; fill-opacity:1\" cx=\"1294.11\" cy=\"1139.47\" r=\"12\"/>\n",
       "<circle clip-path=\"url(#clip2502)\" style=\"fill:#000000; stroke:none; fill-opacity:1\" cx=\"1294.11\" cy=\"1139.47\" r=\"9\"/>\n",
       "<circle clip-path=\"url(#clip2502)\" style=\"fill:#000000; stroke:none; fill-opacity:1\" cx=\"1455.96\" cy=\"1151.03\" r=\"12\"/>\n",
       "<circle clip-path=\"url(#clip2502)\" style=\"fill:#000000; stroke:none; fill-opacity:1\" cx=\"1455.96\" cy=\"1151.03\" r=\"9\"/>\n",
       "<circle clip-path=\"url(#clip2502)\" style=\"fill:#000000; stroke:none; fill-opacity:1\" cx=\"1849.46\" cy=\"221.646\" r=\"12\"/>\n",
       "<circle clip-path=\"url(#clip2502)\" style=\"fill:#000000; stroke:none; fill-opacity:1\" cx=\"1849.46\" cy=\"221.646\" r=\"9\"/>\n",
       "<circle clip-path=\"url(#clip2502)\" style=\"fill:#000000; stroke:none; fill-opacity:1\" cx=\"1696.93\" cy=\"328.288\" r=\"12\"/>\n",
       "<circle clip-path=\"url(#clip2502)\" style=\"fill:#000000; stroke:none; fill-opacity:1\" cx=\"1696.93\" cy=\"328.288\" r=\"9\"/>\n",
       "<circle clip-path=\"url(#clip2502)\" style=\"fill:#000000; stroke:none; fill-opacity:1\" cx=\"720.19\" cy=\"867.241\" r=\"12\"/>\n",
       "<circle clip-path=\"url(#clip2502)\" style=\"fill:#000000; stroke:none; fill-opacity:1\" cx=\"720.19\" cy=\"867.241\" r=\"9\"/>\n",
       "<circle clip-path=\"url(#clip2502)\" style=\"fill:#000000; stroke:none; fill-opacity:1\" cx=\"786.098\" cy=\"1013.76\" r=\"12\"/>\n",
       "<circle clip-path=\"url(#clip2502)\" style=\"fill:#000000; stroke:none; fill-opacity:1\" cx=\"786.098\" cy=\"1013.76\" r=\"9\"/>\n",
       "<circle clip-path=\"url(#clip2502)\" style=\"fill:#000000; stroke:none; fill-opacity:1\" cx=\"695.459\" cy=\"635.815\" r=\"12\"/>\n",
       "<circle clip-path=\"url(#clip2502)\" style=\"fill:#000000; stroke:none; fill-opacity:1\" cx=\"695.459\" cy=\"635.815\" r=\"9\"/>\n",
       "<circle clip-path=\"url(#clip2502)\" style=\"fill:#000000; stroke:none; fill-opacity:1\" cx=\"654.69\" cy=\"1274.78\" r=\"12\"/>\n",
       "<circle clip-path=\"url(#clip2502)\" style=\"fill:#000000; stroke:none; fill-opacity:1\" cx=\"654.69\" cy=\"1274.78\" r=\"9\"/>\n",
       "<circle clip-path=\"url(#clip2502)\" style=\"fill:#000000; stroke:none; fill-opacity:1\" cx=\"1500.33\" cy=\"1265.75\" r=\"12\"/>\n",
       "<circle clip-path=\"url(#clip2502)\" style=\"fill:#000000; stroke:none; fill-opacity:1\" cx=\"1500.33\" cy=\"1265.75\" r=\"9\"/>\n",
       "<circle clip-path=\"url(#clip2502)\" style=\"fill:#000000; stroke:none; fill-opacity:1\" cx=\"1720.24\" cy=\"1058.72\" r=\"12\"/>\n",
       "<circle clip-path=\"url(#clip2502)\" style=\"fill:#000000; stroke:none; fill-opacity:1\" cx=\"1720.24\" cy=\"1058.72\" r=\"9\"/>\n",
       "<circle clip-path=\"url(#clip2502)\" style=\"fill:#000000; stroke:none; fill-opacity:1\" cx=\"1262.47\" cy=\"84.9672\" r=\"12\"/>\n",
       "<circle clip-path=\"url(#clip2502)\" style=\"fill:#000000; stroke:none; fill-opacity:1\" cx=\"1262.47\" cy=\"84.9672\" r=\"9\"/>\n",
       "<circle clip-path=\"url(#clip2502)\" style=\"fill:#000000; stroke:none; fill-opacity:1\" cx=\"690.882\" cy=\"519.936\" r=\"12\"/>\n",
       "<circle clip-path=\"url(#clip2502)\" style=\"fill:#000000; stroke:none; fill-opacity:1\" cx=\"690.882\" cy=\"519.936\" r=\"9\"/>\n",
       "<circle clip-path=\"url(#clip2502)\" style=\"fill:#000000; stroke:none; fill-opacity:1\" cx=\"559.968\" cy=\"985.981\" r=\"12\"/>\n",
       "<circle clip-path=\"url(#clip2502)\" style=\"fill:#000000; stroke:none; fill-opacity:1\" cx=\"559.968\" cy=\"985.981\" r=\"9\"/>\n",
       "<circle clip-path=\"url(#clip2502)\" style=\"fill:#000000; stroke:none; fill-opacity:1\" cx=\"1635.04\" cy=\"1252.18\" r=\"12\"/>\n",
       "<circle clip-path=\"url(#clip2502)\" style=\"fill:#000000; stroke:none; fill-opacity:1\" cx=\"1635.04\" cy=\"1252.18\" r=\"9\"/>\n",
       "<circle clip-path=\"url(#clip2502)\" style=\"fill:#000000; stroke:none; fill-opacity:1\" cx=\"1018.89\" cy=\"721.117\" r=\"12\"/>\n",
       "<circle clip-path=\"url(#clip2502)\" style=\"fill:#000000; stroke:none; fill-opacity:1\" cx=\"1018.89\" cy=\"721.117\" r=\"9\"/>\n",
       "<circle clip-path=\"url(#clip2502)\" style=\"fill:#000000; stroke:none; fill-opacity:1\" cx=\"1036.66\" cy=\"1019.11\" r=\"12\"/>\n",
       "<circle clip-path=\"url(#clip2502)\" style=\"fill:#000000; stroke:none; fill-opacity:1\" cx=\"1036.66\" cy=\"1019.11\" r=\"9\"/>\n",
       "<circle clip-path=\"url(#clip2502)\" style=\"fill:#000000; stroke:none; fill-opacity:1\" cx=\"1540.72\" cy=\"1166.98\" r=\"12\"/>\n",
       "<circle clip-path=\"url(#clip2502)\" style=\"fill:#000000; stroke:none; fill-opacity:1\" cx=\"1540.72\" cy=\"1166.98\" r=\"9\"/>\n",
       "<circle clip-path=\"url(#clip2502)\" style=\"fill:#000000; stroke:none; fill-opacity:1\" cx=\"1890.4\" cy=\"439.829\" r=\"12\"/>\n",
       "<circle clip-path=\"url(#clip2502)\" style=\"fill:#000000; stroke:none; fill-opacity:1\" cx=\"1890.4\" cy=\"439.829\" r=\"9\"/>\n",
       "<circle clip-path=\"url(#clip2502)\" style=\"fill:#000000; stroke:none; fill-opacity:1\" cx=\"1108.95\" cy=\"1392.18\" r=\"12\"/>\n",
       "<circle clip-path=\"url(#clip2502)\" style=\"fill:#000000; stroke:none; fill-opacity:1\" cx=\"1108.95\" cy=\"1392.18\" r=\"9\"/>\n",
       "<circle clip-path=\"url(#clip2502)\" style=\"fill:#000000; stroke:none; fill-opacity:1\" cx=\"1771.59\" cy=\"437.315\" r=\"12\"/>\n",
       "<circle clip-path=\"url(#clip2502)\" style=\"fill:#000000; stroke:none; fill-opacity:1\" cx=\"1771.59\" cy=\"437.315\" r=\"9\"/>\n",
       "<circle clip-path=\"url(#clip2502)\" style=\"fill:#000000; stroke:none; fill-opacity:1\" cx=\"1479.06\" cy=\"91.7375\" r=\"12\"/>\n",
       "<circle clip-path=\"url(#clip2502)\" style=\"fill:#000000; stroke:none; fill-opacity:1\" cx=\"1479.06\" cy=\"91.7375\" r=\"9\"/>\n",
       "<circle clip-path=\"url(#clip2502)\" style=\"fill:#000000; stroke:none; fill-opacity:1\" cx=\"623.608\" cy=\"1253.39\" r=\"12\"/>\n",
       "<circle clip-path=\"url(#clip2502)\" style=\"fill:#000000; stroke:none; fill-opacity:1\" cx=\"623.608\" cy=\"1253.39\" r=\"9\"/>\n",
       "<circle clip-path=\"url(#clip2502)\" style=\"fill:#000000; stroke:none; fill-opacity:1\" cx=\"685.356\" cy=\"699.981\" r=\"12\"/>\n",
       "<circle clip-path=\"url(#clip2502)\" style=\"fill:#000000; stroke:none; fill-opacity:1\" cx=\"685.356\" cy=\"699.981\" r=\"9\"/>\n",
       "<circle clip-path=\"url(#clip2502)\" style=\"fill:#000000; stroke:none; fill-opacity:1\" cx=\"1857.77\" cy=\"828.55\" r=\"12\"/>\n",
       "<circle clip-path=\"url(#clip2502)\" style=\"fill:#000000; stroke:none; fill-opacity:1\" cx=\"1857.77\" cy=\"828.55\" r=\"9\"/>\n",
       "<circle clip-path=\"url(#clip2502)\" style=\"fill:#000000; stroke:none; fill-opacity:1\" cx=\"1755.01\" cy=\"212.555\" r=\"12\"/>\n",
       "<circle clip-path=\"url(#clip2502)\" style=\"fill:#000000; stroke:none; fill-opacity:1\" cx=\"1755.01\" cy=\"212.555\" r=\"9\"/>\n",
       "<circle clip-path=\"url(#clip2502)\" style=\"fill:#000000; stroke:none; fill-opacity:1\" cx=\"732.919\" cy=\"142.199\" r=\"12\"/>\n",
       "<circle clip-path=\"url(#clip2502)\" style=\"fill:#000000; stroke:none; fill-opacity:1\" cx=\"732.919\" cy=\"142.199\" r=\"9\"/>\n",
       "<circle clip-path=\"url(#clip2502)\" style=\"fill:#000000; stroke:none; fill-opacity:1\" cx=\"742.086\" cy=\"366.751\" r=\"12\"/>\n",
       "<circle clip-path=\"url(#clip2502)\" style=\"fill:#000000; stroke:none; fill-opacity:1\" cx=\"742.086\" cy=\"366.751\" r=\"9\"/>\n",
       "<circle clip-path=\"url(#clip2502)\" style=\"fill:#000000; stroke:none; fill-opacity:1\" cx=\"943.503\" cy=\"1371.33\" r=\"12\"/>\n",
       "<circle clip-path=\"url(#clip2502)\" style=\"fill:#000000; stroke:none; fill-opacity:1\" cx=\"943.503\" cy=\"1371.33\" r=\"9\"/>\n",
       "<circle clip-path=\"url(#clip2502)\" style=\"fill:#000000; stroke:none; fill-opacity:1\" cx=\"1850\" cy=\"642.416\" r=\"12\"/>\n",
       "<circle clip-path=\"url(#clip2502)\" style=\"fill:#000000; stroke:none; fill-opacity:1\" cx=\"1850\" cy=\"642.416\" r=\"9\"/>\n",
       "<circle clip-path=\"url(#clip2502)\" style=\"fill:#000000; stroke:none; fill-opacity:1\" cx=\"1043.22\" cy=\"1337.21\" r=\"12\"/>\n",
       "<circle clip-path=\"url(#clip2502)\" style=\"fill:#000000; stroke:none; fill-opacity:1\" cx=\"1043.22\" cy=\"1337.21\" r=\"9\"/>\n",
       "<circle clip-path=\"url(#clip2502)\" style=\"fill:#000000; stroke:none; fill-opacity:1\" cx=\"1584.23\" cy=\"126.383\" r=\"12\"/>\n",
       "<circle clip-path=\"url(#clip2502)\" style=\"fill:#000000; stroke:none; fill-opacity:1\" cx=\"1584.23\" cy=\"126.383\" r=\"9\"/>\n",
       "<circle clip-path=\"url(#clip2502)\" style=\"fill:#000000; stroke:none; fill-opacity:1\" cx=\"791.339\" cy=\"1141.23\" r=\"12\"/>\n",
       "<circle clip-path=\"url(#clip2502)\" style=\"fill:#000000; stroke:none; fill-opacity:1\" cx=\"791.339\" cy=\"1141.23\" r=\"9\"/>\n",
       "<circle clip-path=\"url(#clip2502)\" style=\"fill:#000000; stroke:none; fill-opacity:1\" cx=\"683.171\" cy=\"1258.5\" r=\"12\"/>\n",
       "<circle clip-path=\"url(#clip2502)\" style=\"fill:#000000; stroke:none; fill-opacity:1\" cx=\"683.171\" cy=\"1258.5\" r=\"9\"/>\n",
       "<circle clip-path=\"url(#clip2502)\" style=\"fill:#000000; stroke:none; fill-opacity:1\" cx=\"1402.13\" cy=\"231.928\" r=\"12\"/>\n",
       "<circle clip-path=\"url(#clip2502)\" style=\"fill:#000000; stroke:none; fill-opacity:1\" cx=\"1402.13\" cy=\"231.928\" r=\"9\"/>\n",
       "<circle clip-path=\"url(#clip2502)\" style=\"fill:#000000; stroke:none; fill-opacity:1\" cx=\"1471.03\" cy=\"557.777\" r=\"12\"/>\n",
       "<circle clip-path=\"url(#clip2502)\" style=\"fill:#000000; stroke:none; fill-opacity:1\" cx=\"1471.03\" cy=\"557.777\" r=\"9\"/>\n",
       "<circle clip-path=\"url(#clip2502)\" style=\"fill:#000000; stroke:none; fill-opacity:1\" cx=\"1954.18\" cy=\"630.889\" r=\"12\"/>\n",
       "<circle clip-path=\"url(#clip2502)\" style=\"fill:#000000; stroke:none; fill-opacity:1\" cx=\"1954.18\" cy=\"630.889\" r=\"9\"/>\n",
       "<circle clip-path=\"url(#clip2502)\" style=\"fill:#000000; stroke:none; fill-opacity:1\" cx=\"1750.43\" cy=\"1430.28\" r=\"12\"/>\n",
       "<circle clip-path=\"url(#clip2502)\" style=\"fill:#000000; stroke:none; fill-opacity:1\" cx=\"1750.43\" cy=\"1430.28\" r=\"9\"/>\n",
       "<circle clip-path=\"url(#clip2502)\" style=\"fill:#000000; stroke:none; fill-opacity:1\" cx=\"1191.88\" cy=\"1402.17\" r=\"12\"/>\n",
       "<circle clip-path=\"url(#clip2502)\" style=\"fill:#000000; stroke:none; fill-opacity:1\" cx=\"1191.88\" cy=\"1402.17\" r=\"9\"/>\n",
       "<circle clip-path=\"url(#clip2502)\" style=\"fill:#000000; stroke:none; fill-opacity:1\" cx=\"1077.17\" cy=\"867.113\" r=\"12\"/>\n",
       "<circle clip-path=\"url(#clip2502)\" style=\"fill:#000000; stroke:none; fill-opacity:1\" cx=\"1077.17\" cy=\"867.113\" r=\"9\"/>\n",
       "<circle clip-path=\"url(#clip2502)\" style=\"fill:#000000; stroke:none; fill-opacity:1\" cx=\"962.972\" cy=\"520.328\" r=\"12\"/>\n",
       "<circle clip-path=\"url(#clip2502)\" style=\"fill:#000000; stroke:none; fill-opacity:1\" cx=\"962.972\" cy=\"520.328\" r=\"9\"/>\n",
       "<circle clip-path=\"url(#clip2502)\" style=\"fill:#000000; stroke:none; fill-opacity:1\" cx=\"662.814\" cy=\"316.022\" r=\"12\"/>\n",
       "<circle clip-path=\"url(#clip2502)\" style=\"fill:#000000; stroke:none; fill-opacity:1\" cx=\"662.814\" cy=\"316.022\" r=\"9\"/>\n",
       "<circle clip-path=\"url(#clip2502)\" style=\"fill:#000000; stroke:none; fill-opacity:1\" cx=\"1691.99\" cy=\"642.283\" r=\"12\"/>\n",
       "<circle clip-path=\"url(#clip2502)\" style=\"fill:#000000; stroke:none; fill-opacity:1\" cx=\"1691.99\" cy=\"642.283\" r=\"9\"/>\n",
       "<circle clip-path=\"url(#clip2502)\" style=\"fill:#000000; stroke:none; fill-opacity:1\" cx=\"1378.94\" cy=\"112.524\" r=\"12\"/>\n",
       "<circle clip-path=\"url(#clip2502)\" style=\"fill:#000000; stroke:none; fill-opacity:1\" cx=\"1378.94\" cy=\"112.524\" r=\"9\"/>\n",
       "<circle clip-path=\"url(#clip2502)\" style=\"fill:#000000; stroke:none; fill-opacity:1\" cx=\"959.414\" cy=\"998.382\" r=\"12\"/>\n",
       "<circle clip-path=\"url(#clip2502)\" style=\"fill:#000000; stroke:none; fill-opacity:1\" cx=\"959.414\" cy=\"998.382\" r=\"9\"/>\n",
       "<circle clip-path=\"url(#clip2502)\" style=\"fill:#000000; stroke:none; fill-opacity:1\" cx=\"1132.97\" cy=\"1474.27\" r=\"12\"/>\n",
       "<circle clip-path=\"url(#clip2502)\" style=\"fill:#000000; stroke:none; fill-opacity:1\" cx=\"1132.97\" cy=\"1474.27\" r=\"9\"/>\n",
       "<circle clip-path=\"url(#clip2502)\" style=\"fill:#000000; stroke:none; fill-opacity:1\" cx=\"1976\" cy=\"632.772\" r=\"12\"/>\n",
       "<circle clip-path=\"url(#clip2502)\" style=\"fill:#000000; stroke:none; fill-opacity:1\" cx=\"1976\" cy=\"632.772\" r=\"9\"/>\n",
       "<circle clip-path=\"url(#clip2502)\" style=\"fill:#000000; stroke:none; fill-opacity:1\" cx=\"1487.04\" cy=\"652.361\" r=\"12\"/>\n",
       "<circle clip-path=\"url(#clip2502)\" style=\"fill:#000000; stroke:none; fill-opacity:1\" cx=\"1487.04\" cy=\"652.361\" r=\"9\"/>\n",
       "<circle clip-path=\"url(#clip2502)\" style=\"fill:#000000; stroke:none; fill-opacity:1\" cx=\"1677.06\" cy=\"1019.76\" r=\"12\"/>\n",
       "<circle clip-path=\"url(#clip2502)\" style=\"fill:#000000; stroke:none; fill-opacity:1\" cx=\"1677.06\" cy=\"1019.76\" r=\"9\"/>\n",
       "<circle clip-path=\"url(#clip2502)\" style=\"fill:#000000; stroke:none; fill-opacity:1\" cx=\"799.251\" cy=\"654.438\" r=\"12\"/>\n",
       "<circle clip-path=\"url(#clip2502)\" style=\"fill:#000000; stroke:none; fill-opacity:1\" cx=\"799.251\" cy=\"654.438\" r=\"9\"/>\n",
       "<circle clip-path=\"url(#clip2502)\" style=\"fill:#000000; stroke:none; fill-opacity:1\" cx=\"710.68\" cy=\"353.235\" r=\"12\"/>\n",
       "<circle clip-path=\"url(#clip2502)\" style=\"fill:#000000; stroke:none; fill-opacity:1\" cx=\"710.68\" cy=\"353.235\" r=\"9\"/>\n",
       "<circle clip-path=\"url(#clip2502)\" style=\"fill:#000000; stroke:none; fill-opacity:1\" cx=\"803.349\" cy=\"322.997\" r=\"12\"/>\n",
       "<circle clip-path=\"url(#clip2502)\" style=\"fill:#000000; stroke:none; fill-opacity:1\" cx=\"803.349\" cy=\"322.997\" r=\"9\"/>\n",
       "<circle clip-path=\"url(#clip2502)\" style=\"fill:#000000; stroke:none; fill-opacity:1\" cx=\"868.315\" cy=\"1067.42\" r=\"12\"/>\n",
       "<circle clip-path=\"url(#clip2502)\" style=\"fill:#000000; stroke:none; fill-opacity:1\" cx=\"868.315\" cy=\"1067.42\" r=\"9\"/>\n",
       "<circle clip-path=\"url(#clip2502)\" style=\"fill:#000000; stroke:none; fill-opacity:1\" cx=\"1583.74\" cy=\"906.637\" r=\"12\"/>\n",
       "<circle clip-path=\"url(#clip2502)\" style=\"fill:#000000; stroke:none; fill-opacity:1\" cx=\"1583.74\" cy=\"906.637\" r=\"9\"/>\n",
       "<circle clip-path=\"url(#clip2502)\" style=\"fill:#000000; stroke:none; fill-opacity:1\" cx=\"1026.63\" cy=\"1055.35\" r=\"12\"/>\n",
       "<circle clip-path=\"url(#clip2502)\" style=\"fill:#000000; stroke:none; fill-opacity:1\" cx=\"1026.63\" cy=\"1055.35\" r=\"9\"/>\n",
       "<circle clip-path=\"url(#clip2502)\" style=\"fill:#000000; stroke:none; fill-opacity:1\" cx=\"1317.44\" cy=\"700.565\" r=\"12\"/>\n",
       "<circle clip-path=\"url(#clip2502)\" style=\"fill:#000000; stroke:none; fill-opacity:1\" cx=\"1317.44\" cy=\"700.565\" r=\"9\"/>\n",
       "<circle clip-path=\"url(#clip2502)\" style=\"fill:#000000; stroke:none; fill-opacity:1\" cx=\"1602.15\" cy=\"52.6293\" r=\"12\"/>\n",
       "<circle clip-path=\"url(#clip2502)\" style=\"fill:#000000; stroke:none; fill-opacity:1\" cx=\"1602.15\" cy=\"52.6293\" r=\"9\"/>\n",
       "<circle clip-path=\"url(#clip2502)\" style=\"fill:#000000; stroke:none; fill-opacity:1\" cx=\"1473.18\" cy=\"646.187\" r=\"12\"/>\n",
       "<circle clip-path=\"url(#clip2502)\" style=\"fill:#000000; stroke:none; fill-opacity:1\" cx=\"1473.18\" cy=\"646.187\" r=\"9\"/>\n",
       "<circle clip-path=\"url(#clip2502)\" style=\"fill:#000000; stroke:none; fill-opacity:1\" cx=\"729.698\" cy=\"1352.19\" r=\"12\"/>\n",
       "<circle clip-path=\"url(#clip2502)\" style=\"fill:#000000; stroke:none; fill-opacity:1\" cx=\"729.698\" cy=\"1352.19\" r=\"9\"/>\n",
       "<circle clip-path=\"url(#clip2502)\" style=\"fill:#000000; stroke:none; fill-opacity:1\" cx=\"1171.66\" cy=\"253.307\" r=\"12\"/>\n",
       "<circle clip-path=\"url(#clip2502)\" style=\"fill:#000000; stroke:none; fill-opacity:1\" cx=\"1171.66\" cy=\"253.307\" r=\"9\"/>\n",
       "<circle clip-path=\"url(#clip2502)\" style=\"fill:#000000; stroke:none; fill-opacity:1\" cx=\"759.823\" cy=\"586.533\" r=\"12\"/>\n",
       "<circle clip-path=\"url(#clip2502)\" style=\"fill:#000000; stroke:none; fill-opacity:1\" cx=\"759.823\" cy=\"586.533\" r=\"9\"/>\n",
       "<circle clip-path=\"url(#clip2502)\" style=\"fill:#000000; stroke:none; fill-opacity:1\" cx=\"1884.43\" cy=\"1040.25\" r=\"12\"/>\n",
       "<circle clip-path=\"url(#clip2502)\" style=\"fill:#000000; stroke:none; fill-opacity:1\" cx=\"1884.43\" cy=\"1040.25\" r=\"9\"/>\n",
       "<circle clip-path=\"url(#clip2502)\" style=\"fill:#000000; stroke:none; fill-opacity:1\" cx=\"1401.07\" cy=\"687.965\" r=\"12\"/>\n",
       "<circle clip-path=\"url(#clip2502)\" style=\"fill:#000000; stroke:none; fill-opacity:1\" cx=\"1401.07\" cy=\"687.965\" r=\"9\"/>\n",
       "<circle clip-path=\"url(#clip2502)\" style=\"fill:#000000; stroke:none; fill-opacity:1\" cx=\"611.801\" cy=\"1309.95\" r=\"12\"/>\n",
       "<circle clip-path=\"url(#clip2502)\" style=\"fill:#000000; stroke:none; fill-opacity:1\" cx=\"611.801\" cy=\"1309.95\" r=\"9\"/>\n",
       "<circle clip-path=\"url(#clip2502)\" style=\"fill:#000000; stroke:none; fill-opacity:1\" cx=\"1431.03\" cy=\"435.518\" r=\"12\"/>\n",
       "<circle clip-path=\"url(#clip2502)\" style=\"fill:#000000; stroke:none; fill-opacity:1\" cx=\"1431.03\" cy=\"435.518\" r=\"9\"/>\n",
       "<circle clip-path=\"url(#clip2502)\" style=\"fill:#000000; stroke:none; fill-opacity:1\" cx=\"1899.1\" cy=\"503.019\" r=\"12\"/>\n",
       "<circle clip-path=\"url(#clip2502)\" style=\"fill:#000000; stroke:none; fill-opacity:1\" cx=\"1899.1\" cy=\"503.019\" r=\"9\"/>\n",
       "<circle clip-path=\"url(#clip2502)\" style=\"fill:#000000; stroke:none; fill-opacity:1\" cx=\"1707.81\" cy=\"770.408\" r=\"12\"/>\n",
       "<circle clip-path=\"url(#clip2502)\" style=\"fill:#000000; stroke:none; fill-opacity:1\" cx=\"1707.81\" cy=\"770.408\" r=\"9\"/>\n",
       "<circle clip-path=\"url(#clip2502)\" style=\"fill:#000000; stroke:none; fill-opacity:1\" cx=\"966.087\" cy=\"797.894\" r=\"12\"/>\n",
       "<circle clip-path=\"url(#clip2502)\" style=\"fill:#000000; stroke:none; fill-opacity:1\" cx=\"966.087\" cy=\"797.894\" r=\"9\"/>\n",
       "<circle clip-path=\"url(#clip2502)\" style=\"fill:#000000; stroke:none; fill-opacity:1\" cx=\"1977.66\" cy=\"293.574\" r=\"12\"/>\n",
       "<circle clip-path=\"url(#clip2502)\" style=\"fill:#000000; stroke:none; fill-opacity:1\" cx=\"1977.66\" cy=\"293.574\" r=\"9\"/>\n",
       "<circle clip-path=\"url(#clip2502)\" style=\"fill:#000000; stroke:none; fill-opacity:1\" cx=\"1223.27\" cy=\"563.544\" r=\"12\"/>\n",
       "<circle clip-path=\"url(#clip2502)\" style=\"fill:#000000; stroke:none; fill-opacity:1\" cx=\"1223.27\" cy=\"563.544\" r=\"9\"/>\n",
       "<circle clip-path=\"url(#clip2502)\" style=\"fill:#000000; stroke:none; fill-opacity:1\" cx=\"1145.12\" cy=\"1266.48\" r=\"12\"/>\n",
       "<circle clip-path=\"url(#clip2502)\" style=\"fill:#000000; stroke:none; fill-opacity:1\" cx=\"1145.12\" cy=\"1266.48\" r=\"9\"/>\n",
       "<circle clip-path=\"url(#clip2502)\" style=\"fill:#000000; stroke:none; fill-opacity:1\" cx=\"752.255\" cy=\"276.013\" r=\"12\"/>\n",
       "<circle clip-path=\"url(#clip2502)\" style=\"fill:#000000; stroke:none; fill-opacity:1\" cx=\"752.255\" cy=\"276.013\" r=\"9\"/>\n",
       "<circle clip-path=\"url(#clip2502)\" style=\"fill:#000000; stroke:none; fill-opacity:1\" cx=\"1979.31\" cy=\"276.922\" r=\"12\"/>\n",
       "<circle clip-path=\"url(#clip2502)\" style=\"fill:#000000; stroke:none; fill-opacity:1\" cx=\"1979.31\" cy=\"276.922\" r=\"9\"/>\n",
       "<circle clip-path=\"url(#clip2502)\" style=\"fill:#000000; stroke:none; fill-opacity:1\" cx=\"1962.65\" cy=\"1380.86\" r=\"12\"/>\n",
       "<circle clip-path=\"url(#clip2502)\" style=\"fill:#000000; stroke:none; fill-opacity:1\" cx=\"1962.65\" cy=\"1380.86\" r=\"9\"/>\n",
       "<circle clip-path=\"url(#clip2502)\" style=\"fill:#000000; stroke:none; fill-opacity:1\" cx=\"847.92\" cy=\"444.784\" r=\"12\"/>\n",
       "<circle clip-path=\"url(#clip2502)\" style=\"fill:#000000; stroke:none; fill-opacity:1\" cx=\"847.92\" cy=\"444.784\" r=\"9\"/>\n",
       "<circle clip-path=\"url(#clip2502)\" style=\"fill:#000000; stroke:none; fill-opacity:1\" cx=\"1480.06\" cy=\"229.354\" r=\"12\"/>\n",
       "<circle clip-path=\"url(#clip2502)\" style=\"fill:#000000; stroke:none; fill-opacity:1\" cx=\"1480.06\" cy=\"229.354\" r=\"9\"/>\n",
       "<circle clip-path=\"url(#clip2502)\" style=\"fill:#000000; stroke:none; fill-opacity:1\" cx=\"804.371\" cy=\"563.068\" r=\"12\"/>\n",
       "<circle clip-path=\"url(#clip2502)\" style=\"fill:#000000; stroke:none; fill-opacity:1\" cx=\"804.371\" cy=\"563.068\" r=\"9\"/>\n",
       "<circle clip-path=\"url(#clip2502)\" style=\"fill:#000000; stroke:none; fill-opacity:1\" cx=\"1882.2\" cy=\"1015.9\" r=\"12\"/>\n",
       "<circle clip-path=\"url(#clip2502)\" style=\"fill:#000000; stroke:none; fill-opacity:1\" cx=\"1882.2\" cy=\"1015.9\" r=\"9\"/>\n",
       "<circle clip-path=\"url(#clip2502)\" style=\"fill:#000000; stroke:none; fill-opacity:1\" cx=\"824.298\" cy=\"77.5789\" r=\"12\"/>\n",
       "<circle clip-path=\"url(#clip2502)\" style=\"fill:#000000; stroke:none; fill-opacity:1\" cx=\"824.298\" cy=\"77.5789\" r=\"9\"/>\n",
       "<circle clip-path=\"url(#clip2502)\" style=\"fill:#000000; stroke:none; fill-opacity:1\" cx=\"568.544\" cy=\"172.58\" r=\"12\"/>\n",
       "<circle clip-path=\"url(#clip2502)\" style=\"fill:#000000; stroke:none; fill-opacity:1\" cx=\"568.544\" cy=\"172.58\" r=\"9\"/>\n",
       "<circle clip-path=\"url(#clip2502)\" style=\"fill:#000000; stroke:none; fill-opacity:1\" cx=\"667.341\" cy=\"617.932\" r=\"12\"/>\n",
       "<circle clip-path=\"url(#clip2502)\" style=\"fill:#000000; stroke:none; fill-opacity:1\" cx=\"667.341\" cy=\"617.932\" r=\"9\"/>\n",
       "<circle clip-path=\"url(#clip2502)\" style=\"fill:#000000; stroke:none; fill-opacity:1\" cx=\"1703.92\" cy=\"625.137\" r=\"12\"/>\n",
       "<circle clip-path=\"url(#clip2502)\" style=\"fill:#000000; stroke:none; fill-opacity:1\" cx=\"1703.92\" cy=\"625.137\" r=\"9\"/>\n",
       "<circle clip-path=\"url(#clip2502)\" style=\"fill:#000000; stroke:none; fill-opacity:1\" cx=\"976.576\" cy=\"594.223\" r=\"12\"/>\n",
       "<circle clip-path=\"url(#clip2502)\" style=\"fill:#000000; stroke:none; fill-opacity:1\" cx=\"976.576\" cy=\"594.223\" r=\"9\"/>\n",
       "<circle clip-path=\"url(#clip2502)\" style=\"fill:#000000; stroke:none; fill-opacity:1\" cx=\"960.68\" cy=\"788.489\" r=\"12\"/>\n",
       "<circle clip-path=\"url(#clip2502)\" style=\"fill:#000000; stroke:none; fill-opacity:1\" cx=\"960.68\" cy=\"788.489\" r=\"9\"/>\n",
       "<circle clip-path=\"url(#clip2502)\" style=\"fill:#000000; stroke:none; fill-opacity:1\" cx=\"915.047\" cy=\"1260.92\" r=\"12\"/>\n",
       "<circle clip-path=\"url(#clip2502)\" style=\"fill:#000000; stroke:none; fill-opacity:1\" cx=\"915.047\" cy=\"1260.92\" r=\"9\"/>\n",
       "<circle clip-path=\"url(#clip2502)\" style=\"fill:#000000; stroke:none; fill-opacity:1\" cx=\"896.843\" cy=\"948.907\" r=\"12\"/>\n",
       "<circle clip-path=\"url(#clip2502)\" style=\"fill:#000000; stroke:none; fill-opacity:1\" cx=\"896.843\" cy=\"948.907\" r=\"9\"/>\n",
       "<circle clip-path=\"url(#clip2502)\" style=\"fill:#000000; stroke:none; fill-opacity:1\" cx=\"1096.51\" cy=\"1286.69\" r=\"12\"/>\n",
       "<circle clip-path=\"url(#clip2502)\" style=\"fill:#000000; stroke:none; fill-opacity:1\" cx=\"1096.51\" cy=\"1286.69\" r=\"9\"/>\n",
       "<circle clip-path=\"url(#clip2502)\" style=\"fill:#000000; stroke:none; fill-opacity:1\" cx=\"1391.17\" cy=\"1267.43\" r=\"12\"/>\n",
       "<circle clip-path=\"url(#clip2502)\" style=\"fill:#000000; stroke:none; fill-opacity:1\" cx=\"1391.17\" cy=\"1267.43\" r=\"9\"/>\n",
       "<circle clip-path=\"url(#clip2502)\" style=\"fill:#000000; stroke:none; fill-opacity:1\" cx=\"1802.67\" cy=\"1075.37\" r=\"12\"/>\n",
       "<circle clip-path=\"url(#clip2502)\" style=\"fill:#000000; stroke:none; fill-opacity:1\" cx=\"1802.67\" cy=\"1075.37\" r=\"9\"/>\n",
       "<circle clip-path=\"url(#clip2502)\" style=\"fill:#000000; stroke:none; fill-opacity:1\" cx=\"1594.05\" cy=\"1402.75\" r=\"12\"/>\n",
       "<circle clip-path=\"url(#clip2502)\" style=\"fill:#000000; stroke:none; fill-opacity:1\" cx=\"1594.05\" cy=\"1402.75\" r=\"9\"/>\n",
       "<circle clip-path=\"url(#clip2502)\" style=\"fill:#000000; stroke:none; fill-opacity:1\" cx=\"1565.16\" cy=\"1338.8\" r=\"12\"/>\n",
       "<circle clip-path=\"url(#clip2502)\" style=\"fill:#000000; stroke:none; fill-opacity:1\" cx=\"1565.16\" cy=\"1338.8\" r=\"9\"/>\n",
       "<circle clip-path=\"url(#clip2502)\" style=\"fill:#000000; stroke:none; fill-opacity:1\" cx=\"1084.34\" cy=\"112.22\" r=\"12\"/>\n",
       "<circle clip-path=\"url(#clip2502)\" style=\"fill:#000000; stroke:none; fill-opacity:1\" cx=\"1084.34\" cy=\"112.22\" r=\"9\"/>\n",
       "<circle clip-path=\"url(#clip2502)\" style=\"fill:#000000; stroke:none; fill-opacity:1\" cx=\"1019.91\" cy=\"907.232\" r=\"12\"/>\n",
       "<circle clip-path=\"url(#clip2502)\" style=\"fill:#000000; stroke:none; fill-opacity:1\" cx=\"1019.91\" cy=\"907.232\" r=\"9\"/>\n",
       "<circle clip-path=\"url(#clip2502)\" style=\"fill:#000000; stroke:none; fill-opacity:1\" cx=\"734.931\" cy=\"236.587\" r=\"12\"/>\n",
       "<circle clip-path=\"url(#clip2502)\" style=\"fill:#000000; stroke:none; fill-opacity:1\" cx=\"734.931\" cy=\"236.587\" r=\"9\"/>\n",
       "<circle clip-path=\"url(#clip2502)\" style=\"fill:#000000; stroke:none; fill-opacity:1\" cx=\"655.615\" cy=\"471.731\" r=\"12\"/>\n",
       "<circle clip-path=\"url(#clip2502)\" style=\"fill:#000000; stroke:none; fill-opacity:1\" cx=\"655.615\" cy=\"471.731\" r=\"9\"/>\n",
       "<circle clip-path=\"url(#clip2502)\" style=\"fill:#000000; stroke:none; fill-opacity:1\" cx=\"1422.19\" cy=\"594.587\" r=\"12\"/>\n",
       "<circle clip-path=\"url(#clip2502)\" style=\"fill:#000000; stroke:none; fill-opacity:1\" cx=\"1422.19\" cy=\"594.587\" r=\"9\"/>\n",
       "<circle clip-path=\"url(#clip2502)\" style=\"fill:#000000; stroke:none; fill-opacity:1\" cx=\"1576.05\" cy=\"953.278\" r=\"12\"/>\n",
       "<circle clip-path=\"url(#clip2502)\" style=\"fill:#000000; stroke:none; fill-opacity:1\" cx=\"1576.05\" cy=\"953.278\" r=\"9\"/>\n",
       "<circle clip-path=\"url(#clip2502)\" style=\"fill:#000000; stroke:none; fill-opacity:1\" cx=\"1643.93\" cy=\"402\" r=\"12\"/>\n",
       "<circle clip-path=\"url(#clip2502)\" style=\"fill:#000000; stroke:none; fill-opacity:1\" cx=\"1643.93\" cy=\"402\" r=\"9\"/>\n",
       "<circle clip-path=\"url(#clip2502)\" style=\"fill:#000000; stroke:none; fill-opacity:1\" cx=\"888.917\" cy=\"236.927\" r=\"12\"/>\n",
       "<circle clip-path=\"url(#clip2502)\" style=\"fill:#000000; stroke:none; fill-opacity:1\" cx=\"888.917\" cy=\"236.927\" r=\"9\"/>\n",
       "<circle clip-path=\"url(#clip2502)\" style=\"fill:#000000; stroke:none; fill-opacity:1\" cx=\"1362.03\" cy=\"780.215\" r=\"12\"/>\n",
       "<circle clip-path=\"url(#clip2502)\" style=\"fill:#000000; stroke:none; fill-opacity:1\" cx=\"1362.03\" cy=\"780.215\" r=\"9\"/>\n",
       "<circle clip-path=\"url(#clip2502)\" style=\"fill:#000000; stroke:none; fill-opacity:1\" cx=\"1716.34\" cy=\"384.321\" r=\"12\"/>\n",
       "<circle clip-path=\"url(#clip2502)\" style=\"fill:#000000; stroke:none; fill-opacity:1\" cx=\"1716.34\" cy=\"384.321\" r=\"9\"/>\n",
       "<circle clip-path=\"url(#clip2502)\" style=\"fill:#000000; stroke:none; fill-opacity:1\" cx=\"831.977\" cy=\"543.78\" r=\"12\"/>\n",
       "<circle clip-path=\"url(#clip2502)\" style=\"fill:#000000; stroke:none; fill-opacity:1\" cx=\"831.977\" cy=\"543.78\" r=\"9\"/>\n",
       "<circle clip-path=\"url(#clip2502)\" style=\"fill:#000000; stroke:none; fill-opacity:1\" cx=\"633.219\" cy=\"1466.46\" r=\"12\"/>\n",
       "<circle clip-path=\"url(#clip2502)\" style=\"fill:#000000; stroke:none; fill-opacity:1\" cx=\"633.219\" cy=\"1466.46\" r=\"9\"/>\n",
       "<circle clip-path=\"url(#clip2502)\" style=\"fill:#000000; stroke:none; fill-opacity:1\" cx=\"1416.05\" cy=\"174.146\" r=\"12\"/>\n",
       "<circle clip-path=\"url(#clip2502)\" style=\"fill:#000000; stroke:none; fill-opacity:1\" cx=\"1416.05\" cy=\"174.146\" r=\"9\"/>\n",
       "<circle clip-path=\"url(#clip2502)\" style=\"fill:#000000; stroke:none; fill-opacity:1\" cx=\"592.447\" cy=\"1000.47\" r=\"12\"/>\n",
       "<circle clip-path=\"url(#clip2502)\" style=\"fill:#000000; stroke:none; fill-opacity:1\" cx=\"592.447\" cy=\"1000.47\" r=\"9\"/>\n",
       "<circle clip-path=\"url(#clip2502)\" style=\"fill:#000000; stroke:none; fill-opacity:1\" cx=\"907.104\" cy=\"407.079\" r=\"12\"/>\n",
       "<circle clip-path=\"url(#clip2502)\" style=\"fill:#000000; stroke:none; fill-opacity:1\" cx=\"907.104\" cy=\"407.079\" r=\"9\"/>\n",
       "<circle clip-path=\"url(#clip2502)\" style=\"fill:#000000; stroke:none; fill-opacity:1\" cx=\"1111.51\" cy=\"1146.24\" r=\"12\"/>\n",
       "<circle clip-path=\"url(#clip2502)\" style=\"fill:#000000; stroke:none; fill-opacity:1\" cx=\"1111.51\" cy=\"1146.24\" r=\"9\"/>\n",
       "<circle clip-path=\"url(#clip2502)\" style=\"fill:#000000; stroke:none; fill-opacity:1\" cx=\"624.676\" cy=\"572.284\" r=\"12\"/>\n",
       "<circle clip-path=\"url(#clip2502)\" style=\"fill:#000000; stroke:none; fill-opacity:1\" cx=\"624.676\" cy=\"572.284\" r=\"9\"/>\n",
       "<circle clip-path=\"url(#clip2502)\" style=\"fill:#000000; stroke:none; fill-opacity:1\" cx=\"1940.23\" cy=\"1068.78\" r=\"12\"/>\n",
       "<circle clip-path=\"url(#clip2502)\" style=\"fill:#000000; stroke:none; fill-opacity:1\" cx=\"1940.23\" cy=\"1068.78\" r=\"9\"/>\n",
       "<circle clip-path=\"url(#clip2502)\" style=\"fill:#000000; stroke:none; fill-opacity:1\" cx=\"736.475\" cy=\"766.886\" r=\"12\"/>\n",
       "<circle clip-path=\"url(#clip2502)\" style=\"fill:#000000; stroke:none; fill-opacity:1\" cx=\"736.475\" cy=\"766.886\" r=\"9\"/>\n",
       "<circle clip-path=\"url(#clip2502)\" style=\"fill:#000000; stroke:none; fill-opacity:1\" cx=\"1164.18\" cy=\"495.323\" r=\"12\"/>\n",
       "<circle clip-path=\"url(#clip2502)\" style=\"fill:#000000; stroke:none; fill-opacity:1\" cx=\"1164.18\" cy=\"495.323\" r=\"9\"/>\n",
       "<circle clip-path=\"url(#clip2502)\" style=\"fill:#000000; stroke:none; fill-opacity:1\" cx=\"1113.59\" cy=\"727.486\" r=\"12\"/>\n",
       "<circle clip-path=\"url(#clip2502)\" style=\"fill:#000000; stroke:none; fill-opacity:1\" cx=\"1113.59\" cy=\"727.486\" r=\"9\"/>\n",
       "<circle clip-path=\"url(#clip2502)\" style=\"fill:#000000; stroke:none; fill-opacity:1\" cx=\"1875.25\" cy=\"931.684\" r=\"12\"/>\n",
       "<circle clip-path=\"url(#clip2502)\" style=\"fill:#000000; stroke:none; fill-opacity:1\" cx=\"1875.25\" cy=\"931.684\" r=\"9\"/>\n",
       "<circle clip-path=\"url(#clip2502)\" style=\"fill:#000000; stroke:none; fill-opacity:1\" cx=\"1635.03\" cy=\"1264.99\" r=\"12\"/>\n",
       "<circle clip-path=\"url(#clip2502)\" style=\"fill:#000000; stroke:none; fill-opacity:1\" cx=\"1635.03\" cy=\"1264.99\" r=\"9\"/>\n",
       "<circle clip-path=\"url(#clip2502)\" style=\"fill:#000000; stroke:none; fill-opacity:1\" cx=\"1811.04\" cy=\"113.141\" r=\"12\"/>\n",
       "<circle clip-path=\"url(#clip2502)\" style=\"fill:#000000; stroke:none; fill-opacity:1\" cx=\"1811.04\" cy=\"113.141\" r=\"9\"/>\n",
       "<circle clip-path=\"url(#clip2502)\" style=\"fill:#000000; stroke:none; fill-opacity:1\" cx=\"759.738\" cy=\"513.371\" r=\"12\"/>\n",
       "<circle clip-path=\"url(#clip2502)\" style=\"fill:#000000; stroke:none; fill-opacity:1\" cx=\"759.738\" cy=\"513.371\" r=\"9\"/>\n",
       "<circle clip-path=\"url(#clip2502)\" style=\"fill:#000000; stroke:none; fill-opacity:1\" cx=\"1219.6\" cy=\"1035.93\" r=\"12\"/>\n",
       "<circle clip-path=\"url(#clip2502)\" style=\"fill:#000000; stroke:none; fill-opacity:1\" cx=\"1219.6\" cy=\"1035.93\" r=\"9\"/>\n",
       "<circle clip-path=\"url(#clip2502)\" style=\"fill:#000000; stroke:none; fill-opacity:1\" cx=\"1979.68\" cy=\"325.55\" r=\"12\"/>\n",
       "<circle clip-path=\"url(#clip2502)\" style=\"fill:#000000; stroke:none; fill-opacity:1\" cx=\"1979.68\" cy=\"325.55\" r=\"9\"/>\n",
       "<circle clip-path=\"url(#clip2502)\" style=\"fill:#000000; stroke:none; fill-opacity:1\" cx=\"675.433\" cy=\"560.462\" r=\"12\"/>\n",
       "<circle clip-path=\"url(#clip2502)\" style=\"fill:#000000; stroke:none; fill-opacity:1\" cx=\"675.433\" cy=\"560.462\" r=\"9\"/>\n",
       "<circle clip-path=\"url(#clip2502)\" style=\"fill:#000000; stroke:none; fill-opacity:1\" cx=\"1906\" cy=\"590.851\" r=\"12\"/>\n",
       "<circle clip-path=\"url(#clip2502)\" style=\"fill:#000000; stroke:none; fill-opacity:1\" cx=\"1906\" cy=\"590.851\" r=\"9\"/>\n",
       "<circle clip-path=\"url(#clip2502)\" style=\"fill:#000000; stroke:none; fill-opacity:1\" cx=\"1101.04\" cy=\"785.348\" r=\"12\"/>\n",
       "<circle clip-path=\"url(#clip2502)\" style=\"fill:#000000; stroke:none; fill-opacity:1\" cx=\"1101.04\" cy=\"785.348\" r=\"9\"/>\n",
       "<circle clip-path=\"url(#clip2502)\" style=\"fill:#000000; stroke:none; fill-opacity:1\" cx=\"1825.41\" cy=\"583.674\" r=\"12\"/>\n",
       "<circle clip-path=\"url(#clip2502)\" style=\"fill:#000000; stroke:none; fill-opacity:1\" cx=\"1825.41\" cy=\"583.674\" r=\"9\"/>\n",
       "<circle clip-path=\"url(#clip2502)\" style=\"fill:#000000; stroke:none; fill-opacity:1\" cx=\"1202.61\" cy=\"1310.42\" r=\"12\"/>\n",
       "<circle clip-path=\"url(#clip2502)\" style=\"fill:#000000; stroke:none; fill-opacity:1\" cx=\"1202.61\" cy=\"1310.42\" r=\"9\"/>\n",
       "<circle clip-path=\"url(#clip2502)\" style=\"fill:#000000; stroke:none; fill-opacity:1\" cx=\"1480.43\" cy=\"582.201\" r=\"12\"/>\n",
       "<circle clip-path=\"url(#clip2502)\" style=\"fill:#000000; stroke:none; fill-opacity:1\" cx=\"1480.43\" cy=\"582.201\" r=\"9\"/>\n",
       "<circle clip-path=\"url(#clip2502)\" style=\"fill:#000000; stroke:none; fill-opacity:1\" cx=\"1794.8\" cy=\"1396.57\" r=\"12\"/>\n",
       "<circle clip-path=\"url(#clip2502)\" style=\"fill:#000000; stroke:none; fill-opacity:1\" cx=\"1794.8\" cy=\"1396.57\" r=\"9\"/>\n",
       "<circle clip-path=\"url(#clip2502)\" style=\"fill:#000000; stroke:none; fill-opacity:1\" cx=\"1969.33\" cy=\"1315.35\" r=\"12\"/>\n",
       "<circle clip-path=\"url(#clip2502)\" style=\"fill:#000000; stroke:none; fill-opacity:1\" cx=\"1969.33\" cy=\"1315.35\" r=\"9\"/>\n",
       "<circle clip-path=\"url(#clip2502)\" style=\"fill:#000000; stroke:none; fill-opacity:1\" cx=\"1290.27\" cy=\"630.531\" r=\"12\"/>\n",
       "<circle clip-path=\"url(#clip2502)\" style=\"fill:#000000; stroke:none; fill-opacity:1\" cx=\"1290.27\" cy=\"630.531\" r=\"9\"/>\n",
       "<circle clip-path=\"url(#clip2502)\" style=\"fill:#000000; stroke:none; fill-opacity:1\" cx=\"1194.29\" cy=\"216.917\" r=\"12\"/>\n",
       "<circle clip-path=\"url(#clip2502)\" style=\"fill:#000000; stroke:none; fill-opacity:1\" cx=\"1194.29\" cy=\"216.917\" r=\"9\"/>\n",
       "<circle clip-path=\"url(#clip2502)\" style=\"fill:#000000; stroke:none; fill-opacity:1\" cx=\"1101.58\" cy=\"502.276\" r=\"12\"/>\n",
       "<circle clip-path=\"url(#clip2502)\" style=\"fill:#000000; stroke:none; fill-opacity:1\" cx=\"1101.58\" cy=\"502.276\" r=\"9\"/>\n",
       "<circle clip-path=\"url(#clip2502)\" style=\"fill:#000000; stroke:none; fill-opacity:1\" cx=\"1165.36\" cy=\"1097.05\" r=\"12\"/>\n",
       "<circle clip-path=\"url(#clip2502)\" style=\"fill:#000000; stroke:none; fill-opacity:1\" cx=\"1165.36\" cy=\"1097.05\" r=\"9\"/>\n",
       "<circle clip-path=\"url(#clip2502)\" style=\"fill:#000000; stroke:none; fill-opacity:1\" cx=\"556.809\" cy=\"119.964\" r=\"12\"/>\n",
       "<circle clip-path=\"url(#clip2502)\" style=\"fill:#000000; stroke:none; fill-opacity:1\" cx=\"556.809\" cy=\"119.964\" r=\"9\"/>\n",
       "<circle clip-path=\"url(#clip2502)\" style=\"fill:#000000; stroke:none; fill-opacity:1\" cx=\"1671.23\" cy=\"677.521\" r=\"12\"/>\n",
       "<circle clip-path=\"url(#clip2502)\" style=\"fill:#000000; stroke:none; fill-opacity:1\" cx=\"1671.23\" cy=\"677.521\" r=\"9\"/>\n",
       "<circle clip-path=\"url(#clip2502)\" style=\"fill:#000000; stroke:none; fill-opacity:1\" cx=\"699.947\" cy=\"613.672\" r=\"12\"/>\n",
       "<circle clip-path=\"url(#clip2502)\" style=\"fill:#000000; stroke:none; fill-opacity:1\" cx=\"699.947\" cy=\"613.672\" r=\"9\"/>\n",
       "<circle clip-path=\"url(#clip2502)\" style=\"fill:#000000; stroke:none; fill-opacity:1\" cx=\"1490.69\" cy=\"1468.39\" r=\"12\"/>\n",
       "<circle clip-path=\"url(#clip2502)\" style=\"fill:#000000; stroke:none; fill-opacity:1\" cx=\"1490.69\" cy=\"1468.39\" r=\"9\"/>\n",
       "<circle clip-path=\"url(#clip2502)\" style=\"fill:#000000; stroke:none; fill-opacity:1\" cx=\"1740.72\" cy=\"1422.06\" r=\"12\"/>\n",
       "<circle clip-path=\"url(#clip2502)\" style=\"fill:#000000; stroke:none; fill-opacity:1\" cx=\"1740.72\" cy=\"1422.06\" r=\"9\"/>\n",
       "<circle clip-path=\"url(#clip2502)\" style=\"fill:#000000; stroke:none; fill-opacity:1\" cx=\"1164.63\" cy=\"1310.97\" r=\"12\"/>\n",
       "<circle clip-path=\"url(#clip2502)\" style=\"fill:#000000; stroke:none; fill-opacity:1\" cx=\"1164.63\" cy=\"1310.97\" r=\"9\"/>\n",
       "<circle clip-path=\"url(#clip2502)\" style=\"fill:#000000; stroke:none; fill-opacity:1\" cx=\"1291.26\" cy=\"1167.23\" r=\"12\"/>\n",
       "<circle clip-path=\"url(#clip2502)\" style=\"fill:#000000; stroke:none; fill-opacity:1\" cx=\"1291.26\" cy=\"1167.23\" r=\"9\"/>\n",
       "<circle clip-path=\"url(#clip2502)\" style=\"fill:#000000; stroke:none; fill-opacity:1\" cx=\"1866.92\" cy=\"976.596\" r=\"12\"/>\n",
       "<circle clip-path=\"url(#clip2502)\" style=\"fill:#000000; stroke:none; fill-opacity:1\" cx=\"1866.92\" cy=\"976.596\" r=\"9\"/>\n",
       "<circle clip-path=\"url(#clip2502)\" style=\"fill:#000000; stroke:none; fill-opacity:1\" cx=\"815.502\" cy=\"1090.32\" r=\"12\"/>\n",
       "<circle clip-path=\"url(#clip2502)\" style=\"fill:#000000; stroke:none; fill-opacity:1\" cx=\"815.502\" cy=\"1090.32\" r=\"9\"/>\n",
       "<circle clip-path=\"url(#clip2502)\" style=\"fill:#000000; stroke:none; fill-opacity:1\" cx=\"1355.47\" cy=\"183.099\" r=\"12\"/>\n",
       "<circle clip-path=\"url(#clip2502)\" style=\"fill:#000000; stroke:none; fill-opacity:1\" cx=\"1355.47\" cy=\"183.099\" r=\"9\"/>\n",
       "<circle clip-path=\"url(#clip2502)\" style=\"fill:#000000; stroke:none; fill-opacity:1\" cx=\"1631.98\" cy=\"1216.2\" r=\"12\"/>\n",
       "<circle clip-path=\"url(#clip2502)\" style=\"fill:#000000; stroke:none; fill-opacity:1\" cx=\"1631.98\" cy=\"1216.2\" r=\"9\"/>\n",
       "<circle clip-path=\"url(#clip2502)\" style=\"fill:#000000; stroke:none; fill-opacity:1\" cx=\"1623.41\" cy=\"419.272\" r=\"12\"/>\n",
       "<circle clip-path=\"url(#clip2502)\" style=\"fill:#000000; stroke:none; fill-opacity:1\" cx=\"1623.41\" cy=\"419.272\" r=\"9\"/>\n",
       "<circle clip-path=\"url(#clip2502)\" style=\"fill:#000000; stroke:none; fill-opacity:1\" cx=\"1382.44\" cy=\"1157.36\" r=\"12\"/>\n",
       "<circle clip-path=\"url(#clip2502)\" style=\"fill:#000000; stroke:none; fill-opacity:1\" cx=\"1382.44\" cy=\"1157.36\" r=\"9\"/>\n",
       "<circle clip-path=\"url(#clip2502)\" style=\"fill:#000000; stroke:none; fill-opacity:1\" cx=\"805.133\" cy=\"1373.66\" r=\"12\"/>\n",
       "<circle clip-path=\"url(#clip2502)\" style=\"fill:#000000; stroke:none; fill-opacity:1\" cx=\"805.133\" cy=\"1373.66\" r=\"9\"/>\n",
       "<circle clip-path=\"url(#clip2502)\" style=\"fill:#000000; stroke:none; fill-opacity:1\" cx=\"1930.96\" cy=\"163.592\" r=\"12\"/>\n",
       "<circle clip-path=\"url(#clip2502)\" style=\"fill:#000000; stroke:none; fill-opacity:1\" cx=\"1930.96\" cy=\"163.592\" r=\"9\"/>\n",
       "<circle clip-path=\"url(#clip2502)\" style=\"fill:#000000; stroke:none; fill-opacity:1\" cx=\"1246.83\" cy=\"79.7038\" r=\"12\"/>\n",
       "<circle clip-path=\"url(#clip2502)\" style=\"fill:#000000; stroke:none; fill-opacity:1\" cx=\"1246.83\" cy=\"79.7038\" r=\"9\"/>\n",
       "<circle clip-path=\"url(#clip2502)\" style=\"fill:#000000; stroke:none; fill-opacity:1\" cx=\"618.356\" cy=\"148.833\" r=\"12\"/>\n",
       "<circle clip-path=\"url(#clip2502)\" style=\"fill:#000000; stroke:none; fill-opacity:1\" cx=\"618.356\" cy=\"148.833\" r=\"9\"/>\n",
       "<circle clip-path=\"url(#clip2502)\" style=\"fill:#000000; stroke:none; fill-opacity:1\" cx=\"1907.67\" cy=\"90.9047\" r=\"12\"/>\n",
       "<circle clip-path=\"url(#clip2502)\" style=\"fill:#000000; stroke:none; fill-opacity:1\" cx=\"1907.67\" cy=\"90.9047\" r=\"9\"/>\n",
       "<circle clip-path=\"url(#clip2502)\" style=\"fill:#000000; stroke:none; fill-opacity:1\" cx=\"562.461\" cy=\"1290.43\" r=\"12\"/>\n",
       "<circle clip-path=\"url(#clip2502)\" style=\"fill:#000000; stroke:none; fill-opacity:1\" cx=\"562.461\" cy=\"1290.43\" r=\"9\"/>\n",
       "<circle clip-path=\"url(#clip2502)\" style=\"fill:#000000; stroke:none; fill-opacity:1\" cx=\"1141.58\" cy=\"289.431\" r=\"12\"/>\n",
       "<circle clip-path=\"url(#clip2502)\" style=\"fill:#000000; stroke:none; fill-opacity:1\" cx=\"1141.58\" cy=\"289.431\" r=\"9\"/>\n",
       "<circle clip-path=\"url(#clip2502)\" style=\"fill:#000000; stroke:none; fill-opacity:1\" cx=\"1919.55\" cy=\"779.743\" r=\"12\"/>\n",
       "<circle clip-path=\"url(#clip2502)\" style=\"fill:#000000; stroke:none; fill-opacity:1\" cx=\"1919.55\" cy=\"779.743\" r=\"9\"/>\n",
       "<circle clip-path=\"url(#clip2502)\" style=\"fill:#000000; stroke:none; fill-opacity:1\" cx=\"863.323\" cy=\"128.794\" r=\"12\"/>\n",
       "<circle clip-path=\"url(#clip2502)\" style=\"fill:#000000; stroke:none; fill-opacity:1\" cx=\"863.323\" cy=\"128.794\" r=\"9\"/>\n",
       "<circle clip-path=\"url(#clip2502)\" style=\"fill:#000000; stroke:none; fill-opacity:1\" cx=\"962.844\" cy=\"137.14\" r=\"12\"/>\n",
       "<circle clip-path=\"url(#clip2502)\" style=\"fill:#000000; stroke:none; fill-opacity:1\" cx=\"962.844\" cy=\"137.14\" r=\"9\"/>\n",
       "<circle clip-path=\"url(#clip2502)\" style=\"fill:#000000; stroke:none; fill-opacity:1\" cx=\"1104.21\" cy=\"525.716\" r=\"12\"/>\n",
       "<circle clip-path=\"url(#clip2502)\" style=\"fill:#000000; stroke:none; fill-opacity:1\" cx=\"1104.21\" cy=\"525.716\" r=\"9\"/>\n",
       "<circle clip-path=\"url(#clip2502)\" style=\"fill:#000000; stroke:none; fill-opacity:1\" cx=\"1406.82\" cy=\"412.721\" r=\"12\"/>\n",
       "<circle clip-path=\"url(#clip2502)\" style=\"fill:#000000; stroke:none; fill-opacity:1\" cx=\"1406.82\" cy=\"412.721\" r=\"9\"/>\n",
       "<circle clip-path=\"url(#clip2502)\" style=\"fill:#000000; stroke:none; fill-opacity:1\" cx=\"1742.67\" cy=\"507.464\" r=\"12\"/>\n",
       "<circle clip-path=\"url(#clip2502)\" style=\"fill:#000000; stroke:none; fill-opacity:1\" cx=\"1742.67\" cy=\"507.464\" r=\"9\"/>\n",
       "<circle clip-path=\"url(#clip2502)\" style=\"fill:#000000; stroke:none; fill-opacity:1\" cx=\"1108.28\" cy=\"527.328\" r=\"12\"/>\n",
       "<circle clip-path=\"url(#clip2502)\" style=\"fill:#000000; stroke:none; fill-opacity:1\" cx=\"1108.28\" cy=\"527.328\" r=\"9\"/>\n",
       "<circle clip-path=\"url(#clip2502)\" style=\"fill:#000000; stroke:none; fill-opacity:1\" cx=\"705.723\" cy=\"1455.56\" r=\"12\"/>\n",
       "<circle clip-path=\"url(#clip2502)\" style=\"fill:#000000; stroke:none; fill-opacity:1\" cx=\"705.723\" cy=\"1455.56\" r=\"9\"/>\n",
       "<circle clip-path=\"url(#clip2502)\" style=\"fill:#000000; stroke:none; fill-opacity:1\" cx=\"1231.28\" cy=\"121.627\" r=\"12\"/>\n",
       "<circle clip-path=\"url(#clip2502)\" style=\"fill:#000000; stroke:none; fill-opacity:1\" cx=\"1231.28\" cy=\"121.627\" r=\"9\"/>\n",
       "<circle clip-path=\"url(#clip2502)\" style=\"fill:#000000; stroke:none; fill-opacity:1\" cx=\"947.694\" cy=\"1377.72\" r=\"12\"/>\n",
       "<circle clip-path=\"url(#clip2502)\" style=\"fill:#000000; stroke:none; fill-opacity:1\" cx=\"947.694\" cy=\"1377.72\" r=\"9\"/>\n",
       "<circle clip-path=\"url(#clip2502)\" style=\"fill:#000000; stroke:none; fill-opacity:1\" cx=\"1705.76\" cy=\"1479.27\" r=\"12\"/>\n",
       "<circle clip-path=\"url(#clip2502)\" style=\"fill:#000000; stroke:none; fill-opacity:1\" cx=\"1705.76\" cy=\"1479.27\" r=\"9\"/>\n",
       "<circle clip-path=\"url(#clip2502)\" style=\"fill:#000000; stroke:none; fill-opacity:1\" cx=\"954.512\" cy=\"1378.99\" r=\"12\"/>\n",
       "<circle clip-path=\"url(#clip2502)\" style=\"fill:#000000; stroke:none; fill-opacity:1\" cx=\"954.512\" cy=\"1378.99\" r=\"9\"/>\n",
       "<circle clip-path=\"url(#clip2502)\" style=\"fill:#000000; stroke:none; fill-opacity:1\" cx=\"1769.11\" cy=\"278.725\" r=\"12\"/>\n",
       "<circle clip-path=\"url(#clip2502)\" style=\"fill:#000000; stroke:none; fill-opacity:1\" cx=\"1769.11\" cy=\"278.725\" r=\"9\"/>\n",
       "<circle clip-path=\"url(#clip2502)\" style=\"fill:#000000; stroke:none; fill-opacity:1\" cx=\"1208.5\" cy=\"1032.89\" r=\"12\"/>\n",
       "<circle clip-path=\"url(#clip2502)\" style=\"fill:#000000; stroke:none; fill-opacity:1\" cx=\"1208.5\" cy=\"1032.89\" r=\"9\"/>\n",
       "<circle clip-path=\"url(#clip2502)\" style=\"fill:#000000; stroke:none; fill-opacity:1\" cx=\"1894.55\" cy=\"1161.37\" r=\"12\"/>\n",
       "<circle clip-path=\"url(#clip2502)\" style=\"fill:#000000; stroke:none; fill-opacity:1\" cx=\"1894.55\" cy=\"1161.37\" r=\"9\"/>\n",
       "<circle clip-path=\"url(#clip2502)\" style=\"fill:#000000; stroke:none; fill-opacity:1\" cx=\"1256.41\" cy=\"1434.52\" r=\"12\"/>\n",
       "<circle clip-path=\"url(#clip2502)\" style=\"fill:#000000; stroke:none; fill-opacity:1\" cx=\"1256.41\" cy=\"1434.52\" r=\"9\"/>\n",
       "<circle clip-path=\"url(#clip2502)\" style=\"fill:#000000; stroke:none; fill-opacity:1\" cx=\"1699.74\" cy=\"723.942\" r=\"12\"/>\n",
       "<circle clip-path=\"url(#clip2502)\" style=\"fill:#000000; stroke:none; fill-opacity:1\" cx=\"1699.74\" cy=\"723.942\" r=\"9\"/>\n",
       "<circle clip-path=\"url(#clip2502)\" style=\"fill:#000000; stroke:none; fill-opacity:1\" cx=\"814.826\" cy=\"1102.45\" r=\"12\"/>\n",
       "<circle clip-path=\"url(#clip2502)\" style=\"fill:#000000; stroke:none; fill-opacity:1\" cx=\"814.826\" cy=\"1102.45\" r=\"9\"/>\n",
       "<circle clip-path=\"url(#clip2502)\" style=\"fill:#000000; stroke:none; fill-opacity:1\" cx=\"1682.98\" cy=\"497.771\" r=\"12\"/>\n",
       "<circle clip-path=\"url(#clip2502)\" style=\"fill:#000000; stroke:none; fill-opacity:1\" cx=\"1682.98\" cy=\"497.771\" r=\"9\"/>\n",
       "<circle clip-path=\"url(#clip2502)\" style=\"fill:#000000; stroke:none; fill-opacity:1\" cx=\"889.604\" cy=\"58.4985\" r=\"12\"/>\n",
       "<circle clip-path=\"url(#clip2502)\" style=\"fill:#000000; stroke:none; fill-opacity:1\" cx=\"889.604\" cy=\"58.4985\" r=\"9\"/>\n",
       "<circle clip-path=\"url(#clip2502)\" style=\"fill:#000000; stroke:none; fill-opacity:1\" cx=\"1734\" cy=\"388.029\" r=\"12\"/>\n",
       "<circle clip-path=\"url(#clip2502)\" style=\"fill:#000000; stroke:none; fill-opacity:1\" cx=\"1734\" cy=\"388.029\" r=\"9\"/>\n",
       "<circle clip-path=\"url(#clip2502)\" style=\"fill:#000000; stroke:none; fill-opacity:1\" cx=\"1419.66\" cy=\"286.967\" r=\"12\"/>\n",
       "<circle clip-path=\"url(#clip2502)\" style=\"fill:#000000; stroke:none; fill-opacity:1\" cx=\"1419.66\" cy=\"286.967\" r=\"9\"/>\n",
       "<circle clip-path=\"url(#clip2502)\" style=\"fill:#000000; stroke:none; fill-opacity:1\" cx=\"752.876\" cy=\"124.879\" r=\"12\"/>\n",
       "<circle clip-path=\"url(#clip2502)\" style=\"fill:#000000; stroke:none; fill-opacity:1\" cx=\"752.876\" cy=\"124.879\" r=\"9\"/>\n",
       "<circle clip-path=\"url(#clip2502)\" style=\"fill:#000000; stroke:none; fill-opacity:1\" cx=\"1303.7\" cy=\"289.32\" r=\"12\"/>\n",
       "<circle clip-path=\"url(#clip2502)\" style=\"fill:#000000; stroke:none; fill-opacity:1\" cx=\"1303.7\" cy=\"289.32\" r=\"9\"/>\n",
       "<circle clip-path=\"url(#clip2502)\" style=\"fill:#000000; stroke:none; fill-opacity:1\" cx=\"818.865\" cy=\"658.999\" r=\"12\"/>\n",
       "<circle clip-path=\"url(#clip2502)\" style=\"fill:#000000; stroke:none; fill-opacity:1\" cx=\"818.865\" cy=\"658.999\" r=\"9\"/>\n",
       "<circle clip-path=\"url(#clip2502)\" style=\"fill:#000000; stroke:none; fill-opacity:1\" cx=\"732.226\" cy=\"727.012\" r=\"12\"/>\n",
       "<circle clip-path=\"url(#clip2502)\" style=\"fill:#000000; stroke:none; fill-opacity:1\" cx=\"732.226\" cy=\"727.012\" r=\"9\"/>\n",
       "<circle clip-path=\"url(#clip2502)\" style=\"fill:#000000; stroke:none; fill-opacity:1\" cx=\"1550.5\" cy=\"1026.73\" r=\"12\"/>\n",
       "<circle clip-path=\"url(#clip2502)\" style=\"fill:#000000; stroke:none; fill-opacity:1\" cx=\"1550.5\" cy=\"1026.73\" r=\"9\"/>\n",
       "<circle clip-path=\"url(#clip2502)\" style=\"fill:#000000; stroke:none; fill-opacity:1\" cx=\"1836.09\" cy=\"386.262\" r=\"12\"/>\n",
       "<circle clip-path=\"url(#clip2502)\" style=\"fill:#000000; stroke:none; fill-opacity:1\" cx=\"1836.09\" cy=\"386.262\" r=\"9\"/>\n",
       "<circle clip-path=\"url(#clip2502)\" style=\"fill:#000000; stroke:none; fill-opacity:1\" cx=\"1984.91\" cy=\"1253.37\" r=\"12\"/>\n",
       "<circle clip-path=\"url(#clip2502)\" style=\"fill:#000000; stroke:none; fill-opacity:1\" cx=\"1984.91\" cy=\"1253.37\" r=\"9\"/>\n",
       "<circle clip-path=\"url(#clip2502)\" style=\"fill:#000000; stroke:none; fill-opacity:1\" cx=\"1569.26\" cy=\"425.84\" r=\"12\"/>\n",
       "<circle clip-path=\"url(#clip2502)\" style=\"fill:#000000; stroke:none; fill-opacity:1\" cx=\"1569.26\" cy=\"425.84\" r=\"9\"/>\n",
       "<circle clip-path=\"url(#clip2502)\" style=\"fill:#000000; stroke:none; fill-opacity:1\" cx=\"1958.17\" cy=\"312.844\" r=\"12\"/>\n",
       "<circle clip-path=\"url(#clip2502)\" style=\"fill:#000000; stroke:none; fill-opacity:1\" cx=\"1958.17\" cy=\"312.844\" r=\"9\"/>\n",
       "<circle clip-path=\"url(#clip2502)\" style=\"fill:#000000; stroke:none; fill-opacity:1\" cx=\"857.23\" cy=\"1303.82\" r=\"12\"/>\n",
       "<circle clip-path=\"url(#clip2502)\" style=\"fill:#000000; stroke:none; fill-opacity:1\" cx=\"857.23\" cy=\"1303.82\" r=\"9\"/>\n",
       "<circle clip-path=\"url(#clip2502)\" style=\"fill:#000000; stroke:none; fill-opacity:1\" cx=\"1290.89\" cy=\"648.457\" r=\"12\"/>\n",
       "<circle clip-path=\"url(#clip2502)\" style=\"fill:#000000; stroke:none; fill-opacity:1\" cx=\"1290.89\" cy=\"648.457\" r=\"9\"/>\n",
       "<circle clip-path=\"url(#clip2502)\" style=\"fill:#000000; stroke:none; fill-opacity:1\" cx=\"580.434\" cy=\"1376.37\" r=\"12\"/>\n",
       "<circle clip-path=\"url(#clip2502)\" style=\"fill:#000000; stroke:none; fill-opacity:1\" cx=\"580.434\" cy=\"1376.37\" r=\"9\"/>\n",
       "<circle clip-path=\"url(#clip2502)\" style=\"fill:#000000; stroke:none; fill-opacity:1\" cx=\"1914.83\" cy=\"1387.58\" r=\"12\"/>\n",
       "<circle clip-path=\"url(#clip2502)\" style=\"fill:#000000; stroke:none; fill-opacity:1\" cx=\"1914.83\" cy=\"1387.58\" r=\"9\"/>\n",
       "<circle clip-path=\"url(#clip2502)\" style=\"fill:#000000; stroke:none; fill-opacity:1\" cx=\"868.137\" cy=\"303.371\" r=\"12\"/>\n",
       "<circle clip-path=\"url(#clip2502)\" style=\"fill:#000000; stroke:none; fill-opacity:1\" cx=\"868.137\" cy=\"303.371\" r=\"9\"/>\n",
       "<circle clip-path=\"url(#clip2502)\" style=\"fill:#000000; stroke:none; fill-opacity:1\" cx=\"864.15\" cy=\"971.063\" r=\"12\"/>\n",
       "<circle clip-path=\"url(#clip2502)\" style=\"fill:#000000; stroke:none; fill-opacity:1\" cx=\"864.15\" cy=\"971.063\" r=\"9\"/>\n",
       "<circle clip-path=\"url(#clip2502)\" style=\"fill:#000000; stroke:none; fill-opacity:1\" cx=\"1361.99\" cy=\"808.551\" r=\"12\"/>\n",
       "<circle clip-path=\"url(#clip2502)\" style=\"fill:#000000; stroke:none; fill-opacity:1\" cx=\"1361.99\" cy=\"808.551\" r=\"9\"/>\n",
       "<circle clip-path=\"url(#clip2502)\" style=\"fill:#000000; stroke:none; fill-opacity:1\" cx=\"1591.65\" cy=\"1140.35\" r=\"12\"/>\n",
       "<circle clip-path=\"url(#clip2502)\" style=\"fill:#000000; stroke:none; fill-opacity:1\" cx=\"1591.65\" cy=\"1140.35\" r=\"9\"/>\n",
       "<circle clip-path=\"url(#clip2502)\" style=\"fill:#000000; stroke:none; fill-opacity:1\" cx=\"812.766\" cy=\"905.006\" r=\"12\"/>\n",
       "<circle clip-path=\"url(#clip2502)\" style=\"fill:#000000; stroke:none; fill-opacity:1\" cx=\"812.766\" cy=\"905.006\" r=\"9\"/>\n",
       "<circle clip-path=\"url(#clip2502)\" style=\"fill:#000000; stroke:none; fill-opacity:1\" cx=\"949.235\" cy=\"1316.5\" r=\"12\"/>\n",
       "<circle clip-path=\"url(#clip2502)\" style=\"fill:#000000; stroke:none; fill-opacity:1\" cx=\"949.235\" cy=\"1316.5\" r=\"9\"/>\n",
       "<circle clip-path=\"url(#clip2502)\" style=\"fill:#000000; stroke:none; fill-opacity:1\" cx=\"1526.16\" cy=\"522.758\" r=\"12\"/>\n",
       "<circle clip-path=\"url(#clip2502)\" style=\"fill:#000000; stroke:none; fill-opacity:1\" cx=\"1526.16\" cy=\"522.758\" r=\"9\"/>\n",
       "<circle clip-path=\"url(#clip2502)\" style=\"fill:#000000; stroke:none; fill-opacity:1\" cx=\"817.961\" cy=\"1090.92\" r=\"12\"/>\n",
       "<circle clip-path=\"url(#clip2502)\" style=\"fill:#000000; stroke:none; fill-opacity:1\" cx=\"817.961\" cy=\"1090.92\" r=\"9\"/>\n",
       "<circle clip-path=\"url(#clip2502)\" style=\"fill:#000000; stroke:none; fill-opacity:1\" cx=\"1404.42\" cy=\"414.762\" r=\"12\"/>\n",
       "<circle clip-path=\"url(#clip2502)\" style=\"fill:#000000; stroke:none; fill-opacity:1\" cx=\"1404.42\" cy=\"414.762\" r=\"9\"/>\n",
       "<circle clip-path=\"url(#clip2502)\" style=\"fill:#000000; stroke:none; fill-opacity:1\" cx=\"1971.76\" cy=\"1150.82\" r=\"12\"/>\n",
       "<circle clip-path=\"url(#clip2502)\" style=\"fill:#000000; stroke:none; fill-opacity:1\" cx=\"1971.76\" cy=\"1150.82\" r=\"9\"/>\n",
       "<circle clip-path=\"url(#clip2502)\" style=\"fill:#000000; stroke:none; fill-opacity:1\" cx=\"1654.48\" cy=\"768.497\" r=\"12\"/>\n",
       "<circle clip-path=\"url(#clip2502)\" style=\"fill:#000000; stroke:none; fill-opacity:1\" cx=\"1654.48\" cy=\"768.497\" r=\"9\"/>\n",
       "<circle clip-path=\"url(#clip2502)\" style=\"fill:#000000; stroke:none; fill-opacity:1\" cx=\"650.482\" cy=\"1356.63\" r=\"12\"/>\n",
       "<circle clip-path=\"url(#clip2502)\" style=\"fill:#000000; stroke:none; fill-opacity:1\" cx=\"650.482\" cy=\"1356.63\" r=\"9\"/>\n",
       "<circle clip-path=\"url(#clip2502)\" style=\"fill:#000000; stroke:none; fill-opacity:1\" cx=\"1698.28\" cy=\"1486.33\" r=\"12\"/>\n",
       "<circle clip-path=\"url(#clip2502)\" style=\"fill:#000000; stroke:none; fill-opacity:1\" cx=\"1698.28\" cy=\"1486.33\" r=\"9\"/>\n",
       "<circle clip-path=\"url(#clip2502)\" style=\"fill:#000000; stroke:none; fill-opacity:1\" cx=\"1429.3\" cy=\"365.15\" r=\"12\"/>\n",
       "<circle clip-path=\"url(#clip2502)\" style=\"fill:#000000; stroke:none; fill-opacity:1\" cx=\"1429.3\" cy=\"365.15\" r=\"9\"/>\n",
       "<circle clip-path=\"url(#clip2502)\" style=\"fill:#000000; stroke:none; fill-opacity:1\" cx=\"1677.51\" cy=\"1484.15\" r=\"12\"/>\n",
       "<circle clip-path=\"url(#clip2502)\" style=\"fill:#000000; stroke:none; fill-opacity:1\" cx=\"1677.51\" cy=\"1484.15\" r=\"9\"/>\n",
       "<circle clip-path=\"url(#clip2502)\" style=\"fill:#000000; stroke:none; fill-opacity:1\" cx=\"1431.66\" cy=\"602.6\" r=\"12\"/>\n",
       "<circle clip-path=\"url(#clip2502)\" style=\"fill:#000000; stroke:none; fill-opacity:1\" cx=\"1431.66\" cy=\"602.6\" r=\"9\"/>\n",
       "<circle clip-path=\"url(#clip2502)\" style=\"fill:#000000; stroke:none; fill-opacity:1\" cx=\"1962.29\" cy=\"483.912\" r=\"12\"/>\n",
       "<circle clip-path=\"url(#clip2502)\" style=\"fill:#000000; stroke:none; fill-opacity:1\" cx=\"1962.29\" cy=\"483.912\" r=\"9\"/>\n",
       "<circle clip-path=\"url(#clip2502)\" style=\"fill:#000000; stroke:none; fill-opacity:1\" cx=\"856.199\" cy=\"549.715\" r=\"12\"/>\n",
       "<circle clip-path=\"url(#clip2502)\" style=\"fill:#000000; stroke:none; fill-opacity:1\" cx=\"856.199\" cy=\"549.715\" r=\"9\"/>\n",
       "<circle clip-path=\"url(#clip2502)\" style=\"fill:#000000; stroke:none; fill-opacity:1\" cx=\"838.884\" cy=\"1433.49\" r=\"12\"/>\n",
       "<circle clip-path=\"url(#clip2502)\" style=\"fill:#000000; stroke:none; fill-opacity:1\" cx=\"838.884\" cy=\"1433.49\" r=\"9\"/>\n",
       "<circle clip-path=\"url(#clip2502)\" style=\"fill:#000000; stroke:none; fill-opacity:1\" cx=\"870.347\" cy=\"1462.6\" r=\"12\"/>\n",
       "<circle clip-path=\"url(#clip2502)\" style=\"fill:#000000; stroke:none; fill-opacity:1\" cx=\"870.347\" cy=\"1462.6\" r=\"9\"/>\n",
       "<circle clip-path=\"url(#clip2502)\" style=\"fill:#000000; stroke:none; fill-opacity:1\" cx=\"1516.2\" cy=\"1056.58\" r=\"12\"/>\n",
       "<circle clip-path=\"url(#clip2502)\" style=\"fill:#000000; stroke:none; fill-opacity:1\" cx=\"1516.2\" cy=\"1056.58\" r=\"9\"/>\n",
       "<circle clip-path=\"url(#clip2502)\" style=\"fill:#000000; stroke:none; fill-opacity:1\" cx=\"1317.15\" cy=\"744.36\" r=\"12\"/>\n",
       "<circle clip-path=\"url(#clip2502)\" style=\"fill:#000000; stroke:none; fill-opacity:1\" cx=\"1317.15\" cy=\"744.36\" r=\"9\"/>\n",
       "<circle clip-path=\"url(#clip2502)\" style=\"fill:#000000; stroke:none; fill-opacity:1\" cx=\"731.147\" cy=\"1409.97\" r=\"12\"/>\n",
       "<circle clip-path=\"url(#clip2502)\" style=\"fill:#000000; stroke:none; fill-opacity:1\" cx=\"731.147\" cy=\"1409.97\" r=\"9\"/>\n",
       "<circle clip-path=\"url(#clip2502)\" style=\"fill:#000000; stroke:none; fill-opacity:1\" cx=\"1190.8\" cy=\"48.6961\" r=\"12\"/>\n",
       "<circle clip-path=\"url(#clip2502)\" style=\"fill:#000000; stroke:none; fill-opacity:1\" cx=\"1190.8\" cy=\"48.6961\" r=\"9\"/>\n",
       "<circle clip-path=\"url(#clip2502)\" style=\"fill:#000000; stroke:none; fill-opacity:1\" cx=\"1980.38\" cy=\"489.955\" r=\"12\"/>\n",
       "<circle clip-path=\"url(#clip2502)\" style=\"fill:#000000; stroke:none; fill-opacity:1\" cx=\"1980.38\" cy=\"489.955\" r=\"9\"/>\n",
       "<circle clip-path=\"url(#clip2502)\" style=\"fill:#000000; stroke:none; fill-opacity:1\" cx=\"1659.7\" cy=\"750.498\" r=\"12\"/>\n",
       "<circle clip-path=\"url(#clip2502)\" style=\"fill:#000000; stroke:none; fill-opacity:1\" cx=\"1659.7\" cy=\"750.498\" r=\"9\"/>\n",
       "<circle clip-path=\"url(#clip2502)\" style=\"fill:#000000; stroke:none; fill-opacity:1\" cx=\"1569.29\" cy=\"776.802\" r=\"12\"/>\n",
       "<circle clip-path=\"url(#clip2502)\" style=\"fill:#000000; stroke:none; fill-opacity:1\" cx=\"1569.29\" cy=\"776.802\" r=\"9\"/>\n",
       "<circle clip-path=\"url(#clip2502)\" style=\"fill:#000000; stroke:none; fill-opacity:1\" cx=\"1681.83\" cy=\"581.222\" r=\"12\"/>\n",
       "<circle clip-path=\"url(#clip2502)\" style=\"fill:#000000; stroke:none; fill-opacity:1\" cx=\"1681.83\" cy=\"581.222\" r=\"9\"/>\n",
       "<circle clip-path=\"url(#clip2502)\" style=\"fill:#000000; stroke:none; fill-opacity:1\" cx=\"1754.36\" cy=\"1409.27\" r=\"12\"/>\n",
       "<circle clip-path=\"url(#clip2502)\" style=\"fill:#000000; stroke:none; fill-opacity:1\" cx=\"1754.36\" cy=\"1409.27\" r=\"9\"/>\n",
       "<circle clip-path=\"url(#clip2502)\" style=\"fill:#000000; stroke:none; fill-opacity:1\" cx=\"1073.8\" cy=\"1172.33\" r=\"12\"/>\n",
       "<circle clip-path=\"url(#clip2502)\" style=\"fill:#000000; stroke:none; fill-opacity:1\" cx=\"1073.8\" cy=\"1172.33\" r=\"9\"/>\n",
       "<circle clip-path=\"url(#clip2502)\" style=\"fill:#000000; stroke:none; fill-opacity:1\" cx=\"1140.86\" cy=\"176.355\" r=\"12\"/>\n",
       "<circle clip-path=\"url(#clip2502)\" style=\"fill:#000000; stroke:none; fill-opacity:1\" cx=\"1140.86\" cy=\"176.355\" r=\"9\"/>\n",
       "<circle clip-path=\"url(#clip2502)\" style=\"fill:#000000; stroke:none; fill-opacity:1\" cx=\"1292.69\" cy=\"876.88\" r=\"12\"/>\n",
       "<circle clip-path=\"url(#clip2502)\" style=\"fill:#000000; stroke:none; fill-opacity:1\" cx=\"1292.69\" cy=\"876.88\" r=\"9\"/>\n",
       "<circle clip-path=\"url(#clip2502)\" style=\"fill:#000000; stroke:none; fill-opacity:1\" cx=\"1243.92\" cy=\"66.0811\" r=\"12\"/>\n",
       "<circle clip-path=\"url(#clip2502)\" style=\"fill:#000000; stroke:none; fill-opacity:1\" cx=\"1243.92\" cy=\"66.0811\" r=\"9\"/>\n",
       "<circle clip-path=\"url(#clip2502)\" style=\"fill:#000000; stroke:none; fill-opacity:1\" cx=\"1799.78\" cy=\"630.648\" r=\"12\"/>\n",
       "<circle clip-path=\"url(#clip2502)\" style=\"fill:#000000; stroke:none; fill-opacity:1\" cx=\"1799.78\" cy=\"630.648\" r=\"9\"/>\n",
       "<circle clip-path=\"url(#clip2502)\" style=\"fill:#000000; stroke:none; fill-opacity:1\" cx=\"1943.75\" cy=\"1156.74\" r=\"12\"/>\n",
       "<circle clip-path=\"url(#clip2502)\" style=\"fill:#000000; stroke:none; fill-opacity:1\" cx=\"1943.75\" cy=\"1156.74\" r=\"9\"/>\n",
       "<circle clip-path=\"url(#clip2502)\" style=\"fill:#000000; stroke:none; fill-opacity:1\" cx=\"627.181\" cy=\"480.316\" r=\"12\"/>\n",
       "<circle clip-path=\"url(#clip2502)\" style=\"fill:#000000; stroke:none; fill-opacity:1\" cx=\"627.181\" cy=\"480.316\" r=\"9\"/>\n",
       "<circle clip-path=\"url(#clip2502)\" style=\"fill:#000000; stroke:none; fill-opacity:1\" cx=\"1162.73\" cy=\"1297.53\" r=\"12\"/>\n",
       "<circle clip-path=\"url(#clip2502)\" style=\"fill:#000000; stroke:none; fill-opacity:1\" cx=\"1162.73\" cy=\"1297.53\" r=\"9\"/>\n",
       "<circle clip-path=\"url(#clip2502)\" style=\"fill:#000000; stroke:none; fill-opacity:1\" cx=\"1603.93\" cy=\"1398.07\" r=\"12\"/>\n",
       "<circle clip-path=\"url(#clip2502)\" style=\"fill:#000000; stroke:none; fill-opacity:1\" cx=\"1603.93\" cy=\"1398.07\" r=\"9\"/>\n",
       "<circle clip-path=\"url(#clip2502)\" style=\"fill:#000000; stroke:none; fill-opacity:1\" cx=\"982.206\" cy=\"570.979\" r=\"12\"/>\n",
       "<circle clip-path=\"url(#clip2502)\" style=\"fill:#000000; stroke:none; fill-opacity:1\" cx=\"982.206\" cy=\"570.979\" r=\"9\"/>\n",
       "<circle clip-path=\"url(#clip2502)\" style=\"fill:#000000; stroke:none; fill-opacity:1\" cx=\"1362.33\" cy=\"198.57\" r=\"12\"/>\n",
       "<circle clip-path=\"url(#clip2502)\" style=\"fill:#000000; stroke:none; fill-opacity:1\" cx=\"1362.33\" cy=\"198.57\" r=\"9\"/>\n",
       "<circle clip-path=\"url(#clip2502)\" style=\"fill:#000000; stroke:none; fill-opacity:1\" cx=\"1230.25\" cy=\"135.11\" r=\"12\"/>\n",
       "<circle clip-path=\"url(#clip2502)\" style=\"fill:#000000; stroke:none; fill-opacity:1\" cx=\"1230.25\" cy=\"135.11\" r=\"9\"/>\n",
       "<circle clip-path=\"url(#clip2502)\" style=\"fill:#000000; stroke:none; fill-opacity:1\" cx=\"1708.26\" cy=\"809.595\" r=\"12\"/>\n",
       "<circle clip-path=\"url(#clip2502)\" style=\"fill:#000000; stroke:none; fill-opacity:1\" cx=\"1708.26\" cy=\"809.595\" r=\"9\"/>\n",
       "</svg>\n"
      ]
     },
     "execution_count": 116,
     "metadata": {},
     "output_type": "execute_result"
    }
   ],
   "source": [
    "using Plots, Distributions\n",
    "\n",
    "# plot circle\n",
    "circlepts = Plots.partialcircle(0, 2π, 100)\n",
    "plot(circlepts, aspect_ratio=:equal, xlims=(-1,1), ylims=(-1,1), legend=false, lw=3, grid=false, frame=:box)\n",
    "\n",
    "# plot darts\n",
    "N = 400\n",
    "d = Uniform(-1, 1)\n",
    "scatter!(rand(d, N), rand(d, N), ms=2.5, color=:black)"
   ]
  },
  {
   "cell_type": "markdown",
   "metadata": {},
   "source": [
    "### Tasks\n",
    "\n",
    "1. Write a function `compute_pi(N::Int)` which computes $\\pi$ by throwing $N$ darts as described above.\n",
    "\n",
    "\n",
    "2. Based on 1), write a function `compute_pi_parallel(N::Int, nworkers::Int)` which does the same but divides the work among `ncores` processes.\n",
    "\n",
    "\n",
    "3. Benchmark and compare the methods from 1) and 2).\n",
    "\n",
    "\n",
    "4. Write a function `compute_pi_multiple(Ns::Vector{Int})` which computes $\\pi$ for all given $N$ values. The function should be serial and based on 1).\n",
    "\n",
    "\n",
    "5. Write a function `compute_pi_multiple_parallel(Ns::Vector{Int})` which does the same but in parallel. The function should also be based on 1).\n",
    "\n",
    "\n",
    "6. Benchmark and compare the methods from 4) and 5).\n",
    "\n",
    "\n",
    "7. Calculate $\\pi$ estimates for `Ns = ceil.(Int, exp10.(range(1, stop=8, length=50)))`. Plot $\\pi$ vs $N$ on a semi-log plot.\n",
    "\n",
    "\n",
    "8. Bonus: Write a function `compute_pi_multiple_double_parallel(Ns::Vector{Int})` which computes $\\pi$ for all given $N$ values. The calculation should be as parallel as possible. Multiple different values of $N$ should be calculated at the same time and every one of those calculations should be parallel as well.\n",
    "\n",
    "A reasonable value could be `N = 10_000_000`."
   ]
  },
  {
   "cell_type": "markdown",
   "metadata": {},
   "source": [
    "# If time permits...."
   ]
  },
  {
   "cell_type": "markdown",
   "metadata": {},
   "source": [
    "# SIMD instructions"
   ]
  },
  {
   "cell_type": "markdown",
   "metadata": {},
   "source": [
    "SIMD stands for \"Single Instruction Multiple Data\" and falls into the category of instruction level parallelism (vector instructions)."
   ]
  },
  {
   "cell_type": "code",
   "execution_count": null,
   "metadata": {},
   "outputs": [],
   "source": [
    "function mysum(X)\n",
    "    acc = zero(eltype(X))\n",
    "    for i in 1:length(X)\n",
    "        @inbounds acc += X[i]\n",
    "    end\n",
    "    return acc\n",
    "end"
   ]
  },
  {
   "cell_type": "markdown",
   "metadata": {},
   "source": [
    "Think about if each loop iteration is independent.\n",
    "\n",
    "Integer addition is **associative** and the order of operations has no impact. Floating-point addition is **non-associative** and the order of operations is important.\n",
    "\n",
    "By using `@simd`, we are asserting several properties of the loop:\n",
    "\n",
    "* It is safe to execute iterations in arbitrary or overlapping order, with special consideration for reduction variables.\n",
    "* Floating-point operations on reduction variables can be reordered, possibly causing different results than without `@simd`."
   ]
  },
  {
   "cell_type": "code",
   "execution_count": null,
   "metadata": {},
   "outputs": [],
   "source": [
    "function mysum_simd(X)\n",
    "    acc = zero(eltype(X))\n",
    "    @simd for i in 1:length(X)\n",
    "        @inbounds acc += X[i]\n",
    "    end\n",
    "    return acc\n",
    "end"
   ]
  },
  {
   "cell_type": "code",
   "execution_count": null,
   "metadata": {},
   "outputs": [],
   "source": [
    "X = rand(Float64, 1000)\n",
    "@btime mysum($X);\n",
    "@btime mysum_simd($X);"
   ]
  },
  {
   "cell_type": "code",
   "execution_count": null,
   "metadata": {},
   "outputs": [],
   "source": [
    "X = rand(Int64, 1000)\n",
    "@btime mysum($X);\n",
    "@btime mysum_simd($X);"
   ]
  },
  {
   "cell_type": "code",
   "execution_count": null,
   "metadata": {},
   "outputs": [],
   "source": [
    "X = rand(Float64, 1000)\n",
    "s = mysum(X);\n",
    "s_simd = mysum_simd(X);"
   ]
  },
  {
   "cell_type": "code",
   "execution_count": null,
   "metadata": {},
   "outputs": [],
   "source": [
    "s == s_simd # will sometimes be false!!!"
   ]
  },
  {
   "cell_type": "code",
   "execution_count": null,
   "metadata": {},
   "outputs": [],
   "source": [
    "abs(s-s_simd)"
   ]
  },
  {
   "cell_type": "markdown",
   "metadata": {},
   "source": [
    "# Multi-threading"
   ]
  },
  {
   "cell_type": "markdown",
   "metadata": {},
   "source": [
    "On Linux/MacOS:\n",
    "\n",
    "```bash\n",
    "export JULIA_NUM_THREADS=4\n",
    "```\n",
    "\n",
    "On Windows:\n",
    "\n",
    "```bash\n",
    "set JULIA_NUM_THREADS=4\n",
    "```\n",
    "\n",
    "Afterwards start julia."
   ]
  },
  {
   "cell_type": "markdown",
   "metadata": {},
   "source": [
    "*Switching to REPL to demonstrate this...*"
   ]
  },
  {
   "cell_type": "markdown",
   "metadata": {},
   "source": [
    "```julia\n",
    "using Base.Threads\n",
    "\n",
    "# How many threads are we running on?\n",
    "nthreads()\n",
    "\n",
    "# How many processes are we running?\n",
    "using Distributed; nprocs()\n",
    "\n",
    "# Fill an array in parallel\n",
    "a = zeros(nthreads()*10)\n",
    "@threads for i in 1:length(a)\n",
    "    a[i] = threadid()\n",
    "end\n",
    "```\n",
    "\n",
    "Note that we do not need to use a `SharedArray` or similar here since threads are process shared memory. Although convenient in this example, this fact can potentially lead to *thread safety* and *race condition* issues where different threads access the same piece of memory. Writing fast thread safe code isn't trivial!\n",
    "\n",
    "See for example the sections [Atomic Operations](https://docs.julialang.org/en/stable/manual/parallel-computing/#Atomic-Operations-1) and [Side effects and mutable function arguments](https://docs.julialang.org/en/stable/manual/parallel-computing/#Side-effects-and-mutable-function-arguments-1) of the Julia documentation."
   ]
  },
  {
   "cell_type": "markdown",
   "metadata": {},
   "source": [
    "# MPI.jl"
   ]
  },
  {
   "cell_type": "markdown",
   "metadata": {},
   "source": [
    "Simple wrapper to the Message Passing Interface (MPI).\n",
    "\n",
    "Github: https://github.com/JuliaParallel/MPI.jl\n",
    "\n",
    "Example usage:\n",
    "\n",
    "```julia\n",
    "import MPI\n",
    "\n",
    "MPI.Init()\n",
    "\n",
    "comm = MPI.COMM_WORLD\n",
    "MPI.Barrier(comm)\n",
    "\n",
    "root = 0\n",
    "r = MPI.Comm_rank(comm)\n",
    "\n",
    "sr = MPI.Reduce(r, MPI.SUM, root, comm)\n",
    "\n",
    "if(MPI.Comm_rank(comm) == root)\n",
    "   @printf(\"sum of ranks: %s\\n\", sr)\n",
    "end\n",
    "\n",
    "MPI.Finalize()\n",
    "```\n",
    "\n",
    "Run as\n",
    "```\n",
    "mpirun -np 4 ./julia example.jl\n",
    "```"
   ]
  }
 ],
 "metadata": {
  "@webio": {
   "lastCommId": null,
   "lastKernelId": null
  },
  "kernelspec": {
   "display_name": "Julia 1.3.1",
   "language": "julia",
   "name": "julia-1.3"
  },
  "language_info": {
   "file_extension": ".jl",
   "mimetype": "application/julia",
   "name": "julia",
   "version": "1.3.1"
  }
 },
 "nbformat": 4,
 "nbformat_minor": 4
}
