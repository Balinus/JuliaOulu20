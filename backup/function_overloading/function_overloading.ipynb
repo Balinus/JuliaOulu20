{
 "cells": [
  {
   "cell_type": "markdown",
   "metadata": {},
   "source": [
    "# Isn't multiple dispatch just function overloading?"
   ]
  },
  {
   "cell_type": "markdown",
   "metadata": {},
   "source": [
    "Answer: No. Static types vs actual dynamic types."
   ]
  },
  {
   "cell_type": "code",
   "execution_count": 2,
   "metadata": {},
   "outputs": [
    {
     "data": {
      "text/plain": [
       "meets (generic function with 4 methods)"
      ]
     },
     "execution_count": 2,
     "metadata": {},
     "output_type": "execute_result"
    }
   ],
   "source": [
    "abstract type Pet end\n",
    "\n",
    "struct Dog <: Pet\n",
    "    name::String\n",
    "end\n",
    "struct Cat <: Pet\n",
    "    name::String\n",
    "end\n",
    "\n",
    "function encounter(a::Pet, b::Pet)\n",
    "    verb = meets(a,b)\n",
    "    println(\"$(a.name) meets $(b.name) and $verb.\")\n",
    "end\n",
    "\n",
    "meets(a::Dog, b::Dog) = \"sniffs\"\n",
    "meets(a::Dog, b::Cat) = \"chases\"\n",
    "meets(a::Cat, b::Dog) = \"hisses\"\n",
    "meets(a::Cat, b::Cat) = \"slinks\""
   ]
  },
  {
   "cell_type": "code",
   "execution_count": 3,
   "metadata": {},
   "outputs": [
    {
     "name": "stdout",
     "output_type": "stream",
     "text": [
      "fido meets rex and sniffs.\n",
      "fido meets whiskers and chases.\n",
      "whiskers meets rex and hisses.\n",
      "whiskers meets spots and slinks.\n"
     ]
    }
   ],
   "source": [
    "fido     = Dog(\"fido\")\n",
    "rex      = Dog(\"rex\")\n",
    "whiskers = Cat(\"whiskers\")\n",
    "spots    = Cat(\"spots\")\n",
    "\n",
    "encounter(fido, rex);\n",
    "encounter(fido, whiskers);\n",
    "encounter(whiskers, rex);\n",
    "encounter(whiskers, spots);"
   ]
  },
  {
   "cell_type": "markdown",
   "metadata": {},
   "source": [
    "### Alright, let's try the same in, say, C++"
   ]
  },
  {
   "cell_type": "markdown",
   "metadata": {},
   "source": [
    "```C++\n",
    "#include <iostream>\n",
    "#include <string>\n",
    "\n",
    "using namespace std;\n",
    "\n",
    "class Pet {\n",
    "    public:\n",
    "        string name;\n",
    "};\n",
    "\n",
    "string meets(Pet a, Pet b) { return \"FALLBACK\"; }\n",
    "\n",
    "void encounter(Pet a, Pet b) {\n",
    "    string verb = meets(a,b);\n",
    "    cout << a.name << \" meets \" << b.name << \" and \" << verb << endl;\n",
    "}\n",
    "\n",
    "class Dog : public Pet {};\n",
    "class Cat : public Pet {};\n",
    "\n",
    "string meets(Dog a, Dog b) { return \"sniffs\"; }\n",
    "string meets(Dog a, Cat b) { return \"chases\"; }\n",
    "string meets(Cat a, Dog b) { return \"hisses\"; }\n",
    "string meets(Cat a, Cat b) { return \"slinks\"; }\n",
    "\n",
    "int main() {\n",
    "    Dog fido;     fido.name = \"Fido\";\n",
    "    Dog rex;      rex.name = \"Rex\";\n",
    "    Cat whiskers; whiskers.name = \"Whiskers\";\n",
    "    Cat spots;    spots.name = \"Spots\";\n",
    "\n",
    "    encounter(fido, rex);\n",
    "    encounter(fido, whiskers);\n",
    "    encounter(whiskers, rex);\n",
    "    encounter(whiskers, spots);\n",
    "\n",
    "    return 0;\n",
    "}\n",
    "```"
   ]
  },
  {
   "cell_type": "markdown",
   "metadata": {},
   "source": [
    "### What do you think this does?##"
   ]
  },
  {
   "cell_type": "markdown",
   "metadata": {},
   "source": [
    "<details>\n",
    "  <summary>Click to reveal (if Cxx doesn't work for you)</summary>\n",
    "<br>\n",
    "    \n",
    "```\n",
    "carsten@l91:~/Desktop/Oulu2020/backup/function_overloading$ clang++ pets.cpp -o pets && ./pets\n",
    "\n",
    "Fido meets Rex and FALLBACK\n",
    "Fido meets Whiskers and FALLBACK\n",
    "Whiskers meets Rex and FALLBACK\n",
    "Whiskers meets Spots and FALLBACK\n",
    "```\n",
    "</details>"
   ]
  },
  {
   "cell_type": "code",
   "execution_count": 1,
   "metadata": {},
   "outputs": [],
   "source": [
    "using Cxx"
   ]
  },
  {
   "cell_type": "code",
   "execution_count": 2,
   "metadata": {},
   "outputs": [
    {
     "data": {
      "text/plain": [
       "true"
      ]
     },
     "execution_count": 2,
     "metadata": {},
     "output_type": "execute_result"
    }
   ],
   "source": [
    "cxx\"\"\"\n",
    "#include <iostream>\n",
    "#include <string>\n",
    "\n",
    "using namespace std;\n",
    "\n",
    "class Pet {\n",
    "    public:\n",
    "        string name;\n",
    "};\n",
    "\n",
    "string meets(Pet a, Pet b) { return \"FALLBACK\"; }\n",
    "\n",
    "void encounter(Pet a, Pet b) {\n",
    "    string verb = meets(a,b);\n",
    "    cout << a.name << \" meets \" << b.name << \" and \" << verb << endl;\n",
    "}\n",
    "\n",
    "class Dog : public Pet {};\n",
    "class Cat : public Pet {};\n",
    "\n",
    "string meets(Dog a, Dog b) { return \"sniffs\"; }\n",
    "string meets(Dog a, Cat b) { return \"chases\"; }\n",
    "string meets(Cat a, Dog b) { return \"hisses\"; }\n",
    "string meets(Cat a, Cat b) { return \"slinks\"; }\n",
    "\n",
    "int main() {\n",
    "    Dog fido;     fido.name = \"Fido\";\n",
    "    Dog rex;      rex.name = \"Rex\";\n",
    "    Cat whiskers; whiskers.name = \"Whiskers\";\n",
    "    Cat spots;    spots.name = \"Spots\";\n",
    "\n",
    "    encounter(fido, rex);\n",
    "    encounter(fido, whiskers);\n",
    "    encounter(whiskers, rex);\n",
    "    encounter(whiskers, spots);\n",
    "\n",
    "    return 0;\n",
    "}\n",
    "\"\"\""
   ]
  },
  {
   "cell_type": "code",
   "execution_count": 2,
   "metadata": {},
   "outputs": [
    {
     "ename": "ErrorException",
     "evalue": "Could not find `main` in translation unit",
     "output_type": "error",
     "traceback": [
      "Could not find `main` in translation unit",
      "",
      "Stacktrace:",
      " [1] error(::String) at .\\error.jl:33",
      " [2] lookup_name(::Cxx.CxxCore.ClangCompiler, ::Tuple{Symbol}, ::Ptr{Nothing}, ::Cxx.CxxCore.CppPtr{Cxx.CxxCore.CxxQualType{Cxx.CxxCore.CppBaseType{Symbol(\"clang::Decl\")},(false, false, false)},(false, false, false)}, ::Bool) at C:\\Users\\carsten\\.julia\\packages\\Cxx\\1RaOv\\src\\typetranslation.jl:116",
      " [3] declfornns(::Cxx.CxxCore.ClangCompiler, ::Type{Cxx.CxxCore.CppNNS{Tuple{:main}}}, ::Ptr{Nothing}) at C:\\Users\\carsten\\.julia\\packages\\Cxx\\1RaOv\\src\\codegen.jl:273",
      " [4] declfornns(::Cxx.CxxCore.ClangCompiler, ::Type{Cxx.CxxCore.CppNNS{Tuple{:main}}}) at C:\\Users\\carsten\\.julia\\packages\\Cxx\\1RaOv\\src\\codegen.jl:240",
      " [5] _cppcall(::Type, ::Type, ::Bool, ::Bool, ::Tuple{}) at C:\\Users\\carsten\\.julia\\packages\\Cxx\\1RaOv\\src\\codegen.jl:559",
      " [6] #s37#39(::Any, ::Any, ::Any, ::Any) at C:\\Users\\carsten\\.julia\\packages\\Cxx\\1RaOv\\src\\codegen.jl:841",
      " [7] (::Core.GeneratedFunctionStub)(::Any, ::Vararg{Any,N} where N) at .\\boot.jl:524",
      " [8] top-level scope at In[2]:1"
     ]
    }
   ],
   "source": [
    "@cxx main()"
   ]
  },
  {
   "cell_type": "markdown",
   "metadata": {},
   "source": [
    "**What?! Why?**"
   ]
  },
  {
   "cell_type": "markdown",
   "metadata": {},
   "source": [
    "Templates get you a bit further, but the type information is still only static."
   ]
  },
  {
   "cell_type": "markdown",
   "metadata": {},
   "source": [
    "### Templates"
   ]
  },
  {
   "cell_type": "code",
   "execution_count": 2,
   "metadata": {},
   "outputs": [
    {
     "data": {
      "text/plain": [
       "true"
      ]
     },
     "execution_count": 2,
     "metadata": {},
     "output_type": "execute_result"
    }
   ],
   "source": [
    "cxx\"\"\"\n",
    "#include <iostream>\n",
    "#include <string>\n",
    "\n",
    "using namespace std;\n",
    "\n",
    "class Pet {\n",
    "    public:\n",
    "        string name;\n",
    "};\n",
    "\n",
    "string meets(Pet a, Pet b) { return \"FALLBACK\"; }\n",
    "\n",
    "template <class T, class S>\n",
    "void encounter(T a, S b) {\n",
    "    string verb = meets(a,b);\n",
    "    cout << a.name << \" meets \" << b.name << \" and \" << verb << endl;\n",
    "}\n",
    "\n",
    "class Dog : public Pet {};\n",
    "class Cat : public Pet {};\n",
    "\n",
    "string meets(Dog a, Dog b) { return \"sniffs\"; }\n",
    "string meets(Dog a, Cat b) { return \"chases\"; }\n",
    "string meets(Cat a, Dog b) { return \"hisses\"; }\n",
    "string meets(Cat a, Cat b) { return \"slinks\"; }\n",
    "\n",
    "int main() {\n",
    "    Dog fido;     fido.name = \"Fido\";\n",
    "    Dog rex;      rex.name = \"Rex\";\n",
    "    Cat whiskers; whiskers.name = \"Whiskers\";\n",
    "    Cat spots;    spots.name = \"Spots\";\n",
    "\n",
    "    encounter(fido, rex);\n",
    "    encounter(fido, whiskers);\n",
    "    encounter(whiskers, rex);\n",
    "    encounter(whiskers, spots);\n",
    "\n",
    "    return 0;\n",
    "}\n",
    "\"\"\""
   ]
  },
  {
   "cell_type": "code",
   "execution_count": null,
   "metadata": {},
   "outputs": [],
   "source": [
    "@cxx main()"
   ]
  },
  {
   "cell_type": "markdown",
   "metadata": {},
   "source": [
    "### Other example"
   ]
  },
  {
   "cell_type": "code",
   "execution_count": 1,
   "metadata": {},
   "outputs": [],
   "source": [
    "using Cxx"
   ]
  },
  {
   "cell_type": "code",
   "execution_count": 2,
   "metadata": {},
   "outputs": [
    {
     "name": "stderr",
     "output_type": "stream",
     "text": [
      "In file included from C:/Cxx.cpp:1:\n",
      "In[2]:27:5: warning: only one parameter on 'main' declaration\n",
      "int main(int i) {\n",
      "    ^\n",
      "In[2]:35:15: error: use of undeclared identifier 'entropy'; did you mean 'strcpy'?\n",
      "    encounter(entropy, rex);\n",
      "              ^~~~~~~\n",
      "              strcpy\n",
      "C:\\Users\\carsten\\.julia\\packages\\Cxx\\1RaOv\\src\\..\\deps\\usr\\mingw\\sys-root\\include\\string.h:61:18: note: 'strcpy' declared here\n",
      "  char * __cdecl strcpy(char * __restrict__ _Dest,const char * __restrict__ _Source);\n",
      "                 ^\n",
      "In file included from C:/Cxx.cpp:1:\n",
      "In[2]:15:19: error: no matching function for call to 'meets'\n",
      "    string verb = meets(a,b);\n",
      "                  ^~~~~\n",
      "In[2]:35:5: note: in instantiation of function template specialization 'encounter<char *(*)(char *, const char *), Dog>' requested here\n",
      "    encounter(entropy, rex);\n",
      "    ^\n",
      "In[2]:22:8: note: candidate function not viable: no known conversion from 'char *(*)(char *, const char *)' to 'Dog' for 1st argument\n",
      "string meets(Dog a, Dog b) { return \"sniffs\"; }\n",
      "       ^\n",
      "In[2]:24:8: note: candidate function not viable: no known conversion from 'char *(*)(char *, const char *)' to 'Cat' for 1st argument\n",
      "string meets(Cat a, Dog b) { return \"hisses\"; }\n",
      "       ^\n",
      "In[2]:11:8: note: candidate function not viable: no known conversion from 'char *(*)(char *, const char *)' to 'Pet' for 1st argument\n",
      "string meets(Pet a, Pet b) { return \"FALLBACK\"; }\n",
      "       ^\n",
      "In[2]:23:8: note: candidate function not viable: no known conversion from 'char *(*)(char *, const char *)' to 'Dog' for 1st argument\n",
      "string meets(Dog a, Cat b) { return \"chases\"; }\n",
      "       ^\n",
      "In[2]:25:8: note: candidate function not viable: no known conversion from 'char *(*)(char *, const char *)' to 'Cat' for 1st argument\n",
      "string meets(Cat a, Cat b) { return \"slinks\"; }\n",
      "       ^\n",
      "In[2]:16:14: error: member reference base type 'char *(*)(char *, const char *)' is not a structure or union\n",
      "    cout << a.name << \" meets \" << b.name << \" and \" << verb << endl;\n",
      "            ~^~~~~\n"
     ]
    },
    {
     "data": {
      "text/plain": [
       "true"
      ]
     },
     "execution_count": 2,
     "metadata": {},
     "output_type": "execute_result"
    }
   ],
   "source": [
    "cxx\"\"\"\n",
    "#include <iostream>\n",
    "#include <string>\n",
    "\n",
    "using namespace std;\n",
    "\n",
    "class Pet {\n",
    "    public:\n",
    "        string name;\n",
    "};\n",
    "\n",
    "string meets(Pet a, Pet b) { return \"FALLBACK\"; }\n",
    "\n",
    "template <class T, class S>\n",
    "void encounter(T a, S b) {\n",
    "    string verb = meets(a,b);\n",
    "    cout << a.name << \" meets \" << b.name << \" and \" << verb << endl;\n",
    "}\n",
    "\n",
    "class Dog : public Pet {};\n",
    "class Cat : public Pet {};\n",
    "\n",
    "string meets(Dog a, Dog b) { return \"sniffs\"; }\n",
    "string meets(Dog a, Cat b) { return \"chases\"; }\n",
    "string meets(Cat a, Dog b) { return \"hisses\"; }\n",
    "string meets(Cat a, Cat b) { return \"slinks\"; }\n",
    "\n",
    "int main(int i) {\n",
    "    \n",
    "    if(i>5){\n",
    "        Dog entropy; entropy.name = \"Entropy\";\n",
    "    }else{\n",
    "        Cat entropy; entropy.name = \"Entropy\";\n",
    "    }\n",
    "    Dog rex; rex.name = \"Rex\";\n",
    "\n",
    "    encounter(entropy, rex);\n",
    "\n",
    "    return 0;\n",
    "}\n",
    "\"\"\""
   ]
  },
  {
   "cell_type": "code",
   "execution_count": null,
   "metadata": {},
   "outputs": [],
   "source": [
    "@cxx main(3)"
   ]
  },
  {
   "cell_type": "code",
   "execution_count": null,
   "metadata": {},
   "outputs": [],
   "source": []
  }
 ],
 "metadata": {
  "@webio": {
   "lastCommId": null,
   "lastKernelId": null
  },
  "kernelspec": {
   "display_name": "Julia 1.3.1",
   "language": "julia",
   "name": "julia-1.3"
  },
  "language_info": {
   "file_extension": ".jl",
   "mimetype": "application/julia",
   "name": "julia",
   "version": "1.3.1"
  }
 },
 "nbformat": 4,
 "nbformat_minor": 4
}
