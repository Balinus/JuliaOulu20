{
 "cells": [
  {
   "cell_type": "markdown",
   "metadata": {},
   "source": [
    "# Isn't multiple dispatch just function overloading?"
   ]
  },
  {
   "cell_type": "markdown",
   "metadata": {},
   "source": [
    "Answer: No. Static types vs actual dynamic types."
   ]
  },
  {
   "cell_type": "code",
   "execution_count": 2,
   "metadata": {},
   "outputs": [
    {
     "data": {
      "text/plain": [
       "meets (generic function with 4 methods)"
      ]
     },
     "execution_count": 2,
     "metadata": {},
     "output_type": "execute_result"
    }
   ],
   "source": [
    "abstract type Pet end\n",
    "\n",
    "struct Dog <: Pet\n",
    "    name::String\n",
    "end\n",
    "struct Cat <: Pet\n",
    "    name::String\n",
    "end\n",
    "\n",
    "function encounter(a::Pet, b::Pet)\n",
    "    verb = meets(a,b)\n",
    "    println(\"$(a.name) meets $(b.name) and $verb.\")\n",
    "end\n",
    "\n",
    "meets(a::Dog, b::Dog) = \"sniffs\"\n",
    "meets(a::Dog, b::Cat) = \"chases\"\n",
    "meets(a::Cat, b::Dog) = \"hisses\"\n",
    "meets(a::Cat, b::Cat) = \"slinks\""
   ]
  },
  {
   "cell_type": "code",
   "execution_count": 3,
   "metadata": {},
   "outputs": [
    {
     "name": "stdout",
     "output_type": "stream",
     "text": [
      "fido meets rex and sniffs.\n",
      "fido meets whiskers and chases.\n",
      "whiskers meets rex and hisses.\n",
      "whiskers meets spots and slinks.\n"
     ]
    }
   ],
   "source": [
    "fido     = Dog(\"fido\")\n",
    "rex      = Dog(\"rex\")\n",
    "whiskers = Cat(\"whiskers\")\n",
    "spots    = Cat(\"spots\")\n",
    "\n",
    "encounter(fido, rex);\n",
    "encounter(fido, whiskers);\n",
    "encounter(whiskers, rex);\n",
    "encounter(whiskers, spots);"
   ]
  },
  {
   "cell_type": "markdown",
   "metadata": {},
   "source": [
    "### Alright, let's try the same in, say, C++"
   ]
  },
  {
   "cell_type": "markdown",
   "metadata": {},
   "source": [
    "```C++\n",
    "#include <iostream>\n",
    "#include <string>\n",
    "\n",
    "using namespace std;\n",
    "\n",
    "class Pet {\n",
    "    public:\n",
    "        string name;\n",
    "};\n",
    "\n",
    "string meets(Pet a, Pet b) { return \"FALLBACK\"; }\n",
    "\n",
    "void encounter(Pet a, Pet b) {\n",
    "    string verb = meets(a,b);\n",
    "    cout << a.name << \" meets \" << b.name << \" and \" << verb << endl;\n",
    "}\n",
    "\n",
    "class Dog : public Pet {};\n",
    "class Cat : public Pet {};\n",
    "\n",
    "string meets(Dog a, Dog b) { return \"sniffs\"; }\n",
    "string meets(Dog a, Cat b) { return \"chases\"; }\n",
    "string meets(Cat a, Dog b) { return \"hisses\"; }\n",
    "string meets(Cat a, Cat b) { return \"slinks\"; }\n",
    "\n",
    "int main() {\n",
    "    Dog fido;     fido.name = \"Fido\";\n",
    "    Dog rex;      rex.name = \"Rex\";\n",
    "    Cat whiskers; whiskers.name = \"Whiskers\";\n",
    "    Cat spots;    spots.name = \"Spots\";\n",
    "\n",
    "    encounter(fido, rex);\n",
    "    encounter(fido, whiskers);\n",
    "    encounter(whiskers, rex);\n",
    "    encounter(whiskers, spots);\n",
    "\n",
    "    return 0;\n",
    "}\n",
    "```"
   ]
  },
  {
   "cell_type": "markdown",
   "metadata": {},
   "source": [
    "### What do you think this does?##"
   ]
  },
  {
   "cell_type": "markdown",
   "metadata": {},
   "source": [
    "<details>\n",
    "  <summary>Click to reveal (if Cxx doesn't work for you)</summary>\n",
    "<br>\n",
    "    \n",
    "```\n",
    "carsten@l91:~/Desktop/Oulu2020/backup/function_overloading$ clang++ pets.cpp -o pets && ./pets\n",
    "\n",
    "Fido meets Rex and FALLBACK\n",
    "Fido meets Whiskers and FALLBACK\n",
    "Whiskers meets Rex and FALLBACK\n",
    "Whiskers meets Spots and FALLBACK\n",
    "```\n",
    "</details>"
   ]
  },
  {
   "cell_type": "code",
   "execution_count": 1,
   "metadata": {},
   "outputs": [],
   "source": [
    "using Cxx"
   ]
  },
  {
   "cell_type": "code",
   "execution_count": 7,
   "metadata": {},
   "outputs": [
    {
     "data": {
      "text/plain": [
       "true"
      ]
     },
     "execution_count": 7,
     "metadata": {},
     "output_type": "execute_result"
    }
   ],
   "source": [
    "cxx\"\"\"\n",
    "#include <iostream>\n",
    "#include <string>\n",
    "\n",
    "using namespace std;\n",
    "\n",
    "class Pet {\n",
    "    public:\n",
    "        string name;\n",
    "};\n",
    "\n",
    "string meets(Pet a, Pet b) { return \"FALLBACK\"; }\n",
    "\n",
    "void encounter(Pet a, Pet b) {\n",
    "    string verb = meets(a,b);\n",
    "    cout << a.name << \" meets \" << b.name << \" and \" << verb << endl;\n",
    "}\n",
    "\n",
    "class Dog : public Pet {};\n",
    "class Cat : public Pet {};\n",
    "\n",
    "string meets(Dog a, Dog b) { return \"sniffs\"; }\n",
    "string meets(Dog a, Cat b) { return \"chases\"; }\n",
    "string meets(Cat a, Dog b) { return \"hisses\"; }\n",
    "string meets(Cat a, Cat b) { return \"slinks\"; }\n",
    "\n",
    "int main() {\n",
    "    Dog fido;     fido.name = \"Fido\";\n",
    "    Dog rex;      rex.name = \"Rex\";\n",
    "    Cat whiskers; whiskers.name = \"Whiskers\";\n",
    "    Cat spots;    spots.name = \"Spots\";\n",
    "\n",
    "    encounter(fido, rex);\n",
    "    encounter(fido, whiskers);\n",
    "    encounter(whiskers, rex);\n",
    "    encounter(whiskers, spots);\n",
    "\n",
    "    return 0;\n",
    "}\n",
    "\"\"\""
   ]
  },
  {
   "cell_type": "code",
   "execution_count": 12,
   "metadata": {},
   "outputs": [
    {
     "name": "stdout",
     "output_type": "stream",
     "text": [
      "Fido meets Rex and FALLBACK\n",
      "Fido meets Whiskers and FALLBACK\n",
      "Whiskers meets Rex and FALLBACK\n",
      "Whiskers meets Spots and FALLBACK\n"
     ]
    },
    {
     "data": {
      "text/plain": [
       "0"
      ]
     },
     "execution_count": 12,
     "metadata": {},
     "output_type": "execute_result"
    }
   ],
   "source": [
    "@cxx main()"
   ]
  },
  {
   "cell_type": "markdown",
   "metadata": {},
   "source": [
    "**What?! Why?**"
   ]
  },
  {
   "cell_type": "markdown",
   "metadata": {},
   "source": [
    "Templates get you a bit further, but the type information is still only static."
   ]
  }
 ],
 "metadata": {
  "kernelspec": {
   "display_name": "Julia 1.3.1",
   "language": "julia",
   "name": "julia-1.3"
  },
  "language_info": {
   "file_extension": ".jl",
   "mimetype": "application/julia",
   "name": "julia",
   "version": "1.3.1"
  }
 },
 "nbformat": 4,
 "nbformat_minor": 4
}
