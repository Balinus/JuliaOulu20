{
 "cells": [
  {
   "cell_type": "markdown",
   "metadata": {},
   "source": [
    "# GPU (remote)"
   ]
  },
  {
   "cell_type": "markdown",
   "metadata": {},
   "source": [
    "Let's start a worker on a gpu node of a supercomputer cluster."
   ]
  },
  {
   "cell_type": "code",
   "execution_count": 50,
   "metadata": {},
   "outputs": [
    {
     "data": {
      "text/plain": [
       "\"cheops51801\""
      ]
     },
     "execution_count": 50,
     "metadata": {},
     "output_type": "execute_result"
    }
   ],
   "source": [
    "using Distributed\n",
    "# addprocs([(\"cbauer17@gpu2\", 1)]; exename=`/projects/ag-trebst/bauer/bin/julia-1.3.1/bin/julia`, exeflags=`--project=/projects/ag-trebst/bauer/JuliaOulu20`, dir=\"/projects/ag-trebst/bauer/JuliaOulu20\", tunnel=true)\n",
    "addprocs([(\"cbauer17@gpu2\", 1)]; exename=`/projects/ag-trebst/bauer/bin/julia-1.3.1/bin/julia`, exeflags=`--project=/projects/ag-trebst/bauer/JuliaOulu20/backup/gpu_remote`, dir=\"/projects/ag-trebst/bauer/JuliaOulu20/backup/gpu_remote\", tunnel=true)\n",
    "@fetch gethostname()"
   ]
  },
  {
   "cell_type": "markdown",
   "metadata": {},
   "source": [
    "Extract the GPU name:"
   ]
  },
  {
   "cell_type": "code",
   "execution_count": 59,
   "metadata": {},
   "outputs": [
    {
     "data": {
      "text/plain": [
       "\"Tesla V100-SXM2-16GB\""
      ]
     },
     "execution_count": 59,
     "metadata": {},
     "output_type": "execute_result"
    }
   ],
   "source": [
    "@fetch @eval using CUDAdrv\n",
    "@fetch CUDAdrv.name(CuDevice(0))"
   ]
  },
  {
   "cell_type": "markdown",
   "metadata": {},
   "source": [
    "## Benchmark matmul"
   ]
  },
  {
   "cell_type": "code",
   "execution_count": 77,
   "metadata": {},
   "outputs": [],
   "source": [
    "@everywhere using CuArrays\n",
    "@everywhere using BenchmarkTools"
   ]
  },
  {
   "cell_type": "code",
   "execution_count": 80,
   "metadata": {},
   "outputs": [
    {
     "name": "stdout",
     "output_type": "stream",
     "text": [
      "      From worker 7:\tMove array CPU -> GPU\n",
      "      From worker 7:\t  1.812 ms (10 allocations: 7.63 MiB)\n",
      "      From worker 7:\tA*B (cpu)\n",
      "      From worker 7:\t  67.885 ms (2 allocations: 7.63 MiB)\n",
      "      From worker 7:\tA*B (gpu)\n",
      "      From worker 7:\t  12.952 μs (10 allocations: 416 bytes)\n",
      "      From worker 7:\tMove array GPU -> CPU\n",
      "      From worker 7:\t  1.094 ms (2 allocations: 7.63 MiB)\n"
     ]
    }
   ],
   "source": [
    "@fetch begin\n",
    "    A, B = rand(1000,1000), rand(1000,1000);\n",
    "    Agpu, Bgpu = CuArray(A), CuArray(B);\n",
    "    \n",
    "    println(\"Move array CPU -> GPU\")\n",
    "    @btime CuArray($A);\n",
    "    \n",
    "    println(\"A*B (cpu)\")\n",
    "    @btime $A * $B;\n",
    "\n",
    "    println(\"A*B (gpu)\")\n",
    "    @btime $Agpu * $Bgpu;\n",
    "    \n",
    "    println(\"Move array GPU -> CPU\")\n",
    "    Cgpu = Agpu * Bgpu\n",
    "    @btime Array($Cgpu);\n",
    "    \n",
    "    nothing\n",
    "end"
   ]
  },
  {
   "cell_type": "markdown",
   "metadata": {},
   "source": [
    "## Machine learning on the GPU"
   ]
  },
  {
   "cell_type": "code",
   "execution_count": null,
   "metadata": {},
   "outputs": [
    {
     "name": "stdout",
     "output_type": "stream",
     "text": [
      "      From worker 7:\t  Updating registry at `/projects/ag-trebst/bauer/.julia/registries/General`\n",
      "      From worker 7:\t  Updating git-repo `git://github.com/JuliaRegistries/General.git`\n"
     ]
    },
    {
     "name": "stderr",
     "output_type": "stream",
     "text": [
      "┌ Warning: Some registries failed to update:\n",
      "│     — /projects/ag-trebst/bauer/.julia/registries/General — failed to fetch from repo\n",
      "└ @ Pkg.Types /buildworker/worker/package_linux64/build/usr/share/julia/stdlib/v1.3/Pkg/src/Types.jl:1199\n"
     ]
    }
   ],
   "source": [
    "@fetch Pkg.instantiate()"
   ]
  },
  {
   "cell_type": "code",
   "execution_count": 81,
   "metadata": {},
   "outputs": [
    {
     "name": "stderr",
     "output_type": "stream",
     "text": [
      "┌ Info: Precompiling Flux [587475ba-b771-5e3f-ad9e-33799f191a9c]\n",
      "└ @ Base loading.jl:1273\n"
     ]
    },
    {
     "name": "stdout",
     "output_type": "stream",
     "text": [
      "      From worker 7:\tERROR: LoadError: ArgumentError: Package Zygote [e88e6eb3-aa80-5325-afca-941959d7151f] is required but does not seem to be installed:\n",
      "      From worker 7:\t - Run `Pkg.instantiate()` to install all recorded dependencies.\n",
      "      From worker 7:\t\n",
      "      From worker 7:\tStacktrace:\n",
      "      From worker 7:\t [1] _require(::Base.PkgId) at ./loading.jl:993\n",
      "      From worker 7:\t [2] require(::Base.PkgId) at ./loading.jl:922\n",
      "      From worker 7:\t [3] require(::Module, ::Symbol) at ./loading.jl:917\n",
      "      From worker 7:\t [4] include at ./boot.jl:328 [inlined]\n",
      "      From worker 7:\t [5] include_relative(::Module, ::String) at ./loading.jl:1105\n",
      "      From worker 7:\t [6] include(::Module, ::String) at ./Base.jl:31\n",
      "      From worker 7:\t [7] top-level scope at none:2\n",
      "      From worker 7:\t [8] eval at ./boot.jl:330 [inlined]\n",
      "      From worker 7:\t [9] eval(::Expr) at ./client.jl:425\n",
      "      From worker 7:\t [10] top-level scope at ./none:3\n",
      "      From worker 7:\tin expression starting at /projects/ag-trebst/bauer/.julia/packages/Flux/2i5P1/src/Flux.jl:6\n"
     ]
    },
    {
     "ename": "CompositeException",
     "evalue": "On worker 7:\nFailed to precompile Flux [587475ba-b771-5e3f-ad9e-33799f191a9c] to /projects/ag-trebst/bauer/.julia/compiled/v1.3/Flux/QdkVy_9szkr.ji.\nerror at ./error.jl:33\ncompilecache at ./loading.jl:1283\n_require at ./loading.jl:1024\nrequire at ./loading.jl:922\n#1 at /buildworker/worker/package_linux64/build/usr/share/julia/stdlib/v1.3/Distributed/src/Distributed.jl:78\n#105 at /buildworker/worker/package_linux64/build/usr/share/julia/stdlib/v1.3/Distributed/src/process_messages.jl:290\nrun_work_thunk at /buildworker/worker/package_linux64/build/usr/share/julia/stdlib/v1.3/Distributed/src/process_messages.jl:79\nrun_work_thunk at /buildworker/worker/package_linux64/build/usr/share/julia/stdlib/v1.3/Distributed/src/process_messages.jl:88\n#98 at ./task.jl:333",
     "output_type": "error",
     "traceback": [
      "On worker 7:\nFailed to precompile Flux [587475ba-b771-5e3f-ad9e-33799f191a9c] to /projects/ag-trebst/bauer/.julia/compiled/v1.3/Flux/QdkVy_9szkr.ji.\nerror at ./error.jl:33\ncompilecache at ./loading.jl:1283\n_require at ./loading.jl:1024\nrequire at ./loading.jl:922\n#1 at /buildworker/worker/package_linux64/build/usr/share/julia/stdlib/v1.3/Distributed/src/Distributed.jl:78\n#105 at /buildworker/worker/package_linux64/build/usr/share/julia/stdlib/v1.3/Distributed/src/process_messages.jl:290\nrun_work_thunk at /buildworker/worker/package_linux64/build/usr/share/julia/stdlib/v1.3/Distributed/src/process_messages.jl:79\nrun_work_thunk at /buildworker/worker/package_linux64/build/usr/share/julia/stdlib/v1.3/Distributed/src/process_messages.jl:88\n#98 at ./task.jl:333",
      "",
      "Stacktrace:",
      " [1] sync_end(::Array{Any,1}) at .\\task.jl:300",
      " [2] _require_callback(::Base.PkgId) at .\\task.jl:319",
      " [3] #invokelatest#1 at .\\essentials.jl:709 [inlined]",
      " [4] invokelatest at .\\essentials.jl:708 [inlined]",
      " [5] require(::Base.PkgId) at .\\loading.jl:925",
      " [6] require(::Module, ::Symbol) at .\\loading.jl:917",
      " [7] top-level scope at D:\\buildbot\\worker\\package_win64\\build\\usr\\share\\julia\\stdlib\\v1.3\\Distributed\\src\\macros.jl:199",
      " [8] top-level scope at In[81]:1"
     ]
    }
   ],
   "source": [
    "@everywhere using Flux"
   ]
  },
  {
   "cell_type": "code",
   "execution_count": 33,
   "metadata": {},
   "outputs": [
    {
     "data": {
      "text/plain": [
       "10.323411f0"
      ]
     },
     "execution_count": 33,
     "metadata": {},
     "output_type": "execute_result"
    }
   ],
   "source": [
    "@fetch begin\n",
    "    W = cu(rand(2, 5)) # a 2×5 CuArray\n",
    "    \n",
    "    b = cu(rand(2))\n",
    "\n",
    "    predict(x) = W*x .+ b\n",
    "    loss(x, y) = sum((predict(x) .- y).^2)\n",
    "\n",
    "    x, y = cu(rand(5)), cu(rand(2)) # Dummy data\n",
    "    loss(x, y) # ~ 3\n",
    "end\n",
    "\n",
    "\n",
    "\n"
   ]
  },
  {
   "cell_type": "code",
   "execution_count": null,
   "metadata": {},
   "outputs": [],
   "source": [
    "# Flux.train!(loss, params(m), [(data,labels)], opt)"
   ]
  },
  {
   "cell_type": "code",
   "execution_count": 31,
   "metadata": {},
   "outputs": [
    {
     "ename": "RemoteException",
     "evalue": "KeyError: key CuArrays [3a865a2d-5b23-5a0f-bc46-62713ec82fae] not found\ngetindex at .\\dict.jl:477 [inlined]\nroot_module at .\\loading.jl:962 [inlined]\ndeserialize_module(::Distributed.ClusterSerializer{Sockets.TCPSocket}) at D:\\buildbot\\worker\\package_win64\\build\\usr\\share\\julia\\stdlib\\v1.3\\Serialization\\src\\Serialization.jl:894\nhandle_deserialize(::Distributed.ClusterSerializer{Sockets.TCPSocket}, ::Int32) at D:\\buildbot\\worker\\package_win64\\build\\usr\\share\\julia\\stdlib\\v1.3\\Serialization\\src\\Serialization.jl:799\ndeserialize(::Distributed.ClusterSerializer{Sockets.TCPSocket}) at D:\\buildbot\\worker\\package_win64\\build\\usr\\share\\julia\\stdlib\\v1.3\\Serialization\\src\\Serialization.jl:722\ndeserialize_datatype(::Distributed.ClusterSerializer{Sockets.TCPSocket}, ::Bool) at D:\\buildbot\\worker\\package_win64\\build\\usr\\share\\julia\\stdlib\\v1.3\\Serialization\\src\\Serialization.jl:1192\nhandle_deserialize(::Distributed.ClusterSerializer{Sockets.TCPSocket}, ::Int32) at D:\\buildbot\\worker\\package_win64\\build\\usr\\share\\julia\\stdlib\\v1.3\\Serialization\\src\\Serialization.jl:775\ndeserialize(::Distributed.ClusterSerializer{Sockets.TCPSocket}) at D:\\buildbot\\worker\\package_win64\\build\\usr\\share\\julia\\stdlib\\v1.3\\Serialization\\src\\Serialization.jl:722\nhandle_deserialize(::Distributed.ClusterSerializer{Sockets.TCPSocket}, ::Int32) at D:\\buildbot\\worker\\package_win64\\build\\usr\\share\\julia\\stdlib\\v1.3\\Serialization\\src\\Serialization.jl:782\ndeserialize at D:\\buildbot\\worker\\package_win64\\build\\usr\\share\\julia\\stdlib\\v1.3\\Serialization\\src\\Serialization.jl:722 [inlined]\ndeserialize_msg(::Distributed.ClusterSerializer{Sockets.TCPSocket}) at D:\\buildbot\\worker\\package_win64\\build\\usr\\share\\julia\\stdlib\\v1.3\\Distributed\\src\\messages.jl:99\n#invokelatest#1 at .\\essentials.jl:709 [inlined]\ninvokelatest at .\\essentials.jl:708 [inlined]\nmessage_handler_loop(::Sockets.TCPSocket, ::Sockets.TCPSocket, ::Bool) at D:\\buildbot\\worker\\package_win64\\build\\usr\\share\\julia\\stdlib\\v1.3\\Distributed\\src\\process_messages.jl:185\nprocess_tcp_streams(::Sockets.TCPSocket, ::Sockets.TCPSocket, ::Bool) at D:\\buildbot\\worker\\package_win64\\build\\usr\\share\\julia\\stdlib\\v1.3\\Distributed\\src\\process_messages.jl:142\n(::Distributed.var\"#101#102\"{Sockets.TCPSocket,Sockets.TCPSocket,Bool})() at .\\task.jl:333",
     "output_type": "error",
     "traceback": [
      "KeyError: key CuArrays [3a865a2d-5b23-5a0f-bc46-62713ec82fae] not found\ngetindex at .\\dict.jl:477 [inlined]\nroot_module at .\\loading.jl:962 [inlined]\ndeserialize_module(::Distributed.ClusterSerializer{Sockets.TCPSocket}) at D:\\buildbot\\worker\\package_win64\\build\\usr\\share\\julia\\stdlib\\v1.3\\Serialization\\src\\Serialization.jl:894\nhandle_deserialize(::Distributed.ClusterSerializer{Sockets.TCPSocket}, ::Int32) at D:\\buildbot\\worker\\package_win64\\build\\usr\\share\\julia\\stdlib\\v1.3\\Serialization\\src\\Serialization.jl:799\ndeserialize(::Distributed.ClusterSerializer{Sockets.TCPSocket}) at D:\\buildbot\\worker\\package_win64\\build\\usr\\share\\julia\\stdlib\\v1.3\\Serialization\\src\\Serialization.jl:722\ndeserialize_datatype(::Distributed.ClusterSerializer{Sockets.TCPSocket}, ::Bool) at D:\\buildbot\\worker\\package_win64\\build\\usr\\share\\julia\\stdlib\\v1.3\\Serialization\\src\\Serialization.jl:1192\nhandle_deserialize(::Distributed.ClusterSerializer{Sockets.TCPSocket}, ::Int32) at D:\\buildbot\\worker\\package_win64\\build\\usr\\share\\julia\\stdlib\\v1.3\\Serialization\\src\\Serialization.jl:775\ndeserialize(::Distributed.ClusterSerializer{Sockets.TCPSocket}) at D:\\buildbot\\worker\\package_win64\\build\\usr\\share\\julia\\stdlib\\v1.3\\Serialization\\src\\Serialization.jl:722\nhandle_deserialize(::Distributed.ClusterSerializer{Sockets.TCPSocket}, ::Int32) at D:\\buildbot\\worker\\package_win64\\build\\usr\\share\\julia\\stdlib\\v1.3\\Serialization\\src\\Serialization.jl:782\ndeserialize at D:\\buildbot\\worker\\package_win64\\build\\usr\\share\\julia\\stdlib\\v1.3\\Serialization\\src\\Serialization.jl:722 [inlined]\ndeserialize_msg(::Distributed.ClusterSerializer{Sockets.TCPSocket}) at D:\\buildbot\\worker\\package_win64\\build\\usr\\share\\julia\\stdlib\\v1.3\\Distributed\\src\\messages.jl:99\n#invokelatest#1 at .\\essentials.jl:709 [inlined]\ninvokelatest at .\\essentials.jl:708 [inlined]\nmessage_handler_loop(::Sockets.TCPSocket, ::Sockets.TCPSocket, ::Bool) at D:\\buildbot\\worker\\package_win64\\build\\usr\\share\\julia\\stdlib\\v1.3\\Distributed\\src\\process_messages.jl:185\nprocess_tcp_streams(::Sockets.TCPSocket, ::Sockets.TCPSocket, ::Bool) at D:\\buildbot\\worker\\package_win64\\build\\usr\\share\\julia\\stdlib\\v1.3\\Distributed\\src\\process_messages.jl:142\n(::Distributed.var\"#101#102\"{Sockets.TCPSocket,Sockets.TCPSocket,Bool})() at .\\task.jl:333",
      "",
      "Stacktrace:",
      " [1] #remotecall_fetch#145 at D:\\buildbot\\worker\\package_win64\\build\\usr\\share\\julia\\stdlib\\v1.3\\Distributed\\src\\remotecall.jl:390 [inlined]",
      " [2] remotecall_fetch(::Function, ::Distributed.Worker) at D:\\buildbot\\worker\\package_win64\\build\\usr\\share\\julia\\stdlib\\v1.3\\Distributed\\src\\remotecall.jl:382",
      " [3] #remotecall_fetch#148(::Base.Iterators.Pairs{Union{},Union{},Tuple{},NamedTuple{(),Tuple{}}}, ::typeof(remotecall_fetch), ::Function, ::Int64) at D:\\buildbot\\worker\\package_win64\\build\\usr\\share\\julia\\stdlib\\v1.3\\Distributed\\src\\remotecall.jl:417",
      " [4] remotecall_fetch(::Function, ::Int64) at D:\\buildbot\\worker\\package_win64\\build\\usr\\share\\julia\\stdlib\\v1.3\\Distributed\\src\\remotecall.jl:417",
      " [5] top-level scope at In[31]:1"
     ]
    }
   ],
   "source": [
    "@fetch begin\n",
    "#     m = Chain(\n",
    "#     Dense(10, 5),\n",
    "#     Dense(5, 2),\n",
    "#     softmax # normalize output neurons\n",
    "#     ) |> gpu\n",
    "    \n",
    "    \n",
    "    data = rand(10, 100) |> gpu # fake data\n",
    "    labels = fill(0.5, 2, 100) |> gpu # fake data\n",
    "    \n",
    "#     loss(x, y) = sum(Flux.mse(m(x), y)) # mean squared error\n",
    "#     opt = Descent(0.01) # or ADAM\n",
    "end"
   ]
  },
  {
   "cell_type": "code",
   "execution_count": null,
   "metadata": {},
   "outputs": [],
   "source": []
  }
 ],
 "metadata": {
  "@webio": {
   "lastCommId": null,
   "lastKernelId": null
  },
  "kernelspec": {
   "display_name": "Julia 1.3.1",
   "language": "julia",
   "name": "julia-1.3"
  },
  "language_info": {
   "file_extension": ".jl",
   "mimetype": "application/julia",
   "name": "julia",
   "version": "1.3.1"
  }
 },
 "nbformat": 4,
 "nbformat_minor": 2
}
