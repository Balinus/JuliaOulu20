{
 "cells": [
  {
   "cell_type": "code",
   "execution_count": null,
   "metadata": {},
   "outputs": [],
   "source": [
    "using BenchmarkTools\n",
    "using Distributed\n",
    "gpu = addprocs([(\"cbauer17@gpu2\", 1)]; exename=`/projects/ag-trebst/bauer/bin/julia-1.3.1/bin/julia --project=/projects/ag-trebst/bauer/JuliaOulu20`, dir=\"/projects/ag-trebst/bauer/JuliaOulu20\", tunnel=true)[1]\n",
    "@fetchfrom gpu DEPOT_PATH[1] = \"/projects/ag-trebst/bauer/.julia\";\n",
    "@fetchfrom gpu eval(Meta.parse(\"using CuArrays, BenchmarkTools\"));"
   ]
  },
  {
   "cell_type": "code",
   "execution_count": null,
   "metadata": {},
   "outputs": [],
   "source": [
    "@everywhere begin\n",
    "    using Statistics\n",
    "    \n",
    "    function bench(A,B)\n",
    "        ts = zeros(100) # in ms\n",
    "        for i in eachindex(ts)\n",
    "            t = time();\n",
    "            A*B;\n",
    "            ts[i] = (time()-t) * 1e3\n",
    "        end\n",
    "        minimum(ts)\n",
    "    end\n",
    "end"
   ]
  },
  {
   "cell_type": "code",
   "execution_count": null,
   "metadata": {},
   "outputs": [],
   "source": [
    "@fetchfrom gpu begin\n",
    "    A, B = rand(1000,1000), rand(1000,1000);\n",
    "    Agpu, Bgpu = CuArray(A), CuArray(B);\n",
    "    \n",
    "    println(\"A*B (cpu)\")\n",
    "    A*B; # warmup\n",
    "    t = bench(A,B)\n",
    "    println(round(t, digits=2), \" ms\")\n",
    "\n",
    "    println(\"A*B (gpu)\")\n",
    "    Agpu*Bgpu; # warmup\n",
    "    t = bench(Agpu,Bgpu)\n",
    "    println(round(t * 1e3, digits=2), \" μs\")\n",
    "end"
   ]
  }
 ],
 "metadata": {
  "kernelspec": {
   "display_name": "Julia 1.3.1",
   "language": "julia",
   "name": "julia-1.3"
  },
  "language_info": {
   "file_extension": ".jl",
   "mimetype": "application/julia",
   "name": "julia",
   "version": "1.3.1"
  }
 },
 "nbformat": 4,
 "nbformat_minor": 2
}
