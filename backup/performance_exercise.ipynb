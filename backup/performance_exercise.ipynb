{
 "cells": [
  {
   "cell_type": "code",
   "execution_count": 50,
   "metadata": {},
   "outputs": [
    {
     "name": "stdout",
     "output_type": "stream",
     "text": [
      "\u001b[32m\u001b[1mActivating\u001b[22m\u001b[39m new environment at `C:\\Users\\carsten\\Desktop\\Oulu2020\\backup\\Project.toml`\n"
     ]
    }
   ],
   "source": [
    "] activate ."
   ]
  },
  {
   "cell_type": "code",
   "execution_count": 14,
   "metadata": {},
   "outputs": [],
   "source": [
    "using BenchmarkTools"
   ]
  },
  {
   "cell_type": "code",
   "execution_count": 15,
   "metadata": {},
   "outputs": [
    {
     "data": {
      "text/plain": [
       "work (generic function with 1 method)"
      ]
     },
     "execution_count": 15,
     "metadata": {},
     "output_type": "execute_result"
    }
   ],
   "source": [
    "function work(mat, s, v, N)\n",
    "    val = 0.0\n",
    "    for i in 1:N\n",
    "        for j in 1:N\n",
    "            val = mod(v[i],256);\n",
    "            mat[i,j] = s[i,j]*(sin(val)*sin(val)-cos(val)*cos(val));\n",
    "        end\n",
    "    end;\n",
    "end"
   ]
  },
  {
   "cell_type": "code",
   "execution_count": 16,
   "metadata": {},
   "outputs": [
    {
     "data": {
      "text/plain": [
       "\u001b[32m\u001b[1mTest Passed\u001b[22m\u001b[39m"
      ]
     },
     "execution_count": 16,
     "metadata": {},
     "output_type": "execute_result"
    }
   ],
   "source": [
    "using Test\n",
    "x = rand()\n",
    "@test 1-2*cos(x)*cos(x) ≈ sin(x)*sin(x)-cos(x)*cos(x)\n",
    "@test -cos(2*x) ≈ sin(x)*sin(x)-cos(x)*cos(x)"
   ]
  },
  {
   "cell_type": "code",
   "execution_count": 17,
   "metadata": {},
   "outputs": [
    {
     "data": {
      "text/plain": [
       "opt1 (generic function with 1 method)"
      ]
     },
     "execution_count": 17,
     "metadata": {},
     "output_type": "execute_result"
    }
   ],
   "source": [
    "# pulling out + analytical opt\n",
    "function opt1(mat, s, v, N)\n",
    "    val = 0.0\n",
    "    @inbounds for i in 1:N\n",
    "        val = mod(v[i],256);\n",
    "        val = -cos(2*val)\n",
    "        for j in 1:N\n",
    "            mat[i,j] = s[i,j]*val;\n",
    "        end\n",
    "    end;\n",
    "    mat\n",
    "end"
   ]
  },
  {
   "cell_type": "code",
   "execution_count": 18,
   "metadata": {},
   "outputs": [
    {
     "data": {
      "text/plain": [
       "opt12 (generic function with 1 method)"
      ]
     },
     "execution_count": 18,
     "metadata": {},
     "output_type": "execute_result"
    }
   ],
   "source": [
    "# pulling out + analytical opt + allocate values\n",
    "function opt12(mat, s, v, N)\n",
    "    val = Vector{Float64}(undef, length(v))\n",
    "    @inbounds for i in eachindex(val)\n",
    "        val[i] = -cos(2*mod(v[i],256));\n",
    "    end\n",
    "    \n",
    "    @inbounds for i in 1:N\n",
    "        for j in 1:N\n",
    "            mat[i,j] = s[i,j]*val[i];\n",
    "        end\n",
    "    end;\n",
    "    mat\n",
    "end"
   ]
  },
  {
   "cell_type": "code",
   "execution_count": 19,
   "metadata": {},
   "outputs": [
    {
     "data": {
      "text/plain": [
       "opt2 (generic function with 1 method)"
      ]
     },
     "execution_count": 19,
     "metadata": {},
     "output_type": "execute_result"
    }
   ],
   "source": [
    "# reordering loops\n",
    "function opt2(mat, s, v, N)\n",
    "    val = 0.0\n",
    "    @inbounds for j in 1:N\n",
    "        for i in 1:N\n",
    "            val = mod(v[i],256);\n",
    "            val = -cos(2*val)\n",
    "            mat[i,j] = s[i,j]*val;\n",
    "        end\n",
    "    end;\n",
    "end"
   ]
  },
  {
   "cell_type": "code",
   "execution_count": 20,
   "metadata": {},
   "outputs": [
    {
     "data": {
      "text/plain": [
       "opt22 (generic function with 1 method)"
      ]
     },
     "execution_count": 20,
     "metadata": {},
     "output_type": "execute_result"
    }
   ],
   "source": [
    "# reordering loops + allocate values\n",
    "function opt22(mat, s, v, N)\n",
    "    val = Vector{Float64}(undef, length(v))\n",
    "    @inbounds for i in eachindex(val)\n",
    "        val[i] = -cos(2*mod(v[i],256));\n",
    "    end\n",
    "    \n",
    "    @inbounds for j in 1:N\n",
    "        for i in 1:N\n",
    "            mat[i,j] = s[i,j]*val[i];\n",
    "        end\n",
    "    end;\n",
    "end"
   ]
  },
  {
   "cell_type": "code",
   "execution_count": 45,
   "metadata": {},
   "outputs": [
    {
     "data": {
      "text/plain": [
       "24"
      ]
     },
     "execution_count": 45,
     "metadata": {},
     "output_type": "execute_result"
    }
   ],
   "source": [
    "# memory bound!\n",
    "# s → 8 bytes\n",
    "# mat → 8 + 8 bytes (write allocate)\n",
    "B_c = 24 # bytes/it\n",
    "# I = bs / B_c"
   ]
  },
  {
   "cell_type": "code",
   "execution_count": 38,
   "metadata": {},
   "outputs": [
    {
     "data": {
      "text/plain": [
       "(32768, 262144, 6291456)"
      ]
     },
     "execution_count": 38,
     "metadata": {},
     "output_type": "execute_result"
    }
   ],
   "source": [
    "cachesize()"
   ]
  },
  {
   "cell_type": "code",
   "execution_count": 43,
   "metadata": {},
   "outputs": [],
   "source": [
    "# precalculate val (table)\n",
    "# vtab(i) = -0.5*cos(2*i)\n",
    "# IAND(v(i),255)"
   ]
  },
  {
   "cell_type": "code",
   "execution_count": null,
   "metadata": {},
   "outputs": [],
   "source": [
    "# reordering loops + allocate values\n",
    "function opt_blocking(mat, s, v, N)\n",
    "    val = Vector{Float64}(undef, length(v))\n",
    "    @inbounds for i in eachindex(val)\n",
    "        val[i] = -cos(2*mod(v[i],256));\n",
    "    end\n",
    "    \n",
    "    Nblock = 2\n",
    "    block_size = N/Nblock\n",
    "    @inbounds for iblock in 1:Nblock\n",
    "        for j in 1:N\n",
    "            for i in 1:N/Nblock\n",
    "                mat[i,j] = s[i,j]*val[i];\n",
    "            end\n",
    "        end\n",
    "    end;\n",
    "end"
   ]
  },
  {
   "cell_type": "code",
   "execution_count": 21,
   "metadata": {},
   "outputs": [
    {
     "data": {
      "text/plain": [
       "4"
      ]
     },
     "execution_count": 21,
     "metadata": {},
     "output_type": "execute_result"
    }
   ],
   "source": [
    "using Hwloc\n",
    "Hwloc.num_physical_cores()"
   ]
  },
  {
   "cell_type": "code",
   "execution_count": 22,
   "metadata": {},
   "outputs": [
    {
     "data": {
      "text/plain": [
       "opt22_threaded (generic function with 1 method)"
      ]
     },
     "execution_count": 22,
     "metadata": {},
     "output_type": "execute_result"
    }
   ],
   "source": [
    "function opt22_threaded(mat, s, v, N)\n",
    "    val = Vector{Float64}(undef, length(v))\n",
    "    @inbounds for i in eachindex(val)\n",
    "        val[i] = -cos(2*mod(v[i],256));\n",
    "    end\n",
    "    \n",
    "    @inbounds Threads.@threads for j in 1:N\n",
    "        for i in 1:N\n",
    "            mat[i,j] = s[i,j]*val[i];\n",
    "        end\n",
    "    end;\n",
    "    mat\n",
    "end"
   ]
  },
  {
   "cell_type": "code",
   "execution_count": 23,
   "metadata": {},
   "outputs": [],
   "source": [
    "N = 4000\n",
    "mat = zeros(N,N)\n",
    "s = rand(N,N)\n",
    "v = rand(Int, N);"
   ]
  },
  {
   "cell_type": "code",
   "execution_count": 24,
   "metadata": {},
   "outputs": [],
   "source": [
    "opt22_threaded(mat, s, v, N);"
   ]
  },
  {
   "cell_type": "code",
   "execution_count": 25,
   "metadata": {},
   "outputs": [
    {
     "name": "stdout",
     "output_type": "stream",
     "text": [
      "Performance: 20.388401573030933 MIt/s\n"
     ]
    }
   ],
   "source": [
    "runtime = @belapsed work($mat, $s, $v, $N);\n",
    "perf = N*N*1e-6/runtime # MIt/s\n",
    "println(\"Performance: $perf MIt/s\")"
   ]
  },
  {
   "cell_type": "code",
   "execution_count": 26,
   "metadata": {},
   "outputs": [
    {
     "name": "stdout",
     "output_type": "stream",
     "text": [
      "Performance: 78.76380212563812 MIt/s\n"
     ]
    }
   ],
   "source": [
    "runtime = @belapsed opt1($mat, $s, $v, $N);\n",
    "perf = N*N*1e-6/runtime # MIt/s\n",
    "println(\"Performance: $perf MIt/s\")"
   ]
  },
  {
   "cell_type": "code",
   "execution_count": 27,
   "metadata": {},
   "outputs": [
    {
     "name": "stdout",
     "output_type": "stream",
     "text": [
      "Performance: 71.90096720282318 MIt/s\n"
     ]
    }
   ],
   "source": [
    "runtime = @belapsed opt12($mat, $s, $v, $N);\n",
    "perf = N*N*1e-6/runtime # MIt/s\n",
    "println(\"Performance: $perf MIt/s\")"
   ]
  },
  {
   "cell_type": "code",
   "execution_count": 28,
   "metadata": {},
   "outputs": [
    {
     "name": "stdout",
     "output_type": "stream",
     "text": [
      "Performance: 56.04036307150225 MIt/s\n"
     ]
    }
   ],
   "source": [
    "runtime = @belapsed opt2($mat, $s, $v, $N);\n",
    "perf = N*N*1e-6/runtime # MIt/s\n",
    "println(\"Performance: $perf MIt/s\")"
   ]
  },
  {
   "cell_type": "code",
   "execution_count": 29,
   "metadata": {},
   "outputs": [
    {
     "name": "stdout",
     "output_type": "stream",
     "text": [
      "Performance: 1138.3282227139166 MIt/s\n"
     ]
    }
   ],
   "source": [
    "runtime = @belapsed opt22($mat, $s, $v, $N);\n",
    "perf = N*N*1e-6/runtime # MIt/s\n",
    "println(\"Performance: $perf MIt/s\")"
   ]
  },
  {
   "cell_type": "code",
   "execution_count": 18,
   "metadata": {},
   "outputs": [
    {
     "data": {
      "text/plain": [
       "52.957615277130884"
      ]
     },
     "execution_count": 18,
     "metadata": {},
     "output_type": "execute_result"
    }
   ],
   "source": [
    "1137/21.47"
   ]
  },
  {
   "cell_type": "code",
   "execution_count": 30,
   "metadata": {},
   "outputs": [
    {
     "name": "stdout",
     "output_type": "stream",
     "text": [
      "Performance: 1172.5993721170087 MIt/s\n"
     ]
    }
   ],
   "source": [
    "runtime = @belapsed opt22_threaded($mat, $s, $v, $N);\n",
    "perf = N*N*1e-6/runtime # MIt/s\n",
    "println(\"Performance: $perf MIt/s\")\n",
    "# Performanc (1 thread):   678.7915812874131 MIt/s\n",
    "# Performance (4 threads): 1172.5993721170087 MIt/s"
   ]
  },
  {
   "cell_type": "code",
   "execution_count": 93,
   "metadata": {},
   "outputs": [
    {
     "data": {
      "text/plain": [
       "86"
      ]
     },
     "execution_count": 93,
     "metadata": {},
     "output_type": "execute_result"
    }
   ],
   "source": [
    "emmy = 86"
   ]
  },
  {
   "cell_type": "code",
   "execution_count": null,
   "metadata": {},
   "outputs": [],
   "source": [
    "emmy_opt = 600"
   ]
  },
  {
   "cell_type": "code",
   "execution_count": null,
   "metadata": {},
   "outputs": [],
   "source": [
    "emmy_opt_threaded = 1.8 * 1e9"
   ]
  },
  {
   "cell_type": "markdown",
   "metadata": {},
   "source": [
    "# Multiple `N`"
   ]
  },
  {
   "cell_type": "code",
   "execution_count": 18,
   "metadata": {},
   "outputs": [],
   "source": [
    "using Plots\n",
    "\n",
    "runtime = @belapsed work($mat, $s, $v);\n",
    "perf = N*N*1e-6/runtime # MIt/s\n",
    "println(\"Performance: $perf MIt/s\")"
   ]
  }
 ],
 "metadata": {
  "kernelspec": {
   "display_name": "Julia (4 threads) 1.3.1",
   "language": "julia",
   "name": "julia-(4-threads)-1.3"
  },
  "language_info": {
   "file_extension": ".jl",
   "mimetype": "application/julia",
   "name": "julia",
   "version": "1.3.1"
  }
 },
 "nbformat": 4,
 "nbformat_minor": 4
}
