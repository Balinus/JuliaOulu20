{
 "cells": [
  {
   "cell_type": "markdown",
   "metadata": {},
   "source": [
    "# Generic programming"
   ]
  },
  {
   "cell_type": "markdown",
   "metadata": {},
   "source": [
    "From [Wikipedia](https://en.wikipedia.org/wiki/Generic_programming):\n",
    "> **Generic programming** is a style of computer programming in which algorithms are written in terms of types *to-be-specified-later* that are then *instantiated* when needed for specific types provided as parameters."
   ]
  },
  {
   "cell_type": "markdown",
   "metadata": {},
   "source": [
    "# Example: Vandermonde matrix (revisited)"
   ]
  },
  {
   "cell_type": "markdown",
   "metadata": {},
   "source": [
    "[Vandermonde matrix:](https://en.wikipedia.org/wiki/Vandermonde_matrix)\n",
    "\\begin{align}V=\\begin{bmatrix}1&\\alpha _{1}&\\alpha _{1}^{2}&\\dots &\\alpha _{1}^{n-1}\\\\1&\\alpha _{2}&\\alpha _{2}^{2}&\\dots &\\alpha _{2}^{n-1}\\\\1&\\alpha _{3}&\\alpha _{3}^{2}&\\dots &\\alpha _{3}^{n-1}\\\\\\vdots &\\vdots &\\vdots &\\ddots &\\vdots \\\\1&\\alpha _{m}&\\alpha _{m}^{2}&\\dots &\\alpha _{m}^{n-1}\\end{bmatrix}\\end{align}"
   ]
  },
  {
   "cell_type": "code",
   "execution_count": null,
   "metadata": {},
   "outputs": [],
   "source": [
    "function vander_naive(x::Vector)\n",
    "    m = length(x)\n",
    "    V = Matrix{Float64}(undef, m, m)\n",
    "    for j = 1:m\n",
    "        V[j,1] = 1.0\n",
    "    end\n",
    "    for i= 2:m\n",
    "        for j = 1:m\n",
    "            V[j,i] = x[j] * V[j,i-1]\n",
    "            end\n",
    "        end\n",
    "    return V\n",
    "end"
   ]
  },
  {
   "cell_type": "code",
   "execution_count": null,
   "metadata": {},
   "outputs": [],
   "source": [
    "vander_naive(rand(3))"
   ]
  },
  {
   "cell_type": "code",
   "execution_count": null,
   "metadata": {},
   "outputs": [],
   "source": [
    "vander_naive(1:3)"
   ]
  },
  {
   "cell_type": "code",
   "execution_count": null,
   "metadata": {},
   "outputs": [],
   "source": [
    "vander_naive([1,2,3])"
   ]
  },
  {
   "cell_type": "markdown",
   "metadata": {},
   "source": [
    "Why is the result a matrix of floating point numbers....?\n",
    "\n",
    "Even worse:"
   ]
  },
  {
   "cell_type": "code",
   "execution_count": null,
   "metadata": {},
   "outputs": [],
   "source": [
    "vander_naive(rand(ComplexF64, 3))"
   ]
  },
  {
   "cell_type": "markdown",
   "metadata": {},
   "source": [
    "* Keep function argument types generic if possible\n",
    "* Avoid explicit typing if possible"
   ]
  },
  {
   "cell_type": "code",
   "execution_count": null,
   "metadata": {},
   "outputs": [],
   "source": [
    "function vander_generic(x::AbstractVector{T}) where T\n",
    "    m = length(x)\n",
    "    V = Matrix{T}(undef, m, m)\n",
    "    for j = 1:m\n",
    "        V[j,1] = one(x[j])\n",
    "    end\n",
    "    for i= 2:m\n",
    "        for j = 1:m\n",
    "            V[j,i] = x[j] * V[j,i-1]\n",
    "            end\n",
    "        end\n",
    "    return V\n",
    "end"
   ]
  },
  {
   "cell_type": "code",
   "execution_count": null,
   "metadata": {},
   "outputs": [],
   "source": [
    "vander_generic([3, \"Stadt\", 4 + 5im])"
   ]
  },
  {
   "cell_type": "markdown",
   "metadata": {},
   "source": [
    "### And all of this comes at no performance penality"
   ]
  },
  {
   "cell_type": "code",
   "execution_count": null,
   "metadata": {},
   "outputs": [],
   "source": [
    "using BenchmarkTools"
   ]
  },
  {
   "cell_type": "code",
   "execution_count": null,
   "metadata": {},
   "outputs": [],
   "source": [
    "x = rand(Float64, 100);\n",
    "@btime vander_naive($x);\n",
    "@btime vander_generic($x);"
   ]
  },
  {
   "cell_type": "markdown",
   "metadata": {},
   "source": [
    "Actually, for this specific example **our generic code is faster** in a few cases inasmuch as type conversions are unnecessary."
   ]
  },
  {
   "cell_type": "code",
   "execution_count": null,
   "metadata": {},
   "outputs": [],
   "source": [
    "x = rand(Int, 100);\n",
    "@btime vander_naive($x);\n",
    "@btime vander_generic($x);"
   ]
  },
  {
   "cell_type": "code",
   "execution_count": null,
   "metadata": {},
   "outputs": [],
   "source": [
    "x = rand(Bool, 100);\n",
    "@btime vander_naive($x);\n",
    "@btime vander_generic($x);"
   ]
  },
  {
   "cell_type": "markdown",
   "metadata": {},
   "source": [
    "On the other hand, sometimes it is worth converting to a different type to dispatch to a faster method or to utilize magic like compiler optimizations."
   ]
  },
  {
   "cell_type": "code",
   "execution_count": null,
   "metadata": {},
   "outputs": [],
   "source": [
    "x = rand(Float32, 100);\n",
    "@btime vander_naive($x);\n",
    "@btime vander_generic($x);"
   ]
  },
  {
   "cell_type": "markdown",
   "metadata": {},
   "source": [
    "# Generic Programming + Multiple Dispatch + JIT"
   ]
  },
  {
   "cell_type": "markdown",
   "metadata": {},
   "source": [
    "The possibility to write generic algorithms that compile to fast machine code in combination with multiple dispatch leads to an ([unreasonable](https://www.youtube.com/watch?v=kc9HwsxE1OY)) amount of code reuse. This sharing of code comes in two forms:\n",
    "1. **Sharing generic algorithms** that work for different package-defined types implementing common abstractions.\n",
    " * Examples: StatsBase.jl, SortingAlgorithms.jl, GenericLinearAlgebra.jl,\n",
    "2. **Sharing types** among a wide variety of packages implementing different algorithms;\n",
    " * Examples: DataStructures.jl, OrderedCollections.jl, StaticArrays.jl, Colors.jl, Measurements.jl\n",
    " * **You can define methods on types after the type is defined!**"
   ]
  },
  {
   "cell_type": "markdown",
   "metadata": {},
   "source": [
    " <img src=\"revdeps.png\" alt=\"drawing\" width=\"800\"/>"
   ]
  },
  {
   "cell_type": "markdown",
   "metadata": {},
   "source": [
    "As of the time of this writing, **804 packages** depend on the data types provided in [DataStructures.jl](https://juliacollections.github.io/DataStructures.jl/latest/).\n",
    "\n",
    "**851 packages** reuse type implementations in [OrderedCollections.jl](https://github.com/JuliaCollections/OrderedCollections.jl).\n",
    "\n",
    "**That's about every third package!**"
   ]
  },
  {
   "cell_type": "markdown",
   "metadata": {},
   "source": [
    "# Let's get a bit more fancy!"
   ]
  },
  {
   "cell_type": "code",
   "execution_count": null,
   "metadata": {},
   "outputs": [],
   "source": [
    "using Interact"
   ]
  },
  {
   "cell_type": "code",
   "execution_count": null,
   "metadata": {},
   "outputs": [],
   "source": [
    "@manipulate for n in 1:20\n",
    "    [i*j for i in 1:n, j in 1:n]\n",
    "end"
   ]
  },
  {
   "cell_type": "code",
   "execution_count": null,
   "metadata": {},
   "outputs": [],
   "source": [
    "function insert_block(A::AbstractMatrix, i, j, what=7)\n",
    "    B = copy(A)\n",
    "    B[i:i+2, j:j+2] .= what\n",
    "    B\n",
    "end"
   ]
  },
  {
   "cell_type": "code",
   "execution_count": null,
   "metadata": {},
   "outputs": [],
   "source": [
    "A = fill(0, 9, 9)\n",
    "insert_block(A, 3, 5)  # this returns the new matrix"
   ]
  },
  {
   "cell_type": "code",
   "execution_count": null,
   "metadata": {},
   "outputs": [],
   "source": [
    "A = fill(0, 10, 10)\n",
    "n = size(A, 1)\n",
    "\n",
    "@manipulate for i in 1:n-2, j in 1:n-2\n",
    "    insert_block(A, i, j)\n",
    "end"
   ]
  },
  {
   "cell_type": "markdown",
   "metadata": {},
   "source": [
    "### Let's add some color!"
   ]
  },
  {
   "cell_type": "markdown",
   "metadata": {},
   "source": [
    "Our function `insert_block` is generic. Since the first argument `A isa AbstractArray`, we can index into it and set new values. Pretty much every value type is fine!"
   ]
  },
  {
   "cell_type": "code",
   "execution_count": null,
   "metadata": {},
   "outputs": [],
   "source": [
    "using Colors"
   ]
  },
  {
   "cell_type": "code",
   "execution_count": null,
   "metadata": {},
   "outputs": [],
   "source": [
    "@manipulate for n in 1:80\n",
    "    distinguishable_colors(n)\n",
    "end"
   ]
  },
  {
   "cell_type": "code",
   "execution_count": null,
   "metadata": {},
   "outputs": [],
   "source": [
    "colors = distinguishable_colors(10)"
   ]
  },
  {
   "cell_type": "code",
   "execution_count": null,
   "metadata": {},
   "outputs": [],
   "source": [
    "colors[1]"
   ]
  },
  {
   "cell_type": "code",
   "execution_count": null,
   "metadata": {},
   "outputs": [],
   "source": [
    "A = fill(colors[1], 10, 10)\n",
    "n = size(A, 1)\n",
    "\n",
    "@manipulate for i in 1:n-2, j in 1:n-2\n",
    "    insert_block(A, i, j, colors[4])\n",
    "end"
   ]
  },
  {
   "cell_type": "markdown",
   "metadata": {},
   "source": [
    "## Emergent features: Example DifferentiaEquations.jl"
   ]
  },
  {
   "cell_type": "markdown",
   "metadata": {},
   "source": [
    "$$\\frac{du}{dt} = f(u,p,t)$$"
   ]
  },
  {
   "cell_type": "markdown",
   "metadata": {},
   "source": [
    "`Measurement` type from [Measurements.jl]() and differential equation solver from [OrdinaryDiffEq.jl](https://github.com/JuliaDiffEq/OrdinaryDiffEq.jl) (i.e. [DifferentialEquations.jl](https://github.com/JuliaDiffEq/DifferentialEquations.jl))"
   ]
  },
  {
   "cell_type": "code",
   "execution_count": 5,
   "metadata": {},
   "outputs": [
    {
     "data": {
      "text/plain": [
       "\u001b[36mODEProblem\u001b[0m with uType \u001b[36mFloat64\u001b[0m and tType \u001b[36mFloat64\u001b[0m. In-place: \u001b[36mfalse\u001b[0m\n",
       "timespan: (0.0, 1.0)\n",
       "u0: 1.0"
      ]
     },
     "execution_count": 5,
     "metadata": {},
     "output_type": "execute_result"
    }
   ],
   "source": [
    "using OrdinaryDiffEq\n",
    "\n",
    "#Half-life of Carbon-14 is 5730 years.\n",
    "c = 5.730\n",
    "\n",
    "#Setup\n",
    "u0 = 1.0\n",
    "tspan = (0.0, 1.0)\n",
    "\n",
    "#Define the problem\n",
    "radioactivedecay(u,p,t) = -c*u\n",
    "\n",
    "#Pass to solver\n",
    "prob = ODEProblem(radioactivedecay,u0,tspan)"
   ]
  },
  {
   "cell_type": "code",
   "execution_count": 6,
   "metadata": {},
   "outputs": [],
   "source": [
    "sol = solve(prob, Tsit5(), reltol=1e-8, abstol=1e-8);"
   ]
  },
  {
   "cell_type": "code",
   "execution_count": 24,
   "metadata": {},
   "outputs": [
    {
     "data": {
      "image/svg+xml": [
       "<?xml version=\"1.0\" encoding=\"utf-8\"?>\n",
       "<svg xmlns=\"http://www.w3.org/2000/svg\" xmlns:xlink=\"http://www.w3.org/1999/xlink\" width=\"600\" height=\"400\" viewBox=\"0 0 2400 1600\">\n",
       "<defs>\n",
       "  <clipPath id=\"clip9600\">\n",
       "    <rect x=\"0\" y=\"0\" width=\"2400\" height=\"1600\"/>\n",
       "  </clipPath>\n",
       "</defs>\n",
       "<path clip-path=\"url(#clip9600)\" d=\"\n",
       "M0 1600 L2400 1600 L2400 0 L0 0  Z\n",
       "  \" fill=\"#ffffff\" fill-rule=\"evenodd\" fill-opacity=\"1\"/>\n",
       "<defs>\n",
       "  <clipPath id=\"clip9601\">\n",
       "    <rect x=\"480\" y=\"0\" width=\"1681\" height=\"1600\"/>\n",
       "  </clipPath>\n",
       "</defs>\n",
       "<path clip-path=\"url(#clip9600)\" d=\"\n",
       "M242.516 1425.62 L2352.76 1425.62 L2352.76 47.2441 L242.516 47.2441  Z\n",
       "  \" fill=\"#ffffff\" fill-rule=\"evenodd\" fill-opacity=\"1\"/>\n",
       "<defs>\n",
       "  <clipPath id=\"clip9602\">\n",
       "    <rect x=\"242\" y=\"47\" width=\"2111\" height=\"1379\"/>\n",
       "  </clipPath>\n",
       "</defs>\n",
       "<polyline clip-path=\"url(#clip9602)\" style=\"stroke:#000000; stroke-width:2; stroke-opacity:0.1; fill:none\" points=\"\n",
       "  302.24,1425.62 302.24,47.2441 \n",
       "  \"/>\n",
       "<polyline clip-path=\"url(#clip9602)\" style=\"stroke:#000000; stroke-width:2; stroke-opacity:0.1; fill:none\" points=\"\n",
       "  799.938,1425.62 799.938,47.2441 \n",
       "  \"/>\n",
       "<polyline clip-path=\"url(#clip9602)\" style=\"stroke:#000000; stroke-width:2; stroke-opacity:0.1; fill:none\" points=\"\n",
       "  1297.64,1425.62 1297.64,47.2441 \n",
       "  \"/>\n",
       "<polyline clip-path=\"url(#clip9602)\" style=\"stroke:#000000; stroke-width:2; stroke-opacity:0.1; fill:none\" points=\"\n",
       "  1795.33,1425.62 1795.33,47.2441 \n",
       "  \"/>\n",
       "<polyline clip-path=\"url(#clip9602)\" style=\"stroke:#000000; stroke-width:2; stroke-opacity:0.1; fill:none\" points=\"\n",
       "  2293.03,1425.62 2293.03,47.2441 \n",
       "  \"/>\n",
       "<polyline clip-path=\"url(#clip9602)\" style=\"stroke:#000000; stroke-width:2; stroke-opacity:0.1; fill:none\" points=\"\n",
       "  242.516,1390.84 2352.76,1390.84 \n",
       "  \"/>\n",
       "<polyline clip-path=\"url(#clip9602)\" style=\"stroke:#000000; stroke-width:2; stroke-opacity:0.1; fill:none\" points=\"\n",
       "  242.516,1064.7 2352.76,1064.7 \n",
       "  \"/>\n",
       "<polyline clip-path=\"url(#clip9602)\" style=\"stroke:#000000; stroke-width:2; stroke-opacity:0.1; fill:none\" points=\"\n",
       "  242.516,738.549 2352.76,738.549 \n",
       "  \"/>\n",
       "<polyline clip-path=\"url(#clip9602)\" style=\"stroke:#000000; stroke-width:2; stroke-opacity:0.1; fill:none\" points=\"\n",
       "  242.516,412.402 2352.76,412.402 \n",
       "  \"/>\n",
       "<polyline clip-path=\"url(#clip9602)\" style=\"stroke:#000000; stroke-width:2; stroke-opacity:0.1; fill:none\" points=\"\n",
       "  242.516,86.2547 2352.76,86.2547 \n",
       "  \"/>\n",
       "<polyline clip-path=\"url(#clip9600)\" style=\"stroke:#000000; stroke-width:4; stroke-opacity:1; fill:none\" points=\"\n",
       "  242.516,1425.62 2352.76,1425.62 \n",
       "  \"/>\n",
       "<polyline clip-path=\"url(#clip9600)\" style=\"stroke:#000000; stroke-width:4; stroke-opacity:1; fill:none\" points=\"\n",
       "  242.516,1425.62 242.516,47.2441 \n",
       "  \"/>\n",
       "<polyline clip-path=\"url(#clip9600)\" style=\"stroke:#000000; stroke-width:4; stroke-opacity:1; fill:none\" points=\"\n",
       "  302.24,1425.62 302.24,1409.08 \n",
       "  \"/>\n",
       "<polyline clip-path=\"url(#clip9600)\" style=\"stroke:#000000; stroke-width:4; stroke-opacity:1; fill:none\" points=\"\n",
       "  799.938,1425.62 799.938,1409.08 \n",
       "  \"/>\n",
       "<polyline clip-path=\"url(#clip9600)\" style=\"stroke:#000000; stroke-width:4; stroke-opacity:1; fill:none\" points=\"\n",
       "  1297.64,1425.62 1297.64,1409.08 \n",
       "  \"/>\n",
       "<polyline clip-path=\"url(#clip9600)\" style=\"stroke:#000000; stroke-width:4; stroke-opacity:1; fill:none\" points=\"\n",
       "  1795.33,1425.62 1795.33,1409.08 \n",
       "  \"/>\n",
       "<polyline clip-path=\"url(#clip9600)\" style=\"stroke:#000000; stroke-width:4; stroke-opacity:1; fill:none\" points=\"\n",
       "  2293.03,1425.62 2293.03,1409.08 \n",
       "  \"/>\n",
       "<polyline clip-path=\"url(#clip9600)\" style=\"stroke:#000000; stroke-width:4; stroke-opacity:1; fill:none\" points=\"\n",
       "  242.516,1390.84 267.839,1390.84 \n",
       "  \"/>\n",
       "<polyline clip-path=\"url(#clip9600)\" style=\"stroke:#000000; stroke-width:4; stroke-opacity:1; fill:none\" points=\"\n",
       "  242.516,1064.7 267.839,1064.7 \n",
       "  \"/>\n",
       "<polyline clip-path=\"url(#clip9600)\" style=\"stroke:#000000; stroke-width:4; stroke-opacity:1; fill:none\" points=\"\n",
       "  242.516,738.549 267.839,738.549 \n",
       "  \"/>\n",
       "<polyline clip-path=\"url(#clip9600)\" style=\"stroke:#000000; stroke-width:4; stroke-opacity:1; fill:none\" points=\"\n",
       "  242.516,412.402 267.839,412.402 \n",
       "  \"/>\n",
       "<polyline clip-path=\"url(#clip9600)\" style=\"stroke:#000000; stroke-width:4; stroke-opacity:1; fill:none\" points=\"\n",
       "  242.516,86.2547 267.839,86.2547 \n",
       "  \"/>\n",
       "<g clip-path=\"url(#clip9600)\">\n",
       "<text style=\"fill:#000000; fill-opacity:1; font-family:Arial,Helvetica Neue,Helvetica,sans-serif; font-size:48px; text-anchor:middle;\" transform=\"rotate(0, 302.24, 1479.62)\" x=\"302.24\" y=\"1479.62\">0.00</text>\n",
       "</g>\n",
       "<g clip-path=\"url(#clip9600)\">\n",
       "<text style=\"fill:#000000; fill-opacity:1; font-family:Arial,Helvetica Neue,Helvetica,sans-serif; font-size:48px; text-anchor:middle;\" transform=\"rotate(0, 799.938, 1479.62)\" x=\"799.938\" y=\"1479.62\">0.25</text>\n",
       "</g>\n",
       "<g clip-path=\"url(#clip9600)\">\n",
       "<text style=\"fill:#000000; fill-opacity:1; font-family:Arial,Helvetica Neue,Helvetica,sans-serif; font-size:48px; text-anchor:middle;\" transform=\"rotate(0, 1297.64, 1479.62)\" x=\"1297.64\" y=\"1479.62\">0.50</text>\n",
       "</g>\n",
       "<g clip-path=\"url(#clip9600)\">\n",
       "<text style=\"fill:#000000; fill-opacity:1; font-family:Arial,Helvetica Neue,Helvetica,sans-serif; font-size:48px; text-anchor:middle;\" transform=\"rotate(0, 1795.33, 1479.62)\" x=\"1795.33\" y=\"1479.62\">0.75</text>\n",
       "</g>\n",
       "<g clip-path=\"url(#clip9600)\">\n",
       "<text style=\"fill:#000000; fill-opacity:1; font-family:Arial,Helvetica Neue,Helvetica,sans-serif; font-size:48px; text-anchor:middle;\" transform=\"rotate(0, 2293.03, 1479.62)\" x=\"2293.03\" y=\"1479.62\">1.00</text>\n",
       "</g>\n",
       "<g clip-path=\"url(#clip9600)\">\n",
       "<text style=\"fill:#000000; fill-opacity:1; font-family:Arial,Helvetica Neue,Helvetica,sans-serif; font-size:48px; text-anchor:end;\" transform=\"rotate(0, 218.516, 1408.34)\" x=\"218.516\" y=\"1408.34\">0.00</text>\n",
       "</g>\n",
       "<g clip-path=\"url(#clip9600)\">\n",
       "<text style=\"fill:#000000; fill-opacity:1; font-family:Arial,Helvetica Neue,Helvetica,sans-serif; font-size:48px; text-anchor:end;\" transform=\"rotate(0, 218.516, 1082.2)\" x=\"218.516\" y=\"1082.2\">0.25</text>\n",
       "</g>\n",
       "<g clip-path=\"url(#clip9600)\">\n",
       "<text style=\"fill:#000000; fill-opacity:1; font-family:Arial,Helvetica Neue,Helvetica,sans-serif; font-size:48px; text-anchor:end;\" transform=\"rotate(0, 218.516, 756.049)\" x=\"218.516\" y=\"756.049\">0.50</text>\n",
       "</g>\n",
       "<g clip-path=\"url(#clip9600)\">\n",
       "<text style=\"fill:#000000; fill-opacity:1; font-family:Arial,Helvetica Neue,Helvetica,sans-serif; font-size:48px; text-anchor:end;\" transform=\"rotate(0, 218.516, 429.902)\" x=\"218.516\" y=\"429.902\">0.75</text>\n",
       "</g>\n",
       "<g clip-path=\"url(#clip9600)\">\n",
       "<text style=\"fill:#000000; fill-opacity:1; font-family:Arial,Helvetica Neue,Helvetica,sans-serif; font-size:48px; text-anchor:end;\" transform=\"rotate(0, 218.516, 103.755)\" x=\"218.516\" y=\"103.755\">1.00</text>\n",
       "</g>\n",
       "<g clip-path=\"url(#clip9600)\">\n",
       "<text style=\"fill:#000000; fill-opacity:1; font-family:Arial,Helvetica Neue,Helvetica,sans-serif; font-size:66px; text-anchor:middle;\" transform=\"rotate(0, 1297.64, 1559.48)\" x=\"1297.64\" y=\"1559.48\">t</text>\n",
       "</g>\n",
       "<g clip-path=\"url(#clip9600)\">\n",
       "<text style=\"fill:#000000; fill-opacity:1; font-family:Arial,Helvetica Neue,Helvetica,sans-serif; font-size:66px; text-anchor:middle;\" transform=\"rotate(-90, 89.2861, 736.431)\" x=\"89.2861\" y=\"736.431\">u(t)</text>\n",
       "</g>\n",
       "<polyline clip-path=\"url(#clip9602)\" style=\"stroke:#009af9; stroke-width:8; stroke-opacity:1; fill:none\" points=\"\n",
       "  302.24,86.2547 313.616,128.277 326.886,175.592 343.352,231.844 362.057,292.592 383.282,357.678 406.525,424.533 431.706,492.091 458.52,558.846 486.814,623.916 \n",
       "  516.389,686.499 547.112,746.108 578.855,802.403 611.524,855.212 645.042,904.473 679.355,950.211 714.419,992.511 750.21,1031.5 786.71,1067.34 823.915,1100.19 \n",
       "  861.826,1130.24 900.453,1157.66 939.813,1182.63 979.926,1205.34 1020.82,1225.93 1062.52,1244.59 1105.06,1261.44 1148.49,1276.65 1192.84,1290.33 1238.16,1302.62 \n",
       "  1284.49,1313.64 1331.89,1323.48 1380.42,1332.27 1430.14,1340.08 1481.11,1347 1533.4,1353.13 1587.09,1358.53 1642.26,1363.27 1698.99,1367.43 1757.39,1371.05 \n",
       "  1817.54,1374.2 1879.58,1376.92 1943.61,1379.26 2009.76,1381.27 2078.19,1382.98 2149.05,1384.43 2222.51,1385.65 2293.03,1386.61 \n",
       "  \"/>\n",
       "</svg>\n"
      ]
     },
     "execution_count": 24,
     "metadata": {},
     "output_type": "execute_result"
    }
   ],
   "source": [
    "using Plots\n",
    "\n",
    "plot(sol.t, sol.u, ylabel=\"u(t)\", xlabel=\"t\", lw=2, legend=false)"
   ]
  },
  {
   "cell_type": "markdown",
   "metadata": {},
   "source": [
    "### Arbitrary precision"
   ]
  },
  {
   "cell_type": "code",
   "execution_count": 25,
   "metadata": {},
   "outputs": [
    {
     "data": {
      "image/svg+xml": [
       "<?xml version=\"1.0\" encoding=\"utf-8\"?>\n",
       "<svg xmlns=\"http://www.w3.org/2000/svg\" xmlns:xlink=\"http://www.w3.org/1999/xlink\" width=\"600\" height=\"400\" viewBox=\"0 0 2400 1600\">\n",
       "<defs>\n",
       "  <clipPath id=\"clip0000\">\n",
       "    <rect x=\"0\" y=\"0\" width=\"2400\" height=\"1600\"/>\n",
       "  </clipPath>\n",
       "</defs>\n",
       "<path clip-path=\"url(#clip0000)\" d=\"\n",
       "M0 1600 L2400 1600 L2400 0 L0 0  Z\n",
       "  \" fill=\"#ffffff\" fill-rule=\"evenodd\" fill-opacity=\"1\"/>\n",
       "<defs>\n",
       "  <clipPath id=\"clip0001\">\n",
       "    <rect x=\"480\" y=\"0\" width=\"1681\" height=\"1600\"/>\n",
       "  </clipPath>\n",
       "</defs>\n",
       "<path clip-path=\"url(#clip0000)\" d=\"\n",
       "M242.516 1425.62 L2352.76 1425.62 L2352.76 47.2441 L242.516 47.2441  Z\n",
       "  \" fill=\"#ffffff\" fill-rule=\"evenodd\" fill-opacity=\"1\"/>\n",
       "<defs>\n",
       "  <clipPath id=\"clip0002\">\n",
       "    <rect x=\"242\" y=\"47\" width=\"2111\" height=\"1379\"/>\n",
       "  </clipPath>\n",
       "</defs>\n",
       "<polyline clip-path=\"url(#clip0002)\" style=\"stroke:#000000; stroke-width:2; stroke-opacity:0.1; fill:none\" points=\"\n",
       "  302.24,1425.62 302.24,47.2441 \n",
       "  \"/>\n",
       "<polyline clip-path=\"url(#clip0002)\" style=\"stroke:#000000; stroke-width:2; stroke-opacity:0.1; fill:none\" points=\"\n",
       "  799.938,1425.62 799.938,47.2441 \n",
       "  \"/>\n",
       "<polyline clip-path=\"url(#clip0002)\" style=\"stroke:#000000; stroke-width:2; stroke-opacity:0.1; fill:none\" points=\"\n",
       "  1297.64,1425.62 1297.64,47.2441 \n",
       "  \"/>\n",
       "<polyline clip-path=\"url(#clip0002)\" style=\"stroke:#000000; stroke-width:2; stroke-opacity:0.1; fill:none\" points=\"\n",
       "  1795.33,1425.62 1795.33,47.2441 \n",
       "  \"/>\n",
       "<polyline clip-path=\"url(#clip0002)\" style=\"stroke:#000000; stroke-width:2; stroke-opacity:0.1; fill:none\" points=\"\n",
       "  2293.03,1425.62 2293.03,47.2441 \n",
       "  \"/>\n",
       "<polyline clip-path=\"url(#clip0002)\" style=\"stroke:#000000; stroke-width:2; stroke-opacity:0.1; fill:none\" points=\"\n",
       "  242.516,1390.84 2352.76,1390.84 \n",
       "  \"/>\n",
       "<polyline clip-path=\"url(#clip0002)\" style=\"stroke:#000000; stroke-width:2; stroke-opacity:0.1; fill:none\" points=\"\n",
       "  242.516,1064.7 2352.76,1064.7 \n",
       "  \"/>\n",
       "<polyline clip-path=\"url(#clip0002)\" style=\"stroke:#000000; stroke-width:2; stroke-opacity:0.1; fill:none\" points=\"\n",
       "  242.516,738.549 2352.76,738.549 \n",
       "  \"/>\n",
       "<polyline clip-path=\"url(#clip0002)\" style=\"stroke:#000000; stroke-width:2; stroke-opacity:0.1; fill:none\" points=\"\n",
       "  242.516,412.402 2352.76,412.402 \n",
       "  \"/>\n",
       "<polyline clip-path=\"url(#clip0002)\" style=\"stroke:#000000; stroke-width:2; stroke-opacity:0.1; fill:none\" points=\"\n",
       "  242.516,86.2547 2352.76,86.2547 \n",
       "  \"/>\n",
       "<polyline clip-path=\"url(#clip0000)\" style=\"stroke:#000000; stroke-width:4; stroke-opacity:1; fill:none\" points=\"\n",
       "  242.516,1425.62 2352.76,1425.62 \n",
       "  \"/>\n",
       "<polyline clip-path=\"url(#clip0000)\" style=\"stroke:#000000; stroke-width:4; stroke-opacity:1; fill:none\" points=\"\n",
       "  242.516,1425.62 242.516,47.2441 \n",
       "  \"/>\n",
       "<polyline clip-path=\"url(#clip0000)\" style=\"stroke:#000000; stroke-width:4; stroke-opacity:1; fill:none\" points=\"\n",
       "  302.24,1425.62 302.24,1409.08 \n",
       "  \"/>\n",
       "<polyline clip-path=\"url(#clip0000)\" style=\"stroke:#000000; stroke-width:4; stroke-opacity:1; fill:none\" points=\"\n",
       "  799.938,1425.62 799.938,1409.08 \n",
       "  \"/>\n",
       "<polyline clip-path=\"url(#clip0000)\" style=\"stroke:#000000; stroke-width:4; stroke-opacity:1; fill:none\" points=\"\n",
       "  1297.64,1425.62 1297.64,1409.08 \n",
       "  \"/>\n",
       "<polyline clip-path=\"url(#clip0000)\" style=\"stroke:#000000; stroke-width:4; stroke-opacity:1; fill:none\" points=\"\n",
       "  1795.33,1425.62 1795.33,1409.08 \n",
       "  \"/>\n",
       "<polyline clip-path=\"url(#clip0000)\" style=\"stroke:#000000; stroke-width:4; stroke-opacity:1; fill:none\" points=\"\n",
       "  2293.03,1425.62 2293.03,1409.08 \n",
       "  \"/>\n",
       "<polyline clip-path=\"url(#clip0000)\" style=\"stroke:#000000; stroke-width:4; stroke-opacity:1; fill:none\" points=\"\n",
       "  242.516,1390.84 267.839,1390.84 \n",
       "  \"/>\n",
       "<polyline clip-path=\"url(#clip0000)\" style=\"stroke:#000000; stroke-width:4; stroke-opacity:1; fill:none\" points=\"\n",
       "  242.516,1064.7 267.839,1064.7 \n",
       "  \"/>\n",
       "<polyline clip-path=\"url(#clip0000)\" style=\"stroke:#000000; stroke-width:4; stroke-opacity:1; fill:none\" points=\"\n",
       "  242.516,738.549 267.839,738.549 \n",
       "  \"/>\n",
       "<polyline clip-path=\"url(#clip0000)\" style=\"stroke:#000000; stroke-width:4; stroke-opacity:1; fill:none\" points=\"\n",
       "  242.516,412.402 267.839,412.402 \n",
       "  \"/>\n",
       "<polyline clip-path=\"url(#clip0000)\" style=\"stroke:#000000; stroke-width:4; stroke-opacity:1; fill:none\" points=\"\n",
       "  242.516,86.2547 267.839,86.2547 \n",
       "  \"/>\n",
       "<g clip-path=\"url(#clip0000)\">\n",
       "<text style=\"fill:#000000; fill-opacity:1; font-family:Arial,Helvetica Neue,Helvetica,sans-serif; font-size:48px; text-anchor:middle;\" transform=\"rotate(0, 302.24, 1479.62)\" x=\"302.24\" y=\"1479.62\">0.00</text>\n",
       "</g>\n",
       "<g clip-path=\"url(#clip0000)\">\n",
       "<text style=\"fill:#000000; fill-opacity:1; font-family:Arial,Helvetica Neue,Helvetica,sans-serif; font-size:48px; text-anchor:middle;\" transform=\"rotate(0, 799.938, 1479.62)\" x=\"799.938\" y=\"1479.62\">0.25</text>\n",
       "</g>\n",
       "<g clip-path=\"url(#clip0000)\">\n",
       "<text style=\"fill:#000000; fill-opacity:1; font-family:Arial,Helvetica Neue,Helvetica,sans-serif; font-size:48px; text-anchor:middle;\" transform=\"rotate(0, 1297.64, 1479.62)\" x=\"1297.64\" y=\"1479.62\">0.50</text>\n",
       "</g>\n",
       "<g clip-path=\"url(#clip0000)\">\n",
       "<text style=\"fill:#000000; fill-opacity:1; font-family:Arial,Helvetica Neue,Helvetica,sans-serif; font-size:48px; text-anchor:middle;\" transform=\"rotate(0, 1795.33, 1479.62)\" x=\"1795.33\" y=\"1479.62\">0.75</text>\n",
       "</g>\n",
       "<g clip-path=\"url(#clip0000)\">\n",
       "<text style=\"fill:#000000; fill-opacity:1; font-family:Arial,Helvetica Neue,Helvetica,sans-serif; font-size:48px; text-anchor:middle;\" transform=\"rotate(0, 2293.03, 1479.62)\" x=\"2293.03\" y=\"1479.62\">1.00</text>\n",
       "</g>\n",
       "<g clip-path=\"url(#clip0000)\">\n",
       "<text style=\"fill:#000000; fill-opacity:1; font-family:Arial,Helvetica Neue,Helvetica,sans-serif; font-size:48px; text-anchor:end;\" transform=\"rotate(0, 218.516, 1408.34)\" x=\"218.516\" y=\"1408.34\">0.00</text>\n",
       "</g>\n",
       "<g clip-path=\"url(#clip0000)\">\n",
       "<text style=\"fill:#000000; fill-opacity:1; font-family:Arial,Helvetica Neue,Helvetica,sans-serif; font-size:48px; text-anchor:end;\" transform=\"rotate(0, 218.516, 1082.2)\" x=\"218.516\" y=\"1082.2\">0.25</text>\n",
       "</g>\n",
       "<g clip-path=\"url(#clip0000)\">\n",
       "<text style=\"fill:#000000; fill-opacity:1; font-family:Arial,Helvetica Neue,Helvetica,sans-serif; font-size:48px; text-anchor:end;\" transform=\"rotate(0, 218.516, 756.049)\" x=\"218.516\" y=\"756.049\">0.50</text>\n",
       "</g>\n",
       "<g clip-path=\"url(#clip0000)\">\n",
       "<text style=\"fill:#000000; fill-opacity:1; font-family:Arial,Helvetica Neue,Helvetica,sans-serif; font-size:48px; text-anchor:end;\" transform=\"rotate(0, 218.516, 429.902)\" x=\"218.516\" y=\"429.902\">0.75</text>\n",
       "</g>\n",
       "<g clip-path=\"url(#clip0000)\">\n",
       "<text style=\"fill:#000000; fill-opacity:1; font-family:Arial,Helvetica Neue,Helvetica,sans-serif; font-size:48px; text-anchor:end;\" transform=\"rotate(0, 218.516, 103.755)\" x=\"218.516\" y=\"103.755\">1.00</text>\n",
       "</g>\n",
       "<g clip-path=\"url(#clip0000)\">\n",
       "<text style=\"fill:#000000; fill-opacity:1; font-family:Arial,Helvetica Neue,Helvetica,sans-serif; font-size:66px; text-anchor:middle;\" transform=\"rotate(0, 1297.64, 1559.48)\" x=\"1297.64\" y=\"1559.48\">t</text>\n",
       "</g>\n",
       "<g clip-path=\"url(#clip0000)\">\n",
       "<text style=\"fill:#000000; fill-opacity:1; font-family:Arial,Helvetica Neue,Helvetica,sans-serif; font-size:66px; text-anchor:middle;\" transform=\"rotate(-90, 89.2861, 736.431)\" x=\"89.2861\" y=\"736.431\">u(t)</text>\n",
       "</g>\n",
       "<polyline clip-path=\"url(#clip0002)\" style=\"stroke:#009af9; stroke-width:8; stroke-opacity:1; fill:none\" points=\"\n",
       "  302.24,86.2547 313.616,128.277 326.886,175.592 343.352,231.844 362.057,292.592 383.282,357.678 406.525,424.533 431.706,492.091 458.52,558.846 486.814,623.916 \n",
       "  516.389,686.499 547.112,746.108 578.855,802.403 611.524,855.212 645.042,904.473 679.355,950.211 714.419,992.511 750.21,1031.5 786.71,1067.34 823.915,1100.19 \n",
       "  861.826,1130.24 900.453,1157.66 939.813,1182.63 979.926,1205.34 1020.82,1225.93 1062.52,1244.59 1105.06,1261.44 1148.49,1276.65 1192.84,1290.33 1238.16,1302.62 \n",
       "  1284.49,1313.64 1331.89,1323.48 1380.42,1332.27 1430.14,1340.08 1481.11,1347 1533.4,1353.13 1587.09,1358.53 1642.26,1363.27 1698.99,1367.43 1757.39,1371.05 \n",
       "  1817.54,1374.2 1879.58,1376.92 1943.61,1379.26 2009.76,1381.27 2078.19,1382.98 2149.05,1384.43 2222.51,1385.65 2293.03,1386.61 \n",
       "  \"/>\n",
       "</svg>\n"
      ]
     },
     "execution_count": 25,
     "metadata": {},
     "output_type": "execute_result"
    }
   ],
   "source": [
    "using OrdinaryDiffEq, Measurements, Plots\n",
    "\n",
    "#Half-life of Carbon-14 is 5730 years.\n",
    "c = big(5.730) # now a BigFloat\n",
    "\n",
    "#Setup\n",
    "u0 = big(1.0) # now a BigFloat\n",
    "tspan = (0.0, 1.0)\n",
    "\n",
    "#Define the problem\n",
    "radioactivedecay(u,p,t) = -c*u\n",
    "\n",
    "#Pass to solver\n",
    "prob = ODEProblem(radioactivedecay,u0,tspan)\n",
    "sol = solve(prob, Tsit5(), reltol=1e-8, abstol=1e-8);\n",
    "\n",
    "plot(sol.t, sol.u, ylabel=\"u(t)\", xlabel=\"t\", lw=2, legend=false)"
   ]
  },
  {
   "cell_type": "code",
   "execution_count": 15,
   "metadata": {},
   "outputs": [
    {
     "data": {
      "text/plain": [
       "48-element Array{BigFloat,1}:\n",
       " 1.0                                                                                \n",
       " 0.9677886860242480802598783250713916010081415505397800881445406271537611300017618  \n",
       " 0.9315211281525870696951220469884643089015968992100693760200740553948355529147443  \n",
       " 0.8884024345211743161021160493163086874961411762569637929039406549449358585920417  \n",
       " 0.8418375252286853526018156034028654546424997684271563776179902463787617679492211  \n",
       " 0.7919476680197978130129370628972353995826991637831352877688831499482679169139974  \n",
       " 0.7407016259183958391757039618594165227639572775337525341594247992333817572100918  \n",
       " 0.6889166236940076080002239132042014361405924597885439675027524004548444995732002  \n",
       " 0.6377469535070398349649293862161431951718088662130859799205713009042556096647567  \n",
       " 0.5878693713657286439755737446549580093909012667283176744130450838954131268967931  \n",
       " 0.5398978652256644388443113633025199796421787288250581423811316455632597496131444  \n",
       " 0.49420597078315307183358331460464833539533066422874565896535796761389269903021    \n",
       " 0.4510548063728536445709505765421444805212131439001985708427019161470457116734189  \n",
       " ⋮                                                                                  \n",
       " 0.0247702050654881887296630468045626742175941441594898441329183117098738428226607  \n",
       " 0.02113339164185542120281619320509845005741505885344214557316683963453904013668075 \n",
       " 0.01794943205921654612900122479621792340904818886441942544853129663348468348382547 \n",
       " 0.01517245654970545081843134550457301228976070316597616056601146430703454507869563 \n",
       " 0.01276017945148122488012766856599516153937204257212319195809024364217006067344645 \n",
       " 0.01067368686655550509261923357864471679753775341482938398000137227211027101142715 \n",
       " 0.008877237450555331676214482621735123975181843562246238056707655214048414281005205\n",
       " 0.007338074614025895311608254178073591154614460204152001940705810809049875228474639\n",
       " 0.00602624946215977606526115008909387711317101318496693029114015005855395226370521 \n",
       " 0.004914452127823182956204057386397252003204076508440334574526868686987069122591612\n",
       " 0.003977852532143049857644285840440829935642214142340058400251380157142627666617714\n",
       " 0.00324707741741227859071995694813761170999901142701139266973396987538286140013048 "
      ]
     },
     "execution_count": 15,
     "metadata": {},
     "output_type": "execute_result"
    }
   ],
   "source": [
    "sol.u"
   ]
  },
  {
   "cell_type": "markdown",
   "metadata": {},
   "source": [
    "### With uncertainties: Measurements.jl"
   ]
  },
  {
   "cell_type": "code",
   "execution_count": 26,
   "metadata": {},
   "outputs": [
    {
     "data": {
      "image/svg+xml": [
       "<?xml version=\"1.0\" encoding=\"utf-8\"?>\n",
       "<svg xmlns=\"http://www.w3.org/2000/svg\" xmlns:xlink=\"http://www.w3.org/1999/xlink\" width=\"600\" height=\"400\" viewBox=\"0 0 2400 1600\">\n",
       "<defs>\n",
       "  <clipPath id=\"clip0400\">\n",
       "    <rect x=\"0\" y=\"0\" width=\"2400\" height=\"1600\"/>\n",
       "  </clipPath>\n",
       "</defs>\n",
       "<path clip-path=\"url(#clip0400)\" d=\"\n",
       "M0 1600 L2400 1600 L2400 0 L0 0  Z\n",
       "  \" fill=\"#ffffff\" fill-rule=\"evenodd\" fill-opacity=\"1\"/>\n",
       "<defs>\n",
       "  <clipPath id=\"clip0401\">\n",
       "    <rect x=\"480\" y=\"0\" width=\"1681\" height=\"1600\"/>\n",
       "  </clipPath>\n",
       "</defs>\n",
       "<path clip-path=\"url(#clip0400)\" d=\"\n",
       "M242.516 1425.62 L2352.76 1425.62 L2352.76 47.2441 L242.516 47.2441  Z\n",
       "  \" fill=\"#ffffff\" fill-rule=\"evenodd\" fill-opacity=\"1\"/>\n",
       "<defs>\n",
       "  <clipPath id=\"clip0402\">\n",
       "    <rect x=\"242\" y=\"47\" width=\"2111\" height=\"1379\"/>\n",
       "  </clipPath>\n",
       "</defs>\n",
       "<polyline clip-path=\"url(#clip0402)\" style=\"stroke:#000000; stroke-width:2; stroke-opacity:0.1; fill:none\" points=\"\n",
       "  302.24,1425.62 302.24,47.2441 \n",
       "  \"/>\n",
       "<polyline clip-path=\"url(#clip0402)\" style=\"stroke:#000000; stroke-width:2; stroke-opacity:0.1; fill:none\" points=\"\n",
       "  799.938,1425.62 799.938,47.2441 \n",
       "  \"/>\n",
       "<polyline clip-path=\"url(#clip0402)\" style=\"stroke:#000000; stroke-width:2; stroke-opacity:0.1; fill:none\" points=\"\n",
       "  1297.64,1425.62 1297.64,47.2441 \n",
       "  \"/>\n",
       "<polyline clip-path=\"url(#clip0402)\" style=\"stroke:#000000; stroke-width:2; stroke-opacity:0.1; fill:none\" points=\"\n",
       "  1795.33,1425.62 1795.33,47.2441 \n",
       "  \"/>\n",
       "<polyline clip-path=\"url(#clip0402)\" style=\"stroke:#000000; stroke-width:2; stroke-opacity:0.1; fill:none\" points=\"\n",
       "  2293.03,1425.62 2293.03,47.2441 \n",
       "  \"/>\n",
       "<polyline clip-path=\"url(#clip0402)\" style=\"stroke:#000000; stroke-width:2; stroke-opacity:0.1; fill:none\" points=\"\n",
       "  242.516,1377.92 2352.76,1377.92 \n",
       "  \"/>\n",
       "<polyline clip-path=\"url(#clip0402)\" style=\"stroke:#000000; stroke-width:2; stroke-opacity:0.1; fill:none\" points=\"\n",
       "  242.516,1084.36 2352.76,1084.36 \n",
       "  \"/>\n",
       "<polyline clip-path=\"url(#clip0402)\" style=\"stroke:#000000; stroke-width:2; stroke-opacity:0.1; fill:none\" points=\"\n",
       "  242.516,790.802 2352.76,790.802 \n",
       "  \"/>\n",
       "<polyline clip-path=\"url(#clip0402)\" style=\"stroke:#000000; stroke-width:2; stroke-opacity:0.1; fill:none\" points=\"\n",
       "  242.516,497.241 2352.76,497.241 \n",
       "  \"/>\n",
       "<polyline clip-path=\"url(#clip0402)\" style=\"stroke:#000000; stroke-width:2; stroke-opacity:0.1; fill:none\" points=\"\n",
       "  242.516,203.679 2352.76,203.679 \n",
       "  \"/>\n",
       "<polyline clip-path=\"url(#clip0400)\" style=\"stroke:#000000; stroke-width:4; stroke-opacity:1; fill:none\" points=\"\n",
       "  242.516,1425.62 2352.76,1425.62 \n",
       "  \"/>\n",
       "<polyline clip-path=\"url(#clip0400)\" style=\"stroke:#000000; stroke-width:4; stroke-opacity:1; fill:none\" points=\"\n",
       "  242.516,1425.62 242.516,47.2441 \n",
       "  \"/>\n",
       "<polyline clip-path=\"url(#clip0400)\" style=\"stroke:#000000; stroke-width:4; stroke-opacity:1; fill:none\" points=\"\n",
       "  302.24,1425.62 302.24,1409.08 \n",
       "  \"/>\n",
       "<polyline clip-path=\"url(#clip0400)\" style=\"stroke:#000000; stroke-width:4; stroke-opacity:1; fill:none\" points=\"\n",
       "  799.938,1425.62 799.938,1409.08 \n",
       "  \"/>\n",
       "<polyline clip-path=\"url(#clip0400)\" style=\"stroke:#000000; stroke-width:4; stroke-opacity:1; fill:none\" points=\"\n",
       "  1297.64,1425.62 1297.64,1409.08 \n",
       "  \"/>\n",
       "<polyline clip-path=\"url(#clip0400)\" style=\"stroke:#000000; stroke-width:4; stroke-opacity:1; fill:none\" points=\"\n",
       "  1795.33,1425.62 1795.33,1409.08 \n",
       "  \"/>\n",
       "<polyline clip-path=\"url(#clip0400)\" style=\"stroke:#000000; stroke-width:4; stroke-opacity:1; fill:none\" points=\"\n",
       "  2293.03,1425.62 2293.03,1409.08 \n",
       "  \"/>\n",
       "<polyline clip-path=\"url(#clip0400)\" style=\"stroke:#000000; stroke-width:4; stroke-opacity:1; fill:none\" points=\"\n",
       "  242.516,1377.92 267.839,1377.92 \n",
       "  \"/>\n",
       "<polyline clip-path=\"url(#clip0400)\" style=\"stroke:#000000; stroke-width:4; stroke-opacity:1; fill:none\" points=\"\n",
       "  242.516,1084.36 267.839,1084.36 \n",
       "  \"/>\n",
       "<polyline clip-path=\"url(#clip0400)\" style=\"stroke:#000000; stroke-width:4; stroke-opacity:1; fill:none\" points=\"\n",
       "  242.516,790.802 267.839,790.802 \n",
       "  \"/>\n",
       "<polyline clip-path=\"url(#clip0400)\" style=\"stroke:#000000; stroke-width:4; stroke-opacity:1; fill:none\" points=\"\n",
       "  242.516,497.241 267.839,497.241 \n",
       "  \"/>\n",
       "<polyline clip-path=\"url(#clip0400)\" style=\"stroke:#000000; stroke-width:4; stroke-opacity:1; fill:none\" points=\"\n",
       "  242.516,203.679 267.839,203.679 \n",
       "  \"/>\n",
       "<g clip-path=\"url(#clip0400)\">\n",
       "<text style=\"fill:#000000; fill-opacity:1; font-family:Arial,Helvetica Neue,Helvetica,sans-serif; font-size:48px; text-anchor:middle;\" transform=\"rotate(0, 302.24, 1479.62)\" x=\"302.24\" y=\"1479.62\">0.00</text>\n",
       "</g>\n",
       "<g clip-path=\"url(#clip0400)\">\n",
       "<text style=\"fill:#000000; fill-opacity:1; font-family:Arial,Helvetica Neue,Helvetica,sans-serif; font-size:48px; text-anchor:middle;\" transform=\"rotate(0, 799.938, 1479.62)\" x=\"799.938\" y=\"1479.62\">0.25</text>\n",
       "</g>\n",
       "<g clip-path=\"url(#clip0400)\">\n",
       "<text style=\"fill:#000000; fill-opacity:1; font-family:Arial,Helvetica Neue,Helvetica,sans-serif; font-size:48px; text-anchor:middle;\" transform=\"rotate(0, 1297.64, 1479.62)\" x=\"1297.64\" y=\"1479.62\">0.50</text>\n",
       "</g>\n",
       "<g clip-path=\"url(#clip0400)\">\n",
       "<text style=\"fill:#000000; fill-opacity:1; font-family:Arial,Helvetica Neue,Helvetica,sans-serif; font-size:48px; text-anchor:middle;\" transform=\"rotate(0, 1795.33, 1479.62)\" x=\"1795.33\" y=\"1479.62\">0.75</text>\n",
       "</g>\n",
       "<g clip-path=\"url(#clip0400)\">\n",
       "<text style=\"fill:#000000; fill-opacity:1; font-family:Arial,Helvetica Neue,Helvetica,sans-serif; font-size:48px; text-anchor:middle;\" transform=\"rotate(0, 2293.03, 1479.62)\" x=\"2293.03\" y=\"1479.62\">1.00</text>\n",
       "</g>\n",
       "<g clip-path=\"url(#clip0400)\">\n",
       "<text style=\"fill:#000000; fill-opacity:1; font-family:Arial,Helvetica Neue,Helvetica,sans-serif; font-size:48px; text-anchor:end;\" transform=\"rotate(0, 218.516, 1395.42)\" x=\"218.516\" y=\"1395.42\">0.00</text>\n",
       "</g>\n",
       "<g clip-path=\"url(#clip0400)\">\n",
       "<text style=\"fill:#000000; fill-opacity:1; font-family:Arial,Helvetica Neue,Helvetica,sans-serif; font-size:48px; text-anchor:end;\" transform=\"rotate(0, 218.516, 1101.86)\" x=\"218.516\" y=\"1101.86\">0.25</text>\n",
       "</g>\n",
       "<g clip-path=\"url(#clip0400)\">\n",
       "<text style=\"fill:#000000; fill-opacity:1; font-family:Arial,Helvetica Neue,Helvetica,sans-serif; font-size:48px; text-anchor:end;\" transform=\"rotate(0, 218.516, 808.302)\" x=\"218.516\" y=\"808.302\">0.50</text>\n",
       "</g>\n",
       "<g clip-path=\"url(#clip0400)\">\n",
       "<text style=\"fill:#000000; fill-opacity:1; font-family:Arial,Helvetica Neue,Helvetica,sans-serif; font-size:48px; text-anchor:end;\" transform=\"rotate(0, 218.516, 514.741)\" x=\"218.516\" y=\"514.741\">0.75</text>\n",
       "</g>\n",
       "<g clip-path=\"url(#clip0400)\">\n",
       "<text style=\"fill:#000000; fill-opacity:1; font-family:Arial,Helvetica Neue,Helvetica,sans-serif; font-size:48px; text-anchor:end;\" transform=\"rotate(0, 218.516, 221.179)\" x=\"218.516\" y=\"221.179\">1.00</text>\n",
       "</g>\n",
       "<g clip-path=\"url(#clip0400)\">\n",
       "<text style=\"fill:#000000; fill-opacity:1; font-family:Arial,Helvetica Neue,Helvetica,sans-serif; font-size:66px; text-anchor:middle;\" transform=\"rotate(0, 1297.64, 1559.48)\" x=\"1297.64\" y=\"1559.48\">t</text>\n",
       "</g>\n",
       "<g clip-path=\"url(#clip0400)\">\n",
       "<text style=\"fill:#000000; fill-opacity:1; font-family:Arial,Helvetica Neue,Helvetica,sans-serif; font-size:66px; text-anchor:middle;\" transform=\"rotate(-90, 89.2861, 736.431)\" x=\"89.2861\" y=\"736.431\">u(t)</text>\n",
       "</g>\n",
       "<polyline clip-path=\"url(#clip0402)\" style=\"stroke:#009af9; stroke-width:8; stroke-opacity:1; fill:none\" points=\"\n",
       "  302.24,203.679 313.616,241.503 326.886,284.09 343.352,334.722 362.057,389.401 383.282,447.984 406.525,508.159 431.706,568.967 458.52,629.053 486.814,687.622 \n",
       "  516.389,743.952 547.112,797.605 578.855,848.275 611.524,895.808 645.042,940.147 679.355,981.316 714.419,1019.39 750.21,1054.49 786.71,1086.74 823.915,1116.31 \n",
       "  861.826,1143.35 900.453,1168.04 939.813,1190.52 979.926,1210.95 1020.82,1229.49 1062.52,1246.28 1105.06,1261.45 1148.49,1275.14 1192.84,1287.45 1238.16,1298.52 \n",
       "  1284.49,1308.43 1331.89,1317.29 1380.42,1325.2 1430.14,1332.23 1481.11,1338.46 1533.4,1343.98 1587.09,1348.84 1642.26,1353.11 1698.99,1356.85 1757.39,1360.11 \n",
       "  1817.54,1362.94 1879.58,1365.39 1943.61,1367.5 2009.76,1369.31 2078.19,1370.85 2149.05,1372.15 2222.51,1373.25 2293.03,1374.11 \n",
       "  \"/>\n",
       "<polyline clip-path=\"url(#clip0402)\" style=\"stroke:#009af9; stroke-width:4; stroke-opacity:1; fill:none\" points=\"\n",
       "  302.24,321.104 302.24,86.2547 \n",
       "  \"/>\n",
       "<polyline clip-path=\"url(#clip0402)\" style=\"stroke:#009af9; stroke-width:4; stroke-opacity:1; fill:none\" points=\"\n",
       "  313.616,355.885 313.616,127.121 \n",
       "  \"/>\n",
       "<polyline clip-path=\"url(#clip0402)\" style=\"stroke:#009af9; stroke-width:4; stroke-opacity:1; fill:none\" points=\"\n",
       "  326.886,396.777 326.886,171.404 \n",
       "  \"/>\n",
       "<polyline clip-path=\"url(#clip0402)\" style=\"stroke:#009af9; stroke-width:4; stroke-opacity:1; fill:none\" points=\"\n",
       "  343.352,447.59 343.352,221.854 \n",
       "  \"/>\n",
       "<polyline clip-path=\"url(#clip0402)\" style=\"stroke:#009af9; stroke-width:4; stroke-opacity:1; fill:none\" points=\"\n",
       "  362.057,504.729 362.057,274.072 \n",
       "  \"/>\n",
       "<polyline clip-path=\"url(#clip0402)\" style=\"stroke:#009af9; stroke-width:4; stroke-opacity:1; fill:none\" points=\"\n",
       "  383.282,567.902 383.282,328.066 \n",
       "  \"/>\n",
       "<polyline clip-path=\"url(#clip0402)\" style=\"stroke:#009af9; stroke-width:4; stroke-opacity:1; fill:none\" points=\"\n",
       "  406.525,634.128 406.525,382.19 \n",
       "  \"/>\n",
       "<polyline clip-path=\"url(#clip0402)\" style=\"stroke:#009af9; stroke-width:4; stroke-opacity:1; fill:none\" points=\"\n",
       "  431.706,701.688 431.706,436.247 \n",
       "  \"/>\n",
       "<polyline clip-path=\"url(#clip0402)\" style=\"stroke:#009af9; stroke-width:4; stroke-opacity:1; fill:none\" points=\"\n",
       "  458.52,768.452 458.52,489.654 \n",
       "  \"/>\n",
       "<polyline clip-path=\"url(#clip0402)\" style=\"stroke:#009af9; stroke-width:4; stroke-opacity:1; fill:none\" points=\"\n",
       "  486.814,833.05 486.814,542.193 \n",
       "  \"/>\n",
       "<polyline clip-path=\"url(#clip0402)\" style=\"stroke:#009af9; stroke-width:4; stroke-opacity:1; fill:none\" points=\"\n",
       "  516.389,894.359 516.389,593.545 \n",
       "  \"/>\n",
       "<polyline clip-path=\"url(#clip0402)\" style=\"stroke:#009af9; stroke-width:4; stroke-opacity:1; fill:none\" points=\"\n",
       "  547.112,951.711 547.112,643.5 \n",
       "  \"/>\n",
       "<polyline clip-path=\"url(#clip0402)\" style=\"stroke:#009af9; stroke-width:4; stroke-opacity:1; fill:none\" points=\"\n",
       "  578.855,1004.7 578.855,691.85 \n",
       "  \"/>\n",
       "<polyline clip-path=\"url(#clip0402)\" style=\"stroke:#009af9; stroke-width:4; stroke-opacity:1; fill:none\" points=\"\n",
       "  611.524,1053.18 611.524,738.441 \n",
       "  \"/>\n",
       "<polyline clip-path=\"url(#clip0402)\" style=\"stroke:#009af9; stroke-width:4; stroke-opacity:1; fill:none\" points=\"\n",
       "  645.042,1097.14 645.042,783.155 \n",
       "  \"/>\n",
       "<polyline clip-path=\"url(#clip0402)\" style=\"stroke:#009af9; stroke-width:4; stroke-opacity:1; fill:none\" points=\"\n",
       "  679.355,1136.72 679.355,825.911 \n",
       "  \"/>\n",
       "<polyline clip-path=\"url(#clip0402)\" style=\"stroke:#009af9; stroke-width:4; stroke-opacity:1; fill:none\" points=\"\n",
       "  714.419,1172.12 714.419,866.658 \n",
       "  \"/>\n",
       "<polyline clip-path=\"url(#clip0402)\" style=\"stroke:#009af9; stroke-width:4; stroke-opacity:1; fill:none\" points=\"\n",
       "  750.21,1203.6 750.21,905.374 \n",
       "  \"/>\n",
       "<polyline clip-path=\"url(#clip0402)\" style=\"stroke:#009af9; stroke-width:4; stroke-opacity:1; fill:none\" points=\"\n",
       "  786.71,1231.42 786.71,942.058 \n",
       "  \"/>\n",
       "<polyline clip-path=\"url(#clip0402)\" style=\"stroke:#009af9; stroke-width:4; stroke-opacity:1; fill:none\" points=\"\n",
       "  823.915,1255.89 823.915,976.728 \n",
       "  \"/>\n",
       "<polyline clip-path=\"url(#clip0402)\" style=\"stroke:#009af9; stroke-width:4; stroke-opacity:1; fill:none\" points=\"\n",
       "  861.826,1277.29 861.826,1009.42 \n",
       "  \"/>\n",
       "<polyline clip-path=\"url(#clip0402)\" style=\"stroke:#009af9; stroke-width:4; stroke-opacity:1; fill:none\" points=\"\n",
       "  900.453,1295.91 900.453,1040.16 \n",
       "  \"/>\n",
       "<polyline clip-path=\"url(#clip0402)\" style=\"stroke:#009af9; stroke-width:4; stroke-opacity:1; fill:none\" points=\"\n",
       "  939.813,1312.01 939.813,1069.02 \n",
       "  \"/>\n",
       "<polyline clip-path=\"url(#clip0402)\" style=\"stroke:#009af9; stroke-width:4; stroke-opacity:1; fill:none\" points=\"\n",
       "  979.926,1325.85 979.926,1096.05 \n",
       "  \"/>\n",
       "<polyline clip-path=\"url(#clip0402)\" style=\"stroke:#009af9; stroke-width:4; stroke-opacity:1; fill:none\" points=\"\n",
       "  1020.82,1337.67 1020.82,1121.31 \n",
       "  \"/>\n",
       "<polyline clip-path=\"url(#clip0402)\" style=\"stroke:#009af9; stroke-width:4; stroke-opacity:1; fill:none\" points=\"\n",
       "  1062.52,1347.69 1062.52,1144.87 \n",
       "  \"/>\n",
       "<polyline clip-path=\"url(#clip0402)\" style=\"stroke:#009af9; stroke-width:4; stroke-opacity:1; fill:none\" points=\"\n",
       "  1105.06,1356.11 1105.06,1166.79 \n",
       "  \"/>\n",
       "<polyline clip-path=\"url(#clip0402)\" style=\"stroke:#009af9; stroke-width:4; stroke-opacity:1; fill:none\" points=\"\n",
       "  1148.49,1363.13 1148.49,1187.15 \n",
       "  \"/>\n",
       "<polyline clip-path=\"url(#clip0402)\" style=\"stroke:#009af9; stroke-width:4; stroke-opacity:1; fill:none\" points=\"\n",
       "  1192.84,1368.9 1192.84,1206.01 \n",
       "  \"/>\n",
       "<polyline clip-path=\"url(#clip0402)\" style=\"stroke:#009af9; stroke-width:4; stroke-opacity:1; fill:none\" points=\"\n",
       "  1238.16,1373.6 1238.16,1223.44 \n",
       "  \"/>\n",
       "<polyline clip-path=\"url(#clip0402)\" style=\"stroke:#009af9; stroke-width:4; stroke-opacity:1; fill:none\" points=\"\n",
       "  1284.49,1377.36 1284.49,1239.51 \n",
       "  \"/>\n",
       "<polyline clip-path=\"url(#clip0402)\" style=\"stroke:#009af9; stroke-width:4; stroke-opacity:1; fill:none\" points=\"\n",
       "  1331.89,1380.3 1331.89,1254.29 \n",
       "  \"/>\n",
       "<polyline clip-path=\"url(#clip0402)\" style=\"stroke:#009af9; stroke-width:4; stroke-opacity:1; fill:none\" points=\"\n",
       "  1380.42,1382.55 1380.42,1267.85 \n",
       "  \"/>\n",
       "<polyline clip-path=\"url(#clip0402)\" style=\"stroke:#009af9; stroke-width:4; stroke-opacity:1; fill:none\" points=\"\n",
       "  1430.14,1384.21 1430.14,1280.25 \n",
       "  \"/>\n",
       "<polyline clip-path=\"url(#clip0402)\" style=\"stroke:#009af9; stroke-width:4; stroke-opacity:1; fill:none\" points=\"\n",
       "  1481.11,1385.36 1481.11,1291.56 \n",
       "  \"/>\n",
       "<polyline clip-path=\"url(#clip0402)\" style=\"stroke:#009af9; stroke-width:4; stroke-opacity:1; fill:none\" points=\"\n",
       "  1533.4,1386.1 1533.4,1301.85 \n",
       "  \"/>\n",
       "<polyline clip-path=\"url(#clip0402)\" style=\"stroke:#009af9; stroke-width:4; stroke-opacity:1; fill:none\" points=\"\n",
       "  1587.09,1386.49 1587.09,1311.18 \n",
       "  \"/>\n",
       "<polyline clip-path=\"url(#clip0402)\" style=\"stroke:#009af9; stroke-width:4; stroke-opacity:1; fill:none\" points=\"\n",
       "  1642.26,1386.61 1642.26,1319.61 \n",
       "  \"/>\n",
       "<polyline clip-path=\"url(#clip0402)\" style=\"stroke:#009af9; stroke-width:4; stroke-opacity:1; fill:none\" points=\"\n",
       "  1698.99,1386.5 1698.99,1327.2 \n",
       "  \"/>\n",
       "<polyline clip-path=\"url(#clip0402)\" style=\"stroke:#009af9; stroke-width:4; stroke-opacity:1; fill:none\" points=\"\n",
       "  1757.39,1386.21 1757.39,1334 \n",
       "  \"/>\n",
       "<polyline clip-path=\"url(#clip0402)\" style=\"stroke:#009af9; stroke-width:4; stroke-opacity:1; fill:none\" points=\"\n",
       "  1817.54,1385.8 1817.54,1340.08 \n",
       "  \"/>\n",
       "<polyline clip-path=\"url(#clip0402)\" style=\"stroke:#009af9; stroke-width:4; stroke-opacity:1; fill:none\" points=\"\n",
       "  1879.58,1385.29 1879.58,1345.49 \n",
       "  \"/>\n",
       "<polyline clip-path=\"url(#clip0402)\" style=\"stroke:#009af9; stroke-width:4; stroke-opacity:1; fill:none\" points=\"\n",
       "  1943.61,1384.72 1943.61,1350.28 \n",
       "  \"/>\n",
       "<polyline clip-path=\"url(#clip0402)\" style=\"stroke:#009af9; stroke-width:4; stroke-opacity:1; fill:none\" points=\"\n",
       "  2009.76,1384.11 2009.76,1354.5 \n",
       "  \"/>\n",
       "<polyline clip-path=\"url(#clip0402)\" style=\"stroke:#009af9; stroke-width:4; stroke-opacity:1; fill:none\" points=\"\n",
       "  2078.19,1383.49 2078.19,1358.2 \n",
       "  \"/>\n",
       "<polyline clip-path=\"url(#clip0402)\" style=\"stroke:#009af9; stroke-width:4; stroke-opacity:1; fill:none\" points=\"\n",
       "  2149.05,1382.88 2149.05,1361.43 \n",
       "  \"/>\n",
       "<polyline clip-path=\"url(#clip0402)\" style=\"stroke:#009af9; stroke-width:4; stroke-opacity:1; fill:none\" points=\"\n",
       "  2222.51,1382.28 2222.51,1364.23 \n",
       "  \"/>\n",
       "<polyline clip-path=\"url(#clip0402)\" style=\"stroke:#009af9; stroke-width:4; stroke-opacity:1; fill:none\" points=\"\n",
       "  2293.03,1381.75 2293.03,1366.48 \n",
       "  \"/>\n",
       "<line clip-path=\"url(#clip0402)\" x1=\"322.24\" y1=\"321.104\" x2=\"282.24\" y2=\"321.104\" style=\"stroke:#000000; stroke-width:4; stroke-opacity:1\"/>\n",
       "<line clip-path=\"url(#clip0402)\" x1=\"322.24\" y1=\"86.2547\" x2=\"282.24\" y2=\"86.2547\" style=\"stroke:#000000; stroke-width:4; stroke-opacity:1\"/>\n",
       "<line clip-path=\"url(#clip0402)\" x1=\"333.616\" y1=\"355.885\" x2=\"293.616\" y2=\"355.885\" style=\"stroke:#000000; stroke-width:4; stroke-opacity:1\"/>\n",
       "<line clip-path=\"url(#clip0402)\" x1=\"333.616\" y1=\"127.121\" x2=\"293.616\" y2=\"127.121\" style=\"stroke:#000000; stroke-width:4; stroke-opacity:1\"/>\n",
       "<line clip-path=\"url(#clip0402)\" x1=\"346.886\" y1=\"396.777\" x2=\"306.886\" y2=\"396.777\" style=\"stroke:#000000; stroke-width:4; stroke-opacity:1\"/>\n",
       "<line clip-path=\"url(#clip0402)\" x1=\"346.886\" y1=\"171.404\" x2=\"306.886\" y2=\"171.404\" style=\"stroke:#000000; stroke-width:4; stroke-opacity:1\"/>\n",
       "<line clip-path=\"url(#clip0402)\" x1=\"363.352\" y1=\"447.59\" x2=\"323.352\" y2=\"447.59\" style=\"stroke:#000000; stroke-width:4; stroke-opacity:1\"/>\n",
       "<line clip-path=\"url(#clip0402)\" x1=\"363.352\" y1=\"221.854\" x2=\"323.352\" y2=\"221.854\" style=\"stroke:#000000; stroke-width:4; stroke-opacity:1\"/>\n",
       "<line clip-path=\"url(#clip0402)\" x1=\"382.057\" y1=\"504.729\" x2=\"342.057\" y2=\"504.729\" style=\"stroke:#000000; stroke-width:4; stroke-opacity:1\"/>\n",
       "<line clip-path=\"url(#clip0402)\" x1=\"382.057\" y1=\"274.072\" x2=\"342.057\" y2=\"274.072\" style=\"stroke:#000000; stroke-width:4; stroke-opacity:1\"/>\n",
       "<line clip-path=\"url(#clip0402)\" x1=\"403.282\" y1=\"567.902\" x2=\"363.282\" y2=\"567.902\" style=\"stroke:#000000; stroke-width:4; stroke-opacity:1\"/>\n",
       "<line clip-path=\"url(#clip0402)\" x1=\"403.282\" y1=\"328.066\" x2=\"363.282\" y2=\"328.066\" style=\"stroke:#000000; stroke-width:4; stroke-opacity:1\"/>\n",
       "<line clip-path=\"url(#clip0402)\" x1=\"426.525\" y1=\"634.128\" x2=\"386.525\" y2=\"634.128\" style=\"stroke:#000000; stroke-width:4; stroke-opacity:1\"/>\n",
       "<line clip-path=\"url(#clip0402)\" x1=\"426.525\" y1=\"382.19\" x2=\"386.525\" y2=\"382.19\" style=\"stroke:#000000; stroke-width:4; stroke-opacity:1\"/>\n",
       "<line clip-path=\"url(#clip0402)\" x1=\"451.706\" y1=\"701.688\" x2=\"411.706\" y2=\"701.688\" style=\"stroke:#000000; stroke-width:4; stroke-opacity:1\"/>\n",
       "<line clip-path=\"url(#clip0402)\" x1=\"451.706\" y1=\"436.247\" x2=\"411.706\" y2=\"436.247\" style=\"stroke:#000000; stroke-width:4; stroke-opacity:1\"/>\n",
       "<line clip-path=\"url(#clip0402)\" x1=\"478.52\" y1=\"768.452\" x2=\"438.52\" y2=\"768.452\" style=\"stroke:#000000; stroke-width:4; stroke-opacity:1\"/>\n",
       "<line clip-path=\"url(#clip0402)\" x1=\"478.52\" y1=\"489.654\" x2=\"438.52\" y2=\"489.654\" style=\"stroke:#000000; stroke-width:4; stroke-opacity:1\"/>\n",
       "<line clip-path=\"url(#clip0402)\" x1=\"506.814\" y1=\"833.05\" x2=\"466.814\" y2=\"833.05\" style=\"stroke:#000000; stroke-width:4; stroke-opacity:1\"/>\n",
       "<line clip-path=\"url(#clip0402)\" x1=\"506.814\" y1=\"542.193\" x2=\"466.814\" y2=\"542.193\" style=\"stroke:#000000; stroke-width:4; stroke-opacity:1\"/>\n",
       "<line clip-path=\"url(#clip0402)\" x1=\"536.389\" y1=\"894.359\" x2=\"496.389\" y2=\"894.359\" style=\"stroke:#000000; stroke-width:4; stroke-opacity:1\"/>\n",
       "<line clip-path=\"url(#clip0402)\" x1=\"536.389\" y1=\"593.545\" x2=\"496.389\" y2=\"593.545\" style=\"stroke:#000000; stroke-width:4; stroke-opacity:1\"/>\n",
       "<line clip-path=\"url(#clip0402)\" x1=\"567.112\" y1=\"951.711\" x2=\"527.112\" y2=\"951.711\" style=\"stroke:#000000; stroke-width:4; stroke-opacity:1\"/>\n",
       "<line clip-path=\"url(#clip0402)\" x1=\"567.112\" y1=\"643.5\" x2=\"527.112\" y2=\"643.5\" style=\"stroke:#000000; stroke-width:4; stroke-opacity:1\"/>\n",
       "<line clip-path=\"url(#clip0402)\" x1=\"598.855\" y1=\"1004.7\" x2=\"558.855\" y2=\"1004.7\" style=\"stroke:#000000; stroke-width:4; stroke-opacity:1\"/>\n",
       "<line clip-path=\"url(#clip0402)\" x1=\"598.855\" y1=\"691.85\" x2=\"558.855\" y2=\"691.85\" style=\"stroke:#000000; stroke-width:4; stroke-opacity:1\"/>\n",
       "<line clip-path=\"url(#clip0402)\" x1=\"631.524\" y1=\"1053.18\" x2=\"591.524\" y2=\"1053.18\" style=\"stroke:#000000; stroke-width:4; stroke-opacity:1\"/>\n",
       "<line clip-path=\"url(#clip0402)\" x1=\"631.524\" y1=\"738.441\" x2=\"591.524\" y2=\"738.441\" style=\"stroke:#000000; stroke-width:4; stroke-opacity:1\"/>\n",
       "<line clip-path=\"url(#clip0402)\" x1=\"665.042\" y1=\"1097.14\" x2=\"625.042\" y2=\"1097.14\" style=\"stroke:#000000; stroke-width:4; stroke-opacity:1\"/>\n",
       "<line clip-path=\"url(#clip0402)\" x1=\"665.042\" y1=\"783.155\" x2=\"625.042\" y2=\"783.155\" style=\"stroke:#000000; stroke-width:4; stroke-opacity:1\"/>\n",
       "<line clip-path=\"url(#clip0402)\" x1=\"699.355\" y1=\"1136.72\" x2=\"659.355\" y2=\"1136.72\" style=\"stroke:#000000; stroke-width:4; stroke-opacity:1\"/>\n",
       "<line clip-path=\"url(#clip0402)\" x1=\"699.355\" y1=\"825.911\" x2=\"659.355\" y2=\"825.911\" style=\"stroke:#000000; stroke-width:4; stroke-opacity:1\"/>\n",
       "<line clip-path=\"url(#clip0402)\" x1=\"734.419\" y1=\"1172.12\" x2=\"694.419\" y2=\"1172.12\" style=\"stroke:#000000; stroke-width:4; stroke-opacity:1\"/>\n",
       "<line clip-path=\"url(#clip0402)\" x1=\"734.419\" y1=\"866.658\" x2=\"694.419\" y2=\"866.658\" style=\"stroke:#000000; stroke-width:4; stroke-opacity:1\"/>\n",
       "<line clip-path=\"url(#clip0402)\" x1=\"770.21\" y1=\"1203.6\" x2=\"730.21\" y2=\"1203.6\" style=\"stroke:#000000; stroke-width:4; stroke-opacity:1\"/>\n",
       "<line clip-path=\"url(#clip0402)\" x1=\"770.21\" y1=\"905.374\" x2=\"730.21\" y2=\"905.374\" style=\"stroke:#000000; stroke-width:4; stroke-opacity:1\"/>\n",
       "<line clip-path=\"url(#clip0402)\" x1=\"806.71\" y1=\"1231.42\" x2=\"766.71\" y2=\"1231.42\" style=\"stroke:#000000; stroke-width:4; stroke-opacity:1\"/>\n",
       "<line clip-path=\"url(#clip0402)\" x1=\"806.71\" y1=\"942.058\" x2=\"766.71\" y2=\"942.058\" style=\"stroke:#000000; stroke-width:4; stroke-opacity:1\"/>\n",
       "<line clip-path=\"url(#clip0402)\" x1=\"843.915\" y1=\"1255.89\" x2=\"803.915\" y2=\"1255.89\" style=\"stroke:#000000; stroke-width:4; stroke-opacity:1\"/>\n",
       "<line clip-path=\"url(#clip0402)\" x1=\"843.915\" y1=\"976.728\" x2=\"803.915\" y2=\"976.728\" style=\"stroke:#000000; stroke-width:4; stroke-opacity:1\"/>\n",
       "<line clip-path=\"url(#clip0402)\" x1=\"881.826\" y1=\"1277.29\" x2=\"841.826\" y2=\"1277.29\" style=\"stroke:#000000; stroke-width:4; stroke-opacity:1\"/>\n",
       "<line clip-path=\"url(#clip0402)\" x1=\"881.826\" y1=\"1009.42\" x2=\"841.826\" y2=\"1009.42\" style=\"stroke:#000000; stroke-width:4; stroke-opacity:1\"/>\n",
       "<line clip-path=\"url(#clip0402)\" x1=\"920.453\" y1=\"1295.91\" x2=\"880.453\" y2=\"1295.91\" style=\"stroke:#000000; stroke-width:4; stroke-opacity:1\"/>\n",
       "<line clip-path=\"url(#clip0402)\" x1=\"920.453\" y1=\"1040.16\" x2=\"880.453\" y2=\"1040.16\" style=\"stroke:#000000; stroke-width:4; stroke-opacity:1\"/>\n",
       "<line clip-path=\"url(#clip0402)\" x1=\"959.813\" y1=\"1312.01\" x2=\"919.813\" y2=\"1312.01\" style=\"stroke:#000000; stroke-width:4; stroke-opacity:1\"/>\n",
       "<line clip-path=\"url(#clip0402)\" x1=\"959.813\" y1=\"1069.02\" x2=\"919.813\" y2=\"1069.02\" style=\"stroke:#000000; stroke-width:4; stroke-opacity:1\"/>\n",
       "<line clip-path=\"url(#clip0402)\" x1=\"999.926\" y1=\"1325.85\" x2=\"959.926\" y2=\"1325.85\" style=\"stroke:#000000; stroke-width:4; stroke-opacity:1\"/>\n",
       "<line clip-path=\"url(#clip0402)\" x1=\"999.926\" y1=\"1096.05\" x2=\"959.926\" y2=\"1096.05\" style=\"stroke:#000000; stroke-width:4; stroke-opacity:1\"/>\n",
       "<line clip-path=\"url(#clip0402)\" x1=\"1040.82\" y1=\"1337.67\" x2=\"1000.82\" y2=\"1337.67\" style=\"stroke:#000000; stroke-width:4; stroke-opacity:1\"/>\n",
       "<line clip-path=\"url(#clip0402)\" x1=\"1040.82\" y1=\"1121.31\" x2=\"1000.82\" y2=\"1121.31\" style=\"stroke:#000000; stroke-width:4; stroke-opacity:1\"/>\n",
       "<line clip-path=\"url(#clip0402)\" x1=\"1082.52\" y1=\"1347.69\" x2=\"1042.52\" y2=\"1347.69\" style=\"stroke:#000000; stroke-width:4; stroke-opacity:1\"/>\n",
       "<line clip-path=\"url(#clip0402)\" x1=\"1082.52\" y1=\"1144.87\" x2=\"1042.52\" y2=\"1144.87\" style=\"stroke:#000000; stroke-width:4; stroke-opacity:1\"/>\n",
       "<line clip-path=\"url(#clip0402)\" x1=\"1125.06\" y1=\"1356.11\" x2=\"1085.06\" y2=\"1356.11\" style=\"stroke:#000000; stroke-width:4; stroke-opacity:1\"/>\n",
       "<line clip-path=\"url(#clip0402)\" x1=\"1125.06\" y1=\"1166.79\" x2=\"1085.06\" y2=\"1166.79\" style=\"stroke:#000000; stroke-width:4; stroke-opacity:1\"/>\n",
       "<line clip-path=\"url(#clip0402)\" x1=\"1168.49\" y1=\"1363.13\" x2=\"1128.49\" y2=\"1363.13\" style=\"stroke:#000000; stroke-width:4; stroke-opacity:1\"/>\n",
       "<line clip-path=\"url(#clip0402)\" x1=\"1168.49\" y1=\"1187.15\" x2=\"1128.49\" y2=\"1187.15\" style=\"stroke:#000000; stroke-width:4; stroke-opacity:1\"/>\n",
       "<line clip-path=\"url(#clip0402)\" x1=\"1212.84\" y1=\"1368.9\" x2=\"1172.84\" y2=\"1368.9\" style=\"stroke:#000000; stroke-width:4; stroke-opacity:1\"/>\n",
       "<line clip-path=\"url(#clip0402)\" x1=\"1212.84\" y1=\"1206.01\" x2=\"1172.84\" y2=\"1206.01\" style=\"stroke:#000000; stroke-width:4; stroke-opacity:1\"/>\n",
       "<line clip-path=\"url(#clip0402)\" x1=\"1258.16\" y1=\"1373.6\" x2=\"1218.16\" y2=\"1373.6\" style=\"stroke:#000000; stroke-width:4; stroke-opacity:1\"/>\n",
       "<line clip-path=\"url(#clip0402)\" x1=\"1258.16\" y1=\"1223.44\" x2=\"1218.16\" y2=\"1223.44\" style=\"stroke:#000000; stroke-width:4; stroke-opacity:1\"/>\n",
       "<line clip-path=\"url(#clip0402)\" x1=\"1304.49\" y1=\"1377.36\" x2=\"1264.49\" y2=\"1377.36\" style=\"stroke:#000000; stroke-width:4; stroke-opacity:1\"/>\n",
       "<line clip-path=\"url(#clip0402)\" x1=\"1304.49\" y1=\"1239.51\" x2=\"1264.49\" y2=\"1239.51\" style=\"stroke:#000000; stroke-width:4; stroke-opacity:1\"/>\n",
       "<line clip-path=\"url(#clip0402)\" x1=\"1351.89\" y1=\"1380.3\" x2=\"1311.89\" y2=\"1380.3\" style=\"stroke:#000000; stroke-width:4; stroke-opacity:1\"/>\n",
       "<line clip-path=\"url(#clip0402)\" x1=\"1351.89\" y1=\"1254.29\" x2=\"1311.89\" y2=\"1254.29\" style=\"stroke:#000000; stroke-width:4; stroke-opacity:1\"/>\n",
       "<line clip-path=\"url(#clip0402)\" x1=\"1400.42\" y1=\"1382.55\" x2=\"1360.42\" y2=\"1382.55\" style=\"stroke:#000000; stroke-width:4; stroke-opacity:1\"/>\n",
       "<line clip-path=\"url(#clip0402)\" x1=\"1400.42\" y1=\"1267.85\" x2=\"1360.42\" y2=\"1267.85\" style=\"stroke:#000000; stroke-width:4; stroke-opacity:1\"/>\n",
       "<line clip-path=\"url(#clip0402)\" x1=\"1450.14\" y1=\"1384.21\" x2=\"1410.14\" y2=\"1384.21\" style=\"stroke:#000000; stroke-width:4; stroke-opacity:1\"/>\n",
       "<line clip-path=\"url(#clip0402)\" x1=\"1450.14\" y1=\"1280.25\" x2=\"1410.14\" y2=\"1280.25\" style=\"stroke:#000000; stroke-width:4; stroke-opacity:1\"/>\n",
       "<line clip-path=\"url(#clip0402)\" x1=\"1501.11\" y1=\"1385.36\" x2=\"1461.11\" y2=\"1385.36\" style=\"stroke:#000000; stroke-width:4; stroke-opacity:1\"/>\n",
       "<line clip-path=\"url(#clip0402)\" x1=\"1501.11\" y1=\"1291.56\" x2=\"1461.11\" y2=\"1291.56\" style=\"stroke:#000000; stroke-width:4; stroke-opacity:1\"/>\n",
       "<line clip-path=\"url(#clip0402)\" x1=\"1553.4\" y1=\"1386.1\" x2=\"1513.4\" y2=\"1386.1\" style=\"stroke:#000000; stroke-width:4; stroke-opacity:1\"/>\n",
       "<line clip-path=\"url(#clip0402)\" x1=\"1553.4\" y1=\"1301.85\" x2=\"1513.4\" y2=\"1301.85\" style=\"stroke:#000000; stroke-width:4; stroke-opacity:1\"/>\n",
       "<line clip-path=\"url(#clip0402)\" x1=\"1607.09\" y1=\"1386.49\" x2=\"1567.09\" y2=\"1386.49\" style=\"stroke:#000000; stroke-width:4; stroke-opacity:1\"/>\n",
       "<line clip-path=\"url(#clip0402)\" x1=\"1607.09\" y1=\"1311.18\" x2=\"1567.09\" y2=\"1311.18\" style=\"stroke:#000000; stroke-width:4; stroke-opacity:1\"/>\n",
       "<line clip-path=\"url(#clip0402)\" x1=\"1662.26\" y1=\"1386.61\" x2=\"1622.26\" y2=\"1386.61\" style=\"stroke:#000000; stroke-width:4; stroke-opacity:1\"/>\n",
       "<line clip-path=\"url(#clip0402)\" x1=\"1662.26\" y1=\"1319.61\" x2=\"1622.26\" y2=\"1319.61\" style=\"stroke:#000000; stroke-width:4; stroke-opacity:1\"/>\n",
       "<line clip-path=\"url(#clip0402)\" x1=\"1718.99\" y1=\"1386.5\" x2=\"1678.99\" y2=\"1386.5\" style=\"stroke:#000000; stroke-width:4; stroke-opacity:1\"/>\n",
       "<line clip-path=\"url(#clip0402)\" x1=\"1718.99\" y1=\"1327.2\" x2=\"1678.99\" y2=\"1327.2\" style=\"stroke:#000000; stroke-width:4; stroke-opacity:1\"/>\n",
       "<line clip-path=\"url(#clip0402)\" x1=\"1777.39\" y1=\"1386.21\" x2=\"1737.39\" y2=\"1386.21\" style=\"stroke:#000000; stroke-width:4; stroke-opacity:1\"/>\n",
       "<line clip-path=\"url(#clip0402)\" x1=\"1777.39\" y1=\"1334\" x2=\"1737.39\" y2=\"1334\" style=\"stroke:#000000; stroke-width:4; stroke-opacity:1\"/>\n",
       "<line clip-path=\"url(#clip0402)\" x1=\"1837.54\" y1=\"1385.8\" x2=\"1797.54\" y2=\"1385.8\" style=\"stroke:#000000; stroke-width:4; stroke-opacity:1\"/>\n",
       "<line clip-path=\"url(#clip0402)\" x1=\"1837.54\" y1=\"1340.08\" x2=\"1797.54\" y2=\"1340.08\" style=\"stroke:#000000; stroke-width:4; stroke-opacity:1\"/>\n",
       "<line clip-path=\"url(#clip0402)\" x1=\"1899.58\" y1=\"1385.29\" x2=\"1859.58\" y2=\"1385.29\" style=\"stroke:#000000; stroke-width:4; stroke-opacity:1\"/>\n",
       "<line clip-path=\"url(#clip0402)\" x1=\"1899.58\" y1=\"1345.49\" x2=\"1859.58\" y2=\"1345.49\" style=\"stroke:#000000; stroke-width:4; stroke-opacity:1\"/>\n",
       "<line clip-path=\"url(#clip0402)\" x1=\"1963.61\" y1=\"1384.72\" x2=\"1923.61\" y2=\"1384.72\" style=\"stroke:#000000; stroke-width:4; stroke-opacity:1\"/>\n",
       "<line clip-path=\"url(#clip0402)\" x1=\"1963.61\" y1=\"1350.28\" x2=\"1923.61\" y2=\"1350.28\" style=\"stroke:#000000; stroke-width:4; stroke-opacity:1\"/>\n",
       "<line clip-path=\"url(#clip0402)\" x1=\"2029.76\" y1=\"1384.11\" x2=\"1989.76\" y2=\"1384.11\" style=\"stroke:#000000; stroke-width:4; stroke-opacity:1\"/>\n",
       "<line clip-path=\"url(#clip0402)\" x1=\"2029.76\" y1=\"1354.5\" x2=\"1989.76\" y2=\"1354.5\" style=\"stroke:#000000; stroke-width:4; stroke-opacity:1\"/>\n",
       "<line clip-path=\"url(#clip0402)\" x1=\"2098.19\" y1=\"1383.49\" x2=\"2058.19\" y2=\"1383.49\" style=\"stroke:#000000; stroke-width:4; stroke-opacity:1\"/>\n",
       "<line clip-path=\"url(#clip0402)\" x1=\"2098.19\" y1=\"1358.2\" x2=\"2058.19\" y2=\"1358.2\" style=\"stroke:#000000; stroke-width:4; stroke-opacity:1\"/>\n",
       "<line clip-path=\"url(#clip0402)\" x1=\"2169.05\" y1=\"1382.88\" x2=\"2129.05\" y2=\"1382.88\" style=\"stroke:#000000; stroke-width:4; stroke-opacity:1\"/>\n",
       "<line clip-path=\"url(#clip0402)\" x1=\"2169.05\" y1=\"1361.43\" x2=\"2129.05\" y2=\"1361.43\" style=\"stroke:#000000; stroke-width:4; stroke-opacity:1\"/>\n",
       "<line clip-path=\"url(#clip0402)\" x1=\"2242.51\" y1=\"1382.28\" x2=\"2202.51\" y2=\"1382.28\" style=\"stroke:#000000; stroke-width:4; stroke-opacity:1\"/>\n",
       "<line clip-path=\"url(#clip0402)\" x1=\"2242.51\" y1=\"1364.23\" x2=\"2202.51\" y2=\"1364.23\" style=\"stroke:#000000; stroke-width:4; stroke-opacity:1\"/>\n",
       "<line clip-path=\"url(#clip0402)\" x1=\"2313.03\" y1=\"1381.75\" x2=\"2273.03\" y2=\"1381.75\" style=\"stroke:#000000; stroke-width:4; stroke-opacity:1\"/>\n",
       "<line clip-path=\"url(#clip0402)\" x1=\"2313.03\" y1=\"1366.48\" x2=\"2273.03\" y2=\"1366.48\" style=\"stroke:#000000; stroke-width:4; stroke-opacity:1\"/>\n",
       "</svg>\n"
      ]
     },
     "execution_count": 26,
     "metadata": {},
     "output_type": "execute_result"
    }
   ],
   "source": [
    "using OrdinaryDiffEq, Measurements, Plots\n",
    "\n",
    "#Half-life of Carbon-14 is 5730 years.\n",
    "c = 5.730 ± 2\n",
    "\n",
    "#Setup\n",
    "u0 = 1.0 ± 0.1\n",
    "tspan = (0.0, 1.0)\n",
    "\n",
    "#Define the problem\n",
    "radioactivedecay(u,p,t) = -c*u\n",
    "\n",
    "#Pass to solver\n",
    "prob = ODEProblem(radioactivedecay,u0,tspan)\n",
    "sol = solve(prob, Tsit5(), reltol=1e-8, abstol=1e-8);\n",
    "\n",
    "plot(sol.t, sol.u, ylabel=\"u(t)\", xlabel=\"t\", lw=2, legend=false)"
   ]
  },
  {
   "cell_type": "markdown",
   "metadata": {},
   "source": [
    "Note that, in some sense, **Julia implemented that feature by itself**.\n",
    "\n",
    "The authors of Measurements.jl and DifferentialEquations.jl never had any collabration on this.\n",
    "\n",
    "It **just works**."
   ]
  },
  {
   "cell_type": "markdown",
   "metadata": {},
   "source": [
    "# Core messages of this Notebook\n",
    "\n",
    "* It is simple to write **type-generic code** in Julia and you should do it.\n",
    "* Generally, **generic code is just as fast as specific code**.\n",
    "* Generic Programming + Multiple Dispatch + JIT = **lots of code sharing and emergent features**"
   ]
  }
 ],
 "metadata": {
  "@webio": {
   "lastCommId": "2f00f909c8e34eac8e86b3f3a9bac682",
   "lastKernelId": "202996de-0915-4a00-8e9e-c770f4900fc0"
  },
  "kernelspec": {
   "display_name": "Julia 1.3.1",
   "language": "julia",
   "name": "julia-1.3"
  },
  "language_info": {
   "file_extension": ".jl",
   "mimetype": "application/julia",
   "name": "julia",
   "version": "1.3.1"
  }
 },
 "nbformat": 4,
 "nbformat_minor": 4
}
