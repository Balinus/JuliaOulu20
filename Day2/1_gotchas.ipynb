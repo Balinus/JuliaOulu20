{
 "cells": [
  {
   "cell_type": "markdown",
   "metadata": {},
   "source": [
    "# Julia *gotchas* and how to handle them\n",
    "(Inspired by http://www.stochasticlifestyle.com/7-julia-gotchas-handle/ by Chris Rackauckas.)"
   ]
  },
  {
   "cell_type": "markdown",
   "metadata": {},
   "source": [
    "**One can write terribly slow code in any language, including Julia.**\n",
    "\n",
    "Below we address common performance *gotchas* in Julia code."
   ]
  },
  {
   "cell_type": "markdown",
   "metadata": {},
   "source": [
    "# Gotcha 1: Global scope"
   ]
  },
  {
   "cell_type": "code",
   "execution_count": 3,
   "metadata": {},
   "outputs": [
    {
     "name": "stdout",
     "output_type": "stream",
     "text": [
      "answer = 7.0\n"
     ]
    }
   ],
   "source": [
    "a=2.0\n",
    "b=3.0\n",
    "function linearcombo()\n",
    "  return 2a+b\n",
    "end\n",
    "answer = linearcombo()\n",
    "\n",
    "@show answer;"
   ]
  },
  {
   "cell_type": "code",
   "execution_count": 6,
   "metadata": {},
   "outputs": [
    {
     "name": "stdout",
     "output_type": "stream",
     "text": [
      "  0.000003 seconds (6 allocations: 192 bytes)\n"
     ]
    },
    {
     "data": {
      "text/plain": [
       "7.0"
      ]
     },
     "execution_count": 6,
     "metadata": {},
     "output_type": "execute_result"
    }
   ],
   "source": [
    "@time linearcombo()"
   ]
  },
  {
   "cell_type": "code",
   "execution_count": 7,
   "metadata": {},
   "outputs": [
    {
     "data": {
      "text/plain": [
       "3"
      ]
     },
     "execution_count": 7,
     "metadata": {},
     "output_type": "execute_result"
    }
   ],
   "source": [
    "a = 3"
   ]
  },
  {
   "cell_type": "code",
   "execution_count": 8,
   "metadata": {},
   "outputs": [
    {
     "data": {
      "text/plain": [
       "9.0"
      ]
     },
     "execution_count": 8,
     "metadata": {},
     "output_type": "execute_result"
    }
   ],
   "source": [
    "linearcombo()"
   ]
  },
  {
   "cell_type": "markdown",
   "metadata": {},
   "source": [
    "The issue here is that the REPL/global scope does not guarantee that `a` and `b` are of a certain type."
   ]
  },
  {
   "cell_type": "code",
   "execution_count": 2,
   "metadata": {},
   "outputs": [
    {
     "name": "stdout",
     "output_type": "stream",
     "text": [
      "\n",
      ";  @ In[1]:4 within `linearcombo'\n",
      "; Function Attrs: uwtable\n",
      "define nonnull %jl_value_t addrspace(10)* @julia_linearcombo_17537() #0 {\n",
      "top:\n",
      "  %0 = alloca %jl_value_t addrspace(10)*, i32 2\n",
      "  %gcframe = alloca %jl_value_t addrspace(10)*, i32 4\n",
      "  %1 = bitcast %jl_value_t addrspace(10)** %gcframe to i8*\n",
      "  call void @llvm.memset.p0i8.i32(i8* %1, i8 0, i32 32, i32 0, i1 false)\n",
      "  %2 = call %jl_value_t*** inttoptr (i64 1720369472 to %jl_value_t*** ()*)() #6\n",
      "  %3 = getelementptr %jl_value_t addrspace(10)*, %jl_value_t addrspace(10)** %gcframe, i32 0\n",
      "  %4 = bitcast %jl_value_t addrspace(10)** %3 to i64*\n",
      "  store i64 4, i64* %4\n",
      "  %5 = getelementptr %jl_value_t**, %jl_value_t*** %2, i32 0\n",
      "  %6 = getelementptr %jl_value_t addrspace(10)*, %jl_value_t addrspace(10)** %gcframe, i32 1\n",
      "  %7 = bitcast %jl_value_t addrspace(10)** %6 to %jl_value_t***\n",
      "  %8 = load %jl_value_t**, %jl_value_t*** %5\n",
      "  store %jl_value_t** %8, %jl_value_t*** %7\n",
      "  %9 = bitcast %jl_value_t*** %5 to %jl_value_t addrspace(10)***\n",
      "  store %jl_value_t addrspace(10)** %gcframe, %jl_value_t addrspace(10)*** %9\n",
      "  %10 = load %jl_value_t addrspace(10)*, %jl_value_t addrspace(10)** inttoptr (i64 771727304 to %jl_value_t addrspace(10)**), align 8\n",
      "  %11 = getelementptr %jl_value_t addrspace(10)*, %jl_value_t addrspace(10)** %gcframe, i32 2\n",
      "  store %jl_value_t addrspace(10)* %10, %jl_value_t addrspace(10)** %11\n",
      "  %12 = getelementptr %jl_value_t addrspace(10)*, %jl_value_t addrspace(10)** %0, i32 0\n",
      "  store %jl_value_t addrspace(10)* addrspacecast (%jl_value_t* inttoptr (i64 342261920 to %jl_value_t*) to %jl_value_t addrspace(10)*), %jl_value_t addrspace(10)** %12\n",
      "  %13 = getelementptr %jl_value_t addrspace(10)*, %jl_value_t addrspace(10)** %0, i32 1\n",
      "  store %jl_value_t addrspace(10)* %10, %jl_value_t addrspace(10)** %13\n",
      "  %14 = call nonnull %jl_value_t addrspace(10)* @jl_apply_generic(%jl_value_t addrspace(10)* addrspacecast (%jl_value_t* inttoptr (i64 145228832 to %jl_value_t*) to %jl_value_t addrspace(10)*), %jl_value_t addrspace(10)** %0, i32 2)\n",
      "  %15 = load %jl_value_t addrspace(10)*, %jl_value_t addrspace(10)** inttoptr (i64 771728024 to %jl_value_t addrspace(10)**), align 8\n",
      "  %16 = getelementptr %jl_value_t addrspace(10)*, %jl_value_t addrspace(10)** %gcframe, i32 3\n",
      "  store %jl_value_t addrspace(10)* %14, %jl_value_t addrspace(10)** %16\n",
      "  %17 = getelementptr %jl_value_t addrspace(10)*, %jl_value_t addrspace(10)** %gcframe, i32 2\n",
      "  store %jl_value_t addrspace(10)* %15, %jl_value_t addrspace(10)** %17\n",
      "  %18 = getelementptr %jl_value_t addrspace(10)*, %jl_value_t addrspace(10)** %0, i32 0\n",
      "  store %jl_value_t addrspace(10)* %14, %jl_value_t addrspace(10)** %18\n",
      "  %19 = getelementptr %jl_value_t addrspace(10)*, %jl_value_t addrspace(10)** %0, i32 1\n",
      "  store %jl_value_t addrspace(10)* %15, %jl_value_t addrspace(10)** %19\n",
      "  %20 = call nonnull %jl_value_t addrspace(10)* @jl_apply_generic(%jl_value_t addrspace(10)* addrspacecast (%jl_value_t* inttoptr (i64 122638384 to %jl_value_t*) to %jl_value_t addrspace(10)*), %jl_value_t addrspace(10)** %0, i32 2)\n",
      "  %21 = getelementptr %jl_value_t addrspace(10)*, %jl_value_t addrspace(10)** %gcframe, i32 1\n",
      "  %22 = load %jl_value_t addrspace(10)*, %jl_value_t addrspace(10)** %21\n",
      "  %23 = getelementptr %jl_value_t**, %jl_value_t*** %2, i32 0\n",
      "  %24 = bitcast %jl_value_t*** %23 to %jl_value_t addrspace(10)**\n",
      "  store %jl_value_t addrspace(10)* %22, %jl_value_t addrspace(10)** %24\n",
      "  ret %jl_value_t addrspace(10)* %20\n",
      "}\n"
     ]
    }
   ],
   "source": [
    "@code_llvm linearcombo()"
   ]
  },
  {
   "cell_type": "markdown",
   "metadata": {},
   "source": [
    "### How to identify and avoid this issue?"
   ]
  },
  {
   "cell_type": "markdown",
   "metadata": {},
   "source": [
    "One way to identify the issue is [Traceur.jl](https://github.com/MikeInnes/Traceur.jl). It is basically a codified version of the [performance tips](https://docs.julialang.org/en/v0.6.4/manual/performance-tips/#man-performance-tips-1) in the Julia documentation."
   ]
  },
  {
   "cell_type": "code",
   "execution_count": 9,
   "metadata": {},
   "outputs": [
    {
     "name": "stderr",
     "output_type": "stream",
     "text": [
      "┌ Warning: uses global variable Main.a\n",
      "└ @ In[3]:-1\n",
      "┌ Warning: uses global variable Main.b\n",
      "└ @ In[3]:-1\n",
      "┌ Warning: dynamic dispatch to 2 * Main.a\n",
      "└ @ In[3]:-1\n",
      "┌ Warning: dynamic dispatch to 2 * Main.a + Main.b\n",
      "└ @ In[3]:-1\n",
      "┌ Warning: linearcombo returns Any\n",
      "└ @ In[3]:4\n"
     ]
    },
    {
     "data": {
      "text/plain": [
       "9.0"
      ]
     },
     "execution_count": 9,
     "metadata": {},
     "output_type": "execute_result"
    }
   ],
   "source": [
    "using Traceur\n",
    "@trace linearcombo()"
   ]
  },
  {
   "cell_type": "markdown",
   "metadata": {},
   "source": [
    "#### 1) Wrap code in functions."
   ]
  },
  {
   "cell_type": "code",
   "execution_count": 10,
   "metadata": {},
   "outputs": [
    {
     "name": "stdout",
     "output_type": "stream",
     "text": [
      "answer = 7.0\n"
     ]
    }
   ],
   "source": [
    "function outer()\n",
    "    a=2.0; b=3.0\n",
    "    function linearcombo()\n",
    "      return 2a+b\n",
    "    end\n",
    "    return linearcombo() \n",
    "end\n",
    "\n",
    "answer = outer()\n",
    "\n",
    "@show answer;"
   ]
  },
  {
   "cell_type": "code",
   "execution_count": null,
   "metadata": {},
   "outputs": [],
   "source": [
    "# myscript.jl\n",
    "\n",
    "function myfunc(a,b)\n",
    "    a+b\n",
    "end\n",
    "\n",
    "g(a) = a^2\n",
    "\n",
    "function main()\n",
    "    a = 2.0\n",
    "    b = 4.2\n",
    "    z = myfunc(a,b)\n",
    "    println(g(z))\n",
    "end\n",
    "\n",
    "main()"
   ]
  },
  {
   "cell_type": "code",
   "execution_count": 11,
   "metadata": {},
   "outputs": [
    {
     "name": "stdout",
     "output_type": "stream",
     "text": [
      "\n",
      ";  @ In[10]:2 within `outer'\n",
      "; Function Attrs: uwtable\n",
      "define double @julia_outer_18376() #0 {\n",
      "top:\n",
      "  ret double 7.000000e+00\n",
      "}\n"
     ]
    }
   ],
   "source": [
    "@code_llvm outer()"
   ]
  },
  {
   "cell_type": "markdown",
   "metadata": {},
   "source": [
    "This is fast.\n",
    "\n",
    "In fact, it's not just fast, but as fast as it can be! Julia has figured out the result of the calculation at compile-time and returns **just the result (a literal)!**\n",
    "\n",
    "(Effectively, `outer() = 7` at run-time.)"
   ]
  },
  {
   "cell_type": "code",
   "execution_count": null,
   "metadata": {},
   "outputs": [],
   "source": [
    "@trace outer()"
   ]
  },
  {
   "cell_type": "markdown",
   "metadata": {},
   "source": [
    "#### 2) Declare globals as (compile-time) constants."
   ]
  },
  {
   "cell_type": "code",
   "execution_count": 12,
   "metadata": {},
   "outputs": [
    {
     "name": "stdout",
     "output_type": "stream",
     "text": [
      "answer = 7.0\n"
     ]
    }
   ],
   "source": [
    "const A=2.0\n",
    "const B=3.0\n",
    "\n",
    "function Linearcombo()\n",
    "  return 2A+B\n",
    "end\n",
    "answer = Linearcombo()\n",
    "\n",
    "@show answer;"
   ]
  },
  {
   "cell_type": "code",
   "execution_count": 13,
   "metadata": {},
   "outputs": [
    {
     "name": "stdout",
     "output_type": "stream",
     "text": [
      "\n",
      ";  @ In[12]:5 within `Linearcombo'\n",
      "; Function Attrs: uwtable\n",
      "define double @julia_Linearcombo_18378() #0 {\n",
      "top:\n",
      "  ret double 7.000000e+00\n",
      "}\n"
     ]
    }
   ],
   "source": [
    "@code_llvm Linearcombo()"
   ]
  },
  {
   "cell_type": "code",
   "execution_count": 15,
   "metadata": {},
   "outputs": [
    {
     "data": {
      "text/plain": [
       "7.0"
      ]
     },
     "execution_count": 15,
     "metadata": {},
     "output_type": "execute_result"
    }
   ],
   "source": [
    "@trace Linearcombo()"
   ]
  },
  {
   "cell_type": "markdown",
   "metadata": {},
   "source": [
    "Note that the constants above are only compile-time constants, which can be modified:"
   ]
  },
  {
   "cell_type": "code",
   "execution_count": 16,
   "metadata": {},
   "outputs": [
    {
     "name": "stderr",
     "output_type": "stream",
     "text": [
      "WARNING: redefining constant A\n"
     ]
    },
    {
     "data": {
      "text/plain": [
       "1.0"
      ]
     },
     "execution_count": 16,
     "metadata": {},
     "output_type": "execute_result"
    }
   ],
   "source": [
    "const A=1.0"
   ]
  },
  {
   "cell_type": "code",
   "execution_count": 17,
   "metadata": {},
   "outputs": [
    {
     "data": {
      "text/plain": [
       "7.0"
      ]
     },
     "execution_count": 17,
     "metadata": {},
     "output_type": "execute_result"
    }
   ],
   "source": [
    "Linearcombo() # still returns 7, not 5"
   ]
  },
  {
   "cell_type": "markdown",
   "metadata": {},
   "source": [
    "#### Take home message: Always wrap a performance critical piece of code in a self-contained function."
   ]
  },
  {
   "cell_type": "markdown",
   "metadata": {},
   "source": [
    "# Gotcha 2: Type-instabilities"
   ]
  },
  {
   "cell_type": "markdown",
   "metadata": {},
   "source": [
    "What's bad for performance about the following function?"
   ]
  },
  {
   "cell_type": "code",
   "execution_count": 18,
   "metadata": {},
   "outputs": [
    {
     "data": {
      "text/plain": [
       "g (generic function with 1 method)"
      ]
     },
     "execution_count": 18,
     "metadata": {},
     "output_type": "execute_result"
    }
   ],
   "source": [
    "function g()\n",
    "  x=1\n",
    "  for i = 1:10\n",
    "    x = x/2\n",
    "  end\n",
    "  return x\n",
    "end"
   ]
  },
  {
   "cell_type": "code",
   "execution_count": 19,
   "metadata": {},
   "outputs": [
    {
     "name": "stdout",
     "output_type": "stream",
     "text": [
      "\n",
      "; Function Attrs: uwtable\n",
      "define double @julia_g_18500() #0 {\n",
      "top:\n",
      "  br label %L2\n",
      "\n",
      "L2:                                               ; preds = %top, %L29\n",
      "  %0 = phi double [ 4.940660e-324, %top ], [ %value_phi1, %L29 ]\n",
      "  %.sroa.012.0 = phi i64 [ 1, %top ], [ %4, %L29 ]\n",
      "  %tindex_phi = phi i2 [ -2, %top ], [ 1, %L29 ]\n",
      "  %value_phi = phi i64 [ 1, %top ], [ %3, %L29 ]\n",
      "  switch i2 %tindex_phi, label %L17 [\n",
      "    i2 -2, label %L6\n",
      "    i2 1, label %L19\n",
      "  ]\n",
      "\n",
      "L6:                                               ; preds = %L2\n",
      "  %1 = sitofp i64 %.sroa.012.0 to double\n",
      "  br label %L19\n",
      "\n",
      "L17:                                              ; preds = %L2\n",
      "  call void @jl_throw(%jl_value_t addrspace(12)* addrspacecast (%jl_value_t* inttoptr (i64 111006864 to %jl_value_t*) to %jl_value_t addrspace(12)*))\n",
      "  unreachable\n",
      "\n",
      "L19:                                              ; preds = %L2, %L6\n",
      "  %value_phi1.in = phi double [ %1, %L6 ], [ %0, %L2 ]\n",
      "  %value_phi1 = fmul double %value_phi1.in, 5.000000e-01\n",
      "  %2 = icmp eq i64 %value_phi, 10\n",
      "  br i1 %2, label %L25.L30_crit_edge, label %L29\n",
      "\n",
      "L25.L30_crit_edge:                                ; preds = %L19\n",
      "  ret double %value_phi1\n",
      "\n",
      "L29:                                              ; preds = %L19\n",
      "  %3 = add i64 %value_phi, 1\n",
      "  %4 = bitcast double %value_phi1 to i64\n",
      "  br label %L2\n",
      "}\n"
     ]
    }
   ],
   "source": [
    "@code_llvm debuginfo=:none g()"
   ]
  },
  {
   "cell_type": "markdown",
   "metadata": {},
   "source": [
    "A more drastic example"
   ]
  },
  {
   "cell_type": "code",
   "execution_count": 20,
   "metadata": {},
   "outputs": [
    {
     "data": {
      "text/plain": [
       "f (generic function with 1 method)"
      ]
     },
     "execution_count": 20,
     "metadata": {},
     "output_type": "execute_result"
    }
   ],
   "source": [
    "f() = rand([1.0, 2, \"3\"])"
   ]
  },
  {
   "cell_type": "code",
   "execution_count": 21,
   "metadata": {},
   "outputs": [
    {
     "name": "stdout",
     "output_type": "stream",
     "text": [
      "\n",
      "; Function Attrs: uwtable\n",
      "define nonnull %jl_value_t addrspace(10)* @julia_f_18523() #0 {\n",
      "top:\n",
      "  %0 = alloca %jl_value_t addrspace(10)*, i32 2\n",
      "  %gcframe = alloca %jl_value_t addrspace(10)*, i32 4\n",
      "  %1 = bitcast %jl_value_t addrspace(10)** %gcframe to i8*\n",
      "  call void @llvm.memset.p0i8.i32(i8* %1, i8 0, i32 32, i32 0, i1 false)\n",
      "  %2 = alloca { i64, i64, i64, i64 }, align 8\n",
      "  %3 = call %jl_value_t*** inttoptr (i64 1720369472 to %jl_value_t*** ()*)() #9\n",
      "  %4 = getelementptr %jl_value_t addrspace(10)*, %jl_value_t addrspace(10)** %gcframe, i32 0\n",
      "  %5 = bitcast %jl_value_t addrspace(10)** %4 to i64*\n",
      "  store i64 4, i64* %5\n",
      "  %6 = getelementptr %jl_value_t**, %jl_value_t*** %3, i32 0\n",
      "  %7 = getelementptr %jl_value_t addrspace(10)*, %jl_value_t addrspace(10)** %gcframe, i32 1\n",
      "  %8 = bitcast %jl_value_t addrspace(10)** %7 to %jl_value_t***\n",
      "  %9 = load %jl_value_t**, %jl_value_t*** %6\n",
      "  store %jl_value_t** %9, %jl_value_t*** %8\n",
      "  %10 = bitcast %jl_value_t*** %6 to %jl_value_t addrspace(10)***\n",
      "  store %jl_value_t addrspace(10)** %gcframe, %jl_value_t addrspace(10)*** %10\n",
      "  %11 = bitcast %jl_value_t*** %3 to i8*\n",
      "  %12 = call noalias nonnull %jl_value_t addrspace(10)* @jl_gc_pool_alloc(i8* %11, i32 1424, i32 32) #2\n",
      "  %13 = bitcast %jl_value_t addrspace(10)* %12 to %jl_value_t addrspace(10)* addrspace(10)*\n",
      "  %14 = getelementptr %jl_value_t addrspace(10)*, %jl_value_t addrspace(10)* addrspace(10)* %13, i64 -1\n",
      "  store %jl_value_t addrspace(10)* addrspacecast (%jl_value_t* inttoptr (i64 294454160 to %jl_value_t*) to %jl_value_t addrspace(10)*), %jl_value_t addrspace(10)* addrspace(10)* %14\n",
      "  %15 = addrspacecast %jl_value_t addrspace(10)* %12 to %jl_value_t addrspace(11)*\n",
      "  %16 = bitcast %jl_value_t addrspace(10)* %12 to double addrspace(10)*\n",
      "  store double 1.000000e+00, double addrspace(10)* %16, align 8\n",
      "  %17 = bitcast %jl_value_t addrspace(11)* %15 to i8 addrspace(11)*\n",
      "  %18 = getelementptr inbounds i8, i8 addrspace(11)* %17, i64 8\n",
      "  %19 = bitcast i8 addrspace(11)* %18 to i64 addrspace(11)*\n",
      "  store i64 2, i64 addrspace(11)* %19, align 8\n",
      "  %20 = getelementptr inbounds i8, i8 addrspace(11)* %17, i64 16\n",
      "  %21 = bitcast i8 addrspace(11)* %20 to %jl_value_t addrspace(10)* addrspace(11)*\n",
      "  store %jl_value_t addrspace(10)* addrspacecast (%jl_value_t* inttoptr (i64 323310288 to %jl_value_t*) to %jl_value_t addrspace(10)*), %jl_value_t addrspace(10)* addrspace(11)* %21, align 8\n",
      "  %22 = getelementptr %jl_value_t addrspace(10)*, %jl_value_t addrspace(10)** %gcframe, i32 2\n",
      "  store %jl_value_t addrspace(10)* %12, %jl_value_t addrspace(10)** %22\n",
      "  %23 = call %jl_value_t addrspace(10)* inttoptr (i64 1720217328 to %jl_value_t addrspace(10)* (%jl_value_t addrspace(10)*, i64)*)(%jl_value_t addrspace(10)* addrspacecast (%jl_value_t* inttoptr (i64 109621424 to %jl_value_t*) to %jl_value_t addrspace(10)*), i64 3)\n",
      "  %24 = getelementptr %jl_value_t addrspace(10)*, %jl_value_t addrspace(10)** %gcframe, i32 3\n",
      "  store %jl_value_t addrspace(10)* %23, %jl_value_t addrspace(10)** %24\n",
      "  %25 = getelementptr %jl_value_t addrspace(10)*, %jl_value_t addrspace(10)** %0, i32 0\n",
      "  store %jl_value_t addrspace(10)* %23, %jl_value_t addrspace(10)** %25\n",
      "  %26 = getelementptr %jl_value_t addrspace(10)*, %jl_value_t addrspace(10)** %0, i32 1\n",
      "  store %jl_value_t addrspace(10)* %12, %jl_value_t addrspace(10)** %26\n",
      "  %27 = call nonnull %jl_value_t addrspace(10)* @\"japi1_copyto!_18524\"(%jl_value_t addrspace(10)* addrspacecast (%jl_value_t* inttoptr (i64 153981184 to %jl_value_t*) to %jl_value_t addrspace(10)*), %jl_value_t addrspace(10)** %0, i32 2)\n",
      "  %28 = getelementptr %jl_value_t**, %jl_value_t*** %3, i64 2\n",
      "  %29 = bitcast %jl_value_t*** %28 to i16*\n",
      "  %30 = load i16, i16* %29, align 2\n",
      "  %31 = sext i16 %30 to i64\n",
      "  %32 = add nsw i64 %31, 1\n",
      "  %33 = getelementptr %jl_value_t addrspace(10)*, %jl_value_t addrspace(10)** %gcframe, i32 3\n",
      "  store %jl_value_t addrspace(10)* %27, %jl_value_t addrspace(10)** %33\n",
      "  %34 = call nonnull %jl_value_t addrspace(10)* @julia_default_rng_3193(i64 %32)\n",
      "  %35 = addrspacecast %jl_value_t addrspace(10)* %27 to %jl_value_t addrspace(11)*\n",
      "  %36 = bitcast %jl_value_t addrspace(11)* %35 to %jl_value_t addrspace(10)* addrspace(11)*\n",
      "  %37 = getelementptr inbounds %jl_value_t addrspace(10)*, %jl_value_t addrspace(10)* addrspace(11)* %36, i64 3\n",
      "  %38 = bitcast %jl_value_t addrspace(10)* addrspace(11)* %37 to i64 addrspace(11)*\n",
      "  %39 = load i64, i64 addrspace(11)* %38, align 8\n",
      "  %40 = icmp sgt i64 %39, 0\n",
      "  br i1 %40, label %L19, label %L16\n",
      "\n",
      "L16:                                              ; preds = %top\n",
      "  %41 = call noalias nonnull %jl_value_t addrspace(10)* @jl_gc_pool_alloc(i8* %11, i32 1400, i32 16) #2\n",
      "  %42 = bitcast %jl_value_t addrspace(10)* %41 to %jl_value_t addrspace(10)* addrspace(10)*\n",
      "  %43 = getelementptr %jl_value_t addrspace(10)*, %jl_value_t addrspace(10)* addrspace(10)* %42, i64 -1\n",
      "  store %jl_value_t addrspace(10)* addrspacecast (%jl_value_t* inttoptr (i64 111187728 to %jl_value_t*) to %jl_value_t addrspace(10)*), %jl_value_t addrspace(10)* addrspace(10)* %43\n",
      "  %44 = bitcast %jl_value_t addrspace(10)* %41 to %jl_value_t addrspace(10)* addrspace(10)*\n",
      "  store %jl_value_t addrspace(10)* addrspacecast (%jl_value_t* inttoptr (i64 121520144 to %jl_value_t*) to %jl_value_t addrspace(10)*), %jl_value_t addrspace(10)* addrspace(10)* %44, align 8\n",
      "  %45 = addrspacecast %jl_value_t addrspace(10)* %41 to %jl_value_t addrspace(12)*\n",
      "  %46 = getelementptr %jl_value_t addrspace(10)*, %jl_value_t addrspace(10)** %gcframe, i32 2\n",
      "  store %jl_value_t addrspace(10)* %41, %jl_value_t addrspace(10)** %46\n",
      "  call void @jl_throw(%jl_value_t addrspace(12)* %45)\n",
      "  unreachable\n",
      "\n",
      "L19:                                              ; preds = %top\n",
      "  %47 = add i64 %39, -1\n",
      "  %48 = call i64 @llvm.ctlz.i64(i64 %47, i1 false)\n",
      "  %49 = sub nsw i64 64, %48\n",
      "  %50 = shl i64 1, %49\n",
      "  %51 = icmp ugt i64 %49, 63\n",
      "  %.op = add i64 %50, -1\n",
      "  %52 = select i1 %51, i64 -1, i64 %.op\n",
      "  %53 = getelementptr inbounds { i64, i64, i64, i64 }, { i64, i64, i64, i64 }* %2, i64 0, i32 0\n",
      "  store i64 1, i64* %53, align 8\n",
      "  %54 = getelementptr inbounds { i64, i64, i64, i64 }, { i64, i64, i64, i64 }* %2, i64 0, i32 1\n",
      "  store i64 %49, i64* %54, align 8\n",
      "  %55 = getelementptr inbounds { i64, i64, i64, i64 }, { i64, i64, i64, i64 }* %2, i64 0, i32 2\n",
      "  store i64 %47, i64* %55, align 8\n",
      "  %56 = getelementptr inbounds { i64, i64, i64, i64 }, { i64, i64, i64, i64 }* %2, i64 0, i32 3\n",
      "  store i64 %52, i64* %56, align 8\n",
      "  %57 = addrspacecast { i64, i64, i64, i64 }* %2 to { i64, i64, i64, i64 } addrspace(11)*\n",
      "  %58 = getelementptr %jl_value_t addrspace(10)*, %jl_value_t addrspace(10)** %gcframe, i32 2\n",
      "  store %jl_value_t addrspace(10)* %34, %jl_value_t addrspace(10)** %58\n",
      "  %59 = call i64 @julia_rand_3185(%jl_value_t addrspace(10)* nonnull %34, { i64, i64, i64, i64 } addrspace(11)* nocapture readonly %57)\n",
      "  %60 = add i64 %59, -1\n",
      "  %61 = bitcast %jl_value_t addrspace(11)* %35 to %jl_value_t addrspace(10)* addrspace(13)* addrspace(11)*\n",
      "  %62 = load %jl_value_t addrspace(10)* addrspace(13)*, %jl_value_t addrspace(10)* addrspace(13)* addrspace(11)* %61, align 8\n",
      "  %63 = getelementptr inbounds %jl_value_t addrspace(10)*, %jl_value_t addrspace(10)* addrspace(13)* %62, i64 %60\n",
      "  %64 = load %jl_value_t addrspace(10)*, %jl_value_t addrspace(10)* addrspace(13)* %63, align 8\n",
      "  %65 = icmp eq %jl_value_t addrspace(10)* %64, null\n",
      "  br i1 %65, label %fail, label %pass\n",
      "\n",
      "fail:                                             ; preds = %L19\n",
      "  call void @jl_throw(%jl_value_t addrspace(12)* addrspacecast (%jl_value_t* inttoptr (i64 114822496 to %jl_value_t*) to %jl_value_t addrspace(12)*))\n",
      "  unreachable\n",
      "\n",
      "pass:                                             ; preds = %L19\n",
      "  %66 = getelementptr %jl_value_t addrspace(10)*, %jl_value_t addrspace(10)** %gcframe, i32 1\n",
      "  %67 = load %jl_value_t addrspace(10)*, %jl_value_t addrspace(10)** %66\n",
      "  %68 = getelementptr %jl_value_t**, %jl_value_t*** %3, i32 0\n",
      "  %69 = bitcast %jl_value_t*** %68 to %jl_value_t addrspace(10)**\n",
      "  store %jl_value_t addrspace(10)* %67, %jl_value_t addrspace(10)** %69\n",
      "  ret %jl_value_t addrspace(10)* %64\n",
      "}\n"
     ]
    }
   ],
   "source": [
    "@code_llvm debuginfo=:none f()"
   ]
  },
  {
   "cell_type": "markdown",
   "metadata": {},
   "source": [
    "### How to find and deal with type-instabilities"
   ]
  },
  {
   "cell_type": "markdown",
   "metadata": {},
   "source": [
    "#### 1) Avoid type changes"
   ]
  },
  {
   "cell_type": "markdown",
   "metadata": {},
   "source": [
    "Initialize `x` as `Float64` and it's fast."
   ]
  },
  {
   "cell_type": "code",
   "execution_count": 22,
   "metadata": {},
   "outputs": [
    {
     "data": {
      "text/plain": [
       "h (generic function with 1 method)"
      ]
     },
     "execution_count": 22,
     "metadata": {},
     "output_type": "execute_result"
    }
   ],
   "source": [
    "function h()\n",
    "  x=1.0\n",
    "  for i = 1:10\n",
    "    x = x/2\n",
    "  end\n",
    "  return x\n",
    "end"
   ]
  },
  {
   "cell_type": "code",
   "execution_count": 23,
   "metadata": {},
   "outputs": [
    {
     "name": "stdout",
     "output_type": "stream",
     "text": [
      "\n",
      "; Function Attrs: uwtable\n",
      "define double @julia_h_18537() #0 {\n",
      "top:\n",
      "  ret double 0x3F50000000000000\n",
      "}\n"
     ]
    }
   ],
   "source": [
    "@code_llvm debuginfo=:none h()"
   ]
  },
  {
   "cell_type": "code",
   "execution_count": 24,
   "metadata": {},
   "outputs": [
    {
     "data": {
      "text/plain": [
       "0.0009765625"
      ]
     },
     "execution_count": 24,
     "metadata": {},
     "output_type": "execute_result"
    }
   ],
   "source": [
    "h()"
   ]
  },
  {
   "cell_type": "markdown",
   "metadata": {},
   "source": [
    "#### 2) Detect issues with `@code_warntype` (or `@trace`)"
   ]
  },
  {
   "cell_type": "code",
   "execution_count": 25,
   "metadata": {},
   "outputs": [
    {
     "name": "stdout",
     "output_type": "stream",
     "text": [
      "Variables\n",
      "  #self#\u001b[36m::Core.Compiler.Const(g, false)\u001b[39m\n",
      "  x\u001b[91m\u001b[1m::Union{Float64, Int64}\u001b[22m\u001b[39m\n",
      "  @_3\u001b[33m\u001b[1m::Union{Nothing, Tuple{Int64,Int64}}\u001b[22m\u001b[39m\n",
      "  i\u001b[36m::Int64\u001b[39m\n",
      "\n",
      "Body\u001b[36m::Float64\u001b[39m\n",
      "\u001b[90m1 ─\u001b[39m       (x = 1)\n",
      "\u001b[90m│  \u001b[39m %2  = (1:10)\u001b[36m::Core.Compiler.Const(1:10, false)\u001b[39m\n",
      "\u001b[90m│  \u001b[39m       (@_3 = Base.iterate(%2))\n",
      "\u001b[90m│  \u001b[39m %4  = (@_3::Core.Compiler.Const((1, 1), false) === nothing)\u001b[36m::Core.Compiler.Const(false, false)\u001b[39m\n",
      "\u001b[90m│  \u001b[39m %5  = Base.not_int(%4)\u001b[36m::Core.Compiler.Const(true, false)\u001b[39m\n",
      "\u001b[90m└──\u001b[39m       goto #4 if not %5\n",
      "\u001b[90m2 ┄\u001b[39m %7  = @_3::Tuple{Int64,Int64}\u001b[36m::Tuple{Int64,Int64}\u001b[39m\n",
      "\u001b[90m│  \u001b[39m       (i = Core.getfield(%7, 1))\n",
      "\u001b[90m│  \u001b[39m %9  = Core.getfield(%7, 2)\u001b[36m::Int64\u001b[39m\n",
      "\u001b[90m│  \u001b[39m       (x = x / 2)\n",
      "\u001b[90m│  \u001b[39m       (@_3 = Base.iterate(%2, %9))\n",
      "\u001b[90m│  \u001b[39m %12 = (@_3 === nothing)\u001b[36m::Bool\u001b[39m\n",
      "\u001b[90m│  \u001b[39m %13 = Base.not_int(%12)\u001b[36m::Bool\u001b[39m\n",
      "\u001b[90m└──\u001b[39m       goto #4 if not %13\n",
      "\u001b[90m3 ─\u001b[39m       goto #2\n",
      "\u001b[90m4 ┄\u001b[39m       return x::Float64\n"
     ]
    }
   ],
   "source": [
    "@code_warntype g()"
   ]
  },
  {
   "cell_type": "markdown",
   "metadata": {},
   "source": [
    "(On a side note: since the type can only vary between `Float64` and `Int64`, Julia can still produce reasonable code by *union splitting*. See the blog post by Tim Holy: https://julialang.org/blog/2018/08/union-splitting)"
   ]
  },
  {
   "cell_type": "code",
   "execution_count": 26,
   "metadata": {},
   "outputs": [
    {
     "name": "stdout",
     "output_type": "stream",
     "text": [
      "Variables\n",
      "  #self#\u001b[36m::Core.Compiler.Const(h, false)\u001b[39m\n",
      "  x\u001b[36m::Float64\u001b[39m\n",
      "  @_3\u001b[33m\u001b[1m::Union{Nothing, Tuple{Int64,Int64}}\u001b[22m\u001b[39m\n",
      "  i\u001b[36m::Int64\u001b[39m\n",
      "\n",
      "Body\u001b[36m::Float64\u001b[39m\n",
      "\u001b[90m1 ─\u001b[39m       (x = 1.0)\n",
      "\u001b[90m│  \u001b[39m %2  = (1:10)\u001b[36m::Core.Compiler.Const(1:10, false)\u001b[39m\n",
      "\u001b[90m│  \u001b[39m       (@_3 = Base.iterate(%2))\n",
      "\u001b[90m│  \u001b[39m %4  = (@_3::Core.Compiler.Const((1, 1), false) === nothing)\u001b[36m::Core.Compiler.Const(false, false)\u001b[39m\n",
      "\u001b[90m│  \u001b[39m %5  = Base.not_int(%4)\u001b[36m::Core.Compiler.Const(true, false)\u001b[39m\n",
      "\u001b[90m└──\u001b[39m       goto #4 if not %5\n",
      "\u001b[90m2 ┄\u001b[39m %7  = @_3::Tuple{Int64,Int64}\u001b[36m::Tuple{Int64,Int64}\u001b[39m\n",
      "\u001b[90m│  \u001b[39m       (i = Core.getfield(%7, 1))\n",
      "\u001b[90m│  \u001b[39m %9  = Core.getfield(%7, 2)\u001b[36m::Int64\u001b[39m\n",
      "\u001b[90m│  \u001b[39m       (x = x / 2)\n",
      "\u001b[90m│  \u001b[39m       (@_3 = Base.iterate(%2, %9))\n",
      "\u001b[90m│  \u001b[39m %12 = (@_3 === nothing)\u001b[36m::Bool\u001b[39m\n",
      "\u001b[90m│  \u001b[39m %13 = Base.not_int(%12)\u001b[36m::Bool\u001b[39m\n",
      "\u001b[90m└──\u001b[39m       goto #4 if not %13\n",
      "\u001b[90m3 ─\u001b[39m       goto #2\n",
      "\u001b[90m4 ┄\u001b[39m       return x\n"
     ]
    }
   ],
   "source": [
    "@code_warntype h()"
   ]
  },
  {
   "cell_type": "markdown",
   "metadata": {},
   "source": [
    "#### 3) The C/Fortran way: specify types (to get errors or to heal the problem by conversion)"
   ]
  },
  {
   "cell_type": "code",
   "execution_count": 27,
   "metadata": {},
   "outputs": [
    {
     "data": {
      "text/plain": [
       "g2 (generic function with 1 method)"
      ]
     },
     "execution_count": 27,
     "metadata": {},
     "output_type": "execute_result"
    }
   ],
   "source": [
    "function g2()\n",
    "  x::Int64 = 1\n",
    "  for i = 1:10\n",
    "    x = x/2\n",
    "  end\n",
    "  return x\n",
    "end"
   ]
  },
  {
   "cell_type": "code",
   "execution_count": 28,
   "metadata": {},
   "outputs": [
    {
     "ename": "InexactError",
     "evalue": "InexactError: Int64(0.5)",
     "output_type": "error",
     "traceback": [
      "InexactError: Int64(0.5)",
      "",
      "Stacktrace:",
      " [1] Int64 at .\\float.jl:709 [inlined]",
      " [2] convert(::Type{Int64}, ::Float64) at .\\number.jl:7",
      " [3] g2() at .\\In[27]:4",
      " [4] top-level scope at In[28]:1"
     ]
    }
   ],
   "source": [
    "g2()"
   ]
  },
  {
   "cell_type": "code",
   "execution_count": 29,
   "metadata": {},
   "outputs": [
    {
     "data": {
      "text/plain": [
       "g3 (generic function with 1 method)"
      ]
     },
     "execution_count": 29,
     "metadata": {},
     "output_type": "execute_result"
    }
   ],
   "source": [
    "function g3()\n",
    "  x::Float64 = 1 # triggers an implicit conversion to Float64\n",
    "  for i = 1:10\n",
    "    x = x/2\n",
    "  end\n",
    "  return x\n",
    "end"
   ]
  },
  {
   "cell_type": "code",
   "execution_count": 30,
   "metadata": {},
   "outputs": [
    {
     "name": "stdout",
     "output_type": "stream",
     "text": [
      "\n",
      "; Function Attrs: uwtable\n",
      "define double @julia_g3_18675() #0 {\n",
      "top:\n",
      "  ret double 0x3F50000000000000\n",
      "}\n"
     ]
    }
   ],
   "source": [
    "@code_llvm debuginfo=:none g3()"
   ]
  },
  {
   "cell_type": "markdown",
   "metadata": {},
   "source": [
    "#### 4) Function barriers"
   ]
  },
  {
   "cell_type": "code",
   "execution_count": 31,
   "metadata": {},
   "outputs": [
    {
     "data": {
      "text/plain": [
       "5-element Array{Union{Float64, Int64, String},1}:\n",
       " 4      \n",
       " 2.0    \n",
       "  \"test\"\n",
       " 3.2    \n",
       " 1      "
      ]
     },
     "execution_count": 31,
     "metadata": {},
     "output_type": "execute_result"
    }
   ],
   "source": [
    "data = Union{Int64,Float64,String}[4, 2.0, \"test\", 3.2, 1]"
   ]
  },
  {
   "cell_type": "code",
   "execution_count": 32,
   "metadata": {},
   "outputs": [
    {
     "data": {
      "text/plain": [
       "calc_square (generic function with 1 method)"
      ]
     },
     "execution_count": 32,
     "metadata": {},
     "output_type": "execute_result"
    }
   ],
   "source": [
    "function calc_square(x)\n",
    "  for i in eachindex(x)\n",
    "    val = x[i]\n",
    "    val^2\n",
    "  end\n",
    "end"
   ]
  },
  {
   "cell_type": "code",
   "execution_count": 33,
   "metadata": {},
   "outputs": [
    {
     "name": "stdout",
     "output_type": "stream",
     "text": [
      "Variables\n",
      "  #self#\u001b[36m::Core.Compiler.Const(calc_square, false)\u001b[39m\n",
      "  x\u001b[36m::Array{Union{Float64, Int64, String},1}\u001b[39m\n",
      "  @_3\u001b[33m\u001b[1m::Union{Nothing, Tuple{Int64,Int64}}\u001b[22m\u001b[39m\n",
      "  i\u001b[36m::Int64\u001b[39m\n",
      "  val\u001b[91m\u001b[1m::Union{Float64, Int64, String}\u001b[22m\u001b[39m\n",
      "\n",
      "Body\u001b[36m::Nothing\u001b[39m\n",
      "\u001b[90m1 ─\u001b[39m %1  = Main.eachindex(x)\u001b[36m::Base.OneTo{Int64}\u001b[39m\n",
      "\u001b[90m│  \u001b[39m       (@_3 = Base.iterate(%1))\n",
      "\u001b[90m│  \u001b[39m %3  = (@_3 === nothing)\u001b[36m::Bool\u001b[39m\n",
      "\u001b[90m│  \u001b[39m %4  = Base.not_int(%3)\u001b[36m::Bool\u001b[39m\n",
      "\u001b[90m└──\u001b[39m       goto #4 if not %4\n",
      "\u001b[90m2 ┄\u001b[39m %6  = @_3::Tuple{Int64,Int64}\u001b[36m::Tuple{Int64,Int64}\u001b[39m\n",
      "\u001b[90m│  \u001b[39m       (i = Core.getfield(%6, 1))\n",
      "\u001b[90m│  \u001b[39m %8  = Core.getfield(%6, 2)\u001b[36m::Int64\u001b[39m\n",
      "\u001b[90m│  \u001b[39m       (val = Base.getindex(x, i))\n",
      "\u001b[90m│  \u001b[39m %10 = val\u001b[91m\u001b[1m::Union{Float64, Int64, String}\u001b[22m\u001b[39m\n",
      "\u001b[90m│  \u001b[39m %11 = Core.apply_type(Base.Val, 2)\u001b[36m::Core.Compiler.Const(Val{2}, false)\u001b[39m\n",
      "\u001b[90m│  \u001b[39m %12 = (%11)()\u001b[36m::Core.Compiler.Const(Val{2}(), false)\u001b[39m\n",
      "\u001b[90m│  \u001b[39m       Base.literal_pow(Main.:^, %10, %12)\n",
      "\u001b[90m│  \u001b[39m       (@_3 = Base.iterate(%1, %8))\n",
      "\u001b[90m│  \u001b[39m %15 = (@_3 === nothing)\u001b[36m::Bool\u001b[39m\n",
      "\u001b[90m│  \u001b[39m %16 = Base.not_int(%15)\u001b[36m::Bool\u001b[39m\n",
      "\u001b[90m└──\u001b[39m       goto #4 if not %16\n",
      "\u001b[90m3 ─\u001b[39m       goto #2\n",
      "\u001b[90m4 ┄\u001b[39m       return\n"
     ]
    }
   ],
   "source": [
    "@code_warntype calc_square(data)"
   ]
  },
  {
   "cell_type": "code",
   "execution_count": 34,
   "metadata": {},
   "outputs": [
    {
     "data": {
      "text/plain": [
       "calc_square_inner (generic function with 1 method)"
      ]
     },
     "execution_count": 34,
     "metadata": {},
     "output_type": "execute_result"
    }
   ],
   "source": [
    "function calc_square_outer(x)\n",
    "  for i in eachindex(x)\n",
    "    calc_square_inner(x[i])\n",
    "  end\n",
    "end\n",
    "\n",
    "calc_square_inner(x) = x^2"
   ]
  },
  {
   "cell_type": "code",
   "execution_count": 37,
   "metadata": {},
   "outputs": [
    {
     "name": "stdout",
     "output_type": "stream",
     "text": [
      "Variables\n",
      "  #self#\u001b[36m::Core.Compiler.Const(calc_square_inner, false)\u001b[39m\n",
      "  x\u001b[36m::String\u001b[39m\n",
      "\n",
      "Body\u001b[36m::String\u001b[39m\n",
      "\u001b[90m1 ─\u001b[39m %1 = Core.apply_type(Base.Val, 2)\u001b[36m::Core.Compiler.Const(Val{2}, false)\u001b[39m\n",
      "\u001b[90m│  \u001b[39m %2 = (%1)()\u001b[36m::Core.Compiler.Const(Val{2}(), false)\u001b[39m\n",
      "\u001b[90m│  \u001b[39m %3 = Base.literal_pow(Main.:^, x, %2)\u001b[36m::String\u001b[39m\n",
      "\u001b[90m└──\u001b[39m      return %3\n"
     ]
    }
   ],
   "source": [
    "@code_warntype calc_square_inner(data[3])"
   ]
  },
  {
   "cell_type": "markdown",
   "metadata": {},
   "source": [
    "#### Comments:"
   ]
  },
  {
   "cell_type": "markdown",
   "metadata": {},
   "source": [
    "Why allow type-instabilities in the first place? Convenience vs performance tradeoff."
   ]
  },
  {
   "cell_type": "markdown",
   "metadata": {},
   "source": [
    "Note that type instabilities can naturally occur (reading files, user input etc.) so not any red marker is bad/avoidable."
   ]
  },
  {
   "cell_type": "markdown",
   "metadata": {},
   "source": [
    "Note that Julia is smart and a changing type isn't *per se* an issue:"
   ]
  },
  {
   "cell_type": "code",
   "execution_count": 38,
   "metadata": {},
   "outputs": [
    {
     "data": {
      "text/plain": [
       "g4 (generic function with 1 method)"
      ]
     },
     "execution_count": 38,
     "metadata": {},
     "output_type": "execute_result"
    }
   ],
   "source": [
    "function g4()\n",
    "  x=1\n",
    "  x=1.0\n",
    "  for i = 1:10\n",
    "    x = x/2\n",
    "  end\n",
    "  return x\n",
    "end"
   ]
  },
  {
   "cell_type": "code",
   "execution_count": 39,
   "metadata": {},
   "outputs": [
    {
     "name": "stdout",
     "output_type": "stream",
     "text": [
      "\n",
      "; Function Attrs: uwtable\n",
      "define double @julia_g4_18769() #0 {\n",
      "top:\n",
      "  ret double 0x3F50000000000000\n",
      "}\n"
     ]
    }
   ],
   "source": [
    "@code_llvm debuginfo=:none g4()"
   ]
  },
  {
   "cell_type": "markdown",
   "metadata": {},
   "source": [
    "#### Take home message: watch out for type-instabilities in performance critical parts of your code."
   ]
  },
  {
   "cell_type": "markdown",
   "metadata": {},
   "source": [
    "# Gotcha 3: Views and copies"
   ]
  },
  {
   "cell_type": "markdown",
   "metadata": {},
   "source": [
    "Say we were facing the following task: Given a 3x3 matrix M and a vector v calculate the dot product between the first column of M and v."
   ]
  },
  {
   "cell_type": "code",
   "execution_count": 41,
   "metadata": {},
   "outputs": [],
   "source": [
    "using BenchmarkTools, LinearAlgebra\n",
    "\n",
    "M = rand(3,3);\n",
    "x = rand(3);"
   ]
  },
  {
   "cell_type": "code",
   "execution_count": 42,
   "metadata": {},
   "outputs": [
    {
     "name": "stdout",
     "output_type": "stream",
     "text": [
      "  43.692 ns (1 allocation: 112 bytes)\n"
     ]
    }
   ],
   "source": [
    "f(x,M) = dot(M[1:3,1], x)\n",
    "@btime f($x,$M);"
   ]
  },
  {
   "cell_type": "code",
   "execution_count": 43,
   "metadata": {},
   "outputs": [
    {
     "name": "stdout",
     "output_type": "stream",
     "text": [
      "  19.759 ns (1 allocation: 64 bytes)\n"
     ]
    }
   ],
   "source": [
    "g(x,M) = dot(view(M, 1:3,1), x)\n",
    "@btime g($x, $M);"
   ]
  },
  {
   "cell_type": "code",
   "execution_count": 44,
   "metadata": {},
   "outputs": [
    {
     "name": "stdout",
     "output_type": "stream",
     "text": [
      "  19.559 ns (1 allocation: 64 bytes)\n"
     ]
    }
   ],
   "source": [
    "g(x,M) = @views dot(M[1:3,1], x)\n",
    "@btime g($x, $M);"
   ]
  },
  {
   "cell_type": "markdown",
   "metadata": {},
   "source": [
    "# Gotcha 4: Temporary allocations and vectorized code"
   ]
  },
  {
   "cell_type": "code",
   "execution_count": 45,
   "metadata": {},
   "outputs": [],
   "source": [
    "using BenchmarkTools"
   ]
  },
  {
   "cell_type": "code",
   "execution_count": 46,
   "metadata": {},
   "outputs": [
    {
     "data": {
      "text/plain": [
       "f (generic function with 2 methods)"
      ]
     },
     "execution_count": 46,
     "metadata": {},
     "output_type": "execute_result"
    }
   ],
   "source": [
    "function f()\n",
    "  x = [1;5;6]\n",
    "  for i in 1:100_000\n",
    "    x = x + 2*x\n",
    "  end\n",
    "  return x\n",
    "end"
   ]
  },
  {
   "cell_type": "code",
   "execution_count": 47,
   "metadata": {},
   "outputs": [
    {
     "name": "stdout",
     "output_type": "stream",
     "text": [
      "  6.277 ms (200001 allocations: 21.36 MiB)\n"
     ]
    }
   ],
   "source": [
    "@btime f();"
   ]
  },
  {
   "cell_type": "markdown",
   "metadata": {},
   "source": [
    "### How to handle it? -> More dots or more explicity"
   ]
  },
  {
   "cell_type": "markdown",
   "metadata": {},
   "source": [
    "Great blog post by Steven G. Johnson: https://julialang.org/blog/2017/01/moredots ([related notebook](https://github.com/JuliaLang/www.julialang.org/blob/master/blog/_posts/moredots/More-Dots.ipynb))"
   ]
  },
  {
   "cell_type": "code",
   "execution_count": 48,
   "metadata": {},
   "outputs": [
    {
     "name": "stdout",
     "output_type": "stream",
     "text": [
      "  154.199 μs (1 allocation: 112 bytes)\n"
     ]
    }
   ],
   "source": [
    "function f()\n",
    "    x = [1;5;6]\n",
    "    for i in 1:100_000    \n",
    "        for k in 1:3\n",
    "            x[k] = x[k] + 2 * x[k]\n",
    "        end\n",
    "    end\n",
    "    return x\n",
    "end\n",
    "@btime f();"
   ]
  },
  {
   "cell_type": "code",
   "execution_count": 49,
   "metadata": {},
   "outputs": [
    {
     "data": {
      "text/plain": [
       "2×2 Array{Float64,2}:\n",
       " 0.503957  0.138657 \n",
       " 0.314602  0.0567941"
      ]
     },
     "execution_count": 49,
     "metadata": {},
     "output_type": "execute_result"
    }
   ],
   "source": [
    "M = rand(2,2)"
   ]
  },
  {
   "cell_type": "code",
   "execution_count": 50,
   "metadata": {},
   "outputs": [
    {
     "data": {
      "text/plain": [
       "2×2 Array{Float64,2}:\n",
       " 1.68664   0.186407\n",
       " 0.422943  1.08549 "
      ]
     },
     "execution_count": 50,
     "metadata": {},
     "output_type": "execute_result"
    }
   ],
   "source": [
    "exp(M)"
   ]
  },
  {
   "cell_type": "code",
   "execution_count": 51,
   "metadata": {},
   "outputs": [
    {
     "data": {
      "text/plain": [
       "2×2 Array{Float64,2}:\n",
       " 1.65526  1.14873\n",
       " 1.36971  1.05844"
      ]
     },
     "execution_count": 51,
     "metadata": {},
     "output_type": "execute_result"
    }
   ],
   "source": [
    "exp.(M)"
   ]
  },
  {
   "cell_type": "code",
   "execution_count": 52,
   "metadata": {},
   "outputs": [
    {
     "data": {
      "text/html": [
       "exp(A::<b>Union{DenseArray{#s627,2}, Base.ReinterpretArray{#s627,2,S,A} where S where A<:Union{SubArray{T,N,A,I,true} where I<:Union{Tuple{Vararg{Real,N} where N}, Tuple{AbstractUnitRange,Vararg{Any,N} where N}} where A<:DenseArray where N where T, DenseArray}, Base.ReshapedArray{#s627,2,A,MI} where MI<:Tuple{Vararg{Base.MultiplicativeInverses.SignedMultiplicativeInverse{Int64},N} where N} where A<:Union{Base.ReinterpretArray{T,N,S,A} where S where A<:Union{SubArray{T,N,A,I,true} where I<:Union{Tuple{Vararg{Real,N} where N}, Tuple{AbstractUnitRange,Vararg{Any,N} where N}} where A<:DenseArray where N where T, DenseArray} where N where T, SubArray{T,N,A,I,true} where I<:Union{Tuple{Vararg{Real,N} where N}, Tuple{AbstractUnitRange,Vararg{Any,N} where N}} where A<:DenseArray where N where T, DenseArray}, SubArray{#s627,2,A,I,L} where L where I<:Tuple{Vararg{Union{Int64, AbstractRange{Int64}, Base.AbstractCartesianIndex},N} where N} where A<:Union{Base.ReinterpretArray{T,N,S,A} where S where A<:Union{SubArray{T,N,A,I,true} where I<:Union{Tuple{Vararg{Real,N} where N}, Tuple{AbstractUnitRange,Vararg{Any,N} where N}} where A<:DenseArray where N where T, DenseArray} where N where T, Base.ReshapedArray{T,N,A,MI} where MI<:Tuple{Vararg{Base.MultiplicativeInverses.SignedMultiplicativeInverse{Int64},N} where N} where A<:Union{Base.ReinterpretArray{T,N,S,A} where S where A<:Union{SubArray{T,N,A,I,true} where I<:Union{Tuple{Vararg{Real,N} where N}, Tuple{AbstractUnitRange,Vararg{Any,N} where N}} where A<:DenseArray where N where T, DenseArray} where N where T, SubArray{T,N,A,I,true} where I<:Union{Tuple{Vararg{Real,N} where N}, Tuple{AbstractUnitRange,Vararg{Any,N} where N}} where A<:DenseArray where N where T, DenseArray} where N where T, DenseArray}} where #s627<:Union{Complex{Float32}, Complex{Float64}, Float32, Float64}</b>) in LinearAlgebra at <a href=\"file://D:/buildbot/worker/package_win64/build/usr/share/julia/stdlib/v1.3/LinearAlgebra/src/dense.jl\" target=\"_blank\">D:\\buildbot\\worker\\package_win64\\build\\usr\\share\\julia\\stdlib\\v1.3\\LinearAlgebra\\src\\dense.jl:519</a>"
      ],
      "text/plain": [
       "exp(A::Union{DenseArray{#s627,2}, Base.ReinterpretArray{#s627,2,S,A} where S where A<:Union{SubArray{T,N,A,I,true} where I<:Union{Tuple{Vararg{Real,N} where N}, Tuple{AbstractUnitRange,Vararg{Any,N} where N}} where A<:DenseArray where N where T, DenseArray}, Base.ReshapedArray{#s627,2,A,MI} where MI<:Tuple{Vararg{Base.MultiplicativeInverses.SignedMultiplicativeInverse{Int64},N} where N} where A<:Union{Base.ReinterpretArray{T,N,S,A} where S where A<:Union{SubArray{T,N,A,I,true} where I<:Union{Tuple{Vararg{Real,N} where N}, Tuple{AbstractUnitRange,Vararg{Any,N} where N}} where A<:DenseArray where N where T, DenseArray} where N where T, SubArray{T,N,A,I,true} where I<:Union{Tuple{Vararg{Real,N} where N}, Tuple{AbstractUnitRange,Vararg{Any,N} where N}} where A<:DenseArray where N where T, DenseArray}, SubArray{#s627,2,A,I,L} where L where I<:Tuple{Vararg{Union{Int64, AbstractRange{Int64}, Base.AbstractCartesianIndex},N} where N} where A<:Union{Base.ReinterpretArray{T,N,S,A} where S where A<:Union{SubArray{T,N,A,I,true} where I<:Union{Tuple{Vararg{Real,N} where N}, Tuple{AbstractUnitRange,Vararg{Any,N} where N}} where A<:DenseArray where N where T, DenseArray} where N where T, Base.ReshapedArray{T,N,A,MI} where MI<:Tuple{Vararg{Base.MultiplicativeInverses.SignedMultiplicativeInverse{Int64},N} where N} where A<:Union{Base.ReinterpretArray{T,N,S,A} where S where A<:Union{SubArray{T,N,A,I,true} where I<:Union{Tuple{Vararg{Real,N} where N}, Tuple{AbstractUnitRange,Vararg{Any,N} where N}} where A<:DenseArray where N where T, DenseArray} where N where T, SubArray{T,N,A,I,true} where I<:Union{Tuple{Vararg{Real,N} where N}, Tuple{AbstractUnitRange,Vararg{Any,N} where N}} where A<:DenseArray where N where T, DenseArray} where N where T, DenseArray}} where #s627<:Union{Complex{Float32}, Complex{Float64}, Float32, Float64}) in LinearAlgebra at D:\\buildbot\\worker\\package_win64\\build\\usr\\share\\julia\\stdlib\\v1.3\\LinearAlgebra\\src\\dense.jl:519"
      ]
     },
     "execution_count": 52,
     "metadata": {},
     "output_type": "execute_result"
    }
   ],
   "source": [
    "@which exp(M)"
   ]
  },
  {
   "cell_type": "code",
   "execution_count": 53,
   "metadata": {},
   "outputs": [
    {
     "name": "stdout",
     "output_type": "stream",
     "text": [
      "  2.606 ms (100001 allocations: 10.68 MiB)\n"
     ]
    }
   ],
   "source": [
    "function f()\n",
    "    x = [1;5;6]\n",
    "    for i in 1:100_000\n",
    "        x = x .+ 2 .* x\n",
    "    end\n",
    "    return x\n",
    "end\n",
    "@btime f();"
   ]
  },
  {
   "cell_type": "code",
   "execution_count": 54,
   "metadata": {},
   "outputs": [
    {
     "name": "stdout",
     "output_type": "stream",
     "text": [
      "  290.599 μs (1 allocation: 112 bytes)\n"
     ]
    }
   ],
   "source": [
    "function f()\n",
    "    x = [1;5;6]\n",
    "    for i in 1:100_000\n",
    "        x .= x .+ 2 .* x\n",
    "    end\n",
    "    return x\n",
    "end\n",
    "@btime f();"
   ]
  },
  {
   "cell_type": "code",
   "execution_count": 55,
   "metadata": {},
   "outputs": [
    {
     "name": "stdout",
     "output_type": "stream",
     "text": [
      "  282.699 μs (1 allocation: 112 bytes)\n"
     ]
    }
   ],
   "source": [
    "function f()\n",
    "    x = [1;5;6]\n",
    "    for i in 1:100_000\n",
    "        @. x = x + 2*x\n",
    "    end\n",
    "    return x\n",
    "end\n",
    "@btime f();"
   ]
  },
  {
   "cell_type": "markdown",
   "metadata": {},
   "source": [
    "### Extra performance: `@inbounds`"
   ]
  },
  {
   "cell_type": "code",
   "execution_count": 57,
   "metadata": {},
   "outputs": [
    {
     "ename": "BoundsError",
     "evalue": "BoundsError: attempt to access 2×2 Array{Float64,2} at index [10, 5]",
     "output_type": "error",
     "traceback": [
      "BoundsError: attempt to access 2×2 Array{Float64,2} at index [10, 5]",
      "",
      "Stacktrace:",
      " [1] getindex(::Array{Float64,2}, ::Int64, ::Int64) at .\\array.jl:745",
      " [2] top-level scope at In[57]:1"
     ]
    }
   ],
   "source": [
    "M[10,5]"
   ]
  },
  {
   "cell_type": "code",
   "execution_count": 58,
   "metadata": {},
   "outputs": [
    {
     "name": "stdout",
     "output_type": "stream",
     "text": [
      "  79.199 μs (1 allocation: 112 bytes)\n"
     ]
    }
   ],
   "source": [
    "function f()\n",
    "    x = [1;5;6]\n",
    "    @inbounds for i in 1:100_000    \n",
    "        for k in 1:3\n",
    "            x[k] = x[k] + 2*x[k]\n",
    "        end\n",
    "    end\n",
    "    return x\n",
    "end\n",
    "@btime f();"
   ]
  },
  {
   "cell_type": "markdown",
   "metadata": {},
   "source": [
    "# Gotcha 5: Abstract fields"
   ]
  },
  {
   "cell_type": "code",
   "execution_count": 59,
   "metadata": {},
   "outputs": [],
   "source": [
    "using BenchmarkTools"
   ]
  },
  {
   "cell_type": "code",
   "execution_count": 60,
   "metadata": {},
   "outputs": [
    {
     "data": {
      "text/plain": [
       "f (generic function with 3 methods)"
      ]
     },
     "execution_count": 60,
     "metadata": {},
     "output_type": "execute_result"
    }
   ],
   "source": [
    "struct MyType\n",
    "    x::AbstractFloat\n",
    "    y::AbstractString\n",
    "end\n",
    "\n",
    "f(a::MyType) = a.x^2 + sqrt(a.x)"
   ]
  },
  {
   "cell_type": "code",
   "execution_count": 61,
   "metadata": {},
   "outputs": [
    {
     "name": "stdout",
     "output_type": "stream",
     "text": [
      "  49.293 ns (3 allocations: 48 bytes)\n"
     ]
    }
   ],
   "source": [
    "a = MyType(3.0, \"test\")\n",
    "\n",
    "@btime f($a);"
   ]
  },
  {
   "cell_type": "code",
   "execution_count": 62,
   "metadata": {},
   "outputs": [
    {
     "data": {
      "text/plain": [
       "f (generic function with 4 methods)"
      ]
     },
     "execution_count": 62,
     "metadata": {},
     "output_type": "execute_result"
    }
   ],
   "source": [
    "struct MyTypeConcrete\n",
    "    x::Float64\n",
    "    y::String\n",
    "end\n",
    "\n",
    "f(b::MyTypeConcrete) = b.x^2 + sqrt(b.x)"
   ]
  },
  {
   "cell_type": "code",
   "execution_count": 63,
   "metadata": {},
   "outputs": [
    {
     "name": "stdout",
     "output_type": "stream",
     "text": [
      "  1.599 ns (0 allocations: 0 bytes)\n"
     ]
    }
   ],
   "source": [
    "b = MyTypeConcrete(3.0, \"test\")\n",
    "\n",
    "@btime f($b);"
   ]
  },
  {
   "cell_type": "markdown",
   "metadata": {},
   "source": [
    "Note that the latter implementation is **more than 30x faster**!"
   ]
  },
  {
   "cell_type": "markdown",
   "metadata": {},
   "source": [
    "### How to handle it?"
   ]
  },
  {
   "cell_type": "markdown",
   "metadata": {},
   "source": [
    "But what if I want to accept any kind of `AbstractFloat` and `AbstractString` in my type?\n",
    "\n",
    "Use type parameters!"
   ]
  },
  {
   "cell_type": "code",
   "execution_count": 64,
   "metadata": {},
   "outputs": [
    {
     "data": {
      "text/plain": [
       "f (generic function with 5 methods)"
      ]
     },
     "execution_count": 64,
     "metadata": {},
     "output_type": "execute_result"
    }
   ],
   "source": [
    "struct MyTypeParametric{A<:AbstractFloat, B<:AbstractString}\n",
    "    x::A\n",
    "    y::B\n",
    "end\n",
    "\n",
    "f(c::MyTypeParametric) = c.x^2 + sqrt(c.x)"
   ]
  },
  {
   "cell_type": "code",
   "execution_count": 65,
   "metadata": {},
   "outputs": [
    {
     "data": {
      "text/plain": [
       "MyTypeParametric{Float64,String}(3.0, \"test\")"
      ]
     },
     "execution_count": 65,
     "metadata": {},
     "output_type": "execute_result"
    }
   ],
   "source": [
    "c = MyTypeParametric(3.0, \"test\")"
   ]
  },
  {
   "cell_type": "markdown",
   "metadata": {},
   "source": [
    "From the type alone the compiler knows what the structure contains and can produce optimal code:"
   ]
  },
  {
   "cell_type": "code",
   "execution_count": 67,
   "metadata": {},
   "outputs": [
    {
     "data": {
      "text/plain": [
       "MyTypeParametric{Float64,String}"
      ]
     },
     "execution_count": 67,
     "metadata": {},
     "output_type": "execute_result"
    }
   ],
   "source": [
    "typeof(c)"
   ]
  },
  {
   "cell_type": "code",
   "execution_count": 66,
   "metadata": {},
   "outputs": [
    {
     "name": "stdout",
     "output_type": "stream",
     "text": [
      "  1.599 ns (0 allocations: 0 bytes)\n"
     ]
    }
   ],
   "source": [
    "@btime f($c);"
   ]
  },
  {
   "cell_type": "code",
   "execution_count": 68,
   "metadata": {},
   "outputs": [
    {
     "data": {
      "text/plain": [
       "MyTypeParametric{Float32,SubString{String}}(3.0f0, \"test\")"
      ]
     },
     "execution_count": 68,
     "metadata": {},
     "output_type": "execute_result"
    }
   ],
   "source": [
    "c = MyTypeParametric(Float32(3.0), SubString(\"test\"))"
   ]
  },
  {
   "cell_type": "code",
   "execution_count": 69,
   "metadata": {},
   "outputs": [
    {
     "data": {
      "text/plain": [
       "MyTypeParametric{Float32,SubString{String}}"
      ]
     },
     "execution_count": 69,
     "metadata": {},
     "output_type": "execute_result"
    }
   ],
   "source": [
    "typeof(c)"
   ]
  },
  {
   "cell_type": "code",
   "execution_count": 70,
   "metadata": {},
   "outputs": [
    {
     "name": "stdout",
     "output_type": "stream",
     "text": [
      "  1.299 ns (0 allocations: 0 bytes)\n"
     ]
    }
   ],
   "source": [
    "@btime f($c);"
   ]
  },
  {
   "cell_type": "code",
   "execution_count": 72,
   "metadata": {},
   "outputs": [
    {
     "data": {
      "text/plain": [
       "MyStruct"
      ]
     },
     "execution_count": 72,
     "metadata": {},
     "output_type": "execute_result"
    }
   ],
   "source": [
    "Base.@kwdef struct MyStruct\n",
    "    x\n",
    "    y\n",
    "end"
   ]
  },
  {
   "cell_type": "code",
   "execution_count": 73,
   "metadata": {},
   "outputs": [
    {
     "data": {
      "text/plain": [
       "MyStruct(2, 1)"
      ]
     },
     "execution_count": 73,
     "metadata": {},
     "output_type": "execute_result"
    }
   ],
   "source": [
    "MyStruct(y=1, x=2)"
   ]
  },
  {
   "cell_type": "markdown",
   "metadata": {},
   "source": [
    "# Gotcha 6: Writing to global scope"
   ]
  },
  {
   "cell_type": "code",
   "execution_count": 74,
   "metadata": {},
   "outputs": [],
   "source": [
    "# Try this in the Julia REPL\n",
    "a = 0\n",
    "for i in 1:10\n",
    "    a += i\n",
    "end"
   ]
  },
  {
   "cell_type": "code",
   "execution_count": 75,
   "metadata": {},
   "outputs": [
    {
     "data": {
      "text/plain": [
       "55"
      ]
     },
     "execution_count": 75,
     "metadata": {},
     "output_type": "execute_result"
    }
   ],
   "source": [
    "a"
   ]
  },
  {
   "cell_type": "markdown",
   "metadata": {},
   "source": [
    "(For more information, see the \"official\" discussion here: https://github.com/JuliaLang/julia/issues/28789)"
   ]
  },
  {
   "cell_type": "markdown",
   "metadata": {},
   "source": [
    "#### Take home message: again, just wrap things into functions."
   ]
  },
  {
   "cell_type": "markdown",
   "metadata": {},
   "source": [
    "# Gotcha 7: Column major order"
   ]
  },
  {
   "cell_type": "code",
   "execution_count": 76,
   "metadata": {},
   "outputs": [
    {
     "data": {
      "text/plain": [
       "frow (generic function with 1 method)"
      ]
     },
     "execution_count": 76,
     "metadata": {},
     "output_type": "execute_result"
    }
   ],
   "source": [
    "M = rand(1000,1000);\n",
    "\n",
    "function fcol(M)\n",
    "    for col in 1:size(M, 2)\n",
    "        for row in 1:size(M, 1)\n",
    "            M[row, col] = 42\n",
    "        end\n",
    "    end\n",
    "    nothing\n",
    "end\n",
    "\n",
    "function frow(M)\n",
    "    for row in 1:size(M, 1)\n",
    "        for col in 1:size(M, 2)\n",
    "            M[row, col] = 42\n",
    "        end\n",
    "    end\n",
    "    nothing\n",
    "end"
   ]
  },
  {
   "cell_type": "code",
   "execution_count": 77,
   "metadata": {},
   "outputs": [
    {
     "name": "stdout",
     "output_type": "stream",
     "text": [
      "  523.700 μs (0 allocations: 0 bytes)\n"
     ]
    }
   ],
   "source": [
    "@btime fcol($M)"
   ]
  },
  {
   "cell_type": "code",
   "execution_count": 78,
   "metadata": {},
   "outputs": [
    {
     "name": "stdout",
     "output_type": "stream",
     "text": [
      "  1.536 ms (0 allocations: 0 bytes)\n"
     ]
    }
   ],
   "source": [
    "@btime frow($M)"
   ]
  },
  {
   "cell_type": "markdown",
   "metadata": {},
   "source": [
    "#### Take home message: fastest varying index goes first!"
   ]
  },
  {
   "cell_type": "markdown",
   "metadata": {},
   "source": [
    "# Gotcha 8: Lazy operations"
   ]
  },
  {
   "cell_type": "markdown",
   "metadata": {},
   "source": [
    "Let's say we want to calculate `X = M + (M' + 2*I)`."
   ]
  },
  {
   "cell_type": "code",
   "execution_count": 79,
   "metadata": {},
   "outputs": [],
   "source": [
    "using LinearAlgebra"
   ]
  },
  {
   "cell_type": "code",
   "execution_count": 81,
   "metadata": {},
   "outputs": [
    {
     "data": {
      "text/plain": [
       "2×2 Array{Int64,2}:\n",
       " 4   5\n",
       " 5  10"
      ]
     },
     "execution_count": 81,
     "metadata": {},
     "output_type": "execute_result"
    }
   ],
   "source": [
    "M = [1 2; 3 4]\n",
    "M + (M' + 2*I)"
   ]
  },
  {
   "cell_type": "markdown",
   "metadata": {},
   "source": [
    "Now let's assume that, for some reason, we want to implement it more explicitly. Something along the lines of"
   ]
  },
  {
   "cell_type": "code",
   "execution_count": 85,
   "metadata": {},
   "outputs": [
    {
     "data": {
      "text/plain": [
       "2×2 Adjoint{Int64,Array{Int64,2}}:\n",
       " 1  3\n",
       " 2  4"
      ]
     },
     "execution_count": 85,
     "metadata": {},
     "output_type": "execute_result"
    }
   ],
   "source": [
    "M'"
   ]
  },
  {
   "cell_type": "code",
   "execution_count": 87,
   "metadata": {},
   "outputs": [
    {
     "data": {
      "text/plain": [
       "2×2 Array{Int64,2}:\n",
       " 1  3\n",
       " 2  4"
      ]
     },
     "execution_count": 87,
     "metadata": {},
     "output_type": "execute_result"
    }
   ],
   "source": [
    "copy(M')"
   ]
  },
  {
   "cell_type": "code",
   "execution_count": 88,
   "metadata": {},
   "outputs": [
    {
     "data": {
      "text/plain": [
       "2×2 Array{Int64,2}:\n",
       " 1  3\n",
       " 2  4"
      ]
     },
     "execution_count": 88,
     "metadata": {},
     "output_type": "execute_result"
    }
   ],
   "source": [
    "collect(M')"
   ]
  },
  {
   "cell_type": "code",
   "execution_count": 91,
   "metadata": {},
   "outputs": [
    {
     "data": {
      "text/plain": [
       "10-element Array{Int64,1}:\n",
       "  1\n",
       "  2\n",
       "  3\n",
       "  4\n",
       "  5\n",
       "  6\n",
       "  7\n",
       "  8\n",
       "  9\n",
       " 10"
      ]
     },
     "execution_count": 91,
     "metadata": {},
     "output_type": "execute_result"
    }
   ],
   "source": [
    "collect(1:10)"
   ]
  },
  {
   "cell_type": "code",
   "execution_count": 82,
   "metadata": {},
   "outputs": [
    {
     "data": {
      "text/plain": [
       "calc (generic function with 1 method)"
      ]
     },
     "execution_count": 82,
     "metadata": {},
     "output_type": "execute_result"
    }
   ],
   "source": [
    "function calc(M)\n",
    "    X = M'\n",
    "    X[1,1] += 2\n",
    "    X[2,2] += 2\n",
    "    M + X\n",
    "end"
   ]
  },
  {
   "cell_type": "markdown",
   "metadata": {},
   "source": [
    "Let's check for correctness."
   ]
  },
  {
   "cell_type": "code",
   "execution_count": 86,
   "metadata": {},
   "outputs": [
    {
     "data": {
      "text/plain": [
       "false"
      ]
     },
     "execution_count": 86,
     "metadata": {},
     "output_type": "execute_result"
    }
   ],
   "source": [
    "calc([1 2; 3 4]) == M + (M' + 2*I)"
   ]
  },
  {
   "cell_type": "markdown",
   "metadata": {},
   "source": [
    "Somehow it's not correct!"
   ]
  },
  {
   "cell_type": "markdown",
   "metadata": {},
   "source": [
    "### How to solve this?"
   ]
  },
  {
   "cell_type": "markdown",
   "metadata": {},
   "source": [
    "The \"issue\" is that `M'` makes a lazy adjoint of `M`. It is just another way of looking at the same piece of memory. Hence, when we do `X[1,1] += 1` we are actually changing `M`, leading to a wrong result. We can heal this by enforcing a `copy`:"
   ]
  },
  {
   "cell_type": "code",
   "execution_count": 92,
   "metadata": {},
   "outputs": [
    {
     "data": {
      "text/plain": [
       "calc_corrected (generic function with 1 method)"
      ]
     },
     "execution_count": 92,
     "metadata": {},
     "output_type": "execute_result"
    }
   ],
   "source": [
    "function calc_corrected(M)\n",
    "    X = copy(M')\n",
    "    X[diagind(X)] .+= 2\n",
    "    M + X\n",
    "end"
   ]
  },
  {
   "cell_type": "code",
   "execution_count": 93,
   "metadata": {},
   "outputs": [
    {
     "data": {
      "text/plain": [
       "true"
      ]
     },
     "execution_count": 93,
     "metadata": {},
     "output_type": "execute_result"
    }
   ],
   "source": [
    "calc_corrected([1 2; 3 4]) == M + (M' + 2*I)"
   ]
  },
  {
   "cell_type": "markdown",
   "metadata": {},
   "source": [
    "This isn't really an issue. In fact, this lazyness (+ allocation free identity matrix) is precisley the reason why the straightforward solution is fast!"
   ]
  },
  {
   "cell_type": "code",
   "execution_count": 94,
   "metadata": {},
   "outputs": [
    {
     "name": "stdout",
     "output_type": "stream",
     "text": [
      "  49.240 ns (2 allocations: 128 bytes)\n",
      "  167.854 ns (5 allocations: 400 bytes)\n",
      "  89.665 ns (3 allocations: 240 bytes)\n"
     ]
    }
   ],
   "source": [
    "function calc_straightforward(A)\n",
    "    A + (A' + 2*I)\n",
    "end\n",
    "\n",
    "@btime calc($[1 2; 3 4]);\n",
    "@btime calc_corrected($[1 2; 3 4]);\n",
    "@btime calc_straightforward($[1 2; 3 4]);"
   ]
  },
  {
   "cell_type": "markdown",
   "metadata": {},
   "source": [
    "### Extra tip: Comprehensions and generators"
   ]
  },
  {
   "cell_type": "code",
   "execution_count": 95,
   "metadata": {},
   "outputs": [
    {
     "data": {
      "text/plain": [
       "3-element Array{Int64,1}:\n",
       " 1\n",
       " 2\n",
       " 3"
      ]
     },
     "execution_count": 95,
     "metadata": {},
     "output_type": "execute_result"
    }
   ],
   "source": [
    "[1,2,3]"
   ]
  },
  {
   "cell_type": "code",
   "execution_count": 96,
   "metadata": {},
   "outputs": [
    {
     "data": {
      "text/plain": [
       "10-element Array{Int64,1}:\n",
       "  1\n",
       "  2\n",
       "  3\n",
       "  4\n",
       "  5\n",
       "  6\n",
       "  7\n",
       "  8\n",
       "  9\n",
       " 10"
      ]
     },
     "execution_count": 96,
     "metadata": {},
     "output_type": "execute_result"
    }
   ],
   "source": [
    "[k for k in 1:10]"
   ]
  },
  {
   "cell_type": "code",
   "execution_count": 97,
   "metadata": {},
   "outputs": [
    {
     "data": {
      "text/plain": [
       "10-element Array{Int64,1}:\n",
       "  1\n",
       "  2\n",
       "  3\n",
       "  4\n",
       "  5\n",
       "  6\n",
       "  7\n",
       "  8\n",
       "  9\n",
       " 10"
      ]
     },
     "execution_count": 97,
     "metadata": {},
     "output_type": "execute_result"
    }
   ],
   "source": [
    "collect(k for k in 1:10)"
   ]
  },
  {
   "cell_type": "markdown",
   "metadata": {},
   "source": [
    "The construct is known as a [comprehension](https://docs.julialang.org/en/v1/manual/arrays/#Comprehensions-1)."
   ]
  },
  {
   "cell_type": "code",
   "execution_count": 98,
   "metadata": {},
   "outputs": [
    {
     "data": {
      "text/plain": [
       "55"
      ]
     },
     "execution_count": 98,
     "metadata": {},
     "output_type": "execute_result"
    }
   ],
   "source": [
    "sum([k for k in 1:10])"
   ]
  },
  {
   "cell_type": "markdown",
   "metadata": {},
   "source": [
    "To avoid the temporary array that the comprehension creates, we can also write the comprehension withouth square brackets. This creates a so-called [generator expression](https://docs.julialang.org/en/v1/manual/arrays/#Generator-Expressions-1)."
   ]
  },
  {
   "cell_type": "code",
   "execution_count": 99,
   "metadata": {},
   "outputs": [
    {
     "data": {
      "text/plain": [
       "55"
      ]
     },
     "execution_count": 99,
     "metadata": {},
     "output_type": "execute_result"
    }
   ],
   "source": [
    "sum(k for k in 1:10)"
   ]
  },
  {
   "cell_type": "code",
   "execution_count": 100,
   "metadata": {},
   "outputs": [
    {
     "data": {
      "text/plain": [
       "Base.Generator{UnitRange{Int64},var\"#35#36\"}(var\"#35#36\"(), 1:10)"
      ]
     },
     "execution_count": 100,
     "metadata": {},
     "output_type": "execute_result"
    }
   ],
   "source": [
    "gen = (k for k in 1:10)"
   ]
  },
  {
   "cell_type": "code",
   "execution_count": 101,
   "metadata": {},
   "outputs": [
    {
     "data": {
      "text/plain": [
       "10-element Array{Int64,1}:\n",
       "  1\n",
       "  2\n",
       "  3\n",
       "  4\n",
       "  5\n",
       "  6\n",
       "  7\n",
       "  8\n",
       "  9\n",
       " 10"
      ]
     },
     "execution_count": 101,
     "metadata": {},
     "output_type": "execute_result"
    }
   ],
   "source": [
    "collect(gen)"
   ]
  },
  {
   "cell_type": "code",
   "execution_count": 102,
   "metadata": {},
   "outputs": [
    {
     "name": "stdout",
     "output_type": "stream",
     "text": [
      "  39.276 ns (1 allocation: 160 bytes)\n",
      "  1.299 ns (0 allocations: 0 bytes)\n"
     ]
    }
   ],
   "source": [
    "using BenchmarkTools\n",
    "\n",
    "@btime sum([k for k in 1:10]);\n",
    "@btime sum(k for k in 1:10);"
   ]
  },
  {
   "cell_type": "markdown",
   "metadata": {},
   "source": [
    "# Core messages of this Notebook\n",
    "\n",
    "* Gotcha 1: **Wrap code in self-contained functions** in performance critical applications, i.e. avoid global scope.\n",
    "* Gotcha 2: Write **type-stable code** (check with `@code_warntype`).\n",
    "* Gotcha 3: Use **views** instead of copies to avoid unnecessary allocations.\n",
    "* Gotcha 4: Use **broadcasting (more dots)** to avoid temporary allocations in vectorized code (or write out loops).\n",
    "* Gotcha 5: **Types should always have concrete fields.** If you don't know them in advance, use type parameters.\n",
    "\n",
    "\n",
    "* Gotcha 6: Be aware of the **scoping rules** in non-Jupyter-notebook environments.\n",
    "* Gotcha 7: Be aware of **column major order** when looping over arrays.\n",
    "* Gotcha 8: Be aware of **lazy operations** like, for example, transpose."
   ]
  }
 ],
 "metadata": {
  "@webio": {
   "lastCommId": null,
   "lastKernelId": null
  },
  "kernelspec": {
   "display_name": "Julia 1.3.1",
   "language": "julia",
   "name": "julia-1.3"
  },
  "language_info": {
   "file_extension": ".jl",
   "mimetype": "application/julia",
   "name": "julia",
   "version": "1.3.1"
  }
 },
 "nbformat": 4,
 "nbformat_minor": 4
}
