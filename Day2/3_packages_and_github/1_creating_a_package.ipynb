{
 "cells": [
  {
   "cell_type": "markdown",
   "metadata": {},
   "source": [
    "# Julia Packages"
   ]
  },
  {
   "cell_type": "markdown",
   "metadata": {},
   "source": [
    "Practically, the minimal structure of a package is:\n",
    "\n",
    "* MyPackage\n",
    " * `Project.toml`\n",
    "     * dependencies + package meta-data\n",
    " * `src/MyPackage.jl`\n",
    "     * source code entry point (contains a module `MyPackage`)\n",
    " * `test/runtests.jl`\n",
    "     * test entry point\n",
    " * `README.md`\n",
    "     * package information, installation instructions, etc."
   ]
  },
  {
   "cell_type": "markdown",
   "metadata": {},
   "source": [
    "## Creating a new Julia package"
   ]
  },
  {
   "cell_type": "markdown",
   "metadata": {},
   "source": [
    "Let's call our package \"Oulu\"."
   ]
  },
  {
   "cell_type": "code",
   "execution_count": 1,
   "metadata": {},
   "outputs": [],
   "source": [
    "using PkgTemplates"
   ]
  },
  {
   "cell_type": "code",
   "execution_count": 2,
   "metadata": {},
   "outputs": [
    {
     "data": {
      "text/plain": [
       "Template:\n",
       "  → User: crstnbr\n",
       "  → Host: github.com\n",
       "  → License: MIT (Carsten Bauer <crstnbr@gmail.com> 2020)\n",
       "  → Package directory: ~\\Desktop\\JuliaOulu2020\\Day2\\3_packages_and_github\\\n",
       "  → Minimum Julia version: v1.0\n",
       "  → SSH remote: No\n",
       "  → Add packages to main environment: Yes\n",
       "  → Commit Manifest.toml: No\n",
       "  → Plugins: None"
      ]
     },
     "execution_count": 2,
     "metadata": {},
     "output_type": "execute_result"
    }
   ],
   "source": [
    "t = Template(dir=\".\")"
   ]
  },
  {
   "cell_type": "code",
   "execution_count": 3,
   "metadata": {
    "scrolled": true
   },
   "outputs": [
    {
     "name": "stdout",
     "output_type": "stream",
     "text": [
      "\u001b[32m\u001b[1mGenerating\u001b[22m\u001b[39m project Oulu:\n",
      "    C:\\Users\\carsten\\Desktop\\JuliaOulu2020\\Day2\\3_packages_and_github\\Oulu\\Project.toml\n",
      "    C:\\Users\\carsten\\Desktop\\JuliaOulu2020\\Day2\\3_packages_and_github\\Oulu\\src/Oulu.jl\n"
     ]
    },
    {
     "name": "stderr",
     "output_type": "stream",
     "text": [
      "┌ Info: Initialized Git repo at C:\\Users\\carsten\\Desktop\\JuliaOulu2020\\Day2\\3_packages_and_github\\Oulu\n",
      "└ @ PkgTemplates C:\\Users\\carsten\\.julia\\packages\\PkgTemplates\\DXe8J\\src\\generate.jl:37\n"
     ]
    },
    {
     "name": "stdout",
     "output_type": "stream",
     "text": [
      "\u001b[32m\u001b[1mActivating\u001b[22m\u001b[39m environment at `C:\\Users\\carsten\\Desktop\\JuliaOulu2020\\Day2\\3_packages_and_github\\Oulu\\Project.toml`\n"
     ]
    },
    {
     "name": "stderr",
     "output_type": "stream",
     "text": [
      "┌ Info: Set remote origin to https://github.com/crstnbr/Oulu.jl\n",
      "└ @ PkgTemplates C:\\Users\\carsten\\.julia\\packages\\PkgTemplates\\DXe8J\\src\\generate.jl:56\n"
     ]
    },
    {
     "name": "stdout",
     "output_type": "stream",
     "text": [
      "\u001b[32m\u001b[1m  Updating\u001b[22m\u001b[39m registry at `C:\\Users\\carsten\\.julia\\registries\\General`\n",
      "\u001b[32m\u001b[1m  Updating\u001b[22m\u001b[39m git-repo `https://github.com/JuliaRegistries/General.git`\n",
      "\u001b[?25l\u001b[2K\u001b[?25h\u001b[32m\u001b[1m Resolving\u001b[22m\u001b[39m package versions...\n",
      "\u001b[32m\u001b[1m  Updating\u001b[22m\u001b[39m `C:\\Users\\carsten\\Desktop\\JuliaOulu2020\\Day2\\3_packages_and_github\\Oulu\\Project.toml`\n",
      " \u001b[90m [8dfed614]\u001b[39m\u001b[92m + Test \u001b[39m\n",
      "\u001b[32m\u001b[1m  Updating\u001b[22m\u001b[39m `C:\\Users\\carsten\\Desktop\\JuliaOulu2020\\Day2\\3_packages_and_github\\Oulu\\Manifest.toml`\n",
      " \u001b[90m [2a0f44e3]\u001b[39m\u001b[92m + Base64 \u001b[39m\n",
      " \u001b[90m [8ba89e20]\u001b[39m\u001b[92m + Distributed \u001b[39m\n",
      " \u001b[90m [b77e0a4c]\u001b[39m\u001b[92m + InteractiveUtils \u001b[39m\n",
      " \u001b[90m [56ddb016]\u001b[39m\u001b[92m + Logging \u001b[39m\n",
      " \u001b[90m [d6f4376e]\u001b[39m\u001b[92m + Markdown \u001b[39m\n",
      " \u001b[90m [9a3f8284]\u001b[39m\u001b[92m + Random \u001b[39m\n",
      " \u001b[90m [9e88b42a]\u001b[39m\u001b[92m + Serialization \u001b[39m\n",
      " \u001b[90m [6462fe0b]\u001b[39m\u001b[92m + Sockets \u001b[39m\n",
      " \u001b[90m [8dfed614]\u001b[39m\u001b[92m + Test \u001b[39m\n",
      "\u001b[32m\u001b[1m  Updating\u001b[22m\u001b[39m registry at `C:\\Users\\carsten\\.julia\\registries\\General`\n",
      "\u001b[32m\u001b[1m  Updating\u001b[22m\u001b[39m git-repo `https://github.com/JuliaRegistries/General.git`\n",
      "\u001b[?25l\u001b[2K\u001b[?25h\u001b[32m\u001b[1m Resolving\u001b[22m\u001b[39m package versions...\n",
      "\u001b[32m\u001b[1m  Updating\u001b[22m\u001b[39m `C:\\Users\\carsten\\Desktop\\JuliaOulu2020\\Day2\\3_packages_and_github\\Oulu\\Project.toml`\n",
      "\u001b[90m [no changes]\u001b[39m\n",
      "\u001b[32m\u001b[1m  Updating\u001b[22m\u001b[39m `C:\\Users\\carsten\\Desktop\\JuliaOulu2020\\Day2\\3_packages_and_github\\Oulu\\Manifest.toml`\n",
      " \u001b[90m [2a0f44e3]\u001b[39m\u001b[91m - Base64 \u001b[39m\n",
      " \u001b[90m [8ba89e20]\u001b[39m\u001b[91m - Distributed \u001b[39m\n",
      " \u001b[90m [b77e0a4c]\u001b[39m\u001b[91m - InteractiveUtils \u001b[39m\n",
      " \u001b[90m [56ddb016]\u001b[39m\u001b[91m - Logging \u001b[39m\n",
      " \u001b[90m [d6f4376e]\u001b[39m\u001b[91m - Markdown \u001b[39m\n",
      " \u001b[90m [9a3f8284]\u001b[39m\u001b[91m - Random \u001b[39m\n",
      " \u001b[90m [9e88b42a]\u001b[39m\u001b[91m - Serialization \u001b[39m\n",
      " \u001b[90m [6462fe0b]\u001b[39m\u001b[91m - Sockets \u001b[39m\n",
      " \u001b[90m [8dfed614]\u001b[39m\u001b[91m - Test \u001b[39m\n",
      "\u001b[32m\u001b[1mActivating\u001b[22m\u001b[39m environment at `C:\\Users\\carsten\\Desktop\\JuliaOulu2020\\Project.toml`\n"
     ]
    },
    {
     "name": "stderr",
     "output_type": "stream",
     "text": [
      "┌ Info: Committed 6 files/directories: src/, Project.toml, test/, README.md, LICENSE, .gitignore\n",
      "└ @ PkgTemplates C:\\Users\\carsten\\.julia\\packages\\PkgTemplates\\DXe8J\\src\\generate.jl:80\n"
     ]
    },
    {
     "name": "stdout",
     "output_type": "stream",
     "text": [
      "\u001b[32m\u001b[1m Resolving\u001b[22m\u001b[39m package versions...\n",
      "\u001b[32m\u001b[1m  Updating\u001b[22m\u001b[39m `C:\\Users\\carsten\\Desktop\\JuliaOulu2020\\Project.toml`\n",
      " \u001b[90m [64834c8e]\u001b[39m\u001b[92m + Oulu v0.1.0 [`C:\\Users\\carsten\\Desktop\\JuliaOulu2020\\Day2\\3_packages_and_github\\Oulu`]\u001b[39m\n",
      "\u001b[32m\u001b[1m  Updating\u001b[22m\u001b[39m `C:\\Users\\carsten\\Desktop\\JuliaOulu2020\\Manifest.toml`\n",
      " \u001b[90m [8f4d0f93]\u001b[39m\u001b[93m ↑ Conda v1.4.0 ⇒ v1.4.1\u001b[39m\n",
      " \u001b[90m [64834c8e]\u001b[39m\u001b[92m + Oulu v0.1.0 [`C:\\Users\\carsten\\Desktop\\JuliaOulu2020\\Day2\\3_packages_and_github\\Oulu`]\u001b[39m\n",
      " \u001b[90m [8f1865be]\u001b[39m\u001b[93m ↑ ZeroMQ_jll v4.3.1+0 ⇒ v4.3.2+0\u001b[39m\n"
     ]
    },
    {
     "name": "stderr",
     "output_type": "stream",
     "text": [
      "┌ Info: New package is at C:\\Users\\carsten\\Desktop\\JuliaOulu2020\\Day2\\3_packages_and_github\\Oulu\n",
      "└ @ PkgTemplates C:\\Users\\carsten\\.julia\\packages\\PkgTemplates\\DXe8J\\src\\generate.jl:93\n"
     ]
    }
   ],
   "source": [
    "generate(\"Oulu\", t)"
   ]
  },
  {
   "cell_type": "markdown",
   "metadata": {},
   "source": [
    "#### Let's open our new package in Juno (Atom) and add some features!"
   ]
  },
  {
   "cell_type": "markdown",
   "metadata": {},
   "source": [
    "Don't forget to `git add .` and `git commit -m \"my features\"` all source code changes."
   ]
  },
  {
   "cell_type": "markdown",
   "metadata": {},
   "source": [
    "### Uploading the package to GitHub"
   ]
  },
  {
   "cell_type": "markdown",
   "metadata": {},
   "source": [
    "1. Create a repository called Oulu.jl (packagename + .jl)\n",
    "2. Open a terminal in the package directory and execute: `git push --set-upstream origin master`\n",
    "\n",
    "You're package is now on GitHub and can be installed by everyone via `] add http://github.com/YourUsername/Oulu.jl`!"
   ]
  }
 ],
 "metadata": {
  "@webio": {
   "lastCommId": null,
   "lastKernelId": null
  },
  "kernelspec": {
   "display_name": "Julia 1.3.1",
   "language": "julia",
   "name": "julia-1.3"
  },
  "language_info": {
   "file_extension": ".jl",
   "mimetype": "application/julia",
   "name": "julia",
   "version": "1.3.1"
  }
 },
 "nbformat": 4,
 "nbformat_minor": 2
}
