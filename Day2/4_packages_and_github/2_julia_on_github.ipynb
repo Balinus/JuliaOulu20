{
 "cells": [
  {
   "cell_type": "markdown",
   "metadata": {},
   "source": [
    "# Julia on GitHub\n",
    "\n",
    "Julia's package system and Github are very closely intertwined:\n",
    "\n",
    "- Julia's [GeneralRegistry](https://github.com/JuliaRegistries/General) is a Github repository\n",
    "- The packages are Git repositories\n",
    "- Julia packages are normally referred to with the ending “.jl”\n",
    "- Typically, the packages can be found on GitHub as well\n",
    "- Julia's error messages are hyperlinks to the page in GitHub (very useful!)\n",
    "\n",
    "Because of this, it's very useful for everyone using Julia to know a little bit about Git/Github."
   ]
  },
  {
   "cell_type": "markdown",
   "metadata": {},
   "source": [
    "## Github Basics\n",
    "\n",
    "- The major online server for git repositories is Github\n",
    "- Github is a free service\n",
    "- Anyone can get a Github account\n",
    "- The code is hosted online, free for everyone to view\n",
    "- Users can open **Issues** to ask for features and give bug reports to developers\n",
    "- Many projects are brought together into **organizations** (JuliaMath, JuliaDiffEq, JuliaStats, etc.) \n",
    "\n",
    "An example Github repository for a Julia package is is DifferentialEquations.jl: https://github.com/JuliaDiffEq/DifferentialEquations.jl"
   ]
  },
  {
   "cell_type": "markdown",
   "metadata": {},
   "source": [
    "## How to install a unregistered package directly from github?"
   ]
  },
  {
   "cell_type": "markdown",
   "metadata": {},
   "source": [
    "Just provide the github URL to Julia's `add`."
   ]
  },
  {
   "cell_type": "code",
   "execution_count": null,
   "metadata": {},
   "outputs": [],
   "source": [
    "] add https://github.com/crstnbr/Useless.jl"
   ]
  },
  {
   "cell_type": "markdown",
   "metadata": {},
   "source": [
    "or"
   ]
  },
  {
   "cell_type": "code",
   "execution_count": null,
   "metadata": {},
   "outputs": [],
   "source": [
    "using Pkg\n",
    "Pkg.add(\"https://github.com/crstnbr/Useless.jl\")"
   ]
  },
  {
   "cell_type": "markdown",
   "metadata": {},
   "source": [
    "## How to checkout the master branch of a registered package? (live on the bleeding edge)"
   ]
  },
  {
   "cell_type": "code",
   "execution_count": null,
   "metadata": {},
   "outputs": [],
   "source": [
    "] add PeriodicTable#master"
   ]
  },
  {
   "cell_type": "markdown",
   "metadata": {},
   "source": [
    "or"
   ]
  },
  {
   "cell_type": "code",
   "execution_count": null,
   "metadata": {},
   "outputs": [],
   "source": [
    "using Pkg\n",
    "Pkg.checkout(\"PeriodicTable\")"
   ]
  },
  {
   "cell_type": "markdown",
   "metadata": {},
   "source": [
    "## Developing Julia Packages\n",
    "- For the visually inclined, here is a video tutorial on basic and advanced github workflow for developing and editing Julia Packages, as well as for setting up Continuous Integration (CI).\n",
    "\n",
    " [Developing Julia Packages](https://www.youtube.com/watch?v=QVmU29rCjaA)"
   ]
  }
 ],
 "metadata": {
  "@webio": {
   "lastCommId": null,
   "lastKernelId": null
  },
  "kernelspec": {
   "display_name": "Julia 1.3.1",
   "language": "julia",
   "name": "julia-1.3"
  },
  "language_info": {
   "file_extension": ".jl",
   "mimetype": "application/julia",
   "name": "julia",
   "version": "1.3.1"
  }
 },
 "nbformat": 4,
 "nbformat_minor": 2
}
