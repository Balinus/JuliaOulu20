{
 "cells": [
  {
   "cell_type": "markdown",
   "metadata": {},
   "source": [
    "# Creating Pull Requests"
   ]
  },
  {
   "cell_type": "markdown",
   "metadata": {},
   "source": [
    "## The simple way: GitHub"
   ]
  },
  {
   "cell_type": "markdown",
   "metadata": {},
   "source": [
    "This approach is useful for small changes."
   ]
  },
  {
   "cell_type": "markdown",
   "metadata": {},
   "source": [
    "Let's all navigate to my package [https://github.com/crstnbr/Oulu.jl](https://github.com/crstnbr/Oulu.jl) and try to create a pull request (PR) via the GitHub website.\n",
    "\n",
    "Specifically, create a PR that adds some text (be creative) to the README.md."
   ]
  },
  {
   "cell_type": "markdown",
   "metadata": {},
   "source": [
    "## The manual way"
   ]
  },
  {
   "cell_type": "markdown",
   "metadata": {},
   "source": [
    "This is the recommended way for more sophisticated (code) changes."
   ]
  },
  {
   "cell_type": "markdown",
   "metadata": {},
   "source": [
    "**Forking**:\n",
    "1. Navigate to the GitHub repository of a Julia package (for example my [Oulu.jl](https://github.com/crstnbr/Oulu.jl))\n",
    "2. Fork the repository by clicking on the Fork icon in the top-right corner.\n",
    "\n",
    "**Cloning**:\n",
    "3. Clone (i.e. download) the forked repository via `git clone <url-to-your-fork>`\n",
    "\n",
    "**Branching**:\n",
    "4. Go to the directory and create a new branch in which you can work on your changes `git checkout -b mychanges`\n",
    "\n",
    "**Changing**:\n",
    "5. Make your changes (then `git add .` and `git commit -m \"mychanges\"`)\n",
    "\n",
    "**Pushing**:\n",
    "6. Push your changes to your fork on GitHub: `git push --set-upstream origin mychanges`\n",
    "\n",
    "**Create the PR**:\n",
    "7. Check your fork on GitHub (for example go to `http://github.com/YourUsername/Oulu.jl`). There should be a notification that you recently committed to a branch. Click on the \"Compare & pull request\" button to create the PR.\n",
    "\n",
    "<img src=\"pr_notification_github.png\">"
   ]
  },
  {
   "cell_type": "markdown",
   "metadata": {},
   "source": [
    "Workflow:\n",
    "\n",
    "<img src=\"pull_request.gif\">"
   ]
  }
 ],
 "metadata": {
  "kernelspec": {
   "display_name": "Julia 1.3.1",
   "language": "julia",
   "name": "julia-1.3"
  },
  "language_info": {
   "file_extension": ".jl",
   "mimetype": "application/julia",
   "name": "julia",
   "version": "1.3.1"
  }
 },
 "nbformat": 4,
 "nbformat_minor": 2
}
